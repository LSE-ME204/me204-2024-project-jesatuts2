{
 "cells": [
  {
   "cell_type": "markdown",
   "metadata": {},
   "source": [
    "# What do I want to end up with?\n",
    "## Tenniest teams (per year + aggregrated)\n",
    "## Top 10 (20?) goats of all time (by average score) (by apparatus?)\n",
    "## Bubble maps x axis year, y axis team, size = no. 10s (colour/pie apparatus if poss?)\n",
    "## Avg score over time (colour by team)"
   ]
  },
  {
   "cell_type": "markdown",
   "metadata": {},
   "source": [
    "# 1 Set up the environment"
   ]
  },
  {
   "cell_type": "code",
   "execution_count": 1,
   "metadata": {},
   "outputs": [
    {
     "name": "stdout",
     "output_type": "stream",
     "text": [
      "Requirement already satisfied: lets-plot==4.3.3 in /Users/jessicahyne/opt/miniconda3/envs/gymternet/lib/python3.12/site-packages (from -r ../requirements.txt (line 1)) (4.3.3)\n",
      "Requirement already satisfied: numerize==0.12 in /Users/jessicahyne/opt/miniconda3/envs/gymternet/lib/python3.12/site-packages (from -r ../requirements.txt (line 2)) (0.12)\n",
      "Requirement already satisfied: numpy<2 in /Users/jessicahyne/opt/miniconda3/envs/gymternet/lib/python3.12/site-packages (from -r ../requirements.txt (line 3)) (1.26.4)\n",
      "Requirement already satisfied: pandas==2.2.2 in /Users/jessicahyne/opt/miniconda3/envs/gymternet/lib/python3.12/site-packages (from -r ../requirements.txt (line 4)) (2.2.2)\n",
      "Requirement already satisfied: requests==2.32.3 in /Users/jessicahyne/opt/miniconda3/envs/gymternet/lib/python3.12/site-packages (from -r ../requirements.txt (line 5)) (2.32.3)\n",
      "Requirement already satisfied: Scrapy==2.11.2 in /Users/jessicahyne/opt/miniconda3/envs/gymternet/lib/python3.12/site-packages (from -r ../requirements.txt (line 6)) (2.11.2)\n",
      "Requirement already satisfied: selenium==4.22.0 in /Users/jessicahyne/opt/miniconda3/envs/gymternet/lib/python3.12/site-packages (from -r ../requirements.txt (line 7)) (4.22.0)\n",
      "Requirement already satisfied: tqdm==4.66.4 in /Users/jessicahyne/opt/miniconda3/envs/gymternet/lib/python3.12/site-packages (from -r ../requirements.txt (line 8)) (4.66.4)\n",
      "Requirement already satisfied: ipywidgets==8.1.3 in /Users/jessicahyne/opt/miniconda3/envs/gymternet/lib/python3.12/site-packages (from -r ../requirements.txt (line 9)) (8.1.3)\n",
      "Requirement already satisfied: jupysql in /Users/jessicahyne/opt/miniconda3/envs/gymternet/lib/python3.12/site-packages (from -r ../requirements.txt (line 10)) (0.10.12)\n",
      "Requirement already satisfied: sqlalchemy in /Users/jessicahyne/opt/miniconda3/envs/gymternet/lib/python3.12/site-packages (from -r ../requirements.txt (line 11)) (2.0.31)\n",
      "Requirement already satisfied: ipython-sql in /Users/jessicahyne/opt/miniconda3/envs/gymternet/lib/python3.12/site-packages (from -r ../requirements.txt (line 12)) (0.5.0)\n",
      "Requirement already satisfied: ipykernel==6.29.5 in /Users/jessicahyne/opt/miniconda3/envs/gymternet/lib/python3.12/site-packages (from -r ../requirements.txt (line 13)) (6.29.5)\n",
      "Requirement already satisfied: ipython==8.26.0 in /Users/jessicahyne/opt/miniconda3/envs/gymternet/lib/python3.12/site-packages (from -r ../requirements.txt (line 14)) (8.26.0)\n",
      "Requirement already satisfied: plotly in /Users/jessicahyne/opt/miniconda3/envs/gymternet/lib/python3.12/site-packages (from -r ../requirements.txt (line 15)) (5.23.0)\n",
      "Requirement already satisfied: nbformat>=4.2.0 in /Users/jessicahyne/opt/miniconda3/envs/gymternet/lib/python3.12/site-packages (from -r ../requirements.txt (line 16)) (5.10.4)\n",
      "Requirement already satisfied: dash==2.17.1 in /Users/jessicahyne/opt/miniconda3/envs/gymternet/lib/python3.12/site-packages (from -r ../requirements.txt (line 17)) (2.17.1)\n",
      "Requirement already satisfied: pypng in /Users/jessicahyne/opt/miniconda3/envs/gymternet/lib/python3.12/site-packages (from lets-plot==4.3.3->-r ../requirements.txt (line 1)) (0.20220715.0)\n",
      "Requirement already satisfied: palettable in /Users/jessicahyne/opt/miniconda3/envs/gymternet/lib/python3.12/site-packages (from lets-plot==4.3.3->-r ../requirements.txt (line 1)) (3.3.3)\n",
      "Requirement already satisfied: python-dateutil>=2.8.2 in /Users/jessicahyne/opt/miniconda3/envs/gymternet/lib/python3.12/site-packages (from pandas==2.2.2->-r ../requirements.txt (line 4)) (2.9.0)\n",
      "Requirement already satisfied: pytz>=2020.1 in /Users/jessicahyne/opt/miniconda3/envs/gymternet/lib/python3.12/site-packages (from pandas==2.2.2->-r ../requirements.txt (line 4)) (2024.1)\n",
      "Requirement already satisfied: tzdata>=2022.7 in /Users/jessicahyne/opt/miniconda3/envs/gymternet/lib/python3.12/site-packages (from pandas==2.2.2->-r ../requirements.txt (line 4)) (2024.1)\n",
      "Requirement already satisfied: charset-normalizer<4,>=2 in /Users/jessicahyne/opt/miniconda3/envs/gymternet/lib/python3.12/site-packages (from requests==2.32.3->-r ../requirements.txt (line 5)) (3.3.2)\n",
      "Requirement already satisfied: idna<4,>=2.5 in /Users/jessicahyne/opt/miniconda3/envs/gymternet/lib/python3.12/site-packages (from requests==2.32.3->-r ../requirements.txt (line 5)) (3.7)\n",
      "Requirement already satisfied: urllib3<3,>=1.21.1 in /Users/jessicahyne/opt/miniconda3/envs/gymternet/lib/python3.12/site-packages (from requests==2.32.3->-r ../requirements.txt (line 5)) (2.2.2)\n",
      "Requirement already satisfied: certifi>=2017.4.17 in /Users/jessicahyne/opt/miniconda3/envs/gymternet/lib/python3.12/site-packages (from requests==2.32.3->-r ../requirements.txt (line 5)) (2024.7.4)\n",
      "Requirement already satisfied: Twisted>=18.9.0 in /Users/jessicahyne/opt/miniconda3/envs/gymternet/lib/python3.12/site-packages (from Scrapy==2.11.2->-r ../requirements.txt (line 6)) (24.3.0)\n",
      "Requirement already satisfied: cryptography>=36.0.0 in /Users/jessicahyne/opt/miniconda3/envs/gymternet/lib/python3.12/site-packages (from Scrapy==2.11.2->-r ../requirements.txt (line 6)) (43.0.0)\n",
      "Requirement already satisfied: cssselect>=0.9.1 in /Users/jessicahyne/opt/miniconda3/envs/gymternet/lib/python3.12/site-packages (from Scrapy==2.11.2->-r ../requirements.txt (line 6)) (1.2.0)\n",
      "Requirement already satisfied: itemloaders>=1.0.1 in /Users/jessicahyne/opt/miniconda3/envs/gymternet/lib/python3.12/site-packages (from Scrapy==2.11.2->-r ../requirements.txt (line 6)) (1.3.1)\n",
      "Requirement already satisfied: parsel>=1.5.0 in /Users/jessicahyne/opt/miniconda3/envs/gymternet/lib/python3.12/site-packages (from Scrapy==2.11.2->-r ../requirements.txt (line 6)) (1.9.1)\n",
      "Requirement already satisfied: pyOpenSSL>=21.0.0 in /Users/jessicahyne/opt/miniconda3/envs/gymternet/lib/python3.12/site-packages (from Scrapy==2.11.2->-r ../requirements.txt (line 6)) (24.2.1)\n",
      "Requirement already satisfied: queuelib>=1.4.2 in /Users/jessicahyne/opt/miniconda3/envs/gymternet/lib/python3.12/site-packages (from Scrapy==2.11.2->-r ../requirements.txt (line 6)) (1.7.0)\n",
      "Requirement already satisfied: service-identity>=18.1.0 in /Users/jessicahyne/opt/miniconda3/envs/gymternet/lib/python3.12/site-packages (from Scrapy==2.11.2->-r ../requirements.txt (line 6)) (24.1.0)\n",
      "Requirement already satisfied: w3lib>=1.17.0 in /Users/jessicahyne/opt/miniconda3/envs/gymternet/lib/python3.12/site-packages (from Scrapy==2.11.2->-r ../requirements.txt (line 6)) (2.2.1)\n",
      "Requirement already satisfied: zope.interface>=5.1.0 in /Users/jessicahyne/opt/miniconda3/envs/gymternet/lib/python3.12/site-packages (from Scrapy==2.11.2->-r ../requirements.txt (line 6)) (6.4.post2)\n",
      "Requirement already satisfied: protego>=0.1.15 in /Users/jessicahyne/opt/miniconda3/envs/gymternet/lib/python3.12/site-packages (from Scrapy==2.11.2->-r ../requirements.txt (line 6)) (0.3.1)\n",
      "Requirement already satisfied: itemadapter>=0.1.0 in /Users/jessicahyne/opt/miniconda3/envs/gymternet/lib/python3.12/site-packages (from Scrapy==2.11.2->-r ../requirements.txt (line 6)) (0.9.0)\n",
      "Requirement already satisfied: setuptools in /Users/jessicahyne/opt/miniconda3/envs/gymternet/lib/python3.12/site-packages (from Scrapy==2.11.2->-r ../requirements.txt (line 6)) (71.0.4)\n",
      "Requirement already satisfied: packaging in /Users/jessicahyne/opt/miniconda3/envs/gymternet/lib/python3.12/site-packages (from Scrapy==2.11.2->-r ../requirements.txt (line 6)) (24.1)\n",
      "Requirement already satisfied: tldextract in /Users/jessicahyne/opt/miniconda3/envs/gymternet/lib/python3.12/site-packages (from Scrapy==2.11.2->-r ../requirements.txt (line 6)) (5.1.2)\n",
      "Requirement already satisfied: lxml>=4.4.1 in /Users/jessicahyne/opt/miniconda3/envs/gymternet/lib/python3.12/site-packages (from Scrapy==2.11.2->-r ../requirements.txt (line 6)) (5.2.2)\n",
      "Requirement already satisfied: defusedxml>=0.7.1 in /Users/jessicahyne/opt/miniconda3/envs/gymternet/lib/python3.12/site-packages (from Scrapy==2.11.2->-r ../requirements.txt (line 6)) (0.7.1)\n",
      "Requirement already satisfied: PyDispatcher>=2.0.5 in /Users/jessicahyne/opt/miniconda3/envs/gymternet/lib/python3.12/site-packages (from Scrapy==2.11.2->-r ../requirements.txt (line 6)) (2.0.7)\n",
      "Requirement already satisfied: trio~=0.17 in /Users/jessicahyne/opt/miniconda3/envs/gymternet/lib/python3.12/site-packages (from selenium==4.22.0->-r ../requirements.txt (line 7)) (0.26.0)\n",
      "Requirement already satisfied: trio-websocket~=0.9 in /Users/jessicahyne/opt/miniconda3/envs/gymternet/lib/python3.12/site-packages (from selenium==4.22.0->-r ../requirements.txt (line 7)) (0.11.1)\n",
      "Requirement already satisfied: typing_extensions>=4.9.0 in /Users/jessicahyne/opt/miniconda3/envs/gymternet/lib/python3.12/site-packages (from selenium==4.22.0->-r ../requirements.txt (line 7)) (4.12.2)\n",
      "Requirement already satisfied: websocket-client>=1.8.0 in /Users/jessicahyne/opt/miniconda3/envs/gymternet/lib/python3.12/site-packages (from selenium==4.22.0->-r ../requirements.txt (line 7)) (1.8.0)\n",
      "Requirement already satisfied: comm>=0.1.3 in /Users/jessicahyne/opt/miniconda3/envs/gymternet/lib/python3.12/site-packages (from ipywidgets==8.1.3->-r ../requirements.txt (line 9)) (0.2.2)\n",
      "Requirement already satisfied: traitlets>=4.3.1 in /Users/jessicahyne/opt/miniconda3/envs/gymternet/lib/python3.12/site-packages (from ipywidgets==8.1.3->-r ../requirements.txt (line 9)) (5.14.3)\n",
      "Requirement already satisfied: widgetsnbextension~=4.0.11 in /Users/jessicahyne/opt/miniconda3/envs/gymternet/lib/python3.12/site-packages (from ipywidgets==8.1.3->-r ../requirements.txt (line 9)) (4.0.11)\n",
      "Requirement already satisfied: jupyterlab-widgets~=3.0.11 in /Users/jessicahyne/opt/miniconda3/envs/gymternet/lib/python3.12/site-packages (from ipywidgets==8.1.3->-r ../requirements.txt (line 9)) (3.0.11)\n",
      "Requirement already satisfied: appnope in /Users/jessicahyne/opt/miniconda3/envs/gymternet/lib/python3.12/site-packages (from ipykernel==6.29.5->-r ../requirements.txt (line 13)) (0.1.4)\n",
      "Requirement already satisfied: debugpy>=1.6.5 in /Users/jessicahyne/opt/miniconda3/envs/gymternet/lib/python3.12/site-packages (from ipykernel==6.29.5->-r ../requirements.txt (line 13)) (1.8.2)\n",
      "Requirement already satisfied: jupyter-client>=6.1.12 in /Users/jessicahyne/opt/miniconda3/envs/gymternet/lib/python3.12/site-packages (from ipykernel==6.29.5->-r ../requirements.txt (line 13)) (8.6.2)\n",
      "Requirement already satisfied: jupyter-core!=5.0.*,>=4.12 in /Users/jessicahyne/opt/miniconda3/envs/gymternet/lib/python3.12/site-packages (from ipykernel==6.29.5->-r ../requirements.txt (line 13)) (5.7.2)\n",
      "Requirement already satisfied: matplotlib-inline>=0.1 in /Users/jessicahyne/opt/miniconda3/envs/gymternet/lib/python3.12/site-packages (from ipykernel==6.29.5->-r ../requirements.txt (line 13)) (0.1.7)\n",
      "Requirement already satisfied: nest-asyncio in /Users/jessicahyne/opt/miniconda3/envs/gymternet/lib/python3.12/site-packages (from ipykernel==6.29.5->-r ../requirements.txt (line 13)) (1.6.0)\n",
      "Requirement already satisfied: psutil in /Users/jessicahyne/opt/miniconda3/envs/gymternet/lib/python3.12/site-packages (from ipykernel==6.29.5->-r ../requirements.txt (line 13)) (6.0.0)\n",
      "Requirement already satisfied: pyzmq>=24 in /Users/jessicahyne/opt/miniconda3/envs/gymternet/lib/python3.12/site-packages (from ipykernel==6.29.5->-r ../requirements.txt (line 13)) (26.0.3)\n",
      "Requirement already satisfied: tornado>=6.1 in /Users/jessicahyne/opt/miniconda3/envs/gymternet/lib/python3.12/site-packages (from ipykernel==6.29.5->-r ../requirements.txt (line 13)) (6.4.1)\n",
      "Requirement already satisfied: decorator in /Users/jessicahyne/opt/miniconda3/envs/gymternet/lib/python3.12/site-packages (from ipython==8.26.0->-r ../requirements.txt (line 14)) (5.1.1)\n",
      "Requirement already satisfied: jedi>=0.16 in /Users/jessicahyne/opt/miniconda3/envs/gymternet/lib/python3.12/site-packages (from ipython==8.26.0->-r ../requirements.txt (line 14)) (0.19.1)\n",
      "Requirement already satisfied: prompt-toolkit<3.1.0,>=3.0.41 in /Users/jessicahyne/opt/miniconda3/envs/gymternet/lib/python3.12/site-packages (from ipython==8.26.0->-r ../requirements.txt (line 14)) (3.0.47)\n",
      "Requirement already satisfied: pygments>=2.4.0 in /Users/jessicahyne/opt/miniconda3/envs/gymternet/lib/python3.12/site-packages (from ipython==8.26.0->-r ../requirements.txt (line 14)) (2.18.0)\n",
      "Requirement already satisfied: stack-data in /Users/jessicahyne/opt/miniconda3/envs/gymternet/lib/python3.12/site-packages (from ipython==8.26.0->-r ../requirements.txt (line 14)) (0.6.2)\n",
      "Requirement already satisfied: pexpect>4.3 in /Users/jessicahyne/opt/miniconda3/envs/gymternet/lib/python3.12/site-packages (from ipython==8.26.0->-r ../requirements.txt (line 14)) (4.9.0)\n",
      "Requirement already satisfied: Flask<3.1,>=1.0.4 in /Users/jessicahyne/opt/miniconda3/envs/gymternet/lib/python3.12/site-packages (from dash==2.17.1->-r ../requirements.txt (line 17)) (3.0.3)\n",
      "Requirement already satisfied: Werkzeug<3.1 in /Users/jessicahyne/opt/miniconda3/envs/gymternet/lib/python3.12/site-packages (from dash==2.17.1->-r ../requirements.txt (line 17)) (3.0.3)\n",
      "Requirement already satisfied: dash-html-components==2.0.0 in /Users/jessicahyne/opt/miniconda3/envs/gymternet/lib/python3.12/site-packages (from dash==2.17.1->-r ../requirements.txt (line 17)) (2.0.0)\n",
      "Requirement already satisfied: dash-core-components==2.0.0 in /Users/jessicahyne/opt/miniconda3/envs/gymternet/lib/python3.12/site-packages (from dash==2.17.1->-r ../requirements.txt (line 17)) (2.0.0)\n",
      "Requirement already satisfied: dash-table==5.0.0 in /Users/jessicahyne/opt/miniconda3/envs/gymternet/lib/python3.12/site-packages (from dash==2.17.1->-r ../requirements.txt (line 17)) (5.0.0)\n",
      "Requirement already satisfied: importlib-metadata in /Users/jessicahyne/opt/miniconda3/envs/gymternet/lib/python3.12/site-packages (from dash==2.17.1->-r ../requirements.txt (line 17)) (8.2.0)\n",
      "Requirement already satisfied: retrying in /Users/jessicahyne/opt/miniconda3/envs/gymternet/lib/python3.12/site-packages (from dash==2.17.1->-r ../requirements.txt (line 17)) (1.3.4)\n",
      "Requirement already satisfied: prettytable in /Users/jessicahyne/opt/miniconda3/envs/gymternet/lib/python3.12/site-packages (from jupysql->-r ../requirements.txt (line 10)) (3.10.2)\n",
      "Requirement already satisfied: sqlparse in /Users/jessicahyne/opt/miniconda3/envs/gymternet/lib/python3.12/site-packages (from jupysql->-r ../requirements.txt (line 10)) (0.5.1)\n",
      "Requirement already satisfied: ipython-genutils>=0.1.0 in /Users/jessicahyne/opt/miniconda3/envs/gymternet/lib/python3.12/site-packages (from jupysql->-r ../requirements.txt (line 10)) (0.2.0)\n",
      "Requirement already satisfied: jinja2 in /Users/jessicahyne/opt/miniconda3/envs/gymternet/lib/python3.12/site-packages (from jupysql->-r ../requirements.txt (line 10)) (3.1.4)\n",
      "Requirement already satisfied: sqlglot>=11.3.7 in /Users/jessicahyne/opt/miniconda3/envs/gymternet/lib/python3.12/site-packages (from jupysql->-r ../requirements.txt (line 10)) (25.7.1)\n",
      "Requirement already satisfied: jupysql-plugin>=0.4.2 in /Users/jessicahyne/opt/miniconda3/envs/gymternet/lib/python3.12/site-packages (from jupysql->-r ../requirements.txt (line 10)) (0.4.4)\n",
      "Requirement already satisfied: ploomber-core>=0.2.7 in /Users/jessicahyne/opt/miniconda3/envs/gymternet/lib/python3.12/site-packages (from jupysql->-r ../requirements.txt (line 10)) (0.2.25)\n",
      "Requirement already satisfied: ploomber-extension in /Users/jessicahyne/opt/miniconda3/envs/gymternet/lib/python3.12/site-packages (from jupysql->-r ../requirements.txt (line 10)) (0.1.1)\n",
      "Requirement already satisfied: greenlet!=0.4.17 in /Users/jessicahyne/opt/miniconda3/envs/gymternet/lib/python3.12/site-packages (from sqlalchemy->-r ../requirements.txt (line 11)) (3.0.3)\n",
      "Requirement already satisfied: six in /Users/jessicahyne/opt/miniconda3/envs/gymternet/lib/python3.12/site-packages (from ipython-sql->-r ../requirements.txt (line 12)) (1.16.0)\n",
      "Requirement already satisfied: tenacity>=6.2.0 in /Users/jessicahyne/opt/miniconda3/envs/gymternet/lib/python3.12/site-packages (from plotly->-r ../requirements.txt (line 15)) (8.5.0)\n",
      "Requirement already satisfied: fastjsonschema>=2.15 in /Users/jessicahyne/opt/miniconda3/envs/gymternet/lib/python3.12/site-packages (from nbformat>=4.2.0->-r ../requirements.txt (line 16)) (2.20.0)\n",
      "Requirement already satisfied: jsonschema>=2.6 in /Users/jessicahyne/opt/miniconda3/envs/gymternet/lib/python3.12/site-packages (from nbformat>=4.2.0->-r ../requirements.txt (line 16)) (4.23.0)\n",
      "Requirement already satisfied: cffi>=1.12 in /Users/jessicahyne/opt/miniconda3/envs/gymternet/lib/python3.12/site-packages (from cryptography>=36.0.0->Scrapy==2.11.2->-r ../requirements.txt (line 6)) (1.16.0)\n",
      "Requirement already satisfied: itsdangerous>=2.1.2 in /Users/jessicahyne/opt/miniconda3/envs/gymternet/lib/python3.12/site-packages (from Flask<3.1,>=1.0.4->dash==2.17.1->-r ../requirements.txt (line 17)) (2.2.0)\n",
      "Requirement already satisfied: click>=8.1.3 in /Users/jessicahyne/opt/miniconda3/envs/gymternet/lib/python3.12/site-packages (from Flask<3.1,>=1.0.4->dash==2.17.1->-r ../requirements.txt (line 17)) (8.1.7)\n",
      "Requirement already satisfied: blinker>=1.6.2 in /Users/jessicahyne/opt/miniconda3/envs/gymternet/lib/python3.12/site-packages (from Flask<3.1,>=1.0.4->dash==2.17.1->-r ../requirements.txt (line 17)) (1.8.2)\n",
      "Requirement already satisfied: jmespath>=0.9.5 in /Users/jessicahyne/opt/miniconda3/envs/gymternet/lib/python3.12/site-packages (from itemloaders>=1.0.1->Scrapy==2.11.2->-r ../requirements.txt (line 6)) (1.0.1)\n",
      "Requirement already satisfied: parso<0.9.0,>=0.8.3 in /Users/jessicahyne/opt/miniconda3/envs/gymternet/lib/python3.12/site-packages (from jedi>=0.16->ipython==8.26.0->-r ../requirements.txt (line 14)) (0.8.4)\n",
      "Requirement already satisfied: MarkupSafe>=2.0 in /Users/jessicahyne/opt/miniconda3/envs/gymternet/lib/python3.12/site-packages (from jinja2->jupysql->-r ../requirements.txt (line 10)) (2.1.5)\n",
      "Requirement already satisfied: attrs>=22.2.0 in /Users/jessicahyne/opt/miniconda3/envs/gymternet/lib/python3.12/site-packages (from jsonschema>=2.6->nbformat>=4.2.0->-r ../requirements.txt (line 16)) (23.2.0)\n",
      "Requirement already satisfied: jsonschema-specifications>=2023.03.6 in /Users/jessicahyne/opt/miniconda3/envs/gymternet/lib/python3.12/site-packages (from jsonschema>=2.6->nbformat>=4.2.0->-r ../requirements.txt (line 16)) (2023.12.1)\n",
      "Requirement already satisfied: referencing>=0.28.4 in /Users/jessicahyne/opt/miniconda3/envs/gymternet/lib/python3.12/site-packages (from jsonschema>=2.6->nbformat>=4.2.0->-r ../requirements.txt (line 16)) (0.35.1)\n",
      "Requirement already satisfied: rpds-py>=0.7.1 in /Users/jessicahyne/opt/miniconda3/envs/gymternet/lib/python3.12/site-packages (from jsonschema>=2.6->nbformat>=4.2.0->-r ../requirements.txt (line 16)) (0.19.1)\n",
      "Requirement already satisfied: platformdirs>=2.5 in /Users/jessicahyne/opt/miniconda3/envs/gymternet/lib/python3.12/site-packages (from jupyter-core!=5.0.*,>=4.12->ipykernel==6.29.5->-r ../requirements.txt (line 13)) (4.2.2)\n",
      "Requirement already satisfied: ptyprocess>=0.5 in /Users/jessicahyne/opt/miniconda3/envs/gymternet/lib/python3.12/site-packages (from pexpect>4.3->ipython==8.26.0->-r ../requirements.txt (line 14)) (0.7.0)\n",
      "Requirement already satisfied: pyyaml in /Users/jessicahyne/opt/miniconda3/envs/gymternet/lib/python3.12/site-packages (from ploomber-core>=0.2.7->jupysql->-r ../requirements.txt (line 10)) (6.0.1)\n",
      "Requirement already satisfied: posthog in /Users/jessicahyne/opt/miniconda3/envs/gymternet/lib/python3.12/site-packages (from ploomber-core>=0.2.7->jupysql->-r ../requirements.txt (line 10)) (3.5.0)\n",
      "Requirement already satisfied: wcwidth in /Users/jessicahyne/opt/miniconda3/envs/gymternet/lib/python3.12/site-packages (from prompt-toolkit<3.1.0,>=3.0.41->ipython==8.26.0->-r ../requirements.txt (line 14)) (0.2.13)\n",
      "Requirement already satisfied: pyasn1 in /Users/jessicahyne/opt/miniconda3/envs/gymternet/lib/python3.12/site-packages (from service-identity>=18.1.0->Scrapy==2.11.2->-r ../requirements.txt (line 6)) (0.6.0)\n",
      "Requirement already satisfied: pyasn1-modules in /Users/jessicahyne/opt/miniconda3/envs/gymternet/lib/python3.12/site-packages (from service-identity>=18.1.0->Scrapy==2.11.2->-r ../requirements.txt (line 6)) (0.4.0)\n",
      "Requirement already satisfied: sortedcontainers in /Users/jessicahyne/opt/miniconda3/envs/gymternet/lib/python3.12/site-packages (from trio~=0.17->selenium==4.22.0->-r ../requirements.txt (line 7)) (2.4.0)\n",
      "Requirement already satisfied: outcome in /Users/jessicahyne/opt/miniconda3/envs/gymternet/lib/python3.12/site-packages (from trio~=0.17->selenium==4.22.0->-r ../requirements.txt (line 7)) (1.3.0.post0)\n",
      "Requirement already satisfied: sniffio>=1.3.0 in /Users/jessicahyne/opt/miniconda3/envs/gymternet/lib/python3.12/site-packages (from trio~=0.17->selenium==4.22.0->-r ../requirements.txt (line 7)) (1.3.1)\n",
      "Requirement already satisfied: wsproto>=0.14 in /Users/jessicahyne/opt/miniconda3/envs/gymternet/lib/python3.12/site-packages (from trio-websocket~=0.9->selenium==4.22.0->-r ../requirements.txt (line 7)) (1.2.0)\n",
      "Requirement already satisfied: automat>=0.8.0 in /Users/jessicahyne/opt/miniconda3/envs/gymternet/lib/python3.12/site-packages (from Twisted>=18.9.0->Scrapy==2.11.2->-r ../requirements.txt (line 6)) (22.10.0)\n",
      "Requirement already satisfied: constantly>=15.1 in /Users/jessicahyne/opt/miniconda3/envs/gymternet/lib/python3.12/site-packages (from Twisted>=18.9.0->Scrapy==2.11.2->-r ../requirements.txt (line 6)) (23.10.4)\n",
      "Requirement already satisfied: hyperlink>=17.1.1 in /Users/jessicahyne/opt/miniconda3/envs/gymternet/lib/python3.12/site-packages (from Twisted>=18.9.0->Scrapy==2.11.2->-r ../requirements.txt (line 6)) (21.0.0)\n",
      "Requirement already satisfied: incremental>=22.10.0 in /Users/jessicahyne/opt/miniconda3/envs/gymternet/lib/python3.12/site-packages (from Twisted>=18.9.0->Scrapy==2.11.2->-r ../requirements.txt (line 6)) (24.7.0)\n",
      "Requirement already satisfied: pysocks!=1.5.7,<2.0,>=1.5.6 in /Users/jessicahyne/opt/miniconda3/envs/gymternet/lib/python3.12/site-packages (from urllib3[socks]<3,>=1.26->selenium==4.22.0->-r ../requirements.txt (line 7)) (1.7.1)\n",
      "Requirement already satisfied: zipp>=0.5 in /Users/jessicahyne/opt/miniconda3/envs/gymternet/lib/python3.12/site-packages (from importlib-metadata->dash==2.17.1->-r ../requirements.txt (line 17)) (3.19.2)\n",
      "Requirement already satisfied: executing>=1.2.0 in /Users/jessicahyne/opt/miniconda3/envs/gymternet/lib/python3.12/site-packages (from stack-data->ipython==8.26.0->-r ../requirements.txt (line 14)) (2.0.1)\n",
      "Requirement already satisfied: asttokens>=2.1.0 in /Users/jessicahyne/opt/miniconda3/envs/gymternet/lib/python3.12/site-packages (from stack-data->ipython==8.26.0->-r ../requirements.txt (line 14)) (2.4.1)\n",
      "Requirement already satisfied: pure-eval in /Users/jessicahyne/opt/miniconda3/envs/gymternet/lib/python3.12/site-packages (from stack-data->ipython==8.26.0->-r ../requirements.txt (line 14)) (0.2.3)\n",
      "Requirement already satisfied: requests-file>=1.4 in /Users/jessicahyne/opt/miniconda3/envs/gymternet/lib/python3.12/site-packages (from tldextract->Scrapy==2.11.2->-r ../requirements.txt (line 6)) (2.1.0)\n",
      "Requirement already satisfied: filelock>=3.0.8 in /Users/jessicahyne/opt/miniconda3/envs/gymternet/lib/python3.12/site-packages (from tldextract->Scrapy==2.11.2->-r ../requirements.txt (line 6)) (3.15.4)\n",
      "Requirement already satisfied: pycparser in /Users/jessicahyne/opt/miniconda3/envs/gymternet/lib/python3.12/site-packages (from cffi>=1.12->cryptography>=36.0.0->Scrapy==2.11.2->-r ../requirements.txt (line 6)) (2.22)\n",
      "Requirement already satisfied: h11<1,>=0.9.0 in /Users/jessicahyne/opt/miniconda3/envs/gymternet/lib/python3.12/site-packages (from wsproto>=0.14->trio-websocket~=0.9->selenium==4.22.0->-r ../requirements.txt (line 7)) (0.14.0)\n",
      "Requirement already satisfied: monotonic>=1.5 in /Users/jessicahyne/opt/miniconda3/envs/gymternet/lib/python3.12/site-packages (from posthog->ploomber-core>=0.2.7->jupysql->-r ../requirements.txt (line 10)) (1.6)\n",
      "Requirement already satisfied: backoff>=1.10.0 in /Users/jessicahyne/opt/miniconda3/envs/gymternet/lib/python3.12/site-packages (from posthog->ploomber-core>=0.2.7->jupysql->-r ../requirements.txt (line 10)) (2.2.1)\n"
     ]
    }
   ],
   "source": [
    "!pip install -r ../requirements.txt"
   ]
  },
  {
   "cell_type": "code",
   "execution_count": 2,
   "metadata": {},
   "outputs": [
    {
     "data": {
      "text/html": [
       "\n",
       "            <div id=\"GvBCdC\"></div>\n",
       "            <script type=\"text/javascript\" data-lets-plot-script=\"library\">\n",
       "                if(!window.letsPlotCallQueue) {\n",
       "                    window.letsPlotCallQueue = [];\n",
       "                }; \n",
       "                window.letsPlotCall = function(f) {\n",
       "                    window.letsPlotCallQueue.push(f);\n",
       "                };\n",
       "                (function() {\n",
       "                    var script = document.createElement(\"script\");\n",
       "                    script.type = \"text/javascript\";\n",
       "                    script.src = \"https://cdn.jsdelivr.net/gh/JetBrains/lets-plot@v4.3.3/js-package/distr/lets-plot.min.js\";\n",
       "                    script.onload = function() {\n",
       "                        window.letsPlotCall = function(f) {f();};\n",
       "                        window.letsPlotCallQueue.forEach(function(f) {f();});\n",
       "                        window.letsPlotCallQueue = [];\n",
       "                        \n",
       "                    };\n",
       "                    script.onerror = function(event) {\n",
       "                        window.letsPlotCall = function(f) {};    // noop\n",
       "                        window.letsPlotCallQueue = [];\n",
       "                        var div = document.createElement(\"div\");\n",
       "                        div.style.color = 'darkred';\n",
       "                        div.textContent = 'Error loading Lets-Plot JS';\n",
       "                        document.getElementById(\"GvBCdC\").appendChild(div);\n",
       "                    };\n",
       "                    var e = document.getElementById(\"GvBCdC\");\n",
       "                    e.appendChild(script);\n",
       "                })()\n",
       "            </script>\n",
       "            "
      ]
     },
     "metadata": {},
     "output_type": "display_data"
    }
   ],
   "source": [
    "import os\n",
    "import json\n",
    "import requests\n",
    "import sqlite3\n",
    "from tqdm.notebook import tqdm, trange\n",
    "tqdm.pandas()\n",
    "import numpy as np\n",
    "import pandas as pd \n",
    "from sqlalchemy import create_engine\n",
    "from lets_plot import * # This imports all of ggplot2's functions\n",
    "LetsPlot.setup_html()\n",
    "import plotly.express as px\n",
    "import dash\n",
    "from dash import dcc, html\n",
    "from dash.dependencies import Input, Output\n",
    "\n",
    "\n",
    "%load_ext sql\n",
    "%config SqlMagic.autocommit=True\n",
    "\n",
    "from pprint import pprint"
   ]
  },
  {
   "cell_type": "markdown",
   "metadata": {},
   "source": [
    "## 1.1 Connect to the gymternet database"
   ]
  },
  {
   "cell_type": "code",
   "execution_count": 3,
   "metadata": {
    "vscode": {
     "languageId": "sql"
    }
   },
   "outputs": [
    {
     "data": {
      "text/html": [
       "<span style=\"None\">Connecting to &#x27;gymternet&#x27;</span>"
      ],
      "text/plain": [
       "Connecting to 'gymternet'"
      ]
     },
     "metadata": {},
     "output_type": "display_data"
    }
   ],
   "source": [
    "%sql sqlite:///../data/clean/gymternet.db --alias gymternet \n",
    "engine = create_engine('sqlite:///../data/clean/gymternet.db')"
   ]
  },
  {
   "cell_type": "markdown",
   "metadata": {},
   "source": [
    "# 2 Exploratory data analysis\n",
    "\n",
    "## 2.1 The tenniest apparatus\n",
    "Which apparatus (vault, uneven bars, balance beam or floor exercise) attract the most 10s from the judges? Has it changed over time?\n",
    "\n",
    "Intuitively, one would assume that vault would attract the fewest deductions; gymnasts are only performing one skill, so there are fewer opportunities to make mistakes.\n",
    "\n",
    "However, my anecdotal observation as a watcher of college gymnastics is that the judges in this competition are fairly lenient; hesitancy on beam or short handstands on bars might not incur the deduction they would in other leagues. However, they are quite strict on landings - that is, if a gymnast doesn't perfectly stick their landing, they will incur a deduction. Given vault's landing difficulty, does this even out the advantage of having to perform fewer skills?\n",
    "\n",
    "### 2.1.1 Retrieve the data from the database"
   ]
  },
  {
   "cell_type": "code",
   "execution_count": 4,
   "metadata": {
    "vscode": {
     "languageId": "sql"
    }
   },
   "outputs": [
    {
     "data": {
      "text/html": [
       "<table>\n",
       "    <thead>\n",
       "        <tr>\n",
       "            <th>Vault</th>\n",
       "            <th>Uneven Bars</th>\n",
       "            <th>Balance Beam</th>\n",
       "            <th>Floor Exercise</th>\n",
       "            <th>Season</th>\n",
       "        </tr>\n",
       "    </thead>\n",
       "    <tbody>\n",
       "        <tr>\n",
       "            <td>34</td>\n",
       "            <td>32</td>\n",
       "            <td>2</td>\n",
       "            <td>7</td>\n",
       "            <td>2015</td>\n",
       "        </tr>\n",
       "        <tr>\n",
       "            <td>12</td>\n",
       "            <td>8</td>\n",
       "            <td>16</td>\n",
       "            <td>28</td>\n",
       "            <td>2016</td>\n",
       "        </tr>\n",
       "        <tr>\n",
       "            <td>22</td>\n",
       "            <td>26</td>\n",
       "            <td>35</td>\n",
       "            <td>16</td>\n",
       "            <td>2017</td>\n",
       "        </tr>\n",
       "        <tr>\n",
       "            <td>10</td>\n",
       "            <td>51</td>\n",
       "            <td>53</td>\n",
       "            <td>24</td>\n",
       "            <td>2018</td>\n",
       "        </tr>\n",
       "        <tr>\n",
       "            <td>31</td>\n",
       "            <td>38</td>\n",
       "            <td>8</td>\n",
       "            <td>56</td>\n",
       "            <td>2019</td>\n",
       "        </tr>\n",
       "        <tr>\n",
       "            <td>28</td>\n",
       "            <td>10</td>\n",
       "            <td>32</td>\n",
       "            <td>4</td>\n",
       "            <td>2020</td>\n",
       "        </tr>\n",
       "        <tr>\n",
       "            <td>50</td>\n",
       "            <td>44</td>\n",
       "            <td>20</td>\n",
       "            <td>21</td>\n",
       "            <td>2021</td>\n",
       "        </tr>\n",
       "        <tr>\n",
       "            <td>59</td>\n",
       "            <td>46</td>\n",
       "            <td>38</td>\n",
       "            <td>77</td>\n",
       "            <td>2022</td>\n",
       "        </tr>\n",
       "        <tr>\n",
       "            <td>88</td>\n",
       "            <td>81</td>\n",
       "            <td>126</td>\n",
       "            <td>64</td>\n",
       "            <td>2023</td>\n",
       "        </tr>\n",
       "        <tr>\n",
       "            <td>45</td>\n",
       "            <td>56</td>\n",
       "            <td>69</td>\n",
       "            <td>103</td>\n",
       "            <td>2024</td>\n",
       "        </tr>\n",
       "    </tbody>\n",
       "</table>\n",
       "<span style=\"font-style:italic;text-align:center;\">Truncated to <a href=\"https://jupysql.ploomber.io/en/latest/api/configuration.html#displaylimit\">displaylimit</a> of 10.</span>"
      ],
      "text/plain": [
       "+-------+-------------+--------------+----------------+--------+\n",
       "| Vault | Uneven Bars | Balance Beam | Floor Exercise | Season |\n",
       "+-------+-------------+--------------+----------------+--------+\n",
       "|   34  |      32     |      2       |       7        |  2015  |\n",
       "|   12  |      8      |      16      |       28       |  2016  |\n",
       "|   22  |      26     |      35      |       16       |  2017  |\n",
       "|   10  |      51     |      53      |       24       |  2018  |\n",
       "|   31  |      38     |      8       |       56       |  2019  |\n",
       "|   28  |      10     |      32      |       4        |  2020  |\n",
       "|   50  |      44     |      20      |       21       |  2021  |\n",
       "|   59  |      46     |      38      |       77       |  2022  |\n",
       "|   88  |      81     |     126      |       64       |  2023  |\n",
       "|   45  |      56     |      69      |      103       |  2024  |\n",
       "+-------+-------------+--------------+----------------+--------+\n",
       "Truncated to displaylimit of 10."
      ]
     },
     "execution_count": 4,
     "metadata": {},
     "output_type": "execute_result"
    }
   ],
   "source": [
    "%%sql gymternet\n",
    "\n",
    "-- LEFT JOIN with aggregated row at the bottom\n",
    "SELECT \n",
    "    SUM(r.vt_score = 10.0) AS 'Vault',\n",
    "    SUM(r.ub_score = 10.0) AS 'Uneven Bars',\n",
    "    SUM(r.bb_score = 10.0) AS 'Balance Beam',\n",
    "    SUM(r.fx_score = 10.0) AS 'Floor Exercise',\n",
    "    m.year AS 'Season'\n",
    "FROM gymnast_results AS r\n",
    "LEFT JOIN meets AS m\n",
    "ON m.meet_id = r.meet_id\n",
    "GROUP BY m.year"
   ]
  },
  {
   "cell_type": "markdown",
   "metadata": {},
   "source": [
    "### 2.1.2 Import the data into a dataframe"
   ]
  },
  {
   "cell_type": "code",
   "execution_count": 5,
   "metadata": {},
   "outputs": [
    {
     "data": {
      "text/html": [
       "<div>\n",
       "<style scoped>\n",
       "    .dataframe tbody tr th:only-of-type {\n",
       "        vertical-align: middle;\n",
       "    }\n",
       "\n",
       "    .dataframe tbody tr th {\n",
       "        vertical-align: top;\n",
       "    }\n",
       "\n",
       "    .dataframe thead th {\n",
       "        text-align: right;\n",
       "    }\n",
       "</style>\n",
       "<table border=\"1\" class=\"dataframe\">\n",
       "  <thead>\n",
       "    <tr style=\"text-align: right;\">\n",
       "      <th></th>\n",
       "      <th>Vault</th>\n",
       "      <th>Uneven Bars</th>\n",
       "      <th>Balance Beam</th>\n",
       "      <th>Floor Exercise</th>\n",
       "      <th>Season</th>\n",
       "    </tr>\n",
       "  </thead>\n",
       "  <tbody>\n",
       "    <tr>\n",
       "      <th>0</th>\n",
       "      <td>34</td>\n",
       "      <td>32</td>\n",
       "      <td>2</td>\n",
       "      <td>7</td>\n",
       "      <td>2015</td>\n",
       "    </tr>\n",
       "    <tr>\n",
       "      <th>1</th>\n",
       "      <td>12</td>\n",
       "      <td>8</td>\n",
       "      <td>16</td>\n",
       "      <td>28</td>\n",
       "      <td>2016</td>\n",
       "    </tr>\n",
       "    <tr>\n",
       "      <th>2</th>\n",
       "      <td>22</td>\n",
       "      <td>26</td>\n",
       "      <td>35</td>\n",
       "      <td>16</td>\n",
       "      <td>2017</td>\n",
       "    </tr>\n",
       "    <tr>\n",
       "      <th>3</th>\n",
       "      <td>10</td>\n",
       "      <td>51</td>\n",
       "      <td>53</td>\n",
       "      <td>24</td>\n",
       "      <td>2018</td>\n",
       "    </tr>\n",
       "    <tr>\n",
       "      <th>4</th>\n",
       "      <td>31</td>\n",
       "      <td>38</td>\n",
       "      <td>8</td>\n",
       "      <td>56</td>\n",
       "      <td>2019</td>\n",
       "    </tr>\n",
       "    <tr>\n",
       "      <th>5</th>\n",
       "      <td>28</td>\n",
       "      <td>10</td>\n",
       "      <td>32</td>\n",
       "      <td>4</td>\n",
       "      <td>2020</td>\n",
       "    </tr>\n",
       "    <tr>\n",
       "      <th>6</th>\n",
       "      <td>50</td>\n",
       "      <td>44</td>\n",
       "      <td>20</td>\n",
       "      <td>21</td>\n",
       "      <td>2021</td>\n",
       "    </tr>\n",
       "    <tr>\n",
       "      <th>7</th>\n",
       "      <td>59</td>\n",
       "      <td>46</td>\n",
       "      <td>38</td>\n",
       "      <td>77</td>\n",
       "      <td>2022</td>\n",
       "    </tr>\n",
       "    <tr>\n",
       "      <th>8</th>\n",
       "      <td>88</td>\n",
       "      <td>81</td>\n",
       "      <td>126</td>\n",
       "      <td>64</td>\n",
       "      <td>2023</td>\n",
       "    </tr>\n",
       "    <tr>\n",
       "      <th>9</th>\n",
       "      <td>45</td>\n",
       "      <td>56</td>\n",
       "      <td>69</td>\n",
       "      <td>103</td>\n",
       "      <td>2024</td>\n",
       "    </tr>\n",
       "  </tbody>\n",
       "</table>\n",
       "</div>"
      ],
      "text/plain": [
       "   Vault  Uneven Bars  Balance Beam  Floor Exercise  Season\n",
       "0     34           32             2               7    2015\n",
       "1     12            8            16              28    2016\n",
       "2     22           26            35              16    2017\n",
       "3     10           51            53              24    2018\n",
       "4     31           38             8              56    2019\n",
       "5     28           10            32               4    2020\n",
       "6     50           44            20              21    2021\n",
       "7     59           46            38              77    2022\n",
       "8     88           81           126              64    2023\n",
       "9     45           56            69             103    2024"
      ]
     },
     "execution_count": 5,
     "metadata": {},
     "output_type": "execute_result"
    }
   ],
   "source": [
    "# Export the above query to a new df\n",
    "tenniest_apparatus_query = \"\"\"\n",
    "SELECT \n",
    "    SUM(r.vt_score = 10.0) AS 'Vault',\n",
    "    SUM(r.ub_score = 10.0) AS 'Uneven Bars',\n",
    "    SUM(r.bb_score = 10.0) AS 'Balance Beam',\n",
    "    SUM(r.fx_score = 10.0) AS 'Floor Exercise',\n",
    "    m.year AS 'Season'\n",
    "FROM gymnast_results AS r\n",
    "LEFT JOIN meets AS m\n",
    "ON m.meet_id = r.meet_id\n",
    "GROUP BY m.year;\n",
    "\"\"\"\n",
    "\n",
    "# Execute the query and store the result in a DataFrame\n",
    "tenniest_apparatus_df = pd.read_sql_query(tenniest_apparatus_query, engine)\n",
    "\n",
    "# Preview the df\n",
    "tenniest_apparatus_df"
   ]
  },
  {
   "cell_type": "markdown",
   "metadata": {},
   "source": [
    "### 2.1.3 Prepare the data for plotting"
   ]
  },
  {
   "cell_type": "markdown",
   "metadata": {},
   "source": [
    "We want this table to look slightly different, so that it's easier to read by Plotly.\n",
    "\n",
    "New layout should look like:\n",
    "| **Apparatus**    | **Number of 10s** | **Season** |\n",
    "|------------------|-------------------|------------|\n",
    "| 'Vault'          | 34                | 2015       |\n",
    "| 'Uneven Bars'    | 32                | 2015       |\n",
    "| 'Balance Beam'   | 2                 | 2015       |\n",
    "| 'Floor Exercise' | 7                 | 2015       |\n",
    "| 'Total'          | 75                | 2015       |\n",
    "\n",
    "etc.\n"
   ]
  },
  {
   "cell_type": "code",
   "execution_count": 6,
   "metadata": {},
   "outputs": [
    {
     "data": {
      "text/html": [
       "<div>\n",
       "<style scoped>\n",
       "    .dataframe tbody tr th:only-of-type {\n",
       "        vertical-align: middle;\n",
       "    }\n",
       "\n",
       "    .dataframe tbody tr th {\n",
       "        vertical-align: top;\n",
       "    }\n",
       "\n",
       "    .dataframe thead th {\n",
       "        text-align: right;\n",
       "    }\n",
       "</style>\n",
       "<table border=\"1\" class=\"dataframe\">\n",
       "  <thead>\n",
       "    <tr style=\"text-align: right;\">\n",
       "      <th></th>\n",
       "      <th>Season</th>\n",
       "      <th>Apparatus</th>\n",
       "      <th>No. of Tens</th>\n",
       "    </tr>\n",
       "  </thead>\n",
       "  <tbody>\n",
       "    <tr>\n",
       "      <th>0</th>\n",
       "      <td>2015</td>\n",
       "      <td>Vault</td>\n",
       "      <td>34</td>\n",
       "    </tr>\n",
       "    <tr>\n",
       "      <th>1</th>\n",
       "      <td>2016</td>\n",
       "      <td>Vault</td>\n",
       "      <td>12</td>\n",
       "    </tr>\n",
       "    <tr>\n",
       "      <th>2</th>\n",
       "      <td>2017</td>\n",
       "      <td>Vault</td>\n",
       "      <td>22</td>\n",
       "    </tr>\n",
       "    <tr>\n",
       "      <th>3</th>\n",
       "      <td>2018</td>\n",
       "      <td>Vault</td>\n",
       "      <td>10</td>\n",
       "    </tr>\n",
       "    <tr>\n",
       "      <th>4</th>\n",
       "      <td>2019</td>\n",
       "      <td>Vault</td>\n",
       "      <td>31</td>\n",
       "    </tr>\n",
       "  </tbody>\n",
       "</table>\n",
       "</div>"
      ],
      "text/plain": [
       "   Season Apparatus  No. of Tens\n",
       "0    2015     Vault           34\n",
       "1    2016     Vault           12\n",
       "2    2017     Vault           22\n",
       "3    2018     Vault           10\n",
       "4    2019     Vault           31"
      ]
     },
     "execution_count": 6,
     "metadata": {},
     "output_type": "execute_result"
    }
   ],
   "source": [
    "# Melt the DataFrame\n",
    "tenniest_apparatus_per_year = pd.melt(tenniest_apparatus_df, id_vars=['Season'], var_name='Apparatus', value_name='No. of Tens')\n",
    "\n",
    "# Preview the melted DataFrame\n",
    "tenniest_apparatus_per_year.head()"
   ]
  },
  {
   "cell_type": "markdown",
   "metadata": {},
   "source": [
    "### 2.1.4 Prepare the plots\n",
    "\n",
    "I want to explore how many 10s have been awarded across each of the apparatus in total across the last 10 years.\n",
    "\n",
    "To visualise this, I want a stacked bar chart, with apparatus across the x-axis, number of 10s on the y-axis and for each bar to be segmented by year.\n",
    "\n",
    "I also want to be fairly specific about my colour, field and font choices, as I'm preparing all the upcoming charts for publication on a website, and I want them to look as though they belong together.\n",
    "\n",
    "#### 2.1.4.1 Tenniest apparatus ever"
   ]
  },
  {
   "cell_type": "code",
   "execution_count": 7,
   "metadata": {},
   "outputs": [
    {
     "data": {
      "text/html": [
       "   <div id=\"XpDQ8w\"></div>\n",
       "   <script type=\"text/javascript\" data-lets-plot-script=\"plot\">\n",
       "       (function() {\n",
       "           var plotSpec={\n",
       "\"data\":{\n",
       "\"Season\":[2015.0,2016.0,2017.0,2018.0,2019.0,2020.0,2021.0,2022.0,2023.0,2024.0,2015.0,2016.0,2017.0,2018.0,2019.0,2020.0,2021.0,2022.0,2023.0,2024.0,2015.0,2016.0,2017.0,2018.0,2019.0,2020.0,2021.0,2022.0,2023.0,2024.0,2015.0,2016.0,2017.0,2018.0,2019.0,2020.0,2021.0,2022.0,2023.0,2024.0],\n",
       "\"Apparatus\":[\"Vault\",\"Vault\",\"Vault\",\"Vault\",\"Vault\",\"Vault\",\"Vault\",\"Vault\",\"Vault\",\"Vault\",\"Uneven Bars\",\"Uneven Bars\",\"Uneven Bars\",\"Uneven Bars\",\"Uneven Bars\",\"Uneven Bars\",\"Uneven Bars\",\"Uneven Bars\",\"Uneven Bars\",\"Uneven Bars\",\"Balance Beam\",\"Balance Beam\",\"Balance Beam\",\"Balance Beam\",\"Balance Beam\",\"Balance Beam\",\"Balance Beam\",\"Balance Beam\",\"Balance Beam\",\"Balance Beam\",\"Floor Exercise\",\"Floor Exercise\",\"Floor Exercise\",\"Floor Exercise\",\"Floor Exercise\",\"Floor Exercise\",\"Floor Exercise\",\"Floor Exercise\",\"Floor Exercise\",\"Floor Exercise\"],\n",
       "\"No. of Tens\":[34.0,12.0,22.0,10.0,31.0,28.0,50.0,59.0,88.0,45.0,32.0,8.0,26.0,51.0,38.0,10.0,44.0,46.0,81.0,56.0,2.0,16.0,35.0,53.0,8.0,32.0,20.0,38.0,126.0,69.0,7.0,28.0,16.0,24.0,56.0,4.0,21.0,77.0,64.0,103.0]\n",
       "},\n",
       "\"mapping\":{\n",
       "\"x\":\"Apparatus\",\n",
       "\"y\":\"No. of Tens\"\n",
       "},\n",
       "\"data_meta\":{\n",
       "},\n",
       "\"ggtitle\":{\n",
       "\"text\":\"Which apparatus attracts the most 10s in NCAA gymnastics?\"\n",
       "},\n",
       "\"theme\":{\n",
       "\"axis_title\":{\n",
       "\"family\":\"Helvetica\",\n",
       "\"size\":12.0,\n",
       "\"blank\":false\n",
       "},\n",
       "\"axis_text\":{\n",
       "\"family\":\"Helvetica\",\n",
       "\"size\":12.0,\n",
       "\"blank\":false\n",
       "},\n",
       "\"legend_text\":{\n",
       "\"family\":\"Helvetica\",\n",
       "\"size\":10.0,\n",
       "\"blank\":false\n",
       "},\n",
       "\"legend_title\":{\n",
       "\"family\":\"Helvetica\",\n",
       "\"size\":12.0,\n",
       "\"blank\":false\n",
       "},\n",
       "\"legend_position\":\"bottom\"\n",
       "},\n",
       "\"kind\":\"plot\",\n",
       "\"scales\":[{\n",
       "\"aesthetic\":\"fill\",\n",
       "\"scale_mapper_kind\":\"color_cmap\"\n",
       "},{\n",
       "\"aesthetic\":\"fill\",\n",
       "\"discrete\":true\n",
       "}],\n",
       "\"layers\":[{\n",
       "\"geom\":\"bar\",\n",
       "\"stat\":\"identity\",\n",
       "\"mapping\":{\n",
       "\"group\":\"Season\",\n",
       "\"fill\":\"Season\"\n",
       "},\n",
       "\"data_meta\":{\n",
       "},\n",
       "\"alpha\":0.8,\n",
       "\"size\":0.2,\n",
       "\"data\":{\n",
       "}\n",
       "}],\n",
       "\"metainfo_list\":[]\n",
       "};\n",
       "           var plotContainer = document.getElementById(\"XpDQ8w\");\n",
       "           window.letsPlotCall(function() {{\n",
       "               LetsPlot.buildPlotFromProcessedSpecs(plotSpec, -1, -1, plotContainer);\n",
       "           }});\n",
       "       })();\n",
       "   </script>"
      ],
      "text/plain": [
       "<lets_plot.plot.core.PlotSpec at 0x119afdeb0>"
      ]
     },
     "execution_count": 7,
     "metadata": {},
     "output_type": "execute_result"
    }
   ],
   "source": [
    "# A bar chart showing the aggregated number of 10s per apparatus across the years\n",
    "\n",
    "tenniest_apparatus_ever = (\n",
    "        ggplot(tenniest_apparatus_per_year, aes(x='Apparatus', y='No. of Tens')) + \n",
    "            geom_bar(aes(group='Season', fill='Season'), \n",
    "                stat='identity', \n",
    "                alpha=.8,\n",
    "                size=0.2) +\n",
    "            ggtitle('Which apparatus attracts the most 10s in NCAA gymnastics?') +\n",
    "            scale_fill_viridis() +\n",
    "            scale_fill_discrete() +\n",
    "            theme(\n",
    "                axis_title = element_text(size = 12, family='Helvetica'),\n",
    "                axis_text = element_text(size = 12, family='Helvetica'),\n",
    "                legend_position='bottom',\n",
    "                legend_title = element_text(size = 12, family='Helvetica'),\n",
    "                legend_text = element_text(size = 10, family = 'Helvetica')\n",
    "            )      \n",
    ")\n",
    "\n",
    "# Export the plot to html file\n",
    "ggsave(tenniest_apparatus_ever, \"../docs/figures/tenniest_apparatus_ever.html\")\n",
    "\n",
    "# Show the plot\n",
    "tenniest_apparatus_ever"
   ]
  },
  {
   "cell_type": "markdown",
   "metadata": {},
   "source": [
    "By the looks of the above plot, it seems like there isn't that much difference in the likelihood of scoring a 10 on any particular apparatus, although there is a slight advantage on Floor Exercise. \n",
    "\n",
    "The sizes of the slices, however, tell a different story. It suggests there are trends; in some seasons it is easier to achieve perfection on one apparatus and in others another.\n",
    "\n",
    "It would be interesting to explore how these trends change from year to year in some sort of amusing animated plot.\n",
    "\n",
    "#### 2.1.4.2 Tenniest apparatus per year"
   ]
  },
  {
   "cell_type": "code",
   "execution_count": 8,
   "metadata": {},
   "outputs": [
    {
     "data": {
      "application/vnd.plotly.v1+json": {
       "config": {
        "plotlyServerURL": "https://plot.ly"
       },
       "data": [
        {
         "alignmentgroup": "True",
         "hovertemplate": "<b>%{hovertext}</b><br><br>Apparatus=%{x}<br>Season=2015<br>No. of Tens=%{y}<extra></extra>",
         "hovertext": [
          "Vault"
         ],
         "legendgroup": "Vault",
         "marker": {
          "color": "rgb(68, 1, 84)",
          "opacity": 0.8,
          "pattern": {
           "shape": ""
          }
         },
         "name": "Vault",
         "offsetgroup": "Vault",
         "orientation": "v",
         "showlegend": true,
         "textposition": "auto",
         "type": "bar",
         "x": [
          "Vault"
         ],
         "xaxis": "x",
         "y": [
          34
         ],
         "yaxis": "y"
        },
        {
         "alignmentgroup": "True",
         "hovertemplate": "<b>%{hovertext}</b><br><br>Apparatus=%{x}<br>Season=2015<br>No. of Tens=%{y}<extra></extra>",
         "hovertext": [
          "Uneven Bars"
         ],
         "legendgroup": "Uneven Bars",
         "marker": {
          "color": "rgb(59, 81, 138)",
          "opacity": 0.8,
          "pattern": {
           "shape": ""
          }
         },
         "name": "Uneven Bars",
         "offsetgroup": "Uneven Bars",
         "orientation": "v",
         "showlegend": true,
         "textposition": "auto",
         "type": "bar",
         "x": [
          "Uneven Bars"
         ],
         "xaxis": "x",
         "y": [
          32
         ],
         "yaxis": "y"
        },
        {
         "alignmentgroup": "True",
         "hovertemplate": "<b>%{hovertext}</b><br><br>Apparatus=%{x}<br>Season=2015<br>No. of Tens=%{y}<extra></extra>",
         "hovertext": [
          "Balance Beam"
         ],
         "legendgroup": "Balance Beam",
         "marker": {
          "color": "rgb(34, 144, 140)",
          "opacity": 0.8,
          "pattern": {
           "shape": ""
          }
         },
         "name": "Balance Beam",
         "offsetgroup": "Balance Beam",
         "orientation": "v",
         "showlegend": true,
         "textposition": "auto",
         "type": "bar",
         "x": [
          "Balance Beam"
         ],
         "xaxis": "x",
         "y": [
          2
         ],
         "yaxis": "y"
        },
        {
         "alignmentgroup": "True",
         "hovertemplate": "<b>%{hovertext}</b><br><br>Apparatus=%{x}<br>Season=2015<br>No. of Tens=%{y}<extra></extra>",
         "hovertext": [
          "Floor Exercise"
         ],
         "legendgroup": "Floor Exercise",
         "marker": {
          "color": "rgb(96, 200, 96)",
          "opacity": 0.8,
          "pattern": {
           "shape": ""
          }
         },
         "name": "Floor Exercise",
         "offsetgroup": "Floor Exercise",
         "orientation": "v",
         "showlegend": true,
         "textposition": "auto",
         "type": "bar",
         "x": [
          "Floor Exercise"
         ],
         "xaxis": "x",
         "y": [
          7
         ],
         "yaxis": "y"
        }
       ],
       "frames": [
        {
         "data": [
          {
           "alignmentgroup": "True",
           "hovertemplate": "<b>%{hovertext}</b><br><br>Apparatus=%{x}<br>Season=2015<br>No. of Tens=%{y}<extra></extra>",
           "hovertext": [
            "Vault"
           ],
           "legendgroup": "Vault",
           "marker": {
            "color": "rgb(68, 1, 84)",
            "opacity": 0.8,
            "pattern": {
             "shape": ""
            }
           },
           "name": "Vault",
           "offsetgroup": "Vault",
           "orientation": "v",
           "showlegend": true,
           "textposition": "auto",
           "type": "bar",
           "x": [
            "Vault"
           ],
           "xaxis": "x",
           "y": [
            34
           ],
           "yaxis": "y"
          },
          {
           "alignmentgroup": "True",
           "hovertemplate": "<b>%{hovertext}</b><br><br>Apparatus=%{x}<br>Season=2015<br>No. of Tens=%{y}<extra></extra>",
           "hovertext": [
            "Uneven Bars"
           ],
           "legendgroup": "Uneven Bars",
           "marker": {
            "color": "rgb(59, 81, 138)",
            "opacity": 0.8,
            "pattern": {
             "shape": ""
            }
           },
           "name": "Uneven Bars",
           "offsetgroup": "Uneven Bars",
           "orientation": "v",
           "showlegend": true,
           "textposition": "auto",
           "type": "bar",
           "x": [
            "Uneven Bars"
           ],
           "xaxis": "x",
           "y": [
            32
           ],
           "yaxis": "y"
          },
          {
           "alignmentgroup": "True",
           "hovertemplate": "<b>%{hovertext}</b><br><br>Apparatus=%{x}<br>Season=2015<br>No. of Tens=%{y}<extra></extra>",
           "hovertext": [
            "Balance Beam"
           ],
           "legendgroup": "Balance Beam",
           "marker": {
            "color": "rgb(34, 144, 140)",
            "opacity": 0.8,
            "pattern": {
             "shape": ""
            }
           },
           "name": "Balance Beam",
           "offsetgroup": "Balance Beam",
           "orientation": "v",
           "showlegend": true,
           "textposition": "auto",
           "type": "bar",
           "x": [
            "Balance Beam"
           ],
           "xaxis": "x",
           "y": [
            2
           ],
           "yaxis": "y"
          },
          {
           "alignmentgroup": "True",
           "hovertemplate": "<b>%{hovertext}</b><br><br>Apparatus=%{x}<br>Season=2015<br>No. of Tens=%{y}<extra></extra>",
           "hovertext": [
            "Floor Exercise"
           ],
           "legendgroup": "Floor Exercise",
           "marker": {
            "color": "rgb(96, 200, 96)",
            "opacity": 0.8,
            "pattern": {
             "shape": ""
            }
           },
           "name": "Floor Exercise",
           "offsetgroup": "Floor Exercise",
           "orientation": "v",
           "showlegend": true,
           "textposition": "auto",
           "type": "bar",
           "x": [
            "Floor Exercise"
           ],
           "xaxis": "x",
           "y": [
            7
           ],
           "yaxis": "y"
          }
         ],
         "name": "2015"
        },
        {
         "data": [
          {
           "alignmentgroup": "True",
           "hovertemplate": "<b>%{hovertext}</b><br><br>Apparatus=%{x}<br>Season=2016<br>No. of Tens=%{y}<extra></extra>",
           "hovertext": [
            "Vault"
           ],
           "legendgroup": "Vault",
           "marker": {
            "color": "rgb(68, 1, 84)",
            "opacity": 0.8,
            "pattern": {
             "shape": ""
            }
           },
           "name": "Vault",
           "offsetgroup": "Vault",
           "orientation": "v",
           "showlegend": true,
           "textposition": "auto",
           "type": "bar",
           "x": [
            "Vault"
           ],
           "xaxis": "x",
           "y": [
            12
           ],
           "yaxis": "y"
          },
          {
           "alignmentgroup": "True",
           "hovertemplate": "<b>%{hovertext}</b><br><br>Apparatus=%{x}<br>Season=2016<br>No. of Tens=%{y}<extra></extra>",
           "hovertext": [
            "Uneven Bars"
           ],
           "legendgroup": "Uneven Bars",
           "marker": {
            "color": "rgb(59, 81, 138)",
            "opacity": 0.8,
            "pattern": {
             "shape": ""
            }
           },
           "name": "Uneven Bars",
           "offsetgroup": "Uneven Bars",
           "orientation": "v",
           "showlegend": true,
           "textposition": "auto",
           "type": "bar",
           "x": [
            "Uneven Bars"
           ],
           "xaxis": "x",
           "y": [
            8
           ],
           "yaxis": "y"
          },
          {
           "alignmentgroup": "True",
           "hovertemplate": "<b>%{hovertext}</b><br><br>Apparatus=%{x}<br>Season=2016<br>No. of Tens=%{y}<extra></extra>",
           "hovertext": [
            "Balance Beam"
           ],
           "legendgroup": "Balance Beam",
           "marker": {
            "color": "rgb(34, 144, 140)",
            "opacity": 0.8,
            "pattern": {
             "shape": ""
            }
           },
           "name": "Balance Beam",
           "offsetgroup": "Balance Beam",
           "orientation": "v",
           "showlegend": true,
           "textposition": "auto",
           "type": "bar",
           "x": [
            "Balance Beam"
           ],
           "xaxis": "x",
           "y": [
            16
           ],
           "yaxis": "y"
          },
          {
           "alignmentgroup": "True",
           "hovertemplate": "<b>%{hovertext}</b><br><br>Apparatus=%{x}<br>Season=2016<br>No. of Tens=%{y}<extra></extra>",
           "hovertext": [
            "Floor Exercise"
           ],
           "legendgroup": "Floor Exercise",
           "marker": {
            "color": "rgb(96, 200, 96)",
            "opacity": 0.8,
            "pattern": {
             "shape": ""
            }
           },
           "name": "Floor Exercise",
           "offsetgroup": "Floor Exercise",
           "orientation": "v",
           "showlegend": true,
           "textposition": "auto",
           "type": "bar",
           "x": [
            "Floor Exercise"
           ],
           "xaxis": "x",
           "y": [
            28
           ],
           "yaxis": "y"
          }
         ],
         "name": "2016"
        },
        {
         "data": [
          {
           "alignmentgroup": "True",
           "hovertemplate": "<b>%{hovertext}</b><br><br>Apparatus=%{x}<br>Season=2017<br>No. of Tens=%{y}<extra></extra>",
           "hovertext": [
            "Vault"
           ],
           "legendgroup": "Vault",
           "marker": {
            "color": "rgb(68, 1, 84)",
            "opacity": 0.8,
            "pattern": {
             "shape": ""
            }
           },
           "name": "Vault",
           "offsetgroup": "Vault",
           "orientation": "v",
           "showlegend": true,
           "textposition": "auto",
           "type": "bar",
           "x": [
            "Vault"
           ],
           "xaxis": "x",
           "y": [
            22
           ],
           "yaxis": "y"
          },
          {
           "alignmentgroup": "True",
           "hovertemplate": "<b>%{hovertext}</b><br><br>Apparatus=%{x}<br>Season=2017<br>No. of Tens=%{y}<extra></extra>",
           "hovertext": [
            "Uneven Bars"
           ],
           "legendgroup": "Uneven Bars",
           "marker": {
            "color": "rgb(59, 81, 138)",
            "opacity": 0.8,
            "pattern": {
             "shape": ""
            }
           },
           "name": "Uneven Bars",
           "offsetgroup": "Uneven Bars",
           "orientation": "v",
           "showlegend": true,
           "textposition": "auto",
           "type": "bar",
           "x": [
            "Uneven Bars"
           ],
           "xaxis": "x",
           "y": [
            26
           ],
           "yaxis": "y"
          },
          {
           "alignmentgroup": "True",
           "hovertemplate": "<b>%{hovertext}</b><br><br>Apparatus=%{x}<br>Season=2017<br>No. of Tens=%{y}<extra></extra>",
           "hovertext": [
            "Balance Beam"
           ],
           "legendgroup": "Balance Beam",
           "marker": {
            "color": "rgb(34, 144, 140)",
            "opacity": 0.8,
            "pattern": {
             "shape": ""
            }
           },
           "name": "Balance Beam",
           "offsetgroup": "Balance Beam",
           "orientation": "v",
           "showlegend": true,
           "textposition": "auto",
           "type": "bar",
           "x": [
            "Balance Beam"
           ],
           "xaxis": "x",
           "y": [
            35
           ],
           "yaxis": "y"
          },
          {
           "alignmentgroup": "True",
           "hovertemplate": "<b>%{hovertext}</b><br><br>Apparatus=%{x}<br>Season=2017<br>No. of Tens=%{y}<extra></extra>",
           "hovertext": [
            "Floor Exercise"
           ],
           "legendgroup": "Floor Exercise",
           "marker": {
            "color": "rgb(96, 200, 96)",
            "opacity": 0.8,
            "pattern": {
             "shape": ""
            }
           },
           "name": "Floor Exercise",
           "offsetgroup": "Floor Exercise",
           "orientation": "v",
           "showlegend": true,
           "textposition": "auto",
           "type": "bar",
           "x": [
            "Floor Exercise"
           ],
           "xaxis": "x",
           "y": [
            16
           ],
           "yaxis": "y"
          }
         ],
         "name": "2017"
        },
        {
         "data": [
          {
           "alignmentgroup": "True",
           "hovertemplate": "<b>%{hovertext}</b><br><br>Apparatus=%{x}<br>Season=2018<br>No. of Tens=%{y}<extra></extra>",
           "hovertext": [
            "Vault"
           ],
           "legendgroup": "Vault",
           "marker": {
            "color": "rgb(68, 1, 84)",
            "opacity": 0.8,
            "pattern": {
             "shape": ""
            }
           },
           "name": "Vault",
           "offsetgroup": "Vault",
           "orientation": "v",
           "showlegend": true,
           "textposition": "auto",
           "type": "bar",
           "x": [
            "Vault"
           ],
           "xaxis": "x",
           "y": [
            10
           ],
           "yaxis": "y"
          },
          {
           "alignmentgroup": "True",
           "hovertemplate": "<b>%{hovertext}</b><br><br>Apparatus=%{x}<br>Season=2018<br>No. of Tens=%{y}<extra></extra>",
           "hovertext": [
            "Uneven Bars"
           ],
           "legendgroup": "Uneven Bars",
           "marker": {
            "color": "rgb(59, 81, 138)",
            "opacity": 0.8,
            "pattern": {
             "shape": ""
            }
           },
           "name": "Uneven Bars",
           "offsetgroup": "Uneven Bars",
           "orientation": "v",
           "showlegend": true,
           "textposition": "auto",
           "type": "bar",
           "x": [
            "Uneven Bars"
           ],
           "xaxis": "x",
           "y": [
            51
           ],
           "yaxis": "y"
          },
          {
           "alignmentgroup": "True",
           "hovertemplate": "<b>%{hovertext}</b><br><br>Apparatus=%{x}<br>Season=2018<br>No. of Tens=%{y}<extra></extra>",
           "hovertext": [
            "Balance Beam"
           ],
           "legendgroup": "Balance Beam",
           "marker": {
            "color": "rgb(34, 144, 140)",
            "opacity": 0.8,
            "pattern": {
             "shape": ""
            }
           },
           "name": "Balance Beam",
           "offsetgroup": "Balance Beam",
           "orientation": "v",
           "showlegend": true,
           "textposition": "auto",
           "type": "bar",
           "x": [
            "Balance Beam"
           ],
           "xaxis": "x",
           "y": [
            53
           ],
           "yaxis": "y"
          },
          {
           "alignmentgroup": "True",
           "hovertemplate": "<b>%{hovertext}</b><br><br>Apparatus=%{x}<br>Season=2018<br>No. of Tens=%{y}<extra></extra>",
           "hovertext": [
            "Floor Exercise"
           ],
           "legendgroup": "Floor Exercise",
           "marker": {
            "color": "rgb(96, 200, 96)",
            "opacity": 0.8,
            "pattern": {
             "shape": ""
            }
           },
           "name": "Floor Exercise",
           "offsetgroup": "Floor Exercise",
           "orientation": "v",
           "showlegend": true,
           "textposition": "auto",
           "type": "bar",
           "x": [
            "Floor Exercise"
           ],
           "xaxis": "x",
           "y": [
            24
           ],
           "yaxis": "y"
          }
         ],
         "name": "2018"
        },
        {
         "data": [
          {
           "alignmentgroup": "True",
           "hovertemplate": "<b>%{hovertext}</b><br><br>Apparatus=%{x}<br>Season=2019<br>No. of Tens=%{y}<extra></extra>",
           "hovertext": [
            "Vault"
           ],
           "legendgroup": "Vault",
           "marker": {
            "color": "rgb(68, 1, 84)",
            "opacity": 0.8,
            "pattern": {
             "shape": ""
            }
           },
           "name": "Vault",
           "offsetgroup": "Vault",
           "orientation": "v",
           "showlegend": true,
           "textposition": "auto",
           "type": "bar",
           "x": [
            "Vault"
           ],
           "xaxis": "x",
           "y": [
            31
           ],
           "yaxis": "y"
          },
          {
           "alignmentgroup": "True",
           "hovertemplate": "<b>%{hovertext}</b><br><br>Apparatus=%{x}<br>Season=2019<br>No. of Tens=%{y}<extra></extra>",
           "hovertext": [
            "Uneven Bars"
           ],
           "legendgroup": "Uneven Bars",
           "marker": {
            "color": "rgb(59, 81, 138)",
            "opacity": 0.8,
            "pattern": {
             "shape": ""
            }
           },
           "name": "Uneven Bars",
           "offsetgroup": "Uneven Bars",
           "orientation": "v",
           "showlegend": true,
           "textposition": "auto",
           "type": "bar",
           "x": [
            "Uneven Bars"
           ],
           "xaxis": "x",
           "y": [
            38
           ],
           "yaxis": "y"
          },
          {
           "alignmentgroup": "True",
           "hovertemplate": "<b>%{hovertext}</b><br><br>Apparatus=%{x}<br>Season=2019<br>No. of Tens=%{y}<extra></extra>",
           "hovertext": [
            "Balance Beam"
           ],
           "legendgroup": "Balance Beam",
           "marker": {
            "color": "rgb(34, 144, 140)",
            "opacity": 0.8,
            "pattern": {
             "shape": ""
            }
           },
           "name": "Balance Beam",
           "offsetgroup": "Balance Beam",
           "orientation": "v",
           "showlegend": true,
           "textposition": "auto",
           "type": "bar",
           "x": [
            "Balance Beam"
           ],
           "xaxis": "x",
           "y": [
            8
           ],
           "yaxis": "y"
          },
          {
           "alignmentgroup": "True",
           "hovertemplate": "<b>%{hovertext}</b><br><br>Apparatus=%{x}<br>Season=2019<br>No. of Tens=%{y}<extra></extra>",
           "hovertext": [
            "Floor Exercise"
           ],
           "legendgroup": "Floor Exercise",
           "marker": {
            "color": "rgb(96, 200, 96)",
            "opacity": 0.8,
            "pattern": {
             "shape": ""
            }
           },
           "name": "Floor Exercise",
           "offsetgroup": "Floor Exercise",
           "orientation": "v",
           "showlegend": true,
           "textposition": "auto",
           "type": "bar",
           "x": [
            "Floor Exercise"
           ],
           "xaxis": "x",
           "y": [
            56
           ],
           "yaxis": "y"
          }
         ],
         "name": "2019"
        },
        {
         "data": [
          {
           "alignmentgroup": "True",
           "hovertemplate": "<b>%{hovertext}</b><br><br>Apparatus=%{x}<br>Season=2020<br>No. of Tens=%{y}<extra></extra>",
           "hovertext": [
            "Vault"
           ],
           "legendgroup": "Vault",
           "marker": {
            "color": "rgb(68, 1, 84)",
            "opacity": 0.8,
            "pattern": {
             "shape": ""
            }
           },
           "name": "Vault",
           "offsetgroup": "Vault",
           "orientation": "v",
           "showlegend": true,
           "textposition": "auto",
           "type": "bar",
           "x": [
            "Vault"
           ],
           "xaxis": "x",
           "y": [
            28
           ],
           "yaxis": "y"
          },
          {
           "alignmentgroup": "True",
           "hovertemplate": "<b>%{hovertext}</b><br><br>Apparatus=%{x}<br>Season=2020<br>No. of Tens=%{y}<extra></extra>",
           "hovertext": [
            "Uneven Bars"
           ],
           "legendgroup": "Uneven Bars",
           "marker": {
            "color": "rgb(59, 81, 138)",
            "opacity": 0.8,
            "pattern": {
             "shape": ""
            }
           },
           "name": "Uneven Bars",
           "offsetgroup": "Uneven Bars",
           "orientation": "v",
           "showlegend": true,
           "textposition": "auto",
           "type": "bar",
           "x": [
            "Uneven Bars"
           ],
           "xaxis": "x",
           "y": [
            10
           ],
           "yaxis": "y"
          },
          {
           "alignmentgroup": "True",
           "hovertemplate": "<b>%{hovertext}</b><br><br>Apparatus=%{x}<br>Season=2020<br>No. of Tens=%{y}<extra></extra>",
           "hovertext": [
            "Balance Beam"
           ],
           "legendgroup": "Balance Beam",
           "marker": {
            "color": "rgb(34, 144, 140)",
            "opacity": 0.8,
            "pattern": {
             "shape": ""
            }
           },
           "name": "Balance Beam",
           "offsetgroup": "Balance Beam",
           "orientation": "v",
           "showlegend": true,
           "textposition": "auto",
           "type": "bar",
           "x": [
            "Balance Beam"
           ],
           "xaxis": "x",
           "y": [
            32
           ],
           "yaxis": "y"
          },
          {
           "alignmentgroup": "True",
           "hovertemplate": "<b>%{hovertext}</b><br><br>Apparatus=%{x}<br>Season=2020<br>No. of Tens=%{y}<extra></extra>",
           "hovertext": [
            "Floor Exercise"
           ],
           "legendgroup": "Floor Exercise",
           "marker": {
            "color": "rgb(96, 200, 96)",
            "opacity": 0.8,
            "pattern": {
             "shape": ""
            }
           },
           "name": "Floor Exercise",
           "offsetgroup": "Floor Exercise",
           "orientation": "v",
           "showlegend": true,
           "textposition": "auto",
           "type": "bar",
           "x": [
            "Floor Exercise"
           ],
           "xaxis": "x",
           "y": [
            4
           ],
           "yaxis": "y"
          }
         ],
         "name": "2020"
        },
        {
         "data": [
          {
           "alignmentgroup": "True",
           "hovertemplate": "<b>%{hovertext}</b><br><br>Apparatus=%{x}<br>Season=2021<br>No. of Tens=%{y}<extra></extra>",
           "hovertext": [
            "Vault"
           ],
           "legendgroup": "Vault",
           "marker": {
            "color": "rgb(68, 1, 84)",
            "opacity": 0.8,
            "pattern": {
             "shape": ""
            }
           },
           "name": "Vault",
           "offsetgroup": "Vault",
           "orientation": "v",
           "showlegend": true,
           "textposition": "auto",
           "type": "bar",
           "x": [
            "Vault"
           ],
           "xaxis": "x",
           "y": [
            50
           ],
           "yaxis": "y"
          },
          {
           "alignmentgroup": "True",
           "hovertemplate": "<b>%{hovertext}</b><br><br>Apparatus=%{x}<br>Season=2021<br>No. of Tens=%{y}<extra></extra>",
           "hovertext": [
            "Uneven Bars"
           ],
           "legendgroup": "Uneven Bars",
           "marker": {
            "color": "rgb(59, 81, 138)",
            "opacity": 0.8,
            "pattern": {
             "shape": ""
            }
           },
           "name": "Uneven Bars",
           "offsetgroup": "Uneven Bars",
           "orientation": "v",
           "showlegend": true,
           "textposition": "auto",
           "type": "bar",
           "x": [
            "Uneven Bars"
           ],
           "xaxis": "x",
           "y": [
            44
           ],
           "yaxis": "y"
          },
          {
           "alignmentgroup": "True",
           "hovertemplate": "<b>%{hovertext}</b><br><br>Apparatus=%{x}<br>Season=2021<br>No. of Tens=%{y}<extra></extra>",
           "hovertext": [
            "Balance Beam"
           ],
           "legendgroup": "Balance Beam",
           "marker": {
            "color": "rgb(34, 144, 140)",
            "opacity": 0.8,
            "pattern": {
             "shape": ""
            }
           },
           "name": "Balance Beam",
           "offsetgroup": "Balance Beam",
           "orientation": "v",
           "showlegend": true,
           "textposition": "auto",
           "type": "bar",
           "x": [
            "Balance Beam"
           ],
           "xaxis": "x",
           "y": [
            20
           ],
           "yaxis": "y"
          },
          {
           "alignmentgroup": "True",
           "hovertemplate": "<b>%{hovertext}</b><br><br>Apparatus=%{x}<br>Season=2021<br>No. of Tens=%{y}<extra></extra>",
           "hovertext": [
            "Floor Exercise"
           ],
           "legendgroup": "Floor Exercise",
           "marker": {
            "color": "rgb(96, 200, 96)",
            "opacity": 0.8,
            "pattern": {
             "shape": ""
            }
           },
           "name": "Floor Exercise",
           "offsetgroup": "Floor Exercise",
           "orientation": "v",
           "showlegend": true,
           "textposition": "auto",
           "type": "bar",
           "x": [
            "Floor Exercise"
           ],
           "xaxis": "x",
           "y": [
            21
           ],
           "yaxis": "y"
          }
         ],
         "name": "2021"
        },
        {
         "data": [
          {
           "alignmentgroup": "True",
           "hovertemplate": "<b>%{hovertext}</b><br><br>Apparatus=%{x}<br>Season=2022<br>No. of Tens=%{y}<extra></extra>",
           "hovertext": [
            "Vault"
           ],
           "legendgroup": "Vault",
           "marker": {
            "color": "rgb(68, 1, 84)",
            "opacity": 0.8,
            "pattern": {
             "shape": ""
            }
           },
           "name": "Vault",
           "offsetgroup": "Vault",
           "orientation": "v",
           "showlegend": true,
           "textposition": "auto",
           "type": "bar",
           "x": [
            "Vault"
           ],
           "xaxis": "x",
           "y": [
            59
           ],
           "yaxis": "y"
          },
          {
           "alignmentgroup": "True",
           "hovertemplate": "<b>%{hovertext}</b><br><br>Apparatus=%{x}<br>Season=2022<br>No. of Tens=%{y}<extra></extra>",
           "hovertext": [
            "Uneven Bars"
           ],
           "legendgroup": "Uneven Bars",
           "marker": {
            "color": "rgb(59, 81, 138)",
            "opacity": 0.8,
            "pattern": {
             "shape": ""
            }
           },
           "name": "Uneven Bars",
           "offsetgroup": "Uneven Bars",
           "orientation": "v",
           "showlegend": true,
           "textposition": "auto",
           "type": "bar",
           "x": [
            "Uneven Bars"
           ],
           "xaxis": "x",
           "y": [
            46
           ],
           "yaxis": "y"
          },
          {
           "alignmentgroup": "True",
           "hovertemplate": "<b>%{hovertext}</b><br><br>Apparatus=%{x}<br>Season=2022<br>No. of Tens=%{y}<extra></extra>",
           "hovertext": [
            "Balance Beam"
           ],
           "legendgroup": "Balance Beam",
           "marker": {
            "color": "rgb(34, 144, 140)",
            "opacity": 0.8,
            "pattern": {
             "shape": ""
            }
           },
           "name": "Balance Beam",
           "offsetgroup": "Balance Beam",
           "orientation": "v",
           "showlegend": true,
           "textposition": "auto",
           "type": "bar",
           "x": [
            "Balance Beam"
           ],
           "xaxis": "x",
           "y": [
            38
           ],
           "yaxis": "y"
          },
          {
           "alignmentgroup": "True",
           "hovertemplate": "<b>%{hovertext}</b><br><br>Apparatus=%{x}<br>Season=2022<br>No. of Tens=%{y}<extra></extra>",
           "hovertext": [
            "Floor Exercise"
           ],
           "legendgroup": "Floor Exercise",
           "marker": {
            "color": "rgb(96, 200, 96)",
            "opacity": 0.8,
            "pattern": {
             "shape": ""
            }
           },
           "name": "Floor Exercise",
           "offsetgroup": "Floor Exercise",
           "orientation": "v",
           "showlegend": true,
           "textposition": "auto",
           "type": "bar",
           "x": [
            "Floor Exercise"
           ],
           "xaxis": "x",
           "y": [
            77
           ],
           "yaxis": "y"
          }
         ],
         "name": "2022"
        },
        {
         "data": [
          {
           "alignmentgroup": "True",
           "hovertemplate": "<b>%{hovertext}</b><br><br>Apparatus=%{x}<br>Season=2023<br>No. of Tens=%{y}<extra></extra>",
           "hovertext": [
            "Vault"
           ],
           "legendgroup": "Vault",
           "marker": {
            "color": "rgb(68, 1, 84)",
            "opacity": 0.8,
            "pattern": {
             "shape": ""
            }
           },
           "name": "Vault",
           "offsetgroup": "Vault",
           "orientation": "v",
           "showlegend": true,
           "textposition": "auto",
           "type": "bar",
           "x": [
            "Vault"
           ],
           "xaxis": "x",
           "y": [
            88
           ],
           "yaxis": "y"
          },
          {
           "alignmentgroup": "True",
           "hovertemplate": "<b>%{hovertext}</b><br><br>Apparatus=%{x}<br>Season=2023<br>No. of Tens=%{y}<extra></extra>",
           "hovertext": [
            "Uneven Bars"
           ],
           "legendgroup": "Uneven Bars",
           "marker": {
            "color": "rgb(59, 81, 138)",
            "opacity": 0.8,
            "pattern": {
             "shape": ""
            }
           },
           "name": "Uneven Bars",
           "offsetgroup": "Uneven Bars",
           "orientation": "v",
           "showlegend": true,
           "textposition": "auto",
           "type": "bar",
           "x": [
            "Uneven Bars"
           ],
           "xaxis": "x",
           "y": [
            81
           ],
           "yaxis": "y"
          },
          {
           "alignmentgroup": "True",
           "hovertemplate": "<b>%{hovertext}</b><br><br>Apparatus=%{x}<br>Season=2023<br>No. of Tens=%{y}<extra></extra>",
           "hovertext": [
            "Balance Beam"
           ],
           "legendgroup": "Balance Beam",
           "marker": {
            "color": "rgb(34, 144, 140)",
            "opacity": 0.8,
            "pattern": {
             "shape": ""
            }
           },
           "name": "Balance Beam",
           "offsetgroup": "Balance Beam",
           "orientation": "v",
           "showlegend": true,
           "textposition": "auto",
           "type": "bar",
           "x": [
            "Balance Beam"
           ],
           "xaxis": "x",
           "y": [
            126
           ],
           "yaxis": "y"
          },
          {
           "alignmentgroup": "True",
           "hovertemplate": "<b>%{hovertext}</b><br><br>Apparatus=%{x}<br>Season=2023<br>No. of Tens=%{y}<extra></extra>",
           "hovertext": [
            "Floor Exercise"
           ],
           "legendgroup": "Floor Exercise",
           "marker": {
            "color": "rgb(96, 200, 96)",
            "opacity": 0.8,
            "pattern": {
             "shape": ""
            }
           },
           "name": "Floor Exercise",
           "offsetgroup": "Floor Exercise",
           "orientation": "v",
           "showlegend": true,
           "textposition": "auto",
           "type": "bar",
           "x": [
            "Floor Exercise"
           ],
           "xaxis": "x",
           "y": [
            64
           ],
           "yaxis": "y"
          }
         ],
         "name": "2023"
        },
        {
         "data": [
          {
           "alignmentgroup": "True",
           "hovertemplate": "<b>%{hovertext}</b><br><br>Apparatus=%{x}<br>Season=2024<br>No. of Tens=%{y}<extra></extra>",
           "hovertext": [
            "Vault"
           ],
           "legendgroup": "Vault",
           "marker": {
            "color": "rgb(68, 1, 84)",
            "opacity": 0.8,
            "pattern": {
             "shape": ""
            }
           },
           "name": "Vault",
           "offsetgroup": "Vault",
           "orientation": "v",
           "showlegend": true,
           "textposition": "auto",
           "type": "bar",
           "x": [
            "Vault"
           ],
           "xaxis": "x",
           "y": [
            45
           ],
           "yaxis": "y"
          },
          {
           "alignmentgroup": "True",
           "hovertemplate": "<b>%{hovertext}</b><br><br>Apparatus=%{x}<br>Season=2024<br>No. of Tens=%{y}<extra></extra>",
           "hovertext": [
            "Uneven Bars"
           ],
           "legendgroup": "Uneven Bars",
           "marker": {
            "color": "rgb(59, 81, 138)",
            "opacity": 0.8,
            "pattern": {
             "shape": ""
            }
           },
           "name": "Uneven Bars",
           "offsetgroup": "Uneven Bars",
           "orientation": "v",
           "showlegend": true,
           "textposition": "auto",
           "type": "bar",
           "x": [
            "Uneven Bars"
           ],
           "xaxis": "x",
           "y": [
            56
           ],
           "yaxis": "y"
          },
          {
           "alignmentgroup": "True",
           "hovertemplate": "<b>%{hovertext}</b><br><br>Apparatus=%{x}<br>Season=2024<br>No. of Tens=%{y}<extra></extra>",
           "hovertext": [
            "Balance Beam"
           ],
           "legendgroup": "Balance Beam",
           "marker": {
            "color": "rgb(34, 144, 140)",
            "opacity": 0.8,
            "pattern": {
             "shape": ""
            }
           },
           "name": "Balance Beam",
           "offsetgroup": "Balance Beam",
           "orientation": "v",
           "showlegend": true,
           "textposition": "auto",
           "type": "bar",
           "x": [
            "Balance Beam"
           ],
           "xaxis": "x",
           "y": [
            69
           ],
           "yaxis": "y"
          },
          {
           "alignmentgroup": "True",
           "hovertemplate": "<b>%{hovertext}</b><br><br>Apparatus=%{x}<br>Season=2024<br>No. of Tens=%{y}<extra></extra>",
           "hovertext": [
            "Floor Exercise"
           ],
           "legendgroup": "Floor Exercise",
           "marker": {
            "color": "rgb(96, 200, 96)",
            "opacity": 0.8,
            "pattern": {
             "shape": ""
            }
           },
           "name": "Floor Exercise",
           "offsetgroup": "Floor Exercise",
           "orientation": "v",
           "showlegend": true,
           "textposition": "auto",
           "type": "bar",
           "x": [
            "Floor Exercise"
           ],
           "xaxis": "x",
           "y": [
            103
           ],
           "yaxis": "y"
          }
         ],
         "name": "2024"
        }
       ],
       "layout": {
        "barmode": "relative",
        "font": {
         "color": "black",
         "family": "Helvetica",
         "size": 10
        },
        "legend": {
         "orientation": "h",
         "title": {
          "font": {
           "color": "black",
           "family": "Helvetica",
           "size": 12
          },
          "text": "Apparatus"
         },
         "tracegroupgap": 0,
         "x": 0.5,
         "xanchor": "center",
         "y": -1,
         "yanchor": "bottom"
        },
        "margin": {
         "t": 60
        },
        "paper_bgcolor": "white",
        "plot_bgcolor": "white",
        "sliders": [
         {
          "active": 0,
          "currentvalue": {
           "prefix": "Season="
          },
          "len": 0.9,
          "pad": {
           "b": 10,
           "t": 60
          },
          "steps": [
           {
            "args": [
             [
              "2015"
             ],
             {
              "frame": {
               "duration": 0,
               "redraw": true
              },
              "fromcurrent": true,
              "mode": "immediate",
              "transition": {
               "duration": 0,
               "easing": "linear"
              }
             }
            ],
            "label": "2015",
            "method": "animate"
           },
           {
            "args": [
             [
              "2016"
             ],
             {
              "frame": {
               "duration": 0,
               "redraw": true
              },
              "fromcurrent": true,
              "mode": "immediate",
              "transition": {
               "duration": 0,
               "easing": "linear"
              }
             }
            ],
            "label": "2016",
            "method": "animate"
           },
           {
            "args": [
             [
              "2017"
             ],
             {
              "frame": {
               "duration": 0,
               "redraw": true
              },
              "fromcurrent": true,
              "mode": "immediate",
              "transition": {
               "duration": 0,
               "easing": "linear"
              }
             }
            ],
            "label": "2017",
            "method": "animate"
           },
           {
            "args": [
             [
              "2018"
             ],
             {
              "frame": {
               "duration": 0,
               "redraw": true
              },
              "fromcurrent": true,
              "mode": "immediate",
              "transition": {
               "duration": 0,
               "easing": "linear"
              }
             }
            ],
            "label": "2018",
            "method": "animate"
           },
           {
            "args": [
             [
              "2019"
             ],
             {
              "frame": {
               "duration": 0,
               "redraw": true
              },
              "fromcurrent": true,
              "mode": "immediate",
              "transition": {
               "duration": 0,
               "easing": "linear"
              }
             }
            ],
            "label": "2019",
            "method": "animate"
           },
           {
            "args": [
             [
              "2020"
             ],
             {
              "frame": {
               "duration": 0,
               "redraw": true
              },
              "fromcurrent": true,
              "mode": "immediate",
              "transition": {
               "duration": 0,
               "easing": "linear"
              }
             }
            ],
            "label": "2020",
            "method": "animate"
           },
           {
            "args": [
             [
              "2021"
             ],
             {
              "frame": {
               "duration": 0,
               "redraw": true
              },
              "fromcurrent": true,
              "mode": "immediate",
              "transition": {
               "duration": 0,
               "easing": "linear"
              }
             }
            ],
            "label": "2021",
            "method": "animate"
           },
           {
            "args": [
             [
              "2022"
             ],
             {
              "frame": {
               "duration": 0,
               "redraw": true
              },
              "fromcurrent": true,
              "mode": "immediate",
              "transition": {
               "duration": 0,
               "easing": "linear"
              }
             }
            ],
            "label": "2022",
            "method": "animate"
           },
           {
            "args": [
             [
              "2023"
             ],
             {
              "frame": {
               "duration": 0,
               "redraw": true
              },
              "fromcurrent": true,
              "mode": "immediate",
              "transition": {
               "duration": 0,
               "easing": "linear"
              }
             }
            ],
            "label": "2023",
            "method": "animate"
           },
           {
            "args": [
             [
              "2024"
             ],
             {
              "frame": {
               "duration": 0,
               "redraw": true
              },
              "fromcurrent": true,
              "mode": "immediate",
              "transition": {
               "duration": 0,
               "easing": "linear"
              }
             }
            ],
            "label": "2024",
            "method": "animate"
           }
          ],
          "x": 0.1,
          "xanchor": "left",
          "y": 0,
          "yanchor": "top"
         }
        ],
        "template": {
         "data": {
          "bar": [
           {
            "error_x": {
             "color": "#2a3f5f"
            },
            "error_y": {
             "color": "#2a3f5f"
            },
            "marker": {
             "line": {
              "color": "#E5ECF6",
              "width": 0.5
             },
             "pattern": {
              "fillmode": "overlay",
              "size": 10,
              "solidity": 0.2
             }
            },
            "type": "bar"
           }
          ],
          "barpolar": [
           {
            "marker": {
             "line": {
              "color": "#E5ECF6",
              "width": 0.5
             },
             "pattern": {
              "fillmode": "overlay",
              "size": 10,
              "solidity": 0.2
             }
            },
            "type": "barpolar"
           }
          ],
          "carpet": [
           {
            "aaxis": {
             "endlinecolor": "#2a3f5f",
             "gridcolor": "white",
             "linecolor": "white",
             "minorgridcolor": "white",
             "startlinecolor": "#2a3f5f"
            },
            "baxis": {
             "endlinecolor": "#2a3f5f",
             "gridcolor": "white",
             "linecolor": "white",
             "minorgridcolor": "white",
             "startlinecolor": "#2a3f5f"
            },
            "type": "carpet"
           }
          ],
          "choropleth": [
           {
            "colorbar": {
             "outlinewidth": 0,
             "ticks": ""
            },
            "type": "choropleth"
           }
          ],
          "contour": [
           {
            "colorbar": {
             "outlinewidth": 0,
             "ticks": ""
            },
            "colorscale": [
             [
              0,
              "#0d0887"
             ],
             [
              0.1111111111111111,
              "#46039f"
             ],
             [
              0.2222222222222222,
              "#7201a8"
             ],
             [
              0.3333333333333333,
              "#9c179e"
             ],
             [
              0.4444444444444444,
              "#bd3786"
             ],
             [
              0.5555555555555556,
              "#d8576b"
             ],
             [
              0.6666666666666666,
              "#ed7953"
             ],
             [
              0.7777777777777778,
              "#fb9f3a"
             ],
             [
              0.8888888888888888,
              "#fdca26"
             ],
             [
              1,
              "#f0f921"
             ]
            ],
            "type": "contour"
           }
          ],
          "contourcarpet": [
           {
            "colorbar": {
             "outlinewidth": 0,
             "ticks": ""
            },
            "type": "contourcarpet"
           }
          ],
          "heatmap": [
           {
            "colorbar": {
             "outlinewidth": 0,
             "ticks": ""
            },
            "colorscale": [
             [
              0,
              "#0d0887"
             ],
             [
              0.1111111111111111,
              "#46039f"
             ],
             [
              0.2222222222222222,
              "#7201a8"
             ],
             [
              0.3333333333333333,
              "#9c179e"
             ],
             [
              0.4444444444444444,
              "#bd3786"
             ],
             [
              0.5555555555555556,
              "#d8576b"
             ],
             [
              0.6666666666666666,
              "#ed7953"
             ],
             [
              0.7777777777777778,
              "#fb9f3a"
             ],
             [
              0.8888888888888888,
              "#fdca26"
             ],
             [
              1,
              "#f0f921"
             ]
            ],
            "type": "heatmap"
           }
          ],
          "heatmapgl": [
           {
            "colorbar": {
             "outlinewidth": 0,
             "ticks": ""
            },
            "colorscale": [
             [
              0,
              "#0d0887"
             ],
             [
              0.1111111111111111,
              "#46039f"
             ],
             [
              0.2222222222222222,
              "#7201a8"
             ],
             [
              0.3333333333333333,
              "#9c179e"
             ],
             [
              0.4444444444444444,
              "#bd3786"
             ],
             [
              0.5555555555555556,
              "#d8576b"
             ],
             [
              0.6666666666666666,
              "#ed7953"
             ],
             [
              0.7777777777777778,
              "#fb9f3a"
             ],
             [
              0.8888888888888888,
              "#fdca26"
             ],
             [
              1,
              "#f0f921"
             ]
            ],
            "type": "heatmapgl"
           }
          ],
          "histogram": [
           {
            "marker": {
             "pattern": {
              "fillmode": "overlay",
              "size": 10,
              "solidity": 0.2
             }
            },
            "type": "histogram"
           }
          ],
          "histogram2d": [
           {
            "colorbar": {
             "outlinewidth": 0,
             "ticks": ""
            },
            "colorscale": [
             [
              0,
              "#0d0887"
             ],
             [
              0.1111111111111111,
              "#46039f"
             ],
             [
              0.2222222222222222,
              "#7201a8"
             ],
             [
              0.3333333333333333,
              "#9c179e"
             ],
             [
              0.4444444444444444,
              "#bd3786"
             ],
             [
              0.5555555555555556,
              "#d8576b"
             ],
             [
              0.6666666666666666,
              "#ed7953"
             ],
             [
              0.7777777777777778,
              "#fb9f3a"
             ],
             [
              0.8888888888888888,
              "#fdca26"
             ],
             [
              1,
              "#f0f921"
             ]
            ],
            "type": "histogram2d"
           }
          ],
          "histogram2dcontour": [
           {
            "colorbar": {
             "outlinewidth": 0,
             "ticks": ""
            },
            "colorscale": [
             [
              0,
              "#0d0887"
             ],
             [
              0.1111111111111111,
              "#46039f"
             ],
             [
              0.2222222222222222,
              "#7201a8"
             ],
             [
              0.3333333333333333,
              "#9c179e"
             ],
             [
              0.4444444444444444,
              "#bd3786"
             ],
             [
              0.5555555555555556,
              "#d8576b"
             ],
             [
              0.6666666666666666,
              "#ed7953"
             ],
             [
              0.7777777777777778,
              "#fb9f3a"
             ],
             [
              0.8888888888888888,
              "#fdca26"
             ],
             [
              1,
              "#f0f921"
             ]
            ],
            "type": "histogram2dcontour"
           }
          ],
          "mesh3d": [
           {
            "colorbar": {
             "outlinewidth": 0,
             "ticks": ""
            },
            "type": "mesh3d"
           }
          ],
          "parcoords": [
           {
            "line": {
             "colorbar": {
              "outlinewidth": 0,
              "ticks": ""
             }
            },
            "type": "parcoords"
           }
          ],
          "pie": [
           {
            "automargin": true,
            "type": "pie"
           }
          ],
          "scatter": [
           {
            "fillpattern": {
             "fillmode": "overlay",
             "size": 10,
             "solidity": 0.2
            },
            "type": "scatter"
           }
          ],
          "scatter3d": [
           {
            "line": {
             "colorbar": {
              "outlinewidth": 0,
              "ticks": ""
             }
            },
            "marker": {
             "colorbar": {
              "outlinewidth": 0,
              "ticks": ""
             }
            },
            "type": "scatter3d"
           }
          ],
          "scattercarpet": [
           {
            "marker": {
             "colorbar": {
              "outlinewidth": 0,
              "ticks": ""
             }
            },
            "type": "scattercarpet"
           }
          ],
          "scattergeo": [
           {
            "marker": {
             "colorbar": {
              "outlinewidth": 0,
              "ticks": ""
             }
            },
            "type": "scattergeo"
           }
          ],
          "scattergl": [
           {
            "marker": {
             "colorbar": {
              "outlinewidth": 0,
              "ticks": ""
             }
            },
            "type": "scattergl"
           }
          ],
          "scattermapbox": [
           {
            "marker": {
             "colorbar": {
              "outlinewidth": 0,
              "ticks": ""
             }
            },
            "type": "scattermapbox"
           }
          ],
          "scatterpolar": [
           {
            "marker": {
             "colorbar": {
              "outlinewidth": 0,
              "ticks": ""
             }
            },
            "type": "scatterpolar"
           }
          ],
          "scatterpolargl": [
           {
            "marker": {
             "colorbar": {
              "outlinewidth": 0,
              "ticks": ""
             }
            },
            "type": "scatterpolargl"
           }
          ],
          "scatterternary": [
           {
            "marker": {
             "colorbar": {
              "outlinewidth": 0,
              "ticks": ""
             }
            },
            "type": "scatterternary"
           }
          ],
          "surface": [
           {
            "colorbar": {
             "outlinewidth": 0,
             "ticks": ""
            },
            "colorscale": [
             [
              0,
              "#0d0887"
             ],
             [
              0.1111111111111111,
              "#46039f"
             ],
             [
              0.2222222222222222,
              "#7201a8"
             ],
             [
              0.3333333333333333,
              "#9c179e"
             ],
             [
              0.4444444444444444,
              "#bd3786"
             ],
             [
              0.5555555555555556,
              "#d8576b"
             ],
             [
              0.6666666666666666,
              "#ed7953"
             ],
             [
              0.7777777777777778,
              "#fb9f3a"
             ],
             [
              0.8888888888888888,
              "#fdca26"
             ],
             [
              1,
              "#f0f921"
             ]
            ],
            "type": "surface"
           }
          ],
          "table": [
           {
            "cells": {
             "fill": {
              "color": "#EBF0F8"
             },
             "line": {
              "color": "white"
             }
            },
            "header": {
             "fill": {
              "color": "#C8D4E3"
             },
             "line": {
              "color": "white"
             }
            },
            "type": "table"
           }
          ]
         },
         "layout": {
          "annotationdefaults": {
           "arrowcolor": "#2a3f5f",
           "arrowhead": 0,
           "arrowwidth": 1
          },
          "autotypenumbers": "strict",
          "coloraxis": {
           "colorbar": {
            "outlinewidth": 0,
            "ticks": ""
           }
          },
          "colorscale": {
           "diverging": [
            [
             0,
             "#8e0152"
            ],
            [
             0.1,
             "#c51b7d"
            ],
            [
             0.2,
             "#de77ae"
            ],
            [
             0.3,
             "#f1b6da"
            ],
            [
             0.4,
             "#fde0ef"
            ],
            [
             0.5,
             "#f7f7f7"
            ],
            [
             0.6,
             "#e6f5d0"
            ],
            [
             0.7,
             "#b8e186"
            ],
            [
             0.8,
             "#7fbc41"
            ],
            [
             0.9,
             "#4d9221"
            ],
            [
             1,
             "#276419"
            ]
           ],
           "sequential": [
            [
             0,
             "#0d0887"
            ],
            [
             0.1111111111111111,
             "#46039f"
            ],
            [
             0.2222222222222222,
             "#7201a8"
            ],
            [
             0.3333333333333333,
             "#9c179e"
            ],
            [
             0.4444444444444444,
             "#bd3786"
            ],
            [
             0.5555555555555556,
             "#d8576b"
            ],
            [
             0.6666666666666666,
             "#ed7953"
            ],
            [
             0.7777777777777778,
             "#fb9f3a"
            ],
            [
             0.8888888888888888,
             "#fdca26"
            ],
            [
             1,
             "#f0f921"
            ]
           ],
           "sequentialminus": [
            [
             0,
             "#0d0887"
            ],
            [
             0.1111111111111111,
             "#46039f"
            ],
            [
             0.2222222222222222,
             "#7201a8"
            ],
            [
             0.3333333333333333,
             "#9c179e"
            ],
            [
             0.4444444444444444,
             "#bd3786"
            ],
            [
             0.5555555555555556,
             "#d8576b"
            ],
            [
             0.6666666666666666,
             "#ed7953"
            ],
            [
             0.7777777777777778,
             "#fb9f3a"
            ],
            [
             0.8888888888888888,
             "#fdca26"
            ],
            [
             1,
             "#f0f921"
            ]
           ]
          },
          "colorway": [
           "#636efa",
           "#EF553B",
           "#00cc96",
           "#ab63fa",
           "#FFA15A",
           "#19d3f3",
           "#FF6692",
           "#B6E880",
           "#FF97FF",
           "#FECB52"
          ],
          "font": {
           "color": "#2a3f5f"
          },
          "geo": {
           "bgcolor": "white",
           "lakecolor": "white",
           "landcolor": "#E5ECF6",
           "showlakes": true,
           "showland": true,
           "subunitcolor": "white"
          },
          "hoverlabel": {
           "align": "left"
          },
          "hovermode": "closest",
          "mapbox": {
           "style": "light"
          },
          "paper_bgcolor": "white",
          "plot_bgcolor": "#E5ECF6",
          "polar": {
           "angularaxis": {
            "gridcolor": "white",
            "linecolor": "white",
            "ticks": ""
           },
           "bgcolor": "#E5ECF6",
           "radialaxis": {
            "gridcolor": "white",
            "linecolor": "white",
            "ticks": ""
           }
          },
          "scene": {
           "xaxis": {
            "backgroundcolor": "#E5ECF6",
            "gridcolor": "white",
            "gridwidth": 2,
            "linecolor": "white",
            "showbackground": true,
            "ticks": "",
            "zerolinecolor": "white"
           },
           "yaxis": {
            "backgroundcolor": "#E5ECF6",
            "gridcolor": "white",
            "gridwidth": 2,
            "linecolor": "white",
            "showbackground": true,
            "ticks": "",
            "zerolinecolor": "white"
           },
           "zaxis": {
            "backgroundcolor": "#E5ECF6",
            "gridcolor": "white",
            "gridwidth": 2,
            "linecolor": "white",
            "showbackground": true,
            "ticks": "",
            "zerolinecolor": "white"
           }
          },
          "shapedefaults": {
           "line": {
            "color": "#2a3f5f"
           }
          },
          "ternary": {
           "aaxis": {
            "gridcolor": "white",
            "linecolor": "white",
            "ticks": ""
           },
           "baxis": {
            "gridcolor": "white",
            "linecolor": "white",
            "ticks": ""
           },
           "bgcolor": "#E5ECF6",
           "caxis": {
            "gridcolor": "white",
            "linecolor": "white",
            "ticks": ""
           }
          },
          "title": {
           "x": 0.05
          },
          "xaxis": {
           "automargin": true,
           "gridcolor": "white",
           "linecolor": "white",
           "ticks": "",
           "title": {
            "standoff": 15
           },
           "zerolinecolor": "white",
           "zerolinewidth": 2
          },
          "yaxis": {
           "automargin": true,
           "gridcolor": "white",
           "linecolor": "white",
           "ticks": "",
           "title": {
            "standoff": 15
           },
           "zerolinecolor": "white",
           "zerolinewidth": 2
          }
         }
        },
        "title": {
         "font": {
          "color": "black",
          "family": "Helvetica",
          "size": 12
         },
         "text": "Number of 10s Scored on Each Apparatus Over the Years"
        },
        "updatemenus": [
         {
          "buttons": [
           {
            "args": [
             null,
             {
              "frame": {
               "duration": 500,
               "redraw": true
              },
              "fromcurrent": true,
              "mode": "immediate",
              "transition": {
               "duration": 500,
               "easing": "linear"
              }
             }
            ],
            "label": "&#9654;",
            "method": "animate"
           },
           {
            "args": [
             [
              null
             ],
             {
              "frame": {
               "duration": 0,
               "redraw": true
              },
              "fromcurrent": true,
              "mode": "immediate",
              "transition": {
               "duration": 0,
               "easing": "linear"
              }
             }
            ],
            "label": "&#9724;",
            "method": "animate"
           }
          ],
          "direction": "left",
          "pad": {
           "r": 10,
           "t": 70
          },
          "showactive": false,
          "type": "buttons",
          "x": 0.1,
          "xanchor": "right",
          "y": 0,
          "yanchor": "top"
         }
        ],
        "xaxis": {
         "anchor": "y",
         "categoryarray": [
          "Vault",
          "Uneven Bars",
          "Balance Beam",
          "Floor Exercise"
         ],
         "categoryorder": "array",
         "domain": [
          0,
          1
         ],
         "gridcolor": "#EEEEEE",
         "title": {
          "font": {
           "color": "black",
           "family": "Helvetica",
           "size": 12
          },
          "text": "Apparatus"
         }
        },
        "yaxis": {
         "anchor": "x",
         "domain": [
          0,
          1
         ],
         "gridcolor": "#EEEEEE",
         "range": [
          0,
          126
         ],
         "title": {
          "font": {
           "color": "black",
           "family": "Helvetica",
           "size": 12
          },
          "text": "No. of Tens"
         }
        }
       }
      }
     },
     "metadata": {},
     "output_type": "display_data"
    }
   ],
   "source": [
    "# Making an animated plot to show the number of 10s scored on each apparatus over the years\n",
    "\n",
    "# Sample distinct colors from the Viridis color scale\n",
    "num_colors = len(tenniest_apparatus_per_year['Apparatus'].unique())\n",
    "viridis_colors = px.colors.sample_colorscale(px.colors.sequential.Viridis, [i/num_colors for i in range(num_colors)])\n",
    "\n",
    "tenniest_apparatus_py = px.bar(tenniest_apparatus_per_year, \n",
    "                x=\"Apparatus\", \n",
    "                y=\"No. of Tens\", \n",
    "                animation_frame=\"Season\",       \n",
    "                color=\"Apparatus\", \n",
    "                hover_name=\"Apparatus\",\n",
    "                range_y=[0, tenniest_apparatus_per_year[\"No. of Tens\"].max()], # Set the y-axis range\n",
    "                color_discrete_sequence=viridis_colors,\n",
    "                opacity=0.8\n",
    "            )\n",
    "\n",
    "# Customize the layout\n",
    "tenniest_apparatus_py.update_layout(\n",
    "    title=\"Number of 10s Scored on Each Apparatus Over the Years\",\n",
    "    title_font=dict(size=12, family='Helvetica', color='black'),\n",
    "    xaxis_title=\"Apparatus\",\n",
    "    xaxis_title_font=dict(size=12, family='Helvetica', color='black'),\n",
    "    yaxis_title=\"No. of Tens\",\n",
    "    yaxis_title_font=dict(size=12, family='Helvetica', color='black'),\n",
    "    legend_title=\"Apparatus\",\n",
    "    legend_title_font=dict(size=12, family='Helvetica', color='black'),\n",
    "    font=dict(size=10, family='Helvetica', color='black'),\n",
    "    plot_bgcolor='white',  # Set plot background to white\n",
    "    paper_bgcolor='white',  # Set paper background to white\n",
    "    xaxis=dict(\n",
    "        gridcolor='#EEEEEE'  # Set x-axis grid lines to light grey\n",
    "    ),\n",
    "    yaxis=dict(\n",
    "        gridcolor='#EEEEEE'  # Set y-axis grid lines to light grey\n",
    "    ),\n",
    "    legend=dict(\n",
    "        orientation=\"h\",  #horizontal legend\n",
    "        yanchor=\"bottom\",  \n",
    "        y=-1,  \n",
    "        xanchor=\"center\",  \n",
    "        x=0.5  \n",
    "    )\n",
    ")\n",
    "# Export the plot to html file\n",
    "tenniest_apparatus_py.write_html(\"../docs/figures/tenniest_apparatus_per_year.html\")\n",
    "\n",
    "# Show the plot\n",
    "tenniest_apparatus_py"
   ]
  },
  {
   "cell_type": "markdown",
   "metadata": {},
   "source": [
    "## 2.2 The tenniest teams\n",
    "\n",
    "Ok, but this is a competition, isn't it? Which *teams* have been the most successful in achieving tens over the years? Has it changed over time?\n",
    "\n",
    "I'd like to run a similar analysis to the above, but this time looking at which teams are the most likely to score a 10. \n",
    "\n",
    "In recent years, Oklahoma has been the most dominant team, with flashes of brilliance from UCLA, LSU and Michigan. Florida's team is currently stacked with former Olympians and National Team members, so one would assume they would also be highly ranked on this metric.\n",
    "\n",
    "### 2.2.1 Retrieve the data from the database"
   ]
  },
  {
   "cell_type": "code",
   "execution_count": 9,
   "metadata": {
    "vscode": {
     "languageId": "sql"
    }
   },
   "outputs": [
    {
     "data": {
      "text/html": [
       "<span style=\"None\">Running query in &#x27;gymternet&#x27;</span>"
      ],
      "text/plain": [
       "Running query in 'gymternet'"
      ]
     },
     "metadata": {},
     "output_type": "display_data"
    },
    {
     "data": {
      "text/html": [
       "<table>\n",
       "    <thead>\n",
       "        <tr>\n",
       "            <th>Vault</th>\n",
       "            <th>Uneven Bars</th>\n",
       "            <th>Balance Beam</th>\n",
       "            <th>Floor Exercise</th>\n",
       "            <th>Total 10s</th>\n",
       "            <th>team_id</th>\n",
       "            <th>Team</th>\n",
       "            <th>Season</th>\n",
       "        </tr>\n",
       "    </thead>\n",
       "    <tbody>\n",
       "        <tr>\n",
       "            <td>0</td>\n",
       "            <td>0</td>\n",
       "            <td>0</td>\n",
       "            <td>0</td>\n",
       "            <td>0</td>\n",
       "            <td>1</td>\n",
       "            <td>Air Force</td>\n",
       "            <td>2015</td>\n",
       "        </tr>\n",
       "        <tr>\n",
       "            <td>0</td>\n",
       "            <td>0</td>\n",
       "            <td>0</td>\n",
       "            <td>0</td>\n",
       "            <td>0</td>\n",
       "            <td>1</td>\n",
       "            <td>Air Force</td>\n",
       "            <td>2015</td>\n",
       "        </tr>\n",
       "        <tr>\n",
       "            <td>0</td>\n",
       "            <td>0</td>\n",
       "            <td>0</td>\n",
       "            <td>0</td>\n",
       "            <td>0</td>\n",
       "            <td>1</td>\n",
       "            <td>Air Force</td>\n",
       "            <td>2015</td>\n",
       "        </tr>\n",
       "        <tr>\n",
       "            <td>0</td>\n",
       "            <td>0</td>\n",
       "            <td>0</td>\n",
       "            <td>0</td>\n",
       "            <td>0</td>\n",
       "            <td>1</td>\n",
       "            <td>Air Force</td>\n",
       "            <td>2015</td>\n",
       "        </tr>\n",
       "        <tr>\n",
       "            <td>0</td>\n",
       "            <td>0</td>\n",
       "            <td>0</td>\n",
       "            <td>0</td>\n",
       "            <td>0</td>\n",
       "            <td>1</td>\n",
       "            <td>Air Force</td>\n",
       "            <td>2015</td>\n",
       "        </tr>\n",
       "        <tr>\n",
       "            <td>0</td>\n",
       "            <td>0</td>\n",
       "            <td>0</td>\n",
       "            <td>0</td>\n",
       "            <td>0</td>\n",
       "            <td>1</td>\n",
       "            <td>Air Force</td>\n",
       "            <td>2015</td>\n",
       "        </tr>\n",
       "        <tr>\n",
       "            <td>0</td>\n",
       "            <td>0</td>\n",
       "            <td>0</td>\n",
       "            <td>0</td>\n",
       "            <td>0</td>\n",
       "            <td>1</td>\n",
       "            <td>Air Force</td>\n",
       "            <td>2015</td>\n",
       "        </tr>\n",
       "        <tr>\n",
       "            <td>0</td>\n",
       "            <td>0</td>\n",
       "            <td>0</td>\n",
       "            <td>0</td>\n",
       "            <td>0</td>\n",
       "            <td>1</td>\n",
       "            <td>Air Force</td>\n",
       "            <td>2015</td>\n",
       "        </tr>\n",
       "        <tr>\n",
       "            <td>0</td>\n",
       "            <td>0</td>\n",
       "            <td>0</td>\n",
       "            <td>0</td>\n",
       "            <td>0</td>\n",
       "            <td>1</td>\n",
       "            <td>Air Force</td>\n",
       "            <td>2015</td>\n",
       "        </tr>\n",
       "        <tr>\n",
       "            <td>0</td>\n",
       "            <td>0</td>\n",
       "            <td>0</td>\n",
       "            <td>0</td>\n",
       "            <td>0</td>\n",
       "            <td>1</td>\n",
       "            <td>Air Force</td>\n",
       "            <td>2015</td>\n",
       "        </tr>\n",
       "    </tbody>\n",
       "</table>\n",
       "<span style=\"font-style:italic;text-align:center;\">Truncated to <a href=\"https://jupysql.ploomber.io/en/latest/api/configuration.html#displaylimit\">displaylimit</a> of 10.</span>"
      ],
      "text/plain": [
       "+-------+-------------+--------------+----------------+-----------+---------+-----------+--------+\n",
       "| Vault | Uneven Bars | Balance Beam | Floor Exercise | Total 10s | team_id |    Team   | Season |\n",
       "+-------+-------------+--------------+----------------+-----------+---------+-----------+--------+\n",
       "|   0   |      0      |      0       |       0        |     0     |    1    | Air Force |  2015  |\n",
       "|   0   |      0      |      0       |       0        |     0     |    1    | Air Force |  2015  |\n",
       "|   0   |      0      |      0       |       0        |     0     |    1    | Air Force |  2015  |\n",
       "|   0   |      0      |      0       |       0        |     0     |    1    | Air Force |  2015  |\n",
       "|   0   |      0      |      0       |       0        |     0     |    1    | Air Force |  2015  |\n",
       "|   0   |      0      |      0       |       0        |     0     |    1    | Air Force |  2015  |\n",
       "|   0   |      0      |      0       |       0        |     0     |    1    | Air Force |  2015  |\n",
       "|   0   |      0      |      0       |       0        |     0     |    1    | Air Force |  2015  |\n",
       "|   0   |      0      |      0       |       0        |     0     |    1    | Air Force |  2015  |\n",
       "|   0   |      0      |      0       |       0        |     0     |    1    | Air Force |  2015  |\n",
       "+-------+-------------+--------------+----------------+-----------+---------+-----------+--------+\n",
       "Truncated to displaylimit of 10."
      ]
     },
     "execution_count": 9,
     "metadata": {},
     "output_type": "execute_result"
    }
   ],
   "source": [
    "%%sql --alias gymternet\n",
    "\n",
    "SELECT \n",
    "    SUM(r.vt_score = 10.0) AS 'Vault',\n",
    "    SUM(r.ub_score = 10.0) AS 'Uneven Bars',\n",
    "    SUM(r.bb_score = 10.0) AS 'Balance Beam',\n",
    "    SUM(r.fx_score = 10.0) AS 'Floor Exercise',\n",
    "    SUM(r.vt_score = 10.0) + SUM(r.ub_score = 10.0) + SUM(r.bb_score = 10.0) + SUM(r.fx_score = 10.0) AS 'Total 10s',\n",
    "    g.team_id AS 'team_id',\n",
    "    t.team_name AS 'Team',\n",
    "    m.year AS 'Season'\n",
    "FROM gymnast_results AS r\n",
    "LEFT JOIN gymnasts AS g\n",
    "ON g.gymnast_id = r.gymnast_id\n",
    "LEFT JOIN teams as t\n",
    "ON t.team_id = g.team_id\n",
    "LEFT JOIN meets as m\n",
    "ON m.meet_id = r.meet_id\n",
    "GROUP BY t.team_name, r.meet_id;"
   ]
  },
  {
   "cell_type": "markdown",
   "metadata": {},
   "source": [
    "### 2.2.2 Import the data into a dataframe"
   ]
  },
  {
   "cell_type": "code",
   "execution_count": 10,
   "metadata": {},
   "outputs": [
    {
     "data": {
      "text/html": [
       "<div>\n",
       "<style scoped>\n",
       "    .dataframe tbody tr th:only-of-type {\n",
       "        vertical-align: middle;\n",
       "    }\n",
       "\n",
       "    .dataframe tbody tr th {\n",
       "        vertical-align: top;\n",
       "    }\n",
       "\n",
       "    .dataframe thead th {\n",
       "        text-align: right;\n",
       "    }\n",
       "</style>\n",
       "<table border=\"1\" class=\"dataframe\">\n",
       "  <thead>\n",
       "    <tr style=\"text-align: right;\">\n",
       "      <th></th>\n",
       "      <th>Vault</th>\n",
       "      <th>Uneven Bars</th>\n",
       "      <th>Balance Beam</th>\n",
       "      <th>Floor Exercise</th>\n",
       "      <th>Total 10s</th>\n",
       "      <th>Team</th>\n",
       "      <th>Season</th>\n",
       "    </tr>\n",
       "  </thead>\n",
       "  <tbody>\n",
       "    <tr>\n",
       "      <th>0</th>\n",
       "      <td>0.0</td>\n",
       "      <td>0.0</td>\n",
       "      <td>0.0</td>\n",
       "      <td>0.0</td>\n",
       "      <td>0.0</td>\n",
       "      <td>Air Force</td>\n",
       "      <td>2015</td>\n",
       "    </tr>\n",
       "    <tr>\n",
       "      <th>1</th>\n",
       "      <td>0.0</td>\n",
       "      <td>0.0</td>\n",
       "      <td>0.0</td>\n",
       "      <td>0.0</td>\n",
       "      <td>0.0</td>\n",
       "      <td>Air Force</td>\n",
       "      <td>2015</td>\n",
       "    </tr>\n",
       "    <tr>\n",
       "      <th>2</th>\n",
       "      <td>0.0</td>\n",
       "      <td>0.0</td>\n",
       "      <td>0.0</td>\n",
       "      <td>0.0</td>\n",
       "      <td>0.0</td>\n",
       "      <td>Air Force</td>\n",
       "      <td>2015</td>\n",
       "    </tr>\n",
       "    <tr>\n",
       "      <th>3</th>\n",
       "      <td>0.0</td>\n",
       "      <td>0.0</td>\n",
       "      <td>0.0</td>\n",
       "      <td>0.0</td>\n",
       "      <td>0.0</td>\n",
       "      <td>Air Force</td>\n",
       "      <td>2015</td>\n",
       "    </tr>\n",
       "    <tr>\n",
       "      <th>4</th>\n",
       "      <td>0.0</td>\n",
       "      <td>0.0</td>\n",
       "      <td>0.0</td>\n",
       "      <td>0.0</td>\n",
       "      <td>0.0</td>\n",
       "      <td>Air Force</td>\n",
       "      <td>2015</td>\n",
       "    </tr>\n",
       "  </tbody>\n",
       "</table>\n",
       "</div>"
      ],
      "text/plain": [
       "   Vault  Uneven Bars  Balance Beam  Floor Exercise  Total 10s       Team  \\\n",
       "0    0.0          0.0           0.0             0.0        0.0  Air Force   \n",
       "1    0.0          0.0           0.0             0.0        0.0  Air Force   \n",
       "2    0.0          0.0           0.0             0.0        0.0  Air Force   \n",
       "3    0.0          0.0           0.0             0.0        0.0  Air Force   \n",
       "4    0.0          0.0           0.0             0.0        0.0  Air Force   \n",
       "\n",
       "   Season  \n",
       "0    2015  \n",
       "1    2015  \n",
       "2    2015  \n",
       "3    2015  \n",
       "4    2015  "
      ]
     },
     "execution_count": 10,
     "metadata": {},
     "output_type": "execute_result"
    }
   ],
   "source": [
    "# Export the above query to a new df\n",
    "tenniest_teams_query = \"\"\"\n",
    "SELECT \n",
    "    SUM(r.vt_score = 10.0) AS 'Vault',\n",
    "    SUM(r.ub_score = 10.0) AS 'Uneven Bars',\n",
    "    SUM(r.bb_score = 10.0) AS 'Balance Beam',\n",
    "    SUM(r.fx_score = 10.0) AS 'Floor Exercise',\n",
    "    SUM(r.vt_score = 10.0) + SUM(r.ub_score = 10.0) + SUM(r.bb_score = 10.0) + SUM(r.fx_score = 10.0) AS 'Total 10s',\n",
    "    g.team_id AS 'team_id',\n",
    "    t.team_name AS 'Team',\n",
    "    m.year AS 'Season'\n",
    "FROM gymnast_results AS r\n",
    "LEFT JOIN gymnasts AS g\n",
    "ON g.gymnast_id = r.gymnast_id\n",
    "LEFT JOIN teams as t\n",
    "ON t.team_id = g.team_id\n",
    "LEFT JOIN meets as m\n",
    "ON m.meet_id = r.meet_id\n",
    "GROUP BY t.team_name, r.meet_id;\n",
    "\"\"\"\n",
    "\n",
    "# Execute the query and store the result in a DataFrame\n",
    "tenniest_teams_df = pd.read_sql_query(tenniest_teams_query, engine)\n",
    "\n",
    "# Drop the now irrelevant team_id column\n",
    "tenniest_teams_df = tenniest_teams_df.drop(columns=['team_id'])\n",
    "\n",
    "# Preview the df\n",
    "tenniest_teams_df.head()"
   ]
  },
  {
   "cell_type": "markdown",
   "metadata": {},
   "source": [
    "### 2.2.3 Prepare the data for plotting\n",
    "\n",
    "I'd like to ignore any team that has never gotten a 10, and then create some visualisations that tell me:\n",
    "\n",
    "- Which teams have gotten the most tens in total over the past 10 years\n",
    "- Which teams have dominated (in terms of number of 10s earned) across each apparatus\n",
    "- How these two analyses have changed over the past 10 years."
   ]
  },
  {
   "cell_type": "code",
   "execution_count": 11,
   "metadata": {},
   "outputs": [
    {
     "data": {
      "text/html": [
       "<div>\n",
       "<style scoped>\n",
       "    .dataframe tbody tr th:only-of-type {\n",
       "        vertical-align: middle;\n",
       "    }\n",
       "\n",
       "    .dataframe tbody tr th {\n",
       "        vertical-align: top;\n",
       "    }\n",
       "\n",
       "    .dataframe thead th {\n",
       "        text-align: right;\n",
       "    }\n",
       "</style>\n",
       "<table border=\"1\" class=\"dataframe\">\n",
       "  <thead>\n",
       "    <tr style=\"text-align: right;\">\n",
       "      <th></th>\n",
       "      <th>Team</th>\n",
       "      <th>Vault</th>\n",
       "      <th>Uneven Bars</th>\n",
       "      <th>Balance Beam</th>\n",
       "      <th>Floor Exercise</th>\n",
       "      <th>Total 10s</th>\n",
       "    </tr>\n",
       "  </thead>\n",
       "  <tbody>\n",
       "    <tr>\n",
       "      <th>0</th>\n",
       "      <td>Air Force</td>\n",
       "      <td>0.0</td>\n",
       "      <td>0.0</td>\n",
       "      <td>0.0</td>\n",
       "      <td>0.0</td>\n",
       "      <td>0.0</td>\n",
       "    </tr>\n",
       "    <tr>\n",
       "      <th>1</th>\n",
       "      <td>Alabama</td>\n",
       "      <td>8.0</td>\n",
       "      <td>12.0</td>\n",
       "      <td>18.0</td>\n",
       "      <td>6.0</td>\n",
       "      <td>44.0</td>\n",
       "    </tr>\n",
       "    <tr>\n",
       "      <th>2</th>\n",
       "      <td>Alaska</td>\n",
       "      <td>0.0</td>\n",
       "      <td>0.0</td>\n",
       "      <td>0.0</td>\n",
       "      <td>0.0</td>\n",
       "      <td>0.0</td>\n",
       "    </tr>\n",
       "    <tr>\n",
       "      <th>3</th>\n",
       "      <td>Arizona</td>\n",
       "      <td>0.0</td>\n",
       "      <td>0.0</td>\n",
       "      <td>0.0</td>\n",
       "      <td>0.0</td>\n",
       "      <td>0.0</td>\n",
       "    </tr>\n",
       "    <tr>\n",
       "      <th>4</th>\n",
       "      <td>Arizona State</td>\n",
       "      <td>0.0</td>\n",
       "      <td>0.0</td>\n",
       "      <td>0.0</td>\n",
       "      <td>0.0</td>\n",
       "      <td>0.0</td>\n",
       "    </tr>\n",
       "  </tbody>\n",
       "</table>\n",
       "</div>"
      ],
      "text/plain": [
       "            Team  Vault  Uneven Bars  Balance Beam  Floor Exercise  Total 10s\n",
       "0      Air Force    0.0          0.0           0.0             0.0        0.0\n",
       "1        Alabama    8.0         12.0          18.0             6.0       44.0\n",
       "2         Alaska    0.0          0.0           0.0             0.0        0.0\n",
       "3        Arizona    0.0          0.0           0.0             0.0        0.0\n",
       "4  Arizona State    0.0          0.0           0.0             0.0        0.0"
      ]
     },
     "execution_count": 11,
     "metadata": {},
     "output_type": "execute_result"
    }
   ],
   "source": [
    "# Let's remove the teams that have never gotten a 10\n",
    "grouped_teams_df = tenniest_teams_df.groupby(['Team']).sum().reset_index()\n",
    "\n",
    "# Any let's drop the irrelevant columns\n",
    "grouped_teams_df = grouped_teams_df.drop(columns = ['Season'])\n",
    "\n",
    "# Preview the new df\n",
    "grouped_teams_df.head()"
   ]
  },
  {
   "cell_type": "code",
   "execution_count": 12,
   "metadata": {},
   "outputs": [
    {
     "data": {
      "text/plain": [
       "(29, 6)"
      ]
     },
     "execution_count": 12,
     "metadata": {},
     "output_type": "execute_result"
    }
   ],
   "source": [
    "# Drop rows where total 10s == 0\n",
    "grouped_teams_df = grouped_teams_df[grouped_teams_df['Total 10s'] != 0]\n",
    "\n",
    "grouped_teams_df = grouped_teams_df.sort_values(by='Team', ascending=True)\n",
    "\n",
    "# Check how many we have\n",
    "grouped_teams_df.shape"
   ]
  },
  {
   "cell_type": "code",
   "execution_count": 13,
   "metadata": {},
   "outputs": [
    {
     "data": {
      "text/html": [
       "<div>\n",
       "<style scoped>\n",
       "    .dataframe tbody tr th:only-of-type {\n",
       "        vertical-align: middle;\n",
       "    }\n",
       "\n",
       "    .dataframe tbody tr th {\n",
       "        vertical-align: top;\n",
       "    }\n",
       "\n",
       "    .dataframe thead th {\n",
       "        text-align: right;\n",
       "    }\n",
       "</style>\n",
       "<table border=\"1\" class=\"dataframe\">\n",
       "  <thead>\n",
       "    <tr style=\"text-align: right;\">\n",
       "      <th></th>\n",
       "      <th>index</th>\n",
       "      <th>Team</th>\n",
       "      <th>Vault</th>\n",
       "      <th>Uneven Bars</th>\n",
       "      <th>Balance Beam</th>\n",
       "      <th>Floor Exercise</th>\n",
       "      <th>Total 10s</th>\n",
       "    </tr>\n",
       "  </thead>\n",
       "  <tbody>\n",
       "    <tr>\n",
       "      <th>0</th>\n",
       "      <td>63</td>\n",
       "      <td>Southern Utah</td>\n",
       "      <td>0.0</td>\n",
       "      <td>0.0</td>\n",
       "      <td>2.0</td>\n",
       "      <td>0.0</td>\n",
       "      <td>2.0</td>\n",
       "    </tr>\n",
       "    <tr>\n",
       "      <th>1</th>\n",
       "      <td>34</td>\n",
       "      <td>Kent State</td>\n",
       "      <td>0.0</td>\n",
       "      <td>0.0</td>\n",
       "      <td>0.0</td>\n",
       "      <td>4.0</td>\n",
       "      <td>4.0</td>\n",
       "    </tr>\n",
       "    <tr>\n",
       "      <th>2</th>\n",
       "      <td>52</td>\n",
       "      <td>Penn State</td>\n",
       "      <td>0.0</td>\n",
       "      <td>4.0</td>\n",
       "      <td>0.0</td>\n",
       "      <td>0.0</td>\n",
       "      <td>4.0</td>\n",
       "    </tr>\n",
       "    <tr>\n",
       "      <th>3</th>\n",
       "      <td>57</td>\n",
       "      <td>S.E. Missouri</td>\n",
       "      <td>0.0</td>\n",
       "      <td>4.0</td>\n",
       "      <td>0.0</td>\n",
       "      <td>0.0</td>\n",
       "      <td>4.0</td>\n",
       "    </tr>\n",
       "    <tr>\n",
       "      <th>4</th>\n",
       "      <td>62</td>\n",
       "      <td>Southern Conn.</td>\n",
       "      <td>0.0</td>\n",
       "      <td>4.0</td>\n",
       "      <td>0.0</td>\n",
       "      <td>0.0</td>\n",
       "      <td>4.0</td>\n",
       "    </tr>\n",
       "  </tbody>\n",
       "</table>\n",
       "</div>"
      ],
      "text/plain": [
       "   index            Team  Vault  Uneven Bars  Balance Beam  Floor Exercise  \\\n",
       "0     63   Southern Utah    0.0          0.0           2.0             0.0   \n",
       "1     34      Kent State    0.0          0.0           0.0             4.0   \n",
       "2     52      Penn State    0.0          4.0           0.0             0.0   \n",
       "3     57   S.E. Missouri    0.0          4.0           0.0             0.0   \n",
       "4     62  Southern Conn.    0.0          4.0           0.0             0.0   \n",
       "\n",
       "   Total 10s  \n",
       "0        2.0  \n",
       "1        4.0  \n",
       "2        4.0  \n",
       "3        4.0  \n",
       "4        4.0  "
      ]
     },
     "execution_count": 13,
     "metadata": {},
     "output_type": "execute_result"
    }
   ],
   "source": [
    "# Sort the grouped_teams df by number of overall tens\n",
    "grouped_teams_df = grouped_teams_df.sort_values(by='Total 10s', ascending=True).reset_index()\n",
    "\n",
    "#Preview the df\n",
    "grouped_teams_df.head()"
   ]
  },
  {
   "cell_type": "markdown",
   "metadata": {},
   "source": [
    "That's looking good! The `grouped_teams` DataFrame will feed the plot that analyses the Tenniest Teams of All Time*.\n",
    "\n",
    "*For the purposes of this analysis, time began in 2015.\n",
    "\n",
    "Now I need to create a longer DataFrame that can facet along the apparatus."
   ]
  },
  {
   "cell_type": "code",
   "execution_count": 14,
   "metadata": {},
   "outputs": [
    {
     "data": {
      "text/html": [
       "<div>\n",
       "<style scoped>\n",
       "    .dataframe tbody tr th:only-of-type {\n",
       "        vertical-align: middle;\n",
       "    }\n",
       "\n",
       "    .dataframe tbody tr th {\n",
       "        vertical-align: top;\n",
       "    }\n",
       "\n",
       "    .dataframe thead th {\n",
       "        text-align: right;\n",
       "    }\n",
       "</style>\n",
       "<table border=\"1\" class=\"dataframe\">\n",
       "  <thead>\n",
       "    <tr style=\"text-align: right;\">\n",
       "      <th></th>\n",
       "      <th>Team</th>\n",
       "      <th>Apparatus</th>\n",
       "      <th>No. of Tens</th>\n",
       "    </tr>\n",
       "  </thead>\n",
       "  <tbody>\n",
       "    <tr>\n",
       "      <th>0</th>\n",
       "      <td>Southern Utah</td>\n",
       "      <td>Vault</td>\n",
       "      <td>0.0</td>\n",
       "    </tr>\n",
       "    <tr>\n",
       "      <th>1</th>\n",
       "      <td>Kent State</td>\n",
       "      <td>Vault</td>\n",
       "      <td>0.0</td>\n",
       "    </tr>\n",
       "    <tr>\n",
       "      <th>2</th>\n",
       "      <td>Penn State</td>\n",
       "      <td>Vault</td>\n",
       "      <td>0.0</td>\n",
       "    </tr>\n",
       "    <tr>\n",
       "      <th>3</th>\n",
       "      <td>S.E. Missouri</td>\n",
       "      <td>Vault</td>\n",
       "      <td>0.0</td>\n",
       "    </tr>\n",
       "    <tr>\n",
       "      <th>4</th>\n",
       "      <td>Southern Conn.</td>\n",
       "      <td>Vault</td>\n",
       "      <td>0.0</td>\n",
       "    </tr>\n",
       "  </tbody>\n",
       "</table>\n",
       "</div>"
      ],
      "text/plain": [
       "             Team Apparatus  No. of Tens\n",
       "0   Southern Utah     Vault          0.0\n",
       "1      Kent State     Vault          0.0\n",
       "2      Penn State     Vault          0.0\n",
       "3   S.E. Missouri     Vault          0.0\n",
       "4  Southern Conn.     Vault          0.0"
      ]
     },
     "execution_count": 14,
     "metadata": {},
     "output_type": "execute_result"
    }
   ],
   "source": [
    "# Melt the dataframe so that the values in the 'Vault' 'Uneven Bars' 'Balance Beam' and 'Floor Exercise' columns are all in a new column called 'Apparatus'\n",
    "tenniest_teams_per_apparatus = pd.melt(grouped_teams_df, id_vars=['Team'], value_vars=['Vault', 'Uneven Bars', 'Balance Beam', 'Floor Exercise'], var_name='Apparatus', value_name='No. of Tens')\n",
    "\n",
    "# Preview the df\n",
    "tenniest_teams_per_apparatus.head()"
   ]
  },
  {
   "cell_type": "markdown",
   "metadata": {},
   "source": [
    "These dataframes lose information about the Season and later on, I might like to look at Teams' performances over time."
   ]
  },
  {
   "cell_type": "code",
   "execution_count": 15,
   "metadata": {},
   "outputs": [
    {
     "data": {
      "text/html": [
       "<div>\n",
       "<style scoped>\n",
       "    .dataframe tbody tr th:only-of-type {\n",
       "        vertical-align: middle;\n",
       "    }\n",
       "\n",
       "    .dataframe tbody tr th {\n",
       "        vertical-align: top;\n",
       "    }\n",
       "\n",
       "    .dataframe thead th {\n",
       "        text-align: right;\n",
       "    }\n",
       "</style>\n",
       "<table border=\"1\" class=\"dataframe\">\n",
       "  <thead>\n",
       "    <tr style=\"text-align: right;\">\n",
       "      <th></th>\n",
       "      <th>Team</th>\n",
       "      <th>Season</th>\n",
       "      <th>Vault</th>\n",
       "      <th>Uneven Bars</th>\n",
       "      <th>Balance Beam</th>\n",
       "      <th>Floor Exercise</th>\n",
       "      <th>Total 10s</th>\n",
       "    </tr>\n",
       "  </thead>\n",
       "  <tbody>\n",
       "    <tr>\n",
       "      <th>0</th>\n",
       "      <td>Air Force</td>\n",
       "      <td>2015</td>\n",
       "      <td>0.0</td>\n",
       "      <td>0.0</td>\n",
       "      <td>0.0</td>\n",
       "      <td>0.0</td>\n",
       "      <td>0.0</td>\n",
       "    </tr>\n",
       "    <tr>\n",
       "      <th>1</th>\n",
       "      <td>Air Force</td>\n",
       "      <td>2016</td>\n",
       "      <td>0.0</td>\n",
       "      <td>0.0</td>\n",
       "      <td>0.0</td>\n",
       "      <td>0.0</td>\n",
       "      <td>0.0</td>\n",
       "    </tr>\n",
       "    <tr>\n",
       "      <th>2</th>\n",
       "      <td>Air Force</td>\n",
       "      <td>2017</td>\n",
       "      <td>0.0</td>\n",
       "      <td>0.0</td>\n",
       "      <td>0.0</td>\n",
       "      <td>0.0</td>\n",
       "      <td>0.0</td>\n",
       "    </tr>\n",
       "    <tr>\n",
       "      <th>3</th>\n",
       "      <td>Air Force</td>\n",
       "      <td>2018</td>\n",
       "      <td>0.0</td>\n",
       "      <td>0.0</td>\n",
       "      <td>0.0</td>\n",
       "      <td>0.0</td>\n",
       "      <td>0.0</td>\n",
       "    </tr>\n",
       "    <tr>\n",
       "      <th>4</th>\n",
       "      <td>Air Force</td>\n",
       "      <td>2019</td>\n",
       "      <td>0.0</td>\n",
       "      <td>0.0</td>\n",
       "      <td>0.0</td>\n",
       "      <td>0.0</td>\n",
       "      <td>0.0</td>\n",
       "    </tr>\n",
       "  </tbody>\n",
       "</table>\n",
       "</div>"
      ],
      "text/plain": [
       "        Team  Season  Vault  Uneven Bars  Balance Beam  Floor Exercise  \\\n",
       "0  Air Force    2015    0.0          0.0           0.0             0.0   \n",
       "1  Air Force    2016    0.0          0.0           0.0             0.0   \n",
       "2  Air Force    2017    0.0          0.0           0.0             0.0   \n",
       "3  Air Force    2018    0.0          0.0           0.0             0.0   \n",
       "4  Air Force    2019    0.0          0.0           0.0             0.0   \n",
       "\n",
       "   Total 10s  \n",
       "0        0.0  \n",
       "1        0.0  \n",
       "2        0.0  \n",
       "3        0.0  \n",
       "4        0.0  "
      ]
     },
     "execution_count": 15,
     "metadata": {},
     "output_type": "execute_result"
    }
   ],
   "source": [
    "# Calculate sum of number of 10s for each apparatus for each team for each season\n",
    "tenniest_teams_over_time = tenniest_teams_df.groupby(['Team', 'Season']).sum().reset_index()\n",
    "\n",
    "# Preview the df\n",
    "tenniest_teams_over_time.head()"
   ]
  },
  {
   "cell_type": "code",
   "execution_count": 16,
   "metadata": {},
   "outputs": [
    {
     "data": {
      "text/html": [
       "<div>\n",
       "<style scoped>\n",
       "    .dataframe tbody tr th:only-of-type {\n",
       "        vertical-align: middle;\n",
       "    }\n",
       "\n",
       "    .dataframe tbody tr th {\n",
       "        vertical-align: top;\n",
       "    }\n",
       "\n",
       "    .dataframe thead th {\n",
       "        text-align: right;\n",
       "    }\n",
       "</style>\n",
       "<table border=\"1\" class=\"dataframe\">\n",
       "  <thead>\n",
       "    <tr style=\"text-align: right;\">\n",
       "      <th></th>\n",
       "      <th>Team</th>\n",
       "      <th>Season</th>\n",
       "      <th>Vault</th>\n",
       "      <th>Uneven Bars</th>\n",
       "      <th>Balance Beam</th>\n",
       "      <th>Floor Exercise</th>\n",
       "      <th>Total 10s</th>\n",
       "    </tr>\n",
       "  </thead>\n",
       "  <tbody>\n",
       "    <tr>\n",
       "      <th>10</th>\n",
       "      <td>Alabama</td>\n",
       "      <td>2015</td>\n",
       "      <td>0.0</td>\n",
       "      <td>0.0</td>\n",
       "      <td>0.0</td>\n",
       "      <td>0.0</td>\n",
       "      <td>0.0</td>\n",
       "    </tr>\n",
       "    <tr>\n",
       "      <th>11</th>\n",
       "      <td>Alabama</td>\n",
       "      <td>2016</td>\n",
       "      <td>2.0</td>\n",
       "      <td>0.0</td>\n",
       "      <td>0.0</td>\n",
       "      <td>0.0</td>\n",
       "      <td>2.0</td>\n",
       "    </tr>\n",
       "    <tr>\n",
       "      <th>12</th>\n",
       "      <td>Alabama</td>\n",
       "      <td>2017</td>\n",
       "      <td>0.0</td>\n",
       "      <td>0.0</td>\n",
       "      <td>0.0</td>\n",
       "      <td>2.0</td>\n",
       "      <td>2.0</td>\n",
       "    </tr>\n",
       "    <tr>\n",
       "      <th>13</th>\n",
       "      <td>Alabama</td>\n",
       "      <td>2018</td>\n",
       "      <td>0.0</td>\n",
       "      <td>0.0</td>\n",
       "      <td>0.0</td>\n",
       "      <td>0.0</td>\n",
       "      <td>0.0</td>\n",
       "    </tr>\n",
       "    <tr>\n",
       "      <th>14</th>\n",
       "      <td>Alabama</td>\n",
       "      <td>2019</td>\n",
       "      <td>0.0</td>\n",
       "      <td>0.0</td>\n",
       "      <td>0.0</td>\n",
       "      <td>0.0</td>\n",
       "      <td>0.0</td>\n",
       "    </tr>\n",
       "  </tbody>\n",
       "</table>\n",
       "</div>"
      ],
      "text/plain": [
       "       Team  Season  Vault  Uneven Bars  Balance Beam  Floor Exercise  \\\n",
       "10  Alabama    2015    0.0          0.0           0.0             0.0   \n",
       "11  Alabama    2016    2.0          0.0           0.0             0.0   \n",
       "12  Alabama    2017    0.0          0.0           0.0             2.0   \n",
       "13  Alabama    2018    0.0          0.0           0.0             0.0   \n",
       "14  Alabama    2019    0.0          0.0           0.0             0.0   \n",
       "\n",
       "    Total 10s  \n",
       "10        0.0  \n",
       "11        2.0  \n",
       "12        2.0  \n",
       "13        0.0  \n",
       "14        0.0  "
      ]
     },
     "execution_count": 16,
     "metadata": {},
     "output_type": "execute_result"
    }
   ],
   "source": [
    "# Remove the teams that have never received a 10 (these have already been filtered out in the grouped_df)\n",
    "teams = grouped_teams_df['Team'].tolist()\n",
    "\n",
    "# Delete entries if Team is in teams\n",
    "tenniest_teams_over_time = tenniest_teams_over_time[tenniest_teams_over_time['Team'].isin(teams)]\n",
    "\n",
    "# Preview the df\n",
    "tenniest_teams_over_time.head()"
   ]
  },
  {
   "cell_type": "code",
   "execution_count": 17,
   "metadata": {},
   "outputs": [
    {
     "data": {
      "text/html": [
       "<div>\n",
       "<style scoped>\n",
       "    .dataframe tbody tr th:only-of-type {\n",
       "        vertical-align: middle;\n",
       "    }\n",
       "\n",
       "    .dataframe tbody tr th {\n",
       "        vertical-align: top;\n",
       "    }\n",
       "\n",
       "    .dataframe thead th {\n",
       "        text-align: right;\n",
       "    }\n",
       "</style>\n",
       "<table border=\"1\" class=\"dataframe\">\n",
       "  <thead>\n",
       "    <tr style=\"text-align: right;\">\n",
       "      <th></th>\n",
       "      <th>Season</th>\n",
       "      <th>Team</th>\n",
       "      <th>Apparatus</th>\n",
       "      <th>No. of 10s</th>\n",
       "    </tr>\n",
       "  </thead>\n",
       "  <tbody>\n",
       "    <tr>\n",
       "      <th>0</th>\n",
       "      <td>2015</td>\n",
       "      <td>Alabama</td>\n",
       "      <td>Vault</td>\n",
       "      <td>0.0</td>\n",
       "    </tr>\n",
       "    <tr>\n",
       "      <th>1</th>\n",
       "      <td>2016</td>\n",
       "      <td>Alabama</td>\n",
       "      <td>Vault</td>\n",
       "      <td>2.0</td>\n",
       "    </tr>\n",
       "    <tr>\n",
       "      <th>2</th>\n",
       "      <td>2017</td>\n",
       "      <td>Alabama</td>\n",
       "      <td>Vault</td>\n",
       "      <td>0.0</td>\n",
       "    </tr>\n",
       "    <tr>\n",
       "      <th>3</th>\n",
       "      <td>2018</td>\n",
       "      <td>Alabama</td>\n",
       "      <td>Vault</td>\n",
       "      <td>0.0</td>\n",
       "    </tr>\n",
       "    <tr>\n",
       "      <th>4</th>\n",
       "      <td>2019</td>\n",
       "      <td>Alabama</td>\n",
       "      <td>Vault</td>\n",
       "      <td>0.0</td>\n",
       "    </tr>\n",
       "    <tr>\n",
       "      <th>...</th>\n",
       "      <td>...</td>\n",
       "      <td>...</td>\n",
       "      <td>...</td>\n",
       "      <td>...</td>\n",
       "    </tr>\n",
       "    <tr>\n",
       "      <th>1440</th>\n",
       "      <td>2020</td>\n",
       "      <td>Washington</td>\n",
       "      <td>Total</td>\n",
       "      <td>4.0</td>\n",
       "    </tr>\n",
       "    <tr>\n",
       "      <th>1441</th>\n",
       "      <td>2021</td>\n",
       "      <td>Washington</td>\n",
       "      <td>Total</td>\n",
       "      <td>0.0</td>\n",
       "    </tr>\n",
       "    <tr>\n",
       "      <th>1442</th>\n",
       "      <td>2022</td>\n",
       "      <td>Washington</td>\n",
       "      <td>Total</td>\n",
       "      <td>0.0</td>\n",
       "    </tr>\n",
       "    <tr>\n",
       "      <th>1443</th>\n",
       "      <td>2023</td>\n",
       "      <td>Washington</td>\n",
       "      <td>Total</td>\n",
       "      <td>0.0</td>\n",
       "    </tr>\n",
       "    <tr>\n",
       "      <th>1444</th>\n",
       "      <td>2024</td>\n",
       "      <td>Washington</td>\n",
       "      <td>Total</td>\n",
       "      <td>0.0</td>\n",
       "    </tr>\n",
       "  </tbody>\n",
       "</table>\n",
       "<p>1445 rows × 4 columns</p>\n",
       "</div>"
      ],
      "text/plain": [
       "      Season        Team Apparatus  No. of 10s\n",
       "0       2015     Alabama     Vault         0.0\n",
       "1       2016     Alabama     Vault         2.0\n",
       "2       2017     Alabama     Vault         0.0\n",
       "3       2018     Alabama     Vault         0.0\n",
       "4       2019     Alabama     Vault         0.0\n",
       "...      ...         ...       ...         ...\n",
       "1440    2020  Washington     Total         4.0\n",
       "1441    2021  Washington     Total         0.0\n",
       "1442    2022  Washington     Total         0.0\n",
       "1443    2023  Washington     Total         0.0\n",
       "1444    2024  Washington     Total         0.0\n",
       "\n",
       "[1445 rows x 4 columns]"
      ]
     },
     "execution_count": 17,
     "metadata": {},
     "output_type": "execute_result"
    }
   ],
   "source": [
    "# Melt this df for easier analysis\n",
    "tenniest_teams_over_time = tenniest_teams_over_time.melt(id_vars=[\"Season\", \"Team\"], value_vars=[\"Vault\", \"Uneven Bars\", \"Balance Beam\", \"Floor Exercise\", \"Total 10s\"], var_name=\"Apparatus\", value_name=\"No. of 10s\")\n",
    "\n",
    "# Update rows that say \"Total 10s\" to say \"Total\"\n",
    "tenniest_teams_over_time['Apparatus'] = tenniest_teams_over_time['Apparatus'].replace('Total 10s', 'Total')\n",
    "\n",
    "tenniest_teams_over_time"
   ]
  },
  {
   "cell_type": "markdown",
   "metadata": {},
   "source": [
    "### 2.2.4 Prepare the plots"
   ]
  },
  {
   "cell_type": "markdown",
   "metadata": {},
   "source": [
    "First off, I want to see a bar chart showing the aggregated number of 10s per apparatus across the years.\n",
    "\n",
    "#### 2.2.4.1 Tenniest teams ever"
   ]
  },
  {
   "cell_type": "code",
   "execution_count": 18,
   "metadata": {},
   "outputs": [
    {
     "data": {
      "text/html": [
       "   <div id=\"Mj16aa\"></div>\n",
       "   <script type=\"text/javascript\" data-lets-plot-script=\"plot\">\n",
       "       (function() {\n",
       "           var plotSpec={\n",
       "\"data\":{\n",
       "\"Team\":[\"Southern Utah\",\"Kent State\",\"Penn State\",\"S.E. Missouri\",\"Southern Conn.\",\"Washington\",\"New Hampshire\",\"Illinois\",\"Nebraska\",\"Iowa State\",\"Georgia\",\"Missouri\",\"Ball State\",\"Kentucky\",\"Michigan State\",\"Boise State\",\"California\",\"Stanford\",\"Auburn\",\"Alabama\",\"Oregon State\",\"Denver\",\"Minnesota\",\"Michigan\",\"LSU\",\"Utah\",\"Florida\",\"UCLA\",\"Oklahoma\"],\n",
       "\"Total 10s\":[2.0,4.0,4.0,4.0,4.0,4.0,4.0,5.0,6.0,8.0,11.0,12.0,12.0,14.0,16.0,18.0,28.0,32.0,34.0,44.0,48.0,52.0,74.0,89.0,170.0,180.0,211.0,217.0,259.0]\n",
       "},\n",
       "\"mapping\":{\n",
       "},\n",
       "\"data_meta\":{\n",
       "},\n",
       "\"ggtitle\":{\n",
       "\"text\":\"Which team has had the most number of 10s?\"\n",
       "},\n",
       "\"theme\":{\n",
       "\"axis_title\":{\n",
       "\"family\":\"Helvetica\",\n",
       "\"size\":12.0,\n",
       "\"blank\":false\n",
       "},\n",
       "\"axis_text\":{\n",
       "\"family\":\"Helvetica\",\n",
       "\"size\":12.0,\n",
       "\"blank\":false\n",
       "},\n",
       "\"legend_text\":{\n",
       "\"family\":\"Helvetica\",\n",
       "\"size\":10.0,\n",
       "\"blank\":false\n",
       "},\n",
       "\"legend_title\":{\n",
       "\"family\":\"Helvetica\",\n",
       "\"size\":12.0,\n",
       "\"blank\":false\n",
       "},\n",
       "\"legend_position\":\"bottom\"\n",
       "},\n",
       "\"ggsize\":{\n",
       "\"width\":1200.0,\n",
       "\"height\":1200.0\n",
       "},\n",
       "\"kind\":\"plot\",\n",
       "\"scales\":[{\n",
       "\"aesthetic\":\"fill\",\n",
       "\"scale_mapper_kind\":\"color_cmap\"\n",
       "}],\n",
       "\"layers\":[{\n",
       "\"geom\":\"bar\",\n",
       "\"stat\":\"identity\",\n",
       "\"mapping\":{\n",
       "\"x\":\"Total 10s\",\n",
       "\"y\":\"Team\",\n",
       "\"fill\":\"Total 10s\"\n",
       "},\n",
       "\"tooltips\":{\n",
       "\"formats\":[{\n",
       "\"field\":\"@|<b>{}</b>\",\n",
       "\"format\":\"@|{}\"\n",
       "}],\n",
       "\"lines\":[\"@|@Team\",\"Total 10s|@{Total 10s}\"]\n",
       "},\n",
       "\"data_meta\":{\n",
       "},\n",
       "\"alpha\":0.8,\n",
       "\"orientation\":\"y\",\n",
       "\"data\":{\n",
       "}\n",
       "}],\n",
       "\"metainfo_list\":[]\n",
       "};\n",
       "           var plotContainer = document.getElementById(\"Mj16aa\");\n",
       "           window.letsPlotCall(function() {{\n",
       "               LetsPlot.buildPlotFromProcessedSpecs(plotSpec, -1, -1, plotContainer);\n",
       "           }});\n",
       "       })();\n",
       "   </script>"
      ],
      "text/plain": [
       "<lets_plot.plot.core.PlotSpec at 0x119afc980>"
      ]
     },
     "execution_count": 18,
     "metadata": {},
     "output_type": "execute_result"
    }
   ],
   "source": [
    "# A bar chart showing the aggregated number of 10s per apparatus across the years\n",
    "\n",
    "tenniest_teams_ever = (\n",
    "    ggplot(grouped_teams_df) +\n",
    "    geom_bar(aes(x='Total 10s', y='Team', fill='Total 10s'), \n",
    "            tooltips=layer_tooltips()\n",
    "            .line(('@|@Team'))\n",
    "            .line(('Total 10s|@{Total 10s}'))\n",
    "            .format('@|<b>{}</b>', '@|{}'),\n",
    "            stat='identity', alpha=0.8) +\n",
    "    ggtitle('Which team has had the most number of 10s?') +\n",
    "    scale_fill_viridis() +\n",
    "    theme(\n",
    "        axis_title=element_text(size=12, family='Helvetica'),\n",
    "        axis_text=element_text(size=12, family='Helvetica'),\n",
    "        legend_position='bottom',\n",
    "        legend_title=element_text(size=12, family='Helvetica'),\n",
    "        legend_text=element_text(size=10, family='Helvetica')\n",
    "    ) +\n",
    "    ggsize(1200, 1200)\n",
    ")\n",
    "\n",
    "\n",
    "# Export the plot to html file\n",
    "ggsave(tenniest_teams_ever, \"../docs/figures/tenniest_teams_ever.html\")\n",
    "\n",
    "# Show the plot\n",
    "tenniest_teams_ever"
   ]
  },
  {
   "cell_type": "markdown",
   "metadata": {},
   "source": [
    "#### 2.2.4.2 Tenniest teams per apparatus\n",
    "\n",
    "Let's see how this data breaks down over each apparatus? Is it true that Utah are beam queens? Is it true that UCLA can't be beaten on floor? I know *I* love the perfect handstands and extended lines of Cal's bars, but do the judges? How much are Suki Pfister's perfect vaults contributing to Ball State's overall 10 performance?"
   ]
  },
  {
   "cell_type": "code",
   "execution_count": 19,
   "metadata": {},
   "outputs": [
    {
     "data": {
      "text/html": [
       "   <div id=\"USXtsm\"></div>\n",
       "   <script type=\"text/javascript\" data-lets-plot-script=\"plot\">\n",
       "       (function() {\n",
       "           var plotSpec={\n",
       "\"data\":{\n",
       "\"Team\":[\"Southern Utah\",\"Kent State\",\"Penn State\",\"S.E. Missouri\",\"Southern Conn.\",\"Washington\",\"New Hampshire\",\"Illinois\",\"Nebraska\",\"Iowa State\",\"Georgia\",\"Missouri\",\"Ball State\",\"Kentucky\",\"Michigan State\",\"Boise State\",\"California\",\"Stanford\",\"Auburn\",\"Alabama\",\"Oregon State\",\"Denver\",\"Minnesota\",\"Michigan\",\"LSU\",\"Utah\",\"Florida\",\"UCLA\",\"Oklahoma\",\"Southern Utah\",\"Kent State\",\"Penn State\",\"S.E. Missouri\",\"Southern Conn.\",\"Washington\",\"New Hampshire\",\"Illinois\",\"Nebraska\",\"Iowa State\",\"Georgia\",\"Missouri\",\"Ball State\",\"Kentucky\",\"Michigan State\",\"Boise State\",\"California\",\"Stanford\",\"Auburn\",\"Alabama\",\"Oregon State\",\"Denver\",\"Minnesota\",\"Michigan\",\"LSU\",\"Utah\",\"Florida\",\"UCLA\",\"Oklahoma\",\"Southern Utah\",\"Kent State\",\"Penn State\",\"S.E. Missouri\",\"Southern Conn.\",\"Washington\",\"New Hampshire\",\"Illinois\",\"Nebraska\",\"Iowa State\",\"Georgia\",\"Missouri\",\"Ball State\",\"Kentucky\",\"Michigan State\",\"Boise State\",\"California\",\"Stanford\",\"Auburn\",\"Alabama\",\"Oregon State\",\"Denver\",\"Minnesota\",\"Michigan\",\"LSU\",\"Utah\",\"Florida\",\"UCLA\",\"Oklahoma\",\"Southern Utah\",\"Kent State\",\"Penn State\",\"S.E. Missouri\",\"Southern Conn.\",\"Washington\",\"New Hampshire\",\"Illinois\",\"Nebraska\",\"Iowa State\",\"Georgia\",\"Missouri\",\"Ball State\",\"Kentucky\",\"Michigan State\",\"Boise State\",\"California\",\"Stanford\",\"Auburn\",\"Alabama\",\"Oregon State\",\"Denver\",\"Minnesota\",\"Michigan\",\"LSU\",\"Utah\",\"Florida\",\"UCLA\",\"Oklahoma\"],\n",
       "\"Apparatus\":[\"Vault\",\"Vault\",\"Vault\",\"Vault\",\"Vault\",\"Vault\",\"Vault\",\"Vault\",\"Vault\",\"Vault\",\"Vault\",\"Vault\",\"Vault\",\"Vault\",\"Vault\",\"Vault\",\"Vault\",\"Vault\",\"Vault\",\"Vault\",\"Vault\",\"Vault\",\"Vault\",\"Vault\",\"Vault\",\"Vault\",\"Vault\",\"Vault\",\"Vault\",\"Uneven Bars\",\"Uneven Bars\",\"Uneven Bars\",\"Uneven Bars\",\"Uneven Bars\",\"Uneven Bars\",\"Uneven Bars\",\"Uneven Bars\",\"Uneven Bars\",\"Uneven Bars\",\"Uneven Bars\",\"Uneven Bars\",\"Uneven Bars\",\"Uneven Bars\",\"Uneven Bars\",\"Uneven Bars\",\"Uneven Bars\",\"Uneven Bars\",\"Uneven Bars\",\"Uneven Bars\",\"Uneven Bars\",\"Uneven Bars\",\"Uneven Bars\",\"Uneven Bars\",\"Uneven Bars\",\"Uneven Bars\",\"Uneven Bars\",\"Uneven Bars\",\"Uneven Bars\",\"Balance Beam\",\"Balance Beam\",\"Balance Beam\",\"Balance Beam\",\"Balance Beam\",\"Balance Beam\",\"Balance Beam\",\"Balance Beam\",\"Balance Beam\",\"Balance Beam\",\"Balance Beam\",\"Balance Beam\",\"Balance Beam\",\"Balance Beam\",\"Balance Beam\",\"Balance Beam\",\"Balance Beam\",\"Balance Beam\",\"Balance Beam\",\"Balance Beam\",\"Balance Beam\",\"Balance Beam\",\"Balance Beam\",\"Balance Beam\",\"Balance Beam\",\"Balance Beam\",\"Balance Beam\",\"Balance Beam\",\"Balance Beam\",\"Floor Exercise\",\"Floor Exercise\",\"Floor Exercise\",\"Floor Exercise\",\"Floor Exercise\",\"Floor Exercise\",\"Floor Exercise\",\"Floor Exercise\",\"Floor Exercise\",\"Floor Exercise\",\"Floor Exercise\",\"Floor Exercise\",\"Floor Exercise\",\"Floor Exercise\",\"Floor Exercise\",\"Floor Exercise\",\"Floor Exercise\",\"Floor Exercise\",\"Floor Exercise\",\"Floor Exercise\",\"Floor Exercise\",\"Floor Exercise\",\"Floor Exercise\",\"Floor Exercise\",\"Floor Exercise\",\"Floor Exercise\",\"Floor Exercise\",\"Floor Exercise\",\"Floor Exercise\"],\n",
       "\"No. of Tens\":[0.0,0.0,0.0,0.0,0.0,0.0,0.0,0.0,6.0,6.0,3.0,2.0,4.0,4.0,11.0,16.0,8.0,2.0,0.0,8.0,10.0,7.0,32.0,47.0,58.0,31.0,26.0,32.0,66.0,0.0,0.0,4.0,4.0,4.0,0.0,0.0,0.0,0.0,0.0,6.0,6.0,8.0,2.0,3.0,2.0,2.0,20.0,14.0,12.0,8.0,8.0,0.0,0.0,22.0,37.0,81.0,77.0,72.0,2.0,0.0,0.0,0.0,0.0,4.0,4.0,5.0,0.0,0.0,0.0,2.0,0.0,0.0,0.0,0.0,12.0,2.0,18.0,18.0,2.0,8.0,18.0,14.0,22.0,92.0,29.0,52.0,95.0,0.0,4.0,0.0,0.0,0.0,0.0,0.0,0.0,0.0,2.0,2.0,4.0,0.0,8.0,2.0,0.0,6.0,8.0,2.0,6.0,30.0,29.0,24.0,28.0,68.0,20.0,75.0,56.0,26.0]\n",
       "},\n",
       "\"mapping\":{\n",
       "},\n",
       "\"data_meta\":{\n",
       "},\n",
       "\"facet\":{\n",
       "\"name\":\"wrap\",\n",
       "\"facets\":\"Apparatus\",\n",
       "\"order\":1.0,\n",
       "\"dir\":\"h\"\n",
       "},\n",
       "\"ggtitle\":{\n",
       "\"text\":\"Total Number of 10s by Team and Apparatus\"\n",
       "},\n",
       "\"theme\":{\n",
       "\"axis_title\":{\n",
       "\"family\":\"Helvetica\",\n",
       "\"size\":12.0,\n",
       "\"blank\":false\n",
       "},\n",
       "\"axis_text\":{\n",
       "\"family\":\"Helvetica\",\n",
       "\"size\":12.0,\n",
       "\"blank\":false\n",
       "},\n",
       "\"legend_text\":{\n",
       "\"family\":\"Helvetica\",\n",
       "\"size\":10.0,\n",
       "\"blank\":false\n",
       "},\n",
       "\"legend_title\":{\n",
       "\"family\":\"Helvetica\",\n",
       "\"size\":12.0,\n",
       "\"blank\":false\n",
       "},\n",
       "\"legend_position\":\"bottom\"\n",
       "},\n",
       "\"ggsize\":{\n",
       "\"width\":1200.0,\n",
       "\"height\":1800.0\n",
       "},\n",
       "\"kind\":\"plot\",\n",
       "\"scales\":[{\n",
       "\"aesthetic\":\"fill\",\n",
       "\"scale_mapper_kind\":\"color_cmap\"\n",
       "}],\n",
       "\"layers\":[{\n",
       "\"geom\":\"bar\",\n",
       "\"stat\":\"identity\",\n",
       "\"mapping\":{\n",
       "\"x\":\"No. of Tens\",\n",
       "\"y\":\"Team\",\n",
       "\"fill\":\"No. of Tens\"\n",
       "},\n",
       "\"tooltips\":{\n",
       "\"formats\":[{\n",
       "\"field\":\"@|<b>{}</b>\",\n",
       "\"format\":\"@|{}\"\n",
       "}],\n",
       "\"lines\":[\"@|@Team\",\"Total 10s|@{No. of Tens}\",\"@|@Apparatus\"]\n",
       "},\n",
       "\"data_meta\":{\n",
       "},\n",
       "\"alpha\":0.8,\n",
       "\"orientation\":\"y\",\n",
       "\"data\":{\n",
       "}\n",
       "}],\n",
       "\"metainfo_list\":[]\n",
       "};\n",
       "           var plotContainer = document.getElementById(\"USXtsm\");\n",
       "           window.letsPlotCall(function() {{\n",
       "               LetsPlot.buildPlotFromProcessedSpecs(plotSpec, -1, -1, plotContainer);\n",
       "           }});\n",
       "       })();\n",
       "   </script>"
      ],
      "text/plain": [
       "<lets_plot.plot.core.PlotSpec at 0x11bbeba40>"
      ]
     },
     "execution_count": 19,
     "metadata": {},
     "output_type": "execute_result"
    }
   ],
   "source": [
    "tenniest_teams_per_event = (\n",
    "    ggplot(tenniest_teams_per_apparatus) +\n",
    "    geom_bar(aes(x=\"No. of Tens\", y=\"Team\", fill='No. of Tens'), \n",
    "            tooltips=layer_tooltips()\n",
    "            .line(('@|@Team'))\n",
    "            .line(('Total 10s|@{No. of Tens}'))\n",
    "            .line('@|@Apparatus')\n",
    "            .format('@|<b>{}</b>', '@|{}'),\n",
    "            stat='identity',\n",
    "            alpha=0.8) +\n",
    "    facet_wrap('Apparatus') +\n",
    "    ggtitle('Total Number of 10s by Team and Apparatus') +\n",
    "    scale_fill_viridis() +\n",
    "    theme(\n",
    "        axis_title=element_text(size=12, family='Helvetica'),\n",
    "        axis_text=element_text(size=12, family='Helvetica'),\n",
    "        legend_position='bottom',\n",
    "        legend_title=element_text(size=12, family='Helvetica'),\n",
    "        legend_text=element_text(size=10, family='Helvetica')\n",
    "    ) +\n",
    "    ggsize(1200, 1800)\n",
    ")\n",
    "\n",
    "# Export the plot to html file\n",
    "ggsave(tenniest_teams_per_event, \"../docs/figures/tenniest_teams_per_apparatus.html\")\n",
    "\n",
    "# Show the plot\n",
    "tenniest_teams_per_event"
   ]
  },
  {
   "cell_type": "markdown",
   "metadata": {},
   "source": [
    "The criminal underrecognition of Cal's bars. The absolute disrespect 😤.\n",
    "\n",
    "#### 2.2.4.3 Tenniest teams per apparatus, over time\n",
    "\n",
    "We're about to get ambitious. I'd like to be able to compare, head-to-head any teams that I like on any apparatus that I like. What if we have a series of user-controlled filters?\n",
    "\n",
    "Big shout-out to co-pilot for co-authoring this section."
   ]
  },
  {
   "cell_type": "code",
   "execution_count": 20,
   "metadata": {},
   "outputs": [
    {
     "data": {
      "text/html": [
       "\n",
       "        <iframe\n",
       "            width=\"100%\"\n",
       "            height=\"650\"\n",
       "            src=\"http://127.0.0.1:8050/\"\n",
       "            frameborder=\"0\"\n",
       "            allowfullscreen\n",
       "            \n",
       "        ></iframe>\n",
       "        "
      ],
      "text/plain": [
       "<IPython.lib.display.IFrame at 0x11bbea7b0>"
      ]
     },
     "metadata": {},
     "output_type": "display_data"
    }
   ],
   "source": [
    "# Initialize the Dash app\n",
    "app = dash.Dash(__name__)\n",
    "\n",
    "# Define the layout of the app\n",
    "app.layout = html.Div([\n",
    "    html.H4('Tenniest teams per apparatus, over time', style={'font-family': 'Helvetica'}),\n",
    "    \n",
    "    # Dropdown for selecting teams\n",
    "    dcc.Dropdown(\n",
    "        id=\"dropdown\",\n",
    "        options=[{\"label\": team, \"value\": team} for team in tenniest_teams_over_time[\"Team\"].unique()],\n",
    "        value=tenniest_teams_over_time[\"Team\"].unique().tolist(),  # Default to showing all teams\n",
    "        multi=True,\n",
    "        style={'font-family': 'Helvetica', 'font-size': '10px'}  # Font styling for dropdown text\n",
    "    ),\n",
    "\n",
    "    # Checklist for selecting events (apparatus)\n",
    "    dcc.Checklist(\n",
    "        id=\"event_checklist\",\n",
    "        options=[\n",
    "            {\"label\": \"Vault\", \"value\": \"Vault\"},\n",
    "            {\"label\": \"Uneven Bars\", \"value\": \"Uneven Bars\"},\n",
    "            {\"label\": \"Balance Beam\", \"value\": \"Balance Beam\"},\n",
    "            {\"label\": \"Floor Exercise\", \"value\": \"Floor Exercise\"},\n",
    "            {\"label\": \"Total\", \"value\": \"Total\"}\n",
    "        ],\n",
    "        value=[\"Vault\", \"Uneven Bars\", \"Balance Beam\", \"Floor Exercise\", \"Total\"],  # Default to showing all events\n",
    "        inline=True\n",
    "    ),\n",
    "\n",
    "    # Graph component to display the plot\n",
    "    dcc.Graph(id=\"graph\")\n",
    "])\n",
    "\n",
    "# Define callback to update the plot based on user inputs\n",
    "@app.callback(\n",
    "    Output(\"graph\", \"figure\"),\n",
    "    [Input(\"dropdown\", \"value\"),\n",
    "     Input(\"event_checklist\", \"value\")]\n",
    ")\n",
    "def update_plot(selected_teams, selected_events):\n",
    "\n",
    "    # Filter the dataset based on selected teams and events\n",
    "    filtered_df = tenniest_teams_over_time[\n",
    "        (tenniest_teams_over_time[\"Team\"].isin(selected_teams)) &\n",
    "        (tenniest_teams_over_time[\"Apparatus\"].isin(selected_events))\n",
    "    ]\n",
    "    \n",
    "    # Create a line plot\n",
    "    tenniest_teams_per_apparatus_per_year = px.line(filtered_df, \n",
    "                  x=\"Season\", \n",
    "                  y=\"No. of 10s\", \n",
    "                  color=\"Team\",\n",
    "                  line_dash=\"Apparatus\",  # Different line styles for each event\n",
    "                  labels={\"No. of 10s\": \"No. of 10s\", \"Apparatus\": \"Apparatus\"})\n",
    "    \n",
    "    # Update layout for formatting\n",
    "    tenniest_teams_per_apparatus_per_year.update_layout(\n",
    "        title='Tenniest teams per apparatus, per year',\n",
    "        xaxis_title='Season',\n",
    "        yaxis_title='No. of 10s',\n",
    "        plot_bgcolor='white',  \n",
    "        font=dict(\n",
    "            family=\"Helvetica\",  \n",
    "            size=12,  \n",
    "            color='black'  \n",
    "        ),\n",
    "        legend=dict(\n",
    "            font=dict(\n",
    "                size=10  \n",
    "            )\n",
    "        )\n",
    "    )\n",
    "    \n",
    "    # Configure axes appearance\n",
    "    tenniest_teams_per_apparatus_per_year.update_yaxes(showgrid=True, gridcolor='#DDDDDD', color='black', title_font=dict(color='black'), tickfont=dict(color='black'))\n",
    "    tenniest_teams_per_apparatus_per_year.update_xaxes(color='black', title_font=dict(color='black'), tickfont=dict(color='black'))\n",
    "    \n",
    "    # Export the figure to an HTML file\n",
    "    tenniest_teams_per_apparatus_per_year.write_html(\"../docs/figures/tenniest_eams_per_apparatus_per_year.html\")\n",
    "\n",
    "    return tenniest_teams_per_apparatus_per_year\n",
    "\n",
    "# Run the app server in debug mode\n",
    "if __name__ == '__main__':\n",
    "    app.run_server(debug=True)"
   ]
  },
  {
   "cell_type": "markdown",
   "metadata": {},
   "source": [
    "## 2.3 Ten of the top 10 GOATs of all time\n",
    "\n",
    "Do you think I'm only interested in 10s? Children focus on 10s. I'm interested in the truth. I'm interested in what matters. 10s are shiny, certainly, but any good person-who-can-do-basic-mathematics can see that a gymnast who gets a 10 one week and then a 5 the next week is not as useful as a gymnast that gets a 9.9 week after week.\n",
    "\n",
    "With this in mind, let's find the gymnasts who have the highest average scores across the apparatus and across the seasons.\n",
    "\n",
    "It's easy to do well if you never compete. For the purposes of this analysis, I am only interested in gymnasts who compete a minimum of 6 times over the course of the season (per apparatus). This will necessarily impact the data from the 2020 and 2021 seasons, which were impacted heavily by COVID restrictions.\n",
    "\n",
    "### 2.3.1 Retrieve the data from the database\n",
    "\n",
    "Getting the averages is straightforward enough!"
   ]
  },
  {
   "cell_type": "code",
   "execution_count": 27,
   "metadata": {
    "vscode": {
     "languageId": "sql"
    }
   },
   "outputs": [
    {
     "data": {
      "text/html": [
       "<span style=\"None\">Running query in &#x27;gymternet&#x27;</span>"
      ],
      "text/plain": [
       "Running query in 'gymternet'"
      ]
     },
     "metadata": {},
     "output_type": "display_data"
    },
    {
     "data": {
      "text/html": [
       "<table>\n",
       "    <thead>\n",
       "        <tr>\n",
       "            <th>First Name</th>\n",
       "            <th>Last Name</th>\n",
       "            <th>Team</th>\n",
       "            <th>Vault</th>\n",
       "            <th>VT Count</th>\n",
       "            <th>Uneven Bars</th>\n",
       "            <th>UB Count</th>\n",
       "            <th>Balance Beam</th>\n",
       "            <th>BB Count</th>\n",
       "            <th>Floor Exercise</th>\n",
       "            <th>FX Count</th>\n",
       "            <th>All Around</th>\n",
       "            <th>AA Count</th>\n",
       "            <th>Season</th>\n",
       "        </tr>\n",
       "    </thead>\n",
       "    <tbody>\n",
       "        <tr>\n",
       "            <td>Kristina</td>\n",
       "            <td>Heymann</td>\n",
       "            <td>California</td>\n",
       "            <td>9.829166666666666</td>\n",
       "            <td>12</td>\n",
       "            <td>None</td>\n",
       "            <td>0</td>\n",
       "            <td>None</td>\n",
       "            <td>0</td>\n",
       "            <td>None</td>\n",
       "            <td>0</td>\n",
       "            <td>None</td>\n",
       "            <td>0</td>\n",
       "            <td>2015</td>\n",
       "        </tr>\n",
       "        <tr>\n",
       "            <td>Serena</td>\n",
       "            <td>Leong</td>\n",
       "            <td>California</td>\n",
       "            <td>9.839285714285714</td>\n",
       "            <td>7</td>\n",
       "            <td>None</td>\n",
       "            <td>0</td>\n",
       "            <td>9.62857142857143</td>\n",
       "            <td>7</td>\n",
       "            <td>9.65</td>\n",
       "            <td>7</td>\n",
       "            <td>None</td>\n",
       "            <td>0</td>\n",
       "            <td>2015</td>\n",
       "        </tr>\n",
       "        <tr>\n",
       "            <td>Serena</td>\n",
       "            <td>Leong</td>\n",
       "            <td>California</td>\n",
       "            <td>9.7625</td>\n",
       "            <td>8</td>\n",
       "            <td>None</td>\n",
       "            <td>0</td>\n",
       "            <td>None</td>\n",
       "            <td>0</td>\n",
       "            <td>9.771875</td>\n",
       "            <td>8</td>\n",
       "            <td>None</td>\n",
       "            <td>0</td>\n",
       "            <td>2016</td>\n",
       "        </tr>\n",
       "        <tr>\n",
       "            <td>Jordan</td>\n",
       "            <td>Widener</td>\n",
       "            <td>California</td>\n",
       "            <td>None</td>\n",
       "            <td>0</td>\n",
       "            <td>9.762162162162161</td>\n",
       "            <td>37</td>\n",
       "            <td>None</td>\n",
       "            <td>0</td>\n",
       "            <td>None</td>\n",
       "            <td>0</td>\n",
       "            <td>None</td>\n",
       "            <td>0</td>\n",
       "            <td>2015</td>\n",
       "        </tr>\n",
       "        <tr>\n",
       "            <td>Breanna</td>\n",
       "            <td>Hughes</td>\n",
       "            <td>Utah</td>\n",
       "            <td>9.825</td>\n",
       "            <td>2</td>\n",
       "            <td>9.756976744186046</td>\n",
       "            <td>43</td>\n",
       "            <td>None</td>\n",
       "            <td>0</td>\n",
       "            <td>9.725000000000001</td>\n",
       "            <td>8</td>\n",
       "            <td>None</td>\n",
       "            <td>0</td>\n",
       "            <td>2015</td>\n",
       "        </tr>\n",
       "        <tr>\n",
       "            <td>Breanna</td>\n",
       "            <td>Hughes</td>\n",
       "            <td>Utah</td>\n",
       "            <td>9.881818181818181</td>\n",
       "            <td>66</td>\n",
       "            <td>9.798484848484849</td>\n",
       "            <td>66</td>\n",
       "            <td>9.630833333333333</td>\n",
       "            <td>60</td>\n",
       "            <td>9.882575757575758</td>\n",
       "            <td>66</td>\n",
       "            <td>39.19166666666667</td>\n",
       "            <td>60</td>\n",
       "            <td>2016</td>\n",
       "        </tr>\n",
       "        <tr>\n",
       "            <td>Crystal</td>\n",
       "            <td>Paz</td>\n",
       "            <td>California</td>\n",
       "            <td>9.55</td>\n",
       "            <td>5</td>\n",
       "            <td>None</td>\n",
       "            <td>0</td>\n",
       "            <td>9.275</td>\n",
       "            <td>8</td>\n",
       "            <td>9.7</td>\n",
       "            <td>10</td>\n",
       "            <td>None</td>\n",
       "            <td>0</td>\n",
       "            <td>2015</td>\n",
       "        </tr>\n",
       "        <tr>\n",
       "            <td>Georgia</td>\n",
       "            <td>Dabritz</td>\n",
       "            <td>Utah</td>\n",
       "            <td>9.90566037735849</td>\n",
       "            <td>53</td>\n",
       "            <td>9.963068181818182</td>\n",
       "            <td>66</td>\n",
       "            <td>9.70904255319149</td>\n",
       "            <td>47</td>\n",
       "            <td>9.92253787878788</td>\n",
       "            <td>66</td>\n",
       "            <td>39.48048780487805</td>\n",
       "            <td>41</td>\n",
       "            <td>2015</td>\n",
       "        </tr>\n",
       "        <tr>\n",
       "            <td>Kailah</td>\n",
       "            <td>Delaney</td>\n",
       "            <td>Utah</td>\n",
       "            <td>9.885377358490565</td>\n",
       "            <td>53</td>\n",
       "            <td>None</td>\n",
       "            <td>0</td>\n",
       "            <td>9.648484848484848</td>\n",
       "            <td>33</td>\n",
       "            <td>None</td>\n",
       "            <td>0</td>\n",
       "            <td>None</td>\n",
       "            <td>0</td>\n",
       "            <td>2015</td>\n",
       "        </tr>\n",
       "        <tr>\n",
       "            <td>Kailah</td>\n",
       "            <td>Delaney</td>\n",
       "            <td>Utah</td>\n",
       "            <td>9.85483870967742</td>\n",
       "            <td>62</td>\n",
       "            <td>None</td>\n",
       "            <td>0</td>\n",
       "            <td>9.425833333333333</td>\n",
       "            <td>60</td>\n",
       "            <td>9.86875</td>\n",
       "            <td>8</td>\n",
       "            <td>None</td>\n",
       "            <td>0</td>\n",
       "            <td>2016</td>\n",
       "        </tr>\n",
       "    </tbody>\n",
       "</table>\n",
       "<span style=\"font-style:italic;text-align:center;\">Truncated to <a href=\"https://jupysql.ploomber.io/en/latest/api/configuration.html#displaylimit\">displaylimit</a> of 10.</span>"
      ],
      "text/plain": [
       "+------------+-----------+------------+-------------------+----------+-------------------+----------+-------------------+----------+-------------------+----------+-------------------+----------+--------+\n",
       "| First Name | Last Name |    Team    |       Vault       | VT Count |    Uneven Bars    | UB Count |    Balance Beam   | BB Count |   Floor Exercise  | FX Count |     All Around    | AA Count | Season |\n",
       "+------------+-----------+------------+-------------------+----------+-------------------+----------+-------------------+----------+-------------------+----------+-------------------+----------+--------+\n",
       "|  Kristina  |  Heymann  | California | 9.829166666666666 |    12    |        None       |    0     |        None       |    0     |        None       |    0     |        None       |    0     |  2015  |\n",
       "|   Serena   |   Leong   | California | 9.839285714285714 |    7     |        None       |    0     |  9.62857142857143 |    7     |        9.65       |    7     |        None       |    0     |  2015  |\n",
       "|   Serena   |   Leong   | California |       9.7625      |    8     |        None       |    0     |        None       |    0     |      9.771875     |    8     |        None       |    0     |  2016  |\n",
       "|   Jordan   |  Widener  | California |        None       |    0     | 9.762162162162161 |    37    |        None       |    0     |        None       |    0     |        None       |    0     |  2015  |\n",
       "|  Breanna   |   Hughes  |    Utah    |       9.825       |    2     | 9.756976744186046 |    43    |        None       |    0     | 9.725000000000001 |    8     |        None       |    0     |  2015  |\n",
       "|  Breanna   |   Hughes  |    Utah    | 9.881818181818181 |    66    | 9.798484848484849 |    66    | 9.630833333333333 |    60    | 9.882575757575758 |    66    | 39.19166666666667 |    60    |  2016  |\n",
       "|  Crystal   |    Paz    | California |        9.55       |    5     |        None       |    0     |       9.275       |    8     |        9.7        |    10    |        None       |    0     |  2015  |\n",
       "|  Georgia   |  Dabritz  |    Utah    |  9.90566037735849 |    53    | 9.963068181818182 |    66    |  9.70904255319149 |    47    |  9.92253787878788 |    66    | 39.48048780487805 |    41    |  2015  |\n",
       "|   Kailah   |  Delaney  |    Utah    | 9.885377358490565 |    53    |        None       |    0     | 9.648484848484848 |    33    |        None       |    0     |        None       |    0     |  2015  |\n",
       "|   Kailah   |  Delaney  |    Utah    |  9.85483870967742 |    62    |        None       |    0     | 9.425833333333333 |    60    |      9.86875      |    8     |        None       |    0     |  2016  |\n",
       "+------------+-----------+------------+-------------------+----------+-------------------+----------+-------------------+----------+-------------------+----------+-------------------+----------+--------+\n",
       "Truncated to displaylimit of 10."
      ]
     },
     "execution_count": 27,
     "metadata": {},
     "output_type": "execute_result"
    }
   ],
   "source": [
    "%%sql --alias gymternet\n",
    "\n",
    "SELECT \n",
    "    g.gymnast_id AS 'Gymnast ID',\n",
    "    g.first_name AS 'First Name',\n",
    "    g.last_name AS 'Last Name',\n",
    "    t.team_name AS 'Team',\n",
    "    AVG(r.vt_score) AS 'Vault',\n",
    "    COUNT(r.vt_score) AS 'VT Count',\n",
    "    AVG(r.ub_score) AS 'Uneven Bars',\n",
    "    COUNT(r.ub_score) AS 'UB Count',\n",
    "    AVG(r.bb_score) AS 'Balance Beam',\n",
    "    COUNT(r.bb_score) AS 'BB Count',\n",
    "    AVG(r.fx_score) AS 'Floor Exercise',\n",
    "    COUNT(r.fx_score) AS 'FX Count',\n",
    "    AVG(r.aa_score) AS 'All Around',\n",
    "    COUNT(r.aa_score) AS 'AA Count',\n",
    "    m.year AS 'Season'\n",
    "FROM gymnast_results AS r\n",
    "LEFT JOIN gymnasts AS g\n",
    "ON g.gymnast_id = r.gymnast_id\n",
    "LEFT JOIN teams as t\n",
    "ON t.team_id = g.team_id\n",
    "LEFT JOIN meets as m\n",
    "ON m.meet_id = r.meet_id\n",
    "GROUP BY g.gymnast_id, m.year;"
   ]
  },
  {
   "cell_type": "markdown",
   "metadata": {
    "vscode": {
     "languageId": "sql"
    }
   },
   "source": [
    "But getting the means are a giant pain with SQLite. In this case, I'll got for a maximalist approach and whittle down the data in pandas."
   ]
  },
  {
   "cell_type": "code",
   "execution_count": 22,
   "metadata": {
    "vscode": {
     "languageId": "sql"
    }
   },
   "outputs": [
    {
     "data": {
      "text/html": [
       "<span style=\"None\">Running query in &#x27;gymternet&#x27;</span>"
      ],
      "text/plain": [
       "Running query in 'gymternet'"
      ]
     },
     "metadata": {},
     "output_type": "display_data"
    },
    {
     "data": {
      "text/html": [
       "<table>\n",
       "    <thead>\n",
       "        <tr>\n",
       "            <th>First Name</th>\n",
       "            <th>Last Name</th>\n",
       "            <th>Team</th>\n",
       "            <th>Vault</th>\n",
       "            <th>Uneven Bars</th>\n",
       "            <th>Balance Beam</th>\n",
       "            <th>Floor Exercise</th>\n",
       "            <th>Season</th>\n",
       "        </tr>\n",
       "    </thead>\n",
       "    <tbody>\n",
       "        <tr>\n",
       "            <td>Sierra</td>\n",
       "            <td>Ballard</td>\n",
       "            <td>LSU</td>\n",
       "            <td>None</td>\n",
       "            <td>None</td>\n",
       "            <td>9.2</td>\n",
       "            <td>9.9</td>\n",
       "            <td>2024</td>\n",
       "        </tr>\n",
       "        <tr>\n",
       "            <td>Sierra</td>\n",
       "            <td>Ballard</td>\n",
       "            <td>LSU</td>\n",
       "            <td>None</td>\n",
       "            <td>None</td>\n",
       "            <td>9.2</td>\n",
       "            <td>9.9</td>\n",
       "            <td>2024</td>\n",
       "        </tr>\n",
       "        <tr>\n",
       "            <td>Haleigh</td>\n",
       "            <td>Bryant</td>\n",
       "            <td>LSU</td>\n",
       "            <td>9.95</td>\n",
       "            <td>9.875</td>\n",
       "            <td>9.925</td>\n",
       "            <td>9.925</td>\n",
       "            <td>2024</td>\n",
       "        </tr>\n",
       "        <tr>\n",
       "            <td>Haleigh</td>\n",
       "            <td>Bryant</td>\n",
       "            <td>LSU</td>\n",
       "            <td>9.95</td>\n",
       "            <td>9.875</td>\n",
       "            <td>9.925</td>\n",
       "            <td>9.925</td>\n",
       "            <td>2024</td>\n",
       "        </tr>\n",
       "        <tr>\n",
       "            <td>Ashley</td>\n",
       "            <td>Cowan</td>\n",
       "            <td>LSU</td>\n",
       "            <td>None</td>\n",
       "            <td>9.8</td>\n",
       "            <td>None</td>\n",
       "            <td>None</td>\n",
       "            <td>2024</td>\n",
       "        </tr>\n",
       "        <tr>\n",
       "            <td>Ashley</td>\n",
       "            <td>Cowan</td>\n",
       "            <td>LSU</td>\n",
       "            <td>None</td>\n",
       "            <td>9.8</td>\n",
       "            <td>None</td>\n",
       "            <td>None</td>\n",
       "            <td>2024</td>\n",
       "        </tr>\n",
       "        <tr>\n",
       "            <td>Amari</td>\n",
       "            <td>Drayton</td>\n",
       "            <td>LSU</td>\n",
       "            <td>9.925</td>\n",
       "            <td>None</td>\n",
       "            <td>None</td>\n",
       "            <td>9.925</td>\n",
       "            <td>2024</td>\n",
       "        </tr>\n",
       "        <tr>\n",
       "            <td>Amari</td>\n",
       "            <td>Drayton</td>\n",
       "            <td>LSU</td>\n",
       "            <td>9.925</td>\n",
       "            <td>None</td>\n",
       "            <td>None</td>\n",
       "            <td>9.925</td>\n",
       "            <td>2024</td>\n",
       "        </tr>\n",
       "        <tr>\n",
       "            <td>Olivia</td>\n",
       "            <td>Dunne</td>\n",
       "            <td>LSU</td>\n",
       "            <td>None</td>\n",
       "            <td>None</td>\n",
       "            <td>None</td>\n",
       "            <td>9.875</td>\n",
       "            <td>2024</td>\n",
       "        </tr>\n",
       "        <tr>\n",
       "            <td>Olivia</td>\n",
       "            <td>Dunne</td>\n",
       "            <td>LSU</td>\n",
       "            <td>None</td>\n",
       "            <td>None</td>\n",
       "            <td>None</td>\n",
       "            <td>9.875</td>\n",
       "            <td>2024</td>\n",
       "        </tr>\n",
       "    </tbody>\n",
       "</table>\n",
       "<span style=\"font-style:italic;text-align:center;\">Truncated to <a href=\"https://jupysql.ploomber.io/en/latest/api/configuration.html#displaylimit\">displaylimit</a> of 10.</span>"
      ],
      "text/plain": [
       "+------------+-----------+------+-------+-------------+--------------+----------------+--------+\n",
       "| First Name | Last Name | Team | Vault | Uneven Bars | Balance Beam | Floor Exercise | Season |\n",
       "+------------+-----------+------+-------+-------------+--------------+----------------+--------+\n",
       "|   Sierra   |  Ballard  | LSU  |  None |     None    |     9.2      |      9.9       |  2024  |\n",
       "|   Sierra   |  Ballard  | LSU  |  None |     None    |     9.2      |      9.9       |  2024  |\n",
       "|  Haleigh   |   Bryant  | LSU  |  9.95 |    9.875    |    9.925     |     9.925      |  2024  |\n",
       "|  Haleigh   |   Bryant  | LSU  |  9.95 |    9.875    |    9.925     |     9.925      |  2024  |\n",
       "|   Ashley   |   Cowan   | LSU  |  None |     9.8     |     None     |      None      |  2024  |\n",
       "|   Ashley   |   Cowan   | LSU  |  None |     9.8     |     None     |      None      |  2024  |\n",
       "|   Amari    |  Drayton  | LSU  | 9.925 |     None    |     None     |     9.925      |  2024  |\n",
       "|   Amari    |  Drayton  | LSU  | 9.925 |     None    |     None     |     9.925      |  2024  |\n",
       "|   Olivia   |   Dunne   | LSU  |  None |     None    |     None     |     9.875      |  2024  |\n",
       "|   Olivia   |   Dunne   | LSU  |  None |     None    |     None     |     9.875      |  2024  |\n",
       "+------------+-----------+------+-------+-------------+--------------+----------------+--------+\n",
       "Truncated to displaylimit of 10."
      ]
     },
     "execution_count": 22,
     "metadata": {},
     "output_type": "execute_result"
    }
   ],
   "source": [
    "%%sql --alias gymternet\n",
    "\n",
    "SELECT \n",
    "    g.gymnast_id AS 'Gymnast ID',\n",
    "    g.first_name AS 'First Name',\n",
    "    g.last_name AS 'Last Name',\n",
    "    t.team_name AS 'Team',\n",
    "    r.vt_score AS 'Vault',\n",
    "    r.ub_score AS 'Uneven Bars',\n",
    "    r.bb_score AS 'Balance Beam',\n",
    "    r.fx_score AS 'Floor Exercise',\n",
    "    m.year AS 'Season'\n",
    "FROM gymnast_results AS r\n",
    "LEFT JOIN gymnasts AS g\n",
    "ON g.gymnast_id = r.gymnast_id\n",
    "LEFT JOIN teams as t\n",
    "ON t.team_id = g.team_id\n",
    "LEFT JOIN meets as m\n",
    "ON m.meet_id = r.meet_id;"
   ]
  },
  {
   "cell_type": "markdown",
   "metadata": {},
   "source": [
    "### 2.3.2 Import the data into a dataframe"
   ]
  },
  {
   "cell_type": "code",
   "execution_count": 63,
   "metadata": {},
   "outputs": [
    {
     "data": {
      "text/html": [
       "<div>\n",
       "<style scoped>\n",
       "    .dataframe tbody tr th:only-of-type {\n",
       "        vertical-align: middle;\n",
       "    }\n",
       "\n",
       "    .dataframe tbody tr th {\n",
       "        vertical-align: top;\n",
       "    }\n",
       "\n",
       "    .dataframe thead th {\n",
       "        text-align: right;\n",
       "    }\n",
       "</style>\n",
       "<table border=\"1\" class=\"dataframe\">\n",
       "  <thead>\n",
       "    <tr style=\"text-align: right;\">\n",
       "      <th></th>\n",
       "      <th>Gymnast ID</th>\n",
       "      <th>First Name</th>\n",
       "      <th>Last Name</th>\n",
       "      <th>Team</th>\n",
       "      <th>Vault</th>\n",
       "      <th>VT Count</th>\n",
       "      <th>Uneven Bars</th>\n",
       "      <th>UB Count</th>\n",
       "      <th>Balance Beam</th>\n",
       "      <th>BB Count</th>\n",
       "      <th>Floor Exercise</th>\n",
       "      <th>FX Count</th>\n",
       "      <th>All Around</th>\n",
       "      <th>AA Count</th>\n",
       "      <th>Season</th>\n",
       "    </tr>\n",
       "  </thead>\n",
       "  <tbody>\n",
       "    <tr>\n",
       "      <th>0</th>\n",
       "      <td>249</td>\n",
       "      <td>Kristina</td>\n",
       "      <td>Heymann</td>\n",
       "      <td>California</td>\n",
       "      <td>9.829167</td>\n",
       "      <td>12</td>\n",
       "      <td>NaN</td>\n",
       "      <td>0</td>\n",
       "      <td>NaN</td>\n",
       "      <td>0</td>\n",
       "      <td>NaN</td>\n",
       "      <td>0</td>\n",
       "      <td>NaN</td>\n",
       "      <td>0</td>\n",
       "      <td>2015</td>\n",
       "    </tr>\n",
       "    <tr>\n",
       "      <th>1</th>\n",
       "      <td>251</td>\n",
       "      <td>Serena</td>\n",
       "      <td>Leong</td>\n",
       "      <td>California</td>\n",
       "      <td>9.839286</td>\n",
       "      <td>7</td>\n",
       "      <td>NaN</td>\n",
       "      <td>0</td>\n",
       "      <td>9.628571</td>\n",
       "      <td>7</td>\n",
       "      <td>9.650000</td>\n",
       "      <td>7</td>\n",
       "      <td>NaN</td>\n",
       "      <td>0</td>\n",
       "      <td>2015</td>\n",
       "    </tr>\n",
       "    <tr>\n",
       "      <th>2</th>\n",
       "      <td>251</td>\n",
       "      <td>Serena</td>\n",
       "      <td>Leong</td>\n",
       "      <td>California</td>\n",
       "      <td>9.762500</td>\n",
       "      <td>8</td>\n",
       "      <td>NaN</td>\n",
       "      <td>0</td>\n",
       "      <td>NaN</td>\n",
       "      <td>0</td>\n",
       "      <td>9.771875</td>\n",
       "      <td>8</td>\n",
       "      <td>NaN</td>\n",
       "      <td>0</td>\n",
       "      <td>2016</td>\n",
       "    </tr>\n",
       "    <tr>\n",
       "      <th>3</th>\n",
       "      <td>258</td>\n",
       "      <td>Jordan</td>\n",
       "      <td>Widener</td>\n",
       "      <td>California</td>\n",
       "      <td>NaN</td>\n",
       "      <td>0</td>\n",
       "      <td>9.762162</td>\n",
       "      <td>37</td>\n",
       "      <td>NaN</td>\n",
       "      <td>0</td>\n",
       "      <td>NaN</td>\n",
       "      <td>0</td>\n",
       "      <td>NaN</td>\n",
       "      <td>0</td>\n",
       "      <td>2015</td>\n",
       "    </tr>\n",
       "    <tr>\n",
       "      <th>4</th>\n",
       "      <td>1158</td>\n",
       "      <td>Breanna</td>\n",
       "      <td>Hughes</td>\n",
       "      <td>Utah</td>\n",
       "      <td>9.825000</td>\n",
       "      <td>2</td>\n",
       "      <td>9.756977</td>\n",
       "      <td>43</td>\n",
       "      <td>NaN</td>\n",
       "      <td>0</td>\n",
       "      <td>9.725000</td>\n",
       "      <td>8</td>\n",
       "      <td>NaN</td>\n",
       "      <td>0</td>\n",
       "      <td>2015</td>\n",
       "    </tr>\n",
       "  </tbody>\n",
       "</table>\n",
       "</div>"
      ],
      "text/plain": [
       "   Gymnast ID First Name Last Name        Team     Vault  VT Count  \\\n",
       "0         249   Kristina   Heymann  California  9.829167        12   \n",
       "1         251     Serena     Leong  California  9.839286         7   \n",
       "2         251     Serena     Leong  California  9.762500         8   \n",
       "3         258     Jordan   Widener  California       NaN         0   \n",
       "4        1158    Breanna    Hughes        Utah  9.825000         2   \n",
       "\n",
       "   Uneven Bars  UB Count  Balance Beam  BB Count  Floor Exercise  FX Count  \\\n",
       "0          NaN         0           NaN         0             NaN         0   \n",
       "1          NaN         0      9.628571         7        9.650000         7   \n",
       "2          NaN         0           NaN         0        9.771875         8   \n",
       "3     9.762162        37           NaN         0             NaN         0   \n",
       "4     9.756977        43           NaN         0        9.725000         8   \n",
       "\n",
       "   All Around  AA Count  Season  \n",
       "0         NaN         0    2015  \n",
       "1         NaN         0    2015  \n",
       "2         NaN         0    2016  \n",
       "3         NaN         0    2015  \n",
       "4         NaN         0    2015  "
      ]
     },
     "execution_count": 63,
     "metadata": {},
     "output_type": "execute_result"
    }
   ],
   "source": [
    "# Export the above query to a new df\n",
    "average_scores_query = \"\"\"\n",
    "SELECT \n",
    "    g.gymnast_id AS 'Gymnast ID',\n",
    "    g.first_name AS 'First Name',\n",
    "    g.last_name AS 'Last Name',\n",
    "    t.team_name AS 'Team',\n",
    "    AVG(r.vt_score) AS 'Vault',\n",
    "    COUNT(r.vt_score) AS 'VT Count',\n",
    "    AVG(r.ub_score) AS 'Uneven Bars',\n",
    "    COUNT(r.ub_score) AS 'UB Count',\n",
    "    AVG(r.bb_score) AS 'Balance Beam',\n",
    "    COUNT(r.bb_score) AS 'BB Count',\n",
    "    AVG(r.fx_score) AS 'Floor Exercise',\n",
    "    COUNT(r.fx_score) AS 'FX Count',\n",
    "    AVG(r.aa_score) AS 'All Around',\n",
    "    COUNT(r.aa_score) AS 'AA Count',\n",
    "    m.year AS 'Season'\n",
    "FROM gymnast_results AS r\n",
    "LEFT JOIN gymnasts AS g\n",
    "ON g.gymnast_id = r.gymnast_id\n",
    "LEFT JOIN teams as t\n",
    "ON t.team_id = g.team_id\n",
    "LEFT JOIN meets as m\n",
    "ON m.meet_id = r.meet_id\n",
    "GROUP BY g.gymnast_id, m.year;\n",
    "\"\"\"\n",
    "\n",
    "# Execute the query and store the result in a DataFrame\n",
    "average_scores_df = pd.read_sql_query(average_scores_query, engine)\n",
    "\n",
    "# Preview the df\n",
    "average_scores_df.head()"
   ]
  },
  {
   "cell_type": "code",
   "execution_count": 59,
   "metadata": {},
   "outputs": [
    {
     "data": {
      "text/html": [
       "<div>\n",
       "<style scoped>\n",
       "    .dataframe tbody tr th:only-of-type {\n",
       "        vertical-align: middle;\n",
       "    }\n",
       "\n",
       "    .dataframe tbody tr th {\n",
       "        vertical-align: top;\n",
       "    }\n",
       "\n",
       "    .dataframe thead th {\n",
       "        text-align: right;\n",
       "    }\n",
       "</style>\n",
       "<table border=\"1\" class=\"dataframe\">\n",
       "  <thead>\n",
       "    <tr style=\"text-align: right;\">\n",
       "      <th></th>\n",
       "      <th>Gymnast ID</th>\n",
       "      <th>First Name</th>\n",
       "      <th>Last Name</th>\n",
       "      <th>Team</th>\n",
       "      <th>Vault</th>\n",
       "      <th>Uneven Bars</th>\n",
       "      <th>Balance Beam</th>\n",
       "      <th>Floor Exercise</th>\n",
       "      <th>Season</th>\n",
       "    </tr>\n",
       "  </thead>\n",
       "  <tbody>\n",
       "    <tr>\n",
       "      <th>0</th>\n",
       "      <td>30950</td>\n",
       "      <td>Sierra</td>\n",
       "      <td>Ballard</td>\n",
       "      <td>LSU</td>\n",
       "      <td>NaN</td>\n",
       "      <td>NaN</td>\n",
       "      <td>9.200</td>\n",
       "      <td>9.900</td>\n",
       "      <td>2024</td>\n",
       "    </tr>\n",
       "    <tr>\n",
       "      <th>1</th>\n",
       "      <td>30950</td>\n",
       "      <td>Sierra</td>\n",
       "      <td>Ballard</td>\n",
       "      <td>LSU</td>\n",
       "      <td>NaN</td>\n",
       "      <td>NaN</td>\n",
       "      <td>9.200</td>\n",
       "      <td>9.900</td>\n",
       "      <td>2024</td>\n",
       "    </tr>\n",
       "    <tr>\n",
       "      <th>2</th>\n",
       "      <td>30952</td>\n",
       "      <td>Haleigh</td>\n",
       "      <td>Bryant</td>\n",
       "      <td>LSU</td>\n",
       "      <td>9.95</td>\n",
       "      <td>9.875</td>\n",
       "      <td>9.925</td>\n",
       "      <td>9.925</td>\n",
       "      <td>2024</td>\n",
       "    </tr>\n",
       "    <tr>\n",
       "      <th>3</th>\n",
       "      <td>30952</td>\n",
       "      <td>Haleigh</td>\n",
       "      <td>Bryant</td>\n",
       "      <td>LSU</td>\n",
       "      <td>9.95</td>\n",
       "      <td>9.875</td>\n",
       "      <td>9.925</td>\n",
       "      <td>9.925</td>\n",
       "      <td>2024</td>\n",
       "    </tr>\n",
       "    <tr>\n",
       "      <th>4</th>\n",
       "      <td>31947</td>\n",
       "      <td>Ashley</td>\n",
       "      <td>Cowan</td>\n",
       "      <td>LSU</td>\n",
       "      <td>NaN</td>\n",
       "      <td>9.800</td>\n",
       "      <td>NaN</td>\n",
       "      <td>NaN</td>\n",
       "      <td>2024</td>\n",
       "    </tr>\n",
       "  </tbody>\n",
       "</table>\n",
       "</div>"
      ],
      "text/plain": [
       "   Gymnast ID First Name Last Name Team  Vault  Uneven Bars  Balance Beam  \\\n",
       "0       30950     Sierra   Ballard  LSU    NaN          NaN         9.200   \n",
       "1       30950     Sierra   Ballard  LSU    NaN          NaN         9.200   \n",
       "2       30952    Haleigh    Bryant  LSU   9.95        9.875         9.925   \n",
       "3       30952    Haleigh    Bryant  LSU   9.95        9.875         9.925   \n",
       "4       31947     Ashley     Cowan  LSU    NaN        9.800           NaN   \n",
       "\n",
       "   Floor Exercise  Season  \n",
       "0           9.900    2024  \n",
       "1           9.900    2024  \n",
       "2           9.925    2024  \n",
       "3           9.925    2024  \n",
       "4             NaN    2024  "
      ]
     },
     "execution_count": 59,
     "metadata": {},
     "output_type": "execute_result"
    }
   ],
   "source": [
    "# Export the above query to a new df\n",
    "median_scores_query = \"\"\"\n",
    "SELECT \n",
    "    g.gymnast_id AS 'Gymnast ID',\n",
    "    g.first_name AS 'First Name',\n",
    "    g.last_name AS 'Last Name',\n",
    "    t.team_name AS 'Team',\n",
    "    r.vt_score AS 'Vault',\n",
    "    r.ub_score AS 'Uneven Bars',\n",
    "    r.bb_score AS 'Balance Beam',\n",
    "    r.fx_score AS 'Floor Exercise',\n",
    "    m.year AS 'Season'\n",
    "FROM gymnast_results AS r\n",
    "LEFT JOIN gymnasts AS g\n",
    "ON g.gymnast_id = r.gymnast_id\n",
    "LEFT JOIN teams as t\n",
    "ON t.team_id = g.team_id\n",
    "LEFT JOIN meets as m\n",
    "ON m.meet_id = r.meet_id;\n",
    "\"\"\"\n",
    "\n",
    "# Execute the query and store the result in a DataFrame\n",
    "median_scores_df = pd.read_sql_query(median_scores_query, engine)\n",
    "\n",
    "# Preview the df\n",
    "median_scores_df.head()"
   ]
  },
  {
   "cell_type": "markdown",
   "metadata": {},
   "source": [
    "### 2.3.3 Prepare the data for plotting"
   ]
  },
  {
   "cell_type": "markdown",
   "metadata": {},
   "source": [
    "In each season, a GOAT candidate must have competed at least 6 times per apparatus (or All Around) of candidacy.\n",
    "\n",
    "I could go ahead and exclude all rows where `VT Count`, `UB Count`, `BB Count`, `FX Count` AND `AA Count` ALL are less than 6, but I think it's probably going to be easier to work with dataframes specific to the apparatus. This gives me an opportunity to limit the DataFrames to the top-20 in each apparatus as well."
   ]
  },
  {
   "cell_type": "code",
   "execution_count": 70,
   "metadata": {},
   "outputs": [
    {
     "data": {
      "text/html": [
       "<div>\n",
       "<style scoped>\n",
       "    .dataframe tbody tr th:only-of-type {\n",
       "        vertical-align: middle;\n",
       "    }\n",
       "\n",
       "    .dataframe tbody tr th {\n",
       "        vertical-align: top;\n",
       "    }\n",
       "\n",
       "    .dataframe thead th {\n",
       "        text-align: right;\n",
       "    }\n",
       "</style>\n",
       "<table border=\"1\" class=\"dataframe\">\n",
       "  <thead>\n",
       "    <tr style=\"text-align: right;\">\n",
       "      <th></th>\n",
       "      <th>Gymnast ID</th>\n",
       "      <th>First Name</th>\n",
       "      <th>Last Name</th>\n",
       "      <th>Team</th>\n",
       "      <th>Vault</th>\n",
       "      <th>VT Count</th>\n",
       "      <th>Uneven Bars</th>\n",
       "      <th>UB Count</th>\n",
       "      <th>Balance Beam</th>\n",
       "      <th>BB Count</th>\n",
       "      <th>Floor Exercise</th>\n",
       "      <th>FX Count</th>\n",
       "      <th>All Around</th>\n",
       "      <th>AA Count</th>\n",
       "      <th>Season</th>\n",
       "    </tr>\n",
       "  </thead>\n",
       "  <tbody>\n",
       "    <tr>\n",
       "      <th>6941</th>\n",
       "      <td>30055</td>\n",
       "      <td>Olivia</td>\n",
       "      <td>Trautman</td>\n",
       "      <td>Oklahoma</td>\n",
       "      <td>9.956818</td>\n",
       "      <td>11</td>\n",
       "      <td>9.867857</td>\n",
       "      <td>21</td>\n",
       "      <td>9.853846</td>\n",
       "      <td>13</td>\n",
       "      <td>NaN</td>\n",
       "      <td>0</td>\n",
       "      <td>NaN</td>\n",
       "      <td>0</td>\n",
       "      <td>2020</td>\n",
       "    </tr>\n",
       "    <tr>\n",
       "      <th>6944</th>\n",
       "      <td>30055</td>\n",
       "      <td>Olivia</td>\n",
       "      <td>Trautman</td>\n",
       "      <td>Oklahoma</td>\n",
       "      <td>9.954717</td>\n",
       "      <td>53</td>\n",
       "      <td>9.916509</td>\n",
       "      <td>53</td>\n",
       "      <td>9.851866</td>\n",
       "      <td>67</td>\n",
       "      <td>NaN</td>\n",
       "      <td>0</td>\n",
       "      <td>NaN</td>\n",
       "      <td>0</td>\n",
       "      <td>2023</td>\n",
       "    </tr>\n",
       "    <tr>\n",
       "      <th>9166</th>\n",
       "      <td>30952</td>\n",
       "      <td>Haleigh</td>\n",
       "      <td>Bryant</td>\n",
       "      <td>LSU</td>\n",
       "      <td>9.948529</td>\n",
       "      <td>51</td>\n",
       "      <td>9.857843</td>\n",
       "      <td>51</td>\n",
       "      <td>9.676163</td>\n",
       "      <td>43</td>\n",
       "      <td>9.712255</td>\n",
       "      <td>51</td>\n",
       "      <td>39.205233</td>\n",
       "      <td>43</td>\n",
       "      <td>2021</td>\n",
       "    </tr>\n",
       "    <tr>\n",
       "      <th>4640</th>\n",
       "      <td>24714</td>\n",
       "      <td>Maggie</td>\n",
       "      <td>Nichols</td>\n",
       "      <td>Oklahoma</td>\n",
       "      <td>9.948148</td>\n",
       "      <td>27</td>\n",
       "      <td>9.953448</td>\n",
       "      <td>29</td>\n",
       "      <td>9.858333</td>\n",
       "      <td>27</td>\n",
       "      <td>9.938889</td>\n",
       "      <td>18</td>\n",
       "      <td>39.738889</td>\n",
       "      <td>18</td>\n",
       "      <td>2020</td>\n",
       "    </tr>\n",
       "    <tr>\n",
       "      <th>1215</th>\n",
       "      <td>23070</td>\n",
       "      <td>Elizabeth</td>\n",
       "      <td>Price</td>\n",
       "      <td>Stanford</td>\n",
       "      <td>9.938837</td>\n",
       "      <td>62</td>\n",
       "      <td>9.828302</td>\n",
       "      <td>53</td>\n",
       "      <td>9.900000</td>\n",
       "      <td>6</td>\n",
       "      <td>9.878947</td>\n",
       "      <td>19</td>\n",
       "      <td>NaN</td>\n",
       "      <td>0</td>\n",
       "      <td>2015</td>\n",
       "    </tr>\n",
       "  </tbody>\n",
       "</table>\n",
       "</div>"
      ],
      "text/plain": [
       "      Gymnast ID First Name Last Name      Team     Vault  VT Count  \\\n",
       "6941       30055     Olivia  Trautman  Oklahoma  9.956818        11   \n",
       "6944       30055     Olivia  Trautman  Oklahoma  9.954717        53   \n",
       "9166       30952    Haleigh    Bryant       LSU  9.948529        51   \n",
       "4640       24714     Maggie   Nichols  Oklahoma  9.948148        27   \n",
       "1215       23070  Elizabeth     Price  Stanford  9.938837        62   \n",
       "\n",
       "      Uneven Bars  UB Count  Balance Beam  BB Count  Floor Exercise  FX Count  \\\n",
       "6941     9.867857        21      9.853846        13             NaN         0   \n",
       "6944     9.916509        53      9.851866        67             NaN         0   \n",
       "9166     9.857843        51      9.676163        43        9.712255        51   \n",
       "4640     9.953448        29      9.858333        27        9.938889        18   \n",
       "1215     9.828302        53      9.900000         6        9.878947        19   \n",
       "\n",
       "      All Around  AA Count  Season  \n",
       "6941         NaN         0    2020  \n",
       "6944         NaN         0    2023  \n",
       "9166   39.205233        43    2021  \n",
       "4640   39.738889        18    2020  \n",
       "1215         NaN         0    2015  "
      ]
     },
     "execution_count": 70,
     "metadata": {},
     "output_type": "execute_result"
    }
   ],
   "source": [
    "# First up, the VT DF\n",
    "\n",
    "# Drop any rows where a gymnast has performed fewer than 6 vaults\n",
    "vault_average_df = average_scores_df[(average_scores_df['VT Count'] >= 6)]\n",
    "\n",
    "# Sort by average vault score in descending order\n",
    "vault_average_df = vault_average_df.sort_values(by='Vault', ascending=False)\n",
    "\n",
    "# Get the first 20 unique values in the 'Gymnast ID' column\n",
    "top_20_ave_vaulters = vault_average_df['Gymnast ID'].drop_duplicates().head(20).tolist()\n",
    "\n",
    "# Filter the original DataFrame to include all rows with these unique values\n",
    "vault_average_df = vault_average_df[vault_average_df['Gymnast ID'].isin(top_20_ave_vaulters)]\n",
    "\n",
    "# Preview the df\n",
    "vault_average_df.head()"
   ]
  },
  {
   "cell_type": "code",
   "execution_count": 74,
   "metadata": {},
   "outputs": [
    {
     "data": {
      "text/html": [
       "<div>\n",
       "<style scoped>\n",
       "    .dataframe tbody tr th:only-of-type {\n",
       "        vertical-align: middle;\n",
       "    }\n",
       "\n",
       "    .dataframe tbody tr th {\n",
       "        vertical-align: top;\n",
       "    }\n",
       "\n",
       "    .dataframe thead th {\n",
       "        text-align: right;\n",
       "    }\n",
       "</style>\n",
       "<table border=\"1\" class=\"dataframe\">\n",
       "  <thead>\n",
       "    <tr style=\"text-align: right;\">\n",
       "      <th></th>\n",
       "      <th>Gymnast ID</th>\n",
       "      <th>First Name</th>\n",
       "      <th>Last Name</th>\n",
       "      <th>Team</th>\n",
       "      <th>Vault</th>\n",
       "      <th>VT Count</th>\n",
       "      <th>Uneven Bars</th>\n",
       "      <th>UB Count</th>\n",
       "      <th>Balance Beam</th>\n",
       "      <th>BB Count</th>\n",
       "      <th>Floor Exercise</th>\n",
       "      <th>FX Count</th>\n",
       "      <th>All Around</th>\n",
       "      <th>AA Count</th>\n",
       "      <th>Season</th>\n",
       "    </tr>\n",
       "  </thead>\n",
       "  <tbody>\n",
       "    <tr>\n",
       "      <th>10870</th>\n",
       "      <td>31789</td>\n",
       "      <td>Jordan</td>\n",
       "      <td>Chiles</td>\n",
       "      <td>UCLA</td>\n",
       "      <td>9.906818</td>\n",
       "      <td>77</td>\n",
       "      <td>9.977597</td>\n",
       "      <td>77</td>\n",
       "      <td>9.817532</td>\n",
       "      <td>77</td>\n",
       "      <td>9.957143</td>\n",
       "      <td>77</td>\n",
       "      <td>39.659091</td>\n",
       "      <td>77</td>\n",
       "      <td>2023</td>\n",
       "    </tr>\n",
       "    <tr>\n",
       "      <th>7</th>\n",
       "      <td>2505</td>\n",
       "      <td>Georgia</td>\n",
       "      <td>Dabritz</td>\n",
       "      <td>Utah</td>\n",
       "      <td>9.905660</td>\n",
       "      <td>53</td>\n",
       "      <td>9.963068</td>\n",
       "      <td>66</td>\n",
       "      <td>9.709043</td>\n",
       "      <td>47</td>\n",
       "      <td>9.922538</td>\n",
       "      <td>66</td>\n",
       "      <td>39.480488</td>\n",
       "      <td>41</td>\n",
       "      <td>2015</td>\n",
       "    </tr>\n",
       "    <tr>\n",
       "      <th>9904</th>\n",
       "      <td>31267</td>\n",
       "      <td>Sunisa</td>\n",
       "      <td>Lee</td>\n",
       "      <td>Auburn</td>\n",
       "      <td>9.900000</td>\n",
       "      <td>20</td>\n",
       "      <td>9.956818</td>\n",
       "      <td>22</td>\n",
       "      <td>9.897727</td>\n",
       "      <td>22</td>\n",
       "      <td>9.894444</td>\n",
       "      <td>18</td>\n",
       "      <td>39.705556</td>\n",
       "      <td>18</td>\n",
       "      <td>2023</td>\n",
       "    </tr>\n",
       "    <tr>\n",
       "      <th>569</th>\n",
       "      <td>22717</td>\n",
       "      <td>Bridget</td>\n",
       "      <td>Sloan</td>\n",
       "      <td>Florida</td>\n",
       "      <td>9.937245</td>\n",
       "      <td>49</td>\n",
       "      <td>9.955455</td>\n",
       "      <td>55</td>\n",
       "      <td>9.893056</td>\n",
       "      <td>36</td>\n",
       "      <td>9.825833</td>\n",
       "      <td>30</td>\n",
       "      <td>39.612500</td>\n",
       "      <td>22</td>\n",
       "      <td>2015</td>\n",
       "    </tr>\n",
       "    <tr>\n",
       "      <th>4639</th>\n",
       "      <td>24714</td>\n",
       "      <td>Maggie</td>\n",
       "      <td>Nichols</td>\n",
       "      <td>Oklahoma</td>\n",
       "      <td>9.936250</td>\n",
       "      <td>40</td>\n",
       "      <td>9.955000</td>\n",
       "      <td>60</td>\n",
       "      <td>9.916379</td>\n",
       "      <td>58</td>\n",
       "      <td>9.925000</td>\n",
       "      <td>16</td>\n",
       "      <td>39.721875</td>\n",
       "      <td>16</td>\n",
       "      <td>2019</td>\n",
       "    </tr>\n",
       "  </tbody>\n",
       "</table>\n",
       "</div>"
      ],
      "text/plain": [
       "       Gymnast ID First Name Last Name      Team     Vault  VT Count  \\\n",
       "10870       31789     Jordan    Chiles      UCLA  9.906818        77   \n",
       "7            2505    Georgia   Dabritz      Utah  9.905660        53   \n",
       "9904        31267     Sunisa       Lee    Auburn  9.900000        20   \n",
       "569         22717    Bridget     Sloan   Florida  9.937245        49   \n",
       "4639        24714     Maggie   Nichols  Oklahoma  9.936250        40   \n",
       "\n",
       "       Uneven Bars  UB Count  Balance Beam  BB Count  Floor Exercise  \\\n",
       "10870     9.977597        77      9.817532        77        9.957143   \n",
       "7         9.963068        66      9.709043        47        9.922538   \n",
       "9904      9.956818        22      9.897727        22        9.894444   \n",
       "569       9.955455        55      9.893056        36        9.825833   \n",
       "4639      9.955000        60      9.916379        58        9.925000   \n",
       "\n",
       "       FX Count  All Around  AA Count  Season  \n",
       "10870        77   39.659091        77    2023  \n",
       "7            66   39.480488        41    2015  \n",
       "9904         18   39.705556        18    2023  \n",
       "569          30   39.612500        22    2015  \n",
       "4639         16   39.721875        16    2019  "
      ]
     },
     "execution_count": 74,
     "metadata": {},
     "output_type": "execute_result"
    }
   ],
   "source": [
    "# Next, the UB DF\n",
    "\n",
    "# Drop any rows where a gymnast has performed fewer than 6 bars routines\n",
    "bars_average_df = average_scores_df[(average_scores_df['UB Count'] >= 6)]\n",
    "\n",
    "# Sort by average bars score in descending order\n",
    "bars_average_df = bars_average_df.sort_values(by='Uneven Bars', ascending=False)\n",
    "\n",
    "# Get the first 20 unique values in the 'Gymnast ID' column\n",
    "top_20_ave_barsers = bars_average_df['Gymnast ID'].drop_duplicates().head(20).tolist()\n",
    "\n",
    "# Filter the original DataFrame to include all rows with these unique values\n",
    "bars_average_df = bars_average_df[bars_average_df['Gymnast ID'].isin(top_20_ave_barsers)]\n",
    "\n",
    "# Preview the df\n",
    "bars_average_df.head()"
   ]
  },
  {
   "cell_type": "code",
   "execution_count": 75,
   "metadata": {},
   "outputs": [
    {
     "data": {
      "text/html": [
       "<div>\n",
       "<style scoped>\n",
       "    .dataframe tbody tr th:only-of-type {\n",
       "        vertical-align: middle;\n",
       "    }\n",
       "\n",
       "    .dataframe tbody tr th {\n",
       "        vertical-align: top;\n",
       "    }\n",
       "\n",
       "    .dataframe thead th {\n",
       "        text-align: right;\n",
       "    }\n",
       "</style>\n",
       "<table border=\"1\" class=\"dataframe\">\n",
       "  <thead>\n",
       "    <tr style=\"text-align: right;\">\n",
       "      <th></th>\n",
       "      <th>Gymnast ID</th>\n",
       "      <th>First Name</th>\n",
       "      <th>Last Name</th>\n",
       "      <th>Team</th>\n",
       "      <th>Vault</th>\n",
       "      <th>VT Count</th>\n",
       "      <th>Uneven Bars</th>\n",
       "      <th>UB Count</th>\n",
       "      <th>Balance Beam</th>\n",
       "      <th>BB Count</th>\n",
       "      <th>Floor Exercise</th>\n",
       "      <th>FX Count</th>\n",
       "      <th>All Around</th>\n",
       "      <th>AA Count</th>\n",
       "      <th>Season</th>\n",
       "    </tr>\n",
       "  </thead>\n",
       "  <tbody>\n",
       "    <tr>\n",
       "      <th>8151</th>\n",
       "      <td>30545</td>\n",
       "      <td>Maile</td>\n",
       "      <td>O'Keefe</td>\n",
       "      <td>Utah</td>\n",
       "      <td>9.845000</td>\n",
       "      <td>55</td>\n",
       "      <td>9.900649</td>\n",
       "      <td>77</td>\n",
       "      <td>9.967532</td>\n",
       "      <td>77</td>\n",
       "      <td>9.917063</td>\n",
       "      <td>63</td>\n",
       "      <td>39.638182</td>\n",
       "      <td>55</td>\n",
       "      <td>2023</td>\n",
       "    </tr>\n",
       "    <tr>\n",
       "      <th>4638</th>\n",
       "      <td>24714</td>\n",
       "      <td>Maggie</td>\n",
       "      <td>Nichols</td>\n",
       "      <td>Oklahoma</td>\n",
       "      <td>9.920000</td>\n",
       "      <td>60</td>\n",
       "      <td>9.947177</td>\n",
       "      <td>62</td>\n",
       "      <td>9.954032</td>\n",
       "      <td>62</td>\n",
       "      <td>9.944960</td>\n",
       "      <td>62</td>\n",
       "      <td>39.770602</td>\n",
       "      <td>54</td>\n",
       "      <td>2018</td>\n",
       "    </tr>\n",
       "    <tr>\n",
       "      <th>8741</th>\n",
       "      <td>30786</td>\n",
       "      <td>Luisa</td>\n",
       "      <td>Blanco</td>\n",
       "      <td>Alabama</td>\n",
       "      <td>9.866667</td>\n",
       "      <td>48</td>\n",
       "      <td>9.924185</td>\n",
       "      <td>46</td>\n",
       "      <td>9.950815</td>\n",
       "      <td>46</td>\n",
       "      <td>9.932143</td>\n",
       "      <td>42</td>\n",
       "      <td>39.704762</td>\n",
       "      <td>42</td>\n",
       "      <td>2021</td>\n",
       "    </tr>\n",
       "    <tr>\n",
       "      <th>1359</th>\n",
       "      <td>23140</td>\n",
       "      <td>Peng-Peng</td>\n",
       "      <td>Lee</td>\n",
       "      <td>UCLA</td>\n",
       "      <td>NaN</td>\n",
       "      <td>0</td>\n",
       "      <td>9.843939</td>\n",
       "      <td>66</td>\n",
       "      <td>9.949414</td>\n",
       "      <td>64</td>\n",
       "      <td>NaN</td>\n",
       "      <td>0</td>\n",
       "      <td>NaN</td>\n",
       "      <td>0</td>\n",
       "      <td>2018</td>\n",
       "    </tr>\n",
       "    <tr>\n",
       "      <th>7949</th>\n",
       "      <td>30466</td>\n",
       "      <td>Sienna</td>\n",
       "      <td>Schreiber</td>\n",
       "      <td>Missouri</td>\n",
       "      <td>9.837924</td>\n",
       "      <td>59</td>\n",
       "      <td>9.784322</td>\n",
       "      <td>59</td>\n",
       "      <td>9.945339</td>\n",
       "      <td>59</td>\n",
       "      <td>9.855720</td>\n",
       "      <td>59</td>\n",
       "      <td>39.423305</td>\n",
       "      <td>59</td>\n",
       "      <td>2022</td>\n",
       "    </tr>\n",
       "  </tbody>\n",
       "</table>\n",
       "</div>"
      ],
      "text/plain": [
       "      Gymnast ID  First Name  Last Name      Team     Vault  VT Count  \\\n",
       "8151       30545       Maile    O'Keefe      Utah  9.845000        55   \n",
       "4638       24714      Maggie    Nichols  Oklahoma  9.920000        60   \n",
       "8741       30786       Luisa     Blanco   Alabama  9.866667        48   \n",
       "1359       23140  Peng-Peng         Lee      UCLA       NaN         0   \n",
       "7949       30466      Sienna  Schreiber  Missouri  9.837924        59   \n",
       "\n",
       "      Uneven Bars  UB Count  Balance Beam  BB Count  Floor Exercise  FX Count  \\\n",
       "8151     9.900649        77      9.967532        77        9.917063        63   \n",
       "4638     9.947177        62      9.954032        62        9.944960        62   \n",
       "8741     9.924185        46      9.950815        46        9.932143        42   \n",
       "1359     9.843939        66      9.949414        64             NaN         0   \n",
       "7949     9.784322        59      9.945339        59        9.855720        59   \n",
       "\n",
       "      All Around  AA Count  Season  \n",
       "8151   39.638182        55    2023  \n",
       "4638   39.770602        54    2018  \n",
       "8741   39.704762        42    2021  \n",
       "1359         NaN         0    2018  \n",
       "7949   39.423305        59    2022  "
      ]
     },
     "execution_count": 75,
     "metadata": {},
     "output_type": "execute_result"
    }
   ],
   "source": [
    "# Next, the BB DF\n",
    "\n",
    "# Drop any rows where a gymnast has performed fewer than 6 beam routines\n",
    "beam_average_df = average_scores_df[(average_scores_df['BB Count'] >= 6)]\n",
    "\n",
    "# Sort by average beam score in descending order\n",
    "beam_average_df = beam_average_df.sort_values(by='Balance Beam', ascending=False)\n",
    "\n",
    "# Get the first 20 unique values in the 'Gymnast ID' column\n",
    "top_20_ave_beamers = beam_average_df['Gymnast ID'].drop_duplicates().head(20).tolist()\n",
    "\n",
    "# Filter the original DataFrame to include all rows with these unique values\n",
    "beam_average_df = beam_average_df[beam_average_df['Gymnast ID'].isin(top_20_ave_beamers)]\n",
    "\n",
    "# Preview the df\n",
    "beam_average_df.head()"
   ]
  },
  {
   "cell_type": "code",
   "execution_count": 76,
   "metadata": {},
   "outputs": [
    {
     "data": {
      "text/html": [
       "<div>\n",
       "<style scoped>\n",
       "    .dataframe tbody tr th:only-of-type {\n",
       "        vertical-align: middle;\n",
       "    }\n",
       "\n",
       "    .dataframe tbody tr th {\n",
       "        vertical-align: top;\n",
       "    }\n",
       "\n",
       "    .dataframe thead th {\n",
       "        text-align: right;\n",
       "    }\n",
       "</style>\n",
       "<table border=\"1\" class=\"dataframe\">\n",
       "  <thead>\n",
       "    <tr style=\"text-align: right;\">\n",
       "      <th></th>\n",
       "      <th>Gymnast ID</th>\n",
       "      <th>First Name</th>\n",
       "      <th>Last Name</th>\n",
       "      <th>Team</th>\n",
       "      <th>Vault</th>\n",
       "      <th>VT Count</th>\n",
       "      <th>Uneven Bars</th>\n",
       "      <th>UB Count</th>\n",
       "      <th>Balance Beam</th>\n",
       "      <th>BB Count</th>\n",
       "      <th>Floor Exercise</th>\n",
       "      <th>FX Count</th>\n",
       "      <th>All Around</th>\n",
       "      <th>AA Count</th>\n",
       "      <th>Season</th>\n",
       "    </tr>\n",
       "  </thead>\n",
       "  <tbody>\n",
       "    <tr>\n",
       "      <th>6643</th>\n",
       "      <td>29946</td>\n",
       "      <td>Trinity</td>\n",
       "      <td>Thomas</td>\n",
       "      <td>Florida</td>\n",
       "      <td>9.930952</td>\n",
       "      <td>63</td>\n",
       "      <td>9.949603</td>\n",
       "      <td>63</td>\n",
       "      <td>9.943160</td>\n",
       "      <td>53</td>\n",
       "      <td>9.992857</td>\n",
       "      <td>49</td>\n",
       "      <td>39.830053</td>\n",
       "      <td>47</td>\n",
       "      <td>2022</td>\n",
       "    </tr>\n",
       "    <tr>\n",
       "      <th>3513</th>\n",
       "      <td>24237</td>\n",
       "      <td>Katelyn</td>\n",
       "      <td>Ohashi</td>\n",
       "      <td>UCLA</td>\n",
       "      <td>9.787500</td>\n",
       "      <td>4</td>\n",
       "      <td>NaN</td>\n",
       "      <td>0</td>\n",
       "      <td>9.927381</td>\n",
       "      <td>63</td>\n",
       "      <td>9.964796</td>\n",
       "      <td>49</td>\n",
       "      <td>NaN</td>\n",
       "      <td>0</td>\n",
       "      <td>2019</td>\n",
       "    </tr>\n",
       "    <tr>\n",
       "      <th>6641</th>\n",
       "      <td>29946</td>\n",
       "      <td>Trinity</td>\n",
       "      <td>Thomas</td>\n",
       "      <td>Florida</td>\n",
       "      <td>9.876316</td>\n",
       "      <td>19</td>\n",
       "      <td>9.847368</td>\n",
       "      <td>19</td>\n",
       "      <td>9.928947</td>\n",
       "      <td>19</td>\n",
       "      <td>9.959211</td>\n",
       "      <td>19</td>\n",
       "      <td>39.611842</td>\n",
       "      <td>19</td>\n",
       "      <td>2020</td>\n",
       "    </tr>\n",
       "    <tr>\n",
       "      <th>9226</th>\n",
       "      <td>30973</td>\n",
       "      <td>Mya</td>\n",
       "      <td>Hooten</td>\n",
       "      <td>Minnesota</td>\n",
       "      <td>9.894318</td>\n",
       "      <td>66</td>\n",
       "      <td>9.836742</td>\n",
       "      <td>66</td>\n",
       "      <td>NaN</td>\n",
       "      <td>0</td>\n",
       "      <td>9.957787</td>\n",
       "      <td>61</td>\n",
       "      <td>NaN</td>\n",
       "      <td>0</td>\n",
       "      <td>2022</td>\n",
       "    </tr>\n",
       "    <tr>\n",
       "      <th>6940</th>\n",
       "      <td>30055</td>\n",
       "      <td>Olivia</td>\n",
       "      <td>Trautman</td>\n",
       "      <td>Oklahoma</td>\n",
       "      <td>9.879508</td>\n",
       "      <td>61</td>\n",
       "      <td>9.875000</td>\n",
       "      <td>2</td>\n",
       "      <td>9.873305</td>\n",
       "      <td>59</td>\n",
       "      <td>9.957787</td>\n",
       "      <td>61</td>\n",
       "      <td>39.725000</td>\n",
       "      <td>2</td>\n",
       "      <td>2019</td>\n",
       "    </tr>\n",
       "  </tbody>\n",
       "</table>\n",
       "</div>"
      ],
      "text/plain": [
       "      Gymnast ID First Name Last Name       Team     Vault  VT Count  \\\n",
       "6643       29946    Trinity    Thomas    Florida  9.930952        63   \n",
       "3513       24237   Katelyn     Ohashi       UCLA  9.787500         4   \n",
       "6641       29946    Trinity    Thomas    Florida  9.876316        19   \n",
       "9226       30973        Mya    Hooten  Minnesota  9.894318        66   \n",
       "6940       30055     Olivia  Trautman   Oklahoma  9.879508        61   \n",
       "\n",
       "      Uneven Bars  UB Count  Balance Beam  BB Count  Floor Exercise  FX Count  \\\n",
       "6643     9.949603        63      9.943160        53        9.992857        49   \n",
       "3513          NaN         0      9.927381        63        9.964796        49   \n",
       "6641     9.847368        19      9.928947        19        9.959211        19   \n",
       "9226     9.836742        66           NaN         0        9.957787        61   \n",
       "6940     9.875000         2      9.873305        59        9.957787        61   \n",
       "\n",
       "      All Around  AA Count  Season  \n",
       "6643   39.830053        47    2022  \n",
       "3513         NaN         0    2019  \n",
       "6641   39.611842        19    2020  \n",
       "9226         NaN         0    2022  \n",
       "6940   39.725000         2    2019  "
      ]
     },
     "execution_count": 76,
     "metadata": {},
     "output_type": "execute_result"
    }
   ],
   "source": [
    "# Next, the FX DF\n",
    "\n",
    "# Drop any rows where a gymnast has performed fewer than 6 floor routines\n",
    "floor_average_df = average_scores_df[(average_scores_df['FX Count'] >= 6)]\n",
    "\n",
    "# Sort by average beam score in descending order\n",
    "floor_average_df = floor_average_df.sort_values(by='Floor Exercise', ascending=False)\n",
    "\n",
    "# Get the first 20 unique values in the 'Gymnast ID' column\n",
    "top_20_ave_floorers = floor_average_df['Gymnast ID'].drop_duplicates().head(20).tolist()\n",
    "\n",
    "# Filter the original DataFrame to include all rows with these unique values\n",
    "floor_average_df = floor_average_df[floor_average_df['Gymnast ID'].isin(top_20_ave_floorers)]\n",
    "\n",
    "# Preview the df\n",
    "floor_average_df.head()"
   ]
  },
  {
   "cell_type": "code",
   "execution_count": 80,
   "metadata": {},
   "outputs": [
    {
     "data": {
      "text/html": [
       "<div>\n",
       "<style scoped>\n",
       "    .dataframe tbody tr th:only-of-type {\n",
       "        vertical-align: middle;\n",
       "    }\n",
       "\n",
       "    .dataframe tbody tr th {\n",
       "        vertical-align: top;\n",
       "    }\n",
       "\n",
       "    .dataframe thead th {\n",
       "        text-align: right;\n",
       "    }\n",
       "</style>\n",
       "<table border=\"1\" class=\"dataframe\">\n",
       "  <thead>\n",
       "    <tr style=\"text-align: right;\">\n",
       "      <th></th>\n",
       "      <th>Gymnast ID</th>\n",
       "      <th>First Name</th>\n",
       "      <th>Last Name</th>\n",
       "      <th>Team</th>\n",
       "      <th>Vault</th>\n",
       "      <th>VT Count</th>\n",
       "      <th>Uneven Bars</th>\n",
       "      <th>UB Count</th>\n",
       "      <th>Balance Beam</th>\n",
       "      <th>BB Count</th>\n",
       "      <th>Floor Exercise</th>\n",
       "      <th>FX Count</th>\n",
       "      <th>All Around</th>\n",
       "      <th>AA Count</th>\n",
       "      <th>Season</th>\n",
       "    </tr>\n",
       "  </thead>\n",
       "  <tbody>\n",
       "    <tr>\n",
       "      <th>6643</th>\n",
       "      <td>29946</td>\n",
       "      <td>Trinity</td>\n",
       "      <td>Thomas</td>\n",
       "      <td>Florida</td>\n",
       "      <td>9.930952</td>\n",
       "      <td>63</td>\n",
       "      <td>9.949603</td>\n",
       "      <td>63</td>\n",
       "      <td>9.943160</td>\n",
       "      <td>53</td>\n",
       "      <td>9.992857</td>\n",
       "      <td>49</td>\n",
       "      <td>39.830053</td>\n",
       "      <td>47</td>\n",
       "      <td>2022</td>\n",
       "    </tr>\n",
       "    <tr>\n",
       "      <th>4638</th>\n",
       "      <td>24714</td>\n",
       "      <td>Maggie</td>\n",
       "      <td>Nichols</td>\n",
       "      <td>Oklahoma</td>\n",
       "      <td>9.920000</td>\n",
       "      <td>60</td>\n",
       "      <td>9.947177</td>\n",
       "      <td>62</td>\n",
       "      <td>9.954032</td>\n",
       "      <td>62</td>\n",
       "      <td>9.944960</td>\n",
       "      <td>62</td>\n",
       "      <td>39.770602</td>\n",
       "      <td>54</td>\n",
       "      <td>2018</td>\n",
       "    </tr>\n",
       "    <tr>\n",
       "      <th>9332</th>\n",
       "      <td>31018</td>\n",
       "      <td>Jade</td>\n",
       "      <td>Carey</td>\n",
       "      <td>Oregon State</td>\n",
       "      <td>9.928571</td>\n",
       "      <td>56</td>\n",
       "      <td>9.942857</td>\n",
       "      <td>56</td>\n",
       "      <td>9.934375</td>\n",
       "      <td>56</td>\n",
       "      <td>9.949554</td>\n",
       "      <td>56</td>\n",
       "      <td>39.755357</td>\n",
       "      <td>56</td>\n",
       "      <td>2022</td>\n",
       "    </tr>\n",
       "    <tr>\n",
       "      <th>6644</th>\n",
       "      <td>29946</td>\n",
       "      <td>Trinity</td>\n",
       "      <td>Thomas</td>\n",
       "      <td>Florida</td>\n",
       "      <td>9.908036</td>\n",
       "      <td>56</td>\n",
       "      <td>9.951786</td>\n",
       "      <td>56</td>\n",
       "      <td>9.915556</td>\n",
       "      <td>45</td>\n",
       "      <td>8.136585</td>\n",
       "      <td>41</td>\n",
       "      <td>39.741667</td>\n",
       "      <td>24</td>\n",
       "      <td>2023</td>\n",
       "    </tr>\n",
       "    <tr>\n",
       "      <th>4640</th>\n",
       "      <td>24714</td>\n",
       "      <td>Maggie</td>\n",
       "      <td>Nichols</td>\n",
       "      <td>Oklahoma</td>\n",
       "      <td>9.948148</td>\n",
       "      <td>27</td>\n",
       "      <td>9.953448</td>\n",
       "      <td>29</td>\n",
       "      <td>9.858333</td>\n",
       "      <td>27</td>\n",
       "      <td>9.938889</td>\n",
       "      <td>18</td>\n",
       "      <td>39.738889</td>\n",
       "      <td>18</td>\n",
       "      <td>2020</td>\n",
       "    </tr>\n",
       "    <tr>\n",
       "      <th>9169</th>\n",
       "      <td>30952</td>\n",
       "      <td>Haleigh</td>\n",
       "      <td>Bryant</td>\n",
       "      <td>LSU</td>\n",
       "      <td>9.935507</td>\n",
       "      <td>69</td>\n",
       "      <td>9.922826</td>\n",
       "      <td>69</td>\n",
       "      <td>9.930435</td>\n",
       "      <td>69</td>\n",
       "      <td>9.943654</td>\n",
       "      <td>65</td>\n",
       "      <td>39.734038</td>\n",
       "      <td>65</td>\n",
       "      <td>2024</td>\n",
       "    </tr>\n",
       "    <tr>\n",
       "      <th>4639</th>\n",
       "      <td>24714</td>\n",
       "      <td>Maggie</td>\n",
       "      <td>Nichols</td>\n",
       "      <td>Oklahoma</td>\n",
       "      <td>9.936250</td>\n",
       "      <td>40</td>\n",
       "      <td>9.955000</td>\n",
       "      <td>60</td>\n",
       "      <td>9.916379</td>\n",
       "      <td>58</td>\n",
       "      <td>9.925000</td>\n",
       "      <td>16</td>\n",
       "      <td>39.721875</td>\n",
       "      <td>16</td>\n",
       "      <td>2019</td>\n",
       "    </tr>\n",
       "    <tr>\n",
       "      <th>4830</th>\n",
       "      <td>24802</td>\n",
       "      <td>Kyla</td>\n",
       "      <td>Ross</td>\n",
       "      <td>UCLA</td>\n",
       "      <td>9.905000</td>\n",
       "      <td>25</td>\n",
       "      <td>9.953704</td>\n",
       "      <td>27</td>\n",
       "      <td>9.930556</td>\n",
       "      <td>27</td>\n",
       "      <td>9.932609</td>\n",
       "      <td>23</td>\n",
       "      <td>39.717391</td>\n",
       "      <td>23</td>\n",
       "      <td>2020</td>\n",
       "    </tr>\n",
       "    <tr>\n",
       "      <th>9904</th>\n",
       "      <td>31267</td>\n",
       "      <td>Sunisa</td>\n",
       "      <td>Lee</td>\n",
       "      <td>Auburn</td>\n",
       "      <td>9.900000</td>\n",
       "      <td>20</td>\n",
       "      <td>9.956818</td>\n",
       "      <td>22</td>\n",
       "      <td>9.897727</td>\n",
       "      <td>22</td>\n",
       "      <td>9.894444</td>\n",
       "      <td>18</td>\n",
       "      <td>39.705556</td>\n",
       "      <td>18</td>\n",
       "      <td>2023</td>\n",
       "    </tr>\n",
       "    <tr>\n",
       "      <th>8741</th>\n",
       "      <td>30786</td>\n",
       "      <td>Luisa</td>\n",
       "      <td>Blanco</td>\n",
       "      <td>Alabama</td>\n",
       "      <td>9.866667</td>\n",
       "      <td>48</td>\n",
       "      <td>9.924185</td>\n",
       "      <td>46</td>\n",
       "      <td>9.950815</td>\n",
       "      <td>46</td>\n",
       "      <td>9.932143</td>\n",
       "      <td>42</td>\n",
       "      <td>39.704762</td>\n",
       "      <td>42</td>\n",
       "      <td>2021</td>\n",
       "    </tr>\n",
       "    <tr>\n",
       "      <th>9333</th>\n",
       "      <td>31018</td>\n",
       "      <td>Jade</td>\n",
       "      <td>Carey</td>\n",
       "      <td>Oregon State</td>\n",
       "      <td>9.904167</td>\n",
       "      <td>60</td>\n",
       "      <td>9.906667</td>\n",
       "      <td>60</td>\n",
       "      <td>9.942500</td>\n",
       "      <td>80</td>\n",
       "      <td>9.952679</td>\n",
       "      <td>56</td>\n",
       "      <td>39.691964</td>\n",
       "      <td>56</td>\n",
       "      <td>2023</td>\n",
       "    </tr>\n",
       "    <tr>\n",
       "      <th>5433</th>\n",
       "      <td>25049</td>\n",
       "      <td>Lexy</td>\n",
       "      <td>Ramler</td>\n",
       "      <td>Minnesota</td>\n",
       "      <td>9.913158</td>\n",
       "      <td>57</td>\n",
       "      <td>9.928509</td>\n",
       "      <td>57</td>\n",
       "      <td>9.944298</td>\n",
       "      <td>57</td>\n",
       "      <td>9.899123</td>\n",
       "      <td>57</td>\n",
       "      <td>39.685088</td>\n",
       "      <td>57</td>\n",
       "      <td>2021</td>\n",
       "    </tr>\n",
       "    <tr>\n",
       "      <th>9168</th>\n",
       "      <td>30952</td>\n",
       "      <td>Haleigh</td>\n",
       "      <td>Bryant</td>\n",
       "      <td>LSU</td>\n",
       "      <td>9.907639</td>\n",
       "      <td>72</td>\n",
       "      <td>9.922917</td>\n",
       "      <td>72</td>\n",
       "      <td>9.909028</td>\n",
       "      <td>72</td>\n",
       "      <td>9.938194</td>\n",
       "      <td>72</td>\n",
       "      <td>39.677778</td>\n",
       "      <td>72</td>\n",
       "      <td>2023</td>\n",
       "    </tr>\n",
       "    <tr>\n",
       "      <th>9334</th>\n",
       "      <td>31018</td>\n",
       "      <td>Jade</td>\n",
       "      <td>Carey</td>\n",
       "      <td>Oregon State</td>\n",
       "      <td>9.879000</td>\n",
       "      <td>50</td>\n",
       "      <td>9.921774</td>\n",
       "      <td>62</td>\n",
       "      <td>9.909274</td>\n",
       "      <td>62</td>\n",
       "      <td>9.950000</td>\n",
       "      <td>45</td>\n",
       "      <td>39.676667</td>\n",
       "      <td>45</td>\n",
       "      <td>2024</td>\n",
       "    </tr>\n",
       "    <tr>\n",
       "      <th>4339</th>\n",
       "      <td>24600</td>\n",
       "      <td>MyKayla</td>\n",
       "      <td>Skinner</td>\n",
       "      <td>Utah</td>\n",
       "      <td>9.912716</td>\n",
       "      <td>58</td>\n",
       "      <td>9.910833</td>\n",
       "      <td>60</td>\n",
       "      <td>9.900417</td>\n",
       "      <td>60</td>\n",
       "      <td>9.938147</td>\n",
       "      <td>58</td>\n",
       "      <td>39.668750</td>\n",
       "      <td>52</td>\n",
       "      <td>2018</td>\n",
       "    </tr>\n",
       "    <tr>\n",
       "      <th>3382</th>\n",
       "      <td>24174</td>\n",
       "      <td>Sarah</td>\n",
       "      <td>Finnegan</td>\n",
       "      <td>LSU</td>\n",
       "      <td>9.880331</td>\n",
       "      <td>68</td>\n",
       "      <td>9.927941</td>\n",
       "      <td>68</td>\n",
       "      <td>9.918934</td>\n",
       "      <td>68</td>\n",
       "      <td>9.923113</td>\n",
       "      <td>53</td>\n",
       "      <td>39.665094</td>\n",
       "      <td>53</td>\n",
       "      <td>2019</td>\n",
       "    </tr>\n",
       "    <tr>\n",
       "      <th>10870</th>\n",
       "      <td>31789</td>\n",
       "      <td>Jordan</td>\n",
       "      <td>Chiles</td>\n",
       "      <td>UCLA</td>\n",
       "      <td>9.906818</td>\n",
       "      <td>77</td>\n",
       "      <td>9.977597</td>\n",
       "      <td>77</td>\n",
       "      <td>9.817532</td>\n",
       "      <td>77</td>\n",
       "      <td>9.957143</td>\n",
       "      <td>77</td>\n",
       "      <td>39.659091</td>\n",
       "      <td>77</td>\n",
       "      <td>2023</td>\n",
       "    </tr>\n",
       "    <tr>\n",
       "      <th>5434</th>\n",
       "      <td>25049</td>\n",
       "      <td>Lexy</td>\n",
       "      <td>Ramler</td>\n",
       "      <td>Minnesota</td>\n",
       "      <td>9.883712</td>\n",
       "      <td>66</td>\n",
       "      <td>9.921212</td>\n",
       "      <td>66</td>\n",
       "      <td>9.941288</td>\n",
       "      <td>66</td>\n",
       "      <td>9.892045</td>\n",
       "      <td>66</td>\n",
       "      <td>39.638258</td>\n",
       "      <td>66</td>\n",
       "      <td>2022</td>\n",
       "    </tr>\n",
       "    <tr>\n",
       "      <th>8151</th>\n",
       "      <td>30545</td>\n",
       "      <td>Maile</td>\n",
       "      <td>O'Keefe</td>\n",
       "      <td>Utah</td>\n",
       "      <td>9.845000</td>\n",
       "      <td>55</td>\n",
       "      <td>9.900649</td>\n",
       "      <td>77</td>\n",
       "      <td>9.967532</td>\n",
       "      <td>77</td>\n",
       "      <td>9.917063</td>\n",
       "      <td>63</td>\n",
       "      <td>39.638182</td>\n",
       "      <td>55</td>\n",
       "      <td>2023</td>\n",
       "    </tr>\n",
       "    <tr>\n",
       "      <th>567</th>\n",
       "      <td>22715</td>\n",
       "      <td>Alex</td>\n",
       "      <td>McMurtry</td>\n",
       "      <td>Florida</td>\n",
       "      <td>9.936607</td>\n",
       "      <td>56</td>\n",
       "      <td>9.900893</td>\n",
       "      <td>56</td>\n",
       "      <td>9.906473</td>\n",
       "      <td>56</td>\n",
       "      <td>9.911310</td>\n",
       "      <td>42</td>\n",
       "      <td>39.637153</td>\n",
       "      <td>36</td>\n",
       "      <td>2017</td>\n",
       "    </tr>\n",
       "    <tr>\n",
       "      <th>10021</th>\n",
       "      <td>31328</td>\n",
       "      <td>Leanne</td>\n",
       "      <td>Wong</td>\n",
       "      <td>Florida</td>\n",
       "      <td>9.902799</td>\n",
       "      <td>67</td>\n",
       "      <td>9.936796</td>\n",
       "      <td>71</td>\n",
       "      <td>9.854291</td>\n",
       "      <td>67</td>\n",
       "      <td>9.922149</td>\n",
       "      <td>57</td>\n",
       "      <td>39.635088</td>\n",
       "      <td>57</td>\n",
       "      <td>2024</td>\n",
       "    </tr>\n",
       "    <tr>\n",
       "      <th>11236</th>\n",
       "      <td>32075</td>\n",
       "      <td>Selena</td>\n",
       "      <td>Harris</td>\n",
       "      <td>UCLA</td>\n",
       "      <td>9.863636</td>\n",
       "      <td>77</td>\n",
       "      <td>9.914610</td>\n",
       "      <td>77</td>\n",
       "      <td>9.928247</td>\n",
       "      <td>77</td>\n",
       "      <td>9.920667</td>\n",
       "      <td>75</td>\n",
       "      <td>39.633333</td>\n",
       "      <td>75</td>\n",
       "      <td>2023</td>\n",
       "    </tr>\n",
       "    <tr>\n",
       "      <th>10019</th>\n",
       "      <td>31328</td>\n",
       "      <td>Leanne</td>\n",
       "      <td>Wong</td>\n",
       "      <td>Florida</td>\n",
       "      <td>9.861404</td>\n",
       "      <td>57</td>\n",
       "      <td>9.903373</td>\n",
       "      <td>63</td>\n",
       "      <td>9.893056</td>\n",
       "      <td>63</td>\n",
       "      <td>9.930508</td>\n",
       "      <td>59</td>\n",
       "      <td>39.627830</td>\n",
       "      <td>53</td>\n",
       "      <td>2022</td>\n",
       "    </tr>\n",
       "    <tr>\n",
       "      <th>8963</th>\n",
       "      <td>30874</td>\n",
       "      <td>Jessica</td>\n",
       "      <td>Hutchinson</td>\n",
       "      <td>Denver</td>\n",
       "      <td>9.873437</td>\n",
       "      <td>48</td>\n",
       "      <td>9.892188</td>\n",
       "      <td>48</td>\n",
       "      <td>9.917708</td>\n",
       "      <td>48</td>\n",
       "      <td>9.943750</td>\n",
       "      <td>48</td>\n",
       "      <td>39.627083</td>\n",
       "      <td>48</td>\n",
       "      <td>2024</td>\n",
       "    </tr>\n",
       "    <tr>\n",
       "      <th>4829</th>\n",
       "      <td>24802</td>\n",
       "      <td>Kyla</td>\n",
       "      <td>Ross</td>\n",
       "      <td>UCLA</td>\n",
       "      <td>9.902308</td>\n",
       "      <td>65</td>\n",
       "      <td>9.935962</td>\n",
       "      <td>65</td>\n",
       "      <td>9.925385</td>\n",
       "      <td>65</td>\n",
       "      <td>9.951064</td>\n",
       "      <td>47</td>\n",
       "      <td>39.622074</td>\n",
       "      <td>47</td>\n",
       "      <td>2019</td>\n",
       "    </tr>\n",
       "    <tr>\n",
       "      <th>1218</th>\n",
       "      <td>23070</td>\n",
       "      <td>Elizabeth</td>\n",
       "      <td>Price</td>\n",
       "      <td>Stanford</td>\n",
       "      <td>9.899385</td>\n",
       "      <td>61</td>\n",
       "      <td>9.932787</td>\n",
       "      <td>61</td>\n",
       "      <td>9.850658</td>\n",
       "      <td>57</td>\n",
       "      <td>9.936842</td>\n",
       "      <td>57</td>\n",
       "      <td>39.621930</td>\n",
       "      <td>57</td>\n",
       "      <td>2018</td>\n",
       "    </tr>\n",
       "    <tr>\n",
       "      <th>11237</th>\n",
       "      <td>32075</td>\n",
       "      <td>Selena</td>\n",
       "      <td>Harris</td>\n",
       "      <td>UCLA</td>\n",
       "      <td>9.888372</td>\n",
       "      <td>43</td>\n",
       "      <td>9.917442</td>\n",
       "      <td>43</td>\n",
       "      <td>9.921094</td>\n",
       "      <td>64</td>\n",
       "      <td>9.908721</td>\n",
       "      <td>43</td>\n",
       "      <td>39.621512</td>\n",
       "      <td>43</td>\n",
       "      <td>2024</td>\n",
       "    </tr>\n",
       "    <tr>\n",
       "      <th>4828</th>\n",
       "      <td>24802</td>\n",
       "      <td>Kyla</td>\n",
       "      <td>Ross</td>\n",
       "      <td>UCLA</td>\n",
       "      <td>9.857661</td>\n",
       "      <td>62</td>\n",
       "      <td>9.952652</td>\n",
       "      <td>66</td>\n",
       "      <td>9.926210</td>\n",
       "      <td>62</td>\n",
       "      <td>9.814541</td>\n",
       "      <td>49</td>\n",
       "      <td>39.620640</td>\n",
       "      <td>43</td>\n",
       "      <td>2018</td>\n",
       "    </tr>\n",
       "    <tr>\n",
       "      <th>10999</th>\n",
       "      <td>31891</td>\n",
       "      <td>Kayla</td>\n",
       "      <td>Dicello</td>\n",
       "      <td>Florida</td>\n",
       "      <td>9.862000</td>\n",
       "      <td>75</td>\n",
       "      <td>9.928000</td>\n",
       "      <td>75</td>\n",
       "      <td>9.930667</td>\n",
       "      <td>75</td>\n",
       "      <td>9.894928</td>\n",
       "      <td>69</td>\n",
       "      <td>39.618116</td>\n",
       "      <td>69</td>\n",
       "      <td>2023</td>\n",
       "    </tr>\n",
       "    <tr>\n",
       "      <th>7858</th>\n",
       "      <td>30433</td>\n",
       "      <td>Raena</td>\n",
       "      <td>Worley</td>\n",
       "      <td>Kentucky</td>\n",
       "      <td>9.886818</td>\n",
       "      <td>55</td>\n",
       "      <td>9.915000</td>\n",
       "      <td>55</td>\n",
       "      <td>9.879545</td>\n",
       "      <td>55</td>\n",
       "      <td>9.936591</td>\n",
       "      <td>55</td>\n",
       "      <td>39.617955</td>\n",
       "      <td>55</td>\n",
       "      <td>2022</td>\n",
       "    </tr>\n",
       "    <tr>\n",
       "      <th>569</th>\n",
       "      <td>22717</td>\n",
       "      <td>Bridget</td>\n",
       "      <td>Sloan</td>\n",
       "      <td>Florida</td>\n",
       "      <td>9.937245</td>\n",
       "      <td>49</td>\n",
       "      <td>9.955455</td>\n",
       "      <td>55</td>\n",
       "      <td>9.893056</td>\n",
       "      <td>36</td>\n",
       "      <td>9.825833</td>\n",
       "      <td>30</td>\n",
       "      <td>39.612500</td>\n",
       "      <td>22</td>\n",
       "      <td>2015</td>\n",
       "    </tr>\n",
       "    <tr>\n",
       "      <th>6641</th>\n",
       "      <td>29946</td>\n",
       "      <td>Trinity</td>\n",
       "      <td>Thomas</td>\n",
       "      <td>Florida</td>\n",
       "      <td>9.876316</td>\n",
       "      <td>19</td>\n",
       "      <td>9.847368</td>\n",
       "      <td>19</td>\n",
       "      <td>9.928947</td>\n",
       "      <td>19</td>\n",
       "      <td>9.959211</td>\n",
       "      <td>19</td>\n",
       "      <td>39.611842</td>\n",
       "      <td>19</td>\n",
       "      <td>2020</td>\n",
       "    </tr>\n",
       "    <tr>\n",
       "      <th>7860</th>\n",
       "      <td>30433</td>\n",
       "      <td>Raena</td>\n",
       "      <td>Worley</td>\n",
       "      <td>Kentucky</td>\n",
       "      <td>9.845455</td>\n",
       "      <td>44</td>\n",
       "      <td>9.901136</td>\n",
       "      <td>44</td>\n",
       "      <td>9.900000</td>\n",
       "      <td>44</td>\n",
       "      <td>9.956923</td>\n",
       "      <td>65</td>\n",
       "      <td>39.606818</td>\n",
       "      <td>44</td>\n",
       "      <td>2024</td>\n",
       "    </tr>\n",
       "    <tr>\n",
       "      <th>4338</th>\n",
       "      <td>24600</td>\n",
       "      <td>MyKayla</td>\n",
       "      <td>Skinner</td>\n",
       "      <td>Utah</td>\n",
       "      <td>9.908333</td>\n",
       "      <td>57</td>\n",
       "      <td>9.867105</td>\n",
       "      <td>57</td>\n",
       "      <td>9.867982</td>\n",
       "      <td>57</td>\n",
       "      <td>9.951754</td>\n",
       "      <td>57</td>\n",
       "      <td>39.600490</td>\n",
       "      <td>51</td>\n",
       "      <td>2017</td>\n",
       "    </tr>\n",
       "    <tr>\n",
       "      <th>9903</th>\n",
       "      <td>31267</td>\n",
       "      <td>Sunisa</td>\n",
       "      <td>Lee</td>\n",
       "      <td>Auburn</td>\n",
       "      <td>9.861638</td>\n",
       "      <td>58</td>\n",
       "      <td>9.920962</td>\n",
       "      <td>65</td>\n",
       "      <td>9.868654</td>\n",
       "      <td>65</td>\n",
       "      <td>9.925417</td>\n",
       "      <td>60</td>\n",
       "      <td>39.600431</td>\n",
       "      <td>58</td>\n",
       "      <td>2022</td>\n",
       "    </tr>\n",
       "    <tr>\n",
       "      <th>4637</th>\n",
       "      <td>24714</td>\n",
       "      <td>Maggie</td>\n",
       "      <td>Nichols</td>\n",
       "      <td>Oklahoma</td>\n",
       "      <td>9.934135</td>\n",
       "      <td>52</td>\n",
       "      <td>9.939286</td>\n",
       "      <td>56</td>\n",
       "      <td>9.815741</td>\n",
       "      <td>54</td>\n",
       "      <td>9.950000</td>\n",
       "      <td>46</td>\n",
       "      <td>39.590000</td>\n",
       "      <td>40</td>\n",
       "      <td>2017</td>\n",
       "    </tr>\n",
       "    <tr>\n",
       "      <th>8149</th>\n",
       "      <td>30545</td>\n",
       "      <td>Maile</td>\n",
       "      <td>O'Keefe</td>\n",
       "      <td>Utah</td>\n",
       "      <td>9.832292</td>\n",
       "      <td>60</td>\n",
       "      <td>9.903750</td>\n",
       "      <td>60</td>\n",
       "      <td>9.927708</td>\n",
       "      <td>60</td>\n",
       "      <td>9.915848</td>\n",
       "      <td>56</td>\n",
       "      <td>39.583259</td>\n",
       "      <td>56</td>\n",
       "      <td>2021</td>\n",
       "    </tr>\n",
       "    <tr>\n",
       "      <th>10020</th>\n",
       "      <td>31328</td>\n",
       "      <td>Leanne</td>\n",
       "      <td>Wong</td>\n",
       "      <td>Florida</td>\n",
       "      <td>9.866000</td>\n",
       "      <td>75</td>\n",
       "      <td>9.920667</td>\n",
       "      <td>75</td>\n",
       "      <td>9.876000</td>\n",
       "      <td>75</td>\n",
       "      <td>9.919203</td>\n",
       "      <td>69</td>\n",
       "      <td>39.579348</td>\n",
       "      <td>69</td>\n",
       "      <td>2023</td>\n",
       "    </tr>\n",
       "    <tr>\n",
       "      <th>7859</th>\n",
       "      <td>30433</td>\n",
       "      <td>Raena</td>\n",
       "      <td>Worley</td>\n",
       "      <td>Kentucky</td>\n",
       "      <td>9.853261</td>\n",
       "      <td>69</td>\n",
       "      <td>9.901812</td>\n",
       "      <td>69</td>\n",
       "      <td>9.887319</td>\n",
       "      <td>69</td>\n",
       "      <td>9.936232</td>\n",
       "      <td>69</td>\n",
       "      <td>39.578623</td>\n",
       "      <td>69</td>\n",
       "      <td>2023</td>\n",
       "    </tr>\n",
       "    <tr>\n",
       "      <th>3381</th>\n",
       "      <td>24174</td>\n",
       "      <td>Sarah</td>\n",
       "      <td>Finnegan</td>\n",
       "      <td>LSU</td>\n",
       "      <td>9.856048</td>\n",
       "      <td>62</td>\n",
       "      <td>9.899805</td>\n",
       "      <td>64</td>\n",
       "      <td>9.909766</td>\n",
       "      <td>64</td>\n",
       "      <td>9.903542</td>\n",
       "      <td>60</td>\n",
       "      <td>39.570833</td>\n",
       "      <td>54</td>\n",
       "      <td>2018</td>\n",
       "    </tr>\n",
       "    <tr>\n",
       "      <th>8961</th>\n",
       "      <td>30874</td>\n",
       "      <td>Jessica</td>\n",
       "      <td>Hutchinson</td>\n",
       "      <td>Denver</td>\n",
       "      <td>9.857609</td>\n",
       "      <td>46</td>\n",
       "      <td>9.865476</td>\n",
       "      <td>42</td>\n",
       "      <td>9.905000</td>\n",
       "      <td>40</td>\n",
       "      <td>9.928750</td>\n",
       "      <td>40</td>\n",
       "      <td>39.562500</td>\n",
       "      <td>40</td>\n",
       "      <td>2022</td>\n",
       "    </tr>\n",
       "    <tr>\n",
       "      <th>4340</th>\n",
       "      <td>24600</td>\n",
       "      <td>MyKayla</td>\n",
       "      <td>Skinner</td>\n",
       "      <td>Utah</td>\n",
       "      <td>9.924597</td>\n",
       "      <td>62</td>\n",
       "      <td>9.865927</td>\n",
       "      <td>62</td>\n",
       "      <td>9.830242</td>\n",
       "      <td>62</td>\n",
       "      <td>9.941741</td>\n",
       "      <td>56</td>\n",
       "      <td>39.555804</td>\n",
       "      <td>56</td>\n",
       "      <td>2019</td>\n",
       "    </tr>\n",
       "    <tr>\n",
       "      <th>1216</th>\n",
       "      <td>23070</td>\n",
       "      <td>Elizabeth</td>\n",
       "      <td>Price</td>\n",
       "      <td>Stanford</td>\n",
       "      <td>9.889732</td>\n",
       "      <td>56</td>\n",
       "      <td>9.901339</td>\n",
       "      <td>56</td>\n",
       "      <td>9.856713</td>\n",
       "      <td>54</td>\n",
       "      <td>9.884598</td>\n",
       "      <td>56</td>\n",
       "      <td>39.537963</td>\n",
       "      <td>54</td>\n",
       "      <td>2016</td>\n",
       "    </tr>\n",
       "    <tr>\n",
       "      <th>5431</th>\n",
       "      <td>25049</td>\n",
       "      <td>Lexy</td>\n",
       "      <td>Ramler</td>\n",
       "      <td>Minnesota</td>\n",
       "      <td>9.862500</td>\n",
       "      <td>70</td>\n",
       "      <td>9.908214</td>\n",
       "      <td>70</td>\n",
       "      <td>9.899286</td>\n",
       "      <td>70</td>\n",
       "      <td>9.842857</td>\n",
       "      <td>70</td>\n",
       "      <td>39.512857</td>\n",
       "      <td>70</td>\n",
       "      <td>2019</td>\n",
       "    </tr>\n",
       "    <tr>\n",
       "      <th>8962</th>\n",
       "      <td>30874</td>\n",
       "      <td>Jessica</td>\n",
       "      <td>Hutchinson</td>\n",
       "      <td>Denver</td>\n",
       "      <td>9.822794</td>\n",
       "      <td>68</td>\n",
       "      <td>9.827273</td>\n",
       "      <td>66</td>\n",
       "      <td>9.927273</td>\n",
       "      <td>66</td>\n",
       "      <td>9.932955</td>\n",
       "      <td>66</td>\n",
       "      <td>39.511742</td>\n",
       "      <td>66</td>\n",
       "      <td>2023</td>\n",
       "    </tr>\n",
       "    <tr>\n",
       "      <th>3380</th>\n",
       "      <td>24174</td>\n",
       "      <td>Sarah</td>\n",
       "      <td>Finnegan</td>\n",
       "      <td>LSU</td>\n",
       "      <td>9.825521</td>\n",
       "      <td>48</td>\n",
       "      <td>9.888559</td>\n",
       "      <td>59</td>\n",
       "      <td>9.877331</td>\n",
       "      <td>59</td>\n",
       "      <td>9.900000</td>\n",
       "      <td>40</td>\n",
       "      <td>39.497426</td>\n",
       "      <td>34</td>\n",
       "      <td>2017</td>\n",
       "    </tr>\n",
       "    <tr>\n",
       "      <th>566</th>\n",
       "      <td>22715</td>\n",
       "      <td>Alex</td>\n",
       "      <td>McMurtry</td>\n",
       "      <td>Florida</td>\n",
       "      <td>9.896296</td>\n",
       "      <td>54</td>\n",
       "      <td>9.866667</td>\n",
       "      <td>54</td>\n",
       "      <td>9.908102</td>\n",
       "      <td>54</td>\n",
       "      <td>9.872845</td>\n",
       "      <td>29</td>\n",
       "      <td>39.488043</td>\n",
       "      <td>23</td>\n",
       "      <td>2016</td>\n",
       "    </tr>\n",
       "    <tr>\n",
       "      <th>6640</th>\n",
       "      <td>29946</td>\n",
       "      <td>Trinity</td>\n",
       "      <td>Thomas</td>\n",
       "      <td>Florida</td>\n",
       "      <td>9.746528</td>\n",
       "      <td>72</td>\n",
       "      <td>9.908750</td>\n",
       "      <td>80</td>\n",
       "      <td>9.872917</td>\n",
       "      <td>72</td>\n",
       "      <td>9.948750</td>\n",
       "      <td>80</td>\n",
       "      <td>39.486111</td>\n",
       "      <td>72</td>\n",
       "      <td>2019</td>\n",
       "    </tr>\n",
       "    <tr>\n",
       "      <th>568</th>\n",
       "      <td>22715</td>\n",
       "      <td>Alex</td>\n",
       "      <td>McMurtry</td>\n",
       "      <td>Florida</td>\n",
       "      <td>9.933958</td>\n",
       "      <td>60</td>\n",
       "      <td>9.949583</td>\n",
       "      <td>60</td>\n",
       "      <td>9.791250</td>\n",
       "      <td>60</td>\n",
       "      <td>9.727717</td>\n",
       "      <td>46</td>\n",
       "      <td>39.482187</td>\n",
       "      <td>40</td>\n",
       "      <td>2018</td>\n",
       "    </tr>\n",
       "    <tr>\n",
       "      <th>6642</th>\n",
       "      <td>29946</td>\n",
       "      <td>Trinity</td>\n",
       "      <td>Thomas</td>\n",
       "      <td>Florida</td>\n",
       "      <td>9.890385</td>\n",
       "      <td>26</td>\n",
       "      <td>9.924490</td>\n",
       "      <td>49</td>\n",
       "      <td>9.733654</td>\n",
       "      <td>26</td>\n",
       "      <td>9.930769</td>\n",
       "      <td>26</td>\n",
       "      <td>39.468269</td>\n",
       "      <td>26</td>\n",
       "      <td>2021</td>\n",
       "    </tr>\n",
       "    <tr>\n",
       "      <th>570</th>\n",
       "      <td>22717</td>\n",
       "      <td>Bridget</td>\n",
       "      <td>Sloan</td>\n",
       "      <td>Florida</td>\n",
       "      <td>9.888462</td>\n",
       "      <td>52</td>\n",
       "      <td>9.910648</td>\n",
       "      <td>54</td>\n",
       "      <td>9.819444</td>\n",
       "      <td>54</td>\n",
       "      <td>9.867593</td>\n",
       "      <td>54</td>\n",
       "      <td>39.457065</td>\n",
       "      <td>46</td>\n",
       "      <td>2016</td>\n",
       "    </tr>\n",
       "    <tr>\n",
       "      <th>8150</th>\n",
       "      <td>30545</td>\n",
       "      <td>Maile</td>\n",
       "      <td>O'Keefe</td>\n",
       "      <td>Utah</td>\n",
       "      <td>9.847727</td>\n",
       "      <td>44</td>\n",
       "      <td>9.872656</td>\n",
       "      <td>64</td>\n",
       "      <td>9.939063</td>\n",
       "      <td>64</td>\n",
       "      <td>9.817241</td>\n",
       "      <td>58</td>\n",
       "      <td>39.455682</td>\n",
       "      <td>44</td>\n",
       "      <td>2022</td>\n",
       "    </tr>\n",
       "    <tr>\n",
       "      <th>7857</th>\n",
       "      <td>30433</td>\n",
       "      <td>Raena</td>\n",
       "      <td>Worley</td>\n",
       "      <td>Kentucky</td>\n",
       "      <td>9.844500</td>\n",
       "      <td>50</td>\n",
       "      <td>9.908750</td>\n",
       "      <td>40</td>\n",
       "      <td>9.845000</td>\n",
       "      <td>40</td>\n",
       "      <td>9.838125</td>\n",
       "      <td>40</td>\n",
       "      <td>39.450625</td>\n",
       "      <td>40</td>\n",
       "      <td>2021</td>\n",
       "    </tr>\n",
       "    <tr>\n",
       "      <th>5432</th>\n",
       "      <td>25049</td>\n",
       "      <td>Lexy</td>\n",
       "      <td>Ramler</td>\n",
       "      <td>Minnesota</td>\n",
       "      <td>9.864000</td>\n",
       "      <td>25</td>\n",
       "      <td>9.901000</td>\n",
       "      <td>25</td>\n",
       "      <td>9.893000</td>\n",
       "      <td>25</td>\n",
       "      <td>9.759000</td>\n",
       "      <td>25</td>\n",
       "      <td>39.417000</td>\n",
       "      <td>25</td>\n",
       "      <td>2020</td>\n",
       "    </tr>\n",
       "    <tr>\n",
       "      <th>8743</th>\n",
       "      <td>30786</td>\n",
       "      <td>Luisa</td>\n",
       "      <td>Blanco</td>\n",
       "      <td>Alabama</td>\n",
       "      <td>9.862766</td>\n",
       "      <td>47</td>\n",
       "      <td>9.912681</td>\n",
       "      <td>69</td>\n",
       "      <td>9.744118</td>\n",
       "      <td>51</td>\n",
       "      <td>9.923469</td>\n",
       "      <td>49</td>\n",
       "      <td>39.407222</td>\n",
       "      <td>45</td>\n",
       "      <td>2023</td>\n",
       "    </tr>\n",
       "    <tr>\n",
       "      <th>8960</th>\n",
       "      <td>30874</td>\n",
       "      <td>Jessica</td>\n",
       "      <td>Hutchinson</td>\n",
       "      <td>Denver</td>\n",
       "      <td>9.834615</td>\n",
       "      <td>39</td>\n",
       "      <td>9.855405</td>\n",
       "      <td>37</td>\n",
       "      <td>9.806667</td>\n",
       "      <td>30</td>\n",
       "      <td>9.894872</td>\n",
       "      <td>39</td>\n",
       "      <td>39.398214</td>\n",
       "      <td>28</td>\n",
       "      <td>2021</td>\n",
       "    </tr>\n",
       "    <tr>\n",
       "      <th>5430</th>\n",
       "      <td>25049</td>\n",
       "      <td>Lexy</td>\n",
       "      <td>Ramler</td>\n",
       "      <td>Minnesota</td>\n",
       "      <td>9.843015</td>\n",
       "      <td>68</td>\n",
       "      <td>9.880515</td>\n",
       "      <td>68</td>\n",
       "      <td>9.880331</td>\n",
       "      <td>68</td>\n",
       "      <td>9.783640</td>\n",
       "      <td>68</td>\n",
       "      <td>39.387500</td>\n",
       "      <td>68</td>\n",
       "      <td>2018</td>\n",
       "    </tr>\n",
       "    <tr>\n",
       "      <th>4827</th>\n",
       "      <td>24802</td>\n",
       "      <td>Kyla</td>\n",
       "      <td>Ross</td>\n",
       "      <td>UCLA</td>\n",
       "      <td>9.848611</td>\n",
       "      <td>54</td>\n",
       "      <td>9.913426</td>\n",
       "      <td>54</td>\n",
       "      <td>9.899537</td>\n",
       "      <td>54</td>\n",
       "      <td>9.691304</td>\n",
       "      <td>23</td>\n",
       "      <td>39.377941</td>\n",
       "      <td>17</td>\n",
       "      <td>2017</td>\n",
       "    </tr>\n",
       "    <tr>\n",
       "      <th>8744</th>\n",
       "      <td>30786</td>\n",
       "      <td>Luisa</td>\n",
       "      <td>Blanco</td>\n",
       "      <td>Alabama</td>\n",
       "      <td>9.894118</td>\n",
       "      <td>68</td>\n",
       "      <td>9.927841</td>\n",
       "      <td>66</td>\n",
       "      <td>9.660110</td>\n",
       "      <td>68</td>\n",
       "      <td>9.903390</td>\n",
       "      <td>59</td>\n",
       "      <td>39.349153</td>\n",
       "      <td>59</td>\n",
       "      <td>2024</td>\n",
       "    </tr>\n",
       "    <tr>\n",
       "      <th>8742</th>\n",
       "      <td>30786</td>\n",
       "      <td>Luisa</td>\n",
       "      <td>Blanco</td>\n",
       "      <td>Alabama</td>\n",
       "      <td>9.854286</td>\n",
       "      <td>35</td>\n",
       "      <td>9.907377</td>\n",
       "      <td>61</td>\n",
       "      <td>9.795349</td>\n",
       "      <td>43</td>\n",
       "      <td>9.879000</td>\n",
       "      <td>25</td>\n",
       "      <td>39.325000</td>\n",
       "      <td>19</td>\n",
       "      <td>2022</td>\n",
       "    </tr>\n",
       "  </tbody>\n",
       "</table>\n",
       "</div>"
      ],
      "text/plain": [
       "       Gymnast ID First Name   Last Name          Team     Vault  VT Count  \\\n",
       "6643        29946    Trinity      Thomas       Florida  9.930952        63   \n",
       "4638        24714     Maggie     Nichols      Oklahoma  9.920000        60   \n",
       "9332        31018       Jade       Carey  Oregon State  9.928571        56   \n",
       "6644        29946    Trinity      Thomas       Florida  9.908036        56   \n",
       "4640        24714     Maggie     Nichols      Oklahoma  9.948148        27   \n",
       "9169        30952    Haleigh      Bryant           LSU  9.935507        69   \n",
       "4639        24714     Maggie     Nichols      Oklahoma  9.936250        40   \n",
       "4830        24802       Kyla        Ross          UCLA  9.905000        25   \n",
       "9904        31267     Sunisa         Lee        Auburn  9.900000        20   \n",
       "8741        30786      Luisa      Blanco       Alabama  9.866667        48   \n",
       "9333        31018       Jade       Carey  Oregon State  9.904167        60   \n",
       "5433        25049       Lexy      Ramler     Minnesota  9.913158        57   \n",
       "9168        30952    Haleigh      Bryant           LSU  9.907639        72   \n",
       "9334        31018       Jade       Carey  Oregon State  9.879000        50   \n",
       "4339        24600    MyKayla     Skinner          Utah  9.912716        58   \n",
       "3382        24174      Sarah    Finnegan           LSU  9.880331        68   \n",
       "10870       31789     Jordan      Chiles          UCLA  9.906818        77   \n",
       "5434        25049       Lexy      Ramler     Minnesota  9.883712        66   \n",
       "8151        30545      Maile     O'Keefe          Utah  9.845000        55   \n",
       "567         22715       Alex    McMurtry       Florida  9.936607        56   \n",
       "10021       31328     Leanne        Wong       Florida  9.902799        67   \n",
       "11236       32075     Selena      Harris          UCLA  9.863636        77   \n",
       "10019       31328     Leanne        Wong       Florida  9.861404        57   \n",
       "8963        30874    Jessica  Hutchinson        Denver  9.873437        48   \n",
       "4829        24802       Kyla        Ross          UCLA  9.902308        65   \n",
       "1218        23070  Elizabeth       Price      Stanford  9.899385        61   \n",
       "11237       32075     Selena      Harris          UCLA  9.888372        43   \n",
       "4828        24802       Kyla        Ross          UCLA  9.857661        62   \n",
       "10999       31891      Kayla     Dicello       Florida  9.862000        75   \n",
       "7858        30433      Raena      Worley      Kentucky  9.886818        55   \n",
       "569         22717    Bridget       Sloan       Florida  9.937245        49   \n",
       "6641        29946    Trinity      Thomas       Florida  9.876316        19   \n",
       "7860        30433      Raena      Worley      Kentucky  9.845455        44   \n",
       "4338        24600    MyKayla     Skinner          Utah  9.908333        57   \n",
       "9903        31267     Sunisa         Lee        Auburn  9.861638        58   \n",
       "4637        24714     Maggie     Nichols      Oklahoma  9.934135        52   \n",
       "8149        30545      Maile     O'Keefe          Utah  9.832292        60   \n",
       "10020       31328     Leanne        Wong       Florida  9.866000        75   \n",
       "7859        30433      Raena      Worley      Kentucky  9.853261        69   \n",
       "3381        24174      Sarah    Finnegan           LSU  9.856048        62   \n",
       "8961        30874    Jessica  Hutchinson        Denver  9.857609        46   \n",
       "4340        24600    MyKayla     Skinner          Utah  9.924597        62   \n",
       "1216        23070  Elizabeth       Price      Stanford  9.889732        56   \n",
       "5431        25049       Lexy      Ramler     Minnesota  9.862500        70   \n",
       "8962        30874    Jessica  Hutchinson        Denver  9.822794        68   \n",
       "3380        24174      Sarah    Finnegan           LSU  9.825521        48   \n",
       "566         22715       Alex    McMurtry       Florida  9.896296        54   \n",
       "6640        29946    Trinity      Thomas       Florida  9.746528        72   \n",
       "568         22715       Alex    McMurtry       Florida  9.933958        60   \n",
       "6642        29946    Trinity      Thomas       Florida  9.890385        26   \n",
       "570         22717    Bridget       Sloan       Florida  9.888462        52   \n",
       "8150        30545      Maile     O'Keefe          Utah  9.847727        44   \n",
       "7857        30433      Raena      Worley      Kentucky  9.844500        50   \n",
       "5432        25049       Lexy      Ramler     Minnesota  9.864000        25   \n",
       "8743        30786      Luisa      Blanco       Alabama  9.862766        47   \n",
       "8960        30874    Jessica  Hutchinson        Denver  9.834615        39   \n",
       "5430        25049       Lexy      Ramler     Minnesota  9.843015        68   \n",
       "4827        24802       Kyla        Ross          UCLA  9.848611        54   \n",
       "8744        30786      Luisa      Blanco       Alabama  9.894118        68   \n",
       "8742        30786      Luisa      Blanco       Alabama  9.854286        35   \n",
       "\n",
       "       Uneven Bars  UB Count  Balance Beam  BB Count  Floor Exercise  \\\n",
       "6643      9.949603        63      9.943160        53        9.992857   \n",
       "4638      9.947177        62      9.954032        62        9.944960   \n",
       "9332      9.942857        56      9.934375        56        9.949554   \n",
       "6644      9.951786        56      9.915556        45        8.136585   \n",
       "4640      9.953448        29      9.858333        27        9.938889   \n",
       "9169      9.922826        69      9.930435        69        9.943654   \n",
       "4639      9.955000        60      9.916379        58        9.925000   \n",
       "4830      9.953704        27      9.930556        27        9.932609   \n",
       "9904      9.956818        22      9.897727        22        9.894444   \n",
       "8741      9.924185        46      9.950815        46        9.932143   \n",
       "9333      9.906667        60      9.942500        80        9.952679   \n",
       "5433      9.928509        57      9.944298        57        9.899123   \n",
       "9168      9.922917        72      9.909028        72        9.938194   \n",
       "9334      9.921774        62      9.909274        62        9.950000   \n",
       "4339      9.910833        60      9.900417        60        9.938147   \n",
       "3382      9.927941        68      9.918934        68        9.923113   \n",
       "10870     9.977597        77      9.817532        77        9.957143   \n",
       "5434      9.921212        66      9.941288        66        9.892045   \n",
       "8151      9.900649        77      9.967532        77        9.917063   \n",
       "567       9.900893        56      9.906473        56        9.911310   \n",
       "10021     9.936796        71      9.854291        67        9.922149   \n",
       "11236     9.914610        77      9.928247        77        9.920667   \n",
       "10019     9.903373        63      9.893056        63        9.930508   \n",
       "8963      9.892188        48      9.917708        48        9.943750   \n",
       "4829      9.935962        65      9.925385        65        9.951064   \n",
       "1218      9.932787        61      9.850658        57        9.936842   \n",
       "11237     9.917442        43      9.921094        64        9.908721   \n",
       "4828      9.952652        66      9.926210        62        9.814541   \n",
       "10999     9.928000        75      9.930667        75        9.894928   \n",
       "7858      9.915000        55      9.879545        55        9.936591   \n",
       "569       9.955455        55      9.893056        36        9.825833   \n",
       "6641      9.847368        19      9.928947        19        9.959211   \n",
       "7860      9.901136        44      9.900000        44        9.956923   \n",
       "4338      9.867105        57      9.867982        57        9.951754   \n",
       "9903      9.920962        65      9.868654        65        9.925417   \n",
       "4637      9.939286        56      9.815741        54        9.950000   \n",
       "8149      9.903750        60      9.927708        60        9.915848   \n",
       "10020     9.920667        75      9.876000        75        9.919203   \n",
       "7859      9.901812        69      9.887319        69        9.936232   \n",
       "3381      9.899805        64      9.909766        64        9.903542   \n",
       "8961      9.865476        42      9.905000        40        9.928750   \n",
       "4340      9.865927        62      9.830242        62        9.941741   \n",
       "1216      9.901339        56      9.856713        54        9.884598   \n",
       "5431      9.908214        70      9.899286        70        9.842857   \n",
       "8962      9.827273        66      9.927273        66        9.932955   \n",
       "3380      9.888559        59      9.877331        59        9.900000   \n",
       "566       9.866667        54      9.908102        54        9.872845   \n",
       "6640      9.908750        80      9.872917        72        9.948750   \n",
       "568       9.949583        60      9.791250        60        9.727717   \n",
       "6642      9.924490        49      9.733654        26        9.930769   \n",
       "570       9.910648        54      9.819444        54        9.867593   \n",
       "8150      9.872656        64      9.939063        64        9.817241   \n",
       "7857      9.908750        40      9.845000        40        9.838125   \n",
       "5432      9.901000        25      9.893000        25        9.759000   \n",
       "8743      9.912681        69      9.744118        51        9.923469   \n",
       "8960      9.855405        37      9.806667        30        9.894872   \n",
       "5430      9.880515        68      9.880331        68        9.783640   \n",
       "4827      9.913426        54      9.899537        54        9.691304   \n",
       "8744      9.927841        66      9.660110        68        9.903390   \n",
       "8742      9.907377        61      9.795349        43        9.879000   \n",
       "\n",
       "       FX Count  All Around  AA Count  Season  \n",
       "6643         49   39.830053        47    2022  \n",
       "4638         62   39.770602        54    2018  \n",
       "9332         56   39.755357        56    2022  \n",
       "6644         41   39.741667        24    2023  \n",
       "4640         18   39.738889        18    2020  \n",
       "9169         65   39.734038        65    2024  \n",
       "4639         16   39.721875        16    2019  \n",
       "4830         23   39.717391        23    2020  \n",
       "9904         18   39.705556        18    2023  \n",
       "8741         42   39.704762        42    2021  \n",
       "9333         56   39.691964        56    2023  \n",
       "5433         57   39.685088        57    2021  \n",
       "9168         72   39.677778        72    2023  \n",
       "9334         45   39.676667        45    2024  \n",
       "4339         58   39.668750        52    2018  \n",
       "3382         53   39.665094        53    2019  \n",
       "10870        77   39.659091        77    2023  \n",
       "5434         66   39.638258        66    2022  \n",
       "8151         63   39.638182        55    2023  \n",
       "567          42   39.637153        36    2017  \n",
       "10021        57   39.635088        57    2024  \n",
       "11236        75   39.633333        75    2023  \n",
       "10019        59   39.627830        53    2022  \n",
       "8963         48   39.627083        48    2024  \n",
       "4829         47   39.622074        47    2019  \n",
       "1218         57   39.621930        57    2018  \n",
       "11237        43   39.621512        43    2024  \n",
       "4828         49   39.620640        43    2018  \n",
       "10999        69   39.618116        69    2023  \n",
       "7858         55   39.617955        55    2022  \n",
       "569          30   39.612500        22    2015  \n",
       "6641         19   39.611842        19    2020  \n",
       "7860         65   39.606818        44    2024  \n",
       "4338         57   39.600490        51    2017  \n",
       "9903         60   39.600431        58    2022  \n",
       "4637         46   39.590000        40    2017  \n",
       "8149         56   39.583259        56    2021  \n",
       "10020        69   39.579348        69    2023  \n",
       "7859         69   39.578623        69    2023  \n",
       "3381         60   39.570833        54    2018  \n",
       "8961         40   39.562500        40    2022  \n",
       "4340         56   39.555804        56    2019  \n",
       "1216         56   39.537963        54    2016  \n",
       "5431         70   39.512857        70    2019  \n",
       "8962         66   39.511742        66    2023  \n",
       "3380         40   39.497426        34    2017  \n",
       "566          29   39.488043        23    2016  \n",
       "6640         80   39.486111        72    2019  \n",
       "568          46   39.482187        40    2018  \n",
       "6642         26   39.468269        26    2021  \n",
       "570          54   39.457065        46    2016  \n",
       "8150         58   39.455682        44    2022  \n",
       "7857         40   39.450625        40    2021  \n",
       "5432         25   39.417000        25    2020  \n",
       "8743         49   39.407222        45    2023  \n",
       "8960         39   39.398214        28    2021  \n",
       "5430         68   39.387500        68    2018  \n",
       "4827         23   39.377941        17    2017  \n",
       "8744         59   39.349153        59    2024  \n",
       "8742         25   39.325000        19    2022  "
      ]
     },
     "execution_count": 80,
     "metadata": {},
     "output_type": "execute_result"
    }
   ],
   "source": [
    "# Finally, the AA DF\n",
    "\n",
    "# Drop any rows where a gymnast has performed fewer than 6 floor routines\n",
    "aa_average_df = average_scores_df[(average_scores_df['AA Count'] >= 6)]\n",
    "\n",
    "# Sort by average beam score in descending order\n",
    "aa_average_df = aa_average_df.sort_values(by='All Around', ascending=False)\n",
    "\n",
    "# Get the first 20 unique values in the 'Gymnast ID' column\n",
    "top_20_ave_aaers = aa_average_df['Gymnast ID'].drop_duplicates().head(20).tolist()\n",
    "\n",
    "# Filter the original DataFrame to include all rows with these unique values\n",
    "aa_average_df = aa_average_df[aa_average_df['Gymnast ID'].isin(top_20_ave_aaers)]\n",
    "\n",
    "# Preview the df\n",
    "aa_average_df.head(60)"
   ]
  },
  {
   "cell_type": "markdown",
   "metadata": {},
   "source": [
    "# Who got the highest average/median of all time\n",
    "# Who got the highest average/median each year\n",
    "\n",
    "# Which teams own the most goats?"
   ]
  },
  {
   "cell_type": "markdown",
   "metadata": {},
   "source": [
    "### 2.3.4 Prepare the plots"
   ]
  }
 ],
 "metadata": {
  "kernelspec": {
   "display_name": "gymternet",
   "language": "python",
   "name": "python3"
  },
  "language_info": {
   "codemirror_mode": {
    "name": "ipython",
    "version": 3
   },
   "file_extension": ".py",
   "mimetype": "text/x-python",
   "name": "python",
   "nbconvert_exporter": "python",
   "pygments_lexer": "ipython3",
   "version": "3.12.4"
  }
 },
 "nbformat": 4,
 "nbformat_minor": 2
}
