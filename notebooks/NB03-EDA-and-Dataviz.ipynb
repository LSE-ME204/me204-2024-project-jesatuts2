{
 "cells": [
  {
   "cell_type": "markdown",
   "metadata": {},
   "source": [
    "# What do I want to end up with?\n",
    "## Tenniest teams (per year + aggregrated)\n",
    "## Top 10 (20?) goats of all time (by average score) (by apparatus?)\n",
    "## Bubble maps x axis year, y axis team, size = no. 10s (colour/pie apparatus if poss?)\n",
    "## Avg score over time (colour by team)"
   ]
  },
  {
   "cell_type": "markdown",
   "metadata": {},
   "source": [
    "# 1 Set up the environment"
   ]
  },
  {
   "cell_type": "code",
   "execution_count": 3,
   "metadata": {},
   "outputs": [
    {
     "name": "stdout",
     "output_type": "stream",
     "text": [
      "Requirement already satisfied: lets-plot==4.3.3 in /Users/jessicahyne/opt/miniconda3/envs/gymternet/lib/python3.12/site-packages (from -r ../requirements.txt (line 1)) (4.3.3)\n",
      "Requirement already satisfied: numerize==0.12 in /Users/jessicahyne/opt/miniconda3/envs/gymternet/lib/python3.12/site-packages (from -r ../requirements.txt (line 2)) (0.12)\n",
      "Requirement already satisfied: numpy<2 in /Users/jessicahyne/opt/miniconda3/envs/gymternet/lib/python3.12/site-packages (from -r ../requirements.txt (line 3)) (1.26.4)\n",
      "Requirement already satisfied: pandas==2.2.2 in /Users/jessicahyne/opt/miniconda3/envs/gymternet/lib/python3.12/site-packages (from -r ../requirements.txt (line 4)) (2.2.2)\n",
      "Requirement already satisfied: requests==2.32.3 in /Users/jessicahyne/opt/miniconda3/envs/gymternet/lib/python3.12/site-packages (from -r ../requirements.txt (line 5)) (2.32.3)\n",
      "Requirement already satisfied: Scrapy==2.11.2 in /Users/jessicahyne/opt/miniconda3/envs/gymternet/lib/python3.12/site-packages (from -r ../requirements.txt (line 6)) (2.11.2)\n",
      "Requirement already satisfied: selenium==4.22.0 in /Users/jessicahyne/opt/miniconda3/envs/gymternet/lib/python3.12/site-packages (from -r ../requirements.txt (line 7)) (4.22.0)\n",
      "Requirement already satisfied: tqdm==4.66.4 in /Users/jessicahyne/opt/miniconda3/envs/gymternet/lib/python3.12/site-packages (from -r ../requirements.txt (line 8)) (4.66.4)\n",
      "Requirement already satisfied: ipywidgets==8.1.3 in /Users/jessicahyne/opt/miniconda3/envs/gymternet/lib/python3.12/site-packages (from -r ../requirements.txt (line 9)) (8.1.3)\n",
      "Requirement already satisfied: jupysql in /Users/jessicahyne/opt/miniconda3/envs/gymternet/lib/python3.12/site-packages (from -r ../requirements.txt (line 10)) (0.10.12)\n",
      "Requirement already satisfied: sqlalchemy in /Users/jessicahyne/opt/miniconda3/envs/gymternet/lib/python3.12/site-packages (from -r ../requirements.txt (line 11)) (2.0.31)\n",
      "Requirement already satisfied: ipython-sql in /Users/jessicahyne/opt/miniconda3/envs/gymternet/lib/python3.12/site-packages (from -r ../requirements.txt (line 12)) (0.5.0)\n",
      "Requirement already satisfied: ipykernel==6.29.5 in /Users/jessicahyne/opt/miniconda3/envs/gymternet/lib/python3.12/site-packages (from -r ../requirements.txt (line 13)) (6.29.5)\n",
      "Requirement already satisfied: ipython==8.26.0 in /Users/jessicahyne/opt/miniconda3/envs/gymternet/lib/python3.12/site-packages (from -r ../requirements.txt (line 14)) (8.26.0)\n",
      "Requirement already satisfied: plotly in /Users/jessicahyne/opt/miniconda3/envs/gymternet/lib/python3.12/site-packages (from -r ../requirements.txt (line 15)) (5.23.0)\n",
      "Requirement already satisfied: nbformat>=4.2.0 in /Users/jessicahyne/opt/miniconda3/envs/gymternet/lib/python3.12/site-packages (from -r ../requirements.txt (line 16)) (5.10.4)\n",
      "Requirement already satisfied: dash in /Users/jessicahyne/opt/miniconda3/envs/gymternet/lib/python3.12/site-packages (from -r ../requirements.txt (line 17)) (2.17.1)\n",
      "Requirement already satisfied: pypng in /Users/jessicahyne/opt/miniconda3/envs/gymternet/lib/python3.12/site-packages (from lets-plot==4.3.3->-r ../requirements.txt (line 1)) (0.20220715.0)\n",
      "Requirement already satisfied: palettable in /Users/jessicahyne/opt/miniconda3/envs/gymternet/lib/python3.12/site-packages (from lets-plot==4.3.3->-r ../requirements.txt (line 1)) (3.3.3)\n",
      "Requirement already satisfied: python-dateutil>=2.8.2 in /Users/jessicahyne/opt/miniconda3/envs/gymternet/lib/python3.12/site-packages (from pandas==2.2.2->-r ../requirements.txt (line 4)) (2.9.0)\n",
      "Requirement already satisfied: pytz>=2020.1 in /Users/jessicahyne/opt/miniconda3/envs/gymternet/lib/python3.12/site-packages (from pandas==2.2.2->-r ../requirements.txt (line 4)) (2024.1)\n",
      "Requirement already satisfied: tzdata>=2022.7 in /Users/jessicahyne/opt/miniconda3/envs/gymternet/lib/python3.12/site-packages (from pandas==2.2.2->-r ../requirements.txt (line 4)) (2024.1)\n",
      "Requirement already satisfied: charset-normalizer<4,>=2 in /Users/jessicahyne/opt/miniconda3/envs/gymternet/lib/python3.12/site-packages (from requests==2.32.3->-r ../requirements.txt (line 5)) (3.3.2)\n",
      "Requirement already satisfied: idna<4,>=2.5 in /Users/jessicahyne/opt/miniconda3/envs/gymternet/lib/python3.12/site-packages (from requests==2.32.3->-r ../requirements.txt (line 5)) (3.7)\n",
      "Requirement already satisfied: urllib3<3,>=1.21.1 in /Users/jessicahyne/opt/miniconda3/envs/gymternet/lib/python3.12/site-packages (from requests==2.32.3->-r ../requirements.txt (line 5)) (2.2.2)\n",
      "Requirement already satisfied: certifi>=2017.4.17 in /Users/jessicahyne/opt/miniconda3/envs/gymternet/lib/python3.12/site-packages (from requests==2.32.3->-r ../requirements.txt (line 5)) (2024.7.4)\n",
      "Requirement already satisfied: Twisted>=18.9.0 in /Users/jessicahyne/opt/miniconda3/envs/gymternet/lib/python3.12/site-packages (from Scrapy==2.11.2->-r ../requirements.txt (line 6)) (24.3.0)\n",
      "Requirement already satisfied: cryptography>=36.0.0 in /Users/jessicahyne/opt/miniconda3/envs/gymternet/lib/python3.12/site-packages (from Scrapy==2.11.2->-r ../requirements.txt (line 6)) (43.0.0)\n",
      "Requirement already satisfied: cssselect>=0.9.1 in /Users/jessicahyne/opt/miniconda3/envs/gymternet/lib/python3.12/site-packages (from Scrapy==2.11.2->-r ../requirements.txt (line 6)) (1.2.0)\n",
      "Requirement already satisfied: itemloaders>=1.0.1 in /Users/jessicahyne/opt/miniconda3/envs/gymternet/lib/python3.12/site-packages (from Scrapy==2.11.2->-r ../requirements.txt (line 6)) (1.3.1)\n",
      "Requirement already satisfied: parsel>=1.5.0 in /Users/jessicahyne/opt/miniconda3/envs/gymternet/lib/python3.12/site-packages (from Scrapy==2.11.2->-r ../requirements.txt (line 6)) (1.9.1)\n",
      "Requirement already satisfied: pyOpenSSL>=21.0.0 in /Users/jessicahyne/opt/miniconda3/envs/gymternet/lib/python3.12/site-packages (from Scrapy==2.11.2->-r ../requirements.txt (line 6)) (24.2.1)\n",
      "Requirement already satisfied: queuelib>=1.4.2 in /Users/jessicahyne/opt/miniconda3/envs/gymternet/lib/python3.12/site-packages (from Scrapy==2.11.2->-r ../requirements.txt (line 6)) (1.7.0)\n",
      "Requirement already satisfied: service-identity>=18.1.0 in /Users/jessicahyne/opt/miniconda3/envs/gymternet/lib/python3.12/site-packages (from Scrapy==2.11.2->-r ../requirements.txt (line 6)) (24.1.0)\n",
      "Requirement already satisfied: w3lib>=1.17.0 in /Users/jessicahyne/opt/miniconda3/envs/gymternet/lib/python3.12/site-packages (from Scrapy==2.11.2->-r ../requirements.txt (line 6)) (2.2.1)\n",
      "Requirement already satisfied: zope.interface>=5.1.0 in /Users/jessicahyne/opt/miniconda3/envs/gymternet/lib/python3.12/site-packages (from Scrapy==2.11.2->-r ../requirements.txt (line 6)) (6.4.post2)\n",
      "Requirement already satisfied: protego>=0.1.15 in /Users/jessicahyne/opt/miniconda3/envs/gymternet/lib/python3.12/site-packages (from Scrapy==2.11.2->-r ../requirements.txt (line 6)) (0.3.1)\n",
      "Requirement already satisfied: itemadapter>=0.1.0 in /Users/jessicahyne/opt/miniconda3/envs/gymternet/lib/python3.12/site-packages (from Scrapy==2.11.2->-r ../requirements.txt (line 6)) (0.9.0)\n",
      "Requirement already satisfied: setuptools in /Users/jessicahyne/opt/miniconda3/envs/gymternet/lib/python3.12/site-packages (from Scrapy==2.11.2->-r ../requirements.txt (line 6)) (71.0.4)\n",
      "Requirement already satisfied: packaging in /Users/jessicahyne/opt/miniconda3/envs/gymternet/lib/python3.12/site-packages (from Scrapy==2.11.2->-r ../requirements.txt (line 6)) (24.1)\n",
      "Requirement already satisfied: tldextract in /Users/jessicahyne/opt/miniconda3/envs/gymternet/lib/python3.12/site-packages (from Scrapy==2.11.2->-r ../requirements.txt (line 6)) (5.1.2)\n",
      "Requirement already satisfied: lxml>=4.4.1 in /Users/jessicahyne/opt/miniconda3/envs/gymternet/lib/python3.12/site-packages (from Scrapy==2.11.2->-r ../requirements.txt (line 6)) (5.2.2)\n",
      "Requirement already satisfied: defusedxml>=0.7.1 in /Users/jessicahyne/opt/miniconda3/envs/gymternet/lib/python3.12/site-packages (from Scrapy==2.11.2->-r ../requirements.txt (line 6)) (0.7.1)\n",
      "Requirement already satisfied: PyDispatcher>=2.0.5 in /Users/jessicahyne/opt/miniconda3/envs/gymternet/lib/python3.12/site-packages (from Scrapy==2.11.2->-r ../requirements.txt (line 6)) (2.0.7)\n",
      "Requirement already satisfied: trio~=0.17 in /Users/jessicahyne/opt/miniconda3/envs/gymternet/lib/python3.12/site-packages (from selenium==4.22.0->-r ../requirements.txt (line 7)) (0.26.0)\n",
      "Requirement already satisfied: trio-websocket~=0.9 in /Users/jessicahyne/opt/miniconda3/envs/gymternet/lib/python3.12/site-packages (from selenium==4.22.0->-r ../requirements.txt (line 7)) (0.11.1)\n",
      "Requirement already satisfied: typing_extensions>=4.9.0 in /Users/jessicahyne/opt/miniconda3/envs/gymternet/lib/python3.12/site-packages (from selenium==4.22.0->-r ../requirements.txt (line 7)) (4.12.2)\n",
      "Requirement already satisfied: websocket-client>=1.8.0 in /Users/jessicahyne/opt/miniconda3/envs/gymternet/lib/python3.12/site-packages (from selenium==4.22.0->-r ../requirements.txt (line 7)) (1.8.0)\n",
      "Requirement already satisfied: comm>=0.1.3 in /Users/jessicahyne/opt/miniconda3/envs/gymternet/lib/python3.12/site-packages (from ipywidgets==8.1.3->-r ../requirements.txt (line 9)) (0.2.2)\n",
      "Requirement already satisfied: traitlets>=4.3.1 in /Users/jessicahyne/opt/miniconda3/envs/gymternet/lib/python3.12/site-packages (from ipywidgets==8.1.3->-r ../requirements.txt (line 9)) (5.14.3)\n",
      "Requirement already satisfied: widgetsnbextension~=4.0.11 in /Users/jessicahyne/opt/miniconda3/envs/gymternet/lib/python3.12/site-packages (from ipywidgets==8.1.3->-r ../requirements.txt (line 9)) (4.0.11)\n",
      "Requirement already satisfied: jupyterlab-widgets~=3.0.11 in /Users/jessicahyne/opt/miniconda3/envs/gymternet/lib/python3.12/site-packages (from ipywidgets==8.1.3->-r ../requirements.txt (line 9)) (3.0.11)\n",
      "Requirement already satisfied: appnope in /Users/jessicahyne/opt/miniconda3/envs/gymternet/lib/python3.12/site-packages (from ipykernel==6.29.5->-r ../requirements.txt (line 13)) (0.1.4)\n",
      "Requirement already satisfied: debugpy>=1.6.5 in /Users/jessicahyne/opt/miniconda3/envs/gymternet/lib/python3.12/site-packages (from ipykernel==6.29.5->-r ../requirements.txt (line 13)) (1.8.2)\n",
      "Requirement already satisfied: jupyter-client>=6.1.12 in /Users/jessicahyne/opt/miniconda3/envs/gymternet/lib/python3.12/site-packages (from ipykernel==6.29.5->-r ../requirements.txt (line 13)) (8.6.2)\n",
      "Requirement already satisfied: jupyter-core!=5.0.*,>=4.12 in /Users/jessicahyne/opt/miniconda3/envs/gymternet/lib/python3.12/site-packages (from ipykernel==6.29.5->-r ../requirements.txt (line 13)) (5.7.2)\n",
      "Requirement already satisfied: matplotlib-inline>=0.1 in /Users/jessicahyne/opt/miniconda3/envs/gymternet/lib/python3.12/site-packages (from ipykernel==6.29.5->-r ../requirements.txt (line 13)) (0.1.7)\n",
      "Requirement already satisfied: nest-asyncio in /Users/jessicahyne/opt/miniconda3/envs/gymternet/lib/python3.12/site-packages (from ipykernel==6.29.5->-r ../requirements.txt (line 13)) (1.6.0)\n",
      "Requirement already satisfied: psutil in /Users/jessicahyne/opt/miniconda3/envs/gymternet/lib/python3.12/site-packages (from ipykernel==6.29.5->-r ../requirements.txt (line 13)) (6.0.0)\n",
      "Requirement already satisfied: pyzmq>=24 in /Users/jessicahyne/opt/miniconda3/envs/gymternet/lib/python3.12/site-packages (from ipykernel==6.29.5->-r ../requirements.txt (line 13)) (26.0.3)\n",
      "Requirement already satisfied: tornado>=6.1 in /Users/jessicahyne/opt/miniconda3/envs/gymternet/lib/python3.12/site-packages (from ipykernel==6.29.5->-r ../requirements.txt (line 13)) (6.4.1)\n",
      "Requirement already satisfied: decorator in /Users/jessicahyne/opt/miniconda3/envs/gymternet/lib/python3.12/site-packages (from ipython==8.26.0->-r ../requirements.txt (line 14)) (5.1.1)\n",
      "Requirement already satisfied: jedi>=0.16 in /Users/jessicahyne/opt/miniconda3/envs/gymternet/lib/python3.12/site-packages (from ipython==8.26.0->-r ../requirements.txt (line 14)) (0.19.1)\n",
      "Requirement already satisfied: prompt-toolkit<3.1.0,>=3.0.41 in /Users/jessicahyne/opt/miniconda3/envs/gymternet/lib/python3.12/site-packages (from ipython==8.26.0->-r ../requirements.txt (line 14)) (3.0.47)\n",
      "Requirement already satisfied: pygments>=2.4.0 in /Users/jessicahyne/opt/miniconda3/envs/gymternet/lib/python3.12/site-packages (from ipython==8.26.0->-r ../requirements.txt (line 14)) (2.18.0)\n",
      "Requirement already satisfied: stack-data in /Users/jessicahyne/opt/miniconda3/envs/gymternet/lib/python3.12/site-packages (from ipython==8.26.0->-r ../requirements.txt (line 14)) (0.6.2)\n",
      "Requirement already satisfied: pexpect>4.3 in /Users/jessicahyne/opt/miniconda3/envs/gymternet/lib/python3.12/site-packages (from ipython==8.26.0->-r ../requirements.txt (line 14)) (4.9.0)\n",
      "Requirement already satisfied: prettytable in /Users/jessicahyne/opt/miniconda3/envs/gymternet/lib/python3.12/site-packages (from jupysql->-r ../requirements.txt (line 10)) (3.10.2)\n",
      "Requirement already satisfied: sqlparse in /Users/jessicahyne/opt/miniconda3/envs/gymternet/lib/python3.12/site-packages (from jupysql->-r ../requirements.txt (line 10)) (0.5.1)\n",
      "Requirement already satisfied: ipython-genutils>=0.1.0 in /Users/jessicahyne/opt/miniconda3/envs/gymternet/lib/python3.12/site-packages (from jupysql->-r ../requirements.txt (line 10)) (0.2.0)\n",
      "Requirement already satisfied: jinja2 in /Users/jessicahyne/opt/miniconda3/envs/gymternet/lib/python3.12/site-packages (from jupysql->-r ../requirements.txt (line 10)) (3.1.4)\n",
      "Requirement already satisfied: sqlglot>=11.3.7 in /Users/jessicahyne/opt/miniconda3/envs/gymternet/lib/python3.12/site-packages (from jupysql->-r ../requirements.txt (line 10)) (25.7.1)\n",
      "Requirement already satisfied: jupysql-plugin>=0.4.2 in /Users/jessicahyne/opt/miniconda3/envs/gymternet/lib/python3.12/site-packages (from jupysql->-r ../requirements.txt (line 10)) (0.4.4)\n",
      "Requirement already satisfied: ploomber-core>=0.2.7 in /Users/jessicahyne/opt/miniconda3/envs/gymternet/lib/python3.12/site-packages (from jupysql->-r ../requirements.txt (line 10)) (0.2.25)\n",
      "Requirement already satisfied: ploomber-extension in /Users/jessicahyne/opt/miniconda3/envs/gymternet/lib/python3.12/site-packages (from jupysql->-r ../requirements.txt (line 10)) (0.1.1)\n",
      "Requirement already satisfied: greenlet!=0.4.17 in /Users/jessicahyne/opt/miniconda3/envs/gymternet/lib/python3.12/site-packages (from sqlalchemy->-r ../requirements.txt (line 11)) (3.0.3)\n",
      "Requirement already satisfied: six in /Users/jessicahyne/opt/miniconda3/envs/gymternet/lib/python3.12/site-packages (from ipython-sql->-r ../requirements.txt (line 12)) (1.16.0)\n",
      "Requirement already satisfied: tenacity>=6.2.0 in /Users/jessicahyne/opt/miniconda3/envs/gymternet/lib/python3.12/site-packages (from plotly->-r ../requirements.txt (line 15)) (8.5.0)\n",
      "Requirement already satisfied: fastjsonschema>=2.15 in /Users/jessicahyne/opt/miniconda3/envs/gymternet/lib/python3.12/site-packages (from nbformat>=4.2.0->-r ../requirements.txt (line 16)) (2.20.0)\n",
      "Requirement already satisfied: jsonschema>=2.6 in /Users/jessicahyne/opt/miniconda3/envs/gymternet/lib/python3.12/site-packages (from nbformat>=4.2.0->-r ../requirements.txt (line 16)) (4.23.0)\n",
      "Requirement already satisfied: Flask<3.1,>=1.0.4 in /Users/jessicahyne/opt/miniconda3/envs/gymternet/lib/python3.12/site-packages (from dash->-r ../requirements.txt (line 17)) (3.0.3)\n",
      "Requirement already satisfied: Werkzeug<3.1 in /Users/jessicahyne/opt/miniconda3/envs/gymternet/lib/python3.12/site-packages (from dash->-r ../requirements.txt (line 17)) (3.0.3)\n",
      "Requirement already satisfied: dash-html-components==2.0.0 in /Users/jessicahyne/opt/miniconda3/envs/gymternet/lib/python3.12/site-packages (from dash->-r ../requirements.txt (line 17)) (2.0.0)\n",
      "Requirement already satisfied: dash-core-components==2.0.0 in /Users/jessicahyne/opt/miniconda3/envs/gymternet/lib/python3.12/site-packages (from dash->-r ../requirements.txt (line 17)) (2.0.0)\n",
      "Requirement already satisfied: dash-table==5.0.0 in /Users/jessicahyne/opt/miniconda3/envs/gymternet/lib/python3.12/site-packages (from dash->-r ../requirements.txt (line 17)) (5.0.0)\n",
      "Requirement already satisfied: importlib-metadata in /Users/jessicahyne/opt/miniconda3/envs/gymternet/lib/python3.12/site-packages (from dash->-r ../requirements.txt (line 17)) (8.2.0)\n",
      "Requirement already satisfied: retrying in /Users/jessicahyne/opt/miniconda3/envs/gymternet/lib/python3.12/site-packages (from dash->-r ../requirements.txt (line 17)) (1.3.4)\n",
      "Requirement already satisfied: cffi>=1.12 in /Users/jessicahyne/opt/miniconda3/envs/gymternet/lib/python3.12/site-packages (from cryptography>=36.0.0->Scrapy==2.11.2->-r ../requirements.txt (line 6)) (1.16.0)\n",
      "Requirement already satisfied: itsdangerous>=2.1.2 in /Users/jessicahyne/opt/miniconda3/envs/gymternet/lib/python3.12/site-packages (from Flask<3.1,>=1.0.4->dash->-r ../requirements.txt (line 17)) (2.2.0)\n",
      "Requirement already satisfied: click>=8.1.3 in /Users/jessicahyne/opt/miniconda3/envs/gymternet/lib/python3.12/site-packages (from Flask<3.1,>=1.0.4->dash->-r ../requirements.txt (line 17)) (8.1.7)\n",
      "Requirement already satisfied: blinker>=1.6.2 in /Users/jessicahyne/opt/miniconda3/envs/gymternet/lib/python3.12/site-packages (from Flask<3.1,>=1.0.4->dash->-r ../requirements.txt (line 17)) (1.8.2)\n",
      "Requirement already satisfied: jmespath>=0.9.5 in /Users/jessicahyne/opt/miniconda3/envs/gymternet/lib/python3.12/site-packages (from itemloaders>=1.0.1->Scrapy==2.11.2->-r ../requirements.txt (line 6)) (1.0.1)\n",
      "Requirement already satisfied: parso<0.9.0,>=0.8.3 in /Users/jessicahyne/opt/miniconda3/envs/gymternet/lib/python3.12/site-packages (from jedi>=0.16->ipython==8.26.0->-r ../requirements.txt (line 14)) (0.8.4)\n",
      "Requirement already satisfied: MarkupSafe>=2.0 in /Users/jessicahyne/opt/miniconda3/envs/gymternet/lib/python3.12/site-packages (from jinja2->jupysql->-r ../requirements.txt (line 10)) (2.1.5)\n",
      "Requirement already satisfied: attrs>=22.2.0 in /Users/jessicahyne/opt/miniconda3/envs/gymternet/lib/python3.12/site-packages (from jsonschema>=2.6->nbformat>=4.2.0->-r ../requirements.txt (line 16)) (23.2.0)\n",
      "Requirement already satisfied: jsonschema-specifications>=2023.03.6 in /Users/jessicahyne/opt/miniconda3/envs/gymternet/lib/python3.12/site-packages (from jsonschema>=2.6->nbformat>=4.2.0->-r ../requirements.txt (line 16)) (2023.12.1)\n",
      "Requirement already satisfied: referencing>=0.28.4 in /Users/jessicahyne/opt/miniconda3/envs/gymternet/lib/python3.12/site-packages (from jsonschema>=2.6->nbformat>=4.2.0->-r ../requirements.txt (line 16)) (0.35.1)\n",
      "Requirement already satisfied: rpds-py>=0.7.1 in /Users/jessicahyne/opt/miniconda3/envs/gymternet/lib/python3.12/site-packages (from jsonschema>=2.6->nbformat>=4.2.0->-r ../requirements.txt (line 16)) (0.19.1)\n",
      "Requirement already satisfied: platformdirs>=2.5 in /Users/jessicahyne/opt/miniconda3/envs/gymternet/lib/python3.12/site-packages (from jupyter-core!=5.0.*,>=4.12->ipykernel==6.29.5->-r ../requirements.txt (line 13)) (4.2.2)\n",
      "Requirement already satisfied: ptyprocess>=0.5 in /Users/jessicahyne/opt/miniconda3/envs/gymternet/lib/python3.12/site-packages (from pexpect>4.3->ipython==8.26.0->-r ../requirements.txt (line 14)) (0.7.0)\n",
      "Requirement already satisfied: pyyaml in /Users/jessicahyne/opt/miniconda3/envs/gymternet/lib/python3.12/site-packages (from ploomber-core>=0.2.7->jupysql->-r ../requirements.txt (line 10)) (6.0.1)\n",
      "Requirement already satisfied: posthog in /Users/jessicahyne/opt/miniconda3/envs/gymternet/lib/python3.12/site-packages (from ploomber-core>=0.2.7->jupysql->-r ../requirements.txt (line 10)) (3.5.0)\n",
      "Requirement already satisfied: wcwidth in /Users/jessicahyne/opt/miniconda3/envs/gymternet/lib/python3.12/site-packages (from prompt-toolkit<3.1.0,>=3.0.41->ipython==8.26.0->-r ../requirements.txt (line 14)) (0.2.13)\n",
      "Requirement already satisfied: pyasn1 in /Users/jessicahyne/opt/miniconda3/envs/gymternet/lib/python3.12/site-packages (from service-identity>=18.1.0->Scrapy==2.11.2->-r ../requirements.txt (line 6)) (0.6.0)\n",
      "Requirement already satisfied: pyasn1-modules in /Users/jessicahyne/opt/miniconda3/envs/gymternet/lib/python3.12/site-packages (from service-identity>=18.1.0->Scrapy==2.11.2->-r ../requirements.txt (line 6)) (0.4.0)\n",
      "Requirement already satisfied: sortedcontainers in /Users/jessicahyne/opt/miniconda3/envs/gymternet/lib/python3.12/site-packages (from trio~=0.17->selenium==4.22.0->-r ../requirements.txt (line 7)) (2.4.0)\n",
      "Requirement already satisfied: outcome in /Users/jessicahyne/opt/miniconda3/envs/gymternet/lib/python3.12/site-packages (from trio~=0.17->selenium==4.22.0->-r ../requirements.txt (line 7)) (1.3.0.post0)\n",
      "Requirement already satisfied: sniffio>=1.3.0 in /Users/jessicahyne/opt/miniconda3/envs/gymternet/lib/python3.12/site-packages (from trio~=0.17->selenium==4.22.0->-r ../requirements.txt (line 7)) (1.3.1)\n",
      "Requirement already satisfied: wsproto>=0.14 in /Users/jessicahyne/opt/miniconda3/envs/gymternet/lib/python3.12/site-packages (from trio-websocket~=0.9->selenium==4.22.0->-r ../requirements.txt (line 7)) (1.2.0)\n",
      "Requirement already satisfied: automat>=0.8.0 in /Users/jessicahyne/opt/miniconda3/envs/gymternet/lib/python3.12/site-packages (from Twisted>=18.9.0->Scrapy==2.11.2->-r ../requirements.txt (line 6)) (22.10.0)\n",
      "Requirement already satisfied: constantly>=15.1 in /Users/jessicahyne/opt/miniconda3/envs/gymternet/lib/python3.12/site-packages (from Twisted>=18.9.0->Scrapy==2.11.2->-r ../requirements.txt (line 6)) (23.10.4)\n",
      "Requirement already satisfied: hyperlink>=17.1.1 in /Users/jessicahyne/opt/miniconda3/envs/gymternet/lib/python3.12/site-packages (from Twisted>=18.9.0->Scrapy==2.11.2->-r ../requirements.txt (line 6)) (21.0.0)\n",
      "Requirement already satisfied: incremental>=22.10.0 in /Users/jessicahyne/opt/miniconda3/envs/gymternet/lib/python3.12/site-packages (from Twisted>=18.9.0->Scrapy==2.11.2->-r ../requirements.txt (line 6)) (24.7.0)\n",
      "Requirement already satisfied: pysocks!=1.5.7,<2.0,>=1.5.6 in /Users/jessicahyne/opt/miniconda3/envs/gymternet/lib/python3.12/site-packages (from urllib3[socks]<3,>=1.26->selenium==4.22.0->-r ../requirements.txt (line 7)) (1.7.1)\n",
      "Requirement already satisfied: zipp>=0.5 in /Users/jessicahyne/opt/miniconda3/envs/gymternet/lib/python3.12/site-packages (from importlib-metadata->dash->-r ../requirements.txt (line 17)) (3.19.2)\n",
      "Requirement already satisfied: executing>=1.2.0 in /Users/jessicahyne/opt/miniconda3/envs/gymternet/lib/python3.12/site-packages (from stack-data->ipython==8.26.0->-r ../requirements.txt (line 14)) (2.0.1)\n",
      "Requirement already satisfied: asttokens>=2.1.0 in /Users/jessicahyne/opt/miniconda3/envs/gymternet/lib/python3.12/site-packages (from stack-data->ipython==8.26.0->-r ../requirements.txt (line 14)) (2.4.1)\n",
      "Requirement already satisfied: pure-eval in /Users/jessicahyne/opt/miniconda3/envs/gymternet/lib/python3.12/site-packages (from stack-data->ipython==8.26.0->-r ../requirements.txt (line 14)) (0.2.3)\n",
      "Requirement already satisfied: requests-file>=1.4 in /Users/jessicahyne/opt/miniconda3/envs/gymternet/lib/python3.12/site-packages (from tldextract->Scrapy==2.11.2->-r ../requirements.txt (line 6)) (2.1.0)\n",
      "Requirement already satisfied: filelock>=3.0.8 in /Users/jessicahyne/opt/miniconda3/envs/gymternet/lib/python3.12/site-packages (from tldextract->Scrapy==2.11.2->-r ../requirements.txt (line 6)) (3.15.4)\n",
      "Requirement already satisfied: pycparser in /Users/jessicahyne/opt/miniconda3/envs/gymternet/lib/python3.12/site-packages (from cffi>=1.12->cryptography>=36.0.0->Scrapy==2.11.2->-r ../requirements.txt (line 6)) (2.22)\n",
      "Requirement already satisfied: h11<1,>=0.9.0 in /Users/jessicahyne/opt/miniconda3/envs/gymternet/lib/python3.12/site-packages (from wsproto>=0.14->trio-websocket~=0.9->selenium==4.22.0->-r ../requirements.txt (line 7)) (0.14.0)\n",
      "Requirement already satisfied: monotonic>=1.5 in /Users/jessicahyne/opt/miniconda3/envs/gymternet/lib/python3.12/site-packages (from posthog->ploomber-core>=0.2.7->jupysql->-r ../requirements.txt (line 10)) (1.6)\n",
      "Requirement already satisfied: backoff>=1.10.0 in /Users/jessicahyne/opt/miniconda3/envs/gymternet/lib/python3.12/site-packages (from posthog->ploomber-core>=0.2.7->jupysql->-r ../requirements.txt (line 10)) (2.2.1)\n"
     ]
    }
   ],
   "source": [
    "!pip install -r ../requirements.txt"
   ]
  },
  {
   "cell_type": "code",
   "execution_count": 26,
   "metadata": {},
   "outputs": [
    {
     "data": {
      "text/html": [
       "\n",
       "            <div id=\"WQOAYK\"></div>\n",
       "            <script type=\"text/javascript\" data-lets-plot-script=\"library\">\n",
       "                if(!window.letsPlotCallQueue) {\n",
       "                    window.letsPlotCallQueue = [];\n",
       "                }; \n",
       "                window.letsPlotCall = function(f) {\n",
       "                    window.letsPlotCallQueue.push(f);\n",
       "                };\n",
       "                (function() {\n",
       "                    var script = document.createElement(\"script\");\n",
       "                    script.type = \"text/javascript\";\n",
       "                    script.src = \"https://cdn.jsdelivr.net/gh/JetBrains/lets-plot@v4.3.3/js-package/distr/lets-plot.min.js\";\n",
       "                    script.onload = function() {\n",
       "                        window.letsPlotCall = function(f) {f();};\n",
       "                        window.letsPlotCallQueue.forEach(function(f) {f();});\n",
       "                        window.letsPlotCallQueue = [];\n",
       "                        \n",
       "                    };\n",
       "                    script.onerror = function(event) {\n",
       "                        window.letsPlotCall = function(f) {};    // noop\n",
       "                        window.letsPlotCallQueue = [];\n",
       "                        var div = document.createElement(\"div\");\n",
       "                        div.style.color = 'darkred';\n",
       "                        div.textContent = 'Error loading Lets-Plot JS';\n",
       "                        document.getElementById(\"WQOAYK\").appendChild(div);\n",
       "                    };\n",
       "                    var e = document.getElementById(\"WQOAYK\");\n",
       "                    e.appendChild(script);\n",
       "                })()\n",
       "            </script>\n",
       "            "
      ]
     },
     "metadata": {},
     "output_type": "display_data"
    },
    {
     "name": "stdout",
     "output_type": "stream",
     "text": [
      "The sql extension is already loaded. To reload it, use:\n",
      "  %reload_ext sql\n"
     ]
    }
   ],
   "source": [
    "import os\n",
    "import json\n",
    "import requests\n",
    "import sqlite3\n",
    "from tqdm.notebook import tqdm, trange\n",
    "tqdm.pandas()\n",
    "import numpy as np\n",
    "import pandas as pd \n",
    "from sqlalchemy import create_engine\n",
    "from lets_plot import * # This imports all of ggplot2's functions\n",
    "LetsPlot.setup_html()\n",
    "import plotly.express as px\n",
    "from dash import dcc, html\n",
    "from dash.dependencies import Input, Output\n",
    "\n",
    "\n",
    "%load_ext sql\n",
    "%config SqlMagic.autocommit=True\n",
    "\n",
    "from pprint import pprint"
   ]
  },
  {
   "cell_type": "markdown",
   "metadata": {},
   "source": [
    "## 1.1 Connect to the gymternet database"
   ]
  },
  {
   "cell_type": "code",
   "execution_count": 5,
   "metadata": {
    "vscode": {
     "languageId": "sql"
    }
   },
   "outputs": [
    {
     "data": {
      "text/html": [
       "<span style=\"None\">Connecting to &#x27;gymternet&#x27;</span>"
      ],
      "text/plain": [
       "Connecting to 'gymternet'"
      ]
     },
     "metadata": {},
     "output_type": "display_data"
    }
   ],
   "source": [
    "%sql sqlite:///../data/clean/gymternet.db --alias gymternet \n",
    "engine = create_engine('sqlite:///../data/clean/gymternet.db')"
   ]
  },
  {
   "cell_type": "markdown",
   "metadata": {},
   "source": [
    "# 2 Exploratory data analysis\n",
    "\n",
    "## 2.1 The tenniest apparatus\n",
    "Which apparatus (vault, uneven bars, balance beam or floor exercise) attract the most 10s from the judges? Has it changed over time?\n",
    "\n",
    "Intuitively, one would assume that vault would attract the fewest deductions; gymnasts are only performing one skill, so there are fewer opportunities to make mistakes.\n",
    "\n",
    "However, my anecdotal observation as a watcher of college gymnastics is that the judges in this competition are fairly lenient; hesitancy on beam or short handstands on bars might not incur the deduction they would in other leagues. However, they are quite strict on landings - that is, if a gymnast doesn't perfectly stick their landing, they will incur a deduction. Given vault's landing difficulty, does this even out the advantage of having to perform fewer skills?\n",
    "\n",
    "### 2.1.1 Retrieve the data from the database"
   ]
  },
  {
   "cell_type": "code",
   "execution_count": 6,
   "metadata": {
    "vscode": {
     "languageId": "sql"
    }
   },
   "outputs": [
    {
     "data": {
      "text/html": [
       "<table>\n",
       "    <thead>\n",
       "        <tr>\n",
       "            <th>Vault</th>\n",
       "            <th>Uneven Bars</th>\n",
       "            <th>Balance Beam</th>\n",
       "            <th>Floor Exercise</th>\n",
       "            <th>Season</th>\n",
       "        </tr>\n",
       "    </thead>\n",
       "    <tbody>\n",
       "        <tr>\n",
       "            <td>34</td>\n",
       "            <td>32</td>\n",
       "            <td>2</td>\n",
       "            <td>7</td>\n",
       "            <td>2015</td>\n",
       "        </tr>\n",
       "        <tr>\n",
       "            <td>12</td>\n",
       "            <td>8</td>\n",
       "            <td>16</td>\n",
       "            <td>28</td>\n",
       "            <td>2016</td>\n",
       "        </tr>\n",
       "        <tr>\n",
       "            <td>22</td>\n",
       "            <td>26</td>\n",
       "            <td>35</td>\n",
       "            <td>16</td>\n",
       "            <td>2017</td>\n",
       "        </tr>\n",
       "        <tr>\n",
       "            <td>10</td>\n",
       "            <td>51</td>\n",
       "            <td>53</td>\n",
       "            <td>24</td>\n",
       "            <td>2018</td>\n",
       "        </tr>\n",
       "        <tr>\n",
       "            <td>31</td>\n",
       "            <td>38</td>\n",
       "            <td>8</td>\n",
       "            <td>56</td>\n",
       "            <td>2019</td>\n",
       "        </tr>\n",
       "        <tr>\n",
       "            <td>28</td>\n",
       "            <td>10</td>\n",
       "            <td>32</td>\n",
       "            <td>4</td>\n",
       "            <td>2020</td>\n",
       "        </tr>\n",
       "        <tr>\n",
       "            <td>50</td>\n",
       "            <td>44</td>\n",
       "            <td>20</td>\n",
       "            <td>21</td>\n",
       "            <td>2021</td>\n",
       "        </tr>\n",
       "        <tr>\n",
       "            <td>59</td>\n",
       "            <td>46</td>\n",
       "            <td>38</td>\n",
       "            <td>77</td>\n",
       "            <td>2022</td>\n",
       "        </tr>\n",
       "        <tr>\n",
       "            <td>88</td>\n",
       "            <td>81</td>\n",
       "            <td>126</td>\n",
       "            <td>64</td>\n",
       "            <td>2023</td>\n",
       "        </tr>\n",
       "        <tr>\n",
       "            <td>45</td>\n",
       "            <td>56</td>\n",
       "            <td>69</td>\n",
       "            <td>103</td>\n",
       "            <td>2024</td>\n",
       "        </tr>\n",
       "    </tbody>\n",
       "</table>\n",
       "<span style=\"font-style:italic;text-align:center;\">Truncated to <a href=\"https://jupysql.ploomber.io/en/latest/api/configuration.html#displaylimit\">displaylimit</a> of 10.</span>"
      ],
      "text/plain": [
       "+-------+-------------+--------------+----------------+--------+\n",
       "| Vault | Uneven Bars | Balance Beam | Floor Exercise | Season |\n",
       "+-------+-------------+--------------+----------------+--------+\n",
       "|   34  |      32     |      2       |       7        |  2015  |\n",
       "|   12  |      8      |      16      |       28       |  2016  |\n",
       "|   22  |      26     |      35      |       16       |  2017  |\n",
       "|   10  |      51     |      53      |       24       |  2018  |\n",
       "|   31  |      38     |      8       |       56       |  2019  |\n",
       "|   28  |      10     |      32      |       4        |  2020  |\n",
       "|   50  |      44     |      20      |       21       |  2021  |\n",
       "|   59  |      46     |      38      |       77       |  2022  |\n",
       "|   88  |      81     |     126      |       64       |  2023  |\n",
       "|   45  |      56     |      69      |      103       |  2024  |\n",
       "+-------+-------------+--------------+----------------+--------+\n",
       "Truncated to displaylimit of 10."
      ]
     },
     "execution_count": 6,
     "metadata": {},
     "output_type": "execute_result"
    }
   ],
   "source": [
    "%%sql gymternet\n",
    "\n",
    "-- LEFT JOIN with aggregated row at the bottom\n",
    "SELECT \n",
    "    SUM(r.vt_score = 10.0) AS 'Vault',\n",
    "    SUM(r.ub_score = 10.0) AS 'Uneven Bars',\n",
    "    SUM(r.bb_score = 10.0) AS 'Balance Beam',\n",
    "    SUM(r.fx_score = 10.0) AS 'Floor Exercise',\n",
    "    m.year AS 'Season'\n",
    "FROM gymnast_results AS r\n",
    "LEFT JOIN meets AS m\n",
    "ON m.meet_id = r.meet_id\n",
    "GROUP BY m.year"
   ]
  },
  {
   "cell_type": "markdown",
   "metadata": {},
   "source": [
    "### 2.1.2 Import the data into a dataframe"
   ]
  },
  {
   "cell_type": "code",
   "execution_count": 7,
   "metadata": {},
   "outputs": [
    {
     "data": {
      "text/html": [
       "<div>\n",
       "<style scoped>\n",
       "    .dataframe tbody tr th:only-of-type {\n",
       "        vertical-align: middle;\n",
       "    }\n",
       "\n",
       "    .dataframe tbody tr th {\n",
       "        vertical-align: top;\n",
       "    }\n",
       "\n",
       "    .dataframe thead th {\n",
       "        text-align: right;\n",
       "    }\n",
       "</style>\n",
       "<table border=\"1\" class=\"dataframe\">\n",
       "  <thead>\n",
       "    <tr style=\"text-align: right;\">\n",
       "      <th></th>\n",
       "      <th>Vault</th>\n",
       "      <th>Uneven Bars</th>\n",
       "      <th>Balance Beam</th>\n",
       "      <th>Floor Exercise</th>\n",
       "      <th>Season</th>\n",
       "    </tr>\n",
       "  </thead>\n",
       "  <tbody>\n",
       "    <tr>\n",
       "      <th>0</th>\n",
       "      <td>34</td>\n",
       "      <td>32</td>\n",
       "      <td>2</td>\n",
       "      <td>7</td>\n",
       "      <td>2015</td>\n",
       "    </tr>\n",
       "    <tr>\n",
       "      <th>1</th>\n",
       "      <td>12</td>\n",
       "      <td>8</td>\n",
       "      <td>16</td>\n",
       "      <td>28</td>\n",
       "      <td>2016</td>\n",
       "    </tr>\n",
       "    <tr>\n",
       "      <th>2</th>\n",
       "      <td>22</td>\n",
       "      <td>26</td>\n",
       "      <td>35</td>\n",
       "      <td>16</td>\n",
       "      <td>2017</td>\n",
       "    </tr>\n",
       "    <tr>\n",
       "      <th>3</th>\n",
       "      <td>10</td>\n",
       "      <td>51</td>\n",
       "      <td>53</td>\n",
       "      <td>24</td>\n",
       "      <td>2018</td>\n",
       "    </tr>\n",
       "    <tr>\n",
       "      <th>4</th>\n",
       "      <td>31</td>\n",
       "      <td>38</td>\n",
       "      <td>8</td>\n",
       "      <td>56</td>\n",
       "      <td>2019</td>\n",
       "    </tr>\n",
       "    <tr>\n",
       "      <th>5</th>\n",
       "      <td>28</td>\n",
       "      <td>10</td>\n",
       "      <td>32</td>\n",
       "      <td>4</td>\n",
       "      <td>2020</td>\n",
       "    </tr>\n",
       "    <tr>\n",
       "      <th>6</th>\n",
       "      <td>50</td>\n",
       "      <td>44</td>\n",
       "      <td>20</td>\n",
       "      <td>21</td>\n",
       "      <td>2021</td>\n",
       "    </tr>\n",
       "    <tr>\n",
       "      <th>7</th>\n",
       "      <td>59</td>\n",
       "      <td>46</td>\n",
       "      <td>38</td>\n",
       "      <td>77</td>\n",
       "      <td>2022</td>\n",
       "    </tr>\n",
       "    <tr>\n",
       "      <th>8</th>\n",
       "      <td>88</td>\n",
       "      <td>81</td>\n",
       "      <td>126</td>\n",
       "      <td>64</td>\n",
       "      <td>2023</td>\n",
       "    </tr>\n",
       "    <tr>\n",
       "      <th>9</th>\n",
       "      <td>45</td>\n",
       "      <td>56</td>\n",
       "      <td>69</td>\n",
       "      <td>103</td>\n",
       "      <td>2024</td>\n",
       "    </tr>\n",
       "  </tbody>\n",
       "</table>\n",
       "</div>"
      ],
      "text/plain": [
       "   Vault  Uneven Bars  Balance Beam  Floor Exercise  Season\n",
       "0     34           32             2               7    2015\n",
       "1     12            8            16              28    2016\n",
       "2     22           26            35              16    2017\n",
       "3     10           51            53              24    2018\n",
       "4     31           38             8              56    2019\n",
       "5     28           10            32               4    2020\n",
       "6     50           44            20              21    2021\n",
       "7     59           46            38              77    2022\n",
       "8     88           81           126              64    2023\n",
       "9     45           56            69             103    2024"
      ]
     },
     "execution_count": 7,
     "metadata": {},
     "output_type": "execute_result"
    }
   ],
   "source": [
    "# Export the above query to a new df\n",
    "tenniest_apparatus_query = \"\"\"\n",
    "SELECT \n",
    "    SUM(r.vt_score = 10.0) AS 'Vault',\n",
    "    SUM(r.ub_score = 10.0) AS 'Uneven Bars',\n",
    "    SUM(r.bb_score = 10.0) AS 'Balance Beam',\n",
    "    SUM(r.fx_score = 10.0) AS 'Floor Exercise',\n",
    "    m.year AS 'Season'\n",
    "FROM gymnast_results AS r\n",
    "LEFT JOIN meets AS m\n",
    "ON m.meet_id = r.meet_id\n",
    "GROUP BY m.year;\n",
    "\"\"\"\n",
    "\n",
    "# Execute the query and store the result in a DataFrame\n",
    "tenniest_apparatus_df = pd.read_sql_query(tenniest_apparatus_query, engine)\n",
    "\n",
    "# Preview the df\n",
    "tenniest_apparatus_df"
   ]
  },
  {
   "cell_type": "markdown",
   "metadata": {},
   "source": [
    "### 2.1.3 Prepare the data for plotting"
   ]
  },
  {
   "cell_type": "markdown",
   "metadata": {},
   "source": [
    "We want this table to look slightly different, so that it's easier to read by Plotly.\n",
    "\n",
    "New layout should look like:\n",
    "| **Apparatus**    | **Number of 10s** | **Season** |\n",
    "|------------------|-------------------|------------|\n",
    "| 'Vault'          | 34                | 2015       |\n",
    "| 'Uneven Bars'    | 32                | 2015       |\n",
    "| 'Balance Beam'   | 2                 | 2015       |\n",
    "| 'Floor Exercise' | 7                 | 2015       |\n",
    "| 'Total'          | 75                | 2015       |\n",
    "\n",
    "etc.\n"
   ]
  },
  {
   "cell_type": "code",
   "execution_count": 8,
   "metadata": {},
   "outputs": [
    {
     "data": {
      "text/html": [
       "<div>\n",
       "<style scoped>\n",
       "    .dataframe tbody tr th:only-of-type {\n",
       "        vertical-align: middle;\n",
       "    }\n",
       "\n",
       "    .dataframe tbody tr th {\n",
       "        vertical-align: top;\n",
       "    }\n",
       "\n",
       "    .dataframe thead th {\n",
       "        text-align: right;\n",
       "    }\n",
       "</style>\n",
       "<table border=\"1\" class=\"dataframe\">\n",
       "  <thead>\n",
       "    <tr style=\"text-align: right;\">\n",
       "      <th></th>\n",
       "      <th>Season</th>\n",
       "      <th>Apparatus</th>\n",
       "      <th>No. of Tens</th>\n",
       "    </tr>\n",
       "  </thead>\n",
       "  <tbody>\n",
       "    <tr>\n",
       "      <th>0</th>\n",
       "      <td>2015</td>\n",
       "      <td>Vault</td>\n",
       "      <td>34</td>\n",
       "    </tr>\n",
       "    <tr>\n",
       "      <th>1</th>\n",
       "      <td>2016</td>\n",
       "      <td>Vault</td>\n",
       "      <td>12</td>\n",
       "    </tr>\n",
       "    <tr>\n",
       "      <th>2</th>\n",
       "      <td>2017</td>\n",
       "      <td>Vault</td>\n",
       "      <td>22</td>\n",
       "    </tr>\n",
       "    <tr>\n",
       "      <th>3</th>\n",
       "      <td>2018</td>\n",
       "      <td>Vault</td>\n",
       "      <td>10</td>\n",
       "    </tr>\n",
       "    <tr>\n",
       "      <th>4</th>\n",
       "      <td>2019</td>\n",
       "      <td>Vault</td>\n",
       "      <td>31</td>\n",
       "    </tr>\n",
       "  </tbody>\n",
       "</table>\n",
       "</div>"
      ],
      "text/plain": [
       "   Season Apparatus  No. of Tens\n",
       "0    2015     Vault           34\n",
       "1    2016     Vault           12\n",
       "2    2017     Vault           22\n",
       "3    2018     Vault           10\n",
       "4    2019     Vault           31"
      ]
     },
     "execution_count": 8,
     "metadata": {},
     "output_type": "execute_result"
    }
   ],
   "source": [
    "# Melt the DataFrame\n",
    "tenniest_apparatus_per_year = pd.melt(tenniest_apparatus_df, id_vars=['Season'], var_name='Apparatus', value_name='No. of Tens')\n",
    "\n",
    "# Preview the melted DataFrame\n",
    "tenniest_apparatus_per_year.head()"
   ]
  },
  {
   "cell_type": "markdown",
   "metadata": {},
   "source": [
    "### 2.1.4 Tenniest ever - delete this section"
   ]
  },
  {
   "cell_type": "code",
   "execution_count": 9,
   "metadata": {},
   "outputs": [
    {
     "data": {
      "text/html": [
       "<div>\n",
       "<style scoped>\n",
       "    .dataframe tbody tr th:only-of-type {\n",
       "        vertical-align: middle;\n",
       "    }\n",
       "\n",
       "    .dataframe tbody tr th {\n",
       "        vertical-align: top;\n",
       "    }\n",
       "\n",
       "    .dataframe thead th {\n",
       "        text-align: right;\n",
       "    }\n",
       "</style>\n",
       "<table border=\"1\" class=\"dataframe\">\n",
       "  <thead>\n",
       "    <tr style=\"text-align: right;\">\n",
       "      <th></th>\n",
       "      <th>Apparatus</th>\n",
       "      <th>No. of Tens</th>\n",
       "    </tr>\n",
       "  </thead>\n",
       "  <tbody>\n",
       "    <tr>\n",
       "      <th>0</th>\n",
       "      <td>Balance Beam</td>\n",
       "      <td>399</td>\n",
       "    </tr>\n",
       "    <tr>\n",
       "      <th>1</th>\n",
       "      <td>Floor Exercise</td>\n",
       "      <td>400</td>\n",
       "    </tr>\n",
       "    <tr>\n",
       "      <th>2</th>\n",
       "      <td>Uneven Bars</td>\n",
       "      <td>392</td>\n",
       "    </tr>\n",
       "    <tr>\n",
       "      <th>3</th>\n",
       "      <td>Vault</td>\n",
       "      <td>379</td>\n",
       "    </tr>\n",
       "  </tbody>\n",
       "</table>\n",
       "</div>"
      ],
      "text/plain": [
       "        Apparatus  No. of Tens\n",
       "0    Balance Beam          399\n",
       "1  Floor Exercise          400\n",
       "2     Uneven Bars          392\n",
       "3           Vault          379"
      ]
     },
     "execution_count": 9,
     "metadata": {},
     "output_type": "execute_result"
    }
   ],
   "source": [
    "# Summarise the DataFrame with the sum of the 10s over the years per apparatus\n",
    "tenniest_apparatus_10y = tenniest_apparatus_per_year.groupby('Apparatus')['No. of Tens'].sum().reset_index()\n",
    "\n",
    "tenniest_apparatus_10y"
   ]
  },
  {
   "cell_type": "markdown",
   "metadata": {},
   "source": [
    "### 2.1.4 Prepare the plot(s)\n",
    "\n",
    "I want to explore how many 10s have been awarded across each of the apparatus in total across the last 10 years.\n",
    "\n",
    "To visualise this, I want a stacked bar chart, with apparatus across the x-axis, number of 10s on the y-axis and for each bar to be segmented by year.\n",
    "\n",
    "I also want to be fairly specific about my colour, field and font choices, as I'm preparing all the upcoming charts for publication on a website, and I want them to look as though they belong together."
   ]
  },
  {
   "cell_type": "code",
   "execution_count": 10,
   "metadata": {},
   "outputs": [
    {
     "data": {
      "text/html": [
       "   <div id=\"ghADy9\"></div>\n",
       "   <script type=\"text/javascript\" data-lets-plot-script=\"plot\">\n",
       "       (function() {\n",
       "           var plotSpec={\n",
       "\"data\":{\n",
       "\"Season\":[2015.0,2016.0,2017.0,2018.0,2019.0,2020.0,2021.0,2022.0,2023.0,2024.0,2015.0,2016.0,2017.0,2018.0,2019.0,2020.0,2021.0,2022.0,2023.0,2024.0,2015.0,2016.0,2017.0,2018.0,2019.0,2020.0,2021.0,2022.0,2023.0,2024.0,2015.0,2016.0,2017.0,2018.0,2019.0,2020.0,2021.0,2022.0,2023.0,2024.0],\n",
       "\"Apparatus\":[\"Vault\",\"Vault\",\"Vault\",\"Vault\",\"Vault\",\"Vault\",\"Vault\",\"Vault\",\"Vault\",\"Vault\",\"Uneven Bars\",\"Uneven Bars\",\"Uneven Bars\",\"Uneven Bars\",\"Uneven Bars\",\"Uneven Bars\",\"Uneven Bars\",\"Uneven Bars\",\"Uneven Bars\",\"Uneven Bars\",\"Balance Beam\",\"Balance Beam\",\"Balance Beam\",\"Balance Beam\",\"Balance Beam\",\"Balance Beam\",\"Balance Beam\",\"Balance Beam\",\"Balance Beam\",\"Balance Beam\",\"Floor Exercise\",\"Floor Exercise\",\"Floor Exercise\",\"Floor Exercise\",\"Floor Exercise\",\"Floor Exercise\",\"Floor Exercise\",\"Floor Exercise\",\"Floor Exercise\",\"Floor Exercise\"],\n",
       "\"No. of Tens\":[34.0,12.0,22.0,10.0,31.0,28.0,50.0,59.0,88.0,45.0,32.0,8.0,26.0,51.0,38.0,10.0,44.0,46.0,81.0,56.0,2.0,16.0,35.0,53.0,8.0,32.0,20.0,38.0,126.0,69.0,7.0,28.0,16.0,24.0,56.0,4.0,21.0,77.0,64.0,103.0]\n",
       "},\n",
       "\"mapping\":{\n",
       "\"x\":\"Apparatus\",\n",
       "\"y\":\"No. of Tens\"\n",
       "},\n",
       "\"data_meta\":{\n",
       "},\n",
       "\"ggtitle\":{\n",
       "\"text\":\"Which apparatus attracts the most 10s in NCAA gymnastics?\"\n",
       "},\n",
       "\"theme\":{\n",
       "\"axis_title\":{\n",
       "\"family\":\"Helvetica\",\n",
       "\"size\":12.0,\n",
       "\"blank\":false\n",
       "},\n",
       "\"axis_text\":{\n",
       "\"family\":\"Helvetica\",\n",
       "\"size\":12.0,\n",
       "\"blank\":false\n",
       "},\n",
       "\"legend_text\":{\n",
       "\"family\":\"Helvetica\",\n",
       "\"size\":10.0,\n",
       "\"blank\":false\n",
       "},\n",
       "\"legend_title\":{\n",
       "\"family\":\"Helvetica\",\n",
       "\"size\":12.0,\n",
       "\"blank\":false\n",
       "},\n",
       "\"legend_position\":\"bottom\"\n",
       "},\n",
       "\"kind\":\"plot\",\n",
       "\"scales\":[{\n",
       "\"aesthetic\":\"fill\",\n",
       "\"scale_mapper_kind\":\"color_cmap\"\n",
       "},{\n",
       "\"aesthetic\":\"fill\",\n",
       "\"discrete\":true\n",
       "}],\n",
       "\"layers\":[{\n",
       "\"geom\":\"bar\",\n",
       "\"stat\":\"identity\",\n",
       "\"mapping\":{\n",
       "\"group\":\"Season\",\n",
       "\"fill\":\"Season\"\n",
       "},\n",
       "\"data_meta\":{\n",
       "},\n",
       "\"alpha\":0.8,\n",
       "\"size\":0.2,\n",
       "\"data\":{\n",
       "}\n",
       "}],\n",
       "\"metainfo_list\":[]\n",
       "};\n",
       "           var plotContainer = document.getElementById(\"ghADy9\");\n",
       "           window.letsPlotCall(function() {{\n",
       "               LetsPlot.buildPlotFromProcessedSpecs(plotSpec, -1, -1, plotContainer);\n",
       "           }});\n",
       "       })();\n",
       "   </script>"
      ],
      "text/plain": [
       "<lets_plot.plot.core.PlotSpec at 0x1264c6f60>"
      ]
     },
     "execution_count": 10,
     "metadata": {},
     "output_type": "execute_result"
    }
   ],
   "source": [
    "# A bar chart showing the aggregated number of 10s per apparatus across the years\n",
    "\n",
    "tenniest_apparatus_ever = (\n",
    "        ggplot(tenniest_apparatus_per_year, aes(x='Apparatus', y='No. of Tens')) + \n",
    "            geom_bar(aes(group='Season', fill='Season'), \n",
    "                stat='identity', \n",
    "                alpha=.8,\n",
    "                size=0.2) +\n",
    "            ggtitle('Which apparatus attracts the most 10s in NCAA gymnastics?') +\n",
    "            scale_fill_viridis() +\n",
    "            scale_fill_discrete() +\n",
    "            theme(\n",
    "                axis_title = element_text(size = 12, family='Helvetica'),\n",
    "                axis_text = element_text(size = 12, family='Helvetica'),\n",
    "                legend_position='bottom',\n",
    "                legend_title = element_text(size = 12, family='Helvetica'),\n",
    "                legend_text = element_text(size = 10, family = 'Helvetica')\n",
    "            )      \n",
    ")\n",
    "\n",
    "# Export the plot to html file\n",
    "ggsave(tenniest_apparatus_ever, \"../docs/figures/tenniest_apparatus_ever.html\")\n",
    "\n",
    "# Show the plot\n",
    "tenniest_apparatus_ever"
   ]
  },
  {
   "cell_type": "markdown",
   "metadata": {},
   "source": [
    "By the looks of the above plot, it seems like there isn't that much difference in the likelihood of scoring a 10 on any particular apparatus, although there is a slight advantage on Floor Exercise. \n",
    "\n",
    "The sizes of the slices, however, tell a different story. It suggests there are trends; in some seasons it is easier to achieve perfection on one apparatus and in others another.\n",
    "\n",
    "It would be interesting to explore how these trends change from year to year in some sort of amusing animated plot."
   ]
  },
  {
   "cell_type": "code",
   "execution_count": 11,
   "metadata": {},
   "outputs": [
    {
     "data": {
      "application/vnd.plotly.v1+json": {
       "config": {
        "plotlyServerURL": "https://plot.ly"
       },
       "data": [
        {
         "alignmentgroup": "True",
         "hovertemplate": "<b>%{hovertext}</b><br><br>Apparatus=%{x}<br>Season=2015<br>No. of Tens=%{y}<extra></extra>",
         "hovertext": [
          "Vault"
         ],
         "legendgroup": "Vault",
         "marker": {
          "color": "rgb(68, 1, 84)",
          "opacity": 0.8,
          "pattern": {
           "shape": ""
          }
         },
         "name": "Vault",
         "offsetgroup": "Vault",
         "orientation": "v",
         "showlegend": true,
         "textposition": "auto",
         "type": "bar",
         "x": [
          "Vault"
         ],
         "xaxis": "x",
         "y": [
          34
         ],
         "yaxis": "y"
        },
        {
         "alignmentgroup": "True",
         "hovertemplate": "<b>%{hovertext}</b><br><br>Apparatus=%{x}<br>Season=2015<br>No. of Tens=%{y}<extra></extra>",
         "hovertext": [
          "Uneven Bars"
         ],
         "legendgroup": "Uneven Bars",
         "marker": {
          "color": "rgb(59, 81, 138)",
          "opacity": 0.8,
          "pattern": {
           "shape": ""
          }
         },
         "name": "Uneven Bars",
         "offsetgroup": "Uneven Bars",
         "orientation": "v",
         "showlegend": true,
         "textposition": "auto",
         "type": "bar",
         "x": [
          "Uneven Bars"
         ],
         "xaxis": "x",
         "y": [
          32
         ],
         "yaxis": "y"
        },
        {
         "alignmentgroup": "True",
         "hovertemplate": "<b>%{hovertext}</b><br><br>Apparatus=%{x}<br>Season=2015<br>No. of Tens=%{y}<extra></extra>",
         "hovertext": [
          "Balance Beam"
         ],
         "legendgroup": "Balance Beam",
         "marker": {
          "color": "rgb(34, 144, 140)",
          "opacity": 0.8,
          "pattern": {
           "shape": ""
          }
         },
         "name": "Balance Beam",
         "offsetgroup": "Balance Beam",
         "orientation": "v",
         "showlegend": true,
         "textposition": "auto",
         "type": "bar",
         "x": [
          "Balance Beam"
         ],
         "xaxis": "x",
         "y": [
          2
         ],
         "yaxis": "y"
        },
        {
         "alignmentgroup": "True",
         "hovertemplate": "<b>%{hovertext}</b><br><br>Apparatus=%{x}<br>Season=2015<br>No. of Tens=%{y}<extra></extra>",
         "hovertext": [
          "Floor Exercise"
         ],
         "legendgroup": "Floor Exercise",
         "marker": {
          "color": "rgb(96, 200, 96)",
          "opacity": 0.8,
          "pattern": {
           "shape": ""
          }
         },
         "name": "Floor Exercise",
         "offsetgroup": "Floor Exercise",
         "orientation": "v",
         "showlegend": true,
         "textposition": "auto",
         "type": "bar",
         "x": [
          "Floor Exercise"
         ],
         "xaxis": "x",
         "y": [
          7
         ],
         "yaxis": "y"
        }
       ],
       "frames": [
        {
         "data": [
          {
           "alignmentgroup": "True",
           "hovertemplate": "<b>%{hovertext}</b><br><br>Apparatus=%{x}<br>Season=2015<br>No. of Tens=%{y}<extra></extra>",
           "hovertext": [
            "Vault"
           ],
           "legendgroup": "Vault",
           "marker": {
            "color": "rgb(68, 1, 84)",
            "opacity": 0.8,
            "pattern": {
             "shape": ""
            }
           },
           "name": "Vault",
           "offsetgroup": "Vault",
           "orientation": "v",
           "showlegend": true,
           "textposition": "auto",
           "type": "bar",
           "x": [
            "Vault"
           ],
           "xaxis": "x",
           "y": [
            34
           ],
           "yaxis": "y"
          },
          {
           "alignmentgroup": "True",
           "hovertemplate": "<b>%{hovertext}</b><br><br>Apparatus=%{x}<br>Season=2015<br>No. of Tens=%{y}<extra></extra>",
           "hovertext": [
            "Uneven Bars"
           ],
           "legendgroup": "Uneven Bars",
           "marker": {
            "color": "rgb(59, 81, 138)",
            "opacity": 0.8,
            "pattern": {
             "shape": ""
            }
           },
           "name": "Uneven Bars",
           "offsetgroup": "Uneven Bars",
           "orientation": "v",
           "showlegend": true,
           "textposition": "auto",
           "type": "bar",
           "x": [
            "Uneven Bars"
           ],
           "xaxis": "x",
           "y": [
            32
           ],
           "yaxis": "y"
          },
          {
           "alignmentgroup": "True",
           "hovertemplate": "<b>%{hovertext}</b><br><br>Apparatus=%{x}<br>Season=2015<br>No. of Tens=%{y}<extra></extra>",
           "hovertext": [
            "Balance Beam"
           ],
           "legendgroup": "Balance Beam",
           "marker": {
            "color": "rgb(34, 144, 140)",
            "opacity": 0.8,
            "pattern": {
             "shape": ""
            }
           },
           "name": "Balance Beam",
           "offsetgroup": "Balance Beam",
           "orientation": "v",
           "showlegend": true,
           "textposition": "auto",
           "type": "bar",
           "x": [
            "Balance Beam"
           ],
           "xaxis": "x",
           "y": [
            2
           ],
           "yaxis": "y"
          },
          {
           "alignmentgroup": "True",
           "hovertemplate": "<b>%{hovertext}</b><br><br>Apparatus=%{x}<br>Season=2015<br>No. of Tens=%{y}<extra></extra>",
           "hovertext": [
            "Floor Exercise"
           ],
           "legendgroup": "Floor Exercise",
           "marker": {
            "color": "rgb(96, 200, 96)",
            "opacity": 0.8,
            "pattern": {
             "shape": ""
            }
           },
           "name": "Floor Exercise",
           "offsetgroup": "Floor Exercise",
           "orientation": "v",
           "showlegend": true,
           "textposition": "auto",
           "type": "bar",
           "x": [
            "Floor Exercise"
           ],
           "xaxis": "x",
           "y": [
            7
           ],
           "yaxis": "y"
          }
         ],
         "name": "2015"
        },
        {
         "data": [
          {
           "alignmentgroup": "True",
           "hovertemplate": "<b>%{hovertext}</b><br><br>Apparatus=%{x}<br>Season=2016<br>No. of Tens=%{y}<extra></extra>",
           "hovertext": [
            "Vault"
           ],
           "legendgroup": "Vault",
           "marker": {
            "color": "rgb(68, 1, 84)",
            "opacity": 0.8,
            "pattern": {
             "shape": ""
            }
           },
           "name": "Vault",
           "offsetgroup": "Vault",
           "orientation": "v",
           "showlegend": true,
           "textposition": "auto",
           "type": "bar",
           "x": [
            "Vault"
           ],
           "xaxis": "x",
           "y": [
            12
           ],
           "yaxis": "y"
          },
          {
           "alignmentgroup": "True",
           "hovertemplate": "<b>%{hovertext}</b><br><br>Apparatus=%{x}<br>Season=2016<br>No. of Tens=%{y}<extra></extra>",
           "hovertext": [
            "Uneven Bars"
           ],
           "legendgroup": "Uneven Bars",
           "marker": {
            "color": "rgb(59, 81, 138)",
            "opacity": 0.8,
            "pattern": {
             "shape": ""
            }
           },
           "name": "Uneven Bars",
           "offsetgroup": "Uneven Bars",
           "orientation": "v",
           "showlegend": true,
           "textposition": "auto",
           "type": "bar",
           "x": [
            "Uneven Bars"
           ],
           "xaxis": "x",
           "y": [
            8
           ],
           "yaxis": "y"
          },
          {
           "alignmentgroup": "True",
           "hovertemplate": "<b>%{hovertext}</b><br><br>Apparatus=%{x}<br>Season=2016<br>No. of Tens=%{y}<extra></extra>",
           "hovertext": [
            "Balance Beam"
           ],
           "legendgroup": "Balance Beam",
           "marker": {
            "color": "rgb(34, 144, 140)",
            "opacity": 0.8,
            "pattern": {
             "shape": ""
            }
           },
           "name": "Balance Beam",
           "offsetgroup": "Balance Beam",
           "orientation": "v",
           "showlegend": true,
           "textposition": "auto",
           "type": "bar",
           "x": [
            "Balance Beam"
           ],
           "xaxis": "x",
           "y": [
            16
           ],
           "yaxis": "y"
          },
          {
           "alignmentgroup": "True",
           "hovertemplate": "<b>%{hovertext}</b><br><br>Apparatus=%{x}<br>Season=2016<br>No. of Tens=%{y}<extra></extra>",
           "hovertext": [
            "Floor Exercise"
           ],
           "legendgroup": "Floor Exercise",
           "marker": {
            "color": "rgb(96, 200, 96)",
            "opacity": 0.8,
            "pattern": {
             "shape": ""
            }
           },
           "name": "Floor Exercise",
           "offsetgroup": "Floor Exercise",
           "orientation": "v",
           "showlegend": true,
           "textposition": "auto",
           "type": "bar",
           "x": [
            "Floor Exercise"
           ],
           "xaxis": "x",
           "y": [
            28
           ],
           "yaxis": "y"
          }
         ],
         "name": "2016"
        },
        {
         "data": [
          {
           "alignmentgroup": "True",
           "hovertemplate": "<b>%{hovertext}</b><br><br>Apparatus=%{x}<br>Season=2017<br>No. of Tens=%{y}<extra></extra>",
           "hovertext": [
            "Vault"
           ],
           "legendgroup": "Vault",
           "marker": {
            "color": "rgb(68, 1, 84)",
            "opacity": 0.8,
            "pattern": {
             "shape": ""
            }
           },
           "name": "Vault",
           "offsetgroup": "Vault",
           "orientation": "v",
           "showlegend": true,
           "textposition": "auto",
           "type": "bar",
           "x": [
            "Vault"
           ],
           "xaxis": "x",
           "y": [
            22
           ],
           "yaxis": "y"
          },
          {
           "alignmentgroup": "True",
           "hovertemplate": "<b>%{hovertext}</b><br><br>Apparatus=%{x}<br>Season=2017<br>No. of Tens=%{y}<extra></extra>",
           "hovertext": [
            "Uneven Bars"
           ],
           "legendgroup": "Uneven Bars",
           "marker": {
            "color": "rgb(59, 81, 138)",
            "opacity": 0.8,
            "pattern": {
             "shape": ""
            }
           },
           "name": "Uneven Bars",
           "offsetgroup": "Uneven Bars",
           "orientation": "v",
           "showlegend": true,
           "textposition": "auto",
           "type": "bar",
           "x": [
            "Uneven Bars"
           ],
           "xaxis": "x",
           "y": [
            26
           ],
           "yaxis": "y"
          },
          {
           "alignmentgroup": "True",
           "hovertemplate": "<b>%{hovertext}</b><br><br>Apparatus=%{x}<br>Season=2017<br>No. of Tens=%{y}<extra></extra>",
           "hovertext": [
            "Balance Beam"
           ],
           "legendgroup": "Balance Beam",
           "marker": {
            "color": "rgb(34, 144, 140)",
            "opacity": 0.8,
            "pattern": {
             "shape": ""
            }
           },
           "name": "Balance Beam",
           "offsetgroup": "Balance Beam",
           "orientation": "v",
           "showlegend": true,
           "textposition": "auto",
           "type": "bar",
           "x": [
            "Balance Beam"
           ],
           "xaxis": "x",
           "y": [
            35
           ],
           "yaxis": "y"
          },
          {
           "alignmentgroup": "True",
           "hovertemplate": "<b>%{hovertext}</b><br><br>Apparatus=%{x}<br>Season=2017<br>No. of Tens=%{y}<extra></extra>",
           "hovertext": [
            "Floor Exercise"
           ],
           "legendgroup": "Floor Exercise",
           "marker": {
            "color": "rgb(96, 200, 96)",
            "opacity": 0.8,
            "pattern": {
             "shape": ""
            }
           },
           "name": "Floor Exercise",
           "offsetgroup": "Floor Exercise",
           "orientation": "v",
           "showlegend": true,
           "textposition": "auto",
           "type": "bar",
           "x": [
            "Floor Exercise"
           ],
           "xaxis": "x",
           "y": [
            16
           ],
           "yaxis": "y"
          }
         ],
         "name": "2017"
        },
        {
         "data": [
          {
           "alignmentgroup": "True",
           "hovertemplate": "<b>%{hovertext}</b><br><br>Apparatus=%{x}<br>Season=2018<br>No. of Tens=%{y}<extra></extra>",
           "hovertext": [
            "Vault"
           ],
           "legendgroup": "Vault",
           "marker": {
            "color": "rgb(68, 1, 84)",
            "opacity": 0.8,
            "pattern": {
             "shape": ""
            }
           },
           "name": "Vault",
           "offsetgroup": "Vault",
           "orientation": "v",
           "showlegend": true,
           "textposition": "auto",
           "type": "bar",
           "x": [
            "Vault"
           ],
           "xaxis": "x",
           "y": [
            10
           ],
           "yaxis": "y"
          },
          {
           "alignmentgroup": "True",
           "hovertemplate": "<b>%{hovertext}</b><br><br>Apparatus=%{x}<br>Season=2018<br>No. of Tens=%{y}<extra></extra>",
           "hovertext": [
            "Uneven Bars"
           ],
           "legendgroup": "Uneven Bars",
           "marker": {
            "color": "rgb(59, 81, 138)",
            "opacity": 0.8,
            "pattern": {
             "shape": ""
            }
           },
           "name": "Uneven Bars",
           "offsetgroup": "Uneven Bars",
           "orientation": "v",
           "showlegend": true,
           "textposition": "auto",
           "type": "bar",
           "x": [
            "Uneven Bars"
           ],
           "xaxis": "x",
           "y": [
            51
           ],
           "yaxis": "y"
          },
          {
           "alignmentgroup": "True",
           "hovertemplate": "<b>%{hovertext}</b><br><br>Apparatus=%{x}<br>Season=2018<br>No. of Tens=%{y}<extra></extra>",
           "hovertext": [
            "Balance Beam"
           ],
           "legendgroup": "Balance Beam",
           "marker": {
            "color": "rgb(34, 144, 140)",
            "opacity": 0.8,
            "pattern": {
             "shape": ""
            }
           },
           "name": "Balance Beam",
           "offsetgroup": "Balance Beam",
           "orientation": "v",
           "showlegend": true,
           "textposition": "auto",
           "type": "bar",
           "x": [
            "Balance Beam"
           ],
           "xaxis": "x",
           "y": [
            53
           ],
           "yaxis": "y"
          },
          {
           "alignmentgroup": "True",
           "hovertemplate": "<b>%{hovertext}</b><br><br>Apparatus=%{x}<br>Season=2018<br>No. of Tens=%{y}<extra></extra>",
           "hovertext": [
            "Floor Exercise"
           ],
           "legendgroup": "Floor Exercise",
           "marker": {
            "color": "rgb(96, 200, 96)",
            "opacity": 0.8,
            "pattern": {
             "shape": ""
            }
           },
           "name": "Floor Exercise",
           "offsetgroup": "Floor Exercise",
           "orientation": "v",
           "showlegend": true,
           "textposition": "auto",
           "type": "bar",
           "x": [
            "Floor Exercise"
           ],
           "xaxis": "x",
           "y": [
            24
           ],
           "yaxis": "y"
          }
         ],
         "name": "2018"
        },
        {
         "data": [
          {
           "alignmentgroup": "True",
           "hovertemplate": "<b>%{hovertext}</b><br><br>Apparatus=%{x}<br>Season=2019<br>No. of Tens=%{y}<extra></extra>",
           "hovertext": [
            "Vault"
           ],
           "legendgroup": "Vault",
           "marker": {
            "color": "rgb(68, 1, 84)",
            "opacity": 0.8,
            "pattern": {
             "shape": ""
            }
           },
           "name": "Vault",
           "offsetgroup": "Vault",
           "orientation": "v",
           "showlegend": true,
           "textposition": "auto",
           "type": "bar",
           "x": [
            "Vault"
           ],
           "xaxis": "x",
           "y": [
            31
           ],
           "yaxis": "y"
          },
          {
           "alignmentgroup": "True",
           "hovertemplate": "<b>%{hovertext}</b><br><br>Apparatus=%{x}<br>Season=2019<br>No. of Tens=%{y}<extra></extra>",
           "hovertext": [
            "Uneven Bars"
           ],
           "legendgroup": "Uneven Bars",
           "marker": {
            "color": "rgb(59, 81, 138)",
            "opacity": 0.8,
            "pattern": {
             "shape": ""
            }
           },
           "name": "Uneven Bars",
           "offsetgroup": "Uneven Bars",
           "orientation": "v",
           "showlegend": true,
           "textposition": "auto",
           "type": "bar",
           "x": [
            "Uneven Bars"
           ],
           "xaxis": "x",
           "y": [
            38
           ],
           "yaxis": "y"
          },
          {
           "alignmentgroup": "True",
           "hovertemplate": "<b>%{hovertext}</b><br><br>Apparatus=%{x}<br>Season=2019<br>No. of Tens=%{y}<extra></extra>",
           "hovertext": [
            "Balance Beam"
           ],
           "legendgroup": "Balance Beam",
           "marker": {
            "color": "rgb(34, 144, 140)",
            "opacity": 0.8,
            "pattern": {
             "shape": ""
            }
           },
           "name": "Balance Beam",
           "offsetgroup": "Balance Beam",
           "orientation": "v",
           "showlegend": true,
           "textposition": "auto",
           "type": "bar",
           "x": [
            "Balance Beam"
           ],
           "xaxis": "x",
           "y": [
            8
           ],
           "yaxis": "y"
          },
          {
           "alignmentgroup": "True",
           "hovertemplate": "<b>%{hovertext}</b><br><br>Apparatus=%{x}<br>Season=2019<br>No. of Tens=%{y}<extra></extra>",
           "hovertext": [
            "Floor Exercise"
           ],
           "legendgroup": "Floor Exercise",
           "marker": {
            "color": "rgb(96, 200, 96)",
            "opacity": 0.8,
            "pattern": {
             "shape": ""
            }
           },
           "name": "Floor Exercise",
           "offsetgroup": "Floor Exercise",
           "orientation": "v",
           "showlegend": true,
           "textposition": "auto",
           "type": "bar",
           "x": [
            "Floor Exercise"
           ],
           "xaxis": "x",
           "y": [
            56
           ],
           "yaxis": "y"
          }
         ],
         "name": "2019"
        },
        {
         "data": [
          {
           "alignmentgroup": "True",
           "hovertemplate": "<b>%{hovertext}</b><br><br>Apparatus=%{x}<br>Season=2020<br>No. of Tens=%{y}<extra></extra>",
           "hovertext": [
            "Vault"
           ],
           "legendgroup": "Vault",
           "marker": {
            "color": "rgb(68, 1, 84)",
            "opacity": 0.8,
            "pattern": {
             "shape": ""
            }
           },
           "name": "Vault",
           "offsetgroup": "Vault",
           "orientation": "v",
           "showlegend": true,
           "textposition": "auto",
           "type": "bar",
           "x": [
            "Vault"
           ],
           "xaxis": "x",
           "y": [
            28
           ],
           "yaxis": "y"
          },
          {
           "alignmentgroup": "True",
           "hovertemplate": "<b>%{hovertext}</b><br><br>Apparatus=%{x}<br>Season=2020<br>No. of Tens=%{y}<extra></extra>",
           "hovertext": [
            "Uneven Bars"
           ],
           "legendgroup": "Uneven Bars",
           "marker": {
            "color": "rgb(59, 81, 138)",
            "opacity": 0.8,
            "pattern": {
             "shape": ""
            }
           },
           "name": "Uneven Bars",
           "offsetgroup": "Uneven Bars",
           "orientation": "v",
           "showlegend": true,
           "textposition": "auto",
           "type": "bar",
           "x": [
            "Uneven Bars"
           ],
           "xaxis": "x",
           "y": [
            10
           ],
           "yaxis": "y"
          },
          {
           "alignmentgroup": "True",
           "hovertemplate": "<b>%{hovertext}</b><br><br>Apparatus=%{x}<br>Season=2020<br>No. of Tens=%{y}<extra></extra>",
           "hovertext": [
            "Balance Beam"
           ],
           "legendgroup": "Balance Beam",
           "marker": {
            "color": "rgb(34, 144, 140)",
            "opacity": 0.8,
            "pattern": {
             "shape": ""
            }
           },
           "name": "Balance Beam",
           "offsetgroup": "Balance Beam",
           "orientation": "v",
           "showlegend": true,
           "textposition": "auto",
           "type": "bar",
           "x": [
            "Balance Beam"
           ],
           "xaxis": "x",
           "y": [
            32
           ],
           "yaxis": "y"
          },
          {
           "alignmentgroup": "True",
           "hovertemplate": "<b>%{hovertext}</b><br><br>Apparatus=%{x}<br>Season=2020<br>No. of Tens=%{y}<extra></extra>",
           "hovertext": [
            "Floor Exercise"
           ],
           "legendgroup": "Floor Exercise",
           "marker": {
            "color": "rgb(96, 200, 96)",
            "opacity": 0.8,
            "pattern": {
             "shape": ""
            }
           },
           "name": "Floor Exercise",
           "offsetgroup": "Floor Exercise",
           "orientation": "v",
           "showlegend": true,
           "textposition": "auto",
           "type": "bar",
           "x": [
            "Floor Exercise"
           ],
           "xaxis": "x",
           "y": [
            4
           ],
           "yaxis": "y"
          }
         ],
         "name": "2020"
        },
        {
         "data": [
          {
           "alignmentgroup": "True",
           "hovertemplate": "<b>%{hovertext}</b><br><br>Apparatus=%{x}<br>Season=2021<br>No. of Tens=%{y}<extra></extra>",
           "hovertext": [
            "Vault"
           ],
           "legendgroup": "Vault",
           "marker": {
            "color": "rgb(68, 1, 84)",
            "opacity": 0.8,
            "pattern": {
             "shape": ""
            }
           },
           "name": "Vault",
           "offsetgroup": "Vault",
           "orientation": "v",
           "showlegend": true,
           "textposition": "auto",
           "type": "bar",
           "x": [
            "Vault"
           ],
           "xaxis": "x",
           "y": [
            50
           ],
           "yaxis": "y"
          },
          {
           "alignmentgroup": "True",
           "hovertemplate": "<b>%{hovertext}</b><br><br>Apparatus=%{x}<br>Season=2021<br>No. of Tens=%{y}<extra></extra>",
           "hovertext": [
            "Uneven Bars"
           ],
           "legendgroup": "Uneven Bars",
           "marker": {
            "color": "rgb(59, 81, 138)",
            "opacity": 0.8,
            "pattern": {
             "shape": ""
            }
           },
           "name": "Uneven Bars",
           "offsetgroup": "Uneven Bars",
           "orientation": "v",
           "showlegend": true,
           "textposition": "auto",
           "type": "bar",
           "x": [
            "Uneven Bars"
           ],
           "xaxis": "x",
           "y": [
            44
           ],
           "yaxis": "y"
          },
          {
           "alignmentgroup": "True",
           "hovertemplate": "<b>%{hovertext}</b><br><br>Apparatus=%{x}<br>Season=2021<br>No. of Tens=%{y}<extra></extra>",
           "hovertext": [
            "Balance Beam"
           ],
           "legendgroup": "Balance Beam",
           "marker": {
            "color": "rgb(34, 144, 140)",
            "opacity": 0.8,
            "pattern": {
             "shape": ""
            }
           },
           "name": "Balance Beam",
           "offsetgroup": "Balance Beam",
           "orientation": "v",
           "showlegend": true,
           "textposition": "auto",
           "type": "bar",
           "x": [
            "Balance Beam"
           ],
           "xaxis": "x",
           "y": [
            20
           ],
           "yaxis": "y"
          },
          {
           "alignmentgroup": "True",
           "hovertemplate": "<b>%{hovertext}</b><br><br>Apparatus=%{x}<br>Season=2021<br>No. of Tens=%{y}<extra></extra>",
           "hovertext": [
            "Floor Exercise"
           ],
           "legendgroup": "Floor Exercise",
           "marker": {
            "color": "rgb(96, 200, 96)",
            "opacity": 0.8,
            "pattern": {
             "shape": ""
            }
           },
           "name": "Floor Exercise",
           "offsetgroup": "Floor Exercise",
           "orientation": "v",
           "showlegend": true,
           "textposition": "auto",
           "type": "bar",
           "x": [
            "Floor Exercise"
           ],
           "xaxis": "x",
           "y": [
            21
           ],
           "yaxis": "y"
          }
         ],
         "name": "2021"
        },
        {
         "data": [
          {
           "alignmentgroup": "True",
           "hovertemplate": "<b>%{hovertext}</b><br><br>Apparatus=%{x}<br>Season=2022<br>No. of Tens=%{y}<extra></extra>",
           "hovertext": [
            "Vault"
           ],
           "legendgroup": "Vault",
           "marker": {
            "color": "rgb(68, 1, 84)",
            "opacity": 0.8,
            "pattern": {
             "shape": ""
            }
           },
           "name": "Vault",
           "offsetgroup": "Vault",
           "orientation": "v",
           "showlegend": true,
           "textposition": "auto",
           "type": "bar",
           "x": [
            "Vault"
           ],
           "xaxis": "x",
           "y": [
            59
           ],
           "yaxis": "y"
          },
          {
           "alignmentgroup": "True",
           "hovertemplate": "<b>%{hovertext}</b><br><br>Apparatus=%{x}<br>Season=2022<br>No. of Tens=%{y}<extra></extra>",
           "hovertext": [
            "Uneven Bars"
           ],
           "legendgroup": "Uneven Bars",
           "marker": {
            "color": "rgb(59, 81, 138)",
            "opacity": 0.8,
            "pattern": {
             "shape": ""
            }
           },
           "name": "Uneven Bars",
           "offsetgroup": "Uneven Bars",
           "orientation": "v",
           "showlegend": true,
           "textposition": "auto",
           "type": "bar",
           "x": [
            "Uneven Bars"
           ],
           "xaxis": "x",
           "y": [
            46
           ],
           "yaxis": "y"
          },
          {
           "alignmentgroup": "True",
           "hovertemplate": "<b>%{hovertext}</b><br><br>Apparatus=%{x}<br>Season=2022<br>No. of Tens=%{y}<extra></extra>",
           "hovertext": [
            "Balance Beam"
           ],
           "legendgroup": "Balance Beam",
           "marker": {
            "color": "rgb(34, 144, 140)",
            "opacity": 0.8,
            "pattern": {
             "shape": ""
            }
           },
           "name": "Balance Beam",
           "offsetgroup": "Balance Beam",
           "orientation": "v",
           "showlegend": true,
           "textposition": "auto",
           "type": "bar",
           "x": [
            "Balance Beam"
           ],
           "xaxis": "x",
           "y": [
            38
           ],
           "yaxis": "y"
          },
          {
           "alignmentgroup": "True",
           "hovertemplate": "<b>%{hovertext}</b><br><br>Apparatus=%{x}<br>Season=2022<br>No. of Tens=%{y}<extra></extra>",
           "hovertext": [
            "Floor Exercise"
           ],
           "legendgroup": "Floor Exercise",
           "marker": {
            "color": "rgb(96, 200, 96)",
            "opacity": 0.8,
            "pattern": {
             "shape": ""
            }
           },
           "name": "Floor Exercise",
           "offsetgroup": "Floor Exercise",
           "orientation": "v",
           "showlegend": true,
           "textposition": "auto",
           "type": "bar",
           "x": [
            "Floor Exercise"
           ],
           "xaxis": "x",
           "y": [
            77
           ],
           "yaxis": "y"
          }
         ],
         "name": "2022"
        },
        {
         "data": [
          {
           "alignmentgroup": "True",
           "hovertemplate": "<b>%{hovertext}</b><br><br>Apparatus=%{x}<br>Season=2023<br>No. of Tens=%{y}<extra></extra>",
           "hovertext": [
            "Vault"
           ],
           "legendgroup": "Vault",
           "marker": {
            "color": "rgb(68, 1, 84)",
            "opacity": 0.8,
            "pattern": {
             "shape": ""
            }
           },
           "name": "Vault",
           "offsetgroup": "Vault",
           "orientation": "v",
           "showlegend": true,
           "textposition": "auto",
           "type": "bar",
           "x": [
            "Vault"
           ],
           "xaxis": "x",
           "y": [
            88
           ],
           "yaxis": "y"
          },
          {
           "alignmentgroup": "True",
           "hovertemplate": "<b>%{hovertext}</b><br><br>Apparatus=%{x}<br>Season=2023<br>No. of Tens=%{y}<extra></extra>",
           "hovertext": [
            "Uneven Bars"
           ],
           "legendgroup": "Uneven Bars",
           "marker": {
            "color": "rgb(59, 81, 138)",
            "opacity": 0.8,
            "pattern": {
             "shape": ""
            }
           },
           "name": "Uneven Bars",
           "offsetgroup": "Uneven Bars",
           "orientation": "v",
           "showlegend": true,
           "textposition": "auto",
           "type": "bar",
           "x": [
            "Uneven Bars"
           ],
           "xaxis": "x",
           "y": [
            81
           ],
           "yaxis": "y"
          },
          {
           "alignmentgroup": "True",
           "hovertemplate": "<b>%{hovertext}</b><br><br>Apparatus=%{x}<br>Season=2023<br>No. of Tens=%{y}<extra></extra>",
           "hovertext": [
            "Balance Beam"
           ],
           "legendgroup": "Balance Beam",
           "marker": {
            "color": "rgb(34, 144, 140)",
            "opacity": 0.8,
            "pattern": {
             "shape": ""
            }
           },
           "name": "Balance Beam",
           "offsetgroup": "Balance Beam",
           "orientation": "v",
           "showlegend": true,
           "textposition": "auto",
           "type": "bar",
           "x": [
            "Balance Beam"
           ],
           "xaxis": "x",
           "y": [
            126
           ],
           "yaxis": "y"
          },
          {
           "alignmentgroup": "True",
           "hovertemplate": "<b>%{hovertext}</b><br><br>Apparatus=%{x}<br>Season=2023<br>No. of Tens=%{y}<extra></extra>",
           "hovertext": [
            "Floor Exercise"
           ],
           "legendgroup": "Floor Exercise",
           "marker": {
            "color": "rgb(96, 200, 96)",
            "opacity": 0.8,
            "pattern": {
             "shape": ""
            }
           },
           "name": "Floor Exercise",
           "offsetgroup": "Floor Exercise",
           "orientation": "v",
           "showlegend": true,
           "textposition": "auto",
           "type": "bar",
           "x": [
            "Floor Exercise"
           ],
           "xaxis": "x",
           "y": [
            64
           ],
           "yaxis": "y"
          }
         ],
         "name": "2023"
        },
        {
         "data": [
          {
           "alignmentgroup": "True",
           "hovertemplate": "<b>%{hovertext}</b><br><br>Apparatus=%{x}<br>Season=2024<br>No. of Tens=%{y}<extra></extra>",
           "hovertext": [
            "Vault"
           ],
           "legendgroup": "Vault",
           "marker": {
            "color": "rgb(68, 1, 84)",
            "opacity": 0.8,
            "pattern": {
             "shape": ""
            }
           },
           "name": "Vault",
           "offsetgroup": "Vault",
           "orientation": "v",
           "showlegend": true,
           "textposition": "auto",
           "type": "bar",
           "x": [
            "Vault"
           ],
           "xaxis": "x",
           "y": [
            45
           ],
           "yaxis": "y"
          },
          {
           "alignmentgroup": "True",
           "hovertemplate": "<b>%{hovertext}</b><br><br>Apparatus=%{x}<br>Season=2024<br>No. of Tens=%{y}<extra></extra>",
           "hovertext": [
            "Uneven Bars"
           ],
           "legendgroup": "Uneven Bars",
           "marker": {
            "color": "rgb(59, 81, 138)",
            "opacity": 0.8,
            "pattern": {
             "shape": ""
            }
           },
           "name": "Uneven Bars",
           "offsetgroup": "Uneven Bars",
           "orientation": "v",
           "showlegend": true,
           "textposition": "auto",
           "type": "bar",
           "x": [
            "Uneven Bars"
           ],
           "xaxis": "x",
           "y": [
            56
           ],
           "yaxis": "y"
          },
          {
           "alignmentgroup": "True",
           "hovertemplate": "<b>%{hovertext}</b><br><br>Apparatus=%{x}<br>Season=2024<br>No. of Tens=%{y}<extra></extra>",
           "hovertext": [
            "Balance Beam"
           ],
           "legendgroup": "Balance Beam",
           "marker": {
            "color": "rgb(34, 144, 140)",
            "opacity": 0.8,
            "pattern": {
             "shape": ""
            }
           },
           "name": "Balance Beam",
           "offsetgroup": "Balance Beam",
           "orientation": "v",
           "showlegend": true,
           "textposition": "auto",
           "type": "bar",
           "x": [
            "Balance Beam"
           ],
           "xaxis": "x",
           "y": [
            69
           ],
           "yaxis": "y"
          },
          {
           "alignmentgroup": "True",
           "hovertemplate": "<b>%{hovertext}</b><br><br>Apparatus=%{x}<br>Season=2024<br>No. of Tens=%{y}<extra></extra>",
           "hovertext": [
            "Floor Exercise"
           ],
           "legendgroup": "Floor Exercise",
           "marker": {
            "color": "rgb(96, 200, 96)",
            "opacity": 0.8,
            "pattern": {
             "shape": ""
            }
           },
           "name": "Floor Exercise",
           "offsetgroup": "Floor Exercise",
           "orientation": "v",
           "showlegend": true,
           "textposition": "auto",
           "type": "bar",
           "x": [
            "Floor Exercise"
           ],
           "xaxis": "x",
           "y": [
            103
           ],
           "yaxis": "y"
          }
         ],
         "name": "2024"
        }
       ],
       "layout": {
        "barmode": "relative",
        "font": {
         "color": "black",
         "family": "Helvetica",
         "size": 10
        },
        "legend": {
         "orientation": "h",
         "title": {
          "font": {
           "color": "black",
           "family": "Helvetica",
           "size": 12
          },
          "text": "Apparatus"
         },
         "tracegroupgap": 0,
         "x": 0.5,
         "xanchor": "center",
         "y": -1,
         "yanchor": "bottom"
        },
        "margin": {
         "t": 60
        },
        "paper_bgcolor": "white",
        "plot_bgcolor": "white",
        "sliders": [
         {
          "active": 0,
          "currentvalue": {
           "prefix": "Season="
          },
          "len": 0.9,
          "pad": {
           "b": 10,
           "t": 60
          },
          "steps": [
           {
            "args": [
             [
              "2015"
             ],
             {
              "frame": {
               "duration": 0,
               "redraw": true
              },
              "fromcurrent": true,
              "mode": "immediate",
              "transition": {
               "duration": 0,
               "easing": "linear"
              }
             }
            ],
            "label": "2015",
            "method": "animate"
           },
           {
            "args": [
             [
              "2016"
             ],
             {
              "frame": {
               "duration": 0,
               "redraw": true
              },
              "fromcurrent": true,
              "mode": "immediate",
              "transition": {
               "duration": 0,
               "easing": "linear"
              }
             }
            ],
            "label": "2016",
            "method": "animate"
           },
           {
            "args": [
             [
              "2017"
             ],
             {
              "frame": {
               "duration": 0,
               "redraw": true
              },
              "fromcurrent": true,
              "mode": "immediate",
              "transition": {
               "duration": 0,
               "easing": "linear"
              }
             }
            ],
            "label": "2017",
            "method": "animate"
           },
           {
            "args": [
             [
              "2018"
             ],
             {
              "frame": {
               "duration": 0,
               "redraw": true
              },
              "fromcurrent": true,
              "mode": "immediate",
              "transition": {
               "duration": 0,
               "easing": "linear"
              }
             }
            ],
            "label": "2018",
            "method": "animate"
           },
           {
            "args": [
             [
              "2019"
             ],
             {
              "frame": {
               "duration": 0,
               "redraw": true
              },
              "fromcurrent": true,
              "mode": "immediate",
              "transition": {
               "duration": 0,
               "easing": "linear"
              }
             }
            ],
            "label": "2019",
            "method": "animate"
           },
           {
            "args": [
             [
              "2020"
             ],
             {
              "frame": {
               "duration": 0,
               "redraw": true
              },
              "fromcurrent": true,
              "mode": "immediate",
              "transition": {
               "duration": 0,
               "easing": "linear"
              }
             }
            ],
            "label": "2020",
            "method": "animate"
           },
           {
            "args": [
             [
              "2021"
             ],
             {
              "frame": {
               "duration": 0,
               "redraw": true
              },
              "fromcurrent": true,
              "mode": "immediate",
              "transition": {
               "duration": 0,
               "easing": "linear"
              }
             }
            ],
            "label": "2021",
            "method": "animate"
           },
           {
            "args": [
             [
              "2022"
             ],
             {
              "frame": {
               "duration": 0,
               "redraw": true
              },
              "fromcurrent": true,
              "mode": "immediate",
              "transition": {
               "duration": 0,
               "easing": "linear"
              }
             }
            ],
            "label": "2022",
            "method": "animate"
           },
           {
            "args": [
             [
              "2023"
             ],
             {
              "frame": {
               "duration": 0,
               "redraw": true
              },
              "fromcurrent": true,
              "mode": "immediate",
              "transition": {
               "duration": 0,
               "easing": "linear"
              }
             }
            ],
            "label": "2023",
            "method": "animate"
           },
           {
            "args": [
             [
              "2024"
             ],
             {
              "frame": {
               "duration": 0,
               "redraw": true
              },
              "fromcurrent": true,
              "mode": "immediate",
              "transition": {
               "duration": 0,
               "easing": "linear"
              }
             }
            ],
            "label": "2024",
            "method": "animate"
           }
          ],
          "x": 0.1,
          "xanchor": "left",
          "y": 0,
          "yanchor": "top"
         }
        ],
        "template": {
         "data": {
          "bar": [
           {
            "error_x": {
             "color": "#2a3f5f"
            },
            "error_y": {
             "color": "#2a3f5f"
            },
            "marker": {
             "line": {
              "color": "#E5ECF6",
              "width": 0.5
             },
             "pattern": {
              "fillmode": "overlay",
              "size": 10,
              "solidity": 0.2
             }
            },
            "type": "bar"
           }
          ],
          "barpolar": [
           {
            "marker": {
             "line": {
              "color": "#E5ECF6",
              "width": 0.5
             },
             "pattern": {
              "fillmode": "overlay",
              "size": 10,
              "solidity": 0.2
             }
            },
            "type": "barpolar"
           }
          ],
          "carpet": [
           {
            "aaxis": {
             "endlinecolor": "#2a3f5f",
             "gridcolor": "white",
             "linecolor": "white",
             "minorgridcolor": "white",
             "startlinecolor": "#2a3f5f"
            },
            "baxis": {
             "endlinecolor": "#2a3f5f",
             "gridcolor": "white",
             "linecolor": "white",
             "minorgridcolor": "white",
             "startlinecolor": "#2a3f5f"
            },
            "type": "carpet"
           }
          ],
          "choropleth": [
           {
            "colorbar": {
             "outlinewidth": 0,
             "ticks": ""
            },
            "type": "choropleth"
           }
          ],
          "contour": [
           {
            "colorbar": {
             "outlinewidth": 0,
             "ticks": ""
            },
            "colorscale": [
             [
              0,
              "#0d0887"
             ],
             [
              0.1111111111111111,
              "#46039f"
             ],
             [
              0.2222222222222222,
              "#7201a8"
             ],
             [
              0.3333333333333333,
              "#9c179e"
             ],
             [
              0.4444444444444444,
              "#bd3786"
             ],
             [
              0.5555555555555556,
              "#d8576b"
             ],
             [
              0.6666666666666666,
              "#ed7953"
             ],
             [
              0.7777777777777778,
              "#fb9f3a"
             ],
             [
              0.8888888888888888,
              "#fdca26"
             ],
             [
              1,
              "#f0f921"
             ]
            ],
            "type": "contour"
           }
          ],
          "contourcarpet": [
           {
            "colorbar": {
             "outlinewidth": 0,
             "ticks": ""
            },
            "type": "contourcarpet"
           }
          ],
          "heatmap": [
           {
            "colorbar": {
             "outlinewidth": 0,
             "ticks": ""
            },
            "colorscale": [
             [
              0,
              "#0d0887"
             ],
             [
              0.1111111111111111,
              "#46039f"
             ],
             [
              0.2222222222222222,
              "#7201a8"
             ],
             [
              0.3333333333333333,
              "#9c179e"
             ],
             [
              0.4444444444444444,
              "#bd3786"
             ],
             [
              0.5555555555555556,
              "#d8576b"
             ],
             [
              0.6666666666666666,
              "#ed7953"
             ],
             [
              0.7777777777777778,
              "#fb9f3a"
             ],
             [
              0.8888888888888888,
              "#fdca26"
             ],
             [
              1,
              "#f0f921"
             ]
            ],
            "type": "heatmap"
           }
          ],
          "heatmapgl": [
           {
            "colorbar": {
             "outlinewidth": 0,
             "ticks": ""
            },
            "colorscale": [
             [
              0,
              "#0d0887"
             ],
             [
              0.1111111111111111,
              "#46039f"
             ],
             [
              0.2222222222222222,
              "#7201a8"
             ],
             [
              0.3333333333333333,
              "#9c179e"
             ],
             [
              0.4444444444444444,
              "#bd3786"
             ],
             [
              0.5555555555555556,
              "#d8576b"
             ],
             [
              0.6666666666666666,
              "#ed7953"
             ],
             [
              0.7777777777777778,
              "#fb9f3a"
             ],
             [
              0.8888888888888888,
              "#fdca26"
             ],
             [
              1,
              "#f0f921"
             ]
            ],
            "type": "heatmapgl"
           }
          ],
          "histogram": [
           {
            "marker": {
             "pattern": {
              "fillmode": "overlay",
              "size": 10,
              "solidity": 0.2
             }
            },
            "type": "histogram"
           }
          ],
          "histogram2d": [
           {
            "colorbar": {
             "outlinewidth": 0,
             "ticks": ""
            },
            "colorscale": [
             [
              0,
              "#0d0887"
             ],
             [
              0.1111111111111111,
              "#46039f"
             ],
             [
              0.2222222222222222,
              "#7201a8"
             ],
             [
              0.3333333333333333,
              "#9c179e"
             ],
             [
              0.4444444444444444,
              "#bd3786"
             ],
             [
              0.5555555555555556,
              "#d8576b"
             ],
             [
              0.6666666666666666,
              "#ed7953"
             ],
             [
              0.7777777777777778,
              "#fb9f3a"
             ],
             [
              0.8888888888888888,
              "#fdca26"
             ],
             [
              1,
              "#f0f921"
             ]
            ],
            "type": "histogram2d"
           }
          ],
          "histogram2dcontour": [
           {
            "colorbar": {
             "outlinewidth": 0,
             "ticks": ""
            },
            "colorscale": [
             [
              0,
              "#0d0887"
             ],
             [
              0.1111111111111111,
              "#46039f"
             ],
             [
              0.2222222222222222,
              "#7201a8"
             ],
             [
              0.3333333333333333,
              "#9c179e"
             ],
             [
              0.4444444444444444,
              "#bd3786"
             ],
             [
              0.5555555555555556,
              "#d8576b"
             ],
             [
              0.6666666666666666,
              "#ed7953"
             ],
             [
              0.7777777777777778,
              "#fb9f3a"
             ],
             [
              0.8888888888888888,
              "#fdca26"
             ],
             [
              1,
              "#f0f921"
             ]
            ],
            "type": "histogram2dcontour"
           }
          ],
          "mesh3d": [
           {
            "colorbar": {
             "outlinewidth": 0,
             "ticks": ""
            },
            "type": "mesh3d"
           }
          ],
          "parcoords": [
           {
            "line": {
             "colorbar": {
              "outlinewidth": 0,
              "ticks": ""
             }
            },
            "type": "parcoords"
           }
          ],
          "pie": [
           {
            "automargin": true,
            "type": "pie"
           }
          ],
          "scatter": [
           {
            "fillpattern": {
             "fillmode": "overlay",
             "size": 10,
             "solidity": 0.2
            },
            "type": "scatter"
           }
          ],
          "scatter3d": [
           {
            "line": {
             "colorbar": {
              "outlinewidth": 0,
              "ticks": ""
             }
            },
            "marker": {
             "colorbar": {
              "outlinewidth": 0,
              "ticks": ""
             }
            },
            "type": "scatter3d"
           }
          ],
          "scattercarpet": [
           {
            "marker": {
             "colorbar": {
              "outlinewidth": 0,
              "ticks": ""
             }
            },
            "type": "scattercarpet"
           }
          ],
          "scattergeo": [
           {
            "marker": {
             "colorbar": {
              "outlinewidth": 0,
              "ticks": ""
             }
            },
            "type": "scattergeo"
           }
          ],
          "scattergl": [
           {
            "marker": {
             "colorbar": {
              "outlinewidth": 0,
              "ticks": ""
             }
            },
            "type": "scattergl"
           }
          ],
          "scattermapbox": [
           {
            "marker": {
             "colorbar": {
              "outlinewidth": 0,
              "ticks": ""
             }
            },
            "type": "scattermapbox"
           }
          ],
          "scatterpolar": [
           {
            "marker": {
             "colorbar": {
              "outlinewidth": 0,
              "ticks": ""
             }
            },
            "type": "scatterpolar"
           }
          ],
          "scatterpolargl": [
           {
            "marker": {
             "colorbar": {
              "outlinewidth": 0,
              "ticks": ""
             }
            },
            "type": "scatterpolargl"
           }
          ],
          "scatterternary": [
           {
            "marker": {
             "colorbar": {
              "outlinewidth": 0,
              "ticks": ""
             }
            },
            "type": "scatterternary"
           }
          ],
          "surface": [
           {
            "colorbar": {
             "outlinewidth": 0,
             "ticks": ""
            },
            "colorscale": [
             [
              0,
              "#0d0887"
             ],
             [
              0.1111111111111111,
              "#46039f"
             ],
             [
              0.2222222222222222,
              "#7201a8"
             ],
             [
              0.3333333333333333,
              "#9c179e"
             ],
             [
              0.4444444444444444,
              "#bd3786"
             ],
             [
              0.5555555555555556,
              "#d8576b"
             ],
             [
              0.6666666666666666,
              "#ed7953"
             ],
             [
              0.7777777777777778,
              "#fb9f3a"
             ],
             [
              0.8888888888888888,
              "#fdca26"
             ],
             [
              1,
              "#f0f921"
             ]
            ],
            "type": "surface"
           }
          ],
          "table": [
           {
            "cells": {
             "fill": {
              "color": "#EBF0F8"
             },
             "line": {
              "color": "white"
             }
            },
            "header": {
             "fill": {
              "color": "#C8D4E3"
             },
             "line": {
              "color": "white"
             }
            },
            "type": "table"
           }
          ]
         },
         "layout": {
          "annotationdefaults": {
           "arrowcolor": "#2a3f5f",
           "arrowhead": 0,
           "arrowwidth": 1
          },
          "autotypenumbers": "strict",
          "coloraxis": {
           "colorbar": {
            "outlinewidth": 0,
            "ticks": ""
           }
          },
          "colorscale": {
           "diverging": [
            [
             0,
             "#8e0152"
            ],
            [
             0.1,
             "#c51b7d"
            ],
            [
             0.2,
             "#de77ae"
            ],
            [
             0.3,
             "#f1b6da"
            ],
            [
             0.4,
             "#fde0ef"
            ],
            [
             0.5,
             "#f7f7f7"
            ],
            [
             0.6,
             "#e6f5d0"
            ],
            [
             0.7,
             "#b8e186"
            ],
            [
             0.8,
             "#7fbc41"
            ],
            [
             0.9,
             "#4d9221"
            ],
            [
             1,
             "#276419"
            ]
           ],
           "sequential": [
            [
             0,
             "#0d0887"
            ],
            [
             0.1111111111111111,
             "#46039f"
            ],
            [
             0.2222222222222222,
             "#7201a8"
            ],
            [
             0.3333333333333333,
             "#9c179e"
            ],
            [
             0.4444444444444444,
             "#bd3786"
            ],
            [
             0.5555555555555556,
             "#d8576b"
            ],
            [
             0.6666666666666666,
             "#ed7953"
            ],
            [
             0.7777777777777778,
             "#fb9f3a"
            ],
            [
             0.8888888888888888,
             "#fdca26"
            ],
            [
             1,
             "#f0f921"
            ]
           ],
           "sequentialminus": [
            [
             0,
             "#0d0887"
            ],
            [
             0.1111111111111111,
             "#46039f"
            ],
            [
             0.2222222222222222,
             "#7201a8"
            ],
            [
             0.3333333333333333,
             "#9c179e"
            ],
            [
             0.4444444444444444,
             "#bd3786"
            ],
            [
             0.5555555555555556,
             "#d8576b"
            ],
            [
             0.6666666666666666,
             "#ed7953"
            ],
            [
             0.7777777777777778,
             "#fb9f3a"
            ],
            [
             0.8888888888888888,
             "#fdca26"
            ],
            [
             1,
             "#f0f921"
            ]
           ]
          },
          "colorway": [
           "#636efa",
           "#EF553B",
           "#00cc96",
           "#ab63fa",
           "#FFA15A",
           "#19d3f3",
           "#FF6692",
           "#B6E880",
           "#FF97FF",
           "#FECB52"
          ],
          "font": {
           "color": "#2a3f5f"
          },
          "geo": {
           "bgcolor": "white",
           "lakecolor": "white",
           "landcolor": "#E5ECF6",
           "showlakes": true,
           "showland": true,
           "subunitcolor": "white"
          },
          "hoverlabel": {
           "align": "left"
          },
          "hovermode": "closest",
          "mapbox": {
           "style": "light"
          },
          "paper_bgcolor": "white",
          "plot_bgcolor": "#E5ECF6",
          "polar": {
           "angularaxis": {
            "gridcolor": "white",
            "linecolor": "white",
            "ticks": ""
           },
           "bgcolor": "#E5ECF6",
           "radialaxis": {
            "gridcolor": "white",
            "linecolor": "white",
            "ticks": ""
           }
          },
          "scene": {
           "xaxis": {
            "backgroundcolor": "#E5ECF6",
            "gridcolor": "white",
            "gridwidth": 2,
            "linecolor": "white",
            "showbackground": true,
            "ticks": "",
            "zerolinecolor": "white"
           },
           "yaxis": {
            "backgroundcolor": "#E5ECF6",
            "gridcolor": "white",
            "gridwidth": 2,
            "linecolor": "white",
            "showbackground": true,
            "ticks": "",
            "zerolinecolor": "white"
           },
           "zaxis": {
            "backgroundcolor": "#E5ECF6",
            "gridcolor": "white",
            "gridwidth": 2,
            "linecolor": "white",
            "showbackground": true,
            "ticks": "",
            "zerolinecolor": "white"
           }
          },
          "shapedefaults": {
           "line": {
            "color": "#2a3f5f"
           }
          },
          "ternary": {
           "aaxis": {
            "gridcolor": "white",
            "linecolor": "white",
            "ticks": ""
           },
           "baxis": {
            "gridcolor": "white",
            "linecolor": "white",
            "ticks": ""
           },
           "bgcolor": "#E5ECF6",
           "caxis": {
            "gridcolor": "white",
            "linecolor": "white",
            "ticks": ""
           }
          },
          "title": {
           "x": 0.05
          },
          "xaxis": {
           "automargin": true,
           "gridcolor": "white",
           "linecolor": "white",
           "ticks": "",
           "title": {
            "standoff": 15
           },
           "zerolinecolor": "white",
           "zerolinewidth": 2
          },
          "yaxis": {
           "automargin": true,
           "gridcolor": "white",
           "linecolor": "white",
           "ticks": "",
           "title": {
            "standoff": 15
           },
           "zerolinecolor": "white",
           "zerolinewidth": 2
          }
         }
        },
        "title": {
         "font": {
          "color": "black",
          "family": "Helvetica",
          "size": 12
         },
         "text": "Number of 10s Scored on Each Apparatus Over the Years"
        },
        "updatemenus": [
         {
          "buttons": [
           {
            "args": [
             null,
             {
              "frame": {
               "duration": 500,
               "redraw": true
              },
              "fromcurrent": true,
              "mode": "immediate",
              "transition": {
               "duration": 500,
               "easing": "linear"
              }
             }
            ],
            "label": "&#9654;",
            "method": "animate"
           },
           {
            "args": [
             [
              null
             ],
             {
              "frame": {
               "duration": 0,
               "redraw": true
              },
              "fromcurrent": true,
              "mode": "immediate",
              "transition": {
               "duration": 0,
               "easing": "linear"
              }
             }
            ],
            "label": "&#9724;",
            "method": "animate"
           }
          ],
          "direction": "left",
          "pad": {
           "r": 10,
           "t": 70
          },
          "showactive": false,
          "type": "buttons",
          "x": 0.1,
          "xanchor": "right",
          "y": 0,
          "yanchor": "top"
         }
        ],
        "xaxis": {
         "anchor": "y",
         "categoryarray": [
          "Vault",
          "Uneven Bars",
          "Balance Beam",
          "Floor Exercise"
         ],
         "categoryorder": "array",
         "domain": [
          0,
          1
         ],
         "gridcolor": "#EEEEEE",
         "title": {
          "font": {
           "color": "black",
           "family": "Helvetica",
           "size": 12
          },
          "text": "Apparatus"
         }
        },
        "yaxis": {
         "anchor": "x",
         "domain": [
          0,
          1
         ],
         "gridcolor": "#EEEEEE",
         "range": [
          0,
          126
         ],
         "title": {
          "font": {
           "color": "black",
           "family": "Helvetica",
           "size": 12
          },
          "text": "No. of Tens"
         }
        }
       }
      }
     },
     "metadata": {},
     "output_type": "display_data"
    }
   ],
   "source": [
    "# Making an animated plot to show the number of 10s scored on each apparatus over the years\n",
    "\n",
    "# Sample distinct colors from the Viridis color scale\n",
    "num_colors = len(tenniest_apparatus_per_year['Apparatus'].unique())\n",
    "viridis_colors = px.colors.sample_colorscale(px.colors.sequential.Viridis, [i/num_colors for i in range(num_colors)])\n",
    "\n",
    "tenniest_apparatus_py = px.bar(tenniest_apparatus_per_year, \n",
    "                x=\"Apparatus\", \n",
    "                y=\"No. of Tens\", \n",
    "                animation_frame=\"Season\",       \n",
    "                color=\"Apparatus\", \n",
    "                hover_name=\"Apparatus\",\n",
    "                range_y=[0, tenniest_apparatus_per_year[\"No. of Tens\"].max()], # Set the y-axis range\n",
    "                color_discrete_sequence=viridis_colors,\n",
    "                opacity=0.8\n",
    "            )\n",
    "\n",
    "# Customize the layout\n",
    "tenniest_apparatus_py.update_layout(\n",
    "    title=\"Number of 10s Scored on Each Apparatus Over the Years\",\n",
    "    title_font=dict(size=12, family='Helvetica', color='black'),\n",
    "    xaxis_title=\"Apparatus\",\n",
    "    xaxis_title_font=dict(size=12, family='Helvetica', color='black'),\n",
    "    yaxis_title=\"No. of Tens\",\n",
    "    yaxis_title_font=dict(size=12, family='Helvetica', color='black'),\n",
    "    legend_title=\"Apparatus\",\n",
    "    legend_title_font=dict(size=12, family='Helvetica', color='black'),\n",
    "    font=dict(size=10, family='Helvetica', color='black'),\n",
    "    plot_bgcolor='white',  # Set plot background to white\n",
    "    paper_bgcolor='white',  # Set paper background to white\n",
    "    xaxis=dict(\n",
    "        gridcolor='#EEEEEE'  # Set x-axis grid lines to light grey\n",
    "    ),\n",
    "    yaxis=dict(\n",
    "        gridcolor='#EEEEEE'  # Set y-axis grid lines to light grey\n",
    "    ),\n",
    "    legend=dict(\n",
    "        orientation=\"h\",  #horizontal legend\n",
    "        yanchor=\"bottom\",  \n",
    "        y=-1,  \n",
    "        xanchor=\"center\",  \n",
    "        x=0.5  \n",
    "    )\n",
    ")\n",
    "# Export the plot to html file\n",
    "tenniest_apparatus_py.write_html(\"../docs/figures/tenniest_apparatus_per_year.html\")\n",
    "\n",
    "# Show the plot\n",
    "tenniest_apparatus_py"
   ]
  },
  {
   "cell_type": "markdown",
   "metadata": {},
   "source": [
    "## 2.2 The tenniest teams\n",
    "\n",
    "Ok, but this is a competition, isn't it? Which *teams* have been the most successful in achieving tens over the years? Has it changed over time?\n",
    "\n",
    "I'd like to run a similar analysis to the above, but this time looking at which teams are the most likely to score a 10. \n",
    "\n",
    "In recent years, Oklahoma has been the most dominant team, with flashes of brilliance from UCLA, LSU and Michigan. Florida's team is currently stacked with former Olympians and National Team members, so one would assume they would also be highly ranked on this metric.\n",
    "\n",
    "### 2.2.1 Retrieve the data from the database"
   ]
  },
  {
   "cell_type": "code",
   "execution_count": 12,
   "metadata": {
    "vscode": {
     "languageId": "sql"
    }
   },
   "outputs": [
    {
     "data": {
      "text/html": [
       "<span style=\"None\">Running query in &#x27;gymternet&#x27;</span>"
      ],
      "text/plain": [
       "Running query in 'gymternet'"
      ]
     },
     "metadata": {},
     "output_type": "display_data"
    },
    {
     "data": {
      "text/html": [
       "<table>\n",
       "    <thead>\n",
       "        <tr>\n",
       "            <th>Vault</th>\n",
       "            <th>Uneven Bars</th>\n",
       "            <th>Balance Beam</th>\n",
       "            <th>Floor Exercise</th>\n",
       "            <th>Total 10s</th>\n",
       "            <th>team_id</th>\n",
       "            <th>Team</th>\n",
       "            <th>Season</th>\n",
       "        </tr>\n",
       "    </thead>\n",
       "    <tbody>\n",
       "        <tr>\n",
       "            <td>0</td>\n",
       "            <td>0</td>\n",
       "            <td>0</td>\n",
       "            <td>0</td>\n",
       "            <td>0</td>\n",
       "            <td>1</td>\n",
       "            <td>Air Force</td>\n",
       "            <td>2015</td>\n",
       "        </tr>\n",
       "        <tr>\n",
       "            <td>0</td>\n",
       "            <td>0</td>\n",
       "            <td>0</td>\n",
       "            <td>0</td>\n",
       "            <td>0</td>\n",
       "            <td>1</td>\n",
       "            <td>Air Force</td>\n",
       "            <td>2015</td>\n",
       "        </tr>\n",
       "        <tr>\n",
       "            <td>0</td>\n",
       "            <td>0</td>\n",
       "            <td>0</td>\n",
       "            <td>0</td>\n",
       "            <td>0</td>\n",
       "            <td>1</td>\n",
       "            <td>Air Force</td>\n",
       "            <td>2015</td>\n",
       "        </tr>\n",
       "        <tr>\n",
       "            <td>0</td>\n",
       "            <td>0</td>\n",
       "            <td>0</td>\n",
       "            <td>0</td>\n",
       "            <td>0</td>\n",
       "            <td>1</td>\n",
       "            <td>Air Force</td>\n",
       "            <td>2015</td>\n",
       "        </tr>\n",
       "        <tr>\n",
       "            <td>0</td>\n",
       "            <td>0</td>\n",
       "            <td>0</td>\n",
       "            <td>0</td>\n",
       "            <td>0</td>\n",
       "            <td>1</td>\n",
       "            <td>Air Force</td>\n",
       "            <td>2015</td>\n",
       "        </tr>\n",
       "        <tr>\n",
       "            <td>0</td>\n",
       "            <td>0</td>\n",
       "            <td>0</td>\n",
       "            <td>0</td>\n",
       "            <td>0</td>\n",
       "            <td>1</td>\n",
       "            <td>Air Force</td>\n",
       "            <td>2015</td>\n",
       "        </tr>\n",
       "        <tr>\n",
       "            <td>0</td>\n",
       "            <td>0</td>\n",
       "            <td>0</td>\n",
       "            <td>0</td>\n",
       "            <td>0</td>\n",
       "            <td>1</td>\n",
       "            <td>Air Force</td>\n",
       "            <td>2015</td>\n",
       "        </tr>\n",
       "        <tr>\n",
       "            <td>0</td>\n",
       "            <td>0</td>\n",
       "            <td>0</td>\n",
       "            <td>0</td>\n",
       "            <td>0</td>\n",
       "            <td>1</td>\n",
       "            <td>Air Force</td>\n",
       "            <td>2015</td>\n",
       "        </tr>\n",
       "        <tr>\n",
       "            <td>0</td>\n",
       "            <td>0</td>\n",
       "            <td>0</td>\n",
       "            <td>0</td>\n",
       "            <td>0</td>\n",
       "            <td>1</td>\n",
       "            <td>Air Force</td>\n",
       "            <td>2015</td>\n",
       "        </tr>\n",
       "        <tr>\n",
       "            <td>0</td>\n",
       "            <td>0</td>\n",
       "            <td>0</td>\n",
       "            <td>0</td>\n",
       "            <td>0</td>\n",
       "            <td>1</td>\n",
       "            <td>Air Force</td>\n",
       "            <td>2015</td>\n",
       "        </tr>\n",
       "    </tbody>\n",
       "</table>\n",
       "<span style=\"font-style:italic;text-align:center;\">Truncated to <a href=\"https://jupysql.ploomber.io/en/latest/api/configuration.html#displaylimit\">displaylimit</a> of 10.</span>"
      ],
      "text/plain": [
       "+-------+-------------+--------------+----------------+-----------+---------+-----------+--------+\n",
       "| Vault | Uneven Bars | Balance Beam | Floor Exercise | Total 10s | team_id |    Team   | Season |\n",
       "+-------+-------------+--------------+----------------+-----------+---------+-----------+--------+\n",
       "|   0   |      0      |      0       |       0        |     0     |    1    | Air Force |  2015  |\n",
       "|   0   |      0      |      0       |       0        |     0     |    1    | Air Force |  2015  |\n",
       "|   0   |      0      |      0       |       0        |     0     |    1    | Air Force |  2015  |\n",
       "|   0   |      0      |      0       |       0        |     0     |    1    | Air Force |  2015  |\n",
       "|   0   |      0      |      0       |       0        |     0     |    1    | Air Force |  2015  |\n",
       "|   0   |      0      |      0       |       0        |     0     |    1    | Air Force |  2015  |\n",
       "|   0   |      0      |      0       |       0        |     0     |    1    | Air Force |  2015  |\n",
       "|   0   |      0      |      0       |       0        |     0     |    1    | Air Force |  2015  |\n",
       "|   0   |      0      |      0       |       0        |     0     |    1    | Air Force |  2015  |\n",
       "|   0   |      0      |      0       |       0        |     0     |    1    | Air Force |  2015  |\n",
       "+-------+-------------+--------------+----------------+-----------+---------+-----------+--------+\n",
       "Truncated to displaylimit of 10."
      ]
     },
     "execution_count": 12,
     "metadata": {},
     "output_type": "execute_result"
    }
   ],
   "source": [
    "%%sql --alias gymternet\n",
    "\n",
    "SELECT \n",
    "    SUM(r.vt_score = 10.0) AS 'Vault',\n",
    "    SUM(r.ub_score = 10.0) AS 'Uneven Bars',\n",
    "    SUM(r.bb_score = 10.0) AS 'Balance Beam',\n",
    "    SUM(r.fx_score = 10.0) AS 'Floor Exercise',\n",
    "    SUM(r.vt_score = 10.0) + SUM(r.ub_score = 10.0) + SUM(r.bb_score = 10.0) + SUM(r.fx_score = 10.0) AS 'Total 10s',\n",
    "    g.team_id AS 'team_id',\n",
    "    t.team_name AS 'Team',\n",
    "    m.year AS 'Season'\n",
    "FROM gymnast_results AS r\n",
    "LEFT JOIN gymnasts AS g\n",
    "ON g.gymnast_id = r.gymnast_id\n",
    "LEFT JOIN teams as t\n",
    "ON t.team_id = g.team_id\n",
    "LEFT JOIN meets as m\n",
    "ON m.meet_id = r.meet_id\n",
    "GROUP BY t.team_name, r.meet_id;"
   ]
  },
  {
   "cell_type": "markdown",
   "metadata": {},
   "source": [
    "### 2.2.2 Import the data into a dataframe"
   ]
  },
  {
   "cell_type": "code",
   "execution_count": 13,
   "metadata": {},
   "outputs": [
    {
     "data": {
      "text/html": [
       "<div>\n",
       "<style scoped>\n",
       "    .dataframe tbody tr th:only-of-type {\n",
       "        vertical-align: middle;\n",
       "    }\n",
       "\n",
       "    .dataframe tbody tr th {\n",
       "        vertical-align: top;\n",
       "    }\n",
       "\n",
       "    .dataframe thead th {\n",
       "        text-align: right;\n",
       "    }\n",
       "</style>\n",
       "<table border=\"1\" class=\"dataframe\">\n",
       "  <thead>\n",
       "    <tr style=\"text-align: right;\">\n",
       "      <th></th>\n",
       "      <th>Vault</th>\n",
       "      <th>Uneven Bars</th>\n",
       "      <th>Balance Beam</th>\n",
       "      <th>Floor Exercise</th>\n",
       "      <th>Total 10s</th>\n",
       "      <th>Team</th>\n",
       "      <th>Season</th>\n",
       "    </tr>\n",
       "  </thead>\n",
       "  <tbody>\n",
       "    <tr>\n",
       "      <th>0</th>\n",
       "      <td>0.0</td>\n",
       "      <td>0.0</td>\n",
       "      <td>0.0</td>\n",
       "      <td>0.0</td>\n",
       "      <td>0.0</td>\n",
       "      <td>Air Force</td>\n",
       "      <td>2015</td>\n",
       "    </tr>\n",
       "    <tr>\n",
       "      <th>1</th>\n",
       "      <td>0.0</td>\n",
       "      <td>0.0</td>\n",
       "      <td>0.0</td>\n",
       "      <td>0.0</td>\n",
       "      <td>0.0</td>\n",
       "      <td>Air Force</td>\n",
       "      <td>2015</td>\n",
       "    </tr>\n",
       "    <tr>\n",
       "      <th>2</th>\n",
       "      <td>0.0</td>\n",
       "      <td>0.0</td>\n",
       "      <td>0.0</td>\n",
       "      <td>0.0</td>\n",
       "      <td>0.0</td>\n",
       "      <td>Air Force</td>\n",
       "      <td>2015</td>\n",
       "    </tr>\n",
       "    <tr>\n",
       "      <th>3</th>\n",
       "      <td>0.0</td>\n",
       "      <td>0.0</td>\n",
       "      <td>0.0</td>\n",
       "      <td>0.0</td>\n",
       "      <td>0.0</td>\n",
       "      <td>Air Force</td>\n",
       "      <td>2015</td>\n",
       "    </tr>\n",
       "    <tr>\n",
       "      <th>4</th>\n",
       "      <td>0.0</td>\n",
       "      <td>0.0</td>\n",
       "      <td>0.0</td>\n",
       "      <td>0.0</td>\n",
       "      <td>0.0</td>\n",
       "      <td>Air Force</td>\n",
       "      <td>2015</td>\n",
       "    </tr>\n",
       "  </tbody>\n",
       "</table>\n",
       "</div>"
      ],
      "text/plain": [
       "   Vault  Uneven Bars  Balance Beam  Floor Exercise  Total 10s       Team  \\\n",
       "0    0.0          0.0           0.0             0.0        0.0  Air Force   \n",
       "1    0.0          0.0           0.0             0.0        0.0  Air Force   \n",
       "2    0.0          0.0           0.0             0.0        0.0  Air Force   \n",
       "3    0.0          0.0           0.0             0.0        0.0  Air Force   \n",
       "4    0.0          0.0           0.0             0.0        0.0  Air Force   \n",
       "\n",
       "   Season  \n",
       "0    2015  \n",
       "1    2015  \n",
       "2    2015  \n",
       "3    2015  \n",
       "4    2015  "
      ]
     },
     "execution_count": 13,
     "metadata": {},
     "output_type": "execute_result"
    }
   ],
   "source": [
    "# Export the above query to a new df\n",
    "tenniest_teams_query = \"\"\"\n",
    "SELECT \n",
    "    SUM(r.vt_score = 10.0) AS 'Vault',\n",
    "    SUM(r.ub_score = 10.0) AS 'Uneven Bars',\n",
    "    SUM(r.bb_score = 10.0) AS 'Balance Beam',\n",
    "    SUM(r.fx_score = 10.0) AS 'Floor Exercise',\n",
    "    SUM(r.vt_score = 10.0) + SUM(r.ub_score = 10.0) + SUM(r.bb_score = 10.0) + SUM(r.fx_score = 10.0) AS 'Total 10s',\n",
    "    g.team_id AS 'team_id',\n",
    "    t.team_name AS 'Team',\n",
    "    m.year AS 'Season'\n",
    "FROM gymnast_results AS r\n",
    "LEFT JOIN gymnasts AS g\n",
    "ON g.gymnast_id = r.gymnast_id\n",
    "LEFT JOIN teams as t\n",
    "ON t.team_id = g.team_id\n",
    "LEFT JOIN meets as m\n",
    "ON m.meet_id = r.meet_id\n",
    "GROUP BY t.team_name, r.meet_id;\n",
    "\"\"\"\n",
    "\n",
    "# Execute the query and store the result in a DataFrame\n",
    "tenniest_teams_df = pd.read_sql_query(tenniest_teams_query, engine)\n",
    "\n",
    "# Drop the now irrelevant team_id column\n",
    "tenniest_teams_df = tenniest_teams_df.drop(columns=['team_id'])\n",
    "\n",
    "# Preview the df\n",
    "tenniest_teams_df.head()"
   ]
  },
  {
   "cell_type": "markdown",
   "metadata": {},
   "source": [
    "### 2.2.3 Prepare the data for plotting\n",
    "\n",
    "I'd like to ignore any team that has never gotten a 10, and then create some visualisations that tell me:\n",
    "\n",
    "- Which teams have gotten the most tens in total over the past 10 years\n",
    "- Which teams have dominated (in terms of number of 10s earned) across each apparatus\n",
    "- How these two analyses have changed over the past 10 years."
   ]
  },
  {
   "cell_type": "code",
   "execution_count": 14,
   "metadata": {},
   "outputs": [
    {
     "data": {
      "text/html": [
       "<div>\n",
       "<style scoped>\n",
       "    .dataframe tbody tr th:only-of-type {\n",
       "        vertical-align: middle;\n",
       "    }\n",
       "\n",
       "    .dataframe tbody tr th {\n",
       "        vertical-align: top;\n",
       "    }\n",
       "\n",
       "    .dataframe thead th {\n",
       "        text-align: right;\n",
       "    }\n",
       "</style>\n",
       "<table border=\"1\" class=\"dataframe\">\n",
       "  <thead>\n",
       "    <tr style=\"text-align: right;\">\n",
       "      <th></th>\n",
       "      <th>Team</th>\n",
       "      <th>Vault</th>\n",
       "      <th>Uneven Bars</th>\n",
       "      <th>Balance Beam</th>\n",
       "      <th>Floor Exercise</th>\n",
       "      <th>Total 10s</th>\n",
       "    </tr>\n",
       "  </thead>\n",
       "  <tbody>\n",
       "    <tr>\n",
       "      <th>0</th>\n",
       "      <td>Air Force</td>\n",
       "      <td>0.0</td>\n",
       "      <td>0.0</td>\n",
       "      <td>0.0</td>\n",
       "      <td>0.0</td>\n",
       "      <td>0.0</td>\n",
       "    </tr>\n",
       "    <tr>\n",
       "      <th>1</th>\n",
       "      <td>Alabama</td>\n",
       "      <td>8.0</td>\n",
       "      <td>12.0</td>\n",
       "      <td>18.0</td>\n",
       "      <td>6.0</td>\n",
       "      <td>44.0</td>\n",
       "    </tr>\n",
       "    <tr>\n",
       "      <th>2</th>\n",
       "      <td>Alaska</td>\n",
       "      <td>0.0</td>\n",
       "      <td>0.0</td>\n",
       "      <td>0.0</td>\n",
       "      <td>0.0</td>\n",
       "      <td>0.0</td>\n",
       "    </tr>\n",
       "    <tr>\n",
       "      <th>3</th>\n",
       "      <td>Arizona</td>\n",
       "      <td>0.0</td>\n",
       "      <td>0.0</td>\n",
       "      <td>0.0</td>\n",
       "      <td>0.0</td>\n",
       "      <td>0.0</td>\n",
       "    </tr>\n",
       "    <tr>\n",
       "      <th>4</th>\n",
       "      <td>Arizona State</td>\n",
       "      <td>0.0</td>\n",
       "      <td>0.0</td>\n",
       "      <td>0.0</td>\n",
       "      <td>0.0</td>\n",
       "      <td>0.0</td>\n",
       "    </tr>\n",
       "  </tbody>\n",
       "</table>\n",
       "</div>"
      ],
      "text/plain": [
       "            Team  Vault  Uneven Bars  Balance Beam  Floor Exercise  Total 10s\n",
       "0      Air Force    0.0          0.0           0.0             0.0        0.0\n",
       "1        Alabama    8.0         12.0          18.0             6.0       44.0\n",
       "2         Alaska    0.0          0.0           0.0             0.0        0.0\n",
       "3        Arizona    0.0          0.0           0.0             0.0        0.0\n",
       "4  Arizona State    0.0          0.0           0.0             0.0        0.0"
      ]
     },
     "execution_count": 14,
     "metadata": {},
     "output_type": "execute_result"
    }
   ],
   "source": [
    "# Let's remove the teams that have never gotten a 10\n",
    "grouped_teams_df = tenniest_teams_df.groupby(['Team']).sum().reset_index()\n",
    "\n",
    "# Any let's drop the irrelevant columns\n",
    "grouped_teams_df = grouped_teams_df.drop(columns = ['Season'])\n",
    "\n",
    "# Preview the new df\n",
    "grouped_teams_df.head()"
   ]
  },
  {
   "cell_type": "code",
   "execution_count": 15,
   "metadata": {},
   "outputs": [
    {
     "data": {
      "text/plain": [
       "(29, 6)"
      ]
     },
     "execution_count": 15,
     "metadata": {},
     "output_type": "execute_result"
    }
   ],
   "source": [
    "# Drop rows where total 10s == 0\n",
    "grouped_teams_df = grouped_teams_df[grouped_teams_df['Total 10s'] != 0]\n",
    "\n",
    "grouped_teams_df = grouped_teams_df.sort_values(by='Team', ascending=True)\n",
    "\n",
    "# Check how many we have\n",
    "grouped_teams_df.shape"
   ]
  },
  {
   "cell_type": "markdown",
   "metadata": {},
   "source": [
    "That's looking good! The `grouped_teams` DataFrame will feed the plot that analyses the Tenniest Teams of All Time*.\n",
    "\n",
    "*For the purposes of this analysis, time began in 2015.\n",
    "\n",
    "Now I need to create a longer DataFrame that can facet along the apparatus."
   ]
  },
  {
   "cell_type": "code",
   "execution_count": 16,
   "metadata": {},
   "outputs": [
    {
     "data": {
      "text/html": [
       "<div>\n",
       "<style scoped>\n",
       "    .dataframe tbody tr th:only-of-type {\n",
       "        vertical-align: middle;\n",
       "    }\n",
       "\n",
       "    .dataframe tbody tr th {\n",
       "        vertical-align: top;\n",
       "    }\n",
       "\n",
       "    .dataframe thead th {\n",
       "        text-align: right;\n",
       "    }\n",
       "</style>\n",
       "<table border=\"1\" class=\"dataframe\">\n",
       "  <thead>\n",
       "    <tr style=\"text-align: right;\">\n",
       "      <th></th>\n",
       "      <th>Team</th>\n",
       "      <th>Apparatus</th>\n",
       "      <th>No. of Tens</th>\n",
       "    </tr>\n",
       "  </thead>\n",
       "  <tbody>\n",
       "    <tr>\n",
       "      <th>0</th>\n",
       "      <td>Alabama</td>\n",
       "      <td>Vault</td>\n",
       "      <td>8.0</td>\n",
       "    </tr>\n",
       "    <tr>\n",
       "      <th>87</th>\n",
       "      <td>Alabama</td>\n",
       "      <td>Floor Exercise</td>\n",
       "      <td>6.0</td>\n",
       "    </tr>\n",
       "    <tr>\n",
       "      <th>58</th>\n",
       "      <td>Alabama</td>\n",
       "      <td>Balance Beam</td>\n",
       "      <td>18.0</td>\n",
       "    </tr>\n",
       "    <tr>\n",
       "      <th>29</th>\n",
       "      <td>Alabama</td>\n",
       "      <td>Uneven Bars</td>\n",
       "      <td>12.0</td>\n",
       "    </tr>\n",
       "    <tr>\n",
       "      <th>88</th>\n",
       "      <td>Auburn</td>\n",
       "      <td>Floor Exercise</td>\n",
       "      <td>2.0</td>\n",
       "    </tr>\n",
       "  </tbody>\n",
       "</table>\n",
       "</div>"
      ],
      "text/plain": [
       "       Team       Apparatus  No. of Tens\n",
       "0   Alabama           Vault          8.0\n",
       "87  Alabama  Floor Exercise          6.0\n",
       "58  Alabama    Balance Beam         18.0\n",
       "29  Alabama     Uneven Bars         12.0\n",
       "88   Auburn  Floor Exercise          2.0"
      ]
     },
     "execution_count": 16,
     "metadata": {},
     "output_type": "execute_result"
    }
   ],
   "source": [
    "# Melt the dataframe so that the values in the 'Vault' 'Uneven Bars' 'Balance Beam' and 'Floor Exercise' columns are all in a new column called 'Apparatus'\n",
    "tenniest_teams_per_apparatus = pd.melt(grouped_teams_df, id_vars=['Team'], value_vars=['Vault', 'Uneven Bars', 'Balance Beam', 'Floor Exercise'], var_name='Apparatus', value_name='No. of Tens')\n",
    "\n",
    "# Sort by team\n",
    "tenniest_teams_per_apparatus = tenniest_teams_per_apparatus.sort_values(by='Team', ascending=True)\n",
    "\n",
    "# Preview the df\n",
    "tenniest_teams_per_apparatus.head()"
   ]
  },
  {
   "cell_type": "markdown",
   "metadata": {},
   "source": [
    "These dataframes lose information about the Season and later on, I might like to look at Teams' performances over time."
   ]
  },
  {
   "cell_type": "code",
   "execution_count": 17,
   "metadata": {},
   "outputs": [
    {
     "data": {
      "text/html": [
       "<div>\n",
       "<style scoped>\n",
       "    .dataframe tbody tr th:only-of-type {\n",
       "        vertical-align: middle;\n",
       "    }\n",
       "\n",
       "    .dataframe tbody tr th {\n",
       "        vertical-align: top;\n",
       "    }\n",
       "\n",
       "    .dataframe thead th {\n",
       "        text-align: right;\n",
       "    }\n",
       "</style>\n",
       "<table border=\"1\" class=\"dataframe\">\n",
       "  <thead>\n",
       "    <tr style=\"text-align: right;\">\n",
       "      <th></th>\n",
       "      <th>Team</th>\n",
       "      <th>Season</th>\n",
       "      <th>Vault</th>\n",
       "      <th>Uneven Bars</th>\n",
       "      <th>Balance Beam</th>\n",
       "      <th>Floor Exercise</th>\n",
       "      <th>Total 10s</th>\n",
       "    </tr>\n",
       "  </thead>\n",
       "  <tbody>\n",
       "    <tr>\n",
       "      <th>0</th>\n",
       "      <td>Air Force</td>\n",
       "      <td>2015</td>\n",
       "      <td>0.0</td>\n",
       "      <td>0.0</td>\n",
       "      <td>0.0</td>\n",
       "      <td>0.0</td>\n",
       "      <td>0.0</td>\n",
       "    </tr>\n",
       "    <tr>\n",
       "      <th>1</th>\n",
       "      <td>Air Force</td>\n",
       "      <td>2016</td>\n",
       "      <td>0.0</td>\n",
       "      <td>0.0</td>\n",
       "      <td>0.0</td>\n",
       "      <td>0.0</td>\n",
       "      <td>0.0</td>\n",
       "    </tr>\n",
       "    <tr>\n",
       "      <th>2</th>\n",
       "      <td>Air Force</td>\n",
       "      <td>2017</td>\n",
       "      <td>0.0</td>\n",
       "      <td>0.0</td>\n",
       "      <td>0.0</td>\n",
       "      <td>0.0</td>\n",
       "      <td>0.0</td>\n",
       "    </tr>\n",
       "    <tr>\n",
       "      <th>3</th>\n",
       "      <td>Air Force</td>\n",
       "      <td>2018</td>\n",
       "      <td>0.0</td>\n",
       "      <td>0.0</td>\n",
       "      <td>0.0</td>\n",
       "      <td>0.0</td>\n",
       "      <td>0.0</td>\n",
       "    </tr>\n",
       "    <tr>\n",
       "      <th>4</th>\n",
       "      <td>Air Force</td>\n",
       "      <td>2019</td>\n",
       "      <td>0.0</td>\n",
       "      <td>0.0</td>\n",
       "      <td>0.0</td>\n",
       "      <td>0.0</td>\n",
       "      <td>0.0</td>\n",
       "    </tr>\n",
       "  </tbody>\n",
       "</table>\n",
       "</div>"
      ],
      "text/plain": [
       "        Team  Season  Vault  Uneven Bars  Balance Beam  Floor Exercise  \\\n",
       "0  Air Force    2015    0.0          0.0           0.0             0.0   \n",
       "1  Air Force    2016    0.0          0.0           0.0             0.0   \n",
       "2  Air Force    2017    0.0          0.0           0.0             0.0   \n",
       "3  Air Force    2018    0.0          0.0           0.0             0.0   \n",
       "4  Air Force    2019    0.0          0.0           0.0             0.0   \n",
       "\n",
       "   Total 10s  \n",
       "0        0.0  \n",
       "1        0.0  \n",
       "2        0.0  \n",
       "3        0.0  \n",
       "4        0.0  "
      ]
     },
     "execution_count": 17,
     "metadata": {},
     "output_type": "execute_result"
    }
   ],
   "source": [
    "# Calculate sum of number of 10s for each apparatus for each team for each season\n",
    "tenniest_teams_over_time = tenniest_teams_df.groupby(['Team', 'Season']).sum().reset_index()\n",
    "\n",
    "# Preview the df\n",
    "tenniest_teams_over_time.head()"
   ]
  },
  {
   "cell_type": "code",
   "execution_count": 18,
   "metadata": {},
   "outputs": [
    {
     "data": {
      "text/html": [
       "<div>\n",
       "<style scoped>\n",
       "    .dataframe tbody tr th:only-of-type {\n",
       "        vertical-align: middle;\n",
       "    }\n",
       "\n",
       "    .dataframe tbody tr th {\n",
       "        vertical-align: top;\n",
       "    }\n",
       "\n",
       "    .dataframe thead th {\n",
       "        text-align: right;\n",
       "    }\n",
       "</style>\n",
       "<table border=\"1\" class=\"dataframe\">\n",
       "  <thead>\n",
       "    <tr style=\"text-align: right;\">\n",
       "      <th></th>\n",
       "      <th>Team</th>\n",
       "      <th>Season</th>\n",
       "      <th>Vault</th>\n",
       "      <th>Uneven Bars</th>\n",
       "      <th>Balance Beam</th>\n",
       "      <th>Floor Exercise</th>\n",
       "      <th>Total 10s</th>\n",
       "    </tr>\n",
       "  </thead>\n",
       "  <tbody>\n",
       "    <tr>\n",
       "      <th>10</th>\n",
       "      <td>Alabama</td>\n",
       "      <td>2015</td>\n",
       "      <td>0.0</td>\n",
       "      <td>0.0</td>\n",
       "      <td>0.0</td>\n",
       "      <td>0.0</td>\n",
       "      <td>0.0</td>\n",
       "    </tr>\n",
       "    <tr>\n",
       "      <th>11</th>\n",
       "      <td>Alabama</td>\n",
       "      <td>2016</td>\n",
       "      <td>2.0</td>\n",
       "      <td>0.0</td>\n",
       "      <td>0.0</td>\n",
       "      <td>0.0</td>\n",
       "      <td>2.0</td>\n",
       "    </tr>\n",
       "    <tr>\n",
       "      <th>12</th>\n",
       "      <td>Alabama</td>\n",
       "      <td>2017</td>\n",
       "      <td>0.0</td>\n",
       "      <td>0.0</td>\n",
       "      <td>0.0</td>\n",
       "      <td>2.0</td>\n",
       "      <td>2.0</td>\n",
       "    </tr>\n",
       "    <tr>\n",
       "      <th>13</th>\n",
       "      <td>Alabama</td>\n",
       "      <td>2018</td>\n",
       "      <td>0.0</td>\n",
       "      <td>0.0</td>\n",
       "      <td>0.0</td>\n",
       "      <td>0.0</td>\n",
       "      <td>0.0</td>\n",
       "    </tr>\n",
       "    <tr>\n",
       "      <th>14</th>\n",
       "      <td>Alabama</td>\n",
       "      <td>2019</td>\n",
       "      <td>0.0</td>\n",
       "      <td>0.0</td>\n",
       "      <td>0.0</td>\n",
       "      <td>0.0</td>\n",
       "      <td>0.0</td>\n",
       "    </tr>\n",
       "  </tbody>\n",
       "</table>\n",
       "</div>"
      ],
      "text/plain": [
       "       Team  Season  Vault  Uneven Bars  Balance Beam  Floor Exercise  \\\n",
       "10  Alabama    2015    0.0          0.0           0.0             0.0   \n",
       "11  Alabama    2016    2.0          0.0           0.0             0.0   \n",
       "12  Alabama    2017    0.0          0.0           0.0             2.0   \n",
       "13  Alabama    2018    0.0          0.0           0.0             0.0   \n",
       "14  Alabama    2019    0.0          0.0           0.0             0.0   \n",
       "\n",
       "    Total 10s  \n",
       "10        0.0  \n",
       "11        2.0  \n",
       "12        2.0  \n",
       "13        0.0  \n",
       "14        0.0  "
      ]
     },
     "execution_count": 18,
     "metadata": {},
     "output_type": "execute_result"
    }
   ],
   "source": [
    "# Remove the teams that have never received a 10 (these have already been filtered out in the grouped_df)\n",
    "teams = grouped_teams_df['Team'].tolist()\n",
    "\n",
    "# Delete entries if Team is in teams\n",
    "tenniest_teams_over_time = tenniest_teams_over_time[tenniest_teams_over_time['Team'].isin(teams)]\n",
    "\n",
    "# Preview the df\n",
    "tenniest_teams_over_time.head()"
   ]
  },
  {
   "cell_type": "code",
   "execution_count": 19,
   "metadata": {},
   "outputs": [
    {
     "data": {
      "text/html": [
       "<div>\n",
       "<style scoped>\n",
       "    .dataframe tbody tr th:only-of-type {\n",
       "        vertical-align: middle;\n",
       "    }\n",
       "\n",
       "    .dataframe tbody tr th {\n",
       "        vertical-align: top;\n",
       "    }\n",
       "\n",
       "    .dataframe thead th {\n",
       "        text-align: right;\n",
       "    }\n",
       "</style>\n",
       "<table border=\"1\" class=\"dataframe\">\n",
       "  <thead>\n",
       "    <tr style=\"text-align: right;\">\n",
       "      <th></th>\n",
       "      <th>Season</th>\n",
       "      <th>Team</th>\n",
       "      <th>Apparatus</th>\n",
       "      <th>No. of 10s</th>\n",
       "    </tr>\n",
       "  </thead>\n",
       "  <tbody>\n",
       "    <tr>\n",
       "      <th>0</th>\n",
       "      <td>2015</td>\n",
       "      <td>Alabama</td>\n",
       "      <td>Vault</td>\n",
       "      <td>0.0</td>\n",
       "    </tr>\n",
       "    <tr>\n",
       "      <th>1</th>\n",
       "      <td>2016</td>\n",
       "      <td>Alabama</td>\n",
       "      <td>Vault</td>\n",
       "      <td>2.0</td>\n",
       "    </tr>\n",
       "    <tr>\n",
       "      <th>2</th>\n",
       "      <td>2017</td>\n",
       "      <td>Alabama</td>\n",
       "      <td>Vault</td>\n",
       "      <td>0.0</td>\n",
       "    </tr>\n",
       "    <tr>\n",
       "      <th>3</th>\n",
       "      <td>2018</td>\n",
       "      <td>Alabama</td>\n",
       "      <td>Vault</td>\n",
       "      <td>0.0</td>\n",
       "    </tr>\n",
       "    <tr>\n",
       "      <th>4</th>\n",
       "      <td>2019</td>\n",
       "      <td>Alabama</td>\n",
       "      <td>Vault</td>\n",
       "      <td>0.0</td>\n",
       "    </tr>\n",
       "    <tr>\n",
       "      <th>...</th>\n",
       "      <td>...</td>\n",
       "      <td>...</td>\n",
       "      <td>...</td>\n",
       "      <td>...</td>\n",
       "    </tr>\n",
       "    <tr>\n",
       "      <th>1440</th>\n",
       "      <td>2020</td>\n",
       "      <td>Washington</td>\n",
       "      <td>Total</td>\n",
       "      <td>4.0</td>\n",
       "    </tr>\n",
       "    <tr>\n",
       "      <th>1441</th>\n",
       "      <td>2021</td>\n",
       "      <td>Washington</td>\n",
       "      <td>Total</td>\n",
       "      <td>0.0</td>\n",
       "    </tr>\n",
       "    <tr>\n",
       "      <th>1442</th>\n",
       "      <td>2022</td>\n",
       "      <td>Washington</td>\n",
       "      <td>Total</td>\n",
       "      <td>0.0</td>\n",
       "    </tr>\n",
       "    <tr>\n",
       "      <th>1443</th>\n",
       "      <td>2023</td>\n",
       "      <td>Washington</td>\n",
       "      <td>Total</td>\n",
       "      <td>0.0</td>\n",
       "    </tr>\n",
       "    <tr>\n",
       "      <th>1444</th>\n",
       "      <td>2024</td>\n",
       "      <td>Washington</td>\n",
       "      <td>Total</td>\n",
       "      <td>0.0</td>\n",
       "    </tr>\n",
       "  </tbody>\n",
       "</table>\n",
       "<p>1445 rows × 4 columns</p>\n",
       "</div>"
      ],
      "text/plain": [
       "      Season        Team Apparatus  No. of 10s\n",
       "0       2015     Alabama     Vault         0.0\n",
       "1       2016     Alabama     Vault         2.0\n",
       "2       2017     Alabama     Vault         0.0\n",
       "3       2018     Alabama     Vault         0.0\n",
       "4       2019     Alabama     Vault         0.0\n",
       "...      ...         ...       ...         ...\n",
       "1440    2020  Washington     Total         4.0\n",
       "1441    2021  Washington     Total         0.0\n",
       "1442    2022  Washington     Total         0.0\n",
       "1443    2023  Washington     Total         0.0\n",
       "1444    2024  Washington     Total         0.0\n",
       "\n",
       "[1445 rows x 4 columns]"
      ]
     },
     "execution_count": 19,
     "metadata": {},
     "output_type": "execute_result"
    }
   ],
   "source": [
    "# Melt this df for easier analysis\n",
    "tenniest_teams_over_time = tenniest_teams_over_time.melt(id_vars=[\"Season\", \"Team\"], value_vars=[\"Vault\", \"Uneven Bars\", \"Balance Beam\", \"Floor Exercise\", \"Total 10s\"], var_name=\"Apparatus\", value_name=\"No. of 10s\")\n",
    "\n",
    "# Update rows that say \"Total 10s\" to say \"Total\"\n",
    "tenniest_teams_over_time['Apparatus'] = tenniest_teams_over_time['Apparatus'].replace('Total 10s', 'Total')\n",
    "\n",
    "tenniest_teams_over_time"
   ]
  },
  {
   "cell_type": "markdown",
   "metadata": {},
   "source": [
    "### 2.2.4 Prepare the plots"
   ]
  },
  {
   "cell_type": "code",
   "execution_count": 20,
   "metadata": {},
   "outputs": [
    {
     "data": {
      "text/html": [
       "   <div id=\"8BMyTO\"></div>\n",
       "   <script type=\"text/javascript\" data-lets-plot-script=\"plot\">\n",
       "       (function() {\n",
       "           var plotSpec={\n",
       "\"data\":{\n",
       "\"Team\":[\"Alabama\",\"Auburn\",\"Ball State\",\"Boise State\",\"California\",\"Denver\",\"Florida\",\"Georgia\",\"Illinois\",\"Iowa State\",\"Kent State\",\"Kentucky\",\"LSU\",\"Michigan\",\"Michigan State\",\"Minnesota\",\"Missouri\",\"Nebraska\",\"New Hampshire\",\"Oklahoma\",\"Oregon State\",\"Penn State\",\"S.E. Missouri\",\"Southern Conn.\",\"Southern Utah\",\"Stanford\",\"UCLA\",\"Utah\",\"Washington\"],\n",
       "\"Total 10s\":[44.0,34.0,12.0,18.0,28.0,52.0,211.0,11.0,5.0,8.0,4.0,14.0,170.0,89.0,16.0,74.0,12.0,6.0,4.0,259.0,48.0,4.0,4.0,4.0,2.0,32.0,217.0,180.0,4.0]\n",
       "},\n",
       "\"mapping\":{\n",
       "},\n",
       "\"data_meta\":{\n",
       "},\n",
       "\"ggtitle\":{\n",
       "\"text\":\"Which team has had the most number of 10s?\"\n",
       "},\n",
       "\"theme\":{\n",
       "\"axis_title\":{\n",
       "\"family\":\"Helvetica\",\n",
       "\"size\":12.0,\n",
       "\"blank\":false\n",
       "},\n",
       "\"axis_text\":{\n",
       "\"family\":\"Helvetica\",\n",
       "\"size\":12.0,\n",
       "\"blank\":false\n",
       "},\n",
       "\"legend_text\":{\n",
       "\"family\":\"Helvetica\",\n",
       "\"size\":10.0,\n",
       "\"blank\":false\n",
       "},\n",
       "\"legend_title\":{\n",
       "\"family\":\"Helvetica\",\n",
       "\"size\":12.0,\n",
       "\"blank\":false\n",
       "},\n",
       "\"legend_position\":\"bottom\"\n",
       "},\n",
       "\"ggsize\":{\n",
       "\"width\":1200.0,\n",
       "\"height\":1200.0\n",
       "},\n",
       "\"kind\":\"plot\",\n",
       "\"scales\":[{\n",
       "\"aesthetic\":\"fill\",\n",
       "\"scale_mapper_kind\":\"color_cmap\"\n",
       "}],\n",
       "\"layers\":[{\n",
       "\"geom\":\"bar\",\n",
       "\"stat\":\"identity\",\n",
       "\"mapping\":{\n",
       "\"x\":\"Total 10s\",\n",
       "\"y\":\"Team\",\n",
       "\"fill\":\"Total 10s\"\n",
       "},\n",
       "\"tooltips\":{\n",
       "\"formats\":[{\n",
       "\"field\":\"@|<b>{}</b>\",\n",
       "\"format\":\"@|{}\"\n",
       "}],\n",
       "\"lines\":[\"@|@Team\",\"Total 10s|@{Total 10s}\"]\n",
       "},\n",
       "\"data_meta\":{\n",
       "},\n",
       "\"alpha\":0.8,\n",
       "\"orientation\":\"y\",\n",
       "\"data\":{\n",
       "}\n",
       "}],\n",
       "\"metainfo_list\":[]\n",
       "};\n",
       "           var plotContainer = document.getElementById(\"8BMyTO\");\n",
       "           window.letsPlotCall(function() {{\n",
       "               LetsPlot.buildPlotFromProcessedSpecs(plotSpec, -1, -1, plotContainer);\n",
       "           }});\n",
       "       })();\n",
       "   </script>"
      ],
      "text/plain": [
       "<lets_plot.plot.core.PlotSpec at 0x1285fb950>"
      ]
     },
     "execution_count": 20,
     "metadata": {},
     "output_type": "execute_result"
    }
   ],
   "source": [
    "# A bar chart showing the aggregated number of 10s per apparatus across the years\n",
    "# Sort the df\n",
    "\n",
    "tenniest_teams_ever = (\n",
    "    ggplot(grouped_teams_df) +\n",
    "    geom_bar(aes(x='Total 10s', y='Team', fill='Total 10s'), \n",
    "            tooltips=layer_tooltips()\n",
    "            .line(('@|@Team'))\n",
    "            .line(('Total 10s|@{Total 10s}'))\n",
    "            .format('@|<b>{}</b>', '@|{}'),\n",
    "            stat='identity', alpha=0.8) +\n",
    "    ggtitle('Which team has had the most number of 10s?') +\n",
    "    scale_fill_viridis() +\n",
    "    theme(\n",
    "        axis_title=element_text(size=12, family='Helvetica'),\n",
    "        axis_text=element_text(size=12, family='Helvetica'),\n",
    "        legend_position='bottom',\n",
    "        legend_title=element_text(size=12, family='Helvetica'),\n",
    "        legend_text=element_text(size=10, family='Helvetica')\n",
    "    ) +\n",
    "    ggsize(1200, 1200)\n",
    ")\n",
    "\n",
    "\n",
    "# Export the plot to html file\n",
    "ggsave(tenniest_teams_ever, \"../docs/figures/tenniest_teams_ever.html\")\n",
    "\n",
    "# Show the plot\n",
    "tenniest_teams_ever"
   ]
  },
  {
   "cell_type": "code",
   "execution_count": 21,
   "metadata": {},
   "outputs": [
    {
     "data": {
      "text/html": [
       "   <div id=\"pTrd5h\"></div>\n",
       "   <script type=\"text/javascript\" data-lets-plot-script=\"plot\">\n",
       "       (function() {\n",
       "           var plotSpec={\n",
       "\"data\":{\n",
       "\"Team\":[\"Alabama\",\"Alabama\",\"Alabama\",\"Alabama\",\"Auburn\",\"Auburn\",\"Auburn\",\"Auburn\",\"Ball State\",\"Ball State\",\"Ball State\",\"Ball State\",\"Boise State\",\"Boise State\",\"Boise State\",\"Boise State\",\"California\",\"California\",\"California\",\"California\",\"Denver\",\"Denver\",\"Denver\",\"Denver\",\"Florida\",\"Florida\",\"Florida\",\"Florida\",\"Georgia\",\"Georgia\",\"Georgia\",\"Georgia\",\"Illinois\",\"Illinois\",\"Illinois\",\"Illinois\",\"Iowa State\",\"Iowa State\",\"Iowa State\",\"Iowa State\",\"Kent State\",\"Kent State\",\"Kent State\",\"Kent State\",\"Kentucky\",\"Kentucky\",\"Kentucky\",\"Kentucky\",\"LSU\",\"LSU\",\"LSU\",\"LSU\",\"Michigan\",\"Michigan\",\"Michigan\",\"Michigan\",\"Michigan State\",\"Michigan State\",\"Michigan State\",\"Michigan State\",\"Minnesota\",\"Minnesota\",\"Minnesota\",\"Minnesota\",\"Missouri\",\"Missouri\",\"Missouri\",\"Missouri\",\"Nebraska\",\"Nebraska\",\"Nebraska\",\"Nebraska\",\"New Hampshire\",\"New Hampshire\",\"New Hampshire\",\"New Hampshire\",\"Oklahoma\",\"Oklahoma\",\"Oklahoma\",\"Oklahoma\",\"Oregon State\",\"Oregon State\",\"Oregon State\",\"Oregon State\",\"Penn State\",\"Penn State\",\"Penn State\",\"Penn State\",\"S.E. Missouri\",\"S.E. Missouri\",\"S.E. Missouri\",\"S.E. Missouri\",\"Southern Conn.\",\"Southern Conn.\",\"Southern Conn.\",\"Southern Conn.\",\"Southern Utah\",\"Southern Utah\",\"Southern Utah\",\"Southern Utah\",\"Stanford\",\"Stanford\",\"Stanford\",\"Stanford\",\"UCLA\",\"UCLA\",\"UCLA\",\"UCLA\",\"Utah\",\"Utah\",\"Utah\",\"Utah\",\"Washington\",\"Washington\",\"Washington\",\"Washington\"],\n",
       "\"Apparatus\":[\"Vault\",\"Floor Exercise\",\"Balance Beam\",\"Uneven Bars\",\"Floor Exercise\",\"Balance Beam\",\"Vault\",\"Uneven Bars\",\"Uneven Bars\",\"Balance Beam\",\"Floor Exercise\",\"Vault\",\"Vault\",\"Balance Beam\",\"Floor Exercise\",\"Uneven Bars\",\"Balance Beam\",\"Uneven Bars\",\"Floor Exercise\",\"Vault\",\"Balance Beam\",\"Floor Exercise\",\"Uneven Bars\",\"Vault\",\"Floor Exercise\",\"Uneven Bars\",\"Vault\",\"Balance Beam\",\"Vault\",\"Floor Exercise\",\"Uneven Bars\",\"Balance Beam\",\"Balance Beam\",\"Uneven Bars\",\"Floor Exercise\",\"Vault\",\"Vault\",\"Uneven Bars\",\"Floor Exercise\",\"Balance Beam\",\"Uneven Bars\",\"Balance Beam\",\"Floor Exercise\",\"Vault\",\"Uneven Bars\",\"Floor Exercise\",\"Balance Beam\",\"Vault\",\"Vault\",\"Balance Beam\",\"Uneven Bars\",\"Floor Exercise\",\"Vault\",\"Floor Exercise\",\"Uneven Bars\",\"Balance Beam\",\"Floor Exercise\",\"Balance Beam\",\"Vault\",\"Uneven Bars\",\"Vault\",\"Uneven Bars\",\"Floor Exercise\",\"Balance Beam\",\"Vault\",\"Balance Beam\",\"Floor Exercise\",\"Uneven Bars\",\"Balance Beam\",\"Uneven Bars\",\"Vault\",\"Floor Exercise\",\"Balance Beam\",\"Uneven Bars\",\"Vault\",\"Floor Exercise\",\"Uneven Bars\",\"Floor Exercise\",\"Balance Beam\",\"Vault\",\"Balance Beam\",\"Floor Exercise\",\"Vault\",\"Uneven Bars\",\"Balance Beam\",\"Vault\",\"Floor Exercise\",\"Uneven Bars\",\"Balance Beam\",\"Vault\",\"Uneven Bars\",\"Floor Exercise\",\"Uneven Bars\",\"Balance Beam\",\"Floor Exercise\",\"Vault\",\"Floor Exercise\",\"Balance Beam\",\"Uneven Bars\",\"Vault\",\"Balance Beam\",\"Uneven Bars\",\"Vault\",\"Floor Exercise\",\"Balance Beam\",\"Floor Exercise\",\"Vault\",\"Uneven Bars\",\"Balance Beam\",\"Floor Exercise\",\"Uneven Bars\",\"Vault\",\"Uneven Bars\",\"Vault\",\"Balance Beam\",\"Floor Exercise\"],\n",
       "\"No. of Tens\":[8.0,6.0,18.0,12.0,2.0,18.0,0.0,14.0,8.0,0.0,0.0,4.0,16.0,0.0,0.0,2.0,12.0,2.0,6.0,8.0,8.0,29.0,8.0,7.0,75.0,81.0,26.0,29.0,3.0,2.0,6.0,0.0,5.0,0.0,0.0,0.0,6.0,0.0,2.0,0.0,0.0,0.0,4.0,0.0,2.0,8.0,0.0,4.0,58.0,22.0,22.0,68.0,47.0,28.0,0.0,14.0,2.0,0.0,11.0,3.0,32.0,0.0,24.0,18.0,2.0,2.0,4.0,6.0,0.0,0.0,6.0,0.0,4.0,0.0,0.0,0.0,72.0,26.0,95.0,66.0,2.0,30.0,10.0,8.0,0.0,0.0,0.0,4.0,0.0,0.0,4.0,0.0,4.0,0.0,0.0,0.0,0.0,2.0,0.0,0.0,2.0,20.0,2.0,8.0,52.0,56.0,32.0,77.0,92.0,20.0,37.0,31.0,0.0,0.0,4.0,0.0]\n",
       "},\n",
       "\"mapping\":{\n",
       "},\n",
       "\"data_meta\":{\n",
       "},\n",
       "\"facet\":{\n",
       "\"name\":\"wrap\",\n",
       "\"facets\":\"Apparatus\",\n",
       "\"order\":1.0,\n",
       "\"dir\":\"h\"\n",
       "},\n",
       "\"ggtitle\":{\n",
       "\"text\":\"Total Number of 10s by Team and Apparatus\"\n",
       "},\n",
       "\"theme\":{\n",
       "\"axis_title\":{\n",
       "\"family\":\"Helvetica\",\n",
       "\"size\":12.0,\n",
       "\"blank\":false\n",
       "},\n",
       "\"axis_text\":{\n",
       "\"family\":\"Helvetica\",\n",
       "\"size\":12.0,\n",
       "\"blank\":false\n",
       "},\n",
       "\"legend_text\":{\n",
       "\"family\":\"Helvetica\",\n",
       "\"size\":10.0,\n",
       "\"blank\":false\n",
       "},\n",
       "\"legend_title\":{\n",
       "\"family\":\"Helvetica\",\n",
       "\"size\":12.0,\n",
       "\"blank\":false\n",
       "},\n",
       "\"legend_position\":\"bottom\"\n",
       "},\n",
       "\"ggsize\":{\n",
       "\"width\":1200.0,\n",
       "\"height\":1800.0\n",
       "},\n",
       "\"kind\":\"plot\",\n",
       "\"scales\":[{\n",
       "\"aesthetic\":\"fill\",\n",
       "\"scale_mapper_kind\":\"color_cmap\"\n",
       "}],\n",
       "\"layers\":[{\n",
       "\"geom\":\"bar\",\n",
       "\"stat\":\"identity\",\n",
       "\"mapping\":{\n",
       "\"x\":\"No. of Tens\",\n",
       "\"y\":\"Team\",\n",
       "\"fill\":\"No. of Tens\"\n",
       "},\n",
       "\"tooltips\":{\n",
       "\"formats\":[{\n",
       "\"field\":\"@|<b>{}</b>\",\n",
       "\"format\":\"@|{}\"\n",
       "}],\n",
       "\"lines\":[\"@|@Team\",\"Total 10s|@{No. of Tens}\",\"@|@Apparatus\"]\n",
       "},\n",
       "\"data_meta\":{\n",
       "},\n",
       "\"alpha\":0.8,\n",
       "\"orientation\":\"y\",\n",
       "\"data\":{\n",
       "}\n",
       "}],\n",
       "\"metainfo_list\":[]\n",
       "};\n",
       "           var plotContainer = document.getElementById(\"pTrd5h\");\n",
       "           window.letsPlotCall(function() {{\n",
       "               LetsPlot.buildPlotFromProcessedSpecs(plotSpec, -1, -1, plotContainer);\n",
       "           }});\n",
       "       })();\n",
       "   </script>"
      ],
      "text/plain": [
       "<lets_plot.plot.core.PlotSpec at 0x1285fb620>"
      ]
     },
     "execution_count": 21,
     "metadata": {},
     "output_type": "execute_result"
    }
   ],
   "source": [
    "tenniest_teams_per_event = (\n",
    "    ggplot(tenniest_teams_per_apparatus) +\n",
    "    geom_bar(aes(x=\"No. of Tens\", y=\"Team\", fill='No. of Tens'), \n",
    "            tooltips=layer_tooltips()\n",
    "            .line(('@|@Team'))\n",
    "            .line(('Total 10s|@{No. of Tens}'))\n",
    "            .line('@|@Apparatus')\n",
    "            .format('@|<b>{}</b>', '@|{}'),\n",
    "            stat='identity',\n",
    "            alpha=0.8) +\n",
    "    facet_wrap('Apparatus') +\n",
    "    ggtitle('Total Number of 10s by Team and Apparatus') +\n",
    "    scale_fill_viridis() +\n",
    "    theme(\n",
    "        axis_title=element_text(size=12, family='Helvetica'),\n",
    "        axis_text=element_text(size=12, family='Helvetica'),\n",
    "        legend_position='bottom',\n",
    "        legend_title=element_text(size=12, family='Helvetica'),\n",
    "        legend_text=element_text(size=10, family='Helvetica')\n",
    "    ) +\n",
    "    ggsize(1200, 1800)\n",
    ")\n",
    "\n",
    "# Export the plot to html file\n",
    "ggsave(tenniest_teams_per_event, \"../docs/figures/tenniest_teams_per_apparatus.html\")\n",
    "\n",
    "# Show the plot\n",
    "tenniest_teams_per_event"
   ]
  },
  {
   "cell_type": "code",
   "execution_count": 22,
   "metadata": {},
   "outputs": [],
   "source": [
    "from dash import Dash, dcc, html, Input, Output"
   ]
  },
  {
   "cell_type": "code",
   "execution_count": 23,
   "metadata": {},
   "outputs": [
    {
     "data": {
      "text/html": [
       "<div>\n",
       "<style scoped>\n",
       "    .dataframe tbody tr th:only-of-type {\n",
       "        vertical-align: middle;\n",
       "    }\n",
       "\n",
       "    .dataframe tbody tr th {\n",
       "        vertical-align: top;\n",
       "    }\n",
       "\n",
       "    .dataframe thead th {\n",
       "        text-align: right;\n",
       "    }\n",
       "</style>\n",
       "<table border=\"1\" class=\"dataframe\">\n",
       "  <thead>\n",
       "    <tr style=\"text-align: right;\">\n",
       "      <th></th>\n",
       "      <th>Season</th>\n",
       "      <th>Team</th>\n",
       "      <th>Apparatus</th>\n",
       "      <th>No. of 10s</th>\n",
       "    </tr>\n",
       "  </thead>\n",
       "  <tbody>\n",
       "    <tr>\n",
       "      <th>0</th>\n",
       "      <td>2015</td>\n",
       "      <td>Alabama</td>\n",
       "      <td>Vault</td>\n",
       "      <td>0.0</td>\n",
       "    </tr>\n",
       "    <tr>\n",
       "      <th>1</th>\n",
       "      <td>2016</td>\n",
       "      <td>Alabama</td>\n",
       "      <td>Vault</td>\n",
       "      <td>2.0</td>\n",
       "    </tr>\n",
       "    <tr>\n",
       "      <th>2</th>\n",
       "      <td>2017</td>\n",
       "      <td>Alabama</td>\n",
       "      <td>Vault</td>\n",
       "      <td>0.0</td>\n",
       "    </tr>\n",
       "    <tr>\n",
       "      <th>3</th>\n",
       "      <td>2018</td>\n",
       "      <td>Alabama</td>\n",
       "      <td>Vault</td>\n",
       "      <td>0.0</td>\n",
       "    </tr>\n",
       "    <tr>\n",
       "      <th>4</th>\n",
       "      <td>2019</td>\n",
       "      <td>Alabama</td>\n",
       "      <td>Vault</td>\n",
       "      <td>0.0</td>\n",
       "    </tr>\n",
       "  </tbody>\n",
       "</table>\n",
       "</div>"
      ],
      "text/plain": [
       "   Season     Team Apparatus  No. of 10s\n",
       "0    2015  Alabama     Vault         0.0\n",
       "1    2016  Alabama     Vault         2.0\n",
       "2    2017  Alabama     Vault         0.0\n",
       "3    2018  Alabama     Vault         0.0\n",
       "4    2019  Alabama     Vault         0.0"
      ]
     },
     "execution_count": 23,
     "metadata": {},
     "output_type": "execute_result"
    }
   ],
   "source": [
    "tenniest_teams_over_time.head()"
   ]
  },
  {
   "cell_type": "code",
   "execution_count": 27,
   "metadata": {},
   "outputs": [
    {
     "ename": "NameError",
     "evalue": "name 'dash' is not defined",
     "output_type": "error",
     "traceback": [
      "\u001b[0;31m---------------------------------------------------------------------------\u001b[0m",
      "\u001b[0;31mNameError\u001b[0m                                 Traceback (most recent call last)",
      "Cell \u001b[0;32mIn[27], line 1\u001b[0m\n\u001b[0;32m----> 1\u001b[0m app \u001b[38;5;241m=\u001b[39m \u001b[43mdash\u001b[49m\u001b[38;5;241m.\u001b[39mDash(\u001b[38;5;18m__name__\u001b[39m)\n\u001b[1;32m      3\u001b[0m app\u001b[38;5;241m.\u001b[39mlayout \u001b[38;5;241m=\u001b[39m html\u001b[38;5;241m.\u001b[39mDiv([\n\u001b[1;32m      4\u001b[0m     html\u001b[38;5;241m.\u001b[39mH4(\u001b[38;5;124m'\u001b[39m\u001b[38;5;124mNumber of 10s per apparatus, per team over time\u001b[39m\u001b[38;5;124m'\u001b[39m),\n\u001b[1;32m      5\u001b[0m     dcc\u001b[38;5;241m.\u001b[39mDropdown(\n\u001b[0;32m   (...)\u001b[0m\n\u001b[1;32m     23\u001b[0m     dcc\u001b[38;5;241m.\u001b[39mGraph(\u001b[38;5;28mid\u001b[39m\u001b[38;5;241m=\u001b[39m\u001b[38;5;124m\"\u001b[39m\u001b[38;5;124mgraph\u001b[39m\u001b[38;5;124m\"\u001b[39m)\n\u001b[1;32m     24\u001b[0m ])\n\u001b[1;32m     26\u001b[0m \u001b[38;5;129m@app\u001b[39m\u001b[38;5;241m.\u001b[39mcallback(\n\u001b[1;32m     27\u001b[0m     Output(\u001b[38;5;124m\"\u001b[39m\u001b[38;5;124mgraph\u001b[39m\u001b[38;5;124m\"\u001b[39m, \u001b[38;5;124m\"\u001b[39m\u001b[38;5;124mfigure\u001b[39m\u001b[38;5;124m\"\u001b[39m),\n\u001b[1;32m     28\u001b[0m     [Input(\u001b[38;5;124m\"\u001b[39m\u001b[38;5;124mdropdown\u001b[39m\u001b[38;5;124m\"\u001b[39m, \u001b[38;5;124m\"\u001b[39m\u001b[38;5;124mvalue\u001b[39m\u001b[38;5;124m\"\u001b[39m),\n\u001b[1;32m     29\u001b[0m      Input(\u001b[38;5;124m\"\u001b[39m\u001b[38;5;124mevent_checklist\u001b[39m\u001b[38;5;124m\"\u001b[39m, \u001b[38;5;124m\"\u001b[39m\u001b[38;5;124mvalue\u001b[39m\u001b[38;5;124m\"\u001b[39m)]\n\u001b[1;32m     30\u001b[0m )\n\u001b[1;32m     31\u001b[0m \u001b[38;5;28;01mdef\u001b[39;00m \u001b[38;5;21mupdate_graph\u001b[39m(selected_teams, selected_events):\n",
      "\u001b[0;31mNameError\u001b[0m: name 'dash' is not defined"
     ]
    }
   ],
   "source": [
    "app = dash.Dash(__name__)\n",
    "\n",
    "app.layout = html.Div([\n",
    "    html.H4('Number of 10s per apparatus, per team over time'),\n",
    "    dcc.Dropdown(\n",
    "        id=\"dropdown\",\n",
    "        options=[{\"label\": team, \"value\": team} for team in tenniest_teams_over_time[\"Team\"].unique()],\n",
    "        value=tenniest_teams_over_time[\"Team\"].unique().tolist(),  # Default to showing all teams\n",
    "        multi=True\n",
    "    ),\n",
    "    dcc.Checklist(\n",
    "        id=\"event_checklist\",\n",
    "        options=[\n",
    "            {\"label\": \"Vault\", \"value\": \"Vault\"},\n",
    "            {\"label\": \"Uneven Bars\", \"value\": \"Uneven Bars\"},\n",
    "            {\"label\": \"Balance Beam\", \"value\": \"Balance Beam\"},\n",
    "            {\"label\": \"Floor Exercise\", \"value\": \"Floor Exercise\"},\n",
    "            {\"label\": \"Total 10s\", \"value\": \"Total 10s\"}\n",
    "        ],\n",
    "        value=[\"Vault\", \"Uneven Bars\", \"Balance Beam\", \"Floor Exercise\", \"Total 10s\"],  # Default to showing all events\n",
    "        inline=True\n",
    "    ),\n",
    "    dcc.Graph(id=\"graph\")\n",
    "])\n",
    "\n",
    "@app.callback(\n",
    "    Output(\"graph\", \"figure\"),\n",
    "    [Input(\"dropdown\", \"value\"),\n",
    "     Input(\"event_checklist\", \"value\")]\n",
    ")\n",
    "def update_graph(selected_teams, selected_events):\n",
    "    filtered_df = tenniest_teams_over_time[\n",
    "        (tenniest_teams_over_time[\"Team\"].isin(selected_teams)) &\n",
    "        (tenniest_teams_over_time[\"Apparatus\"].isin(selected_events))\n",
    "    ]\n",
    "    \n",
    "    fig = px.line(filtered_df, \n",
    "                  x=\"Season\", \n",
    "                  y=\"Total 10s\", \n",
    "                  color=\"Team\",\n",
    "                  line_dash=\"Apparatus\",  # Use different line styles for each event\n",
    "                  labels={\"Total 10s\": \"Total 10s\", \"Apparatus\": \"Apparatus\"})\n",
    "    \n",
    "    # Update layout for formatting\n",
    "    fig.update_layout(\n",
    "        title='Gymnastics Scores Over the Years',\n",
    "        xaxis_title='Season',\n",
    "        yaxis_title='No. of 10s',\n",
    "        plot_bgcolor='white',  # Set background color to white\n",
    "        font=dict(\n",
    "            family=\"Helvetica\",  # Set font to Helvetica\n",
    "            size=12  # Set font size to 12 for all text\n",
    "        ),\n",
    "        legend=dict(\n",
    "            font=dict(\n",
    "                size=10  # Set font size to 10 for the legend\n",
    "            )\n",
    "        )\n",
    "    )\n",
    "    \n",
    "    # Add horizontal grid lines\n",
    "    fig.update_yaxes(showgrid=True, gridcolor='#DDDDDD')\n",
    "    \n",
    "    return fig\n",
    "\n",
    "if __name__ == '__main__':\n",
    "    app.run_server(debug=True)"
   ]
  },
  {
   "cell_type": "code",
   "execution_count": null,
   "metadata": {},
   "outputs": [],
   "source": [
    "\n",
    "# a plot that shows the tenniest teams over time\n",
    "\n",
    "# A plot that shows the tenniest teams across the apparatus\n",
    "# A plot that shows the tenniest teams, across the apparatus, over time"
   ]
  },
  {
   "cell_type": "markdown",
   "metadata": {},
   "source": [
    "# Ten of the top 10 GOATs of all time\n",
    "\n",
    "Do you think I'm only interested in 10s? Children focus on 10s. I'm interested in the truth. I'm interested in what matters. 10s are shiny, certainly, but any good person-who-can-do-basic-mathematics can see that a gymnast who gets a 10 one week and then a 5 the next week is not as useful as a gymnast that gets a 9.9 week after week.\n",
    "\n",
    "With this in mind, let's find the gymnasts who have the highest average scores across the apparatus and across the seasons.\n",
    "\n",
    "It's easy to do well if you never compete. For the purposes of this analysis, I am only interested in gymnasts who compete a minimum of 6 times over the course of the season (per apparatus). This will necessarily impact the data from the 2020 and 2021 seasons, which were impacted heavily by COVID restrictions."
   ]
  },
  {
   "cell_type": "code",
   "execution_count": null,
   "metadata": {},
   "outputs": [],
   "source": [
    "# Who got the highest average/median of all time\n",
    "# Who got the highest average/median each year\n",
    "\n",
    "# Which teams own the most goats?"
   ]
  }
 ],
 "metadata": {
  "kernelspec": {
   "display_name": "gymternet",
   "language": "python",
   "name": "python3"
  },
  "language_info": {
   "codemirror_mode": {
    "name": "ipython",
    "version": 3
   },
   "file_extension": ".py",
   "mimetype": "text/x-python",
   "name": "python",
   "nbconvert_exporter": "python",
   "pygments_lexer": "ipython3",
   "version": "3.12.4"
  }
 },
 "nbformat": 4,
 "nbformat_minor": 2
}
