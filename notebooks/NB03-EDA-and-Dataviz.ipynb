{
 "cells": [
  {
   "cell_type": "markdown",
   "metadata": {},
   "source": [
    "# What do I want to end up with?\n",
    "## Tenniest apparatus (per year + aggregated)\n",
    "## Tenniest teams (per year + aggregrated)\n",
    "## Top 10 (20?) goats of all time (by average score) (by apparatus?)\n",
    "## Bubble maps x axis year, y axis team, size = no. 10s (colour/pie apparatus if poss?)\n",
    "## Avg score over time (colour by team)"
   ]
  },
  {
   "cell_type": "markdown",
   "metadata": {},
   "source": [
    "# 1 The tenniest apparatus\n",
    "\n",
    "Which apparatus (vault, uneven bars, balance beam or floor exercise) attract the most 10s from the judges? Has it changed over time?\n",
    "\n",
    "Intuitively, one would assume that vault would attract the fewest deductions; gymnasts are only performing one skill, so there are fewer opportunities to make mistakes.\n",
    "\n",
    "However, my anecdotal observation as a watcher of college gymnastics is that the judges in this competition are fairly lenient; hesitancy on beam or short handstands on bars might not incur the deduction they would in other leagues. However, they are quite strict on landings - that is, if a gymnast doesn't perfectly stick their landing, they will incur a deduction. Given vault's landing difficulty, does this even out the advantage of having to perform fewer skills?"
   ]
  },
  {
   "cell_type": "code",
   "execution_count": 1,
   "metadata": {},
   "outputs": [
    {
     "name": "stdout",
     "output_type": "stream",
     "text": [
      "Requirement already satisfied: lets-plot==4.3.3 in /Users/jessicahyne/opt/miniconda3/envs/gymternet/lib/python3.12/site-packages (from -r ../requirements.txt (line 1)) (4.3.3)\n",
      "Requirement already satisfied: numerize==0.12 in /Users/jessicahyne/opt/miniconda3/envs/gymternet/lib/python3.12/site-packages (from -r ../requirements.txt (line 2)) (0.12)\n",
      "Requirement already satisfied: numpy<2 in /Users/jessicahyne/opt/miniconda3/envs/gymternet/lib/python3.12/site-packages (from -r ../requirements.txt (line 3)) (1.26.4)\n",
      "Requirement already satisfied: pandas==2.2.2 in /Users/jessicahyne/opt/miniconda3/envs/gymternet/lib/python3.12/site-packages (from -r ../requirements.txt (line 4)) (2.2.2)\n",
      "Requirement already satisfied: requests==2.32.3 in /Users/jessicahyne/opt/miniconda3/envs/gymternet/lib/python3.12/site-packages (from -r ../requirements.txt (line 5)) (2.32.3)\n",
      "Requirement already satisfied: Scrapy==2.11.2 in /Users/jessicahyne/opt/miniconda3/envs/gymternet/lib/python3.12/site-packages (from -r ../requirements.txt (line 6)) (2.11.2)\n",
      "Requirement already satisfied: selenium==4.22.0 in /Users/jessicahyne/opt/miniconda3/envs/gymternet/lib/python3.12/site-packages (from -r ../requirements.txt (line 7)) (4.22.0)\n",
      "Requirement already satisfied: tqdm==4.66.4 in /Users/jessicahyne/opt/miniconda3/envs/gymternet/lib/python3.12/site-packages (from -r ../requirements.txt (line 8)) (4.66.4)\n",
      "Requirement already satisfied: ipywidgets==8.1.3 in /Users/jessicahyne/opt/miniconda3/envs/gymternet/lib/python3.12/site-packages (from -r ../requirements.txt (line 9)) (8.1.3)\n",
      "Requirement already satisfied: jupysql in /Users/jessicahyne/opt/miniconda3/envs/gymternet/lib/python3.12/site-packages (from -r ../requirements.txt (line 10)) (0.10.12)\n",
      "Requirement already satisfied: sqlalchemy in /Users/jessicahyne/opt/miniconda3/envs/gymternet/lib/python3.12/site-packages (from -r ../requirements.txt (line 11)) (2.0.31)\n",
      "Requirement already satisfied: ipython-sql in /Users/jessicahyne/opt/miniconda3/envs/gymternet/lib/python3.12/site-packages (from -r ../requirements.txt (line 12)) (0.5.0)\n",
      "Requirement already satisfied: ipykernel==6.29.5 in /Users/jessicahyne/opt/miniconda3/envs/gymternet/lib/python3.12/site-packages (from -r ../requirements.txt (line 13)) (6.29.5)\n",
      "Requirement already satisfied: ipython==8.26.0 in /Users/jessicahyne/opt/miniconda3/envs/gymternet/lib/python3.12/site-packages (from -r ../requirements.txt (line 14)) (8.26.0)\n",
      "Requirement already satisfied: plotly in /Users/jessicahyne/opt/miniconda3/envs/gymternet/lib/python3.12/site-packages (from -r ../requirements.txt (line 15)) (5.23.0)\n",
      "Requirement already satisfied: pypng in /Users/jessicahyne/opt/miniconda3/envs/gymternet/lib/python3.12/site-packages (from lets-plot==4.3.3->-r ../requirements.txt (line 1)) (0.20220715.0)\n",
      "Requirement already satisfied: palettable in /Users/jessicahyne/opt/miniconda3/envs/gymternet/lib/python3.12/site-packages (from lets-plot==4.3.3->-r ../requirements.txt (line 1)) (3.3.3)\n",
      "Requirement already satisfied: python-dateutil>=2.8.2 in /Users/jessicahyne/opt/miniconda3/envs/gymternet/lib/python3.12/site-packages (from pandas==2.2.2->-r ../requirements.txt (line 4)) (2.9.0)\n",
      "Requirement already satisfied: pytz>=2020.1 in /Users/jessicahyne/opt/miniconda3/envs/gymternet/lib/python3.12/site-packages (from pandas==2.2.2->-r ../requirements.txt (line 4)) (2024.1)\n",
      "Requirement already satisfied: tzdata>=2022.7 in /Users/jessicahyne/opt/miniconda3/envs/gymternet/lib/python3.12/site-packages (from pandas==2.2.2->-r ../requirements.txt (line 4)) (2024.1)\n",
      "Requirement already satisfied: charset-normalizer<4,>=2 in /Users/jessicahyne/opt/miniconda3/envs/gymternet/lib/python3.12/site-packages (from requests==2.32.3->-r ../requirements.txt (line 5)) (3.3.2)\n",
      "Requirement already satisfied: idna<4,>=2.5 in /Users/jessicahyne/opt/miniconda3/envs/gymternet/lib/python3.12/site-packages (from requests==2.32.3->-r ../requirements.txt (line 5)) (3.7)\n",
      "Requirement already satisfied: urllib3<3,>=1.21.1 in /Users/jessicahyne/opt/miniconda3/envs/gymternet/lib/python3.12/site-packages (from requests==2.32.3->-r ../requirements.txt (line 5)) (2.2.2)\n",
      "Requirement already satisfied: certifi>=2017.4.17 in /Users/jessicahyne/opt/miniconda3/envs/gymternet/lib/python3.12/site-packages (from requests==2.32.3->-r ../requirements.txt (line 5)) (2024.7.4)\n",
      "Requirement already satisfied: Twisted>=18.9.0 in /Users/jessicahyne/opt/miniconda3/envs/gymternet/lib/python3.12/site-packages (from Scrapy==2.11.2->-r ../requirements.txt (line 6)) (24.3.0)\n",
      "Requirement already satisfied: cryptography>=36.0.0 in /Users/jessicahyne/opt/miniconda3/envs/gymternet/lib/python3.12/site-packages (from Scrapy==2.11.2->-r ../requirements.txt (line 6)) (43.0.0)\n",
      "Requirement already satisfied: cssselect>=0.9.1 in /Users/jessicahyne/opt/miniconda3/envs/gymternet/lib/python3.12/site-packages (from Scrapy==2.11.2->-r ../requirements.txt (line 6)) (1.2.0)\n",
      "Requirement already satisfied: itemloaders>=1.0.1 in /Users/jessicahyne/opt/miniconda3/envs/gymternet/lib/python3.12/site-packages (from Scrapy==2.11.2->-r ../requirements.txt (line 6)) (1.3.1)\n",
      "Requirement already satisfied: parsel>=1.5.0 in /Users/jessicahyne/opt/miniconda3/envs/gymternet/lib/python3.12/site-packages (from Scrapy==2.11.2->-r ../requirements.txt (line 6)) (1.9.1)\n",
      "Requirement already satisfied: pyOpenSSL>=21.0.0 in /Users/jessicahyne/opt/miniconda3/envs/gymternet/lib/python3.12/site-packages (from Scrapy==2.11.2->-r ../requirements.txt (line 6)) (24.2.1)\n",
      "Requirement already satisfied: queuelib>=1.4.2 in /Users/jessicahyne/opt/miniconda3/envs/gymternet/lib/python3.12/site-packages (from Scrapy==2.11.2->-r ../requirements.txt (line 6)) (1.7.0)\n",
      "Requirement already satisfied: service-identity>=18.1.0 in /Users/jessicahyne/opt/miniconda3/envs/gymternet/lib/python3.12/site-packages (from Scrapy==2.11.2->-r ../requirements.txt (line 6)) (24.1.0)\n",
      "Requirement already satisfied: w3lib>=1.17.0 in /Users/jessicahyne/opt/miniconda3/envs/gymternet/lib/python3.12/site-packages (from Scrapy==2.11.2->-r ../requirements.txt (line 6)) (2.2.1)\n",
      "Requirement already satisfied: zope.interface>=5.1.0 in /Users/jessicahyne/opt/miniconda3/envs/gymternet/lib/python3.12/site-packages (from Scrapy==2.11.2->-r ../requirements.txt (line 6)) (6.4.post2)\n",
      "Requirement already satisfied: protego>=0.1.15 in /Users/jessicahyne/opt/miniconda3/envs/gymternet/lib/python3.12/site-packages (from Scrapy==2.11.2->-r ../requirements.txt (line 6)) (0.3.1)\n",
      "Requirement already satisfied: itemadapter>=0.1.0 in /Users/jessicahyne/opt/miniconda3/envs/gymternet/lib/python3.12/site-packages (from Scrapy==2.11.2->-r ../requirements.txt (line 6)) (0.9.0)\n",
      "Requirement already satisfied: setuptools in /Users/jessicahyne/opt/miniconda3/envs/gymternet/lib/python3.12/site-packages (from Scrapy==2.11.2->-r ../requirements.txt (line 6)) (71.0.4)\n",
      "Requirement already satisfied: packaging in /Users/jessicahyne/opt/miniconda3/envs/gymternet/lib/python3.12/site-packages (from Scrapy==2.11.2->-r ../requirements.txt (line 6)) (24.1)\n",
      "Requirement already satisfied: tldextract in /Users/jessicahyne/opt/miniconda3/envs/gymternet/lib/python3.12/site-packages (from Scrapy==2.11.2->-r ../requirements.txt (line 6)) (5.1.2)\n",
      "Requirement already satisfied: lxml>=4.4.1 in /Users/jessicahyne/opt/miniconda3/envs/gymternet/lib/python3.12/site-packages (from Scrapy==2.11.2->-r ../requirements.txt (line 6)) (5.2.2)\n",
      "Requirement already satisfied: defusedxml>=0.7.1 in /Users/jessicahyne/opt/miniconda3/envs/gymternet/lib/python3.12/site-packages (from Scrapy==2.11.2->-r ../requirements.txt (line 6)) (0.7.1)\n",
      "Requirement already satisfied: PyDispatcher>=2.0.5 in /Users/jessicahyne/opt/miniconda3/envs/gymternet/lib/python3.12/site-packages (from Scrapy==2.11.2->-r ../requirements.txt (line 6)) (2.0.7)\n",
      "Requirement already satisfied: trio~=0.17 in /Users/jessicahyne/opt/miniconda3/envs/gymternet/lib/python3.12/site-packages (from selenium==4.22.0->-r ../requirements.txt (line 7)) (0.26.0)\n",
      "Requirement already satisfied: trio-websocket~=0.9 in /Users/jessicahyne/opt/miniconda3/envs/gymternet/lib/python3.12/site-packages (from selenium==4.22.0->-r ../requirements.txt (line 7)) (0.11.1)\n",
      "Requirement already satisfied: typing_extensions>=4.9.0 in /Users/jessicahyne/opt/miniconda3/envs/gymternet/lib/python3.12/site-packages (from selenium==4.22.0->-r ../requirements.txt (line 7)) (4.12.2)\n",
      "Requirement already satisfied: websocket-client>=1.8.0 in /Users/jessicahyne/opt/miniconda3/envs/gymternet/lib/python3.12/site-packages (from selenium==4.22.0->-r ../requirements.txt (line 7)) (1.8.0)\n",
      "Requirement already satisfied: comm>=0.1.3 in /Users/jessicahyne/opt/miniconda3/envs/gymternet/lib/python3.12/site-packages (from ipywidgets==8.1.3->-r ../requirements.txt (line 9)) (0.2.2)\n",
      "Requirement already satisfied: traitlets>=4.3.1 in /Users/jessicahyne/opt/miniconda3/envs/gymternet/lib/python3.12/site-packages (from ipywidgets==8.1.3->-r ../requirements.txt (line 9)) (5.14.3)\n",
      "Requirement already satisfied: widgetsnbextension~=4.0.11 in /Users/jessicahyne/opt/miniconda3/envs/gymternet/lib/python3.12/site-packages (from ipywidgets==8.1.3->-r ../requirements.txt (line 9)) (4.0.11)\n",
      "Requirement already satisfied: jupyterlab-widgets~=3.0.11 in /Users/jessicahyne/opt/miniconda3/envs/gymternet/lib/python3.12/site-packages (from ipywidgets==8.1.3->-r ../requirements.txt (line 9)) (3.0.11)\n",
      "Requirement already satisfied: appnope in /Users/jessicahyne/opt/miniconda3/envs/gymternet/lib/python3.12/site-packages (from ipykernel==6.29.5->-r ../requirements.txt (line 13)) (0.1.4)\n",
      "Requirement already satisfied: debugpy>=1.6.5 in /Users/jessicahyne/opt/miniconda3/envs/gymternet/lib/python3.12/site-packages (from ipykernel==6.29.5->-r ../requirements.txt (line 13)) (1.8.2)\n",
      "Requirement already satisfied: jupyter-client>=6.1.12 in /Users/jessicahyne/opt/miniconda3/envs/gymternet/lib/python3.12/site-packages (from ipykernel==6.29.5->-r ../requirements.txt (line 13)) (8.6.2)\n",
      "Requirement already satisfied: jupyter-core!=5.0.*,>=4.12 in /Users/jessicahyne/opt/miniconda3/envs/gymternet/lib/python3.12/site-packages (from ipykernel==6.29.5->-r ../requirements.txt (line 13)) (5.7.2)\n",
      "Requirement already satisfied: matplotlib-inline>=0.1 in /Users/jessicahyne/opt/miniconda3/envs/gymternet/lib/python3.12/site-packages (from ipykernel==6.29.5->-r ../requirements.txt (line 13)) (0.1.7)\n",
      "Requirement already satisfied: nest-asyncio in /Users/jessicahyne/opt/miniconda3/envs/gymternet/lib/python3.12/site-packages (from ipykernel==6.29.5->-r ../requirements.txt (line 13)) (1.6.0)\n",
      "Requirement already satisfied: psutil in /Users/jessicahyne/opt/miniconda3/envs/gymternet/lib/python3.12/site-packages (from ipykernel==6.29.5->-r ../requirements.txt (line 13)) (6.0.0)\n",
      "Requirement already satisfied: pyzmq>=24 in /Users/jessicahyne/opt/miniconda3/envs/gymternet/lib/python3.12/site-packages (from ipykernel==6.29.5->-r ../requirements.txt (line 13)) (26.0.3)\n",
      "Requirement already satisfied: tornado>=6.1 in /Users/jessicahyne/opt/miniconda3/envs/gymternet/lib/python3.12/site-packages (from ipykernel==6.29.5->-r ../requirements.txt (line 13)) (6.4.1)\n",
      "Requirement already satisfied: decorator in /Users/jessicahyne/opt/miniconda3/envs/gymternet/lib/python3.12/site-packages (from ipython==8.26.0->-r ../requirements.txt (line 14)) (5.1.1)\n",
      "Requirement already satisfied: jedi>=0.16 in /Users/jessicahyne/opt/miniconda3/envs/gymternet/lib/python3.12/site-packages (from ipython==8.26.0->-r ../requirements.txt (line 14)) (0.19.1)\n",
      "Requirement already satisfied: prompt-toolkit<3.1.0,>=3.0.41 in /Users/jessicahyne/opt/miniconda3/envs/gymternet/lib/python3.12/site-packages (from ipython==8.26.0->-r ../requirements.txt (line 14)) (3.0.47)\n",
      "Requirement already satisfied: pygments>=2.4.0 in /Users/jessicahyne/opt/miniconda3/envs/gymternet/lib/python3.12/site-packages (from ipython==8.26.0->-r ../requirements.txt (line 14)) (2.18.0)\n",
      "Requirement already satisfied: stack-data in /Users/jessicahyne/opt/miniconda3/envs/gymternet/lib/python3.12/site-packages (from ipython==8.26.0->-r ../requirements.txt (line 14)) (0.6.2)\n",
      "Requirement already satisfied: pexpect>4.3 in /Users/jessicahyne/opt/miniconda3/envs/gymternet/lib/python3.12/site-packages (from ipython==8.26.0->-r ../requirements.txt (line 14)) (4.9.0)\n",
      "Requirement already satisfied: prettytable in /Users/jessicahyne/opt/miniconda3/envs/gymternet/lib/python3.12/site-packages (from jupysql->-r ../requirements.txt (line 10)) (3.10.2)\n",
      "Requirement already satisfied: sqlparse in /Users/jessicahyne/opt/miniconda3/envs/gymternet/lib/python3.12/site-packages (from jupysql->-r ../requirements.txt (line 10)) (0.5.1)\n",
      "Requirement already satisfied: ipython-genutils>=0.1.0 in /Users/jessicahyne/opt/miniconda3/envs/gymternet/lib/python3.12/site-packages (from jupysql->-r ../requirements.txt (line 10)) (0.2.0)\n",
      "Requirement already satisfied: jinja2 in /Users/jessicahyne/opt/miniconda3/envs/gymternet/lib/python3.12/site-packages (from jupysql->-r ../requirements.txt (line 10)) (3.1.4)\n",
      "Requirement already satisfied: sqlglot>=11.3.7 in /Users/jessicahyne/opt/miniconda3/envs/gymternet/lib/python3.12/site-packages (from jupysql->-r ../requirements.txt (line 10)) (25.7.1)\n",
      "Requirement already satisfied: jupysql-plugin>=0.4.2 in /Users/jessicahyne/opt/miniconda3/envs/gymternet/lib/python3.12/site-packages (from jupysql->-r ../requirements.txt (line 10)) (0.4.4)\n",
      "Requirement already satisfied: ploomber-core>=0.2.7 in /Users/jessicahyne/opt/miniconda3/envs/gymternet/lib/python3.12/site-packages (from jupysql->-r ../requirements.txt (line 10)) (0.2.25)\n",
      "Requirement already satisfied: ploomber-extension in /Users/jessicahyne/opt/miniconda3/envs/gymternet/lib/python3.12/site-packages (from jupysql->-r ../requirements.txt (line 10)) (0.1.1)\n",
      "Requirement already satisfied: greenlet!=0.4.17 in /Users/jessicahyne/opt/miniconda3/envs/gymternet/lib/python3.12/site-packages (from sqlalchemy->-r ../requirements.txt (line 11)) (3.0.3)\n",
      "Requirement already satisfied: six in /Users/jessicahyne/opt/miniconda3/envs/gymternet/lib/python3.12/site-packages (from ipython-sql->-r ../requirements.txt (line 12)) (1.16.0)\n",
      "Requirement already satisfied: tenacity>=6.2.0 in /Users/jessicahyne/opt/miniconda3/envs/gymternet/lib/python3.12/site-packages (from plotly->-r ../requirements.txt (line 15)) (8.5.0)\n",
      "Requirement already satisfied: cffi>=1.12 in /Users/jessicahyne/opt/miniconda3/envs/gymternet/lib/python3.12/site-packages (from cryptography>=36.0.0->Scrapy==2.11.2->-r ../requirements.txt (line 6)) (1.16.0)\n",
      "Requirement already satisfied: jmespath>=0.9.5 in /Users/jessicahyne/opt/miniconda3/envs/gymternet/lib/python3.12/site-packages (from itemloaders>=1.0.1->Scrapy==2.11.2->-r ../requirements.txt (line 6)) (1.0.1)\n",
      "Requirement already satisfied: parso<0.9.0,>=0.8.3 in /Users/jessicahyne/opt/miniconda3/envs/gymternet/lib/python3.12/site-packages (from jedi>=0.16->ipython==8.26.0->-r ../requirements.txt (line 14)) (0.8.4)\n",
      "Requirement already satisfied: platformdirs>=2.5 in /Users/jessicahyne/opt/miniconda3/envs/gymternet/lib/python3.12/site-packages (from jupyter-core!=5.0.*,>=4.12->ipykernel==6.29.5->-r ../requirements.txt (line 13)) (4.2.2)\n",
      "Requirement already satisfied: ptyprocess>=0.5 in /Users/jessicahyne/opt/miniconda3/envs/gymternet/lib/python3.12/site-packages (from pexpect>4.3->ipython==8.26.0->-r ../requirements.txt (line 14)) (0.7.0)\n",
      "Requirement already satisfied: pyyaml in /Users/jessicahyne/opt/miniconda3/envs/gymternet/lib/python3.12/site-packages (from ploomber-core>=0.2.7->jupysql->-r ../requirements.txt (line 10)) (6.0.1)\n",
      "Requirement already satisfied: posthog in /Users/jessicahyne/opt/miniconda3/envs/gymternet/lib/python3.12/site-packages (from ploomber-core>=0.2.7->jupysql->-r ../requirements.txt (line 10)) (3.5.0)\n",
      "Requirement already satisfied: wcwidth in /Users/jessicahyne/opt/miniconda3/envs/gymternet/lib/python3.12/site-packages (from prompt-toolkit<3.1.0,>=3.0.41->ipython==8.26.0->-r ../requirements.txt (line 14)) (0.2.13)\n",
      "Requirement already satisfied: attrs>=19.1.0 in /Users/jessicahyne/opt/miniconda3/envs/gymternet/lib/python3.12/site-packages (from service-identity>=18.1.0->Scrapy==2.11.2->-r ../requirements.txt (line 6)) (23.2.0)\n",
      "Requirement already satisfied: pyasn1 in /Users/jessicahyne/opt/miniconda3/envs/gymternet/lib/python3.12/site-packages (from service-identity>=18.1.0->Scrapy==2.11.2->-r ../requirements.txt (line 6)) (0.6.0)\n",
      "Requirement already satisfied: pyasn1-modules in /Users/jessicahyne/opt/miniconda3/envs/gymternet/lib/python3.12/site-packages (from service-identity>=18.1.0->Scrapy==2.11.2->-r ../requirements.txt (line 6)) (0.4.0)\n",
      "Requirement already satisfied: sortedcontainers in /Users/jessicahyne/opt/miniconda3/envs/gymternet/lib/python3.12/site-packages (from trio~=0.17->selenium==4.22.0->-r ../requirements.txt (line 7)) (2.4.0)\n",
      "Requirement already satisfied: outcome in /Users/jessicahyne/opt/miniconda3/envs/gymternet/lib/python3.12/site-packages (from trio~=0.17->selenium==4.22.0->-r ../requirements.txt (line 7)) (1.3.0.post0)\n",
      "Requirement already satisfied: sniffio>=1.3.0 in /Users/jessicahyne/opt/miniconda3/envs/gymternet/lib/python3.12/site-packages (from trio~=0.17->selenium==4.22.0->-r ../requirements.txt (line 7)) (1.3.1)\n",
      "Requirement already satisfied: wsproto>=0.14 in /Users/jessicahyne/opt/miniconda3/envs/gymternet/lib/python3.12/site-packages (from trio-websocket~=0.9->selenium==4.22.0->-r ../requirements.txt (line 7)) (1.2.0)\n",
      "Requirement already satisfied: automat>=0.8.0 in /Users/jessicahyne/opt/miniconda3/envs/gymternet/lib/python3.12/site-packages (from Twisted>=18.9.0->Scrapy==2.11.2->-r ../requirements.txt (line 6)) (22.10.0)\n",
      "Requirement already satisfied: constantly>=15.1 in /Users/jessicahyne/opt/miniconda3/envs/gymternet/lib/python3.12/site-packages (from Twisted>=18.9.0->Scrapy==2.11.2->-r ../requirements.txt (line 6)) (23.10.4)\n",
      "Requirement already satisfied: hyperlink>=17.1.1 in /Users/jessicahyne/opt/miniconda3/envs/gymternet/lib/python3.12/site-packages (from Twisted>=18.9.0->Scrapy==2.11.2->-r ../requirements.txt (line 6)) (21.0.0)\n",
      "Requirement already satisfied: incremental>=22.10.0 in /Users/jessicahyne/opt/miniconda3/envs/gymternet/lib/python3.12/site-packages (from Twisted>=18.9.0->Scrapy==2.11.2->-r ../requirements.txt (line 6)) (24.7.0)\n",
      "Requirement already satisfied: pysocks!=1.5.7,<2.0,>=1.5.6 in /Users/jessicahyne/opt/miniconda3/envs/gymternet/lib/python3.12/site-packages (from urllib3[socks]<3,>=1.26->selenium==4.22.0->-r ../requirements.txt (line 7)) (1.7.1)\n",
      "Requirement already satisfied: MarkupSafe>=2.0 in /Users/jessicahyne/opt/miniconda3/envs/gymternet/lib/python3.12/site-packages (from jinja2->jupysql->-r ../requirements.txt (line 10)) (2.1.5)\n",
      "Requirement already satisfied: executing>=1.2.0 in /Users/jessicahyne/opt/miniconda3/envs/gymternet/lib/python3.12/site-packages (from stack-data->ipython==8.26.0->-r ../requirements.txt (line 14)) (2.0.1)\n",
      "Requirement already satisfied: asttokens>=2.1.0 in /Users/jessicahyne/opt/miniconda3/envs/gymternet/lib/python3.12/site-packages (from stack-data->ipython==8.26.0->-r ../requirements.txt (line 14)) (2.4.1)\n",
      "Requirement already satisfied: pure-eval in /Users/jessicahyne/opt/miniconda3/envs/gymternet/lib/python3.12/site-packages (from stack-data->ipython==8.26.0->-r ../requirements.txt (line 14)) (0.2.3)\n",
      "Requirement already satisfied: requests-file>=1.4 in /Users/jessicahyne/opt/miniconda3/envs/gymternet/lib/python3.12/site-packages (from tldextract->Scrapy==2.11.2->-r ../requirements.txt (line 6)) (2.1.0)\n",
      "Requirement already satisfied: filelock>=3.0.8 in /Users/jessicahyne/opt/miniconda3/envs/gymternet/lib/python3.12/site-packages (from tldextract->Scrapy==2.11.2->-r ../requirements.txt (line 6)) (3.15.4)\n",
      "Requirement already satisfied: pycparser in /Users/jessicahyne/opt/miniconda3/envs/gymternet/lib/python3.12/site-packages (from cffi>=1.12->cryptography>=36.0.0->Scrapy==2.11.2->-r ../requirements.txt (line 6)) (2.22)\n",
      "Requirement already satisfied: h11<1,>=0.9.0 in /Users/jessicahyne/opt/miniconda3/envs/gymternet/lib/python3.12/site-packages (from wsproto>=0.14->trio-websocket~=0.9->selenium==4.22.0->-r ../requirements.txt (line 7)) (0.14.0)\n",
      "Requirement already satisfied: monotonic>=1.5 in /Users/jessicahyne/opt/miniconda3/envs/gymternet/lib/python3.12/site-packages (from posthog->ploomber-core>=0.2.7->jupysql->-r ../requirements.txt (line 10)) (1.6)\n",
      "Requirement already satisfied: backoff>=1.10.0 in /Users/jessicahyne/opt/miniconda3/envs/gymternet/lib/python3.12/site-packages (from posthog->ploomber-core>=0.2.7->jupysql->-r ../requirements.txt (line 10)) (2.2.1)\n"
     ]
    }
   ],
   "source": [
    "!pip install -r ../requirements.txt"
   ]
  },
  {
   "cell_type": "code",
   "execution_count": 2,
   "metadata": {},
   "outputs": [
    {
     "data": {
      "text/html": [
       "\n",
       "            <div id=\"jgqd9z\"></div>\n",
       "            <script type=\"text/javascript\" data-lets-plot-script=\"library\">\n",
       "                if(!window.letsPlotCallQueue) {\n",
       "                    window.letsPlotCallQueue = [];\n",
       "                }; \n",
       "                window.letsPlotCall = function(f) {\n",
       "                    window.letsPlotCallQueue.push(f);\n",
       "                };\n",
       "                (function() {\n",
       "                    var script = document.createElement(\"script\");\n",
       "                    script.type = \"text/javascript\";\n",
       "                    script.src = \"https://cdn.jsdelivr.net/gh/JetBrains/lets-plot@v4.3.3/js-package/distr/lets-plot.min.js\";\n",
       "                    script.onload = function() {\n",
       "                        window.letsPlotCall = function(f) {f();};\n",
       "                        window.letsPlotCallQueue.forEach(function(f) {f();});\n",
       "                        window.letsPlotCallQueue = [];\n",
       "                        \n",
       "                    };\n",
       "                    script.onerror = function(event) {\n",
       "                        window.letsPlotCall = function(f) {};    // noop\n",
       "                        window.letsPlotCallQueue = [];\n",
       "                        var div = document.createElement(\"div\");\n",
       "                        div.style.color = 'darkred';\n",
       "                        div.textContent = 'Error loading Lets-Plot JS';\n",
       "                        document.getElementById(\"jgqd9z\").appendChild(div);\n",
       "                    };\n",
       "                    var e = document.getElementById(\"jgqd9z\");\n",
       "                    e.appendChild(script);\n",
       "                })()\n",
       "            </script>\n",
       "            "
      ]
     },
     "metadata": {},
     "output_type": "display_data"
    }
   ],
   "source": [
    "import os\n",
    "import json\n",
    "import requests\n",
    "import sqlite3\n",
    "from tqdm.notebook import tqdm, trange\n",
    "tqdm.pandas()\n",
    "import numpy as np\n",
    "import pandas as pd \n",
    "from sqlalchemy import create_engine\n",
    "from lets_plot import * # This imports all of ggplot2's functions\n",
    "LetsPlot.setup_html()\n",
    "import plotly.express as px\n",
    "\n",
    "%load_ext sql\n",
    "%config SqlMagic.autocommit=True\n",
    "\n",
    "from pprint import pprint"
   ]
  },
  {
   "cell_type": "code",
   "execution_count": 3,
   "metadata": {
    "vscode": {
     "languageId": "sql"
    }
   },
   "outputs": [
    {
     "data": {
      "text/html": [
       "<span style=\"None\">Connecting to &#x27;gymternet&#x27;</span>"
      ],
      "text/plain": [
       "Connecting to 'gymternet'"
      ]
     },
     "metadata": {},
     "output_type": "display_data"
    }
   ],
   "source": [
    "%sql sqlite:///../data/clean/gymternet.db --alias gymternet \n",
    "engine = create_engine('sqlite:///../data/clean/gymternet.db')"
   ]
  },
  {
   "cell_type": "code",
   "execution_count": 4,
   "metadata": {
    "vscode": {
     "languageId": "sql"
    }
   },
   "outputs": [
    {
     "data": {
      "text/html": [
       "<span style=\"None\">Running query in &#x27;gymternet&#x27;</span>"
      ],
      "text/plain": [
       "Running query in 'gymternet'"
      ]
     },
     "metadata": {},
     "output_type": "display_data"
    },
    {
     "data": {
      "text/html": [
       "<table>\n",
       "    <thead>\n",
       "        <tr>\n",
       "            <th>COUNT(*)</th>\n",
       "        </tr>\n",
       "    </thead>\n",
       "    <tbody>\n",
       "        <tr>\n",
       "            <td>433</td>\n",
       "        </tr>\n",
       "    </tbody>\n",
       "</table>"
      ],
      "text/plain": [
       "+----------+\n",
       "| COUNT(*) |\n",
       "+----------+\n",
       "|   433    |\n",
       "+----------+"
      ]
     },
     "execution_count": 4,
     "metadata": {},
     "output_type": "execute_result"
    }
   ],
   "source": [
    "%%sql --alias gymternet\n",
    "\n",
    "SELECT COUNT(*) FROM gymnast_results WHERE vt_score = 10.0 OR ub_score = 10.0 OR bb_score = 10.0 OR fx_score = 10.0;"
   ]
  },
  {
   "cell_type": "code",
   "execution_count": 26,
   "metadata": {
    "vscode": {
     "languageId": "sql"
    }
   },
   "outputs": [
    {
     "data": {
      "text/html": [
       "<table>\n",
       "    <thead>\n",
       "        <tr>\n",
       "            <th>Vault</th>\n",
       "            <th>Uneven Bars</th>\n",
       "            <th>Balance Beam</th>\n",
       "            <th>Floor Exercise</th>\n",
       "            <th>Season</th>\n",
       "        </tr>\n",
       "    </thead>\n",
       "    <tbody>\n",
       "        <tr>\n",
       "            <td>34</td>\n",
       "            <td>32</td>\n",
       "            <td>2</td>\n",
       "            <td>7</td>\n",
       "            <td>2015</td>\n",
       "        </tr>\n",
       "        <tr>\n",
       "            <td>12</td>\n",
       "            <td>8</td>\n",
       "            <td>16</td>\n",
       "            <td>28</td>\n",
       "            <td>2016</td>\n",
       "        </tr>\n",
       "        <tr>\n",
       "            <td>22</td>\n",
       "            <td>26</td>\n",
       "            <td>35</td>\n",
       "            <td>16</td>\n",
       "            <td>2017</td>\n",
       "        </tr>\n",
       "        <tr>\n",
       "            <td>10</td>\n",
       "            <td>51</td>\n",
       "            <td>53</td>\n",
       "            <td>24</td>\n",
       "            <td>2018</td>\n",
       "        </tr>\n",
       "        <tr>\n",
       "            <td>31</td>\n",
       "            <td>38</td>\n",
       "            <td>8</td>\n",
       "            <td>56</td>\n",
       "            <td>2019</td>\n",
       "        </tr>\n",
       "        <tr>\n",
       "            <td>28</td>\n",
       "            <td>10</td>\n",
       "            <td>32</td>\n",
       "            <td>4</td>\n",
       "            <td>2020</td>\n",
       "        </tr>\n",
       "        <tr>\n",
       "            <td>50</td>\n",
       "            <td>44</td>\n",
       "            <td>20</td>\n",
       "            <td>21</td>\n",
       "            <td>2021</td>\n",
       "        </tr>\n",
       "        <tr>\n",
       "            <td>59</td>\n",
       "            <td>46</td>\n",
       "            <td>38</td>\n",
       "            <td>77</td>\n",
       "            <td>2022</td>\n",
       "        </tr>\n",
       "        <tr>\n",
       "            <td>88</td>\n",
       "            <td>81</td>\n",
       "            <td>126</td>\n",
       "            <td>64</td>\n",
       "            <td>2023</td>\n",
       "        </tr>\n",
       "        <tr>\n",
       "            <td>45</td>\n",
       "            <td>56</td>\n",
       "            <td>69</td>\n",
       "            <td>103</td>\n",
       "            <td>2024</td>\n",
       "        </tr>\n",
       "    </tbody>\n",
       "</table>\n",
       "<span style=\"font-style:italic;text-align:center;\">Truncated to <a href=\"https://jupysql.ploomber.io/en/latest/api/configuration.html#displaylimit\">displaylimit</a> of 10.</span>"
      ],
      "text/plain": [
       "+-------+-------------+--------------+----------------+--------+\n",
       "| Vault | Uneven Bars | Balance Beam | Floor Exercise | Season |\n",
       "+-------+-------------+--------------+----------------+--------+\n",
       "|   34  |      32     |      2       |       7        |  2015  |\n",
       "|   12  |      8      |      16      |       28       |  2016  |\n",
       "|   22  |      26     |      35      |       16       |  2017  |\n",
       "|   10  |      51     |      53      |       24       |  2018  |\n",
       "|   31  |      38     |      8       |       56       |  2019  |\n",
       "|   28  |      10     |      32      |       4        |  2020  |\n",
       "|   50  |      44     |      20      |       21       |  2021  |\n",
       "|   59  |      46     |      38      |       77       |  2022  |\n",
       "|   88  |      81     |     126      |       64       |  2023  |\n",
       "|   45  |      56     |      69      |      103       |  2024  |\n",
       "+-------+-------------+--------------+----------------+--------+\n",
       "Truncated to displaylimit of 10."
      ]
     },
     "execution_count": 26,
     "metadata": {},
     "output_type": "execute_result"
    }
   ],
   "source": [
    "%%sql gymternet\n",
    "\n",
    "-- LEFT JOIN with aggregated row at the bottom\n",
    "SELECT \n",
    "    SUM(r.vt_score = 10.0) AS 'Vault',\n",
    "    SUM(r.ub_score = 10.0) AS 'Uneven Bars',\n",
    "    SUM(r.bb_score = 10.0) AS 'Balance Beam',\n",
    "    SUM(r.fx_score = 10.0) AS 'Floor Exercise',\n",
    "    m.year AS 'Season'\n",
    "FROM gymnast_results AS r\n",
    "LEFT JOIN meets AS m\n",
    "ON m.meet_id = r.meet_id\n",
    "GROUP BY m.year\n",
    "\n",
    "-- UNION ALL\n",
    "\n",
    "-- SELECT \n",
    "--     SUM(r.vt_score = 10.0) AS 'Vault',\n",
    "--     SUM(r.ub_score = 10.0) AS 'Uneven Bars',\n",
    "--     SUM(r.bb_score = 10.0) AS 'Balance Beam',\n",
    "--     SUM(r.fx_score = 10.0) AS 'Floor Exercise',\n",
    "--     SUM(r.vt_score = 10.0) + SUM(r.ub_score = 10.0) + SUM(r.bb_score = 10.0) + SUM(r.fx_score = 10.0) AS 'Total Tens',\n",
    "--     'Overall' AS 'Season'\n",
    "-- FROM gymnast_results AS r\n",
    "-- LEFT JOIN meets AS m\n",
    "-- ON m.meet_id = r.meet_id;"
   ]
  },
  {
   "cell_type": "code",
   "execution_count": 7,
   "metadata": {},
   "outputs": [
    {
     "data": {
      "text/html": [
       "<div>\n",
       "<style scoped>\n",
       "    .dataframe tbody tr th:only-of-type {\n",
       "        vertical-align: middle;\n",
       "    }\n",
       "\n",
       "    .dataframe tbody tr th {\n",
       "        vertical-align: top;\n",
       "    }\n",
       "\n",
       "    .dataframe thead th {\n",
       "        text-align: right;\n",
       "    }\n",
       "</style>\n",
       "<table border=\"1\" class=\"dataframe\">\n",
       "  <thead>\n",
       "    <tr style=\"text-align: right;\">\n",
       "      <th></th>\n",
       "      <th>Vault</th>\n",
       "      <th>Uneven Bars</th>\n",
       "      <th>Balance Beam</th>\n",
       "      <th>Floor Exercise</th>\n",
       "      <th>Season</th>\n",
       "    </tr>\n",
       "  </thead>\n",
       "  <tbody>\n",
       "    <tr>\n",
       "      <th>0</th>\n",
       "      <td>34</td>\n",
       "      <td>32</td>\n",
       "      <td>2</td>\n",
       "      <td>7</td>\n",
       "      <td>2015</td>\n",
       "    </tr>\n",
       "    <tr>\n",
       "      <th>1</th>\n",
       "      <td>12</td>\n",
       "      <td>8</td>\n",
       "      <td>16</td>\n",
       "      <td>28</td>\n",
       "      <td>2016</td>\n",
       "    </tr>\n",
       "    <tr>\n",
       "      <th>2</th>\n",
       "      <td>22</td>\n",
       "      <td>26</td>\n",
       "      <td>35</td>\n",
       "      <td>16</td>\n",
       "      <td>2017</td>\n",
       "    </tr>\n",
       "    <tr>\n",
       "      <th>3</th>\n",
       "      <td>10</td>\n",
       "      <td>51</td>\n",
       "      <td>53</td>\n",
       "      <td>24</td>\n",
       "      <td>2018</td>\n",
       "    </tr>\n",
       "    <tr>\n",
       "      <th>4</th>\n",
       "      <td>31</td>\n",
       "      <td>38</td>\n",
       "      <td>8</td>\n",
       "      <td>56</td>\n",
       "      <td>2019</td>\n",
       "    </tr>\n",
       "    <tr>\n",
       "      <th>5</th>\n",
       "      <td>28</td>\n",
       "      <td>10</td>\n",
       "      <td>32</td>\n",
       "      <td>4</td>\n",
       "      <td>2020</td>\n",
       "    </tr>\n",
       "    <tr>\n",
       "      <th>6</th>\n",
       "      <td>50</td>\n",
       "      <td>44</td>\n",
       "      <td>20</td>\n",
       "      <td>21</td>\n",
       "      <td>2021</td>\n",
       "    </tr>\n",
       "    <tr>\n",
       "      <th>7</th>\n",
       "      <td>59</td>\n",
       "      <td>46</td>\n",
       "      <td>38</td>\n",
       "      <td>77</td>\n",
       "      <td>2022</td>\n",
       "    </tr>\n",
       "    <tr>\n",
       "      <th>8</th>\n",
       "      <td>88</td>\n",
       "      <td>81</td>\n",
       "      <td>126</td>\n",
       "      <td>64</td>\n",
       "      <td>2023</td>\n",
       "    </tr>\n",
       "    <tr>\n",
       "      <th>9</th>\n",
       "      <td>45</td>\n",
       "      <td>56</td>\n",
       "      <td>69</td>\n",
       "      <td>103</td>\n",
       "      <td>2024</td>\n",
       "    </tr>\n",
       "  </tbody>\n",
       "</table>\n",
       "</div>"
      ],
      "text/plain": [
       "   Vault  Uneven Bars  Balance Beam  Floor Exercise  Season\n",
       "0     34           32             2               7    2015\n",
       "1     12            8            16              28    2016\n",
       "2     22           26            35              16    2017\n",
       "3     10           51            53              24    2018\n",
       "4     31           38             8              56    2019\n",
       "5     28           10            32               4    2020\n",
       "6     50           44            20              21    2021\n",
       "7     59           46            38              77    2022\n",
       "8     88           81           126              64    2023\n",
       "9     45           56            69             103    2024"
      ]
     },
     "execution_count": 7,
     "metadata": {},
     "output_type": "execute_result"
    }
   ],
   "source": [
    "# Export the above query to a new df\n",
    "tenniest_apparatus_query = \"\"\"\n",
    "SELECT \n",
    "    SUM(r.vt_score = 10.0) AS 'Vault',\n",
    "    SUM(r.ub_score = 10.0) AS 'Uneven Bars',\n",
    "    SUM(r.bb_score = 10.0) AS 'Balance Beam',\n",
    "    SUM(r.fx_score = 10.0) AS 'Floor Exercise',\n",
    "    m.year AS 'Season'\n",
    "FROM gymnast_results AS r\n",
    "LEFT JOIN meets AS m\n",
    "ON m.meet_id = r.meet_id\n",
    "GROUP BY m.year;\n",
    "\"\"\"\n",
    "\n",
    "# Execute the query and store the result in a DataFrame\n",
    "tenniest_apparatus_df = pd.read_sql_query(tenniest_apparatus_query, engine)\n",
    "\n",
    "# Preview the df\n",
    "tenniest_apparatus_df"
   ]
  },
  {
   "cell_type": "markdown",
   "metadata": {},
   "source": [
    "We want this table to look slightly different, so that it's easier to read by Plotly.\n",
    "\n",
    "New layout should look like:\n",
    "| **Apparatus**    | **Number of 10s** | **Season** |\n",
    "|------------------|-------------------|------------|\n",
    "| 'Vault'          | 34                | 2015       |\n",
    "| 'Uneven Bars'    | 32                | 2015       |\n",
    "| 'Balance Beam'   | 2                 | 2015       |\n",
    "| 'Floor Exercise' | 7                 | 2015       |\n",
    "| 'Total'          | 75                | 2015       |\n",
    "\n",
    "etc.\n"
   ]
  },
  {
   "cell_type": "code",
   "execution_count": 8,
   "metadata": {},
   "outputs": [
    {
     "data": {
      "text/html": [
       "<div>\n",
       "<style scoped>\n",
       "    .dataframe tbody tr th:only-of-type {\n",
       "        vertical-align: middle;\n",
       "    }\n",
       "\n",
       "    .dataframe tbody tr th {\n",
       "        vertical-align: top;\n",
       "    }\n",
       "\n",
       "    .dataframe thead th {\n",
       "        text-align: right;\n",
       "    }\n",
       "</style>\n",
       "<table border=\"1\" class=\"dataframe\">\n",
       "  <thead>\n",
       "    <tr style=\"text-align: right;\">\n",
       "      <th></th>\n",
       "      <th>Season</th>\n",
       "      <th>Apparatus</th>\n",
       "      <th>No. of Tens</th>\n",
       "    </tr>\n",
       "  </thead>\n",
       "  <tbody>\n",
       "    <tr>\n",
       "      <th>0</th>\n",
       "      <td>2015</td>\n",
       "      <td>Vault</td>\n",
       "      <td>34</td>\n",
       "    </tr>\n",
       "    <tr>\n",
       "      <th>1</th>\n",
       "      <td>2016</td>\n",
       "      <td>Vault</td>\n",
       "      <td>12</td>\n",
       "    </tr>\n",
       "    <tr>\n",
       "      <th>2</th>\n",
       "      <td>2017</td>\n",
       "      <td>Vault</td>\n",
       "      <td>22</td>\n",
       "    </tr>\n",
       "    <tr>\n",
       "      <th>3</th>\n",
       "      <td>2018</td>\n",
       "      <td>Vault</td>\n",
       "      <td>10</td>\n",
       "    </tr>\n",
       "    <tr>\n",
       "      <th>4</th>\n",
       "      <td>2019</td>\n",
       "      <td>Vault</td>\n",
       "      <td>31</td>\n",
       "    </tr>\n",
       "  </tbody>\n",
       "</table>\n",
       "</div>"
      ],
      "text/plain": [
       "   Season Apparatus  No. of Tens\n",
       "0    2015     Vault           34\n",
       "1    2016     Vault           12\n",
       "2    2017     Vault           22\n",
       "3    2018     Vault           10\n",
       "4    2019     Vault           31"
      ]
     },
     "execution_count": 8,
     "metadata": {},
     "output_type": "execute_result"
    }
   ],
   "source": [
    "# Melt the DataFrame\n",
    "tenniest_apparatus_melted = pd.melt(tenniest_apparatus_df, id_vars=['Season'], var_name='Apparatus', value_name='No. of Tens')\n",
    "\n",
    "# Preview the melted DataFrame\n",
    "tenniest_apparatus_melted.head()"
   ]
  },
  {
   "cell_type": "code",
   "execution_count": 9,
   "metadata": {},
   "outputs": [
    {
     "ename": "ValueError",
     "evalue": "Mime type rendering requires nbformat>=4.2.0 but it is not installed",
     "output_type": "error",
     "traceback": [
      "\u001b[0;31m---------------------------------------------------------------------------\u001b[0m",
      "\u001b[0;31mValueError\u001b[0m                                Traceback (most recent call last)",
      "File \u001b[0;32m~/opt/miniconda3/envs/gymternet/lib/python3.12/site-packages/IPython/core/formatters.py:925\u001b[0m, in \u001b[0;36mIPythonDisplayFormatter.__call__\u001b[0;34m(self, obj)\u001b[0m\n\u001b[1;32m    923\u001b[0m method \u001b[38;5;241m=\u001b[39m get_real_method(obj, \u001b[38;5;28mself\u001b[39m\u001b[38;5;241m.\u001b[39mprint_method)\n\u001b[1;32m    924\u001b[0m \u001b[38;5;28;01mif\u001b[39;00m method \u001b[38;5;129;01mis\u001b[39;00m \u001b[38;5;129;01mnot\u001b[39;00m \u001b[38;5;28;01mNone\u001b[39;00m:\n\u001b[0;32m--> 925\u001b[0m     \u001b[43mmethod\u001b[49m\u001b[43m(\u001b[49m\u001b[43m)\u001b[49m\n\u001b[1;32m    926\u001b[0m     \u001b[38;5;28;01mreturn\u001b[39;00m \u001b[38;5;28;01mTrue\u001b[39;00m\n",
      "File \u001b[0;32m~/opt/miniconda3/envs/gymternet/lib/python3.12/site-packages/plotly/basedatatypes.py:832\u001b[0m, in \u001b[0;36mBaseFigure._ipython_display_\u001b[0;34m(self)\u001b[0m\n\u001b[1;32m    829\u001b[0m \u001b[38;5;28;01mimport\u001b[39;00m \u001b[38;5;21;01mplotly\u001b[39;00m\u001b[38;5;21;01m.\u001b[39;00m\u001b[38;5;21;01mio\u001b[39;00m \u001b[38;5;28;01mas\u001b[39;00m \u001b[38;5;21;01mpio\u001b[39;00m\n\u001b[1;32m    831\u001b[0m \u001b[38;5;28;01mif\u001b[39;00m pio\u001b[38;5;241m.\u001b[39mrenderers\u001b[38;5;241m.\u001b[39mrender_on_display \u001b[38;5;129;01mand\u001b[39;00m pio\u001b[38;5;241m.\u001b[39mrenderers\u001b[38;5;241m.\u001b[39mdefault:\n\u001b[0;32m--> 832\u001b[0m     \u001b[43mpio\u001b[49m\u001b[38;5;241;43m.\u001b[39;49m\u001b[43mshow\u001b[49m\u001b[43m(\u001b[49m\u001b[38;5;28;43mself\u001b[39;49m\u001b[43m)\u001b[49m\n\u001b[1;32m    833\u001b[0m \u001b[38;5;28;01melse\u001b[39;00m:\n\u001b[1;32m    834\u001b[0m     \u001b[38;5;28mprint\u001b[39m(\u001b[38;5;28mrepr\u001b[39m(\u001b[38;5;28mself\u001b[39m))\n",
      "File \u001b[0;32m~/opt/miniconda3/envs/gymternet/lib/python3.12/site-packages/plotly/io/_renderers.py:394\u001b[0m, in \u001b[0;36mshow\u001b[0;34m(fig, renderer, validate, **kwargs)\u001b[0m\n\u001b[1;32m    389\u001b[0m         \u001b[38;5;28;01mraise\u001b[39;00m \u001b[38;5;167;01mValueError\u001b[39;00m(\n\u001b[1;32m    390\u001b[0m             \u001b[38;5;124m\"\u001b[39m\u001b[38;5;124mMime type rendering requires ipython but it is not installed\u001b[39m\u001b[38;5;124m\"\u001b[39m\n\u001b[1;32m    391\u001b[0m         )\n\u001b[1;32m    393\u001b[0m     \u001b[38;5;28;01mif\u001b[39;00m \u001b[38;5;129;01mnot\u001b[39;00m nbformat \u001b[38;5;129;01mor\u001b[39;00m Version(nbformat\u001b[38;5;241m.\u001b[39m__version__) \u001b[38;5;241m<\u001b[39m Version(\u001b[38;5;124m\"\u001b[39m\u001b[38;5;124m4.2.0\u001b[39m\u001b[38;5;124m\"\u001b[39m):\n\u001b[0;32m--> 394\u001b[0m         \u001b[38;5;28;01mraise\u001b[39;00m \u001b[38;5;167;01mValueError\u001b[39;00m(\n\u001b[1;32m    395\u001b[0m             \u001b[38;5;124m\"\u001b[39m\u001b[38;5;124mMime type rendering requires nbformat>=4.2.0 but it is not installed\u001b[39m\u001b[38;5;124m\"\u001b[39m\n\u001b[1;32m    396\u001b[0m         )\n\u001b[1;32m    398\u001b[0m     ipython_display\u001b[38;5;241m.\u001b[39mdisplay(bundle, raw\u001b[38;5;241m=\u001b[39m\u001b[38;5;28;01mTrue\u001b[39;00m)\n\u001b[1;32m    400\u001b[0m \u001b[38;5;66;03m# external renderers\u001b[39;00m\n",
      "\u001b[0;31mValueError\u001b[0m: Mime type rendering requires nbformat>=4.2.0 but it is not installed"
     ]
    },
    {
     "data": {
      "application/vnd.plotly.v1+json": {
       "config": {
        "plotlyServerURL": "https://plot.ly"
       },
       "data": [
        {
         "alignmentgroup": "True",
         "hovertemplate": "Apparatus=%{x}<br>Season=2015<br>No. of Tens=%{y}<extra></extra>",
         "legendgroup": "Vault",
         "marker": {
          "color": "#636efa",
          "pattern": {
           "shape": ""
          }
         },
         "name": "Vault",
         "offsetgroup": "Vault",
         "orientation": "v",
         "showlegend": true,
         "textposition": "auto",
         "type": "bar",
         "x": [
          "Vault"
         ],
         "xaxis": "x10",
         "y": [
          34
         ],
         "yaxis": "y10"
        },
        {
         "alignmentgroup": "True",
         "hovertemplate": "Apparatus=%{x}<br>Season=2016<br>No. of Tens=%{y}<extra></extra>",
         "legendgroup": "Vault",
         "marker": {
          "color": "#636efa",
          "pattern": {
           "shape": ""
          }
         },
         "name": "Vault",
         "offsetgroup": "Vault",
         "orientation": "v",
         "showlegend": false,
         "textposition": "auto",
         "type": "bar",
         "x": [
          "Vault"
         ],
         "xaxis": "x9",
         "y": [
          12
         ],
         "yaxis": "y9"
        },
        {
         "alignmentgroup": "True",
         "hovertemplate": "Apparatus=%{x}<br>Season=2017<br>No. of Tens=%{y}<extra></extra>",
         "legendgroup": "Vault",
         "marker": {
          "color": "#636efa",
          "pattern": {
           "shape": ""
          }
         },
         "name": "Vault",
         "offsetgroup": "Vault",
         "orientation": "v",
         "showlegend": false,
         "textposition": "auto",
         "type": "bar",
         "x": [
          "Vault"
         ],
         "xaxis": "x8",
         "y": [
          22
         ],
         "yaxis": "y8"
        },
        {
         "alignmentgroup": "True",
         "hovertemplate": "Apparatus=%{x}<br>Season=2018<br>No. of Tens=%{y}<extra></extra>",
         "legendgroup": "Vault",
         "marker": {
          "color": "#636efa",
          "pattern": {
           "shape": ""
          }
         },
         "name": "Vault",
         "offsetgroup": "Vault",
         "orientation": "v",
         "showlegend": false,
         "textposition": "auto",
         "type": "bar",
         "x": [
          "Vault"
         ],
         "xaxis": "x7",
         "y": [
          10
         ],
         "yaxis": "y7"
        },
        {
         "alignmentgroup": "True",
         "hovertemplate": "Apparatus=%{x}<br>Season=2019<br>No. of Tens=%{y}<extra></extra>",
         "legendgroup": "Vault",
         "marker": {
          "color": "#636efa",
          "pattern": {
           "shape": ""
          }
         },
         "name": "Vault",
         "offsetgroup": "Vault",
         "orientation": "v",
         "showlegend": false,
         "textposition": "auto",
         "type": "bar",
         "x": [
          "Vault"
         ],
         "xaxis": "x6",
         "y": [
          31
         ],
         "yaxis": "y6"
        },
        {
         "alignmentgroup": "True",
         "hovertemplate": "Apparatus=%{x}<br>Season=2020<br>No. of Tens=%{y}<extra></extra>",
         "legendgroup": "Vault",
         "marker": {
          "color": "#636efa",
          "pattern": {
           "shape": ""
          }
         },
         "name": "Vault",
         "offsetgroup": "Vault",
         "orientation": "v",
         "showlegend": false,
         "textposition": "auto",
         "type": "bar",
         "x": [
          "Vault"
         ],
         "xaxis": "x5",
         "y": [
          28
         ],
         "yaxis": "y5"
        },
        {
         "alignmentgroup": "True",
         "hovertemplate": "Apparatus=%{x}<br>Season=2021<br>No. of Tens=%{y}<extra></extra>",
         "legendgroup": "Vault",
         "marker": {
          "color": "#636efa",
          "pattern": {
           "shape": ""
          }
         },
         "name": "Vault",
         "offsetgroup": "Vault",
         "orientation": "v",
         "showlegend": false,
         "textposition": "auto",
         "type": "bar",
         "x": [
          "Vault"
         ],
         "xaxis": "x4",
         "y": [
          50
         ],
         "yaxis": "y4"
        },
        {
         "alignmentgroup": "True",
         "hovertemplate": "Apparatus=%{x}<br>Season=2022<br>No. of Tens=%{y}<extra></extra>",
         "legendgroup": "Vault",
         "marker": {
          "color": "#636efa",
          "pattern": {
           "shape": ""
          }
         },
         "name": "Vault",
         "offsetgroup": "Vault",
         "orientation": "v",
         "showlegend": false,
         "textposition": "auto",
         "type": "bar",
         "x": [
          "Vault"
         ],
         "xaxis": "x3",
         "y": [
          59
         ],
         "yaxis": "y3"
        },
        {
         "alignmentgroup": "True",
         "hovertemplate": "Apparatus=%{x}<br>Season=2023<br>No. of Tens=%{y}<extra></extra>",
         "legendgroup": "Vault",
         "marker": {
          "color": "#636efa",
          "pattern": {
           "shape": ""
          }
         },
         "name": "Vault",
         "offsetgroup": "Vault",
         "orientation": "v",
         "showlegend": false,
         "textposition": "auto",
         "type": "bar",
         "x": [
          "Vault"
         ],
         "xaxis": "x2",
         "y": [
          88
         ],
         "yaxis": "y2"
        },
        {
         "alignmentgroup": "True",
         "hovertemplate": "Apparatus=%{x}<br>Season=2024<br>No. of Tens=%{y}<extra></extra>",
         "legendgroup": "Vault",
         "marker": {
          "color": "#636efa",
          "pattern": {
           "shape": ""
          }
         },
         "name": "Vault",
         "offsetgroup": "Vault",
         "orientation": "v",
         "showlegend": false,
         "textposition": "auto",
         "type": "bar",
         "x": [
          "Vault"
         ],
         "xaxis": "x",
         "y": [
          45
         ],
         "yaxis": "y"
        },
        {
         "alignmentgroup": "True",
         "hovertemplate": "Apparatus=%{x}<br>Season=2015<br>No. of Tens=%{y}<extra></extra>",
         "legendgroup": "Uneven Bars",
         "marker": {
          "color": "#EF553B",
          "pattern": {
           "shape": ""
          }
         },
         "name": "Uneven Bars",
         "offsetgroup": "Uneven Bars",
         "orientation": "v",
         "showlegend": true,
         "textposition": "auto",
         "type": "bar",
         "x": [
          "Uneven Bars"
         ],
         "xaxis": "x10",
         "y": [
          32
         ],
         "yaxis": "y10"
        },
        {
         "alignmentgroup": "True",
         "hovertemplate": "Apparatus=%{x}<br>Season=2016<br>No. of Tens=%{y}<extra></extra>",
         "legendgroup": "Uneven Bars",
         "marker": {
          "color": "#EF553B",
          "pattern": {
           "shape": ""
          }
         },
         "name": "Uneven Bars",
         "offsetgroup": "Uneven Bars",
         "orientation": "v",
         "showlegend": false,
         "textposition": "auto",
         "type": "bar",
         "x": [
          "Uneven Bars"
         ],
         "xaxis": "x9",
         "y": [
          8
         ],
         "yaxis": "y9"
        },
        {
         "alignmentgroup": "True",
         "hovertemplate": "Apparatus=%{x}<br>Season=2017<br>No. of Tens=%{y}<extra></extra>",
         "legendgroup": "Uneven Bars",
         "marker": {
          "color": "#EF553B",
          "pattern": {
           "shape": ""
          }
         },
         "name": "Uneven Bars",
         "offsetgroup": "Uneven Bars",
         "orientation": "v",
         "showlegend": false,
         "textposition": "auto",
         "type": "bar",
         "x": [
          "Uneven Bars"
         ],
         "xaxis": "x8",
         "y": [
          26
         ],
         "yaxis": "y8"
        },
        {
         "alignmentgroup": "True",
         "hovertemplate": "Apparatus=%{x}<br>Season=2018<br>No. of Tens=%{y}<extra></extra>",
         "legendgroup": "Uneven Bars",
         "marker": {
          "color": "#EF553B",
          "pattern": {
           "shape": ""
          }
         },
         "name": "Uneven Bars",
         "offsetgroup": "Uneven Bars",
         "orientation": "v",
         "showlegend": false,
         "textposition": "auto",
         "type": "bar",
         "x": [
          "Uneven Bars"
         ],
         "xaxis": "x7",
         "y": [
          51
         ],
         "yaxis": "y7"
        },
        {
         "alignmentgroup": "True",
         "hovertemplate": "Apparatus=%{x}<br>Season=2019<br>No. of Tens=%{y}<extra></extra>",
         "legendgroup": "Uneven Bars",
         "marker": {
          "color": "#EF553B",
          "pattern": {
           "shape": ""
          }
         },
         "name": "Uneven Bars",
         "offsetgroup": "Uneven Bars",
         "orientation": "v",
         "showlegend": false,
         "textposition": "auto",
         "type": "bar",
         "x": [
          "Uneven Bars"
         ],
         "xaxis": "x6",
         "y": [
          38
         ],
         "yaxis": "y6"
        },
        {
         "alignmentgroup": "True",
         "hovertemplate": "Apparatus=%{x}<br>Season=2020<br>No. of Tens=%{y}<extra></extra>",
         "legendgroup": "Uneven Bars",
         "marker": {
          "color": "#EF553B",
          "pattern": {
           "shape": ""
          }
         },
         "name": "Uneven Bars",
         "offsetgroup": "Uneven Bars",
         "orientation": "v",
         "showlegend": false,
         "textposition": "auto",
         "type": "bar",
         "x": [
          "Uneven Bars"
         ],
         "xaxis": "x5",
         "y": [
          10
         ],
         "yaxis": "y5"
        },
        {
         "alignmentgroup": "True",
         "hovertemplate": "Apparatus=%{x}<br>Season=2021<br>No. of Tens=%{y}<extra></extra>",
         "legendgroup": "Uneven Bars",
         "marker": {
          "color": "#EF553B",
          "pattern": {
           "shape": ""
          }
         },
         "name": "Uneven Bars",
         "offsetgroup": "Uneven Bars",
         "orientation": "v",
         "showlegend": false,
         "textposition": "auto",
         "type": "bar",
         "x": [
          "Uneven Bars"
         ],
         "xaxis": "x4",
         "y": [
          44
         ],
         "yaxis": "y4"
        },
        {
         "alignmentgroup": "True",
         "hovertemplate": "Apparatus=%{x}<br>Season=2022<br>No. of Tens=%{y}<extra></extra>",
         "legendgroup": "Uneven Bars",
         "marker": {
          "color": "#EF553B",
          "pattern": {
           "shape": ""
          }
         },
         "name": "Uneven Bars",
         "offsetgroup": "Uneven Bars",
         "orientation": "v",
         "showlegend": false,
         "textposition": "auto",
         "type": "bar",
         "x": [
          "Uneven Bars"
         ],
         "xaxis": "x3",
         "y": [
          46
         ],
         "yaxis": "y3"
        },
        {
         "alignmentgroup": "True",
         "hovertemplate": "Apparatus=%{x}<br>Season=2023<br>No. of Tens=%{y}<extra></extra>",
         "legendgroup": "Uneven Bars",
         "marker": {
          "color": "#EF553B",
          "pattern": {
           "shape": ""
          }
         },
         "name": "Uneven Bars",
         "offsetgroup": "Uneven Bars",
         "orientation": "v",
         "showlegend": false,
         "textposition": "auto",
         "type": "bar",
         "x": [
          "Uneven Bars"
         ],
         "xaxis": "x2",
         "y": [
          81
         ],
         "yaxis": "y2"
        },
        {
         "alignmentgroup": "True",
         "hovertemplate": "Apparatus=%{x}<br>Season=2024<br>No. of Tens=%{y}<extra></extra>",
         "legendgroup": "Uneven Bars",
         "marker": {
          "color": "#EF553B",
          "pattern": {
           "shape": ""
          }
         },
         "name": "Uneven Bars",
         "offsetgroup": "Uneven Bars",
         "orientation": "v",
         "showlegend": false,
         "textposition": "auto",
         "type": "bar",
         "x": [
          "Uneven Bars"
         ],
         "xaxis": "x",
         "y": [
          56
         ],
         "yaxis": "y"
        },
        {
         "alignmentgroup": "True",
         "hovertemplate": "Apparatus=%{x}<br>Season=2015<br>No. of Tens=%{y}<extra></extra>",
         "legendgroup": "Balance Beam",
         "marker": {
          "color": "#00cc96",
          "pattern": {
           "shape": ""
          }
         },
         "name": "Balance Beam",
         "offsetgroup": "Balance Beam",
         "orientation": "v",
         "showlegend": true,
         "textposition": "auto",
         "type": "bar",
         "x": [
          "Balance Beam"
         ],
         "xaxis": "x10",
         "y": [
          2
         ],
         "yaxis": "y10"
        },
        {
         "alignmentgroup": "True",
         "hovertemplate": "Apparatus=%{x}<br>Season=2016<br>No. of Tens=%{y}<extra></extra>",
         "legendgroup": "Balance Beam",
         "marker": {
          "color": "#00cc96",
          "pattern": {
           "shape": ""
          }
         },
         "name": "Balance Beam",
         "offsetgroup": "Balance Beam",
         "orientation": "v",
         "showlegend": false,
         "textposition": "auto",
         "type": "bar",
         "x": [
          "Balance Beam"
         ],
         "xaxis": "x9",
         "y": [
          16
         ],
         "yaxis": "y9"
        },
        {
         "alignmentgroup": "True",
         "hovertemplate": "Apparatus=%{x}<br>Season=2017<br>No. of Tens=%{y}<extra></extra>",
         "legendgroup": "Balance Beam",
         "marker": {
          "color": "#00cc96",
          "pattern": {
           "shape": ""
          }
         },
         "name": "Balance Beam",
         "offsetgroup": "Balance Beam",
         "orientation": "v",
         "showlegend": false,
         "textposition": "auto",
         "type": "bar",
         "x": [
          "Balance Beam"
         ],
         "xaxis": "x8",
         "y": [
          35
         ],
         "yaxis": "y8"
        },
        {
         "alignmentgroup": "True",
         "hovertemplate": "Apparatus=%{x}<br>Season=2018<br>No. of Tens=%{y}<extra></extra>",
         "legendgroup": "Balance Beam",
         "marker": {
          "color": "#00cc96",
          "pattern": {
           "shape": ""
          }
         },
         "name": "Balance Beam",
         "offsetgroup": "Balance Beam",
         "orientation": "v",
         "showlegend": false,
         "textposition": "auto",
         "type": "bar",
         "x": [
          "Balance Beam"
         ],
         "xaxis": "x7",
         "y": [
          53
         ],
         "yaxis": "y7"
        },
        {
         "alignmentgroup": "True",
         "hovertemplate": "Apparatus=%{x}<br>Season=2019<br>No. of Tens=%{y}<extra></extra>",
         "legendgroup": "Balance Beam",
         "marker": {
          "color": "#00cc96",
          "pattern": {
           "shape": ""
          }
         },
         "name": "Balance Beam",
         "offsetgroup": "Balance Beam",
         "orientation": "v",
         "showlegend": false,
         "textposition": "auto",
         "type": "bar",
         "x": [
          "Balance Beam"
         ],
         "xaxis": "x6",
         "y": [
          8
         ],
         "yaxis": "y6"
        },
        {
         "alignmentgroup": "True",
         "hovertemplate": "Apparatus=%{x}<br>Season=2020<br>No. of Tens=%{y}<extra></extra>",
         "legendgroup": "Balance Beam",
         "marker": {
          "color": "#00cc96",
          "pattern": {
           "shape": ""
          }
         },
         "name": "Balance Beam",
         "offsetgroup": "Balance Beam",
         "orientation": "v",
         "showlegend": false,
         "textposition": "auto",
         "type": "bar",
         "x": [
          "Balance Beam"
         ],
         "xaxis": "x5",
         "y": [
          32
         ],
         "yaxis": "y5"
        },
        {
         "alignmentgroup": "True",
         "hovertemplate": "Apparatus=%{x}<br>Season=2021<br>No. of Tens=%{y}<extra></extra>",
         "legendgroup": "Balance Beam",
         "marker": {
          "color": "#00cc96",
          "pattern": {
           "shape": ""
          }
         },
         "name": "Balance Beam",
         "offsetgroup": "Balance Beam",
         "orientation": "v",
         "showlegend": false,
         "textposition": "auto",
         "type": "bar",
         "x": [
          "Balance Beam"
         ],
         "xaxis": "x4",
         "y": [
          20
         ],
         "yaxis": "y4"
        },
        {
         "alignmentgroup": "True",
         "hovertemplate": "Apparatus=%{x}<br>Season=2022<br>No. of Tens=%{y}<extra></extra>",
         "legendgroup": "Balance Beam",
         "marker": {
          "color": "#00cc96",
          "pattern": {
           "shape": ""
          }
         },
         "name": "Balance Beam",
         "offsetgroup": "Balance Beam",
         "orientation": "v",
         "showlegend": false,
         "textposition": "auto",
         "type": "bar",
         "x": [
          "Balance Beam"
         ],
         "xaxis": "x3",
         "y": [
          38
         ],
         "yaxis": "y3"
        },
        {
         "alignmentgroup": "True",
         "hovertemplate": "Apparatus=%{x}<br>Season=2023<br>No. of Tens=%{y}<extra></extra>",
         "legendgroup": "Balance Beam",
         "marker": {
          "color": "#00cc96",
          "pattern": {
           "shape": ""
          }
         },
         "name": "Balance Beam",
         "offsetgroup": "Balance Beam",
         "orientation": "v",
         "showlegend": false,
         "textposition": "auto",
         "type": "bar",
         "x": [
          "Balance Beam"
         ],
         "xaxis": "x2",
         "y": [
          126
         ],
         "yaxis": "y2"
        },
        {
         "alignmentgroup": "True",
         "hovertemplate": "Apparatus=%{x}<br>Season=2024<br>No. of Tens=%{y}<extra></extra>",
         "legendgroup": "Balance Beam",
         "marker": {
          "color": "#00cc96",
          "pattern": {
           "shape": ""
          }
         },
         "name": "Balance Beam",
         "offsetgroup": "Balance Beam",
         "orientation": "v",
         "showlegend": false,
         "textposition": "auto",
         "type": "bar",
         "x": [
          "Balance Beam"
         ],
         "xaxis": "x",
         "y": [
          69
         ],
         "yaxis": "y"
        },
        {
         "alignmentgroup": "True",
         "hovertemplate": "Apparatus=%{x}<br>Season=2015<br>No. of Tens=%{y}<extra></extra>",
         "legendgroup": "Floor Exercise",
         "marker": {
          "color": "#ab63fa",
          "pattern": {
           "shape": ""
          }
         },
         "name": "Floor Exercise",
         "offsetgroup": "Floor Exercise",
         "orientation": "v",
         "showlegend": true,
         "textposition": "auto",
         "type": "bar",
         "x": [
          "Floor Exercise"
         ],
         "xaxis": "x10",
         "y": [
          7
         ],
         "yaxis": "y10"
        },
        {
         "alignmentgroup": "True",
         "hovertemplate": "Apparatus=%{x}<br>Season=2016<br>No. of Tens=%{y}<extra></extra>",
         "legendgroup": "Floor Exercise",
         "marker": {
          "color": "#ab63fa",
          "pattern": {
           "shape": ""
          }
         },
         "name": "Floor Exercise",
         "offsetgroup": "Floor Exercise",
         "orientation": "v",
         "showlegend": false,
         "textposition": "auto",
         "type": "bar",
         "x": [
          "Floor Exercise"
         ],
         "xaxis": "x9",
         "y": [
          28
         ],
         "yaxis": "y9"
        },
        {
         "alignmentgroup": "True",
         "hovertemplate": "Apparatus=%{x}<br>Season=2017<br>No. of Tens=%{y}<extra></extra>",
         "legendgroup": "Floor Exercise",
         "marker": {
          "color": "#ab63fa",
          "pattern": {
           "shape": ""
          }
         },
         "name": "Floor Exercise",
         "offsetgroup": "Floor Exercise",
         "orientation": "v",
         "showlegend": false,
         "textposition": "auto",
         "type": "bar",
         "x": [
          "Floor Exercise"
         ],
         "xaxis": "x8",
         "y": [
          16
         ],
         "yaxis": "y8"
        },
        {
         "alignmentgroup": "True",
         "hovertemplate": "Apparatus=%{x}<br>Season=2018<br>No. of Tens=%{y}<extra></extra>",
         "legendgroup": "Floor Exercise",
         "marker": {
          "color": "#ab63fa",
          "pattern": {
           "shape": ""
          }
         },
         "name": "Floor Exercise",
         "offsetgroup": "Floor Exercise",
         "orientation": "v",
         "showlegend": false,
         "textposition": "auto",
         "type": "bar",
         "x": [
          "Floor Exercise"
         ],
         "xaxis": "x7",
         "y": [
          24
         ],
         "yaxis": "y7"
        },
        {
         "alignmentgroup": "True",
         "hovertemplate": "Apparatus=%{x}<br>Season=2019<br>No. of Tens=%{y}<extra></extra>",
         "legendgroup": "Floor Exercise",
         "marker": {
          "color": "#ab63fa",
          "pattern": {
           "shape": ""
          }
         },
         "name": "Floor Exercise",
         "offsetgroup": "Floor Exercise",
         "orientation": "v",
         "showlegend": false,
         "textposition": "auto",
         "type": "bar",
         "x": [
          "Floor Exercise"
         ],
         "xaxis": "x6",
         "y": [
          56
         ],
         "yaxis": "y6"
        },
        {
         "alignmentgroup": "True",
         "hovertemplate": "Apparatus=%{x}<br>Season=2020<br>No. of Tens=%{y}<extra></extra>",
         "legendgroup": "Floor Exercise",
         "marker": {
          "color": "#ab63fa",
          "pattern": {
           "shape": ""
          }
         },
         "name": "Floor Exercise",
         "offsetgroup": "Floor Exercise",
         "orientation": "v",
         "showlegend": false,
         "textposition": "auto",
         "type": "bar",
         "x": [
          "Floor Exercise"
         ],
         "xaxis": "x5",
         "y": [
          4
         ],
         "yaxis": "y5"
        },
        {
         "alignmentgroup": "True",
         "hovertemplate": "Apparatus=%{x}<br>Season=2021<br>No. of Tens=%{y}<extra></extra>",
         "legendgroup": "Floor Exercise",
         "marker": {
          "color": "#ab63fa",
          "pattern": {
           "shape": ""
          }
         },
         "name": "Floor Exercise",
         "offsetgroup": "Floor Exercise",
         "orientation": "v",
         "showlegend": false,
         "textposition": "auto",
         "type": "bar",
         "x": [
          "Floor Exercise"
         ],
         "xaxis": "x4",
         "y": [
          21
         ],
         "yaxis": "y4"
        },
        {
         "alignmentgroup": "True",
         "hovertemplate": "Apparatus=%{x}<br>Season=2022<br>No. of Tens=%{y}<extra></extra>",
         "legendgroup": "Floor Exercise",
         "marker": {
          "color": "#ab63fa",
          "pattern": {
           "shape": ""
          }
         },
         "name": "Floor Exercise",
         "offsetgroup": "Floor Exercise",
         "orientation": "v",
         "showlegend": false,
         "textposition": "auto",
         "type": "bar",
         "x": [
          "Floor Exercise"
         ],
         "xaxis": "x3",
         "y": [
          77
         ],
         "yaxis": "y3"
        },
        {
         "alignmentgroup": "True",
         "hovertemplate": "Apparatus=%{x}<br>Season=2023<br>No. of Tens=%{y}<extra></extra>",
         "legendgroup": "Floor Exercise",
         "marker": {
          "color": "#ab63fa",
          "pattern": {
           "shape": ""
          }
         },
         "name": "Floor Exercise",
         "offsetgroup": "Floor Exercise",
         "orientation": "v",
         "showlegend": false,
         "textposition": "auto",
         "type": "bar",
         "x": [
          "Floor Exercise"
         ],
         "xaxis": "x2",
         "y": [
          64
         ],
         "yaxis": "y2"
        },
        {
         "alignmentgroup": "True",
         "hovertemplate": "Apparatus=%{x}<br>Season=2024<br>No. of Tens=%{y}<extra></extra>",
         "legendgroup": "Floor Exercise",
         "marker": {
          "color": "#ab63fa",
          "pattern": {
           "shape": ""
          }
         },
         "name": "Floor Exercise",
         "offsetgroup": "Floor Exercise",
         "orientation": "v",
         "showlegend": false,
         "textposition": "auto",
         "type": "bar",
         "x": [
          "Floor Exercise"
         ],
         "xaxis": "x",
         "y": [
          103
         ],
         "yaxis": "y"
        }
       ],
       "layout": {
        "annotations": [
         {
          "font": {},
          "showarrow": false,
          "text": "Season=2024",
          "textangle": 90,
          "x": 0.98,
          "xanchor": "left",
          "xref": "paper",
          "y": 0.0365,
          "yanchor": "middle",
          "yref": "paper"
         },
         {
          "font": {},
          "showarrow": false,
          "text": "Season=2023",
          "textangle": 90,
          "x": 0.98,
          "xanchor": "left",
          "xref": "paper",
          "y": 0.13949999999999999,
          "yanchor": "middle",
          "yref": "paper"
         },
         {
          "font": {},
          "showarrow": false,
          "text": "Season=2022",
          "textangle": 90,
          "x": 0.98,
          "xanchor": "left",
          "xref": "paper",
          "y": 0.2425,
          "yanchor": "middle",
          "yref": "paper"
         },
         {
          "font": {},
          "showarrow": false,
          "text": "Season=2021",
          "textangle": 90,
          "x": 0.98,
          "xanchor": "left",
          "xref": "paper",
          "y": 0.3454999999999999,
          "yanchor": "middle",
          "yref": "paper"
         },
         {
          "font": {},
          "showarrow": false,
          "text": "Season=2020",
          "textangle": 90,
          "x": 0.98,
          "xanchor": "left",
          "xref": "paper",
          "y": 0.4485,
          "yanchor": "middle",
          "yref": "paper"
         },
         {
          "font": {},
          "showarrow": false,
          "text": "Season=2019",
          "textangle": 90,
          "x": 0.98,
          "xanchor": "left",
          "xref": "paper",
          "y": 0.5515,
          "yanchor": "middle",
          "yref": "paper"
         },
         {
          "font": {},
          "showarrow": false,
          "text": "Season=2018",
          "textangle": 90,
          "x": 0.98,
          "xanchor": "left",
          "xref": "paper",
          "y": 0.6544999999999999,
          "yanchor": "middle",
          "yref": "paper"
         },
         {
          "font": {},
          "showarrow": false,
          "text": "Season=2017",
          "textangle": 90,
          "x": 0.98,
          "xanchor": "left",
          "xref": "paper",
          "y": 0.7575,
          "yanchor": "middle",
          "yref": "paper"
         },
         {
          "font": {},
          "showarrow": false,
          "text": "Season=2016",
          "textangle": 90,
          "x": 0.98,
          "xanchor": "left",
          "xref": "paper",
          "y": 0.8604999999999999,
          "yanchor": "middle",
          "yref": "paper"
         },
         {
          "font": {},
          "showarrow": false,
          "text": "Season=2015",
          "textangle": 90,
          "x": 0.98,
          "xanchor": "left",
          "xref": "paper",
          "y": 0.9634999999999999,
          "yanchor": "middle",
          "yref": "paper"
         }
        ],
        "barmode": "group",
        "height": 1200,
        "legend": {
         "title": {
          "text": "Apparatus"
         },
         "tracegroupgap": 0
        },
        "margin": {
         "t": 60
        },
        "template": {
         "data": {
          "bar": [
           {
            "error_x": {
             "color": "#2a3f5f"
            },
            "error_y": {
             "color": "#2a3f5f"
            },
            "marker": {
             "line": {
              "color": "#E5ECF6",
              "width": 0.5
             },
             "pattern": {
              "fillmode": "overlay",
              "size": 10,
              "solidity": 0.2
             }
            },
            "type": "bar"
           }
          ],
          "barpolar": [
           {
            "marker": {
             "line": {
              "color": "#E5ECF6",
              "width": 0.5
             },
             "pattern": {
              "fillmode": "overlay",
              "size": 10,
              "solidity": 0.2
             }
            },
            "type": "barpolar"
           }
          ],
          "carpet": [
           {
            "aaxis": {
             "endlinecolor": "#2a3f5f",
             "gridcolor": "white",
             "linecolor": "white",
             "minorgridcolor": "white",
             "startlinecolor": "#2a3f5f"
            },
            "baxis": {
             "endlinecolor": "#2a3f5f",
             "gridcolor": "white",
             "linecolor": "white",
             "minorgridcolor": "white",
             "startlinecolor": "#2a3f5f"
            },
            "type": "carpet"
           }
          ],
          "choropleth": [
           {
            "colorbar": {
             "outlinewidth": 0,
             "ticks": ""
            },
            "type": "choropleth"
           }
          ],
          "contour": [
           {
            "colorbar": {
             "outlinewidth": 0,
             "ticks": ""
            },
            "colorscale": [
             [
              0,
              "#0d0887"
             ],
             [
              0.1111111111111111,
              "#46039f"
             ],
             [
              0.2222222222222222,
              "#7201a8"
             ],
             [
              0.3333333333333333,
              "#9c179e"
             ],
             [
              0.4444444444444444,
              "#bd3786"
             ],
             [
              0.5555555555555556,
              "#d8576b"
             ],
             [
              0.6666666666666666,
              "#ed7953"
             ],
             [
              0.7777777777777778,
              "#fb9f3a"
             ],
             [
              0.8888888888888888,
              "#fdca26"
             ],
             [
              1,
              "#f0f921"
             ]
            ],
            "type": "contour"
           }
          ],
          "contourcarpet": [
           {
            "colorbar": {
             "outlinewidth": 0,
             "ticks": ""
            },
            "type": "contourcarpet"
           }
          ],
          "heatmap": [
           {
            "colorbar": {
             "outlinewidth": 0,
             "ticks": ""
            },
            "colorscale": [
             [
              0,
              "#0d0887"
             ],
             [
              0.1111111111111111,
              "#46039f"
             ],
             [
              0.2222222222222222,
              "#7201a8"
             ],
             [
              0.3333333333333333,
              "#9c179e"
             ],
             [
              0.4444444444444444,
              "#bd3786"
             ],
             [
              0.5555555555555556,
              "#d8576b"
             ],
             [
              0.6666666666666666,
              "#ed7953"
             ],
             [
              0.7777777777777778,
              "#fb9f3a"
             ],
             [
              0.8888888888888888,
              "#fdca26"
             ],
             [
              1,
              "#f0f921"
             ]
            ],
            "type": "heatmap"
           }
          ],
          "heatmapgl": [
           {
            "colorbar": {
             "outlinewidth": 0,
             "ticks": ""
            },
            "colorscale": [
             [
              0,
              "#0d0887"
             ],
             [
              0.1111111111111111,
              "#46039f"
             ],
             [
              0.2222222222222222,
              "#7201a8"
             ],
             [
              0.3333333333333333,
              "#9c179e"
             ],
             [
              0.4444444444444444,
              "#bd3786"
             ],
             [
              0.5555555555555556,
              "#d8576b"
             ],
             [
              0.6666666666666666,
              "#ed7953"
             ],
             [
              0.7777777777777778,
              "#fb9f3a"
             ],
             [
              0.8888888888888888,
              "#fdca26"
             ],
             [
              1,
              "#f0f921"
             ]
            ],
            "type": "heatmapgl"
           }
          ],
          "histogram": [
           {
            "marker": {
             "pattern": {
              "fillmode": "overlay",
              "size": 10,
              "solidity": 0.2
             }
            },
            "type": "histogram"
           }
          ],
          "histogram2d": [
           {
            "colorbar": {
             "outlinewidth": 0,
             "ticks": ""
            },
            "colorscale": [
             [
              0,
              "#0d0887"
             ],
             [
              0.1111111111111111,
              "#46039f"
             ],
             [
              0.2222222222222222,
              "#7201a8"
             ],
             [
              0.3333333333333333,
              "#9c179e"
             ],
             [
              0.4444444444444444,
              "#bd3786"
             ],
             [
              0.5555555555555556,
              "#d8576b"
             ],
             [
              0.6666666666666666,
              "#ed7953"
             ],
             [
              0.7777777777777778,
              "#fb9f3a"
             ],
             [
              0.8888888888888888,
              "#fdca26"
             ],
             [
              1,
              "#f0f921"
             ]
            ],
            "type": "histogram2d"
           }
          ],
          "histogram2dcontour": [
           {
            "colorbar": {
             "outlinewidth": 0,
             "ticks": ""
            },
            "colorscale": [
             [
              0,
              "#0d0887"
             ],
             [
              0.1111111111111111,
              "#46039f"
             ],
             [
              0.2222222222222222,
              "#7201a8"
             ],
             [
              0.3333333333333333,
              "#9c179e"
             ],
             [
              0.4444444444444444,
              "#bd3786"
             ],
             [
              0.5555555555555556,
              "#d8576b"
             ],
             [
              0.6666666666666666,
              "#ed7953"
             ],
             [
              0.7777777777777778,
              "#fb9f3a"
             ],
             [
              0.8888888888888888,
              "#fdca26"
             ],
             [
              1,
              "#f0f921"
             ]
            ],
            "type": "histogram2dcontour"
           }
          ],
          "mesh3d": [
           {
            "colorbar": {
             "outlinewidth": 0,
             "ticks": ""
            },
            "type": "mesh3d"
           }
          ],
          "parcoords": [
           {
            "line": {
             "colorbar": {
              "outlinewidth": 0,
              "ticks": ""
             }
            },
            "type": "parcoords"
           }
          ],
          "pie": [
           {
            "automargin": true,
            "type": "pie"
           }
          ],
          "scatter": [
           {
            "fillpattern": {
             "fillmode": "overlay",
             "size": 10,
             "solidity": 0.2
            },
            "type": "scatter"
           }
          ],
          "scatter3d": [
           {
            "line": {
             "colorbar": {
              "outlinewidth": 0,
              "ticks": ""
             }
            },
            "marker": {
             "colorbar": {
              "outlinewidth": 0,
              "ticks": ""
             }
            },
            "type": "scatter3d"
           }
          ],
          "scattercarpet": [
           {
            "marker": {
             "colorbar": {
              "outlinewidth": 0,
              "ticks": ""
             }
            },
            "type": "scattercarpet"
           }
          ],
          "scattergeo": [
           {
            "marker": {
             "colorbar": {
              "outlinewidth": 0,
              "ticks": ""
             }
            },
            "type": "scattergeo"
           }
          ],
          "scattergl": [
           {
            "marker": {
             "colorbar": {
              "outlinewidth": 0,
              "ticks": ""
             }
            },
            "type": "scattergl"
           }
          ],
          "scattermapbox": [
           {
            "marker": {
             "colorbar": {
              "outlinewidth": 0,
              "ticks": ""
             }
            },
            "type": "scattermapbox"
           }
          ],
          "scatterpolar": [
           {
            "marker": {
             "colorbar": {
              "outlinewidth": 0,
              "ticks": ""
             }
            },
            "type": "scatterpolar"
           }
          ],
          "scatterpolargl": [
           {
            "marker": {
             "colorbar": {
              "outlinewidth": 0,
              "ticks": ""
             }
            },
            "type": "scatterpolargl"
           }
          ],
          "scatterternary": [
           {
            "marker": {
             "colorbar": {
              "outlinewidth": 0,
              "ticks": ""
             }
            },
            "type": "scatterternary"
           }
          ],
          "surface": [
           {
            "colorbar": {
             "outlinewidth": 0,
             "ticks": ""
            },
            "colorscale": [
             [
              0,
              "#0d0887"
             ],
             [
              0.1111111111111111,
              "#46039f"
             ],
             [
              0.2222222222222222,
              "#7201a8"
             ],
             [
              0.3333333333333333,
              "#9c179e"
             ],
             [
              0.4444444444444444,
              "#bd3786"
             ],
             [
              0.5555555555555556,
              "#d8576b"
             ],
             [
              0.6666666666666666,
              "#ed7953"
             ],
             [
              0.7777777777777778,
              "#fb9f3a"
             ],
             [
              0.8888888888888888,
              "#fdca26"
             ],
             [
              1,
              "#f0f921"
             ]
            ],
            "type": "surface"
           }
          ],
          "table": [
           {
            "cells": {
             "fill": {
              "color": "#EBF0F8"
             },
             "line": {
              "color": "white"
             }
            },
            "header": {
             "fill": {
              "color": "#C8D4E3"
             },
             "line": {
              "color": "white"
             }
            },
            "type": "table"
           }
          ]
         },
         "layout": {
          "annotationdefaults": {
           "arrowcolor": "#2a3f5f",
           "arrowhead": 0,
           "arrowwidth": 1
          },
          "autotypenumbers": "strict",
          "coloraxis": {
           "colorbar": {
            "outlinewidth": 0,
            "ticks": ""
           }
          },
          "colorscale": {
           "diverging": [
            [
             0,
             "#8e0152"
            ],
            [
             0.1,
             "#c51b7d"
            ],
            [
             0.2,
             "#de77ae"
            ],
            [
             0.3,
             "#f1b6da"
            ],
            [
             0.4,
             "#fde0ef"
            ],
            [
             0.5,
             "#f7f7f7"
            ],
            [
             0.6,
             "#e6f5d0"
            ],
            [
             0.7,
             "#b8e186"
            ],
            [
             0.8,
             "#7fbc41"
            ],
            [
             0.9,
             "#4d9221"
            ],
            [
             1,
             "#276419"
            ]
           ],
           "sequential": [
            [
             0,
             "#0d0887"
            ],
            [
             0.1111111111111111,
             "#46039f"
            ],
            [
             0.2222222222222222,
             "#7201a8"
            ],
            [
             0.3333333333333333,
             "#9c179e"
            ],
            [
             0.4444444444444444,
             "#bd3786"
            ],
            [
             0.5555555555555556,
             "#d8576b"
            ],
            [
             0.6666666666666666,
             "#ed7953"
            ],
            [
             0.7777777777777778,
             "#fb9f3a"
            ],
            [
             0.8888888888888888,
             "#fdca26"
            ],
            [
             1,
             "#f0f921"
            ]
           ],
           "sequentialminus": [
            [
             0,
             "#0d0887"
            ],
            [
             0.1111111111111111,
             "#46039f"
            ],
            [
             0.2222222222222222,
             "#7201a8"
            ],
            [
             0.3333333333333333,
             "#9c179e"
            ],
            [
             0.4444444444444444,
             "#bd3786"
            ],
            [
             0.5555555555555556,
             "#d8576b"
            ],
            [
             0.6666666666666666,
             "#ed7953"
            ],
            [
             0.7777777777777778,
             "#fb9f3a"
            ],
            [
             0.8888888888888888,
             "#fdca26"
            ],
            [
             1,
             "#f0f921"
            ]
           ]
          },
          "colorway": [
           "#636efa",
           "#EF553B",
           "#00cc96",
           "#ab63fa",
           "#FFA15A",
           "#19d3f3",
           "#FF6692",
           "#B6E880",
           "#FF97FF",
           "#FECB52"
          ],
          "font": {
           "color": "#2a3f5f"
          },
          "geo": {
           "bgcolor": "white",
           "lakecolor": "white",
           "landcolor": "#E5ECF6",
           "showlakes": true,
           "showland": true,
           "subunitcolor": "white"
          },
          "hoverlabel": {
           "align": "left"
          },
          "hovermode": "closest",
          "mapbox": {
           "style": "light"
          },
          "paper_bgcolor": "white",
          "plot_bgcolor": "#E5ECF6",
          "polar": {
           "angularaxis": {
            "gridcolor": "white",
            "linecolor": "white",
            "ticks": ""
           },
           "bgcolor": "#E5ECF6",
           "radialaxis": {
            "gridcolor": "white",
            "linecolor": "white",
            "ticks": ""
           }
          },
          "scene": {
           "xaxis": {
            "backgroundcolor": "#E5ECF6",
            "gridcolor": "white",
            "gridwidth": 2,
            "linecolor": "white",
            "showbackground": true,
            "ticks": "",
            "zerolinecolor": "white"
           },
           "yaxis": {
            "backgroundcolor": "#E5ECF6",
            "gridcolor": "white",
            "gridwidth": 2,
            "linecolor": "white",
            "showbackground": true,
            "ticks": "",
            "zerolinecolor": "white"
           },
           "zaxis": {
            "backgroundcolor": "#E5ECF6",
            "gridcolor": "white",
            "gridwidth": 2,
            "linecolor": "white",
            "showbackground": true,
            "ticks": "",
            "zerolinecolor": "white"
           }
          },
          "shapedefaults": {
           "line": {
            "color": "#2a3f5f"
           }
          },
          "ternary": {
           "aaxis": {
            "gridcolor": "white",
            "linecolor": "white",
            "ticks": ""
           },
           "baxis": {
            "gridcolor": "white",
            "linecolor": "white",
            "ticks": ""
           },
           "bgcolor": "#E5ECF6",
           "caxis": {
            "gridcolor": "white",
            "linecolor": "white",
            "ticks": ""
           }
          },
          "title": {
           "x": 0.05
          },
          "xaxis": {
           "automargin": true,
           "gridcolor": "white",
           "linecolor": "white",
           "ticks": "",
           "title": {
            "standoff": 15
           },
           "zerolinecolor": "white",
           "zerolinewidth": 2
          },
          "yaxis": {
           "automargin": true,
           "gridcolor": "white",
           "linecolor": "white",
           "ticks": "",
           "title": {
            "standoff": 15
           },
           "zerolinecolor": "white",
           "zerolinewidth": 2
          }
         }
        },
        "title": {
         "text": "Number of Perfect 10s on Each Apparatus by Season"
        },
        "width": 400,
        "xaxis": {
         "anchor": "y",
         "categoryarray": [
          "Vault",
          "Uneven Bars",
          "Balance Beam",
          "Floor Exercise"
         ],
         "categoryorder": "array",
         "domain": [
          0,
          0.98
         ],
         "title": {
          "text": "Apparatus"
         }
        },
        "xaxis10": {
         "anchor": "y10",
         "domain": [
          0,
          0.98
         ],
         "matches": "x",
         "showticklabels": false
        },
        "xaxis2": {
         "anchor": "y2",
         "domain": [
          0,
          0.98
         ],
         "matches": "x",
         "showticklabels": false
        },
        "xaxis3": {
         "anchor": "y3",
         "domain": [
          0,
          0.98
         ],
         "matches": "x",
         "showticklabels": false
        },
        "xaxis4": {
         "anchor": "y4",
         "domain": [
          0,
          0.98
         ],
         "matches": "x",
         "showticklabels": false
        },
        "xaxis5": {
         "anchor": "y5",
         "domain": [
          0,
          0.98
         ],
         "matches": "x",
         "showticklabels": false
        },
        "xaxis6": {
         "anchor": "y6",
         "domain": [
          0,
          0.98
         ],
         "matches": "x",
         "showticklabels": false
        },
        "xaxis7": {
         "anchor": "y7",
         "domain": [
          0,
          0.98
         ],
         "matches": "x",
         "showticklabels": false
        },
        "xaxis8": {
         "anchor": "y8",
         "domain": [
          0,
          0.98
         ],
         "matches": "x",
         "showticklabels": false
        },
        "xaxis9": {
         "anchor": "y9",
         "domain": [
          0,
          0.98
         ],
         "matches": "x",
         "showticklabels": false
        },
        "yaxis": {
         "anchor": "x",
         "domain": [
          0,
          0.073
         ],
         "title": {
          "text": "Number of Tens"
         }
        },
        "yaxis10": {
         "anchor": "x10",
         "domain": [
          0.9269999999999999,
          0.9999999999999999
         ],
         "matches": "y",
         "title": {
          "text": "No. of Tens"
         }
        },
        "yaxis2": {
         "anchor": "x2",
         "domain": [
          0.103,
          0.176
         ],
         "matches": "y",
         "title": {
          "text": "No. of Tens"
         }
        },
        "yaxis3": {
         "anchor": "x3",
         "domain": [
          0.206,
          0.27899999999999997
         ],
         "matches": "y",
         "title": {
          "text": "No. of Tens"
         }
        },
        "yaxis4": {
         "anchor": "x4",
         "domain": [
          0.30899999999999994,
          0.38199999999999995
         ],
         "matches": "y",
         "title": {
          "text": "No. of Tens"
         }
        },
        "yaxis5": {
         "anchor": "x5",
         "domain": [
          0.412,
          0.485
         ],
         "matches": "y",
         "title": {
          "text": "No. of Tens"
         }
        },
        "yaxis6": {
         "anchor": "x6",
         "domain": [
          0.515,
          0.588
         ],
         "matches": "y",
         "title": {
          "text": "No. of Tens"
         }
        },
        "yaxis7": {
         "anchor": "x7",
         "domain": [
          0.6179999999999999,
          0.6909999999999998
         ],
         "matches": "y",
         "title": {
          "text": "No. of Tens"
         }
        },
        "yaxis8": {
         "anchor": "x8",
         "domain": [
          0.721,
          0.7939999999999999
         ],
         "matches": "y",
         "title": {
          "text": "No. of Tens"
         }
        },
        "yaxis9": {
         "anchor": "x9",
         "domain": [
          0.824,
          0.8969999999999999
         ],
         "matches": "y",
         "title": {
          "text": "No. of Tens"
         }
        }
       }
      },
      "text/html": [
       "<div>                        <script type=\"text/javascript\">window.PlotlyConfig = {MathJaxConfig: 'local'};</script>\n",
       "        <script charset=\"utf-8\" src=\"https://cdn.plot.ly/plotly-2.34.0.min.js\"></script>                <div id=\"ce627be3-3673-4800-8191-e691bf254479\" class=\"plotly-graph-div\" style=\"height:1200px; width:400px;\"></div>            <script type=\"text/javascript\">                                    window.PLOTLYENV=window.PLOTLYENV || {};                                    if (document.getElementById(\"ce627be3-3673-4800-8191-e691bf254479\")) {                    Plotly.newPlot(                        \"ce627be3-3673-4800-8191-e691bf254479\",                        [{\"alignmentgroup\":\"True\",\"hovertemplate\":\"Apparatus=%{x}\\u003cbr\\u003eSeason=2015\\u003cbr\\u003eNo. of Tens=%{y}\\u003cextra\\u003e\\u003c\\u002fextra\\u003e\",\"legendgroup\":\"Vault\",\"marker\":{\"color\":\"#636efa\",\"pattern\":{\"shape\":\"\"}},\"name\":\"Vault\",\"offsetgroup\":\"Vault\",\"orientation\":\"v\",\"showlegend\":true,\"textposition\":\"auto\",\"x\":[\"Vault\"],\"xaxis\":\"x10\",\"y\":[34],\"yaxis\":\"y10\",\"type\":\"bar\"},{\"alignmentgroup\":\"True\",\"hovertemplate\":\"Apparatus=%{x}\\u003cbr\\u003eSeason=2016\\u003cbr\\u003eNo. of Tens=%{y}\\u003cextra\\u003e\\u003c\\u002fextra\\u003e\",\"legendgroup\":\"Vault\",\"marker\":{\"color\":\"#636efa\",\"pattern\":{\"shape\":\"\"}},\"name\":\"Vault\",\"offsetgroup\":\"Vault\",\"orientation\":\"v\",\"showlegend\":false,\"textposition\":\"auto\",\"x\":[\"Vault\"],\"xaxis\":\"x9\",\"y\":[12],\"yaxis\":\"y9\",\"type\":\"bar\"},{\"alignmentgroup\":\"True\",\"hovertemplate\":\"Apparatus=%{x}\\u003cbr\\u003eSeason=2017\\u003cbr\\u003eNo. of Tens=%{y}\\u003cextra\\u003e\\u003c\\u002fextra\\u003e\",\"legendgroup\":\"Vault\",\"marker\":{\"color\":\"#636efa\",\"pattern\":{\"shape\":\"\"}},\"name\":\"Vault\",\"offsetgroup\":\"Vault\",\"orientation\":\"v\",\"showlegend\":false,\"textposition\":\"auto\",\"x\":[\"Vault\"],\"xaxis\":\"x8\",\"y\":[22],\"yaxis\":\"y8\",\"type\":\"bar\"},{\"alignmentgroup\":\"True\",\"hovertemplate\":\"Apparatus=%{x}\\u003cbr\\u003eSeason=2018\\u003cbr\\u003eNo. of Tens=%{y}\\u003cextra\\u003e\\u003c\\u002fextra\\u003e\",\"legendgroup\":\"Vault\",\"marker\":{\"color\":\"#636efa\",\"pattern\":{\"shape\":\"\"}},\"name\":\"Vault\",\"offsetgroup\":\"Vault\",\"orientation\":\"v\",\"showlegend\":false,\"textposition\":\"auto\",\"x\":[\"Vault\"],\"xaxis\":\"x7\",\"y\":[10],\"yaxis\":\"y7\",\"type\":\"bar\"},{\"alignmentgroup\":\"True\",\"hovertemplate\":\"Apparatus=%{x}\\u003cbr\\u003eSeason=2019\\u003cbr\\u003eNo. of Tens=%{y}\\u003cextra\\u003e\\u003c\\u002fextra\\u003e\",\"legendgroup\":\"Vault\",\"marker\":{\"color\":\"#636efa\",\"pattern\":{\"shape\":\"\"}},\"name\":\"Vault\",\"offsetgroup\":\"Vault\",\"orientation\":\"v\",\"showlegend\":false,\"textposition\":\"auto\",\"x\":[\"Vault\"],\"xaxis\":\"x6\",\"y\":[31],\"yaxis\":\"y6\",\"type\":\"bar\"},{\"alignmentgroup\":\"True\",\"hovertemplate\":\"Apparatus=%{x}\\u003cbr\\u003eSeason=2020\\u003cbr\\u003eNo. of Tens=%{y}\\u003cextra\\u003e\\u003c\\u002fextra\\u003e\",\"legendgroup\":\"Vault\",\"marker\":{\"color\":\"#636efa\",\"pattern\":{\"shape\":\"\"}},\"name\":\"Vault\",\"offsetgroup\":\"Vault\",\"orientation\":\"v\",\"showlegend\":false,\"textposition\":\"auto\",\"x\":[\"Vault\"],\"xaxis\":\"x5\",\"y\":[28],\"yaxis\":\"y5\",\"type\":\"bar\"},{\"alignmentgroup\":\"True\",\"hovertemplate\":\"Apparatus=%{x}\\u003cbr\\u003eSeason=2021\\u003cbr\\u003eNo. of Tens=%{y}\\u003cextra\\u003e\\u003c\\u002fextra\\u003e\",\"legendgroup\":\"Vault\",\"marker\":{\"color\":\"#636efa\",\"pattern\":{\"shape\":\"\"}},\"name\":\"Vault\",\"offsetgroup\":\"Vault\",\"orientation\":\"v\",\"showlegend\":false,\"textposition\":\"auto\",\"x\":[\"Vault\"],\"xaxis\":\"x4\",\"y\":[50],\"yaxis\":\"y4\",\"type\":\"bar\"},{\"alignmentgroup\":\"True\",\"hovertemplate\":\"Apparatus=%{x}\\u003cbr\\u003eSeason=2022\\u003cbr\\u003eNo. of Tens=%{y}\\u003cextra\\u003e\\u003c\\u002fextra\\u003e\",\"legendgroup\":\"Vault\",\"marker\":{\"color\":\"#636efa\",\"pattern\":{\"shape\":\"\"}},\"name\":\"Vault\",\"offsetgroup\":\"Vault\",\"orientation\":\"v\",\"showlegend\":false,\"textposition\":\"auto\",\"x\":[\"Vault\"],\"xaxis\":\"x3\",\"y\":[59],\"yaxis\":\"y3\",\"type\":\"bar\"},{\"alignmentgroup\":\"True\",\"hovertemplate\":\"Apparatus=%{x}\\u003cbr\\u003eSeason=2023\\u003cbr\\u003eNo. of Tens=%{y}\\u003cextra\\u003e\\u003c\\u002fextra\\u003e\",\"legendgroup\":\"Vault\",\"marker\":{\"color\":\"#636efa\",\"pattern\":{\"shape\":\"\"}},\"name\":\"Vault\",\"offsetgroup\":\"Vault\",\"orientation\":\"v\",\"showlegend\":false,\"textposition\":\"auto\",\"x\":[\"Vault\"],\"xaxis\":\"x2\",\"y\":[88],\"yaxis\":\"y2\",\"type\":\"bar\"},{\"alignmentgroup\":\"True\",\"hovertemplate\":\"Apparatus=%{x}\\u003cbr\\u003eSeason=2024\\u003cbr\\u003eNo. of Tens=%{y}\\u003cextra\\u003e\\u003c\\u002fextra\\u003e\",\"legendgroup\":\"Vault\",\"marker\":{\"color\":\"#636efa\",\"pattern\":{\"shape\":\"\"}},\"name\":\"Vault\",\"offsetgroup\":\"Vault\",\"orientation\":\"v\",\"showlegend\":false,\"textposition\":\"auto\",\"x\":[\"Vault\"],\"xaxis\":\"x\",\"y\":[45],\"yaxis\":\"y\",\"type\":\"bar\"},{\"alignmentgroup\":\"True\",\"hovertemplate\":\"Apparatus=%{x}\\u003cbr\\u003eSeason=2015\\u003cbr\\u003eNo. of Tens=%{y}\\u003cextra\\u003e\\u003c\\u002fextra\\u003e\",\"legendgroup\":\"Uneven Bars\",\"marker\":{\"color\":\"#EF553B\",\"pattern\":{\"shape\":\"\"}},\"name\":\"Uneven Bars\",\"offsetgroup\":\"Uneven Bars\",\"orientation\":\"v\",\"showlegend\":true,\"textposition\":\"auto\",\"x\":[\"Uneven Bars\"],\"xaxis\":\"x10\",\"y\":[32],\"yaxis\":\"y10\",\"type\":\"bar\"},{\"alignmentgroup\":\"True\",\"hovertemplate\":\"Apparatus=%{x}\\u003cbr\\u003eSeason=2016\\u003cbr\\u003eNo. of Tens=%{y}\\u003cextra\\u003e\\u003c\\u002fextra\\u003e\",\"legendgroup\":\"Uneven Bars\",\"marker\":{\"color\":\"#EF553B\",\"pattern\":{\"shape\":\"\"}},\"name\":\"Uneven Bars\",\"offsetgroup\":\"Uneven Bars\",\"orientation\":\"v\",\"showlegend\":false,\"textposition\":\"auto\",\"x\":[\"Uneven Bars\"],\"xaxis\":\"x9\",\"y\":[8],\"yaxis\":\"y9\",\"type\":\"bar\"},{\"alignmentgroup\":\"True\",\"hovertemplate\":\"Apparatus=%{x}\\u003cbr\\u003eSeason=2017\\u003cbr\\u003eNo. of Tens=%{y}\\u003cextra\\u003e\\u003c\\u002fextra\\u003e\",\"legendgroup\":\"Uneven Bars\",\"marker\":{\"color\":\"#EF553B\",\"pattern\":{\"shape\":\"\"}},\"name\":\"Uneven Bars\",\"offsetgroup\":\"Uneven Bars\",\"orientation\":\"v\",\"showlegend\":false,\"textposition\":\"auto\",\"x\":[\"Uneven Bars\"],\"xaxis\":\"x8\",\"y\":[26],\"yaxis\":\"y8\",\"type\":\"bar\"},{\"alignmentgroup\":\"True\",\"hovertemplate\":\"Apparatus=%{x}\\u003cbr\\u003eSeason=2018\\u003cbr\\u003eNo. of Tens=%{y}\\u003cextra\\u003e\\u003c\\u002fextra\\u003e\",\"legendgroup\":\"Uneven Bars\",\"marker\":{\"color\":\"#EF553B\",\"pattern\":{\"shape\":\"\"}},\"name\":\"Uneven Bars\",\"offsetgroup\":\"Uneven Bars\",\"orientation\":\"v\",\"showlegend\":false,\"textposition\":\"auto\",\"x\":[\"Uneven Bars\"],\"xaxis\":\"x7\",\"y\":[51],\"yaxis\":\"y7\",\"type\":\"bar\"},{\"alignmentgroup\":\"True\",\"hovertemplate\":\"Apparatus=%{x}\\u003cbr\\u003eSeason=2019\\u003cbr\\u003eNo. of Tens=%{y}\\u003cextra\\u003e\\u003c\\u002fextra\\u003e\",\"legendgroup\":\"Uneven Bars\",\"marker\":{\"color\":\"#EF553B\",\"pattern\":{\"shape\":\"\"}},\"name\":\"Uneven Bars\",\"offsetgroup\":\"Uneven Bars\",\"orientation\":\"v\",\"showlegend\":false,\"textposition\":\"auto\",\"x\":[\"Uneven Bars\"],\"xaxis\":\"x6\",\"y\":[38],\"yaxis\":\"y6\",\"type\":\"bar\"},{\"alignmentgroup\":\"True\",\"hovertemplate\":\"Apparatus=%{x}\\u003cbr\\u003eSeason=2020\\u003cbr\\u003eNo. of Tens=%{y}\\u003cextra\\u003e\\u003c\\u002fextra\\u003e\",\"legendgroup\":\"Uneven Bars\",\"marker\":{\"color\":\"#EF553B\",\"pattern\":{\"shape\":\"\"}},\"name\":\"Uneven Bars\",\"offsetgroup\":\"Uneven Bars\",\"orientation\":\"v\",\"showlegend\":false,\"textposition\":\"auto\",\"x\":[\"Uneven Bars\"],\"xaxis\":\"x5\",\"y\":[10],\"yaxis\":\"y5\",\"type\":\"bar\"},{\"alignmentgroup\":\"True\",\"hovertemplate\":\"Apparatus=%{x}\\u003cbr\\u003eSeason=2021\\u003cbr\\u003eNo. of Tens=%{y}\\u003cextra\\u003e\\u003c\\u002fextra\\u003e\",\"legendgroup\":\"Uneven Bars\",\"marker\":{\"color\":\"#EF553B\",\"pattern\":{\"shape\":\"\"}},\"name\":\"Uneven Bars\",\"offsetgroup\":\"Uneven Bars\",\"orientation\":\"v\",\"showlegend\":false,\"textposition\":\"auto\",\"x\":[\"Uneven Bars\"],\"xaxis\":\"x4\",\"y\":[44],\"yaxis\":\"y4\",\"type\":\"bar\"},{\"alignmentgroup\":\"True\",\"hovertemplate\":\"Apparatus=%{x}\\u003cbr\\u003eSeason=2022\\u003cbr\\u003eNo. of Tens=%{y}\\u003cextra\\u003e\\u003c\\u002fextra\\u003e\",\"legendgroup\":\"Uneven Bars\",\"marker\":{\"color\":\"#EF553B\",\"pattern\":{\"shape\":\"\"}},\"name\":\"Uneven Bars\",\"offsetgroup\":\"Uneven Bars\",\"orientation\":\"v\",\"showlegend\":false,\"textposition\":\"auto\",\"x\":[\"Uneven Bars\"],\"xaxis\":\"x3\",\"y\":[46],\"yaxis\":\"y3\",\"type\":\"bar\"},{\"alignmentgroup\":\"True\",\"hovertemplate\":\"Apparatus=%{x}\\u003cbr\\u003eSeason=2023\\u003cbr\\u003eNo. of Tens=%{y}\\u003cextra\\u003e\\u003c\\u002fextra\\u003e\",\"legendgroup\":\"Uneven Bars\",\"marker\":{\"color\":\"#EF553B\",\"pattern\":{\"shape\":\"\"}},\"name\":\"Uneven Bars\",\"offsetgroup\":\"Uneven Bars\",\"orientation\":\"v\",\"showlegend\":false,\"textposition\":\"auto\",\"x\":[\"Uneven Bars\"],\"xaxis\":\"x2\",\"y\":[81],\"yaxis\":\"y2\",\"type\":\"bar\"},{\"alignmentgroup\":\"True\",\"hovertemplate\":\"Apparatus=%{x}\\u003cbr\\u003eSeason=2024\\u003cbr\\u003eNo. of Tens=%{y}\\u003cextra\\u003e\\u003c\\u002fextra\\u003e\",\"legendgroup\":\"Uneven Bars\",\"marker\":{\"color\":\"#EF553B\",\"pattern\":{\"shape\":\"\"}},\"name\":\"Uneven Bars\",\"offsetgroup\":\"Uneven Bars\",\"orientation\":\"v\",\"showlegend\":false,\"textposition\":\"auto\",\"x\":[\"Uneven Bars\"],\"xaxis\":\"x\",\"y\":[56],\"yaxis\":\"y\",\"type\":\"bar\"},{\"alignmentgroup\":\"True\",\"hovertemplate\":\"Apparatus=%{x}\\u003cbr\\u003eSeason=2015\\u003cbr\\u003eNo. of Tens=%{y}\\u003cextra\\u003e\\u003c\\u002fextra\\u003e\",\"legendgroup\":\"Balance Beam\",\"marker\":{\"color\":\"#00cc96\",\"pattern\":{\"shape\":\"\"}},\"name\":\"Balance Beam\",\"offsetgroup\":\"Balance Beam\",\"orientation\":\"v\",\"showlegend\":true,\"textposition\":\"auto\",\"x\":[\"Balance Beam\"],\"xaxis\":\"x10\",\"y\":[2],\"yaxis\":\"y10\",\"type\":\"bar\"},{\"alignmentgroup\":\"True\",\"hovertemplate\":\"Apparatus=%{x}\\u003cbr\\u003eSeason=2016\\u003cbr\\u003eNo. of Tens=%{y}\\u003cextra\\u003e\\u003c\\u002fextra\\u003e\",\"legendgroup\":\"Balance Beam\",\"marker\":{\"color\":\"#00cc96\",\"pattern\":{\"shape\":\"\"}},\"name\":\"Balance Beam\",\"offsetgroup\":\"Balance Beam\",\"orientation\":\"v\",\"showlegend\":false,\"textposition\":\"auto\",\"x\":[\"Balance Beam\"],\"xaxis\":\"x9\",\"y\":[16],\"yaxis\":\"y9\",\"type\":\"bar\"},{\"alignmentgroup\":\"True\",\"hovertemplate\":\"Apparatus=%{x}\\u003cbr\\u003eSeason=2017\\u003cbr\\u003eNo. of Tens=%{y}\\u003cextra\\u003e\\u003c\\u002fextra\\u003e\",\"legendgroup\":\"Balance Beam\",\"marker\":{\"color\":\"#00cc96\",\"pattern\":{\"shape\":\"\"}},\"name\":\"Balance Beam\",\"offsetgroup\":\"Balance Beam\",\"orientation\":\"v\",\"showlegend\":false,\"textposition\":\"auto\",\"x\":[\"Balance Beam\"],\"xaxis\":\"x8\",\"y\":[35],\"yaxis\":\"y8\",\"type\":\"bar\"},{\"alignmentgroup\":\"True\",\"hovertemplate\":\"Apparatus=%{x}\\u003cbr\\u003eSeason=2018\\u003cbr\\u003eNo. of Tens=%{y}\\u003cextra\\u003e\\u003c\\u002fextra\\u003e\",\"legendgroup\":\"Balance Beam\",\"marker\":{\"color\":\"#00cc96\",\"pattern\":{\"shape\":\"\"}},\"name\":\"Balance Beam\",\"offsetgroup\":\"Balance Beam\",\"orientation\":\"v\",\"showlegend\":false,\"textposition\":\"auto\",\"x\":[\"Balance Beam\"],\"xaxis\":\"x7\",\"y\":[53],\"yaxis\":\"y7\",\"type\":\"bar\"},{\"alignmentgroup\":\"True\",\"hovertemplate\":\"Apparatus=%{x}\\u003cbr\\u003eSeason=2019\\u003cbr\\u003eNo. of Tens=%{y}\\u003cextra\\u003e\\u003c\\u002fextra\\u003e\",\"legendgroup\":\"Balance Beam\",\"marker\":{\"color\":\"#00cc96\",\"pattern\":{\"shape\":\"\"}},\"name\":\"Balance Beam\",\"offsetgroup\":\"Balance Beam\",\"orientation\":\"v\",\"showlegend\":false,\"textposition\":\"auto\",\"x\":[\"Balance Beam\"],\"xaxis\":\"x6\",\"y\":[8],\"yaxis\":\"y6\",\"type\":\"bar\"},{\"alignmentgroup\":\"True\",\"hovertemplate\":\"Apparatus=%{x}\\u003cbr\\u003eSeason=2020\\u003cbr\\u003eNo. of Tens=%{y}\\u003cextra\\u003e\\u003c\\u002fextra\\u003e\",\"legendgroup\":\"Balance Beam\",\"marker\":{\"color\":\"#00cc96\",\"pattern\":{\"shape\":\"\"}},\"name\":\"Balance Beam\",\"offsetgroup\":\"Balance Beam\",\"orientation\":\"v\",\"showlegend\":false,\"textposition\":\"auto\",\"x\":[\"Balance Beam\"],\"xaxis\":\"x5\",\"y\":[32],\"yaxis\":\"y5\",\"type\":\"bar\"},{\"alignmentgroup\":\"True\",\"hovertemplate\":\"Apparatus=%{x}\\u003cbr\\u003eSeason=2021\\u003cbr\\u003eNo. of Tens=%{y}\\u003cextra\\u003e\\u003c\\u002fextra\\u003e\",\"legendgroup\":\"Balance Beam\",\"marker\":{\"color\":\"#00cc96\",\"pattern\":{\"shape\":\"\"}},\"name\":\"Balance Beam\",\"offsetgroup\":\"Balance Beam\",\"orientation\":\"v\",\"showlegend\":false,\"textposition\":\"auto\",\"x\":[\"Balance Beam\"],\"xaxis\":\"x4\",\"y\":[20],\"yaxis\":\"y4\",\"type\":\"bar\"},{\"alignmentgroup\":\"True\",\"hovertemplate\":\"Apparatus=%{x}\\u003cbr\\u003eSeason=2022\\u003cbr\\u003eNo. of Tens=%{y}\\u003cextra\\u003e\\u003c\\u002fextra\\u003e\",\"legendgroup\":\"Balance Beam\",\"marker\":{\"color\":\"#00cc96\",\"pattern\":{\"shape\":\"\"}},\"name\":\"Balance Beam\",\"offsetgroup\":\"Balance Beam\",\"orientation\":\"v\",\"showlegend\":false,\"textposition\":\"auto\",\"x\":[\"Balance Beam\"],\"xaxis\":\"x3\",\"y\":[38],\"yaxis\":\"y3\",\"type\":\"bar\"},{\"alignmentgroup\":\"True\",\"hovertemplate\":\"Apparatus=%{x}\\u003cbr\\u003eSeason=2023\\u003cbr\\u003eNo. of Tens=%{y}\\u003cextra\\u003e\\u003c\\u002fextra\\u003e\",\"legendgroup\":\"Balance Beam\",\"marker\":{\"color\":\"#00cc96\",\"pattern\":{\"shape\":\"\"}},\"name\":\"Balance Beam\",\"offsetgroup\":\"Balance Beam\",\"orientation\":\"v\",\"showlegend\":false,\"textposition\":\"auto\",\"x\":[\"Balance Beam\"],\"xaxis\":\"x2\",\"y\":[126],\"yaxis\":\"y2\",\"type\":\"bar\"},{\"alignmentgroup\":\"True\",\"hovertemplate\":\"Apparatus=%{x}\\u003cbr\\u003eSeason=2024\\u003cbr\\u003eNo. of Tens=%{y}\\u003cextra\\u003e\\u003c\\u002fextra\\u003e\",\"legendgroup\":\"Balance Beam\",\"marker\":{\"color\":\"#00cc96\",\"pattern\":{\"shape\":\"\"}},\"name\":\"Balance Beam\",\"offsetgroup\":\"Balance Beam\",\"orientation\":\"v\",\"showlegend\":false,\"textposition\":\"auto\",\"x\":[\"Balance Beam\"],\"xaxis\":\"x\",\"y\":[69],\"yaxis\":\"y\",\"type\":\"bar\"},{\"alignmentgroup\":\"True\",\"hovertemplate\":\"Apparatus=%{x}\\u003cbr\\u003eSeason=2015\\u003cbr\\u003eNo. of Tens=%{y}\\u003cextra\\u003e\\u003c\\u002fextra\\u003e\",\"legendgroup\":\"Floor Exercise\",\"marker\":{\"color\":\"#ab63fa\",\"pattern\":{\"shape\":\"\"}},\"name\":\"Floor Exercise\",\"offsetgroup\":\"Floor Exercise\",\"orientation\":\"v\",\"showlegend\":true,\"textposition\":\"auto\",\"x\":[\"Floor Exercise\"],\"xaxis\":\"x10\",\"y\":[7],\"yaxis\":\"y10\",\"type\":\"bar\"},{\"alignmentgroup\":\"True\",\"hovertemplate\":\"Apparatus=%{x}\\u003cbr\\u003eSeason=2016\\u003cbr\\u003eNo. of Tens=%{y}\\u003cextra\\u003e\\u003c\\u002fextra\\u003e\",\"legendgroup\":\"Floor Exercise\",\"marker\":{\"color\":\"#ab63fa\",\"pattern\":{\"shape\":\"\"}},\"name\":\"Floor Exercise\",\"offsetgroup\":\"Floor Exercise\",\"orientation\":\"v\",\"showlegend\":false,\"textposition\":\"auto\",\"x\":[\"Floor Exercise\"],\"xaxis\":\"x9\",\"y\":[28],\"yaxis\":\"y9\",\"type\":\"bar\"},{\"alignmentgroup\":\"True\",\"hovertemplate\":\"Apparatus=%{x}\\u003cbr\\u003eSeason=2017\\u003cbr\\u003eNo. of Tens=%{y}\\u003cextra\\u003e\\u003c\\u002fextra\\u003e\",\"legendgroup\":\"Floor Exercise\",\"marker\":{\"color\":\"#ab63fa\",\"pattern\":{\"shape\":\"\"}},\"name\":\"Floor Exercise\",\"offsetgroup\":\"Floor Exercise\",\"orientation\":\"v\",\"showlegend\":false,\"textposition\":\"auto\",\"x\":[\"Floor Exercise\"],\"xaxis\":\"x8\",\"y\":[16],\"yaxis\":\"y8\",\"type\":\"bar\"},{\"alignmentgroup\":\"True\",\"hovertemplate\":\"Apparatus=%{x}\\u003cbr\\u003eSeason=2018\\u003cbr\\u003eNo. of Tens=%{y}\\u003cextra\\u003e\\u003c\\u002fextra\\u003e\",\"legendgroup\":\"Floor Exercise\",\"marker\":{\"color\":\"#ab63fa\",\"pattern\":{\"shape\":\"\"}},\"name\":\"Floor Exercise\",\"offsetgroup\":\"Floor Exercise\",\"orientation\":\"v\",\"showlegend\":false,\"textposition\":\"auto\",\"x\":[\"Floor Exercise\"],\"xaxis\":\"x7\",\"y\":[24],\"yaxis\":\"y7\",\"type\":\"bar\"},{\"alignmentgroup\":\"True\",\"hovertemplate\":\"Apparatus=%{x}\\u003cbr\\u003eSeason=2019\\u003cbr\\u003eNo. of Tens=%{y}\\u003cextra\\u003e\\u003c\\u002fextra\\u003e\",\"legendgroup\":\"Floor Exercise\",\"marker\":{\"color\":\"#ab63fa\",\"pattern\":{\"shape\":\"\"}},\"name\":\"Floor Exercise\",\"offsetgroup\":\"Floor Exercise\",\"orientation\":\"v\",\"showlegend\":false,\"textposition\":\"auto\",\"x\":[\"Floor Exercise\"],\"xaxis\":\"x6\",\"y\":[56],\"yaxis\":\"y6\",\"type\":\"bar\"},{\"alignmentgroup\":\"True\",\"hovertemplate\":\"Apparatus=%{x}\\u003cbr\\u003eSeason=2020\\u003cbr\\u003eNo. of Tens=%{y}\\u003cextra\\u003e\\u003c\\u002fextra\\u003e\",\"legendgroup\":\"Floor Exercise\",\"marker\":{\"color\":\"#ab63fa\",\"pattern\":{\"shape\":\"\"}},\"name\":\"Floor Exercise\",\"offsetgroup\":\"Floor Exercise\",\"orientation\":\"v\",\"showlegend\":false,\"textposition\":\"auto\",\"x\":[\"Floor Exercise\"],\"xaxis\":\"x5\",\"y\":[4],\"yaxis\":\"y5\",\"type\":\"bar\"},{\"alignmentgroup\":\"True\",\"hovertemplate\":\"Apparatus=%{x}\\u003cbr\\u003eSeason=2021\\u003cbr\\u003eNo. of Tens=%{y}\\u003cextra\\u003e\\u003c\\u002fextra\\u003e\",\"legendgroup\":\"Floor Exercise\",\"marker\":{\"color\":\"#ab63fa\",\"pattern\":{\"shape\":\"\"}},\"name\":\"Floor Exercise\",\"offsetgroup\":\"Floor Exercise\",\"orientation\":\"v\",\"showlegend\":false,\"textposition\":\"auto\",\"x\":[\"Floor Exercise\"],\"xaxis\":\"x4\",\"y\":[21],\"yaxis\":\"y4\",\"type\":\"bar\"},{\"alignmentgroup\":\"True\",\"hovertemplate\":\"Apparatus=%{x}\\u003cbr\\u003eSeason=2022\\u003cbr\\u003eNo. of Tens=%{y}\\u003cextra\\u003e\\u003c\\u002fextra\\u003e\",\"legendgroup\":\"Floor Exercise\",\"marker\":{\"color\":\"#ab63fa\",\"pattern\":{\"shape\":\"\"}},\"name\":\"Floor Exercise\",\"offsetgroup\":\"Floor Exercise\",\"orientation\":\"v\",\"showlegend\":false,\"textposition\":\"auto\",\"x\":[\"Floor Exercise\"],\"xaxis\":\"x3\",\"y\":[77],\"yaxis\":\"y3\",\"type\":\"bar\"},{\"alignmentgroup\":\"True\",\"hovertemplate\":\"Apparatus=%{x}\\u003cbr\\u003eSeason=2023\\u003cbr\\u003eNo. of Tens=%{y}\\u003cextra\\u003e\\u003c\\u002fextra\\u003e\",\"legendgroup\":\"Floor Exercise\",\"marker\":{\"color\":\"#ab63fa\",\"pattern\":{\"shape\":\"\"}},\"name\":\"Floor Exercise\",\"offsetgroup\":\"Floor Exercise\",\"orientation\":\"v\",\"showlegend\":false,\"textposition\":\"auto\",\"x\":[\"Floor Exercise\"],\"xaxis\":\"x2\",\"y\":[64],\"yaxis\":\"y2\",\"type\":\"bar\"},{\"alignmentgroup\":\"True\",\"hovertemplate\":\"Apparatus=%{x}\\u003cbr\\u003eSeason=2024\\u003cbr\\u003eNo. of Tens=%{y}\\u003cextra\\u003e\\u003c\\u002fextra\\u003e\",\"legendgroup\":\"Floor Exercise\",\"marker\":{\"color\":\"#ab63fa\",\"pattern\":{\"shape\":\"\"}},\"name\":\"Floor Exercise\",\"offsetgroup\":\"Floor Exercise\",\"orientation\":\"v\",\"showlegend\":false,\"textposition\":\"auto\",\"x\":[\"Floor Exercise\"],\"xaxis\":\"x\",\"y\":[103],\"yaxis\":\"y\",\"type\":\"bar\"}],                        {\"template\":{\"data\":{\"histogram2dcontour\":[{\"type\":\"histogram2dcontour\",\"colorbar\":{\"outlinewidth\":0,\"ticks\":\"\"},\"colorscale\":[[0.0,\"#0d0887\"],[0.1111111111111111,\"#46039f\"],[0.2222222222222222,\"#7201a8\"],[0.3333333333333333,\"#9c179e\"],[0.4444444444444444,\"#bd3786\"],[0.5555555555555556,\"#d8576b\"],[0.6666666666666666,\"#ed7953\"],[0.7777777777777778,\"#fb9f3a\"],[0.8888888888888888,\"#fdca26\"],[1.0,\"#f0f921\"]]}],\"choropleth\":[{\"type\":\"choropleth\",\"colorbar\":{\"outlinewidth\":0,\"ticks\":\"\"}}],\"histogram2d\":[{\"type\":\"histogram2d\",\"colorbar\":{\"outlinewidth\":0,\"ticks\":\"\"},\"colorscale\":[[0.0,\"#0d0887\"],[0.1111111111111111,\"#46039f\"],[0.2222222222222222,\"#7201a8\"],[0.3333333333333333,\"#9c179e\"],[0.4444444444444444,\"#bd3786\"],[0.5555555555555556,\"#d8576b\"],[0.6666666666666666,\"#ed7953\"],[0.7777777777777778,\"#fb9f3a\"],[0.8888888888888888,\"#fdca26\"],[1.0,\"#f0f921\"]]}],\"heatmap\":[{\"type\":\"heatmap\",\"colorbar\":{\"outlinewidth\":0,\"ticks\":\"\"},\"colorscale\":[[0.0,\"#0d0887\"],[0.1111111111111111,\"#46039f\"],[0.2222222222222222,\"#7201a8\"],[0.3333333333333333,\"#9c179e\"],[0.4444444444444444,\"#bd3786\"],[0.5555555555555556,\"#d8576b\"],[0.6666666666666666,\"#ed7953\"],[0.7777777777777778,\"#fb9f3a\"],[0.8888888888888888,\"#fdca26\"],[1.0,\"#f0f921\"]]}],\"heatmapgl\":[{\"type\":\"heatmapgl\",\"colorbar\":{\"outlinewidth\":0,\"ticks\":\"\"},\"colorscale\":[[0.0,\"#0d0887\"],[0.1111111111111111,\"#46039f\"],[0.2222222222222222,\"#7201a8\"],[0.3333333333333333,\"#9c179e\"],[0.4444444444444444,\"#bd3786\"],[0.5555555555555556,\"#d8576b\"],[0.6666666666666666,\"#ed7953\"],[0.7777777777777778,\"#fb9f3a\"],[0.8888888888888888,\"#fdca26\"],[1.0,\"#f0f921\"]]}],\"contourcarpet\":[{\"type\":\"contourcarpet\",\"colorbar\":{\"outlinewidth\":0,\"ticks\":\"\"}}],\"contour\":[{\"type\":\"contour\",\"colorbar\":{\"outlinewidth\":0,\"ticks\":\"\"},\"colorscale\":[[0.0,\"#0d0887\"],[0.1111111111111111,\"#46039f\"],[0.2222222222222222,\"#7201a8\"],[0.3333333333333333,\"#9c179e\"],[0.4444444444444444,\"#bd3786\"],[0.5555555555555556,\"#d8576b\"],[0.6666666666666666,\"#ed7953\"],[0.7777777777777778,\"#fb9f3a\"],[0.8888888888888888,\"#fdca26\"],[1.0,\"#f0f921\"]]}],\"surface\":[{\"type\":\"surface\",\"colorbar\":{\"outlinewidth\":0,\"ticks\":\"\"},\"colorscale\":[[0.0,\"#0d0887\"],[0.1111111111111111,\"#46039f\"],[0.2222222222222222,\"#7201a8\"],[0.3333333333333333,\"#9c179e\"],[0.4444444444444444,\"#bd3786\"],[0.5555555555555556,\"#d8576b\"],[0.6666666666666666,\"#ed7953\"],[0.7777777777777778,\"#fb9f3a\"],[0.8888888888888888,\"#fdca26\"],[1.0,\"#f0f921\"]]}],\"mesh3d\":[{\"type\":\"mesh3d\",\"colorbar\":{\"outlinewidth\":0,\"ticks\":\"\"}}],\"scatter\":[{\"fillpattern\":{\"fillmode\":\"overlay\",\"size\":10,\"solidity\":0.2},\"type\":\"scatter\"}],\"parcoords\":[{\"type\":\"parcoords\",\"line\":{\"colorbar\":{\"outlinewidth\":0,\"ticks\":\"\"}}}],\"scatterpolargl\":[{\"type\":\"scatterpolargl\",\"marker\":{\"colorbar\":{\"outlinewidth\":0,\"ticks\":\"\"}}}],\"bar\":[{\"error_x\":{\"color\":\"#2a3f5f\"},\"error_y\":{\"color\":\"#2a3f5f\"},\"marker\":{\"line\":{\"color\":\"#E5ECF6\",\"width\":0.5},\"pattern\":{\"fillmode\":\"overlay\",\"size\":10,\"solidity\":0.2}},\"type\":\"bar\"}],\"scattergeo\":[{\"type\":\"scattergeo\",\"marker\":{\"colorbar\":{\"outlinewidth\":0,\"ticks\":\"\"}}}],\"scatterpolar\":[{\"type\":\"scatterpolar\",\"marker\":{\"colorbar\":{\"outlinewidth\":0,\"ticks\":\"\"}}}],\"histogram\":[{\"marker\":{\"pattern\":{\"fillmode\":\"overlay\",\"size\":10,\"solidity\":0.2}},\"type\":\"histogram\"}],\"scattergl\":[{\"type\":\"scattergl\",\"marker\":{\"colorbar\":{\"outlinewidth\":0,\"ticks\":\"\"}}}],\"scatter3d\":[{\"type\":\"scatter3d\",\"line\":{\"colorbar\":{\"outlinewidth\":0,\"ticks\":\"\"}},\"marker\":{\"colorbar\":{\"outlinewidth\":0,\"ticks\":\"\"}}}],\"scattermapbox\":[{\"type\":\"scattermapbox\",\"marker\":{\"colorbar\":{\"outlinewidth\":0,\"ticks\":\"\"}}}],\"scatterternary\":[{\"type\":\"scatterternary\",\"marker\":{\"colorbar\":{\"outlinewidth\":0,\"ticks\":\"\"}}}],\"scattercarpet\":[{\"type\":\"scattercarpet\",\"marker\":{\"colorbar\":{\"outlinewidth\":0,\"ticks\":\"\"}}}],\"carpet\":[{\"aaxis\":{\"endlinecolor\":\"#2a3f5f\",\"gridcolor\":\"white\",\"linecolor\":\"white\",\"minorgridcolor\":\"white\",\"startlinecolor\":\"#2a3f5f\"},\"baxis\":{\"endlinecolor\":\"#2a3f5f\",\"gridcolor\":\"white\",\"linecolor\":\"white\",\"minorgridcolor\":\"white\",\"startlinecolor\":\"#2a3f5f\"},\"type\":\"carpet\"}],\"table\":[{\"cells\":{\"fill\":{\"color\":\"#EBF0F8\"},\"line\":{\"color\":\"white\"}},\"header\":{\"fill\":{\"color\":\"#C8D4E3\"},\"line\":{\"color\":\"white\"}},\"type\":\"table\"}],\"barpolar\":[{\"marker\":{\"line\":{\"color\":\"#E5ECF6\",\"width\":0.5},\"pattern\":{\"fillmode\":\"overlay\",\"size\":10,\"solidity\":0.2}},\"type\":\"barpolar\"}],\"pie\":[{\"automargin\":true,\"type\":\"pie\"}]},\"layout\":{\"autotypenumbers\":\"strict\",\"colorway\":[\"#636efa\",\"#EF553B\",\"#00cc96\",\"#ab63fa\",\"#FFA15A\",\"#19d3f3\",\"#FF6692\",\"#B6E880\",\"#FF97FF\",\"#FECB52\"],\"font\":{\"color\":\"#2a3f5f\"},\"hovermode\":\"closest\",\"hoverlabel\":{\"align\":\"left\"},\"paper_bgcolor\":\"white\",\"plot_bgcolor\":\"#E5ECF6\",\"polar\":{\"bgcolor\":\"#E5ECF6\",\"angularaxis\":{\"gridcolor\":\"white\",\"linecolor\":\"white\",\"ticks\":\"\"},\"radialaxis\":{\"gridcolor\":\"white\",\"linecolor\":\"white\",\"ticks\":\"\"}},\"ternary\":{\"bgcolor\":\"#E5ECF6\",\"aaxis\":{\"gridcolor\":\"white\",\"linecolor\":\"white\",\"ticks\":\"\"},\"baxis\":{\"gridcolor\":\"white\",\"linecolor\":\"white\",\"ticks\":\"\"},\"caxis\":{\"gridcolor\":\"white\",\"linecolor\":\"white\",\"ticks\":\"\"}},\"coloraxis\":{\"colorbar\":{\"outlinewidth\":0,\"ticks\":\"\"}},\"colorscale\":{\"sequential\":[[0.0,\"#0d0887\"],[0.1111111111111111,\"#46039f\"],[0.2222222222222222,\"#7201a8\"],[0.3333333333333333,\"#9c179e\"],[0.4444444444444444,\"#bd3786\"],[0.5555555555555556,\"#d8576b\"],[0.6666666666666666,\"#ed7953\"],[0.7777777777777778,\"#fb9f3a\"],[0.8888888888888888,\"#fdca26\"],[1.0,\"#f0f921\"]],\"sequentialminus\":[[0.0,\"#0d0887\"],[0.1111111111111111,\"#46039f\"],[0.2222222222222222,\"#7201a8\"],[0.3333333333333333,\"#9c179e\"],[0.4444444444444444,\"#bd3786\"],[0.5555555555555556,\"#d8576b\"],[0.6666666666666666,\"#ed7953\"],[0.7777777777777778,\"#fb9f3a\"],[0.8888888888888888,\"#fdca26\"],[1.0,\"#f0f921\"]],\"diverging\":[[0,\"#8e0152\"],[0.1,\"#c51b7d\"],[0.2,\"#de77ae\"],[0.3,\"#f1b6da\"],[0.4,\"#fde0ef\"],[0.5,\"#f7f7f7\"],[0.6,\"#e6f5d0\"],[0.7,\"#b8e186\"],[0.8,\"#7fbc41\"],[0.9,\"#4d9221\"],[1,\"#276419\"]]},\"xaxis\":{\"gridcolor\":\"white\",\"linecolor\":\"white\",\"ticks\":\"\",\"title\":{\"standoff\":15},\"zerolinecolor\":\"white\",\"automargin\":true,\"zerolinewidth\":2},\"yaxis\":{\"gridcolor\":\"white\",\"linecolor\":\"white\",\"ticks\":\"\",\"title\":{\"standoff\":15},\"zerolinecolor\":\"white\",\"automargin\":true,\"zerolinewidth\":2},\"scene\":{\"xaxis\":{\"backgroundcolor\":\"#E5ECF6\",\"gridcolor\":\"white\",\"linecolor\":\"white\",\"showbackground\":true,\"ticks\":\"\",\"zerolinecolor\":\"white\",\"gridwidth\":2},\"yaxis\":{\"backgroundcolor\":\"#E5ECF6\",\"gridcolor\":\"white\",\"linecolor\":\"white\",\"showbackground\":true,\"ticks\":\"\",\"zerolinecolor\":\"white\",\"gridwidth\":2},\"zaxis\":{\"backgroundcolor\":\"#E5ECF6\",\"gridcolor\":\"white\",\"linecolor\":\"white\",\"showbackground\":true,\"ticks\":\"\",\"zerolinecolor\":\"white\",\"gridwidth\":2}},\"shapedefaults\":{\"line\":{\"color\":\"#2a3f5f\"}},\"annotationdefaults\":{\"arrowcolor\":\"#2a3f5f\",\"arrowhead\":0,\"arrowwidth\":1},\"geo\":{\"bgcolor\":\"white\",\"landcolor\":\"#E5ECF6\",\"subunitcolor\":\"white\",\"showland\":true,\"showlakes\":true,\"lakecolor\":\"white\"},\"title\":{\"x\":0.05},\"mapbox\":{\"style\":\"light\"}}},\"xaxis\":{\"anchor\":\"y\",\"domain\":[0.0,0.98],\"title\":{\"text\":\"Apparatus\"},\"categoryorder\":\"array\",\"categoryarray\":[\"Vault\",\"Uneven Bars\",\"Balance Beam\",\"Floor Exercise\"]},\"yaxis\":{\"anchor\":\"x\",\"domain\":[0.0,0.073],\"title\":{\"text\":\"Number of Tens\"}},\"xaxis2\":{\"anchor\":\"y2\",\"domain\":[0.0,0.98],\"matches\":\"x\",\"showticklabels\":false},\"yaxis2\":{\"anchor\":\"x2\",\"domain\":[0.103,0.176],\"matches\":\"y\",\"title\":{\"text\":\"No. of Tens\"}},\"xaxis3\":{\"anchor\":\"y3\",\"domain\":[0.0,0.98],\"matches\":\"x\",\"showticklabels\":false},\"yaxis3\":{\"anchor\":\"x3\",\"domain\":[0.206,0.27899999999999997],\"matches\":\"y\",\"title\":{\"text\":\"No. of Tens\"}},\"xaxis4\":{\"anchor\":\"y4\",\"domain\":[0.0,0.98],\"matches\":\"x\",\"showticklabels\":false},\"yaxis4\":{\"anchor\":\"x4\",\"domain\":[0.30899999999999994,0.38199999999999995],\"matches\":\"y\",\"title\":{\"text\":\"No. of Tens\"}},\"xaxis5\":{\"anchor\":\"y5\",\"domain\":[0.0,0.98],\"matches\":\"x\",\"showticklabels\":false},\"yaxis5\":{\"anchor\":\"x5\",\"domain\":[0.412,0.485],\"matches\":\"y\",\"title\":{\"text\":\"No. of Tens\"}},\"xaxis6\":{\"anchor\":\"y6\",\"domain\":[0.0,0.98],\"matches\":\"x\",\"showticklabels\":false},\"yaxis6\":{\"anchor\":\"x6\",\"domain\":[0.515,0.588],\"matches\":\"y\",\"title\":{\"text\":\"No. of Tens\"}},\"xaxis7\":{\"anchor\":\"y7\",\"domain\":[0.0,0.98],\"matches\":\"x\",\"showticklabels\":false},\"yaxis7\":{\"anchor\":\"x7\",\"domain\":[0.6179999999999999,0.6909999999999998],\"matches\":\"y\",\"title\":{\"text\":\"No. of Tens\"}},\"xaxis8\":{\"anchor\":\"y8\",\"domain\":[0.0,0.98],\"matches\":\"x\",\"showticklabels\":false},\"yaxis8\":{\"anchor\":\"x8\",\"domain\":[0.721,0.7939999999999999],\"matches\":\"y\",\"title\":{\"text\":\"No. of Tens\"}},\"xaxis9\":{\"anchor\":\"y9\",\"domain\":[0.0,0.98],\"matches\":\"x\",\"showticklabels\":false},\"yaxis9\":{\"anchor\":\"x9\",\"domain\":[0.824,0.8969999999999999],\"matches\":\"y\",\"title\":{\"text\":\"No. of Tens\"}},\"xaxis10\":{\"anchor\":\"y10\",\"domain\":[0.0,0.98],\"matches\":\"x\",\"showticklabels\":false},\"yaxis10\":{\"anchor\":\"x10\",\"domain\":[0.9269999999999999,0.9999999999999999],\"matches\":\"y\",\"title\":{\"text\":\"No. of Tens\"}},\"annotations\":[{\"font\":{},\"showarrow\":false,\"text\":\"Season=2024\",\"textangle\":90,\"x\":0.98,\"xanchor\":\"left\",\"xref\":\"paper\",\"y\":0.0365,\"yanchor\":\"middle\",\"yref\":\"paper\"},{\"font\":{},\"showarrow\":false,\"text\":\"Season=2023\",\"textangle\":90,\"x\":0.98,\"xanchor\":\"left\",\"xref\":\"paper\",\"y\":0.13949999999999999,\"yanchor\":\"middle\",\"yref\":\"paper\"},{\"font\":{},\"showarrow\":false,\"text\":\"Season=2022\",\"textangle\":90,\"x\":0.98,\"xanchor\":\"left\",\"xref\":\"paper\",\"y\":0.2425,\"yanchor\":\"middle\",\"yref\":\"paper\"},{\"font\":{},\"showarrow\":false,\"text\":\"Season=2021\",\"textangle\":90,\"x\":0.98,\"xanchor\":\"left\",\"xref\":\"paper\",\"y\":0.3454999999999999,\"yanchor\":\"middle\",\"yref\":\"paper\"},{\"font\":{},\"showarrow\":false,\"text\":\"Season=2020\",\"textangle\":90,\"x\":0.98,\"xanchor\":\"left\",\"xref\":\"paper\",\"y\":0.4485,\"yanchor\":\"middle\",\"yref\":\"paper\"},{\"font\":{},\"showarrow\":false,\"text\":\"Season=2019\",\"textangle\":90,\"x\":0.98,\"xanchor\":\"left\",\"xref\":\"paper\",\"y\":0.5515,\"yanchor\":\"middle\",\"yref\":\"paper\"},{\"font\":{},\"showarrow\":false,\"text\":\"Season=2018\",\"textangle\":90,\"x\":0.98,\"xanchor\":\"left\",\"xref\":\"paper\",\"y\":0.6544999999999999,\"yanchor\":\"middle\",\"yref\":\"paper\"},{\"font\":{},\"showarrow\":false,\"text\":\"Season=2017\",\"textangle\":90,\"x\":0.98,\"xanchor\":\"left\",\"xref\":\"paper\",\"y\":0.7575,\"yanchor\":\"middle\",\"yref\":\"paper\"},{\"font\":{},\"showarrow\":false,\"text\":\"Season=2016\",\"textangle\":90,\"x\":0.98,\"xanchor\":\"left\",\"xref\":\"paper\",\"y\":0.8604999999999999,\"yanchor\":\"middle\",\"yref\":\"paper\"},{\"font\":{},\"showarrow\":false,\"text\":\"Season=2015\",\"textangle\":90,\"x\":0.98,\"xanchor\":\"left\",\"xref\":\"paper\",\"y\":0.9634999999999999,\"yanchor\":\"middle\",\"yref\":\"paper\"}],\"legend\":{\"title\":{\"text\":\"Apparatus\"},\"tracegroupgap\":0},\"margin\":{\"t\":60},\"barmode\":\"group\",\"title\":{\"text\":\"Number of Perfect 10s on Each Apparatus by Season\"},\"height\":1200,\"width\":400},                        {\"responsive\": true}                    )                };                            </script>        </div>"
      ],
      "text/plain": [
       "Figure({\n",
       "    'data': [{'alignmentgroup': 'True',\n",
       "              'hovertemplate': 'Apparatus=%{x}<br>Season=2015<br>No. of Tens=%{y}<extra></extra>',\n",
       "              'legendgroup': 'Vault',\n",
       "              'marker': {'color': '#636efa', 'pattern': {'shape': ''}},\n",
       "              'name': 'Vault',\n",
       "              'offsetgroup': 'Vault',\n",
       "              'orientation': 'v',\n",
       "              'showlegend': True,\n",
       "              'textposition': 'auto',\n",
       "              'type': 'bar',\n",
       "              'x': array(['Vault'], dtype=object),\n",
       "              'xaxis': 'x10',\n",
       "              'y': array([34]),\n",
       "              'yaxis': 'y10'},\n",
       "             {'alignmentgroup': 'True',\n",
       "              'hovertemplate': 'Apparatus=%{x}<br>Season=2016<br>No. of Tens=%{y}<extra></extra>',\n",
       "              'legendgroup': 'Vault',\n",
       "              'marker': {'color': '#636efa', 'pattern': {'shape': ''}},\n",
       "              'name': 'Vault',\n",
       "              'offsetgroup': 'Vault',\n",
       "              'orientation': 'v',\n",
       "              'showlegend': False,\n",
       "              'textposition': 'auto',\n",
       "              'type': 'bar',\n",
       "              'x': array(['Vault'], dtype=object),\n",
       "              'xaxis': 'x9',\n",
       "              'y': array([12]),\n",
       "              'yaxis': 'y9'},\n",
       "             {'alignmentgroup': 'True',\n",
       "              'hovertemplate': 'Apparatus=%{x}<br>Season=2017<br>No. of Tens=%{y}<extra></extra>',\n",
       "              'legendgroup': 'Vault',\n",
       "              'marker': {'color': '#636efa', 'pattern': {'shape': ''}},\n",
       "              'name': 'Vault',\n",
       "              'offsetgroup': 'Vault',\n",
       "              'orientation': 'v',\n",
       "              'showlegend': False,\n",
       "              'textposition': 'auto',\n",
       "              'type': 'bar',\n",
       "              'x': array(['Vault'], dtype=object),\n",
       "              'xaxis': 'x8',\n",
       "              'y': array([22]),\n",
       "              'yaxis': 'y8'},\n",
       "             {'alignmentgroup': 'True',\n",
       "              'hovertemplate': 'Apparatus=%{x}<br>Season=2018<br>No. of Tens=%{y}<extra></extra>',\n",
       "              'legendgroup': 'Vault',\n",
       "              'marker': {'color': '#636efa', 'pattern': {'shape': ''}},\n",
       "              'name': 'Vault',\n",
       "              'offsetgroup': 'Vault',\n",
       "              'orientation': 'v',\n",
       "              'showlegend': False,\n",
       "              'textposition': 'auto',\n",
       "              'type': 'bar',\n",
       "              'x': array(['Vault'], dtype=object),\n",
       "              'xaxis': 'x7',\n",
       "              'y': array([10]),\n",
       "              'yaxis': 'y7'},\n",
       "             {'alignmentgroup': 'True',\n",
       "              'hovertemplate': 'Apparatus=%{x}<br>Season=2019<br>No. of Tens=%{y}<extra></extra>',\n",
       "              'legendgroup': 'Vault',\n",
       "              'marker': {'color': '#636efa', 'pattern': {'shape': ''}},\n",
       "              'name': 'Vault',\n",
       "              'offsetgroup': 'Vault',\n",
       "              'orientation': 'v',\n",
       "              'showlegend': False,\n",
       "              'textposition': 'auto',\n",
       "              'type': 'bar',\n",
       "              'x': array(['Vault'], dtype=object),\n",
       "              'xaxis': 'x6',\n",
       "              'y': array([31]),\n",
       "              'yaxis': 'y6'},\n",
       "             {'alignmentgroup': 'True',\n",
       "              'hovertemplate': 'Apparatus=%{x}<br>Season=2020<br>No. of Tens=%{y}<extra></extra>',\n",
       "              'legendgroup': 'Vault',\n",
       "              'marker': {'color': '#636efa', 'pattern': {'shape': ''}},\n",
       "              'name': 'Vault',\n",
       "              'offsetgroup': 'Vault',\n",
       "              'orientation': 'v',\n",
       "              'showlegend': False,\n",
       "              'textposition': 'auto',\n",
       "              'type': 'bar',\n",
       "              'x': array(['Vault'], dtype=object),\n",
       "              'xaxis': 'x5',\n",
       "              'y': array([28]),\n",
       "              'yaxis': 'y5'},\n",
       "             {'alignmentgroup': 'True',\n",
       "              'hovertemplate': 'Apparatus=%{x}<br>Season=2021<br>No. of Tens=%{y}<extra></extra>',\n",
       "              'legendgroup': 'Vault',\n",
       "              'marker': {'color': '#636efa', 'pattern': {'shape': ''}},\n",
       "              'name': 'Vault',\n",
       "              'offsetgroup': 'Vault',\n",
       "              'orientation': 'v',\n",
       "              'showlegend': False,\n",
       "              'textposition': 'auto',\n",
       "              'type': 'bar',\n",
       "              'x': array(['Vault'], dtype=object),\n",
       "              'xaxis': 'x4',\n",
       "              'y': array([50]),\n",
       "              'yaxis': 'y4'},\n",
       "             {'alignmentgroup': 'True',\n",
       "              'hovertemplate': 'Apparatus=%{x}<br>Season=2022<br>No. of Tens=%{y}<extra></extra>',\n",
       "              'legendgroup': 'Vault',\n",
       "              'marker': {'color': '#636efa', 'pattern': {'shape': ''}},\n",
       "              'name': 'Vault',\n",
       "              'offsetgroup': 'Vault',\n",
       "              'orientation': 'v',\n",
       "              'showlegend': False,\n",
       "              'textposition': 'auto',\n",
       "              'type': 'bar',\n",
       "              'x': array(['Vault'], dtype=object),\n",
       "              'xaxis': 'x3',\n",
       "              'y': array([59]),\n",
       "              'yaxis': 'y3'},\n",
       "             {'alignmentgroup': 'True',\n",
       "              'hovertemplate': 'Apparatus=%{x}<br>Season=2023<br>No. of Tens=%{y}<extra></extra>',\n",
       "              'legendgroup': 'Vault',\n",
       "              'marker': {'color': '#636efa', 'pattern': {'shape': ''}},\n",
       "              'name': 'Vault',\n",
       "              'offsetgroup': 'Vault',\n",
       "              'orientation': 'v',\n",
       "              'showlegend': False,\n",
       "              'textposition': 'auto',\n",
       "              'type': 'bar',\n",
       "              'x': array(['Vault'], dtype=object),\n",
       "              'xaxis': 'x2',\n",
       "              'y': array([88]),\n",
       "              'yaxis': 'y2'},\n",
       "             {'alignmentgroup': 'True',\n",
       "              'hovertemplate': 'Apparatus=%{x}<br>Season=2024<br>No. of Tens=%{y}<extra></extra>',\n",
       "              'legendgroup': 'Vault',\n",
       "              'marker': {'color': '#636efa', 'pattern': {'shape': ''}},\n",
       "              'name': 'Vault',\n",
       "              'offsetgroup': 'Vault',\n",
       "              'orientation': 'v',\n",
       "              'showlegend': False,\n",
       "              'textposition': 'auto',\n",
       "              'type': 'bar',\n",
       "              'x': array(['Vault'], dtype=object),\n",
       "              'xaxis': 'x',\n",
       "              'y': array([45]),\n",
       "              'yaxis': 'y'},\n",
       "             {'alignmentgroup': 'True',\n",
       "              'hovertemplate': 'Apparatus=%{x}<br>Season=2015<br>No. of Tens=%{y}<extra></extra>',\n",
       "              'legendgroup': 'Uneven Bars',\n",
       "              'marker': {'color': '#EF553B', 'pattern': {'shape': ''}},\n",
       "              'name': 'Uneven Bars',\n",
       "              'offsetgroup': 'Uneven Bars',\n",
       "              'orientation': 'v',\n",
       "              'showlegend': True,\n",
       "              'textposition': 'auto',\n",
       "              'type': 'bar',\n",
       "              'x': array(['Uneven Bars'], dtype=object),\n",
       "              'xaxis': 'x10',\n",
       "              'y': array([32]),\n",
       "              'yaxis': 'y10'},\n",
       "             {'alignmentgroup': 'True',\n",
       "              'hovertemplate': 'Apparatus=%{x}<br>Season=2016<br>No. of Tens=%{y}<extra></extra>',\n",
       "              'legendgroup': 'Uneven Bars',\n",
       "              'marker': {'color': '#EF553B', 'pattern': {'shape': ''}},\n",
       "              'name': 'Uneven Bars',\n",
       "              'offsetgroup': 'Uneven Bars',\n",
       "              'orientation': 'v',\n",
       "              'showlegend': False,\n",
       "              'textposition': 'auto',\n",
       "              'type': 'bar',\n",
       "              'x': array(['Uneven Bars'], dtype=object),\n",
       "              'xaxis': 'x9',\n",
       "              'y': array([8]),\n",
       "              'yaxis': 'y9'},\n",
       "             {'alignmentgroup': 'True',\n",
       "              'hovertemplate': 'Apparatus=%{x}<br>Season=2017<br>No. of Tens=%{y}<extra></extra>',\n",
       "              'legendgroup': 'Uneven Bars',\n",
       "              'marker': {'color': '#EF553B', 'pattern': {'shape': ''}},\n",
       "              'name': 'Uneven Bars',\n",
       "              'offsetgroup': 'Uneven Bars',\n",
       "              'orientation': 'v',\n",
       "              'showlegend': False,\n",
       "              'textposition': 'auto',\n",
       "              'type': 'bar',\n",
       "              'x': array(['Uneven Bars'], dtype=object),\n",
       "              'xaxis': 'x8',\n",
       "              'y': array([26]),\n",
       "              'yaxis': 'y8'},\n",
       "             {'alignmentgroup': 'True',\n",
       "              'hovertemplate': 'Apparatus=%{x}<br>Season=2018<br>No. of Tens=%{y}<extra></extra>',\n",
       "              'legendgroup': 'Uneven Bars',\n",
       "              'marker': {'color': '#EF553B', 'pattern': {'shape': ''}},\n",
       "              'name': 'Uneven Bars',\n",
       "              'offsetgroup': 'Uneven Bars',\n",
       "              'orientation': 'v',\n",
       "              'showlegend': False,\n",
       "              'textposition': 'auto',\n",
       "              'type': 'bar',\n",
       "              'x': array(['Uneven Bars'], dtype=object),\n",
       "              'xaxis': 'x7',\n",
       "              'y': array([51]),\n",
       "              'yaxis': 'y7'},\n",
       "             {'alignmentgroup': 'True',\n",
       "              'hovertemplate': 'Apparatus=%{x}<br>Season=2019<br>No. of Tens=%{y}<extra></extra>',\n",
       "              'legendgroup': 'Uneven Bars',\n",
       "              'marker': {'color': '#EF553B', 'pattern': {'shape': ''}},\n",
       "              'name': 'Uneven Bars',\n",
       "              'offsetgroup': 'Uneven Bars',\n",
       "              'orientation': 'v',\n",
       "              'showlegend': False,\n",
       "              'textposition': 'auto',\n",
       "              'type': 'bar',\n",
       "              'x': array(['Uneven Bars'], dtype=object),\n",
       "              'xaxis': 'x6',\n",
       "              'y': array([38]),\n",
       "              'yaxis': 'y6'},\n",
       "             {'alignmentgroup': 'True',\n",
       "              'hovertemplate': 'Apparatus=%{x}<br>Season=2020<br>No. of Tens=%{y}<extra></extra>',\n",
       "              'legendgroup': 'Uneven Bars',\n",
       "              'marker': {'color': '#EF553B', 'pattern': {'shape': ''}},\n",
       "              'name': 'Uneven Bars',\n",
       "              'offsetgroup': 'Uneven Bars',\n",
       "              'orientation': 'v',\n",
       "              'showlegend': False,\n",
       "              'textposition': 'auto',\n",
       "              'type': 'bar',\n",
       "              'x': array(['Uneven Bars'], dtype=object),\n",
       "              'xaxis': 'x5',\n",
       "              'y': array([10]),\n",
       "              'yaxis': 'y5'},\n",
       "             {'alignmentgroup': 'True',\n",
       "              'hovertemplate': 'Apparatus=%{x}<br>Season=2021<br>No. of Tens=%{y}<extra></extra>',\n",
       "              'legendgroup': 'Uneven Bars',\n",
       "              'marker': {'color': '#EF553B', 'pattern': {'shape': ''}},\n",
       "              'name': 'Uneven Bars',\n",
       "              'offsetgroup': 'Uneven Bars',\n",
       "              'orientation': 'v',\n",
       "              'showlegend': False,\n",
       "              'textposition': 'auto',\n",
       "              'type': 'bar',\n",
       "              'x': array(['Uneven Bars'], dtype=object),\n",
       "              'xaxis': 'x4',\n",
       "              'y': array([44]),\n",
       "              'yaxis': 'y4'},\n",
       "             {'alignmentgroup': 'True',\n",
       "              'hovertemplate': 'Apparatus=%{x}<br>Season=2022<br>No. of Tens=%{y}<extra></extra>',\n",
       "              'legendgroup': 'Uneven Bars',\n",
       "              'marker': {'color': '#EF553B', 'pattern': {'shape': ''}},\n",
       "              'name': 'Uneven Bars',\n",
       "              'offsetgroup': 'Uneven Bars',\n",
       "              'orientation': 'v',\n",
       "              'showlegend': False,\n",
       "              'textposition': 'auto',\n",
       "              'type': 'bar',\n",
       "              'x': array(['Uneven Bars'], dtype=object),\n",
       "              'xaxis': 'x3',\n",
       "              'y': array([46]),\n",
       "              'yaxis': 'y3'},\n",
       "             {'alignmentgroup': 'True',\n",
       "              'hovertemplate': 'Apparatus=%{x}<br>Season=2023<br>No. of Tens=%{y}<extra></extra>',\n",
       "              'legendgroup': 'Uneven Bars',\n",
       "              'marker': {'color': '#EF553B', 'pattern': {'shape': ''}},\n",
       "              'name': 'Uneven Bars',\n",
       "              'offsetgroup': 'Uneven Bars',\n",
       "              'orientation': 'v',\n",
       "              'showlegend': False,\n",
       "              'textposition': 'auto',\n",
       "              'type': 'bar',\n",
       "              'x': array(['Uneven Bars'], dtype=object),\n",
       "              'xaxis': 'x2',\n",
       "              'y': array([81]),\n",
       "              'yaxis': 'y2'},\n",
       "             {'alignmentgroup': 'True',\n",
       "              'hovertemplate': 'Apparatus=%{x}<br>Season=2024<br>No. of Tens=%{y}<extra></extra>',\n",
       "              'legendgroup': 'Uneven Bars',\n",
       "              'marker': {'color': '#EF553B', 'pattern': {'shape': ''}},\n",
       "              'name': 'Uneven Bars',\n",
       "              'offsetgroup': 'Uneven Bars',\n",
       "              'orientation': 'v',\n",
       "              'showlegend': False,\n",
       "              'textposition': 'auto',\n",
       "              'type': 'bar',\n",
       "              'x': array(['Uneven Bars'], dtype=object),\n",
       "              'xaxis': 'x',\n",
       "              'y': array([56]),\n",
       "              'yaxis': 'y'},\n",
       "             {'alignmentgroup': 'True',\n",
       "              'hovertemplate': 'Apparatus=%{x}<br>Season=2015<br>No. of Tens=%{y}<extra></extra>',\n",
       "              'legendgroup': 'Balance Beam',\n",
       "              'marker': {'color': '#00cc96', 'pattern': {'shape': ''}},\n",
       "              'name': 'Balance Beam',\n",
       "              'offsetgroup': 'Balance Beam',\n",
       "              'orientation': 'v',\n",
       "              'showlegend': True,\n",
       "              'textposition': 'auto',\n",
       "              'type': 'bar',\n",
       "              'x': array(['Balance Beam'], dtype=object),\n",
       "              'xaxis': 'x10',\n",
       "              'y': array([2]),\n",
       "              'yaxis': 'y10'},\n",
       "             {'alignmentgroup': 'True',\n",
       "              'hovertemplate': 'Apparatus=%{x}<br>Season=2016<br>No. of Tens=%{y}<extra></extra>',\n",
       "              'legendgroup': 'Balance Beam',\n",
       "              'marker': {'color': '#00cc96', 'pattern': {'shape': ''}},\n",
       "              'name': 'Balance Beam',\n",
       "              'offsetgroup': 'Balance Beam',\n",
       "              'orientation': 'v',\n",
       "              'showlegend': False,\n",
       "              'textposition': 'auto',\n",
       "              'type': 'bar',\n",
       "              'x': array(['Balance Beam'], dtype=object),\n",
       "              'xaxis': 'x9',\n",
       "              'y': array([16]),\n",
       "              'yaxis': 'y9'},\n",
       "             {'alignmentgroup': 'True',\n",
       "              'hovertemplate': 'Apparatus=%{x}<br>Season=2017<br>No. of Tens=%{y}<extra></extra>',\n",
       "              'legendgroup': 'Balance Beam',\n",
       "              'marker': {'color': '#00cc96', 'pattern': {'shape': ''}},\n",
       "              'name': 'Balance Beam',\n",
       "              'offsetgroup': 'Balance Beam',\n",
       "              'orientation': 'v',\n",
       "              'showlegend': False,\n",
       "              'textposition': 'auto',\n",
       "              'type': 'bar',\n",
       "              'x': array(['Balance Beam'], dtype=object),\n",
       "              'xaxis': 'x8',\n",
       "              'y': array([35]),\n",
       "              'yaxis': 'y8'},\n",
       "             {'alignmentgroup': 'True',\n",
       "              'hovertemplate': 'Apparatus=%{x}<br>Season=2018<br>No. of Tens=%{y}<extra></extra>',\n",
       "              'legendgroup': 'Balance Beam',\n",
       "              'marker': {'color': '#00cc96', 'pattern': {'shape': ''}},\n",
       "              'name': 'Balance Beam',\n",
       "              'offsetgroup': 'Balance Beam',\n",
       "              'orientation': 'v',\n",
       "              'showlegend': False,\n",
       "              'textposition': 'auto',\n",
       "              'type': 'bar',\n",
       "              'x': array(['Balance Beam'], dtype=object),\n",
       "              'xaxis': 'x7',\n",
       "              'y': array([53]),\n",
       "              'yaxis': 'y7'},\n",
       "             {'alignmentgroup': 'True',\n",
       "              'hovertemplate': 'Apparatus=%{x}<br>Season=2019<br>No. of Tens=%{y}<extra></extra>',\n",
       "              'legendgroup': 'Balance Beam',\n",
       "              'marker': {'color': '#00cc96', 'pattern': {'shape': ''}},\n",
       "              'name': 'Balance Beam',\n",
       "              'offsetgroup': 'Balance Beam',\n",
       "              'orientation': 'v',\n",
       "              'showlegend': False,\n",
       "              'textposition': 'auto',\n",
       "              'type': 'bar',\n",
       "              'x': array(['Balance Beam'], dtype=object),\n",
       "              'xaxis': 'x6',\n",
       "              'y': array([8]),\n",
       "              'yaxis': 'y6'},\n",
       "             {'alignmentgroup': 'True',\n",
       "              'hovertemplate': 'Apparatus=%{x}<br>Season=2020<br>No. of Tens=%{y}<extra></extra>',\n",
       "              'legendgroup': 'Balance Beam',\n",
       "              'marker': {'color': '#00cc96', 'pattern': {'shape': ''}},\n",
       "              'name': 'Balance Beam',\n",
       "              'offsetgroup': 'Balance Beam',\n",
       "              'orientation': 'v',\n",
       "              'showlegend': False,\n",
       "              'textposition': 'auto',\n",
       "              'type': 'bar',\n",
       "              'x': array(['Balance Beam'], dtype=object),\n",
       "              'xaxis': 'x5',\n",
       "              'y': array([32]),\n",
       "              'yaxis': 'y5'},\n",
       "             {'alignmentgroup': 'True',\n",
       "              'hovertemplate': 'Apparatus=%{x}<br>Season=2021<br>No. of Tens=%{y}<extra></extra>',\n",
       "              'legendgroup': 'Balance Beam',\n",
       "              'marker': {'color': '#00cc96', 'pattern': {'shape': ''}},\n",
       "              'name': 'Balance Beam',\n",
       "              'offsetgroup': 'Balance Beam',\n",
       "              'orientation': 'v',\n",
       "              'showlegend': False,\n",
       "              'textposition': 'auto',\n",
       "              'type': 'bar',\n",
       "              'x': array(['Balance Beam'], dtype=object),\n",
       "              'xaxis': 'x4',\n",
       "              'y': array([20]),\n",
       "              'yaxis': 'y4'},\n",
       "             {'alignmentgroup': 'True',\n",
       "              'hovertemplate': 'Apparatus=%{x}<br>Season=2022<br>No. of Tens=%{y}<extra></extra>',\n",
       "              'legendgroup': 'Balance Beam',\n",
       "              'marker': {'color': '#00cc96', 'pattern': {'shape': ''}},\n",
       "              'name': 'Balance Beam',\n",
       "              'offsetgroup': 'Balance Beam',\n",
       "              'orientation': 'v',\n",
       "              'showlegend': False,\n",
       "              'textposition': 'auto',\n",
       "              'type': 'bar',\n",
       "              'x': array(['Balance Beam'], dtype=object),\n",
       "              'xaxis': 'x3',\n",
       "              'y': array([38]),\n",
       "              'yaxis': 'y3'},\n",
       "             {'alignmentgroup': 'True',\n",
       "              'hovertemplate': 'Apparatus=%{x}<br>Season=2023<br>No. of Tens=%{y}<extra></extra>',\n",
       "              'legendgroup': 'Balance Beam',\n",
       "              'marker': {'color': '#00cc96', 'pattern': {'shape': ''}},\n",
       "              'name': 'Balance Beam',\n",
       "              'offsetgroup': 'Balance Beam',\n",
       "              'orientation': 'v',\n",
       "              'showlegend': False,\n",
       "              'textposition': 'auto',\n",
       "              'type': 'bar',\n",
       "              'x': array(['Balance Beam'], dtype=object),\n",
       "              'xaxis': 'x2',\n",
       "              'y': array([126]),\n",
       "              'yaxis': 'y2'},\n",
       "             {'alignmentgroup': 'True',\n",
       "              'hovertemplate': 'Apparatus=%{x}<br>Season=2024<br>No. of Tens=%{y}<extra></extra>',\n",
       "              'legendgroup': 'Balance Beam',\n",
       "              'marker': {'color': '#00cc96', 'pattern': {'shape': ''}},\n",
       "              'name': 'Balance Beam',\n",
       "              'offsetgroup': 'Balance Beam',\n",
       "              'orientation': 'v',\n",
       "              'showlegend': False,\n",
       "              'textposition': 'auto',\n",
       "              'type': 'bar',\n",
       "              'x': array(['Balance Beam'], dtype=object),\n",
       "              'xaxis': 'x',\n",
       "              'y': array([69]),\n",
       "              'yaxis': 'y'},\n",
       "             {'alignmentgroup': 'True',\n",
       "              'hovertemplate': 'Apparatus=%{x}<br>Season=2015<br>No. of Tens=%{y}<extra></extra>',\n",
       "              'legendgroup': 'Floor Exercise',\n",
       "              'marker': {'color': '#ab63fa', 'pattern': {'shape': ''}},\n",
       "              'name': 'Floor Exercise',\n",
       "              'offsetgroup': 'Floor Exercise',\n",
       "              'orientation': 'v',\n",
       "              'showlegend': True,\n",
       "              'textposition': 'auto',\n",
       "              'type': 'bar',\n",
       "              'x': array(['Floor Exercise'], dtype=object),\n",
       "              'xaxis': 'x10',\n",
       "              'y': array([7]),\n",
       "              'yaxis': 'y10'},\n",
       "             {'alignmentgroup': 'True',\n",
       "              'hovertemplate': 'Apparatus=%{x}<br>Season=2016<br>No. of Tens=%{y}<extra></extra>',\n",
       "              'legendgroup': 'Floor Exercise',\n",
       "              'marker': {'color': '#ab63fa', 'pattern': {'shape': ''}},\n",
       "              'name': 'Floor Exercise',\n",
       "              'offsetgroup': 'Floor Exercise',\n",
       "              'orientation': 'v',\n",
       "              'showlegend': False,\n",
       "              'textposition': 'auto',\n",
       "              'type': 'bar',\n",
       "              'x': array(['Floor Exercise'], dtype=object),\n",
       "              'xaxis': 'x9',\n",
       "              'y': array([28]),\n",
       "              'yaxis': 'y9'},\n",
       "             {'alignmentgroup': 'True',\n",
       "              'hovertemplate': 'Apparatus=%{x}<br>Season=2017<br>No. of Tens=%{y}<extra></extra>',\n",
       "              'legendgroup': 'Floor Exercise',\n",
       "              'marker': {'color': '#ab63fa', 'pattern': {'shape': ''}},\n",
       "              'name': 'Floor Exercise',\n",
       "              'offsetgroup': 'Floor Exercise',\n",
       "              'orientation': 'v',\n",
       "              'showlegend': False,\n",
       "              'textposition': 'auto',\n",
       "              'type': 'bar',\n",
       "              'x': array(['Floor Exercise'], dtype=object),\n",
       "              'xaxis': 'x8',\n",
       "              'y': array([16]),\n",
       "              'yaxis': 'y8'},\n",
       "             {'alignmentgroup': 'True',\n",
       "              'hovertemplate': 'Apparatus=%{x}<br>Season=2018<br>No. of Tens=%{y}<extra></extra>',\n",
       "              'legendgroup': 'Floor Exercise',\n",
       "              'marker': {'color': '#ab63fa', 'pattern': {'shape': ''}},\n",
       "              'name': 'Floor Exercise',\n",
       "              'offsetgroup': 'Floor Exercise',\n",
       "              'orientation': 'v',\n",
       "              'showlegend': False,\n",
       "              'textposition': 'auto',\n",
       "              'type': 'bar',\n",
       "              'x': array(['Floor Exercise'], dtype=object),\n",
       "              'xaxis': 'x7',\n",
       "              'y': array([24]),\n",
       "              'yaxis': 'y7'},\n",
       "             {'alignmentgroup': 'True',\n",
       "              'hovertemplate': 'Apparatus=%{x}<br>Season=2019<br>No. of Tens=%{y}<extra></extra>',\n",
       "              'legendgroup': 'Floor Exercise',\n",
       "              'marker': {'color': '#ab63fa', 'pattern': {'shape': ''}},\n",
       "              'name': 'Floor Exercise',\n",
       "              'offsetgroup': 'Floor Exercise',\n",
       "              'orientation': 'v',\n",
       "              'showlegend': False,\n",
       "              'textposition': 'auto',\n",
       "              'type': 'bar',\n",
       "              'x': array(['Floor Exercise'], dtype=object),\n",
       "              'xaxis': 'x6',\n",
       "              'y': array([56]),\n",
       "              'yaxis': 'y6'},\n",
       "             {'alignmentgroup': 'True',\n",
       "              'hovertemplate': 'Apparatus=%{x}<br>Season=2020<br>No. of Tens=%{y}<extra></extra>',\n",
       "              'legendgroup': 'Floor Exercise',\n",
       "              'marker': {'color': '#ab63fa', 'pattern': {'shape': ''}},\n",
       "              'name': 'Floor Exercise',\n",
       "              'offsetgroup': 'Floor Exercise',\n",
       "              'orientation': 'v',\n",
       "              'showlegend': False,\n",
       "              'textposition': 'auto',\n",
       "              'type': 'bar',\n",
       "              'x': array(['Floor Exercise'], dtype=object),\n",
       "              'xaxis': 'x5',\n",
       "              'y': array([4]),\n",
       "              'yaxis': 'y5'},\n",
       "             {'alignmentgroup': 'True',\n",
       "              'hovertemplate': 'Apparatus=%{x}<br>Season=2021<br>No. of Tens=%{y}<extra></extra>',\n",
       "              'legendgroup': 'Floor Exercise',\n",
       "              'marker': {'color': '#ab63fa', 'pattern': {'shape': ''}},\n",
       "              'name': 'Floor Exercise',\n",
       "              'offsetgroup': 'Floor Exercise',\n",
       "              'orientation': 'v',\n",
       "              'showlegend': False,\n",
       "              'textposition': 'auto',\n",
       "              'type': 'bar',\n",
       "              'x': array(['Floor Exercise'], dtype=object),\n",
       "              'xaxis': 'x4',\n",
       "              'y': array([21]),\n",
       "              'yaxis': 'y4'},\n",
       "             {'alignmentgroup': 'True',\n",
       "              'hovertemplate': 'Apparatus=%{x}<br>Season=2022<br>No. of Tens=%{y}<extra></extra>',\n",
       "              'legendgroup': 'Floor Exercise',\n",
       "              'marker': {'color': '#ab63fa', 'pattern': {'shape': ''}},\n",
       "              'name': 'Floor Exercise',\n",
       "              'offsetgroup': 'Floor Exercise',\n",
       "              'orientation': 'v',\n",
       "              'showlegend': False,\n",
       "              'textposition': 'auto',\n",
       "              'type': 'bar',\n",
       "              'x': array(['Floor Exercise'], dtype=object),\n",
       "              'xaxis': 'x3',\n",
       "              'y': array([77]),\n",
       "              'yaxis': 'y3'},\n",
       "             {'alignmentgroup': 'True',\n",
       "              'hovertemplate': 'Apparatus=%{x}<br>Season=2023<br>No. of Tens=%{y}<extra></extra>',\n",
       "              'legendgroup': 'Floor Exercise',\n",
       "              'marker': {'color': '#ab63fa', 'pattern': {'shape': ''}},\n",
       "              'name': 'Floor Exercise',\n",
       "              'offsetgroup': 'Floor Exercise',\n",
       "              'orientation': 'v',\n",
       "              'showlegend': False,\n",
       "              'textposition': 'auto',\n",
       "              'type': 'bar',\n",
       "              'x': array(['Floor Exercise'], dtype=object),\n",
       "              'xaxis': 'x2',\n",
       "              'y': array([64]),\n",
       "              'yaxis': 'y2'},\n",
       "             {'alignmentgroup': 'True',\n",
       "              'hovertemplate': 'Apparatus=%{x}<br>Season=2024<br>No. of Tens=%{y}<extra></extra>',\n",
       "              'legendgroup': 'Floor Exercise',\n",
       "              'marker': {'color': '#ab63fa', 'pattern': {'shape': ''}},\n",
       "              'name': 'Floor Exercise',\n",
       "              'offsetgroup': 'Floor Exercise',\n",
       "              'orientation': 'v',\n",
       "              'showlegend': False,\n",
       "              'textposition': 'auto',\n",
       "              'type': 'bar',\n",
       "              'x': array(['Floor Exercise'], dtype=object),\n",
       "              'xaxis': 'x',\n",
       "              'y': array([103]),\n",
       "              'yaxis': 'y'}],\n",
       "    'layout': {'annotations': [{'font': {},\n",
       "                                'showarrow': False,\n",
       "                                'text': 'Season=2024',\n",
       "                                'textangle': 90,\n",
       "                                'x': 0.98,\n",
       "                                'xanchor': 'left',\n",
       "                                'xref': 'paper',\n",
       "                                'y': 0.0365,\n",
       "                                'yanchor': 'middle',\n",
       "                                'yref': 'paper'},\n",
       "                               {'font': {},\n",
       "                                'showarrow': False,\n",
       "                                'text': 'Season=2023',\n",
       "                                'textangle': 90,\n",
       "                                'x': 0.98,\n",
       "                                'xanchor': 'left',\n",
       "                                'xref': 'paper',\n",
       "                                'y': 0.13949999999999999,\n",
       "                                'yanchor': 'middle',\n",
       "                                'yref': 'paper'},\n",
       "                               {'font': {},\n",
       "                                'showarrow': False,\n",
       "                                'text': 'Season=2022',\n",
       "                                'textangle': 90,\n",
       "                                'x': 0.98,\n",
       "                                'xanchor': 'left',\n",
       "                                'xref': 'paper',\n",
       "                                'y': 0.2425,\n",
       "                                'yanchor': 'middle',\n",
       "                                'yref': 'paper'},\n",
       "                               {'font': {},\n",
       "                                'showarrow': False,\n",
       "                                'text': 'Season=2021',\n",
       "                                'textangle': 90,\n",
       "                                'x': 0.98,\n",
       "                                'xanchor': 'left',\n",
       "                                'xref': 'paper',\n",
       "                                'y': 0.3454999999999999,\n",
       "                                'yanchor': 'middle',\n",
       "                                'yref': 'paper'},\n",
       "                               {'font': {},\n",
       "                                'showarrow': False,\n",
       "                                'text': 'Season=2020',\n",
       "                                'textangle': 90,\n",
       "                                'x': 0.98,\n",
       "                                'xanchor': 'left',\n",
       "                                'xref': 'paper',\n",
       "                                'y': 0.4485,\n",
       "                                'yanchor': 'middle',\n",
       "                                'yref': 'paper'},\n",
       "                               {'font': {},\n",
       "                                'showarrow': False,\n",
       "                                'text': 'Season=2019',\n",
       "                                'textangle': 90,\n",
       "                                'x': 0.98,\n",
       "                                'xanchor': 'left',\n",
       "                                'xref': 'paper',\n",
       "                                'y': 0.5515,\n",
       "                                'yanchor': 'middle',\n",
       "                                'yref': 'paper'},\n",
       "                               {'font': {},\n",
       "                                'showarrow': False,\n",
       "                                'text': 'Season=2018',\n",
       "                                'textangle': 90,\n",
       "                                'x': 0.98,\n",
       "                                'xanchor': 'left',\n",
       "                                'xref': 'paper',\n",
       "                                'y': 0.6544999999999999,\n",
       "                                'yanchor': 'middle',\n",
       "                                'yref': 'paper'},\n",
       "                               {'font': {},\n",
       "                                'showarrow': False,\n",
       "                                'text': 'Season=2017',\n",
       "                                'textangle': 90,\n",
       "                                'x': 0.98,\n",
       "                                'xanchor': 'left',\n",
       "                                'xref': 'paper',\n",
       "                                'y': 0.7575,\n",
       "                                'yanchor': 'middle',\n",
       "                                'yref': 'paper'},\n",
       "                               {'font': {},\n",
       "                                'showarrow': False,\n",
       "                                'text': 'Season=2016',\n",
       "                                'textangle': 90,\n",
       "                                'x': 0.98,\n",
       "                                'xanchor': 'left',\n",
       "                                'xref': 'paper',\n",
       "                                'y': 0.8604999999999999,\n",
       "                                'yanchor': 'middle',\n",
       "                                'yref': 'paper'},\n",
       "                               {'font': {},\n",
       "                                'showarrow': False,\n",
       "                                'text': 'Season=2015',\n",
       "                                'textangle': 90,\n",
       "                                'x': 0.98,\n",
       "                                'xanchor': 'left',\n",
       "                                'xref': 'paper',\n",
       "                                'y': 0.9634999999999999,\n",
       "                                'yanchor': 'middle',\n",
       "                                'yref': 'paper'}],\n",
       "               'barmode': 'group',\n",
       "               'height': 1200,\n",
       "               'legend': {'title': {'text': 'Apparatus'}, 'tracegroupgap': 0},\n",
       "               'margin': {'t': 60},\n",
       "               'template': '...',\n",
       "               'title': {'text': 'Number of Perfect 10s on Each Apparatus by Season'},\n",
       "               'width': 400,\n",
       "               'xaxis': {'anchor': 'y',\n",
       "                         'categoryarray': [Vault, Uneven Bars, Balance Beam, Floor\n",
       "                                           Exercise],\n",
       "                         'categoryorder': 'array',\n",
       "                         'domain': [0.0, 0.98],\n",
       "                         'title': {'text': 'Apparatus'}},\n",
       "               'xaxis10': {'anchor': 'y10', 'domain': [0.0, 0.98], 'matches': 'x', 'showticklabels': False},\n",
       "               'xaxis2': {'anchor': 'y2', 'domain': [0.0, 0.98], 'matches': 'x', 'showticklabels': False},\n",
       "               'xaxis3': {'anchor': 'y3', 'domain': [0.0, 0.98], 'matches': 'x', 'showticklabels': False},\n",
       "               'xaxis4': {'anchor': 'y4', 'domain': [0.0, 0.98], 'matches': 'x', 'showticklabels': False},\n",
       "               'xaxis5': {'anchor': 'y5', 'domain': [0.0, 0.98], 'matches': 'x', 'showticklabels': False},\n",
       "               'xaxis6': {'anchor': 'y6', 'domain': [0.0, 0.98], 'matches': 'x', 'showticklabels': False},\n",
       "               'xaxis7': {'anchor': 'y7', 'domain': [0.0, 0.98], 'matches': 'x', 'showticklabels': False},\n",
       "               'xaxis8': {'anchor': 'y8', 'domain': [0.0, 0.98], 'matches': 'x', 'showticklabels': False},\n",
       "               'xaxis9': {'anchor': 'y9', 'domain': [0.0, 0.98], 'matches': 'x', 'showticklabels': False},\n",
       "               'yaxis': {'anchor': 'x', 'domain': [0.0, 0.073], 'title': {'text': 'Number of Tens'}},\n",
       "               'yaxis10': {'anchor': 'x10',\n",
       "                           'domain': [0.9269999999999999, 0.9999999999999999],\n",
       "                           'matches': 'y',\n",
       "                           'title': {'text': 'No. of Tens'}},\n",
       "               'yaxis2': {'anchor': 'x2', 'domain': [0.103, 0.176], 'matches': 'y', 'title': {'text': 'No. of Tens'}},\n",
       "               'yaxis3': {'anchor': 'x3',\n",
       "                          'domain': [0.206, 0.27899999999999997],\n",
       "                          'matches': 'y',\n",
       "                          'title': {'text': 'No. of Tens'}},\n",
       "               'yaxis4': {'anchor': 'x4',\n",
       "                          'domain': [0.30899999999999994, 0.38199999999999995],\n",
       "                          'matches': 'y',\n",
       "                          'title': {'text': 'No. of Tens'}},\n",
       "               'yaxis5': {'anchor': 'x5', 'domain': [0.412, 0.485], 'matches': 'y', 'title': {'text': 'No. of Tens'}},\n",
       "               'yaxis6': {'anchor': 'x6', 'domain': [0.515, 0.588], 'matches': 'y', 'title': {'text': 'No. of Tens'}},\n",
       "               'yaxis7': {'anchor': 'x7',\n",
       "                          'domain': [0.6179999999999999, 0.6909999999999998],\n",
       "                          'matches': 'y',\n",
       "                          'title': {'text': 'No. of Tens'}},\n",
       "               'yaxis8': {'anchor': 'x8',\n",
       "                          'domain': [0.721, 0.7939999999999999],\n",
       "                          'matches': 'y',\n",
       "                          'title': {'text': 'No. of Tens'}},\n",
       "               'yaxis9': {'anchor': 'x9',\n",
       "                          'domain': [0.824, 0.8969999999999999],\n",
       "                          'matches': 'y',\n",
       "                          'title': {'text': 'No. of Tens'}}}\n",
       "})"
      ]
     },
     "execution_count": 9,
     "metadata": {},
     "output_type": "execute_result"
    }
   ],
   "source": [
    "fig = px.bar(\n",
    "    tenniest_apparatus_melted, \n",
    "    x=\"Apparatus\", \n",
    "    y=\"No. of Tens\", \n",
    "    color=\"Apparatus\", \n",
    "    barmode=\"group\",\n",
    "    facet_row=\"Season\",  # Stack subplots vertically by year\n",
    "    category_orders={\"Season\": sorted(tenniest_apparatus_melted[\"Season\"].unique())}  # Ensure the years are sorted\n",
    ")\n",
    "\n",
    "# Update layout for better visualization\n",
    "fig.update_layout(\n",
    "    title=\"Number of Perfect 10s on Each Apparatus by Season\",\n",
    "    xaxis_title=\"Apparatus\",\n",
    "    yaxis_title=\"Number of Tens\",\n",
    "    height=1200,  \n",
    "    width=400    \n",
    ")\n",
    "\n",
    "# Show the figure\n",
    "fig"
   ]
  },
  {
   "cell_type": "code",
   "execution_count": 11,
   "metadata": {},
   "outputs": [
    {
     "ename": "ValueError",
     "evalue": "Mime type rendering requires nbformat>=4.2.0 but it is not installed",
     "output_type": "error",
     "traceback": [
      "\u001b[0;31m---------------------------------------------------------------------------\u001b[0m",
      "\u001b[0;31mValueError\u001b[0m                                Traceback (most recent call last)",
      "File \u001b[0;32m~/opt/miniconda3/envs/gymternet/lib/python3.12/site-packages/IPython/core/formatters.py:925\u001b[0m, in \u001b[0;36mIPythonDisplayFormatter.__call__\u001b[0;34m(self, obj)\u001b[0m\n\u001b[1;32m    923\u001b[0m method \u001b[38;5;241m=\u001b[39m get_real_method(obj, \u001b[38;5;28mself\u001b[39m\u001b[38;5;241m.\u001b[39mprint_method)\n\u001b[1;32m    924\u001b[0m \u001b[38;5;28;01mif\u001b[39;00m method \u001b[38;5;129;01mis\u001b[39;00m \u001b[38;5;129;01mnot\u001b[39;00m \u001b[38;5;28;01mNone\u001b[39;00m:\n\u001b[0;32m--> 925\u001b[0m     \u001b[43mmethod\u001b[49m\u001b[43m(\u001b[49m\u001b[43m)\u001b[49m\n\u001b[1;32m    926\u001b[0m     \u001b[38;5;28;01mreturn\u001b[39;00m \u001b[38;5;28;01mTrue\u001b[39;00m\n",
      "File \u001b[0;32m~/opt/miniconda3/envs/gymternet/lib/python3.12/site-packages/plotly/basedatatypes.py:832\u001b[0m, in \u001b[0;36mBaseFigure._ipython_display_\u001b[0;34m(self)\u001b[0m\n\u001b[1;32m    829\u001b[0m \u001b[38;5;28;01mimport\u001b[39;00m \u001b[38;5;21;01mplotly\u001b[39;00m\u001b[38;5;21;01m.\u001b[39;00m\u001b[38;5;21;01mio\u001b[39;00m \u001b[38;5;28;01mas\u001b[39;00m \u001b[38;5;21;01mpio\u001b[39;00m\n\u001b[1;32m    831\u001b[0m \u001b[38;5;28;01mif\u001b[39;00m pio\u001b[38;5;241m.\u001b[39mrenderers\u001b[38;5;241m.\u001b[39mrender_on_display \u001b[38;5;129;01mand\u001b[39;00m pio\u001b[38;5;241m.\u001b[39mrenderers\u001b[38;5;241m.\u001b[39mdefault:\n\u001b[0;32m--> 832\u001b[0m     \u001b[43mpio\u001b[49m\u001b[38;5;241;43m.\u001b[39;49m\u001b[43mshow\u001b[49m\u001b[43m(\u001b[49m\u001b[38;5;28;43mself\u001b[39;49m\u001b[43m)\u001b[49m\n\u001b[1;32m    833\u001b[0m \u001b[38;5;28;01melse\u001b[39;00m:\n\u001b[1;32m    834\u001b[0m     \u001b[38;5;28mprint\u001b[39m(\u001b[38;5;28mrepr\u001b[39m(\u001b[38;5;28mself\u001b[39m))\n",
      "File \u001b[0;32m~/opt/miniconda3/envs/gymternet/lib/python3.12/site-packages/plotly/io/_renderers.py:394\u001b[0m, in \u001b[0;36mshow\u001b[0;34m(fig, renderer, validate, **kwargs)\u001b[0m\n\u001b[1;32m    389\u001b[0m         \u001b[38;5;28;01mraise\u001b[39;00m \u001b[38;5;167;01mValueError\u001b[39;00m(\n\u001b[1;32m    390\u001b[0m             \u001b[38;5;124m\"\u001b[39m\u001b[38;5;124mMime type rendering requires ipython but it is not installed\u001b[39m\u001b[38;5;124m\"\u001b[39m\n\u001b[1;32m    391\u001b[0m         )\n\u001b[1;32m    393\u001b[0m     \u001b[38;5;28;01mif\u001b[39;00m \u001b[38;5;129;01mnot\u001b[39;00m nbformat \u001b[38;5;129;01mor\u001b[39;00m Version(nbformat\u001b[38;5;241m.\u001b[39m__version__) \u001b[38;5;241m<\u001b[39m Version(\u001b[38;5;124m\"\u001b[39m\u001b[38;5;124m4.2.0\u001b[39m\u001b[38;5;124m\"\u001b[39m):\n\u001b[0;32m--> 394\u001b[0m         \u001b[38;5;28;01mraise\u001b[39;00m \u001b[38;5;167;01mValueError\u001b[39;00m(\n\u001b[1;32m    395\u001b[0m             \u001b[38;5;124m\"\u001b[39m\u001b[38;5;124mMime type rendering requires nbformat>=4.2.0 but it is not installed\u001b[39m\u001b[38;5;124m\"\u001b[39m\n\u001b[1;32m    396\u001b[0m         )\n\u001b[1;32m    398\u001b[0m     ipython_display\u001b[38;5;241m.\u001b[39mdisplay(bundle, raw\u001b[38;5;241m=\u001b[39m\u001b[38;5;28;01mTrue\u001b[39;00m)\n\u001b[1;32m    400\u001b[0m \u001b[38;5;66;03m# external renderers\u001b[39;00m\n",
      "\u001b[0;31mValueError\u001b[0m: Mime type rendering requires nbformat>=4.2.0 but it is not installed"
     ]
    },
    {
     "data": {
      "application/vnd.plotly.v1+json": {
       "config": {
        "plotlyServerURL": "https://plot.ly"
       },
       "data": [
        {
         "alignmentgroup": "True",
         "hovertemplate": "<b>%{hovertext}</b><br><br>Apparatus=%{x}<br>Season=2015<br>No. of Tens=%{y}<extra></extra>",
         "hovertext": [
          "Vault"
         ],
         "legendgroup": "Vault",
         "marker": {
          "color": "#636efa",
          "pattern": {
           "shape": ""
          }
         },
         "name": "Vault",
         "offsetgroup": "Vault",
         "orientation": "v",
         "showlegend": true,
         "textposition": "auto",
         "type": "bar",
         "x": [
          "Vault"
         ],
         "xaxis": "x",
         "y": [
          34
         ],
         "yaxis": "y"
        },
        {
         "alignmentgroup": "True",
         "hovertemplate": "<b>%{hovertext}</b><br><br>Apparatus=%{x}<br>Season=2015<br>No. of Tens=%{y}<extra></extra>",
         "hovertext": [
          "Uneven Bars"
         ],
         "legendgroup": "Uneven Bars",
         "marker": {
          "color": "#EF553B",
          "pattern": {
           "shape": ""
          }
         },
         "name": "Uneven Bars",
         "offsetgroup": "Uneven Bars",
         "orientation": "v",
         "showlegend": true,
         "textposition": "auto",
         "type": "bar",
         "x": [
          "Uneven Bars"
         ],
         "xaxis": "x",
         "y": [
          32
         ],
         "yaxis": "y"
        },
        {
         "alignmentgroup": "True",
         "hovertemplate": "<b>%{hovertext}</b><br><br>Apparatus=%{x}<br>Season=2015<br>No. of Tens=%{y}<extra></extra>",
         "hovertext": [
          "Balance Beam"
         ],
         "legendgroup": "Balance Beam",
         "marker": {
          "color": "#00cc96",
          "pattern": {
           "shape": ""
          }
         },
         "name": "Balance Beam",
         "offsetgroup": "Balance Beam",
         "orientation": "v",
         "showlegend": true,
         "textposition": "auto",
         "type": "bar",
         "x": [
          "Balance Beam"
         ],
         "xaxis": "x",
         "y": [
          2
         ],
         "yaxis": "y"
        },
        {
         "alignmentgroup": "True",
         "hovertemplate": "<b>%{hovertext}</b><br><br>Apparatus=%{x}<br>Season=2015<br>No. of Tens=%{y}<extra></extra>",
         "hovertext": [
          "Floor Exercise"
         ],
         "legendgroup": "Floor Exercise",
         "marker": {
          "color": "#ab63fa",
          "pattern": {
           "shape": ""
          }
         },
         "name": "Floor Exercise",
         "offsetgroup": "Floor Exercise",
         "orientation": "v",
         "showlegend": true,
         "textposition": "auto",
         "type": "bar",
         "x": [
          "Floor Exercise"
         ],
         "xaxis": "x",
         "y": [
          7
         ],
         "yaxis": "y"
        }
       ],
       "frames": [
        {
         "data": [
          {
           "alignmentgroup": "True",
           "hovertemplate": "<b>%{hovertext}</b><br><br>Apparatus=%{x}<br>Season=2015<br>No. of Tens=%{y}<extra></extra>",
           "hovertext": [
            "Vault"
           ],
           "legendgroup": "Vault",
           "marker": {
            "color": "#636efa",
            "pattern": {
             "shape": ""
            }
           },
           "name": "Vault",
           "offsetgroup": "Vault",
           "orientation": "v",
           "showlegend": true,
           "textposition": "auto",
           "type": "bar",
           "x": [
            "Vault"
           ],
           "xaxis": "x",
           "y": [
            34
           ],
           "yaxis": "y"
          },
          {
           "alignmentgroup": "True",
           "hovertemplate": "<b>%{hovertext}</b><br><br>Apparatus=%{x}<br>Season=2015<br>No. of Tens=%{y}<extra></extra>",
           "hovertext": [
            "Uneven Bars"
           ],
           "legendgroup": "Uneven Bars",
           "marker": {
            "color": "#EF553B",
            "pattern": {
             "shape": ""
            }
           },
           "name": "Uneven Bars",
           "offsetgroup": "Uneven Bars",
           "orientation": "v",
           "showlegend": true,
           "textposition": "auto",
           "type": "bar",
           "x": [
            "Uneven Bars"
           ],
           "xaxis": "x",
           "y": [
            32
           ],
           "yaxis": "y"
          },
          {
           "alignmentgroup": "True",
           "hovertemplate": "<b>%{hovertext}</b><br><br>Apparatus=%{x}<br>Season=2015<br>No. of Tens=%{y}<extra></extra>",
           "hovertext": [
            "Balance Beam"
           ],
           "legendgroup": "Balance Beam",
           "marker": {
            "color": "#00cc96",
            "pattern": {
             "shape": ""
            }
           },
           "name": "Balance Beam",
           "offsetgroup": "Balance Beam",
           "orientation": "v",
           "showlegend": true,
           "textposition": "auto",
           "type": "bar",
           "x": [
            "Balance Beam"
           ],
           "xaxis": "x",
           "y": [
            2
           ],
           "yaxis": "y"
          },
          {
           "alignmentgroup": "True",
           "hovertemplate": "<b>%{hovertext}</b><br><br>Apparatus=%{x}<br>Season=2015<br>No. of Tens=%{y}<extra></extra>",
           "hovertext": [
            "Floor Exercise"
           ],
           "legendgroup": "Floor Exercise",
           "marker": {
            "color": "#ab63fa",
            "pattern": {
             "shape": ""
            }
           },
           "name": "Floor Exercise",
           "offsetgroup": "Floor Exercise",
           "orientation": "v",
           "showlegend": true,
           "textposition": "auto",
           "type": "bar",
           "x": [
            "Floor Exercise"
           ],
           "xaxis": "x",
           "y": [
            7
           ],
           "yaxis": "y"
          }
         ],
         "name": "2015"
        },
        {
         "data": [
          {
           "alignmentgroup": "True",
           "hovertemplate": "<b>%{hovertext}</b><br><br>Apparatus=%{x}<br>Season=2016<br>No. of Tens=%{y}<extra></extra>",
           "hovertext": [
            "Vault"
           ],
           "legendgroup": "Vault",
           "marker": {
            "color": "#636efa",
            "pattern": {
             "shape": ""
            }
           },
           "name": "Vault",
           "offsetgroup": "Vault",
           "orientation": "v",
           "showlegend": true,
           "textposition": "auto",
           "type": "bar",
           "x": [
            "Vault"
           ],
           "xaxis": "x",
           "y": [
            12
           ],
           "yaxis": "y"
          },
          {
           "alignmentgroup": "True",
           "hovertemplate": "<b>%{hovertext}</b><br><br>Apparatus=%{x}<br>Season=2016<br>No. of Tens=%{y}<extra></extra>",
           "hovertext": [
            "Uneven Bars"
           ],
           "legendgroup": "Uneven Bars",
           "marker": {
            "color": "#EF553B",
            "pattern": {
             "shape": ""
            }
           },
           "name": "Uneven Bars",
           "offsetgroup": "Uneven Bars",
           "orientation": "v",
           "showlegend": true,
           "textposition": "auto",
           "type": "bar",
           "x": [
            "Uneven Bars"
           ],
           "xaxis": "x",
           "y": [
            8
           ],
           "yaxis": "y"
          },
          {
           "alignmentgroup": "True",
           "hovertemplate": "<b>%{hovertext}</b><br><br>Apparatus=%{x}<br>Season=2016<br>No. of Tens=%{y}<extra></extra>",
           "hovertext": [
            "Balance Beam"
           ],
           "legendgroup": "Balance Beam",
           "marker": {
            "color": "#00cc96",
            "pattern": {
             "shape": ""
            }
           },
           "name": "Balance Beam",
           "offsetgroup": "Balance Beam",
           "orientation": "v",
           "showlegend": true,
           "textposition": "auto",
           "type": "bar",
           "x": [
            "Balance Beam"
           ],
           "xaxis": "x",
           "y": [
            16
           ],
           "yaxis": "y"
          },
          {
           "alignmentgroup": "True",
           "hovertemplate": "<b>%{hovertext}</b><br><br>Apparatus=%{x}<br>Season=2016<br>No. of Tens=%{y}<extra></extra>",
           "hovertext": [
            "Floor Exercise"
           ],
           "legendgroup": "Floor Exercise",
           "marker": {
            "color": "#ab63fa",
            "pattern": {
             "shape": ""
            }
           },
           "name": "Floor Exercise",
           "offsetgroup": "Floor Exercise",
           "orientation": "v",
           "showlegend": true,
           "textposition": "auto",
           "type": "bar",
           "x": [
            "Floor Exercise"
           ],
           "xaxis": "x",
           "y": [
            28
           ],
           "yaxis": "y"
          }
         ],
         "name": "2016"
        },
        {
         "data": [
          {
           "alignmentgroup": "True",
           "hovertemplate": "<b>%{hovertext}</b><br><br>Apparatus=%{x}<br>Season=2017<br>No. of Tens=%{y}<extra></extra>",
           "hovertext": [
            "Vault"
           ],
           "legendgroup": "Vault",
           "marker": {
            "color": "#636efa",
            "pattern": {
             "shape": ""
            }
           },
           "name": "Vault",
           "offsetgroup": "Vault",
           "orientation": "v",
           "showlegend": true,
           "textposition": "auto",
           "type": "bar",
           "x": [
            "Vault"
           ],
           "xaxis": "x",
           "y": [
            22
           ],
           "yaxis": "y"
          },
          {
           "alignmentgroup": "True",
           "hovertemplate": "<b>%{hovertext}</b><br><br>Apparatus=%{x}<br>Season=2017<br>No. of Tens=%{y}<extra></extra>",
           "hovertext": [
            "Uneven Bars"
           ],
           "legendgroup": "Uneven Bars",
           "marker": {
            "color": "#EF553B",
            "pattern": {
             "shape": ""
            }
           },
           "name": "Uneven Bars",
           "offsetgroup": "Uneven Bars",
           "orientation": "v",
           "showlegend": true,
           "textposition": "auto",
           "type": "bar",
           "x": [
            "Uneven Bars"
           ],
           "xaxis": "x",
           "y": [
            26
           ],
           "yaxis": "y"
          },
          {
           "alignmentgroup": "True",
           "hovertemplate": "<b>%{hovertext}</b><br><br>Apparatus=%{x}<br>Season=2017<br>No. of Tens=%{y}<extra></extra>",
           "hovertext": [
            "Balance Beam"
           ],
           "legendgroup": "Balance Beam",
           "marker": {
            "color": "#00cc96",
            "pattern": {
             "shape": ""
            }
           },
           "name": "Balance Beam",
           "offsetgroup": "Balance Beam",
           "orientation": "v",
           "showlegend": true,
           "textposition": "auto",
           "type": "bar",
           "x": [
            "Balance Beam"
           ],
           "xaxis": "x",
           "y": [
            35
           ],
           "yaxis": "y"
          },
          {
           "alignmentgroup": "True",
           "hovertemplate": "<b>%{hovertext}</b><br><br>Apparatus=%{x}<br>Season=2017<br>No. of Tens=%{y}<extra></extra>",
           "hovertext": [
            "Floor Exercise"
           ],
           "legendgroup": "Floor Exercise",
           "marker": {
            "color": "#ab63fa",
            "pattern": {
             "shape": ""
            }
           },
           "name": "Floor Exercise",
           "offsetgroup": "Floor Exercise",
           "orientation": "v",
           "showlegend": true,
           "textposition": "auto",
           "type": "bar",
           "x": [
            "Floor Exercise"
           ],
           "xaxis": "x",
           "y": [
            16
           ],
           "yaxis": "y"
          }
         ],
         "name": "2017"
        },
        {
         "data": [
          {
           "alignmentgroup": "True",
           "hovertemplate": "<b>%{hovertext}</b><br><br>Apparatus=%{x}<br>Season=2018<br>No. of Tens=%{y}<extra></extra>",
           "hovertext": [
            "Vault"
           ],
           "legendgroup": "Vault",
           "marker": {
            "color": "#636efa",
            "pattern": {
             "shape": ""
            }
           },
           "name": "Vault",
           "offsetgroup": "Vault",
           "orientation": "v",
           "showlegend": true,
           "textposition": "auto",
           "type": "bar",
           "x": [
            "Vault"
           ],
           "xaxis": "x",
           "y": [
            10
           ],
           "yaxis": "y"
          },
          {
           "alignmentgroup": "True",
           "hovertemplate": "<b>%{hovertext}</b><br><br>Apparatus=%{x}<br>Season=2018<br>No. of Tens=%{y}<extra></extra>",
           "hovertext": [
            "Uneven Bars"
           ],
           "legendgroup": "Uneven Bars",
           "marker": {
            "color": "#EF553B",
            "pattern": {
             "shape": ""
            }
           },
           "name": "Uneven Bars",
           "offsetgroup": "Uneven Bars",
           "orientation": "v",
           "showlegend": true,
           "textposition": "auto",
           "type": "bar",
           "x": [
            "Uneven Bars"
           ],
           "xaxis": "x",
           "y": [
            51
           ],
           "yaxis": "y"
          },
          {
           "alignmentgroup": "True",
           "hovertemplate": "<b>%{hovertext}</b><br><br>Apparatus=%{x}<br>Season=2018<br>No. of Tens=%{y}<extra></extra>",
           "hovertext": [
            "Balance Beam"
           ],
           "legendgroup": "Balance Beam",
           "marker": {
            "color": "#00cc96",
            "pattern": {
             "shape": ""
            }
           },
           "name": "Balance Beam",
           "offsetgroup": "Balance Beam",
           "orientation": "v",
           "showlegend": true,
           "textposition": "auto",
           "type": "bar",
           "x": [
            "Balance Beam"
           ],
           "xaxis": "x",
           "y": [
            53
           ],
           "yaxis": "y"
          },
          {
           "alignmentgroup": "True",
           "hovertemplate": "<b>%{hovertext}</b><br><br>Apparatus=%{x}<br>Season=2018<br>No. of Tens=%{y}<extra></extra>",
           "hovertext": [
            "Floor Exercise"
           ],
           "legendgroup": "Floor Exercise",
           "marker": {
            "color": "#ab63fa",
            "pattern": {
             "shape": ""
            }
           },
           "name": "Floor Exercise",
           "offsetgroup": "Floor Exercise",
           "orientation": "v",
           "showlegend": true,
           "textposition": "auto",
           "type": "bar",
           "x": [
            "Floor Exercise"
           ],
           "xaxis": "x",
           "y": [
            24
           ],
           "yaxis": "y"
          }
         ],
         "name": "2018"
        },
        {
         "data": [
          {
           "alignmentgroup": "True",
           "hovertemplate": "<b>%{hovertext}</b><br><br>Apparatus=%{x}<br>Season=2019<br>No. of Tens=%{y}<extra></extra>",
           "hovertext": [
            "Vault"
           ],
           "legendgroup": "Vault",
           "marker": {
            "color": "#636efa",
            "pattern": {
             "shape": ""
            }
           },
           "name": "Vault",
           "offsetgroup": "Vault",
           "orientation": "v",
           "showlegend": true,
           "textposition": "auto",
           "type": "bar",
           "x": [
            "Vault"
           ],
           "xaxis": "x",
           "y": [
            31
           ],
           "yaxis": "y"
          },
          {
           "alignmentgroup": "True",
           "hovertemplate": "<b>%{hovertext}</b><br><br>Apparatus=%{x}<br>Season=2019<br>No. of Tens=%{y}<extra></extra>",
           "hovertext": [
            "Uneven Bars"
           ],
           "legendgroup": "Uneven Bars",
           "marker": {
            "color": "#EF553B",
            "pattern": {
             "shape": ""
            }
           },
           "name": "Uneven Bars",
           "offsetgroup": "Uneven Bars",
           "orientation": "v",
           "showlegend": true,
           "textposition": "auto",
           "type": "bar",
           "x": [
            "Uneven Bars"
           ],
           "xaxis": "x",
           "y": [
            38
           ],
           "yaxis": "y"
          },
          {
           "alignmentgroup": "True",
           "hovertemplate": "<b>%{hovertext}</b><br><br>Apparatus=%{x}<br>Season=2019<br>No. of Tens=%{y}<extra></extra>",
           "hovertext": [
            "Balance Beam"
           ],
           "legendgroup": "Balance Beam",
           "marker": {
            "color": "#00cc96",
            "pattern": {
             "shape": ""
            }
           },
           "name": "Balance Beam",
           "offsetgroup": "Balance Beam",
           "orientation": "v",
           "showlegend": true,
           "textposition": "auto",
           "type": "bar",
           "x": [
            "Balance Beam"
           ],
           "xaxis": "x",
           "y": [
            8
           ],
           "yaxis": "y"
          },
          {
           "alignmentgroup": "True",
           "hovertemplate": "<b>%{hovertext}</b><br><br>Apparatus=%{x}<br>Season=2019<br>No. of Tens=%{y}<extra></extra>",
           "hovertext": [
            "Floor Exercise"
           ],
           "legendgroup": "Floor Exercise",
           "marker": {
            "color": "#ab63fa",
            "pattern": {
             "shape": ""
            }
           },
           "name": "Floor Exercise",
           "offsetgroup": "Floor Exercise",
           "orientation": "v",
           "showlegend": true,
           "textposition": "auto",
           "type": "bar",
           "x": [
            "Floor Exercise"
           ],
           "xaxis": "x",
           "y": [
            56
           ],
           "yaxis": "y"
          }
         ],
         "name": "2019"
        },
        {
         "data": [
          {
           "alignmentgroup": "True",
           "hovertemplate": "<b>%{hovertext}</b><br><br>Apparatus=%{x}<br>Season=2020<br>No. of Tens=%{y}<extra></extra>",
           "hovertext": [
            "Vault"
           ],
           "legendgroup": "Vault",
           "marker": {
            "color": "#636efa",
            "pattern": {
             "shape": ""
            }
           },
           "name": "Vault",
           "offsetgroup": "Vault",
           "orientation": "v",
           "showlegend": true,
           "textposition": "auto",
           "type": "bar",
           "x": [
            "Vault"
           ],
           "xaxis": "x",
           "y": [
            28
           ],
           "yaxis": "y"
          },
          {
           "alignmentgroup": "True",
           "hovertemplate": "<b>%{hovertext}</b><br><br>Apparatus=%{x}<br>Season=2020<br>No. of Tens=%{y}<extra></extra>",
           "hovertext": [
            "Uneven Bars"
           ],
           "legendgroup": "Uneven Bars",
           "marker": {
            "color": "#EF553B",
            "pattern": {
             "shape": ""
            }
           },
           "name": "Uneven Bars",
           "offsetgroup": "Uneven Bars",
           "orientation": "v",
           "showlegend": true,
           "textposition": "auto",
           "type": "bar",
           "x": [
            "Uneven Bars"
           ],
           "xaxis": "x",
           "y": [
            10
           ],
           "yaxis": "y"
          },
          {
           "alignmentgroup": "True",
           "hovertemplate": "<b>%{hovertext}</b><br><br>Apparatus=%{x}<br>Season=2020<br>No. of Tens=%{y}<extra></extra>",
           "hovertext": [
            "Balance Beam"
           ],
           "legendgroup": "Balance Beam",
           "marker": {
            "color": "#00cc96",
            "pattern": {
             "shape": ""
            }
           },
           "name": "Balance Beam",
           "offsetgroup": "Balance Beam",
           "orientation": "v",
           "showlegend": true,
           "textposition": "auto",
           "type": "bar",
           "x": [
            "Balance Beam"
           ],
           "xaxis": "x",
           "y": [
            32
           ],
           "yaxis": "y"
          },
          {
           "alignmentgroup": "True",
           "hovertemplate": "<b>%{hovertext}</b><br><br>Apparatus=%{x}<br>Season=2020<br>No. of Tens=%{y}<extra></extra>",
           "hovertext": [
            "Floor Exercise"
           ],
           "legendgroup": "Floor Exercise",
           "marker": {
            "color": "#ab63fa",
            "pattern": {
             "shape": ""
            }
           },
           "name": "Floor Exercise",
           "offsetgroup": "Floor Exercise",
           "orientation": "v",
           "showlegend": true,
           "textposition": "auto",
           "type": "bar",
           "x": [
            "Floor Exercise"
           ],
           "xaxis": "x",
           "y": [
            4
           ],
           "yaxis": "y"
          }
         ],
         "name": "2020"
        },
        {
         "data": [
          {
           "alignmentgroup": "True",
           "hovertemplate": "<b>%{hovertext}</b><br><br>Apparatus=%{x}<br>Season=2021<br>No. of Tens=%{y}<extra></extra>",
           "hovertext": [
            "Vault"
           ],
           "legendgroup": "Vault",
           "marker": {
            "color": "#636efa",
            "pattern": {
             "shape": ""
            }
           },
           "name": "Vault",
           "offsetgroup": "Vault",
           "orientation": "v",
           "showlegend": true,
           "textposition": "auto",
           "type": "bar",
           "x": [
            "Vault"
           ],
           "xaxis": "x",
           "y": [
            50
           ],
           "yaxis": "y"
          },
          {
           "alignmentgroup": "True",
           "hovertemplate": "<b>%{hovertext}</b><br><br>Apparatus=%{x}<br>Season=2021<br>No. of Tens=%{y}<extra></extra>",
           "hovertext": [
            "Uneven Bars"
           ],
           "legendgroup": "Uneven Bars",
           "marker": {
            "color": "#EF553B",
            "pattern": {
             "shape": ""
            }
           },
           "name": "Uneven Bars",
           "offsetgroup": "Uneven Bars",
           "orientation": "v",
           "showlegend": true,
           "textposition": "auto",
           "type": "bar",
           "x": [
            "Uneven Bars"
           ],
           "xaxis": "x",
           "y": [
            44
           ],
           "yaxis": "y"
          },
          {
           "alignmentgroup": "True",
           "hovertemplate": "<b>%{hovertext}</b><br><br>Apparatus=%{x}<br>Season=2021<br>No. of Tens=%{y}<extra></extra>",
           "hovertext": [
            "Balance Beam"
           ],
           "legendgroup": "Balance Beam",
           "marker": {
            "color": "#00cc96",
            "pattern": {
             "shape": ""
            }
           },
           "name": "Balance Beam",
           "offsetgroup": "Balance Beam",
           "orientation": "v",
           "showlegend": true,
           "textposition": "auto",
           "type": "bar",
           "x": [
            "Balance Beam"
           ],
           "xaxis": "x",
           "y": [
            20
           ],
           "yaxis": "y"
          },
          {
           "alignmentgroup": "True",
           "hovertemplate": "<b>%{hovertext}</b><br><br>Apparatus=%{x}<br>Season=2021<br>No. of Tens=%{y}<extra></extra>",
           "hovertext": [
            "Floor Exercise"
           ],
           "legendgroup": "Floor Exercise",
           "marker": {
            "color": "#ab63fa",
            "pattern": {
             "shape": ""
            }
           },
           "name": "Floor Exercise",
           "offsetgroup": "Floor Exercise",
           "orientation": "v",
           "showlegend": true,
           "textposition": "auto",
           "type": "bar",
           "x": [
            "Floor Exercise"
           ],
           "xaxis": "x",
           "y": [
            21
           ],
           "yaxis": "y"
          }
         ],
         "name": "2021"
        },
        {
         "data": [
          {
           "alignmentgroup": "True",
           "hovertemplate": "<b>%{hovertext}</b><br><br>Apparatus=%{x}<br>Season=2022<br>No. of Tens=%{y}<extra></extra>",
           "hovertext": [
            "Vault"
           ],
           "legendgroup": "Vault",
           "marker": {
            "color": "#636efa",
            "pattern": {
             "shape": ""
            }
           },
           "name": "Vault",
           "offsetgroup": "Vault",
           "orientation": "v",
           "showlegend": true,
           "textposition": "auto",
           "type": "bar",
           "x": [
            "Vault"
           ],
           "xaxis": "x",
           "y": [
            59
           ],
           "yaxis": "y"
          },
          {
           "alignmentgroup": "True",
           "hovertemplate": "<b>%{hovertext}</b><br><br>Apparatus=%{x}<br>Season=2022<br>No. of Tens=%{y}<extra></extra>",
           "hovertext": [
            "Uneven Bars"
           ],
           "legendgroup": "Uneven Bars",
           "marker": {
            "color": "#EF553B",
            "pattern": {
             "shape": ""
            }
           },
           "name": "Uneven Bars",
           "offsetgroup": "Uneven Bars",
           "orientation": "v",
           "showlegend": true,
           "textposition": "auto",
           "type": "bar",
           "x": [
            "Uneven Bars"
           ],
           "xaxis": "x",
           "y": [
            46
           ],
           "yaxis": "y"
          },
          {
           "alignmentgroup": "True",
           "hovertemplate": "<b>%{hovertext}</b><br><br>Apparatus=%{x}<br>Season=2022<br>No. of Tens=%{y}<extra></extra>",
           "hovertext": [
            "Balance Beam"
           ],
           "legendgroup": "Balance Beam",
           "marker": {
            "color": "#00cc96",
            "pattern": {
             "shape": ""
            }
           },
           "name": "Balance Beam",
           "offsetgroup": "Balance Beam",
           "orientation": "v",
           "showlegend": true,
           "textposition": "auto",
           "type": "bar",
           "x": [
            "Balance Beam"
           ],
           "xaxis": "x",
           "y": [
            38
           ],
           "yaxis": "y"
          },
          {
           "alignmentgroup": "True",
           "hovertemplate": "<b>%{hovertext}</b><br><br>Apparatus=%{x}<br>Season=2022<br>No. of Tens=%{y}<extra></extra>",
           "hovertext": [
            "Floor Exercise"
           ],
           "legendgroup": "Floor Exercise",
           "marker": {
            "color": "#ab63fa",
            "pattern": {
             "shape": ""
            }
           },
           "name": "Floor Exercise",
           "offsetgroup": "Floor Exercise",
           "orientation": "v",
           "showlegend": true,
           "textposition": "auto",
           "type": "bar",
           "x": [
            "Floor Exercise"
           ],
           "xaxis": "x",
           "y": [
            77
           ],
           "yaxis": "y"
          }
         ],
         "name": "2022"
        },
        {
         "data": [
          {
           "alignmentgroup": "True",
           "hovertemplate": "<b>%{hovertext}</b><br><br>Apparatus=%{x}<br>Season=2023<br>No. of Tens=%{y}<extra></extra>",
           "hovertext": [
            "Vault"
           ],
           "legendgroup": "Vault",
           "marker": {
            "color": "#636efa",
            "pattern": {
             "shape": ""
            }
           },
           "name": "Vault",
           "offsetgroup": "Vault",
           "orientation": "v",
           "showlegend": true,
           "textposition": "auto",
           "type": "bar",
           "x": [
            "Vault"
           ],
           "xaxis": "x",
           "y": [
            88
           ],
           "yaxis": "y"
          },
          {
           "alignmentgroup": "True",
           "hovertemplate": "<b>%{hovertext}</b><br><br>Apparatus=%{x}<br>Season=2023<br>No. of Tens=%{y}<extra></extra>",
           "hovertext": [
            "Uneven Bars"
           ],
           "legendgroup": "Uneven Bars",
           "marker": {
            "color": "#EF553B",
            "pattern": {
             "shape": ""
            }
           },
           "name": "Uneven Bars",
           "offsetgroup": "Uneven Bars",
           "orientation": "v",
           "showlegend": true,
           "textposition": "auto",
           "type": "bar",
           "x": [
            "Uneven Bars"
           ],
           "xaxis": "x",
           "y": [
            81
           ],
           "yaxis": "y"
          },
          {
           "alignmentgroup": "True",
           "hovertemplate": "<b>%{hovertext}</b><br><br>Apparatus=%{x}<br>Season=2023<br>No. of Tens=%{y}<extra></extra>",
           "hovertext": [
            "Balance Beam"
           ],
           "legendgroup": "Balance Beam",
           "marker": {
            "color": "#00cc96",
            "pattern": {
             "shape": ""
            }
           },
           "name": "Balance Beam",
           "offsetgroup": "Balance Beam",
           "orientation": "v",
           "showlegend": true,
           "textposition": "auto",
           "type": "bar",
           "x": [
            "Balance Beam"
           ],
           "xaxis": "x",
           "y": [
            126
           ],
           "yaxis": "y"
          },
          {
           "alignmentgroup": "True",
           "hovertemplate": "<b>%{hovertext}</b><br><br>Apparatus=%{x}<br>Season=2023<br>No. of Tens=%{y}<extra></extra>",
           "hovertext": [
            "Floor Exercise"
           ],
           "legendgroup": "Floor Exercise",
           "marker": {
            "color": "#ab63fa",
            "pattern": {
             "shape": ""
            }
           },
           "name": "Floor Exercise",
           "offsetgroup": "Floor Exercise",
           "orientation": "v",
           "showlegend": true,
           "textposition": "auto",
           "type": "bar",
           "x": [
            "Floor Exercise"
           ],
           "xaxis": "x",
           "y": [
            64
           ],
           "yaxis": "y"
          }
         ],
         "name": "2023"
        },
        {
         "data": [
          {
           "alignmentgroup": "True",
           "hovertemplate": "<b>%{hovertext}</b><br><br>Apparatus=%{x}<br>Season=2024<br>No. of Tens=%{y}<extra></extra>",
           "hovertext": [
            "Vault"
           ],
           "legendgroup": "Vault",
           "marker": {
            "color": "#636efa",
            "pattern": {
             "shape": ""
            }
           },
           "name": "Vault",
           "offsetgroup": "Vault",
           "orientation": "v",
           "showlegend": true,
           "textposition": "auto",
           "type": "bar",
           "x": [
            "Vault"
           ],
           "xaxis": "x",
           "y": [
            45
           ],
           "yaxis": "y"
          },
          {
           "alignmentgroup": "True",
           "hovertemplate": "<b>%{hovertext}</b><br><br>Apparatus=%{x}<br>Season=2024<br>No. of Tens=%{y}<extra></extra>",
           "hovertext": [
            "Uneven Bars"
           ],
           "legendgroup": "Uneven Bars",
           "marker": {
            "color": "#EF553B",
            "pattern": {
             "shape": ""
            }
           },
           "name": "Uneven Bars",
           "offsetgroup": "Uneven Bars",
           "orientation": "v",
           "showlegend": true,
           "textposition": "auto",
           "type": "bar",
           "x": [
            "Uneven Bars"
           ],
           "xaxis": "x",
           "y": [
            56
           ],
           "yaxis": "y"
          },
          {
           "alignmentgroup": "True",
           "hovertemplate": "<b>%{hovertext}</b><br><br>Apparatus=%{x}<br>Season=2024<br>No. of Tens=%{y}<extra></extra>",
           "hovertext": [
            "Balance Beam"
           ],
           "legendgroup": "Balance Beam",
           "marker": {
            "color": "#00cc96",
            "pattern": {
             "shape": ""
            }
           },
           "name": "Balance Beam",
           "offsetgroup": "Balance Beam",
           "orientation": "v",
           "showlegend": true,
           "textposition": "auto",
           "type": "bar",
           "x": [
            "Balance Beam"
           ],
           "xaxis": "x",
           "y": [
            69
           ],
           "yaxis": "y"
          },
          {
           "alignmentgroup": "True",
           "hovertemplate": "<b>%{hovertext}</b><br><br>Apparatus=%{x}<br>Season=2024<br>No. of Tens=%{y}<extra></extra>",
           "hovertext": [
            "Floor Exercise"
           ],
           "legendgroup": "Floor Exercise",
           "marker": {
            "color": "#ab63fa",
            "pattern": {
             "shape": ""
            }
           },
           "name": "Floor Exercise",
           "offsetgroup": "Floor Exercise",
           "orientation": "v",
           "showlegend": true,
           "textposition": "auto",
           "type": "bar",
           "x": [
            "Floor Exercise"
           ],
           "xaxis": "x",
           "y": [
            103
           ],
           "yaxis": "y"
          }
         ],
         "name": "2024"
        }
       ],
       "layout": {
        "barmode": "relative",
        "legend": {
         "title": {
          "text": "Apparatus"
         },
         "tracegroupgap": 0
        },
        "margin": {
         "t": 60
        },
        "sliders": [
         {
          "active": 0,
          "currentvalue": {
           "prefix": "Season="
          },
          "len": 0.9,
          "pad": {
           "b": 10,
           "t": 60
          },
          "steps": [
           {
            "args": [
             [
              "2015"
             ],
             {
              "frame": {
               "duration": 0,
               "redraw": true
              },
              "fromcurrent": true,
              "mode": "immediate",
              "transition": {
               "duration": 0,
               "easing": "linear"
              }
             }
            ],
            "label": "2015",
            "method": "animate"
           },
           {
            "args": [
             [
              "2016"
             ],
             {
              "frame": {
               "duration": 0,
               "redraw": true
              },
              "fromcurrent": true,
              "mode": "immediate",
              "transition": {
               "duration": 0,
               "easing": "linear"
              }
             }
            ],
            "label": "2016",
            "method": "animate"
           },
           {
            "args": [
             [
              "2017"
             ],
             {
              "frame": {
               "duration": 0,
               "redraw": true
              },
              "fromcurrent": true,
              "mode": "immediate",
              "transition": {
               "duration": 0,
               "easing": "linear"
              }
             }
            ],
            "label": "2017",
            "method": "animate"
           },
           {
            "args": [
             [
              "2018"
             ],
             {
              "frame": {
               "duration": 0,
               "redraw": true
              },
              "fromcurrent": true,
              "mode": "immediate",
              "transition": {
               "duration": 0,
               "easing": "linear"
              }
             }
            ],
            "label": "2018",
            "method": "animate"
           },
           {
            "args": [
             [
              "2019"
             ],
             {
              "frame": {
               "duration": 0,
               "redraw": true
              },
              "fromcurrent": true,
              "mode": "immediate",
              "transition": {
               "duration": 0,
               "easing": "linear"
              }
             }
            ],
            "label": "2019",
            "method": "animate"
           },
           {
            "args": [
             [
              "2020"
             ],
             {
              "frame": {
               "duration": 0,
               "redraw": true
              },
              "fromcurrent": true,
              "mode": "immediate",
              "transition": {
               "duration": 0,
               "easing": "linear"
              }
             }
            ],
            "label": "2020",
            "method": "animate"
           },
           {
            "args": [
             [
              "2021"
             ],
             {
              "frame": {
               "duration": 0,
               "redraw": true
              },
              "fromcurrent": true,
              "mode": "immediate",
              "transition": {
               "duration": 0,
               "easing": "linear"
              }
             }
            ],
            "label": "2021",
            "method": "animate"
           },
           {
            "args": [
             [
              "2022"
             ],
             {
              "frame": {
               "duration": 0,
               "redraw": true
              },
              "fromcurrent": true,
              "mode": "immediate",
              "transition": {
               "duration": 0,
               "easing": "linear"
              }
             }
            ],
            "label": "2022",
            "method": "animate"
           },
           {
            "args": [
             [
              "2023"
             ],
             {
              "frame": {
               "duration": 0,
               "redraw": true
              },
              "fromcurrent": true,
              "mode": "immediate",
              "transition": {
               "duration": 0,
               "easing": "linear"
              }
             }
            ],
            "label": "2023",
            "method": "animate"
           },
           {
            "args": [
             [
              "2024"
             ],
             {
              "frame": {
               "duration": 0,
               "redraw": true
              },
              "fromcurrent": true,
              "mode": "immediate",
              "transition": {
               "duration": 0,
               "easing": "linear"
              }
             }
            ],
            "label": "2024",
            "method": "animate"
           }
          ],
          "x": 0.1,
          "xanchor": "left",
          "y": 0,
          "yanchor": "top"
         }
        ],
        "template": {
         "data": {
          "bar": [
           {
            "error_x": {
             "color": "#2a3f5f"
            },
            "error_y": {
             "color": "#2a3f5f"
            },
            "marker": {
             "line": {
              "color": "#E5ECF6",
              "width": 0.5
             },
             "pattern": {
              "fillmode": "overlay",
              "size": 10,
              "solidity": 0.2
             }
            },
            "type": "bar"
           }
          ],
          "barpolar": [
           {
            "marker": {
             "line": {
              "color": "#E5ECF6",
              "width": 0.5
             },
             "pattern": {
              "fillmode": "overlay",
              "size": 10,
              "solidity": 0.2
             }
            },
            "type": "barpolar"
           }
          ],
          "carpet": [
           {
            "aaxis": {
             "endlinecolor": "#2a3f5f",
             "gridcolor": "white",
             "linecolor": "white",
             "minorgridcolor": "white",
             "startlinecolor": "#2a3f5f"
            },
            "baxis": {
             "endlinecolor": "#2a3f5f",
             "gridcolor": "white",
             "linecolor": "white",
             "minorgridcolor": "white",
             "startlinecolor": "#2a3f5f"
            },
            "type": "carpet"
           }
          ],
          "choropleth": [
           {
            "colorbar": {
             "outlinewidth": 0,
             "ticks": ""
            },
            "type": "choropleth"
           }
          ],
          "contour": [
           {
            "colorbar": {
             "outlinewidth": 0,
             "ticks": ""
            },
            "colorscale": [
             [
              0,
              "#0d0887"
             ],
             [
              0.1111111111111111,
              "#46039f"
             ],
             [
              0.2222222222222222,
              "#7201a8"
             ],
             [
              0.3333333333333333,
              "#9c179e"
             ],
             [
              0.4444444444444444,
              "#bd3786"
             ],
             [
              0.5555555555555556,
              "#d8576b"
             ],
             [
              0.6666666666666666,
              "#ed7953"
             ],
             [
              0.7777777777777778,
              "#fb9f3a"
             ],
             [
              0.8888888888888888,
              "#fdca26"
             ],
             [
              1,
              "#f0f921"
             ]
            ],
            "type": "contour"
           }
          ],
          "contourcarpet": [
           {
            "colorbar": {
             "outlinewidth": 0,
             "ticks": ""
            },
            "type": "contourcarpet"
           }
          ],
          "heatmap": [
           {
            "colorbar": {
             "outlinewidth": 0,
             "ticks": ""
            },
            "colorscale": [
             [
              0,
              "#0d0887"
             ],
             [
              0.1111111111111111,
              "#46039f"
             ],
             [
              0.2222222222222222,
              "#7201a8"
             ],
             [
              0.3333333333333333,
              "#9c179e"
             ],
             [
              0.4444444444444444,
              "#bd3786"
             ],
             [
              0.5555555555555556,
              "#d8576b"
             ],
             [
              0.6666666666666666,
              "#ed7953"
             ],
             [
              0.7777777777777778,
              "#fb9f3a"
             ],
             [
              0.8888888888888888,
              "#fdca26"
             ],
             [
              1,
              "#f0f921"
             ]
            ],
            "type": "heatmap"
           }
          ],
          "heatmapgl": [
           {
            "colorbar": {
             "outlinewidth": 0,
             "ticks": ""
            },
            "colorscale": [
             [
              0,
              "#0d0887"
             ],
             [
              0.1111111111111111,
              "#46039f"
             ],
             [
              0.2222222222222222,
              "#7201a8"
             ],
             [
              0.3333333333333333,
              "#9c179e"
             ],
             [
              0.4444444444444444,
              "#bd3786"
             ],
             [
              0.5555555555555556,
              "#d8576b"
             ],
             [
              0.6666666666666666,
              "#ed7953"
             ],
             [
              0.7777777777777778,
              "#fb9f3a"
             ],
             [
              0.8888888888888888,
              "#fdca26"
             ],
             [
              1,
              "#f0f921"
             ]
            ],
            "type": "heatmapgl"
           }
          ],
          "histogram": [
           {
            "marker": {
             "pattern": {
              "fillmode": "overlay",
              "size": 10,
              "solidity": 0.2
             }
            },
            "type": "histogram"
           }
          ],
          "histogram2d": [
           {
            "colorbar": {
             "outlinewidth": 0,
             "ticks": ""
            },
            "colorscale": [
             [
              0,
              "#0d0887"
             ],
             [
              0.1111111111111111,
              "#46039f"
             ],
             [
              0.2222222222222222,
              "#7201a8"
             ],
             [
              0.3333333333333333,
              "#9c179e"
             ],
             [
              0.4444444444444444,
              "#bd3786"
             ],
             [
              0.5555555555555556,
              "#d8576b"
             ],
             [
              0.6666666666666666,
              "#ed7953"
             ],
             [
              0.7777777777777778,
              "#fb9f3a"
             ],
             [
              0.8888888888888888,
              "#fdca26"
             ],
             [
              1,
              "#f0f921"
             ]
            ],
            "type": "histogram2d"
           }
          ],
          "histogram2dcontour": [
           {
            "colorbar": {
             "outlinewidth": 0,
             "ticks": ""
            },
            "colorscale": [
             [
              0,
              "#0d0887"
             ],
             [
              0.1111111111111111,
              "#46039f"
             ],
             [
              0.2222222222222222,
              "#7201a8"
             ],
             [
              0.3333333333333333,
              "#9c179e"
             ],
             [
              0.4444444444444444,
              "#bd3786"
             ],
             [
              0.5555555555555556,
              "#d8576b"
             ],
             [
              0.6666666666666666,
              "#ed7953"
             ],
             [
              0.7777777777777778,
              "#fb9f3a"
             ],
             [
              0.8888888888888888,
              "#fdca26"
             ],
             [
              1,
              "#f0f921"
             ]
            ],
            "type": "histogram2dcontour"
           }
          ],
          "mesh3d": [
           {
            "colorbar": {
             "outlinewidth": 0,
             "ticks": ""
            },
            "type": "mesh3d"
           }
          ],
          "parcoords": [
           {
            "line": {
             "colorbar": {
              "outlinewidth": 0,
              "ticks": ""
             }
            },
            "type": "parcoords"
           }
          ],
          "pie": [
           {
            "automargin": true,
            "type": "pie"
           }
          ],
          "scatter": [
           {
            "fillpattern": {
             "fillmode": "overlay",
             "size": 10,
             "solidity": 0.2
            },
            "type": "scatter"
           }
          ],
          "scatter3d": [
           {
            "line": {
             "colorbar": {
              "outlinewidth": 0,
              "ticks": ""
             }
            },
            "marker": {
             "colorbar": {
              "outlinewidth": 0,
              "ticks": ""
             }
            },
            "type": "scatter3d"
           }
          ],
          "scattercarpet": [
           {
            "marker": {
             "colorbar": {
              "outlinewidth": 0,
              "ticks": ""
             }
            },
            "type": "scattercarpet"
           }
          ],
          "scattergeo": [
           {
            "marker": {
             "colorbar": {
              "outlinewidth": 0,
              "ticks": ""
             }
            },
            "type": "scattergeo"
           }
          ],
          "scattergl": [
           {
            "marker": {
             "colorbar": {
              "outlinewidth": 0,
              "ticks": ""
             }
            },
            "type": "scattergl"
           }
          ],
          "scattermapbox": [
           {
            "marker": {
             "colorbar": {
              "outlinewidth": 0,
              "ticks": ""
             }
            },
            "type": "scattermapbox"
           }
          ],
          "scatterpolar": [
           {
            "marker": {
             "colorbar": {
              "outlinewidth": 0,
              "ticks": ""
             }
            },
            "type": "scatterpolar"
           }
          ],
          "scatterpolargl": [
           {
            "marker": {
             "colorbar": {
              "outlinewidth": 0,
              "ticks": ""
             }
            },
            "type": "scatterpolargl"
           }
          ],
          "scatterternary": [
           {
            "marker": {
             "colorbar": {
              "outlinewidth": 0,
              "ticks": ""
             }
            },
            "type": "scatterternary"
           }
          ],
          "surface": [
           {
            "colorbar": {
             "outlinewidth": 0,
             "ticks": ""
            },
            "colorscale": [
             [
              0,
              "#0d0887"
             ],
             [
              0.1111111111111111,
              "#46039f"
             ],
             [
              0.2222222222222222,
              "#7201a8"
             ],
             [
              0.3333333333333333,
              "#9c179e"
             ],
             [
              0.4444444444444444,
              "#bd3786"
             ],
             [
              0.5555555555555556,
              "#d8576b"
             ],
             [
              0.6666666666666666,
              "#ed7953"
             ],
             [
              0.7777777777777778,
              "#fb9f3a"
             ],
             [
              0.8888888888888888,
              "#fdca26"
             ],
             [
              1,
              "#f0f921"
             ]
            ],
            "type": "surface"
           }
          ],
          "table": [
           {
            "cells": {
             "fill": {
              "color": "#EBF0F8"
             },
             "line": {
              "color": "white"
             }
            },
            "header": {
             "fill": {
              "color": "#C8D4E3"
             },
             "line": {
              "color": "white"
             }
            },
            "type": "table"
           }
          ]
         },
         "layout": {
          "annotationdefaults": {
           "arrowcolor": "#2a3f5f",
           "arrowhead": 0,
           "arrowwidth": 1
          },
          "autotypenumbers": "strict",
          "coloraxis": {
           "colorbar": {
            "outlinewidth": 0,
            "ticks": ""
           }
          },
          "colorscale": {
           "diverging": [
            [
             0,
             "#8e0152"
            ],
            [
             0.1,
             "#c51b7d"
            ],
            [
             0.2,
             "#de77ae"
            ],
            [
             0.3,
             "#f1b6da"
            ],
            [
             0.4,
             "#fde0ef"
            ],
            [
             0.5,
             "#f7f7f7"
            ],
            [
             0.6,
             "#e6f5d0"
            ],
            [
             0.7,
             "#b8e186"
            ],
            [
             0.8,
             "#7fbc41"
            ],
            [
             0.9,
             "#4d9221"
            ],
            [
             1,
             "#276419"
            ]
           ],
           "sequential": [
            [
             0,
             "#0d0887"
            ],
            [
             0.1111111111111111,
             "#46039f"
            ],
            [
             0.2222222222222222,
             "#7201a8"
            ],
            [
             0.3333333333333333,
             "#9c179e"
            ],
            [
             0.4444444444444444,
             "#bd3786"
            ],
            [
             0.5555555555555556,
             "#d8576b"
            ],
            [
             0.6666666666666666,
             "#ed7953"
            ],
            [
             0.7777777777777778,
             "#fb9f3a"
            ],
            [
             0.8888888888888888,
             "#fdca26"
            ],
            [
             1,
             "#f0f921"
            ]
           ],
           "sequentialminus": [
            [
             0,
             "#0d0887"
            ],
            [
             0.1111111111111111,
             "#46039f"
            ],
            [
             0.2222222222222222,
             "#7201a8"
            ],
            [
             0.3333333333333333,
             "#9c179e"
            ],
            [
             0.4444444444444444,
             "#bd3786"
            ],
            [
             0.5555555555555556,
             "#d8576b"
            ],
            [
             0.6666666666666666,
             "#ed7953"
            ],
            [
             0.7777777777777778,
             "#fb9f3a"
            ],
            [
             0.8888888888888888,
             "#fdca26"
            ],
            [
             1,
             "#f0f921"
            ]
           ]
          },
          "colorway": [
           "#636efa",
           "#EF553B",
           "#00cc96",
           "#ab63fa",
           "#FFA15A",
           "#19d3f3",
           "#FF6692",
           "#B6E880",
           "#FF97FF",
           "#FECB52"
          ],
          "font": {
           "color": "#2a3f5f"
          },
          "geo": {
           "bgcolor": "white",
           "lakecolor": "white",
           "landcolor": "#E5ECF6",
           "showlakes": true,
           "showland": true,
           "subunitcolor": "white"
          },
          "hoverlabel": {
           "align": "left"
          },
          "hovermode": "closest",
          "mapbox": {
           "style": "light"
          },
          "paper_bgcolor": "white",
          "plot_bgcolor": "#E5ECF6",
          "polar": {
           "angularaxis": {
            "gridcolor": "white",
            "linecolor": "white",
            "ticks": ""
           },
           "bgcolor": "#E5ECF6",
           "radialaxis": {
            "gridcolor": "white",
            "linecolor": "white",
            "ticks": ""
           }
          },
          "scene": {
           "xaxis": {
            "backgroundcolor": "#E5ECF6",
            "gridcolor": "white",
            "gridwidth": 2,
            "linecolor": "white",
            "showbackground": true,
            "ticks": "",
            "zerolinecolor": "white"
           },
           "yaxis": {
            "backgroundcolor": "#E5ECF6",
            "gridcolor": "white",
            "gridwidth": 2,
            "linecolor": "white",
            "showbackground": true,
            "ticks": "",
            "zerolinecolor": "white"
           },
           "zaxis": {
            "backgroundcolor": "#E5ECF6",
            "gridcolor": "white",
            "gridwidth": 2,
            "linecolor": "white",
            "showbackground": true,
            "ticks": "",
            "zerolinecolor": "white"
           }
          },
          "shapedefaults": {
           "line": {
            "color": "#2a3f5f"
           }
          },
          "ternary": {
           "aaxis": {
            "gridcolor": "white",
            "linecolor": "white",
            "ticks": ""
           },
           "baxis": {
            "gridcolor": "white",
            "linecolor": "white",
            "ticks": ""
           },
           "bgcolor": "#E5ECF6",
           "caxis": {
            "gridcolor": "white",
            "linecolor": "white",
            "ticks": ""
           }
          },
          "title": {
           "x": 0.05
          },
          "xaxis": {
           "automargin": true,
           "gridcolor": "white",
           "linecolor": "white",
           "ticks": "",
           "title": {
            "standoff": 15
           },
           "zerolinecolor": "white",
           "zerolinewidth": 2
          },
          "yaxis": {
           "automargin": true,
           "gridcolor": "white",
           "linecolor": "white",
           "ticks": "",
           "title": {
            "standoff": 15
           },
           "zerolinecolor": "white",
           "zerolinewidth": 2
          }
         }
        },
        "updatemenus": [
         {
          "buttons": [
           {
            "args": [
             null,
             {
              "frame": {
               "duration": 500,
               "redraw": true
              },
              "fromcurrent": true,
              "mode": "immediate",
              "transition": {
               "duration": 500,
               "easing": "linear"
              }
             }
            ],
            "label": "&#9654;",
            "method": "animate"
           },
           {
            "args": [
             [
              null
             ],
             {
              "frame": {
               "duration": 0,
               "redraw": true
              },
              "fromcurrent": true,
              "mode": "immediate",
              "transition": {
               "duration": 0,
               "easing": "linear"
              }
             }
            ],
            "label": "&#9724;",
            "method": "animate"
           }
          ],
          "direction": "left",
          "pad": {
           "r": 10,
           "t": 70
          },
          "showactive": false,
          "type": "buttons",
          "x": 0.1,
          "xanchor": "right",
          "y": 0,
          "yanchor": "top"
         }
        ],
        "xaxis": {
         "anchor": "y",
         "categoryarray": [
          "Vault",
          "Uneven Bars",
          "Balance Beam",
          "Floor Exercise"
         ],
         "categoryorder": "array",
         "domain": [
          0,
          1
         ],
         "title": {
          "text": "Apparatus"
         }
        },
        "yaxis": {
         "anchor": "x",
         "domain": [
          0,
          1
         ],
         "range": [
          0,
          126
         ],
         "title": {
          "text": "No. of Tens"
         }
        }
       }
      },
      "text/html": [
       "<div>                        <script type=\"text/javascript\">window.PlotlyConfig = {MathJaxConfig: 'local'};</script>\n",
       "        <script charset=\"utf-8\" src=\"https://cdn.plot.ly/plotly-2.34.0.min.js\"></script>                <div id=\"3c6b5550-0d48-4faf-b94c-eea24c814dd6\" class=\"plotly-graph-div\" style=\"height:100%; width:100%;\"></div>            <script type=\"text/javascript\">                                    window.PLOTLYENV=window.PLOTLYENV || {};                                    if (document.getElementById(\"3c6b5550-0d48-4faf-b94c-eea24c814dd6\")) {                    Plotly.newPlot(                        \"3c6b5550-0d48-4faf-b94c-eea24c814dd6\",                        [{\"alignmentgroup\":\"True\",\"hovertemplate\":\"\\u003cb\\u003e%{hovertext}\\u003c\\u002fb\\u003e\\u003cbr\\u003e\\u003cbr\\u003eApparatus=%{x}\\u003cbr\\u003eSeason=2015\\u003cbr\\u003eNo. of Tens=%{y}\\u003cextra\\u003e\\u003c\\u002fextra\\u003e\",\"hovertext\":[\"Vault\"],\"legendgroup\":\"Vault\",\"marker\":{\"color\":\"#636efa\",\"pattern\":{\"shape\":\"\"}},\"name\":\"Vault\",\"offsetgroup\":\"Vault\",\"orientation\":\"v\",\"showlegend\":true,\"textposition\":\"auto\",\"x\":[\"Vault\"],\"xaxis\":\"x\",\"y\":[34],\"yaxis\":\"y\",\"type\":\"bar\"},{\"alignmentgroup\":\"True\",\"hovertemplate\":\"\\u003cb\\u003e%{hovertext}\\u003c\\u002fb\\u003e\\u003cbr\\u003e\\u003cbr\\u003eApparatus=%{x}\\u003cbr\\u003eSeason=2015\\u003cbr\\u003eNo. of Tens=%{y}\\u003cextra\\u003e\\u003c\\u002fextra\\u003e\",\"hovertext\":[\"Uneven Bars\"],\"legendgroup\":\"Uneven Bars\",\"marker\":{\"color\":\"#EF553B\",\"pattern\":{\"shape\":\"\"}},\"name\":\"Uneven Bars\",\"offsetgroup\":\"Uneven Bars\",\"orientation\":\"v\",\"showlegend\":true,\"textposition\":\"auto\",\"x\":[\"Uneven Bars\"],\"xaxis\":\"x\",\"y\":[32],\"yaxis\":\"y\",\"type\":\"bar\"},{\"alignmentgroup\":\"True\",\"hovertemplate\":\"\\u003cb\\u003e%{hovertext}\\u003c\\u002fb\\u003e\\u003cbr\\u003e\\u003cbr\\u003eApparatus=%{x}\\u003cbr\\u003eSeason=2015\\u003cbr\\u003eNo. of Tens=%{y}\\u003cextra\\u003e\\u003c\\u002fextra\\u003e\",\"hovertext\":[\"Balance Beam\"],\"legendgroup\":\"Balance Beam\",\"marker\":{\"color\":\"#00cc96\",\"pattern\":{\"shape\":\"\"}},\"name\":\"Balance Beam\",\"offsetgroup\":\"Balance Beam\",\"orientation\":\"v\",\"showlegend\":true,\"textposition\":\"auto\",\"x\":[\"Balance Beam\"],\"xaxis\":\"x\",\"y\":[2],\"yaxis\":\"y\",\"type\":\"bar\"},{\"alignmentgroup\":\"True\",\"hovertemplate\":\"\\u003cb\\u003e%{hovertext}\\u003c\\u002fb\\u003e\\u003cbr\\u003e\\u003cbr\\u003eApparatus=%{x}\\u003cbr\\u003eSeason=2015\\u003cbr\\u003eNo. of Tens=%{y}\\u003cextra\\u003e\\u003c\\u002fextra\\u003e\",\"hovertext\":[\"Floor Exercise\"],\"legendgroup\":\"Floor Exercise\",\"marker\":{\"color\":\"#ab63fa\",\"pattern\":{\"shape\":\"\"}},\"name\":\"Floor Exercise\",\"offsetgroup\":\"Floor Exercise\",\"orientation\":\"v\",\"showlegend\":true,\"textposition\":\"auto\",\"x\":[\"Floor Exercise\"],\"xaxis\":\"x\",\"y\":[7],\"yaxis\":\"y\",\"type\":\"bar\"}],                        {\"template\":{\"data\":{\"histogram2dcontour\":[{\"type\":\"histogram2dcontour\",\"colorbar\":{\"outlinewidth\":0,\"ticks\":\"\"},\"colorscale\":[[0.0,\"#0d0887\"],[0.1111111111111111,\"#46039f\"],[0.2222222222222222,\"#7201a8\"],[0.3333333333333333,\"#9c179e\"],[0.4444444444444444,\"#bd3786\"],[0.5555555555555556,\"#d8576b\"],[0.6666666666666666,\"#ed7953\"],[0.7777777777777778,\"#fb9f3a\"],[0.8888888888888888,\"#fdca26\"],[1.0,\"#f0f921\"]]}],\"choropleth\":[{\"type\":\"choropleth\",\"colorbar\":{\"outlinewidth\":0,\"ticks\":\"\"}}],\"histogram2d\":[{\"type\":\"histogram2d\",\"colorbar\":{\"outlinewidth\":0,\"ticks\":\"\"},\"colorscale\":[[0.0,\"#0d0887\"],[0.1111111111111111,\"#46039f\"],[0.2222222222222222,\"#7201a8\"],[0.3333333333333333,\"#9c179e\"],[0.4444444444444444,\"#bd3786\"],[0.5555555555555556,\"#d8576b\"],[0.6666666666666666,\"#ed7953\"],[0.7777777777777778,\"#fb9f3a\"],[0.8888888888888888,\"#fdca26\"],[1.0,\"#f0f921\"]]}],\"heatmap\":[{\"type\":\"heatmap\",\"colorbar\":{\"outlinewidth\":0,\"ticks\":\"\"},\"colorscale\":[[0.0,\"#0d0887\"],[0.1111111111111111,\"#46039f\"],[0.2222222222222222,\"#7201a8\"],[0.3333333333333333,\"#9c179e\"],[0.4444444444444444,\"#bd3786\"],[0.5555555555555556,\"#d8576b\"],[0.6666666666666666,\"#ed7953\"],[0.7777777777777778,\"#fb9f3a\"],[0.8888888888888888,\"#fdca26\"],[1.0,\"#f0f921\"]]}],\"heatmapgl\":[{\"type\":\"heatmapgl\",\"colorbar\":{\"outlinewidth\":0,\"ticks\":\"\"},\"colorscale\":[[0.0,\"#0d0887\"],[0.1111111111111111,\"#46039f\"],[0.2222222222222222,\"#7201a8\"],[0.3333333333333333,\"#9c179e\"],[0.4444444444444444,\"#bd3786\"],[0.5555555555555556,\"#d8576b\"],[0.6666666666666666,\"#ed7953\"],[0.7777777777777778,\"#fb9f3a\"],[0.8888888888888888,\"#fdca26\"],[1.0,\"#f0f921\"]]}],\"contourcarpet\":[{\"type\":\"contourcarpet\",\"colorbar\":{\"outlinewidth\":0,\"ticks\":\"\"}}],\"contour\":[{\"type\":\"contour\",\"colorbar\":{\"outlinewidth\":0,\"ticks\":\"\"},\"colorscale\":[[0.0,\"#0d0887\"],[0.1111111111111111,\"#46039f\"],[0.2222222222222222,\"#7201a8\"],[0.3333333333333333,\"#9c179e\"],[0.4444444444444444,\"#bd3786\"],[0.5555555555555556,\"#d8576b\"],[0.6666666666666666,\"#ed7953\"],[0.7777777777777778,\"#fb9f3a\"],[0.8888888888888888,\"#fdca26\"],[1.0,\"#f0f921\"]]}],\"surface\":[{\"type\":\"surface\",\"colorbar\":{\"outlinewidth\":0,\"ticks\":\"\"},\"colorscale\":[[0.0,\"#0d0887\"],[0.1111111111111111,\"#46039f\"],[0.2222222222222222,\"#7201a8\"],[0.3333333333333333,\"#9c179e\"],[0.4444444444444444,\"#bd3786\"],[0.5555555555555556,\"#d8576b\"],[0.6666666666666666,\"#ed7953\"],[0.7777777777777778,\"#fb9f3a\"],[0.8888888888888888,\"#fdca26\"],[1.0,\"#f0f921\"]]}],\"mesh3d\":[{\"type\":\"mesh3d\",\"colorbar\":{\"outlinewidth\":0,\"ticks\":\"\"}}],\"scatter\":[{\"fillpattern\":{\"fillmode\":\"overlay\",\"size\":10,\"solidity\":0.2},\"type\":\"scatter\"}],\"parcoords\":[{\"type\":\"parcoords\",\"line\":{\"colorbar\":{\"outlinewidth\":0,\"ticks\":\"\"}}}],\"scatterpolargl\":[{\"type\":\"scatterpolargl\",\"marker\":{\"colorbar\":{\"outlinewidth\":0,\"ticks\":\"\"}}}],\"bar\":[{\"error_x\":{\"color\":\"#2a3f5f\"},\"error_y\":{\"color\":\"#2a3f5f\"},\"marker\":{\"line\":{\"color\":\"#E5ECF6\",\"width\":0.5},\"pattern\":{\"fillmode\":\"overlay\",\"size\":10,\"solidity\":0.2}},\"type\":\"bar\"}],\"scattergeo\":[{\"type\":\"scattergeo\",\"marker\":{\"colorbar\":{\"outlinewidth\":0,\"ticks\":\"\"}}}],\"scatterpolar\":[{\"type\":\"scatterpolar\",\"marker\":{\"colorbar\":{\"outlinewidth\":0,\"ticks\":\"\"}}}],\"histogram\":[{\"marker\":{\"pattern\":{\"fillmode\":\"overlay\",\"size\":10,\"solidity\":0.2}},\"type\":\"histogram\"}],\"scattergl\":[{\"type\":\"scattergl\",\"marker\":{\"colorbar\":{\"outlinewidth\":0,\"ticks\":\"\"}}}],\"scatter3d\":[{\"type\":\"scatter3d\",\"line\":{\"colorbar\":{\"outlinewidth\":0,\"ticks\":\"\"}},\"marker\":{\"colorbar\":{\"outlinewidth\":0,\"ticks\":\"\"}}}],\"scattermapbox\":[{\"type\":\"scattermapbox\",\"marker\":{\"colorbar\":{\"outlinewidth\":0,\"ticks\":\"\"}}}],\"scatterternary\":[{\"type\":\"scatterternary\",\"marker\":{\"colorbar\":{\"outlinewidth\":0,\"ticks\":\"\"}}}],\"scattercarpet\":[{\"type\":\"scattercarpet\",\"marker\":{\"colorbar\":{\"outlinewidth\":0,\"ticks\":\"\"}}}],\"carpet\":[{\"aaxis\":{\"endlinecolor\":\"#2a3f5f\",\"gridcolor\":\"white\",\"linecolor\":\"white\",\"minorgridcolor\":\"white\",\"startlinecolor\":\"#2a3f5f\"},\"baxis\":{\"endlinecolor\":\"#2a3f5f\",\"gridcolor\":\"white\",\"linecolor\":\"white\",\"minorgridcolor\":\"white\",\"startlinecolor\":\"#2a3f5f\"},\"type\":\"carpet\"}],\"table\":[{\"cells\":{\"fill\":{\"color\":\"#EBF0F8\"},\"line\":{\"color\":\"white\"}},\"header\":{\"fill\":{\"color\":\"#C8D4E3\"},\"line\":{\"color\":\"white\"}},\"type\":\"table\"}],\"barpolar\":[{\"marker\":{\"line\":{\"color\":\"#E5ECF6\",\"width\":0.5},\"pattern\":{\"fillmode\":\"overlay\",\"size\":10,\"solidity\":0.2}},\"type\":\"barpolar\"}],\"pie\":[{\"automargin\":true,\"type\":\"pie\"}]},\"layout\":{\"autotypenumbers\":\"strict\",\"colorway\":[\"#636efa\",\"#EF553B\",\"#00cc96\",\"#ab63fa\",\"#FFA15A\",\"#19d3f3\",\"#FF6692\",\"#B6E880\",\"#FF97FF\",\"#FECB52\"],\"font\":{\"color\":\"#2a3f5f\"},\"hovermode\":\"closest\",\"hoverlabel\":{\"align\":\"left\"},\"paper_bgcolor\":\"white\",\"plot_bgcolor\":\"#E5ECF6\",\"polar\":{\"bgcolor\":\"#E5ECF6\",\"angularaxis\":{\"gridcolor\":\"white\",\"linecolor\":\"white\",\"ticks\":\"\"},\"radialaxis\":{\"gridcolor\":\"white\",\"linecolor\":\"white\",\"ticks\":\"\"}},\"ternary\":{\"bgcolor\":\"#E5ECF6\",\"aaxis\":{\"gridcolor\":\"white\",\"linecolor\":\"white\",\"ticks\":\"\"},\"baxis\":{\"gridcolor\":\"white\",\"linecolor\":\"white\",\"ticks\":\"\"},\"caxis\":{\"gridcolor\":\"white\",\"linecolor\":\"white\",\"ticks\":\"\"}},\"coloraxis\":{\"colorbar\":{\"outlinewidth\":0,\"ticks\":\"\"}},\"colorscale\":{\"sequential\":[[0.0,\"#0d0887\"],[0.1111111111111111,\"#46039f\"],[0.2222222222222222,\"#7201a8\"],[0.3333333333333333,\"#9c179e\"],[0.4444444444444444,\"#bd3786\"],[0.5555555555555556,\"#d8576b\"],[0.6666666666666666,\"#ed7953\"],[0.7777777777777778,\"#fb9f3a\"],[0.8888888888888888,\"#fdca26\"],[1.0,\"#f0f921\"]],\"sequentialminus\":[[0.0,\"#0d0887\"],[0.1111111111111111,\"#46039f\"],[0.2222222222222222,\"#7201a8\"],[0.3333333333333333,\"#9c179e\"],[0.4444444444444444,\"#bd3786\"],[0.5555555555555556,\"#d8576b\"],[0.6666666666666666,\"#ed7953\"],[0.7777777777777778,\"#fb9f3a\"],[0.8888888888888888,\"#fdca26\"],[1.0,\"#f0f921\"]],\"diverging\":[[0,\"#8e0152\"],[0.1,\"#c51b7d\"],[0.2,\"#de77ae\"],[0.3,\"#f1b6da\"],[0.4,\"#fde0ef\"],[0.5,\"#f7f7f7\"],[0.6,\"#e6f5d0\"],[0.7,\"#b8e186\"],[0.8,\"#7fbc41\"],[0.9,\"#4d9221\"],[1,\"#276419\"]]},\"xaxis\":{\"gridcolor\":\"white\",\"linecolor\":\"white\",\"ticks\":\"\",\"title\":{\"standoff\":15},\"zerolinecolor\":\"white\",\"automargin\":true,\"zerolinewidth\":2},\"yaxis\":{\"gridcolor\":\"white\",\"linecolor\":\"white\",\"ticks\":\"\",\"title\":{\"standoff\":15},\"zerolinecolor\":\"white\",\"automargin\":true,\"zerolinewidth\":2},\"scene\":{\"xaxis\":{\"backgroundcolor\":\"#E5ECF6\",\"gridcolor\":\"white\",\"linecolor\":\"white\",\"showbackground\":true,\"ticks\":\"\",\"zerolinecolor\":\"white\",\"gridwidth\":2},\"yaxis\":{\"backgroundcolor\":\"#E5ECF6\",\"gridcolor\":\"white\",\"linecolor\":\"white\",\"showbackground\":true,\"ticks\":\"\",\"zerolinecolor\":\"white\",\"gridwidth\":2},\"zaxis\":{\"backgroundcolor\":\"#E5ECF6\",\"gridcolor\":\"white\",\"linecolor\":\"white\",\"showbackground\":true,\"ticks\":\"\",\"zerolinecolor\":\"white\",\"gridwidth\":2}},\"shapedefaults\":{\"line\":{\"color\":\"#2a3f5f\"}},\"annotationdefaults\":{\"arrowcolor\":\"#2a3f5f\",\"arrowhead\":0,\"arrowwidth\":1},\"geo\":{\"bgcolor\":\"white\",\"landcolor\":\"#E5ECF6\",\"subunitcolor\":\"white\",\"showland\":true,\"showlakes\":true,\"lakecolor\":\"white\"},\"title\":{\"x\":0.05},\"mapbox\":{\"style\":\"light\"}}},\"xaxis\":{\"anchor\":\"y\",\"domain\":[0.0,1.0],\"title\":{\"text\":\"Apparatus\"},\"categoryorder\":\"array\",\"categoryarray\":[\"Vault\",\"Uneven Bars\",\"Balance Beam\",\"Floor Exercise\"]},\"yaxis\":{\"anchor\":\"x\",\"domain\":[0.0,1.0],\"title\":{\"text\":\"No. of Tens\"},\"range\":[0,126]},\"legend\":{\"title\":{\"text\":\"Apparatus\"},\"tracegroupgap\":0},\"margin\":{\"t\":60},\"barmode\":\"relative\",\"updatemenus\":[{\"buttons\":[{\"args\":[null,{\"frame\":{\"duration\":500,\"redraw\":true},\"mode\":\"immediate\",\"fromcurrent\":true,\"transition\":{\"duration\":500,\"easing\":\"linear\"}}],\"label\":\"&#9654;\",\"method\":\"animate\"},{\"args\":[[null],{\"frame\":{\"duration\":0,\"redraw\":true},\"mode\":\"immediate\",\"fromcurrent\":true,\"transition\":{\"duration\":0,\"easing\":\"linear\"}}],\"label\":\"&#9724;\",\"method\":\"animate\"}],\"direction\":\"left\",\"pad\":{\"r\":10,\"t\":70},\"showactive\":false,\"type\":\"buttons\",\"x\":0.1,\"xanchor\":\"right\",\"y\":0,\"yanchor\":\"top\"}],\"sliders\":[{\"active\":0,\"currentvalue\":{\"prefix\":\"Season=\"},\"len\":0.9,\"pad\":{\"b\":10,\"t\":60},\"steps\":[{\"args\":[[\"2015\"],{\"frame\":{\"duration\":0,\"redraw\":true},\"mode\":\"immediate\",\"fromcurrent\":true,\"transition\":{\"duration\":0,\"easing\":\"linear\"}}],\"label\":\"2015\",\"method\":\"animate\"},{\"args\":[[\"2016\"],{\"frame\":{\"duration\":0,\"redraw\":true},\"mode\":\"immediate\",\"fromcurrent\":true,\"transition\":{\"duration\":0,\"easing\":\"linear\"}}],\"label\":\"2016\",\"method\":\"animate\"},{\"args\":[[\"2017\"],{\"frame\":{\"duration\":0,\"redraw\":true},\"mode\":\"immediate\",\"fromcurrent\":true,\"transition\":{\"duration\":0,\"easing\":\"linear\"}}],\"label\":\"2017\",\"method\":\"animate\"},{\"args\":[[\"2018\"],{\"frame\":{\"duration\":0,\"redraw\":true},\"mode\":\"immediate\",\"fromcurrent\":true,\"transition\":{\"duration\":0,\"easing\":\"linear\"}}],\"label\":\"2018\",\"method\":\"animate\"},{\"args\":[[\"2019\"],{\"frame\":{\"duration\":0,\"redraw\":true},\"mode\":\"immediate\",\"fromcurrent\":true,\"transition\":{\"duration\":0,\"easing\":\"linear\"}}],\"label\":\"2019\",\"method\":\"animate\"},{\"args\":[[\"2020\"],{\"frame\":{\"duration\":0,\"redraw\":true},\"mode\":\"immediate\",\"fromcurrent\":true,\"transition\":{\"duration\":0,\"easing\":\"linear\"}}],\"label\":\"2020\",\"method\":\"animate\"},{\"args\":[[\"2021\"],{\"frame\":{\"duration\":0,\"redraw\":true},\"mode\":\"immediate\",\"fromcurrent\":true,\"transition\":{\"duration\":0,\"easing\":\"linear\"}}],\"label\":\"2021\",\"method\":\"animate\"},{\"args\":[[\"2022\"],{\"frame\":{\"duration\":0,\"redraw\":true},\"mode\":\"immediate\",\"fromcurrent\":true,\"transition\":{\"duration\":0,\"easing\":\"linear\"}}],\"label\":\"2022\",\"method\":\"animate\"},{\"args\":[[\"2023\"],{\"frame\":{\"duration\":0,\"redraw\":true},\"mode\":\"immediate\",\"fromcurrent\":true,\"transition\":{\"duration\":0,\"easing\":\"linear\"}}],\"label\":\"2023\",\"method\":\"animate\"},{\"args\":[[\"2024\"],{\"frame\":{\"duration\":0,\"redraw\":true},\"mode\":\"immediate\",\"fromcurrent\":true,\"transition\":{\"duration\":0,\"easing\":\"linear\"}}],\"label\":\"2024\",\"method\":\"animate\"}],\"x\":0.1,\"xanchor\":\"left\",\"y\":0,\"yanchor\":\"top\"}]},                        {\"responsive\": true}                    ).then(function(){\n",
       "                            Plotly.addFrames('3c6b5550-0d48-4faf-b94c-eea24c814dd6', [{\"data\":[{\"alignmentgroup\":\"True\",\"hovertemplate\":\"\\u003cb\\u003e%{hovertext}\\u003c\\u002fb\\u003e\\u003cbr\\u003e\\u003cbr\\u003eApparatus=%{x}\\u003cbr\\u003eSeason=2015\\u003cbr\\u003eNo. of Tens=%{y}\\u003cextra\\u003e\\u003c\\u002fextra\\u003e\",\"hovertext\":[\"Vault\"],\"legendgroup\":\"Vault\",\"marker\":{\"color\":\"#636efa\",\"pattern\":{\"shape\":\"\"}},\"name\":\"Vault\",\"offsetgroup\":\"Vault\",\"orientation\":\"v\",\"showlegend\":true,\"textposition\":\"auto\",\"x\":[\"Vault\"],\"xaxis\":\"x\",\"y\":[34],\"yaxis\":\"y\",\"type\":\"bar\"},{\"alignmentgroup\":\"True\",\"hovertemplate\":\"\\u003cb\\u003e%{hovertext}\\u003c\\u002fb\\u003e\\u003cbr\\u003e\\u003cbr\\u003eApparatus=%{x}\\u003cbr\\u003eSeason=2015\\u003cbr\\u003eNo. of Tens=%{y}\\u003cextra\\u003e\\u003c\\u002fextra\\u003e\",\"hovertext\":[\"Uneven Bars\"],\"legendgroup\":\"Uneven Bars\",\"marker\":{\"color\":\"#EF553B\",\"pattern\":{\"shape\":\"\"}},\"name\":\"Uneven Bars\",\"offsetgroup\":\"Uneven Bars\",\"orientation\":\"v\",\"showlegend\":true,\"textposition\":\"auto\",\"x\":[\"Uneven Bars\"],\"xaxis\":\"x\",\"y\":[32],\"yaxis\":\"y\",\"type\":\"bar\"},{\"alignmentgroup\":\"True\",\"hovertemplate\":\"\\u003cb\\u003e%{hovertext}\\u003c\\u002fb\\u003e\\u003cbr\\u003e\\u003cbr\\u003eApparatus=%{x}\\u003cbr\\u003eSeason=2015\\u003cbr\\u003eNo. of Tens=%{y}\\u003cextra\\u003e\\u003c\\u002fextra\\u003e\",\"hovertext\":[\"Balance Beam\"],\"legendgroup\":\"Balance Beam\",\"marker\":{\"color\":\"#00cc96\",\"pattern\":{\"shape\":\"\"}},\"name\":\"Balance Beam\",\"offsetgroup\":\"Balance Beam\",\"orientation\":\"v\",\"showlegend\":true,\"textposition\":\"auto\",\"x\":[\"Balance Beam\"],\"xaxis\":\"x\",\"y\":[2],\"yaxis\":\"y\",\"type\":\"bar\"},{\"alignmentgroup\":\"True\",\"hovertemplate\":\"\\u003cb\\u003e%{hovertext}\\u003c\\u002fb\\u003e\\u003cbr\\u003e\\u003cbr\\u003eApparatus=%{x}\\u003cbr\\u003eSeason=2015\\u003cbr\\u003eNo. of Tens=%{y}\\u003cextra\\u003e\\u003c\\u002fextra\\u003e\",\"hovertext\":[\"Floor Exercise\"],\"legendgroup\":\"Floor Exercise\",\"marker\":{\"color\":\"#ab63fa\",\"pattern\":{\"shape\":\"\"}},\"name\":\"Floor Exercise\",\"offsetgroup\":\"Floor Exercise\",\"orientation\":\"v\",\"showlegend\":true,\"textposition\":\"auto\",\"x\":[\"Floor Exercise\"],\"xaxis\":\"x\",\"y\":[7],\"yaxis\":\"y\",\"type\":\"bar\"}],\"name\":\"2015\"},{\"data\":[{\"alignmentgroup\":\"True\",\"hovertemplate\":\"\\u003cb\\u003e%{hovertext}\\u003c\\u002fb\\u003e\\u003cbr\\u003e\\u003cbr\\u003eApparatus=%{x}\\u003cbr\\u003eSeason=2016\\u003cbr\\u003eNo. of Tens=%{y}\\u003cextra\\u003e\\u003c\\u002fextra\\u003e\",\"hovertext\":[\"Vault\"],\"legendgroup\":\"Vault\",\"marker\":{\"color\":\"#636efa\",\"pattern\":{\"shape\":\"\"}},\"name\":\"Vault\",\"offsetgroup\":\"Vault\",\"orientation\":\"v\",\"showlegend\":true,\"textposition\":\"auto\",\"x\":[\"Vault\"],\"xaxis\":\"x\",\"y\":[12],\"yaxis\":\"y\",\"type\":\"bar\"},{\"alignmentgroup\":\"True\",\"hovertemplate\":\"\\u003cb\\u003e%{hovertext}\\u003c\\u002fb\\u003e\\u003cbr\\u003e\\u003cbr\\u003eApparatus=%{x}\\u003cbr\\u003eSeason=2016\\u003cbr\\u003eNo. of Tens=%{y}\\u003cextra\\u003e\\u003c\\u002fextra\\u003e\",\"hovertext\":[\"Uneven Bars\"],\"legendgroup\":\"Uneven Bars\",\"marker\":{\"color\":\"#EF553B\",\"pattern\":{\"shape\":\"\"}},\"name\":\"Uneven Bars\",\"offsetgroup\":\"Uneven Bars\",\"orientation\":\"v\",\"showlegend\":true,\"textposition\":\"auto\",\"x\":[\"Uneven Bars\"],\"xaxis\":\"x\",\"y\":[8],\"yaxis\":\"y\",\"type\":\"bar\"},{\"alignmentgroup\":\"True\",\"hovertemplate\":\"\\u003cb\\u003e%{hovertext}\\u003c\\u002fb\\u003e\\u003cbr\\u003e\\u003cbr\\u003eApparatus=%{x}\\u003cbr\\u003eSeason=2016\\u003cbr\\u003eNo. of Tens=%{y}\\u003cextra\\u003e\\u003c\\u002fextra\\u003e\",\"hovertext\":[\"Balance Beam\"],\"legendgroup\":\"Balance Beam\",\"marker\":{\"color\":\"#00cc96\",\"pattern\":{\"shape\":\"\"}},\"name\":\"Balance Beam\",\"offsetgroup\":\"Balance Beam\",\"orientation\":\"v\",\"showlegend\":true,\"textposition\":\"auto\",\"x\":[\"Balance Beam\"],\"xaxis\":\"x\",\"y\":[16],\"yaxis\":\"y\",\"type\":\"bar\"},{\"alignmentgroup\":\"True\",\"hovertemplate\":\"\\u003cb\\u003e%{hovertext}\\u003c\\u002fb\\u003e\\u003cbr\\u003e\\u003cbr\\u003eApparatus=%{x}\\u003cbr\\u003eSeason=2016\\u003cbr\\u003eNo. of Tens=%{y}\\u003cextra\\u003e\\u003c\\u002fextra\\u003e\",\"hovertext\":[\"Floor Exercise\"],\"legendgroup\":\"Floor Exercise\",\"marker\":{\"color\":\"#ab63fa\",\"pattern\":{\"shape\":\"\"}},\"name\":\"Floor Exercise\",\"offsetgroup\":\"Floor Exercise\",\"orientation\":\"v\",\"showlegend\":true,\"textposition\":\"auto\",\"x\":[\"Floor Exercise\"],\"xaxis\":\"x\",\"y\":[28],\"yaxis\":\"y\",\"type\":\"bar\"}],\"name\":\"2016\"},{\"data\":[{\"alignmentgroup\":\"True\",\"hovertemplate\":\"\\u003cb\\u003e%{hovertext}\\u003c\\u002fb\\u003e\\u003cbr\\u003e\\u003cbr\\u003eApparatus=%{x}\\u003cbr\\u003eSeason=2017\\u003cbr\\u003eNo. of Tens=%{y}\\u003cextra\\u003e\\u003c\\u002fextra\\u003e\",\"hovertext\":[\"Vault\"],\"legendgroup\":\"Vault\",\"marker\":{\"color\":\"#636efa\",\"pattern\":{\"shape\":\"\"}},\"name\":\"Vault\",\"offsetgroup\":\"Vault\",\"orientation\":\"v\",\"showlegend\":true,\"textposition\":\"auto\",\"x\":[\"Vault\"],\"xaxis\":\"x\",\"y\":[22],\"yaxis\":\"y\",\"type\":\"bar\"},{\"alignmentgroup\":\"True\",\"hovertemplate\":\"\\u003cb\\u003e%{hovertext}\\u003c\\u002fb\\u003e\\u003cbr\\u003e\\u003cbr\\u003eApparatus=%{x}\\u003cbr\\u003eSeason=2017\\u003cbr\\u003eNo. of Tens=%{y}\\u003cextra\\u003e\\u003c\\u002fextra\\u003e\",\"hovertext\":[\"Uneven Bars\"],\"legendgroup\":\"Uneven Bars\",\"marker\":{\"color\":\"#EF553B\",\"pattern\":{\"shape\":\"\"}},\"name\":\"Uneven Bars\",\"offsetgroup\":\"Uneven Bars\",\"orientation\":\"v\",\"showlegend\":true,\"textposition\":\"auto\",\"x\":[\"Uneven Bars\"],\"xaxis\":\"x\",\"y\":[26],\"yaxis\":\"y\",\"type\":\"bar\"},{\"alignmentgroup\":\"True\",\"hovertemplate\":\"\\u003cb\\u003e%{hovertext}\\u003c\\u002fb\\u003e\\u003cbr\\u003e\\u003cbr\\u003eApparatus=%{x}\\u003cbr\\u003eSeason=2017\\u003cbr\\u003eNo. of Tens=%{y}\\u003cextra\\u003e\\u003c\\u002fextra\\u003e\",\"hovertext\":[\"Balance Beam\"],\"legendgroup\":\"Balance Beam\",\"marker\":{\"color\":\"#00cc96\",\"pattern\":{\"shape\":\"\"}},\"name\":\"Balance Beam\",\"offsetgroup\":\"Balance Beam\",\"orientation\":\"v\",\"showlegend\":true,\"textposition\":\"auto\",\"x\":[\"Balance Beam\"],\"xaxis\":\"x\",\"y\":[35],\"yaxis\":\"y\",\"type\":\"bar\"},{\"alignmentgroup\":\"True\",\"hovertemplate\":\"\\u003cb\\u003e%{hovertext}\\u003c\\u002fb\\u003e\\u003cbr\\u003e\\u003cbr\\u003eApparatus=%{x}\\u003cbr\\u003eSeason=2017\\u003cbr\\u003eNo. of Tens=%{y}\\u003cextra\\u003e\\u003c\\u002fextra\\u003e\",\"hovertext\":[\"Floor Exercise\"],\"legendgroup\":\"Floor Exercise\",\"marker\":{\"color\":\"#ab63fa\",\"pattern\":{\"shape\":\"\"}},\"name\":\"Floor Exercise\",\"offsetgroup\":\"Floor Exercise\",\"orientation\":\"v\",\"showlegend\":true,\"textposition\":\"auto\",\"x\":[\"Floor Exercise\"],\"xaxis\":\"x\",\"y\":[16],\"yaxis\":\"y\",\"type\":\"bar\"}],\"name\":\"2017\"},{\"data\":[{\"alignmentgroup\":\"True\",\"hovertemplate\":\"\\u003cb\\u003e%{hovertext}\\u003c\\u002fb\\u003e\\u003cbr\\u003e\\u003cbr\\u003eApparatus=%{x}\\u003cbr\\u003eSeason=2018\\u003cbr\\u003eNo. of Tens=%{y}\\u003cextra\\u003e\\u003c\\u002fextra\\u003e\",\"hovertext\":[\"Vault\"],\"legendgroup\":\"Vault\",\"marker\":{\"color\":\"#636efa\",\"pattern\":{\"shape\":\"\"}},\"name\":\"Vault\",\"offsetgroup\":\"Vault\",\"orientation\":\"v\",\"showlegend\":true,\"textposition\":\"auto\",\"x\":[\"Vault\"],\"xaxis\":\"x\",\"y\":[10],\"yaxis\":\"y\",\"type\":\"bar\"},{\"alignmentgroup\":\"True\",\"hovertemplate\":\"\\u003cb\\u003e%{hovertext}\\u003c\\u002fb\\u003e\\u003cbr\\u003e\\u003cbr\\u003eApparatus=%{x}\\u003cbr\\u003eSeason=2018\\u003cbr\\u003eNo. of Tens=%{y}\\u003cextra\\u003e\\u003c\\u002fextra\\u003e\",\"hovertext\":[\"Uneven Bars\"],\"legendgroup\":\"Uneven Bars\",\"marker\":{\"color\":\"#EF553B\",\"pattern\":{\"shape\":\"\"}},\"name\":\"Uneven Bars\",\"offsetgroup\":\"Uneven Bars\",\"orientation\":\"v\",\"showlegend\":true,\"textposition\":\"auto\",\"x\":[\"Uneven Bars\"],\"xaxis\":\"x\",\"y\":[51],\"yaxis\":\"y\",\"type\":\"bar\"},{\"alignmentgroup\":\"True\",\"hovertemplate\":\"\\u003cb\\u003e%{hovertext}\\u003c\\u002fb\\u003e\\u003cbr\\u003e\\u003cbr\\u003eApparatus=%{x}\\u003cbr\\u003eSeason=2018\\u003cbr\\u003eNo. of Tens=%{y}\\u003cextra\\u003e\\u003c\\u002fextra\\u003e\",\"hovertext\":[\"Balance Beam\"],\"legendgroup\":\"Balance Beam\",\"marker\":{\"color\":\"#00cc96\",\"pattern\":{\"shape\":\"\"}},\"name\":\"Balance Beam\",\"offsetgroup\":\"Balance Beam\",\"orientation\":\"v\",\"showlegend\":true,\"textposition\":\"auto\",\"x\":[\"Balance Beam\"],\"xaxis\":\"x\",\"y\":[53],\"yaxis\":\"y\",\"type\":\"bar\"},{\"alignmentgroup\":\"True\",\"hovertemplate\":\"\\u003cb\\u003e%{hovertext}\\u003c\\u002fb\\u003e\\u003cbr\\u003e\\u003cbr\\u003eApparatus=%{x}\\u003cbr\\u003eSeason=2018\\u003cbr\\u003eNo. of Tens=%{y}\\u003cextra\\u003e\\u003c\\u002fextra\\u003e\",\"hovertext\":[\"Floor Exercise\"],\"legendgroup\":\"Floor Exercise\",\"marker\":{\"color\":\"#ab63fa\",\"pattern\":{\"shape\":\"\"}},\"name\":\"Floor Exercise\",\"offsetgroup\":\"Floor Exercise\",\"orientation\":\"v\",\"showlegend\":true,\"textposition\":\"auto\",\"x\":[\"Floor Exercise\"],\"xaxis\":\"x\",\"y\":[24],\"yaxis\":\"y\",\"type\":\"bar\"}],\"name\":\"2018\"},{\"data\":[{\"alignmentgroup\":\"True\",\"hovertemplate\":\"\\u003cb\\u003e%{hovertext}\\u003c\\u002fb\\u003e\\u003cbr\\u003e\\u003cbr\\u003eApparatus=%{x}\\u003cbr\\u003eSeason=2019\\u003cbr\\u003eNo. of Tens=%{y}\\u003cextra\\u003e\\u003c\\u002fextra\\u003e\",\"hovertext\":[\"Vault\"],\"legendgroup\":\"Vault\",\"marker\":{\"color\":\"#636efa\",\"pattern\":{\"shape\":\"\"}},\"name\":\"Vault\",\"offsetgroup\":\"Vault\",\"orientation\":\"v\",\"showlegend\":true,\"textposition\":\"auto\",\"x\":[\"Vault\"],\"xaxis\":\"x\",\"y\":[31],\"yaxis\":\"y\",\"type\":\"bar\"},{\"alignmentgroup\":\"True\",\"hovertemplate\":\"\\u003cb\\u003e%{hovertext}\\u003c\\u002fb\\u003e\\u003cbr\\u003e\\u003cbr\\u003eApparatus=%{x}\\u003cbr\\u003eSeason=2019\\u003cbr\\u003eNo. of Tens=%{y}\\u003cextra\\u003e\\u003c\\u002fextra\\u003e\",\"hovertext\":[\"Uneven Bars\"],\"legendgroup\":\"Uneven Bars\",\"marker\":{\"color\":\"#EF553B\",\"pattern\":{\"shape\":\"\"}},\"name\":\"Uneven Bars\",\"offsetgroup\":\"Uneven Bars\",\"orientation\":\"v\",\"showlegend\":true,\"textposition\":\"auto\",\"x\":[\"Uneven Bars\"],\"xaxis\":\"x\",\"y\":[38],\"yaxis\":\"y\",\"type\":\"bar\"},{\"alignmentgroup\":\"True\",\"hovertemplate\":\"\\u003cb\\u003e%{hovertext}\\u003c\\u002fb\\u003e\\u003cbr\\u003e\\u003cbr\\u003eApparatus=%{x}\\u003cbr\\u003eSeason=2019\\u003cbr\\u003eNo. of Tens=%{y}\\u003cextra\\u003e\\u003c\\u002fextra\\u003e\",\"hovertext\":[\"Balance Beam\"],\"legendgroup\":\"Balance Beam\",\"marker\":{\"color\":\"#00cc96\",\"pattern\":{\"shape\":\"\"}},\"name\":\"Balance Beam\",\"offsetgroup\":\"Balance Beam\",\"orientation\":\"v\",\"showlegend\":true,\"textposition\":\"auto\",\"x\":[\"Balance Beam\"],\"xaxis\":\"x\",\"y\":[8],\"yaxis\":\"y\",\"type\":\"bar\"},{\"alignmentgroup\":\"True\",\"hovertemplate\":\"\\u003cb\\u003e%{hovertext}\\u003c\\u002fb\\u003e\\u003cbr\\u003e\\u003cbr\\u003eApparatus=%{x}\\u003cbr\\u003eSeason=2019\\u003cbr\\u003eNo. of Tens=%{y}\\u003cextra\\u003e\\u003c\\u002fextra\\u003e\",\"hovertext\":[\"Floor Exercise\"],\"legendgroup\":\"Floor Exercise\",\"marker\":{\"color\":\"#ab63fa\",\"pattern\":{\"shape\":\"\"}},\"name\":\"Floor Exercise\",\"offsetgroup\":\"Floor Exercise\",\"orientation\":\"v\",\"showlegend\":true,\"textposition\":\"auto\",\"x\":[\"Floor Exercise\"],\"xaxis\":\"x\",\"y\":[56],\"yaxis\":\"y\",\"type\":\"bar\"}],\"name\":\"2019\"},{\"data\":[{\"alignmentgroup\":\"True\",\"hovertemplate\":\"\\u003cb\\u003e%{hovertext}\\u003c\\u002fb\\u003e\\u003cbr\\u003e\\u003cbr\\u003eApparatus=%{x}\\u003cbr\\u003eSeason=2020\\u003cbr\\u003eNo. of Tens=%{y}\\u003cextra\\u003e\\u003c\\u002fextra\\u003e\",\"hovertext\":[\"Vault\"],\"legendgroup\":\"Vault\",\"marker\":{\"color\":\"#636efa\",\"pattern\":{\"shape\":\"\"}},\"name\":\"Vault\",\"offsetgroup\":\"Vault\",\"orientation\":\"v\",\"showlegend\":true,\"textposition\":\"auto\",\"x\":[\"Vault\"],\"xaxis\":\"x\",\"y\":[28],\"yaxis\":\"y\",\"type\":\"bar\"},{\"alignmentgroup\":\"True\",\"hovertemplate\":\"\\u003cb\\u003e%{hovertext}\\u003c\\u002fb\\u003e\\u003cbr\\u003e\\u003cbr\\u003eApparatus=%{x}\\u003cbr\\u003eSeason=2020\\u003cbr\\u003eNo. of Tens=%{y}\\u003cextra\\u003e\\u003c\\u002fextra\\u003e\",\"hovertext\":[\"Uneven Bars\"],\"legendgroup\":\"Uneven Bars\",\"marker\":{\"color\":\"#EF553B\",\"pattern\":{\"shape\":\"\"}},\"name\":\"Uneven Bars\",\"offsetgroup\":\"Uneven Bars\",\"orientation\":\"v\",\"showlegend\":true,\"textposition\":\"auto\",\"x\":[\"Uneven Bars\"],\"xaxis\":\"x\",\"y\":[10],\"yaxis\":\"y\",\"type\":\"bar\"},{\"alignmentgroup\":\"True\",\"hovertemplate\":\"\\u003cb\\u003e%{hovertext}\\u003c\\u002fb\\u003e\\u003cbr\\u003e\\u003cbr\\u003eApparatus=%{x}\\u003cbr\\u003eSeason=2020\\u003cbr\\u003eNo. of Tens=%{y}\\u003cextra\\u003e\\u003c\\u002fextra\\u003e\",\"hovertext\":[\"Balance Beam\"],\"legendgroup\":\"Balance Beam\",\"marker\":{\"color\":\"#00cc96\",\"pattern\":{\"shape\":\"\"}},\"name\":\"Balance Beam\",\"offsetgroup\":\"Balance Beam\",\"orientation\":\"v\",\"showlegend\":true,\"textposition\":\"auto\",\"x\":[\"Balance Beam\"],\"xaxis\":\"x\",\"y\":[32],\"yaxis\":\"y\",\"type\":\"bar\"},{\"alignmentgroup\":\"True\",\"hovertemplate\":\"\\u003cb\\u003e%{hovertext}\\u003c\\u002fb\\u003e\\u003cbr\\u003e\\u003cbr\\u003eApparatus=%{x}\\u003cbr\\u003eSeason=2020\\u003cbr\\u003eNo. of Tens=%{y}\\u003cextra\\u003e\\u003c\\u002fextra\\u003e\",\"hovertext\":[\"Floor Exercise\"],\"legendgroup\":\"Floor Exercise\",\"marker\":{\"color\":\"#ab63fa\",\"pattern\":{\"shape\":\"\"}},\"name\":\"Floor Exercise\",\"offsetgroup\":\"Floor Exercise\",\"orientation\":\"v\",\"showlegend\":true,\"textposition\":\"auto\",\"x\":[\"Floor Exercise\"],\"xaxis\":\"x\",\"y\":[4],\"yaxis\":\"y\",\"type\":\"bar\"}],\"name\":\"2020\"},{\"data\":[{\"alignmentgroup\":\"True\",\"hovertemplate\":\"\\u003cb\\u003e%{hovertext}\\u003c\\u002fb\\u003e\\u003cbr\\u003e\\u003cbr\\u003eApparatus=%{x}\\u003cbr\\u003eSeason=2021\\u003cbr\\u003eNo. of Tens=%{y}\\u003cextra\\u003e\\u003c\\u002fextra\\u003e\",\"hovertext\":[\"Vault\"],\"legendgroup\":\"Vault\",\"marker\":{\"color\":\"#636efa\",\"pattern\":{\"shape\":\"\"}},\"name\":\"Vault\",\"offsetgroup\":\"Vault\",\"orientation\":\"v\",\"showlegend\":true,\"textposition\":\"auto\",\"x\":[\"Vault\"],\"xaxis\":\"x\",\"y\":[50],\"yaxis\":\"y\",\"type\":\"bar\"},{\"alignmentgroup\":\"True\",\"hovertemplate\":\"\\u003cb\\u003e%{hovertext}\\u003c\\u002fb\\u003e\\u003cbr\\u003e\\u003cbr\\u003eApparatus=%{x}\\u003cbr\\u003eSeason=2021\\u003cbr\\u003eNo. of Tens=%{y}\\u003cextra\\u003e\\u003c\\u002fextra\\u003e\",\"hovertext\":[\"Uneven Bars\"],\"legendgroup\":\"Uneven Bars\",\"marker\":{\"color\":\"#EF553B\",\"pattern\":{\"shape\":\"\"}},\"name\":\"Uneven Bars\",\"offsetgroup\":\"Uneven Bars\",\"orientation\":\"v\",\"showlegend\":true,\"textposition\":\"auto\",\"x\":[\"Uneven Bars\"],\"xaxis\":\"x\",\"y\":[44],\"yaxis\":\"y\",\"type\":\"bar\"},{\"alignmentgroup\":\"True\",\"hovertemplate\":\"\\u003cb\\u003e%{hovertext}\\u003c\\u002fb\\u003e\\u003cbr\\u003e\\u003cbr\\u003eApparatus=%{x}\\u003cbr\\u003eSeason=2021\\u003cbr\\u003eNo. of Tens=%{y}\\u003cextra\\u003e\\u003c\\u002fextra\\u003e\",\"hovertext\":[\"Balance Beam\"],\"legendgroup\":\"Balance Beam\",\"marker\":{\"color\":\"#00cc96\",\"pattern\":{\"shape\":\"\"}},\"name\":\"Balance Beam\",\"offsetgroup\":\"Balance Beam\",\"orientation\":\"v\",\"showlegend\":true,\"textposition\":\"auto\",\"x\":[\"Balance Beam\"],\"xaxis\":\"x\",\"y\":[20],\"yaxis\":\"y\",\"type\":\"bar\"},{\"alignmentgroup\":\"True\",\"hovertemplate\":\"\\u003cb\\u003e%{hovertext}\\u003c\\u002fb\\u003e\\u003cbr\\u003e\\u003cbr\\u003eApparatus=%{x}\\u003cbr\\u003eSeason=2021\\u003cbr\\u003eNo. of Tens=%{y}\\u003cextra\\u003e\\u003c\\u002fextra\\u003e\",\"hovertext\":[\"Floor Exercise\"],\"legendgroup\":\"Floor Exercise\",\"marker\":{\"color\":\"#ab63fa\",\"pattern\":{\"shape\":\"\"}},\"name\":\"Floor Exercise\",\"offsetgroup\":\"Floor Exercise\",\"orientation\":\"v\",\"showlegend\":true,\"textposition\":\"auto\",\"x\":[\"Floor Exercise\"],\"xaxis\":\"x\",\"y\":[21],\"yaxis\":\"y\",\"type\":\"bar\"}],\"name\":\"2021\"},{\"data\":[{\"alignmentgroup\":\"True\",\"hovertemplate\":\"\\u003cb\\u003e%{hovertext}\\u003c\\u002fb\\u003e\\u003cbr\\u003e\\u003cbr\\u003eApparatus=%{x}\\u003cbr\\u003eSeason=2022\\u003cbr\\u003eNo. of Tens=%{y}\\u003cextra\\u003e\\u003c\\u002fextra\\u003e\",\"hovertext\":[\"Vault\"],\"legendgroup\":\"Vault\",\"marker\":{\"color\":\"#636efa\",\"pattern\":{\"shape\":\"\"}},\"name\":\"Vault\",\"offsetgroup\":\"Vault\",\"orientation\":\"v\",\"showlegend\":true,\"textposition\":\"auto\",\"x\":[\"Vault\"],\"xaxis\":\"x\",\"y\":[59],\"yaxis\":\"y\",\"type\":\"bar\"},{\"alignmentgroup\":\"True\",\"hovertemplate\":\"\\u003cb\\u003e%{hovertext}\\u003c\\u002fb\\u003e\\u003cbr\\u003e\\u003cbr\\u003eApparatus=%{x}\\u003cbr\\u003eSeason=2022\\u003cbr\\u003eNo. of Tens=%{y}\\u003cextra\\u003e\\u003c\\u002fextra\\u003e\",\"hovertext\":[\"Uneven Bars\"],\"legendgroup\":\"Uneven Bars\",\"marker\":{\"color\":\"#EF553B\",\"pattern\":{\"shape\":\"\"}},\"name\":\"Uneven Bars\",\"offsetgroup\":\"Uneven Bars\",\"orientation\":\"v\",\"showlegend\":true,\"textposition\":\"auto\",\"x\":[\"Uneven Bars\"],\"xaxis\":\"x\",\"y\":[46],\"yaxis\":\"y\",\"type\":\"bar\"},{\"alignmentgroup\":\"True\",\"hovertemplate\":\"\\u003cb\\u003e%{hovertext}\\u003c\\u002fb\\u003e\\u003cbr\\u003e\\u003cbr\\u003eApparatus=%{x}\\u003cbr\\u003eSeason=2022\\u003cbr\\u003eNo. of Tens=%{y}\\u003cextra\\u003e\\u003c\\u002fextra\\u003e\",\"hovertext\":[\"Balance Beam\"],\"legendgroup\":\"Balance Beam\",\"marker\":{\"color\":\"#00cc96\",\"pattern\":{\"shape\":\"\"}},\"name\":\"Balance Beam\",\"offsetgroup\":\"Balance Beam\",\"orientation\":\"v\",\"showlegend\":true,\"textposition\":\"auto\",\"x\":[\"Balance Beam\"],\"xaxis\":\"x\",\"y\":[38],\"yaxis\":\"y\",\"type\":\"bar\"},{\"alignmentgroup\":\"True\",\"hovertemplate\":\"\\u003cb\\u003e%{hovertext}\\u003c\\u002fb\\u003e\\u003cbr\\u003e\\u003cbr\\u003eApparatus=%{x}\\u003cbr\\u003eSeason=2022\\u003cbr\\u003eNo. of Tens=%{y}\\u003cextra\\u003e\\u003c\\u002fextra\\u003e\",\"hovertext\":[\"Floor Exercise\"],\"legendgroup\":\"Floor Exercise\",\"marker\":{\"color\":\"#ab63fa\",\"pattern\":{\"shape\":\"\"}},\"name\":\"Floor Exercise\",\"offsetgroup\":\"Floor Exercise\",\"orientation\":\"v\",\"showlegend\":true,\"textposition\":\"auto\",\"x\":[\"Floor Exercise\"],\"xaxis\":\"x\",\"y\":[77],\"yaxis\":\"y\",\"type\":\"bar\"}],\"name\":\"2022\"},{\"data\":[{\"alignmentgroup\":\"True\",\"hovertemplate\":\"\\u003cb\\u003e%{hovertext}\\u003c\\u002fb\\u003e\\u003cbr\\u003e\\u003cbr\\u003eApparatus=%{x}\\u003cbr\\u003eSeason=2023\\u003cbr\\u003eNo. of Tens=%{y}\\u003cextra\\u003e\\u003c\\u002fextra\\u003e\",\"hovertext\":[\"Vault\"],\"legendgroup\":\"Vault\",\"marker\":{\"color\":\"#636efa\",\"pattern\":{\"shape\":\"\"}},\"name\":\"Vault\",\"offsetgroup\":\"Vault\",\"orientation\":\"v\",\"showlegend\":true,\"textposition\":\"auto\",\"x\":[\"Vault\"],\"xaxis\":\"x\",\"y\":[88],\"yaxis\":\"y\",\"type\":\"bar\"},{\"alignmentgroup\":\"True\",\"hovertemplate\":\"\\u003cb\\u003e%{hovertext}\\u003c\\u002fb\\u003e\\u003cbr\\u003e\\u003cbr\\u003eApparatus=%{x}\\u003cbr\\u003eSeason=2023\\u003cbr\\u003eNo. of Tens=%{y}\\u003cextra\\u003e\\u003c\\u002fextra\\u003e\",\"hovertext\":[\"Uneven Bars\"],\"legendgroup\":\"Uneven Bars\",\"marker\":{\"color\":\"#EF553B\",\"pattern\":{\"shape\":\"\"}},\"name\":\"Uneven Bars\",\"offsetgroup\":\"Uneven Bars\",\"orientation\":\"v\",\"showlegend\":true,\"textposition\":\"auto\",\"x\":[\"Uneven Bars\"],\"xaxis\":\"x\",\"y\":[81],\"yaxis\":\"y\",\"type\":\"bar\"},{\"alignmentgroup\":\"True\",\"hovertemplate\":\"\\u003cb\\u003e%{hovertext}\\u003c\\u002fb\\u003e\\u003cbr\\u003e\\u003cbr\\u003eApparatus=%{x}\\u003cbr\\u003eSeason=2023\\u003cbr\\u003eNo. of Tens=%{y}\\u003cextra\\u003e\\u003c\\u002fextra\\u003e\",\"hovertext\":[\"Balance Beam\"],\"legendgroup\":\"Balance Beam\",\"marker\":{\"color\":\"#00cc96\",\"pattern\":{\"shape\":\"\"}},\"name\":\"Balance Beam\",\"offsetgroup\":\"Balance Beam\",\"orientation\":\"v\",\"showlegend\":true,\"textposition\":\"auto\",\"x\":[\"Balance Beam\"],\"xaxis\":\"x\",\"y\":[126],\"yaxis\":\"y\",\"type\":\"bar\"},{\"alignmentgroup\":\"True\",\"hovertemplate\":\"\\u003cb\\u003e%{hovertext}\\u003c\\u002fb\\u003e\\u003cbr\\u003e\\u003cbr\\u003eApparatus=%{x}\\u003cbr\\u003eSeason=2023\\u003cbr\\u003eNo. of Tens=%{y}\\u003cextra\\u003e\\u003c\\u002fextra\\u003e\",\"hovertext\":[\"Floor Exercise\"],\"legendgroup\":\"Floor Exercise\",\"marker\":{\"color\":\"#ab63fa\",\"pattern\":{\"shape\":\"\"}},\"name\":\"Floor Exercise\",\"offsetgroup\":\"Floor Exercise\",\"orientation\":\"v\",\"showlegend\":true,\"textposition\":\"auto\",\"x\":[\"Floor Exercise\"],\"xaxis\":\"x\",\"y\":[64],\"yaxis\":\"y\",\"type\":\"bar\"}],\"name\":\"2023\"},{\"data\":[{\"alignmentgroup\":\"True\",\"hovertemplate\":\"\\u003cb\\u003e%{hovertext}\\u003c\\u002fb\\u003e\\u003cbr\\u003e\\u003cbr\\u003eApparatus=%{x}\\u003cbr\\u003eSeason=2024\\u003cbr\\u003eNo. of Tens=%{y}\\u003cextra\\u003e\\u003c\\u002fextra\\u003e\",\"hovertext\":[\"Vault\"],\"legendgroup\":\"Vault\",\"marker\":{\"color\":\"#636efa\",\"pattern\":{\"shape\":\"\"}},\"name\":\"Vault\",\"offsetgroup\":\"Vault\",\"orientation\":\"v\",\"showlegend\":true,\"textposition\":\"auto\",\"x\":[\"Vault\"],\"xaxis\":\"x\",\"y\":[45],\"yaxis\":\"y\",\"type\":\"bar\"},{\"alignmentgroup\":\"True\",\"hovertemplate\":\"\\u003cb\\u003e%{hovertext}\\u003c\\u002fb\\u003e\\u003cbr\\u003e\\u003cbr\\u003eApparatus=%{x}\\u003cbr\\u003eSeason=2024\\u003cbr\\u003eNo. of Tens=%{y}\\u003cextra\\u003e\\u003c\\u002fextra\\u003e\",\"hovertext\":[\"Uneven Bars\"],\"legendgroup\":\"Uneven Bars\",\"marker\":{\"color\":\"#EF553B\",\"pattern\":{\"shape\":\"\"}},\"name\":\"Uneven Bars\",\"offsetgroup\":\"Uneven Bars\",\"orientation\":\"v\",\"showlegend\":true,\"textposition\":\"auto\",\"x\":[\"Uneven Bars\"],\"xaxis\":\"x\",\"y\":[56],\"yaxis\":\"y\",\"type\":\"bar\"},{\"alignmentgroup\":\"True\",\"hovertemplate\":\"\\u003cb\\u003e%{hovertext}\\u003c\\u002fb\\u003e\\u003cbr\\u003e\\u003cbr\\u003eApparatus=%{x}\\u003cbr\\u003eSeason=2024\\u003cbr\\u003eNo. of Tens=%{y}\\u003cextra\\u003e\\u003c\\u002fextra\\u003e\",\"hovertext\":[\"Balance Beam\"],\"legendgroup\":\"Balance Beam\",\"marker\":{\"color\":\"#00cc96\",\"pattern\":{\"shape\":\"\"}},\"name\":\"Balance Beam\",\"offsetgroup\":\"Balance Beam\",\"orientation\":\"v\",\"showlegend\":true,\"textposition\":\"auto\",\"x\":[\"Balance Beam\"],\"xaxis\":\"x\",\"y\":[69],\"yaxis\":\"y\",\"type\":\"bar\"},{\"alignmentgroup\":\"True\",\"hovertemplate\":\"\\u003cb\\u003e%{hovertext}\\u003c\\u002fb\\u003e\\u003cbr\\u003e\\u003cbr\\u003eApparatus=%{x}\\u003cbr\\u003eSeason=2024\\u003cbr\\u003eNo. of Tens=%{y}\\u003cextra\\u003e\\u003c\\u002fextra\\u003e\",\"hovertext\":[\"Floor Exercise\"],\"legendgroup\":\"Floor Exercise\",\"marker\":{\"color\":\"#ab63fa\",\"pattern\":{\"shape\":\"\"}},\"name\":\"Floor Exercise\",\"offsetgroup\":\"Floor Exercise\",\"orientation\":\"v\",\"showlegend\":true,\"textposition\":\"auto\",\"x\":[\"Floor Exercise\"],\"xaxis\":\"x\",\"y\":[103],\"yaxis\":\"y\",\"type\":\"bar\"}],\"name\":\"2024\"}]);\n",
       "                        }).then(function(){\n",
       "                            Plotly.animate('3c6b5550-0d48-4faf-b94c-eea24c814dd6', null);\n",
       "                        })                };                            </script>        </div>"
      ],
      "text/plain": [
       "Figure({\n",
       "    'data': [{'alignmentgroup': 'True',\n",
       "              'hovertemplate': ('<b>%{hovertext}</b><br><br>App' ... 'o. of Tens=%{y}<extra></extra>'),\n",
       "              'hovertext': array(['Vault'], dtype=object),\n",
       "              'legendgroup': 'Vault',\n",
       "              'marker': {'color': '#636efa', 'pattern': {'shape': ''}},\n",
       "              'name': 'Vault',\n",
       "              'offsetgroup': 'Vault',\n",
       "              'orientation': 'v',\n",
       "              'showlegend': True,\n",
       "              'textposition': 'auto',\n",
       "              'type': 'bar',\n",
       "              'x': array(['Vault'], dtype=object),\n",
       "              'xaxis': 'x',\n",
       "              'y': array([34]),\n",
       "              'yaxis': 'y'},\n",
       "             {'alignmentgroup': 'True',\n",
       "              'hovertemplate': ('<b>%{hovertext}</b><br><br>App' ... 'o. of Tens=%{y}<extra></extra>'),\n",
       "              'hovertext': array(['Uneven Bars'], dtype=object),\n",
       "              'legendgroup': 'Uneven Bars',\n",
       "              'marker': {'color': '#EF553B', 'pattern': {'shape': ''}},\n",
       "              'name': 'Uneven Bars',\n",
       "              'offsetgroup': 'Uneven Bars',\n",
       "              'orientation': 'v',\n",
       "              'showlegend': True,\n",
       "              'textposition': 'auto',\n",
       "              'type': 'bar',\n",
       "              'x': array(['Uneven Bars'], dtype=object),\n",
       "              'xaxis': 'x',\n",
       "              'y': array([32]),\n",
       "              'yaxis': 'y'},\n",
       "             {'alignmentgroup': 'True',\n",
       "              'hovertemplate': ('<b>%{hovertext}</b><br><br>App' ... 'o. of Tens=%{y}<extra></extra>'),\n",
       "              'hovertext': array(['Balance Beam'], dtype=object),\n",
       "              'legendgroup': 'Balance Beam',\n",
       "              'marker': {'color': '#00cc96', 'pattern': {'shape': ''}},\n",
       "              'name': 'Balance Beam',\n",
       "              'offsetgroup': 'Balance Beam',\n",
       "              'orientation': 'v',\n",
       "              'showlegend': True,\n",
       "              'textposition': 'auto',\n",
       "              'type': 'bar',\n",
       "              'x': array(['Balance Beam'], dtype=object),\n",
       "              'xaxis': 'x',\n",
       "              'y': array([2]),\n",
       "              'yaxis': 'y'},\n",
       "             {'alignmentgroup': 'True',\n",
       "              'hovertemplate': ('<b>%{hovertext}</b><br><br>App' ... 'o. of Tens=%{y}<extra></extra>'),\n",
       "              'hovertext': array(['Floor Exercise'], dtype=object),\n",
       "              'legendgroup': 'Floor Exercise',\n",
       "              'marker': {'color': '#ab63fa', 'pattern': {'shape': ''}},\n",
       "              'name': 'Floor Exercise',\n",
       "              'offsetgroup': 'Floor Exercise',\n",
       "              'orientation': 'v',\n",
       "              'showlegend': True,\n",
       "              'textposition': 'auto',\n",
       "              'type': 'bar',\n",
       "              'x': array(['Floor Exercise'], dtype=object),\n",
       "              'xaxis': 'x',\n",
       "              'y': array([7]),\n",
       "              'yaxis': 'y'}],\n",
       "    'frames': [{'data': [{'alignmentgroup': 'True',\n",
       "                          'hovertemplate': ('<b>%{hovertext}</b><br><br>App' ... 'o. of Tens=%{y}<extra></extra>'),\n",
       "                          'hovertext': array(['Vault'], dtype=object),\n",
       "                          'legendgroup': 'Vault',\n",
       "                          'marker': {'color': '#636efa', 'pattern': {'shape': ''}},\n",
       "                          'name': 'Vault',\n",
       "                          'offsetgroup': 'Vault',\n",
       "                          'orientation': 'v',\n",
       "                          'showlegend': True,\n",
       "                          'textposition': 'auto',\n",
       "                          'type': 'bar',\n",
       "                          'x': array(['Vault'], dtype=object),\n",
       "                          'xaxis': 'x',\n",
       "                          'y': array([34]),\n",
       "                          'yaxis': 'y'},\n",
       "                         {'alignmentgroup': 'True',\n",
       "                          'hovertemplate': ('<b>%{hovertext}</b><br><br>App' ... 'o. of Tens=%{y}<extra></extra>'),\n",
       "                          'hovertext': array(['Uneven Bars'], dtype=object),\n",
       "                          'legendgroup': 'Uneven Bars',\n",
       "                          'marker': {'color': '#EF553B', 'pattern': {'shape': ''}},\n",
       "                          'name': 'Uneven Bars',\n",
       "                          'offsetgroup': 'Uneven Bars',\n",
       "                          'orientation': 'v',\n",
       "                          'showlegend': True,\n",
       "                          'textposition': 'auto',\n",
       "                          'type': 'bar',\n",
       "                          'x': array(['Uneven Bars'], dtype=object),\n",
       "                          'xaxis': 'x',\n",
       "                          'y': array([32]),\n",
       "                          'yaxis': 'y'},\n",
       "                         {'alignmentgroup': 'True',\n",
       "                          'hovertemplate': ('<b>%{hovertext}</b><br><br>App' ... 'o. of Tens=%{y}<extra></extra>'),\n",
       "                          'hovertext': array(['Balance Beam'], dtype=object),\n",
       "                          'legendgroup': 'Balance Beam',\n",
       "                          'marker': {'color': '#00cc96', 'pattern': {'shape': ''}},\n",
       "                          'name': 'Balance Beam',\n",
       "                          'offsetgroup': 'Balance Beam',\n",
       "                          'orientation': 'v',\n",
       "                          'showlegend': True,\n",
       "                          'textposition': 'auto',\n",
       "                          'type': 'bar',\n",
       "                          'x': array(['Balance Beam'], dtype=object),\n",
       "                          'xaxis': 'x',\n",
       "                          'y': array([2]),\n",
       "                          'yaxis': 'y'},\n",
       "                         {'alignmentgroup': 'True',\n",
       "                          'hovertemplate': ('<b>%{hovertext}</b><br><br>App' ... 'o. of Tens=%{y}<extra></extra>'),\n",
       "                          'hovertext': array(['Floor Exercise'], dtype=object),\n",
       "                          'legendgroup': 'Floor Exercise',\n",
       "                          'marker': {'color': '#ab63fa', 'pattern': {'shape': ''}},\n",
       "                          'name': 'Floor Exercise',\n",
       "                          'offsetgroup': 'Floor Exercise',\n",
       "                          'orientation': 'v',\n",
       "                          'showlegend': True,\n",
       "                          'textposition': 'auto',\n",
       "                          'type': 'bar',\n",
       "                          'x': array(['Floor Exercise'], dtype=object),\n",
       "                          'xaxis': 'x',\n",
       "                          'y': array([7]),\n",
       "                          'yaxis': 'y'}],\n",
       "                'name': '2015'},\n",
       "               {'data': [{'alignmentgroup': 'True',\n",
       "                          'hovertemplate': ('<b>%{hovertext}</b><br><br>App' ... 'o. of Tens=%{y}<extra></extra>'),\n",
       "                          'hovertext': array(['Vault'], dtype=object),\n",
       "                          'legendgroup': 'Vault',\n",
       "                          'marker': {'color': '#636efa', 'pattern': {'shape': ''}},\n",
       "                          'name': 'Vault',\n",
       "                          'offsetgroup': 'Vault',\n",
       "                          'orientation': 'v',\n",
       "                          'showlegend': True,\n",
       "                          'textposition': 'auto',\n",
       "                          'type': 'bar',\n",
       "                          'x': array(['Vault'], dtype=object),\n",
       "                          'xaxis': 'x',\n",
       "                          'y': array([12]),\n",
       "                          'yaxis': 'y'},\n",
       "                         {'alignmentgroup': 'True',\n",
       "                          'hovertemplate': ('<b>%{hovertext}</b><br><br>App' ... 'o. of Tens=%{y}<extra></extra>'),\n",
       "                          'hovertext': array(['Uneven Bars'], dtype=object),\n",
       "                          'legendgroup': 'Uneven Bars',\n",
       "                          'marker': {'color': '#EF553B', 'pattern': {'shape': ''}},\n",
       "                          'name': 'Uneven Bars',\n",
       "                          'offsetgroup': 'Uneven Bars',\n",
       "                          'orientation': 'v',\n",
       "                          'showlegend': True,\n",
       "                          'textposition': 'auto',\n",
       "                          'type': 'bar',\n",
       "                          'x': array(['Uneven Bars'], dtype=object),\n",
       "                          'xaxis': 'x',\n",
       "                          'y': array([8]),\n",
       "                          'yaxis': 'y'},\n",
       "                         {'alignmentgroup': 'True',\n",
       "                          'hovertemplate': ('<b>%{hovertext}</b><br><br>App' ... 'o. of Tens=%{y}<extra></extra>'),\n",
       "                          'hovertext': array(['Balance Beam'], dtype=object),\n",
       "                          'legendgroup': 'Balance Beam',\n",
       "                          'marker': {'color': '#00cc96', 'pattern': {'shape': ''}},\n",
       "                          'name': 'Balance Beam',\n",
       "                          'offsetgroup': 'Balance Beam',\n",
       "                          'orientation': 'v',\n",
       "                          'showlegend': True,\n",
       "                          'textposition': 'auto',\n",
       "                          'type': 'bar',\n",
       "                          'x': array(['Balance Beam'], dtype=object),\n",
       "                          'xaxis': 'x',\n",
       "                          'y': array([16]),\n",
       "                          'yaxis': 'y'},\n",
       "                         {'alignmentgroup': 'True',\n",
       "                          'hovertemplate': ('<b>%{hovertext}</b><br><br>App' ... 'o. of Tens=%{y}<extra></extra>'),\n",
       "                          'hovertext': array(['Floor Exercise'], dtype=object),\n",
       "                          'legendgroup': 'Floor Exercise',\n",
       "                          'marker': {'color': '#ab63fa', 'pattern': {'shape': ''}},\n",
       "                          'name': 'Floor Exercise',\n",
       "                          'offsetgroup': 'Floor Exercise',\n",
       "                          'orientation': 'v',\n",
       "                          'showlegend': True,\n",
       "                          'textposition': 'auto',\n",
       "                          'type': 'bar',\n",
       "                          'x': array(['Floor Exercise'], dtype=object),\n",
       "                          'xaxis': 'x',\n",
       "                          'y': array([28]),\n",
       "                          'yaxis': 'y'}],\n",
       "                'name': '2016'},\n",
       "               {'data': [{'alignmentgroup': 'True',\n",
       "                          'hovertemplate': ('<b>%{hovertext}</b><br><br>App' ... 'o. of Tens=%{y}<extra></extra>'),\n",
       "                          'hovertext': array(['Vault'], dtype=object),\n",
       "                          'legendgroup': 'Vault',\n",
       "                          'marker': {'color': '#636efa', 'pattern': {'shape': ''}},\n",
       "                          'name': 'Vault',\n",
       "                          'offsetgroup': 'Vault',\n",
       "                          'orientation': 'v',\n",
       "                          'showlegend': True,\n",
       "                          'textposition': 'auto',\n",
       "                          'type': 'bar',\n",
       "                          'x': array(['Vault'], dtype=object),\n",
       "                          'xaxis': 'x',\n",
       "                          'y': array([22]),\n",
       "                          'yaxis': 'y'},\n",
       "                         {'alignmentgroup': 'True',\n",
       "                          'hovertemplate': ('<b>%{hovertext}</b><br><br>App' ... 'o. of Tens=%{y}<extra></extra>'),\n",
       "                          'hovertext': array(['Uneven Bars'], dtype=object),\n",
       "                          'legendgroup': 'Uneven Bars',\n",
       "                          'marker': {'color': '#EF553B', 'pattern': {'shape': ''}},\n",
       "                          'name': 'Uneven Bars',\n",
       "                          'offsetgroup': 'Uneven Bars',\n",
       "                          'orientation': 'v',\n",
       "                          'showlegend': True,\n",
       "                          'textposition': 'auto',\n",
       "                          'type': 'bar',\n",
       "                          'x': array(['Uneven Bars'], dtype=object),\n",
       "                          'xaxis': 'x',\n",
       "                          'y': array([26]),\n",
       "                          'yaxis': 'y'},\n",
       "                         {'alignmentgroup': 'True',\n",
       "                          'hovertemplate': ('<b>%{hovertext}</b><br><br>App' ... 'o. of Tens=%{y}<extra></extra>'),\n",
       "                          'hovertext': array(['Balance Beam'], dtype=object),\n",
       "                          'legendgroup': 'Balance Beam',\n",
       "                          'marker': {'color': '#00cc96', 'pattern': {'shape': ''}},\n",
       "                          'name': 'Balance Beam',\n",
       "                          'offsetgroup': 'Balance Beam',\n",
       "                          'orientation': 'v',\n",
       "                          'showlegend': True,\n",
       "                          'textposition': 'auto',\n",
       "                          'type': 'bar',\n",
       "                          'x': array(['Balance Beam'], dtype=object),\n",
       "                          'xaxis': 'x',\n",
       "                          'y': array([35]),\n",
       "                          'yaxis': 'y'},\n",
       "                         {'alignmentgroup': 'True',\n",
       "                          'hovertemplate': ('<b>%{hovertext}</b><br><br>App' ... 'o. of Tens=%{y}<extra></extra>'),\n",
       "                          'hovertext': array(['Floor Exercise'], dtype=object),\n",
       "                          'legendgroup': 'Floor Exercise',\n",
       "                          'marker': {'color': '#ab63fa', 'pattern': {'shape': ''}},\n",
       "                          'name': 'Floor Exercise',\n",
       "                          'offsetgroup': 'Floor Exercise',\n",
       "                          'orientation': 'v',\n",
       "                          'showlegend': True,\n",
       "                          'textposition': 'auto',\n",
       "                          'type': 'bar',\n",
       "                          'x': array(['Floor Exercise'], dtype=object),\n",
       "                          'xaxis': 'x',\n",
       "                          'y': array([16]),\n",
       "                          'yaxis': 'y'}],\n",
       "                'name': '2017'},\n",
       "               {'data': [{'alignmentgroup': 'True',\n",
       "                          'hovertemplate': ('<b>%{hovertext}</b><br><br>App' ... 'o. of Tens=%{y}<extra></extra>'),\n",
       "                          'hovertext': array(['Vault'], dtype=object),\n",
       "                          'legendgroup': 'Vault',\n",
       "                          'marker': {'color': '#636efa', 'pattern': {'shape': ''}},\n",
       "                          'name': 'Vault',\n",
       "                          'offsetgroup': 'Vault',\n",
       "                          'orientation': 'v',\n",
       "                          'showlegend': True,\n",
       "                          'textposition': 'auto',\n",
       "                          'type': 'bar',\n",
       "                          'x': array(['Vault'], dtype=object),\n",
       "                          'xaxis': 'x',\n",
       "                          'y': array([10]),\n",
       "                          'yaxis': 'y'},\n",
       "                         {'alignmentgroup': 'True',\n",
       "                          'hovertemplate': ('<b>%{hovertext}</b><br><br>App' ... 'o. of Tens=%{y}<extra></extra>'),\n",
       "                          'hovertext': array(['Uneven Bars'], dtype=object),\n",
       "                          'legendgroup': 'Uneven Bars',\n",
       "                          'marker': {'color': '#EF553B', 'pattern': {'shape': ''}},\n",
       "                          'name': 'Uneven Bars',\n",
       "                          'offsetgroup': 'Uneven Bars',\n",
       "                          'orientation': 'v',\n",
       "                          'showlegend': True,\n",
       "                          'textposition': 'auto',\n",
       "                          'type': 'bar',\n",
       "                          'x': array(['Uneven Bars'], dtype=object),\n",
       "                          'xaxis': 'x',\n",
       "                          'y': array([51]),\n",
       "                          'yaxis': 'y'},\n",
       "                         {'alignmentgroup': 'True',\n",
       "                          'hovertemplate': ('<b>%{hovertext}</b><br><br>App' ... 'o. of Tens=%{y}<extra></extra>'),\n",
       "                          'hovertext': array(['Balance Beam'], dtype=object),\n",
       "                          'legendgroup': 'Balance Beam',\n",
       "                          'marker': {'color': '#00cc96', 'pattern': {'shape': ''}},\n",
       "                          'name': 'Balance Beam',\n",
       "                          'offsetgroup': 'Balance Beam',\n",
       "                          'orientation': 'v',\n",
       "                          'showlegend': True,\n",
       "                          'textposition': 'auto',\n",
       "                          'type': 'bar',\n",
       "                          'x': array(['Balance Beam'], dtype=object),\n",
       "                          'xaxis': 'x',\n",
       "                          'y': array([53]),\n",
       "                          'yaxis': 'y'},\n",
       "                         {'alignmentgroup': 'True',\n",
       "                          'hovertemplate': ('<b>%{hovertext}</b><br><br>App' ... 'o. of Tens=%{y}<extra></extra>'),\n",
       "                          'hovertext': array(['Floor Exercise'], dtype=object),\n",
       "                          'legendgroup': 'Floor Exercise',\n",
       "                          'marker': {'color': '#ab63fa', 'pattern': {'shape': ''}},\n",
       "                          'name': 'Floor Exercise',\n",
       "                          'offsetgroup': 'Floor Exercise',\n",
       "                          'orientation': 'v',\n",
       "                          'showlegend': True,\n",
       "                          'textposition': 'auto',\n",
       "                          'type': 'bar',\n",
       "                          'x': array(['Floor Exercise'], dtype=object),\n",
       "                          'xaxis': 'x',\n",
       "                          'y': array([24]),\n",
       "                          'yaxis': 'y'}],\n",
       "                'name': '2018'},\n",
       "               {'data': [{'alignmentgroup': 'True',\n",
       "                          'hovertemplate': ('<b>%{hovertext}</b><br><br>App' ... 'o. of Tens=%{y}<extra></extra>'),\n",
       "                          'hovertext': array(['Vault'], dtype=object),\n",
       "                          'legendgroup': 'Vault',\n",
       "                          'marker': {'color': '#636efa', 'pattern': {'shape': ''}},\n",
       "                          'name': 'Vault',\n",
       "                          'offsetgroup': 'Vault',\n",
       "                          'orientation': 'v',\n",
       "                          'showlegend': True,\n",
       "                          'textposition': 'auto',\n",
       "                          'type': 'bar',\n",
       "                          'x': array(['Vault'], dtype=object),\n",
       "                          'xaxis': 'x',\n",
       "                          'y': array([31]),\n",
       "                          'yaxis': 'y'},\n",
       "                         {'alignmentgroup': 'True',\n",
       "                          'hovertemplate': ('<b>%{hovertext}</b><br><br>App' ... 'o. of Tens=%{y}<extra></extra>'),\n",
       "                          'hovertext': array(['Uneven Bars'], dtype=object),\n",
       "                          'legendgroup': 'Uneven Bars',\n",
       "                          'marker': {'color': '#EF553B', 'pattern': {'shape': ''}},\n",
       "                          'name': 'Uneven Bars',\n",
       "                          'offsetgroup': 'Uneven Bars',\n",
       "                          'orientation': 'v',\n",
       "                          'showlegend': True,\n",
       "                          'textposition': 'auto',\n",
       "                          'type': 'bar',\n",
       "                          'x': array(['Uneven Bars'], dtype=object),\n",
       "                          'xaxis': 'x',\n",
       "                          'y': array([38]),\n",
       "                          'yaxis': 'y'},\n",
       "                         {'alignmentgroup': 'True',\n",
       "                          'hovertemplate': ('<b>%{hovertext}</b><br><br>App' ... 'o. of Tens=%{y}<extra></extra>'),\n",
       "                          'hovertext': array(['Balance Beam'], dtype=object),\n",
       "                          'legendgroup': 'Balance Beam',\n",
       "                          'marker': {'color': '#00cc96', 'pattern': {'shape': ''}},\n",
       "                          'name': 'Balance Beam',\n",
       "                          'offsetgroup': 'Balance Beam',\n",
       "                          'orientation': 'v',\n",
       "                          'showlegend': True,\n",
       "                          'textposition': 'auto',\n",
       "                          'type': 'bar',\n",
       "                          'x': array(['Balance Beam'], dtype=object),\n",
       "                          'xaxis': 'x',\n",
       "                          'y': array([8]),\n",
       "                          'yaxis': 'y'},\n",
       "                         {'alignmentgroup': 'True',\n",
       "                          'hovertemplate': ('<b>%{hovertext}</b><br><br>App' ... 'o. of Tens=%{y}<extra></extra>'),\n",
       "                          'hovertext': array(['Floor Exercise'], dtype=object),\n",
       "                          'legendgroup': 'Floor Exercise',\n",
       "                          'marker': {'color': '#ab63fa', 'pattern': {'shape': ''}},\n",
       "                          'name': 'Floor Exercise',\n",
       "                          'offsetgroup': 'Floor Exercise',\n",
       "                          'orientation': 'v',\n",
       "                          'showlegend': True,\n",
       "                          'textposition': 'auto',\n",
       "                          'type': 'bar',\n",
       "                          'x': array(['Floor Exercise'], dtype=object),\n",
       "                          'xaxis': 'x',\n",
       "                          'y': array([56]),\n",
       "                          'yaxis': 'y'}],\n",
       "                'name': '2019'},\n",
       "               {'data': [{'alignmentgroup': 'True',\n",
       "                          'hovertemplate': ('<b>%{hovertext}</b><br><br>App' ... 'o. of Tens=%{y}<extra></extra>'),\n",
       "                          'hovertext': array(['Vault'], dtype=object),\n",
       "                          'legendgroup': 'Vault',\n",
       "                          'marker': {'color': '#636efa', 'pattern': {'shape': ''}},\n",
       "                          'name': 'Vault',\n",
       "                          'offsetgroup': 'Vault',\n",
       "                          'orientation': 'v',\n",
       "                          'showlegend': True,\n",
       "                          'textposition': 'auto',\n",
       "                          'type': 'bar',\n",
       "                          'x': array(['Vault'], dtype=object),\n",
       "                          'xaxis': 'x',\n",
       "                          'y': array([28]),\n",
       "                          'yaxis': 'y'},\n",
       "                         {'alignmentgroup': 'True',\n",
       "                          'hovertemplate': ('<b>%{hovertext}</b><br><br>App' ... 'o. of Tens=%{y}<extra></extra>'),\n",
       "                          'hovertext': array(['Uneven Bars'], dtype=object),\n",
       "                          'legendgroup': 'Uneven Bars',\n",
       "                          'marker': {'color': '#EF553B', 'pattern': {'shape': ''}},\n",
       "                          'name': 'Uneven Bars',\n",
       "                          'offsetgroup': 'Uneven Bars',\n",
       "                          'orientation': 'v',\n",
       "                          'showlegend': True,\n",
       "                          'textposition': 'auto',\n",
       "                          'type': 'bar',\n",
       "                          'x': array(['Uneven Bars'], dtype=object),\n",
       "                          'xaxis': 'x',\n",
       "                          'y': array([10]),\n",
       "                          'yaxis': 'y'},\n",
       "                         {'alignmentgroup': 'True',\n",
       "                          'hovertemplate': ('<b>%{hovertext}</b><br><br>App' ... 'o. of Tens=%{y}<extra></extra>'),\n",
       "                          'hovertext': array(['Balance Beam'], dtype=object),\n",
       "                          'legendgroup': 'Balance Beam',\n",
       "                          'marker': {'color': '#00cc96', 'pattern': {'shape': ''}},\n",
       "                          'name': 'Balance Beam',\n",
       "                          'offsetgroup': 'Balance Beam',\n",
       "                          'orientation': 'v',\n",
       "                          'showlegend': True,\n",
       "                          'textposition': 'auto',\n",
       "                          'type': 'bar',\n",
       "                          'x': array(['Balance Beam'], dtype=object),\n",
       "                          'xaxis': 'x',\n",
       "                          'y': array([32]),\n",
       "                          'yaxis': 'y'},\n",
       "                         {'alignmentgroup': 'True',\n",
       "                          'hovertemplate': ('<b>%{hovertext}</b><br><br>App' ... 'o. of Tens=%{y}<extra></extra>'),\n",
       "                          'hovertext': array(['Floor Exercise'], dtype=object),\n",
       "                          'legendgroup': 'Floor Exercise',\n",
       "                          'marker': {'color': '#ab63fa', 'pattern': {'shape': ''}},\n",
       "                          'name': 'Floor Exercise',\n",
       "                          'offsetgroup': 'Floor Exercise',\n",
       "                          'orientation': 'v',\n",
       "                          'showlegend': True,\n",
       "                          'textposition': 'auto',\n",
       "                          'type': 'bar',\n",
       "                          'x': array(['Floor Exercise'], dtype=object),\n",
       "                          'xaxis': 'x',\n",
       "                          'y': array([4]),\n",
       "                          'yaxis': 'y'}],\n",
       "                'name': '2020'},\n",
       "               {'data': [{'alignmentgroup': 'True',\n",
       "                          'hovertemplate': ('<b>%{hovertext}</b><br><br>App' ... 'o. of Tens=%{y}<extra></extra>'),\n",
       "                          'hovertext': array(['Vault'], dtype=object),\n",
       "                          'legendgroup': 'Vault',\n",
       "                          'marker': {'color': '#636efa', 'pattern': {'shape': ''}},\n",
       "                          'name': 'Vault',\n",
       "                          'offsetgroup': 'Vault',\n",
       "                          'orientation': 'v',\n",
       "                          'showlegend': True,\n",
       "                          'textposition': 'auto',\n",
       "                          'type': 'bar',\n",
       "                          'x': array(['Vault'], dtype=object),\n",
       "                          'xaxis': 'x',\n",
       "                          'y': array([50]),\n",
       "                          'yaxis': 'y'},\n",
       "                         {'alignmentgroup': 'True',\n",
       "                          'hovertemplate': ('<b>%{hovertext}</b><br><br>App' ... 'o. of Tens=%{y}<extra></extra>'),\n",
       "                          'hovertext': array(['Uneven Bars'], dtype=object),\n",
       "                          'legendgroup': 'Uneven Bars',\n",
       "                          'marker': {'color': '#EF553B', 'pattern': {'shape': ''}},\n",
       "                          'name': 'Uneven Bars',\n",
       "                          'offsetgroup': 'Uneven Bars',\n",
       "                          'orientation': 'v',\n",
       "                          'showlegend': True,\n",
       "                          'textposition': 'auto',\n",
       "                          'type': 'bar',\n",
       "                          'x': array(['Uneven Bars'], dtype=object),\n",
       "                          'xaxis': 'x',\n",
       "                          'y': array([44]),\n",
       "                          'yaxis': 'y'},\n",
       "                         {'alignmentgroup': 'True',\n",
       "                          'hovertemplate': ('<b>%{hovertext}</b><br><br>App' ... 'o. of Tens=%{y}<extra></extra>'),\n",
       "                          'hovertext': array(['Balance Beam'], dtype=object),\n",
       "                          'legendgroup': 'Balance Beam',\n",
       "                          'marker': {'color': '#00cc96', 'pattern': {'shape': ''}},\n",
       "                          'name': 'Balance Beam',\n",
       "                          'offsetgroup': 'Balance Beam',\n",
       "                          'orientation': 'v',\n",
       "                          'showlegend': True,\n",
       "                          'textposition': 'auto',\n",
       "                          'type': 'bar',\n",
       "                          'x': array(['Balance Beam'], dtype=object),\n",
       "                          'xaxis': 'x',\n",
       "                          'y': array([20]),\n",
       "                          'yaxis': 'y'},\n",
       "                         {'alignmentgroup': 'True',\n",
       "                          'hovertemplate': ('<b>%{hovertext}</b><br><br>App' ... 'o. of Tens=%{y}<extra></extra>'),\n",
       "                          'hovertext': array(['Floor Exercise'], dtype=object),\n",
       "                          'legendgroup': 'Floor Exercise',\n",
       "                          'marker': {'color': '#ab63fa', 'pattern': {'shape': ''}},\n",
       "                          'name': 'Floor Exercise',\n",
       "                          'offsetgroup': 'Floor Exercise',\n",
       "                          'orientation': 'v',\n",
       "                          'showlegend': True,\n",
       "                          'textposition': 'auto',\n",
       "                          'type': 'bar',\n",
       "                          'x': array(['Floor Exercise'], dtype=object),\n",
       "                          'xaxis': 'x',\n",
       "                          'y': array([21]),\n",
       "                          'yaxis': 'y'}],\n",
       "                'name': '2021'},\n",
       "               {'data': [{'alignmentgroup': 'True',\n",
       "                          'hovertemplate': ('<b>%{hovertext}</b><br><br>App' ... 'o. of Tens=%{y}<extra></extra>'),\n",
       "                          'hovertext': array(['Vault'], dtype=object),\n",
       "                          'legendgroup': 'Vault',\n",
       "                          'marker': {'color': '#636efa', 'pattern': {'shape': ''}},\n",
       "                          'name': 'Vault',\n",
       "                          'offsetgroup': 'Vault',\n",
       "                          'orientation': 'v',\n",
       "                          'showlegend': True,\n",
       "                          'textposition': 'auto',\n",
       "                          'type': 'bar',\n",
       "                          'x': array(['Vault'], dtype=object),\n",
       "                          'xaxis': 'x',\n",
       "                          'y': array([59]),\n",
       "                          'yaxis': 'y'},\n",
       "                         {'alignmentgroup': 'True',\n",
       "                          'hovertemplate': ('<b>%{hovertext}</b><br><br>App' ... 'o. of Tens=%{y}<extra></extra>'),\n",
       "                          'hovertext': array(['Uneven Bars'], dtype=object),\n",
       "                          'legendgroup': 'Uneven Bars',\n",
       "                          'marker': {'color': '#EF553B', 'pattern': {'shape': ''}},\n",
       "                          'name': 'Uneven Bars',\n",
       "                          'offsetgroup': 'Uneven Bars',\n",
       "                          'orientation': 'v',\n",
       "                          'showlegend': True,\n",
       "                          'textposition': 'auto',\n",
       "                          'type': 'bar',\n",
       "                          'x': array(['Uneven Bars'], dtype=object),\n",
       "                          'xaxis': 'x',\n",
       "                          'y': array([46]),\n",
       "                          'yaxis': 'y'},\n",
       "                         {'alignmentgroup': 'True',\n",
       "                          'hovertemplate': ('<b>%{hovertext}</b><br><br>App' ... 'o. of Tens=%{y}<extra></extra>'),\n",
       "                          'hovertext': array(['Balance Beam'], dtype=object),\n",
       "                          'legendgroup': 'Balance Beam',\n",
       "                          'marker': {'color': '#00cc96', 'pattern': {'shape': ''}},\n",
       "                          'name': 'Balance Beam',\n",
       "                          'offsetgroup': 'Balance Beam',\n",
       "                          'orientation': 'v',\n",
       "                          'showlegend': True,\n",
       "                          'textposition': 'auto',\n",
       "                          'type': 'bar',\n",
       "                          'x': array(['Balance Beam'], dtype=object),\n",
       "                          'xaxis': 'x',\n",
       "                          'y': array([38]),\n",
       "                          'yaxis': 'y'},\n",
       "                         {'alignmentgroup': 'True',\n",
       "                          'hovertemplate': ('<b>%{hovertext}</b><br><br>App' ... 'o. of Tens=%{y}<extra></extra>'),\n",
       "                          'hovertext': array(['Floor Exercise'], dtype=object),\n",
       "                          'legendgroup': 'Floor Exercise',\n",
       "                          'marker': {'color': '#ab63fa', 'pattern': {'shape': ''}},\n",
       "                          'name': 'Floor Exercise',\n",
       "                          'offsetgroup': 'Floor Exercise',\n",
       "                          'orientation': 'v',\n",
       "                          'showlegend': True,\n",
       "                          'textposition': 'auto',\n",
       "                          'type': 'bar',\n",
       "                          'x': array(['Floor Exercise'], dtype=object),\n",
       "                          'xaxis': 'x',\n",
       "                          'y': array([77]),\n",
       "                          'yaxis': 'y'}],\n",
       "                'name': '2022'},\n",
       "               {'data': [{'alignmentgroup': 'True',\n",
       "                          'hovertemplate': ('<b>%{hovertext}</b><br><br>App' ... 'o. of Tens=%{y}<extra></extra>'),\n",
       "                          'hovertext': array(['Vault'], dtype=object),\n",
       "                          'legendgroup': 'Vault',\n",
       "                          'marker': {'color': '#636efa', 'pattern': {'shape': ''}},\n",
       "                          'name': 'Vault',\n",
       "                          'offsetgroup': 'Vault',\n",
       "                          'orientation': 'v',\n",
       "                          'showlegend': True,\n",
       "                          'textposition': 'auto',\n",
       "                          'type': 'bar',\n",
       "                          'x': array(['Vault'], dtype=object),\n",
       "                          'xaxis': 'x',\n",
       "                          'y': array([88]),\n",
       "                          'yaxis': 'y'},\n",
       "                         {'alignmentgroup': 'True',\n",
       "                          'hovertemplate': ('<b>%{hovertext}</b><br><br>App' ... 'o. of Tens=%{y}<extra></extra>'),\n",
       "                          'hovertext': array(['Uneven Bars'], dtype=object),\n",
       "                          'legendgroup': 'Uneven Bars',\n",
       "                          'marker': {'color': '#EF553B', 'pattern': {'shape': ''}},\n",
       "                          'name': 'Uneven Bars',\n",
       "                          'offsetgroup': 'Uneven Bars',\n",
       "                          'orientation': 'v',\n",
       "                          'showlegend': True,\n",
       "                          'textposition': 'auto',\n",
       "                          'type': 'bar',\n",
       "                          'x': array(['Uneven Bars'], dtype=object),\n",
       "                          'xaxis': 'x',\n",
       "                          'y': array([81]),\n",
       "                          'yaxis': 'y'},\n",
       "                         {'alignmentgroup': 'True',\n",
       "                          'hovertemplate': ('<b>%{hovertext}</b><br><br>App' ... 'o. of Tens=%{y}<extra></extra>'),\n",
       "                          'hovertext': array(['Balance Beam'], dtype=object),\n",
       "                          'legendgroup': 'Balance Beam',\n",
       "                          'marker': {'color': '#00cc96', 'pattern': {'shape': ''}},\n",
       "                          'name': 'Balance Beam',\n",
       "                          'offsetgroup': 'Balance Beam',\n",
       "                          'orientation': 'v',\n",
       "                          'showlegend': True,\n",
       "                          'textposition': 'auto',\n",
       "                          'type': 'bar',\n",
       "                          'x': array(['Balance Beam'], dtype=object),\n",
       "                          'xaxis': 'x',\n",
       "                          'y': array([126]),\n",
       "                          'yaxis': 'y'},\n",
       "                         {'alignmentgroup': 'True',\n",
       "                          'hovertemplate': ('<b>%{hovertext}</b><br><br>App' ... 'o. of Tens=%{y}<extra></extra>'),\n",
       "                          'hovertext': array(['Floor Exercise'], dtype=object),\n",
       "                          'legendgroup': 'Floor Exercise',\n",
       "                          'marker': {'color': '#ab63fa', 'pattern': {'shape': ''}},\n",
       "                          'name': 'Floor Exercise',\n",
       "                          'offsetgroup': 'Floor Exercise',\n",
       "                          'orientation': 'v',\n",
       "                          'showlegend': True,\n",
       "                          'textposition': 'auto',\n",
       "                          'type': 'bar',\n",
       "                          'x': array(['Floor Exercise'], dtype=object),\n",
       "                          'xaxis': 'x',\n",
       "                          'y': array([64]),\n",
       "                          'yaxis': 'y'}],\n",
       "                'name': '2023'},\n",
       "               {'data': [{'alignmentgroup': 'True',\n",
       "                          'hovertemplate': ('<b>%{hovertext}</b><br><br>App' ... 'o. of Tens=%{y}<extra></extra>'),\n",
       "                          'hovertext': array(['Vault'], dtype=object),\n",
       "                          'legendgroup': 'Vault',\n",
       "                          'marker': {'color': '#636efa', 'pattern': {'shape': ''}},\n",
       "                          'name': 'Vault',\n",
       "                          'offsetgroup': 'Vault',\n",
       "                          'orientation': 'v',\n",
       "                          'showlegend': True,\n",
       "                          'textposition': 'auto',\n",
       "                          'type': 'bar',\n",
       "                          'x': array(['Vault'], dtype=object),\n",
       "                          'xaxis': 'x',\n",
       "                          'y': array([45]),\n",
       "                          'yaxis': 'y'},\n",
       "                         {'alignmentgroup': 'True',\n",
       "                          'hovertemplate': ('<b>%{hovertext}</b><br><br>App' ... 'o. of Tens=%{y}<extra></extra>'),\n",
       "                          'hovertext': array(['Uneven Bars'], dtype=object),\n",
       "                          'legendgroup': 'Uneven Bars',\n",
       "                          'marker': {'color': '#EF553B', 'pattern': {'shape': ''}},\n",
       "                          'name': 'Uneven Bars',\n",
       "                          'offsetgroup': 'Uneven Bars',\n",
       "                          'orientation': 'v',\n",
       "                          'showlegend': True,\n",
       "                          'textposition': 'auto',\n",
       "                          'type': 'bar',\n",
       "                          'x': array(['Uneven Bars'], dtype=object),\n",
       "                          'xaxis': 'x',\n",
       "                          'y': array([56]),\n",
       "                          'yaxis': 'y'},\n",
       "                         {'alignmentgroup': 'True',\n",
       "                          'hovertemplate': ('<b>%{hovertext}</b><br><br>App' ... 'o. of Tens=%{y}<extra></extra>'),\n",
       "                          'hovertext': array(['Balance Beam'], dtype=object),\n",
       "                          'legendgroup': 'Balance Beam',\n",
       "                          'marker': {'color': '#00cc96', 'pattern': {'shape': ''}},\n",
       "                          'name': 'Balance Beam',\n",
       "                          'offsetgroup': 'Balance Beam',\n",
       "                          'orientation': 'v',\n",
       "                          'showlegend': True,\n",
       "                          'textposition': 'auto',\n",
       "                          'type': 'bar',\n",
       "                          'x': array(['Balance Beam'], dtype=object),\n",
       "                          'xaxis': 'x',\n",
       "                          'y': array([69]),\n",
       "                          'yaxis': 'y'},\n",
       "                         {'alignmentgroup': 'True',\n",
       "                          'hovertemplate': ('<b>%{hovertext}</b><br><br>App' ... 'o. of Tens=%{y}<extra></extra>'),\n",
       "                          'hovertext': array(['Floor Exercise'], dtype=object),\n",
       "                          'legendgroup': 'Floor Exercise',\n",
       "                          'marker': {'color': '#ab63fa', 'pattern': {'shape': ''}},\n",
       "                          'name': 'Floor Exercise',\n",
       "                          'offsetgroup': 'Floor Exercise',\n",
       "                          'orientation': 'v',\n",
       "                          'showlegend': True,\n",
       "                          'textposition': 'auto',\n",
       "                          'type': 'bar',\n",
       "                          'x': array(['Floor Exercise'], dtype=object),\n",
       "                          'xaxis': 'x',\n",
       "                          'y': array([103]),\n",
       "                          'yaxis': 'y'}],\n",
       "                'name': '2024'}],\n",
       "    'layout': {'barmode': 'relative',\n",
       "               'legend': {'title': {'text': 'Apparatus'}, 'tracegroupgap': 0},\n",
       "               'margin': {'t': 60},\n",
       "               'sliders': [{'active': 0,\n",
       "                            'currentvalue': {'prefix': 'Season='},\n",
       "                            'len': 0.9,\n",
       "                            'pad': {'b': 10, 't': 60},\n",
       "                            'steps': [{'args': [['2015'], {'frame': {'duration':\n",
       "                                                0, 'redraw': True}, 'mode':\n",
       "                                                'immediate', 'fromcurrent': True,\n",
       "                                                'transition': {'duration': 0,\n",
       "                                                'easing': 'linear'}}],\n",
       "                                       'label': '2015',\n",
       "                                       'method': 'animate'},\n",
       "                                      {'args': [['2016'], {'frame': {'duration':\n",
       "                                                0, 'redraw': True}, 'mode':\n",
       "                                                'immediate', 'fromcurrent': True,\n",
       "                                                'transition': {'duration': 0,\n",
       "                                                'easing': 'linear'}}],\n",
       "                                       'label': '2016',\n",
       "                                       'method': 'animate'},\n",
       "                                      {'args': [['2017'], {'frame': {'duration':\n",
       "                                                0, 'redraw': True}, 'mode':\n",
       "                                                'immediate', 'fromcurrent': True,\n",
       "                                                'transition': {'duration': 0,\n",
       "                                                'easing': 'linear'}}],\n",
       "                                       'label': '2017',\n",
       "                                       'method': 'animate'},\n",
       "                                      {'args': [['2018'], {'frame': {'duration':\n",
       "                                                0, 'redraw': True}, 'mode':\n",
       "                                                'immediate', 'fromcurrent': True,\n",
       "                                                'transition': {'duration': 0,\n",
       "                                                'easing': 'linear'}}],\n",
       "                                       'label': '2018',\n",
       "                                       'method': 'animate'},\n",
       "                                      {'args': [['2019'], {'frame': {'duration':\n",
       "                                                0, 'redraw': True}, 'mode':\n",
       "                                                'immediate', 'fromcurrent': True,\n",
       "                                                'transition': {'duration': 0,\n",
       "                                                'easing': 'linear'}}],\n",
       "                                       'label': '2019',\n",
       "                                       'method': 'animate'},\n",
       "                                      {'args': [['2020'], {'frame': {'duration':\n",
       "                                                0, 'redraw': True}, 'mode':\n",
       "                                                'immediate', 'fromcurrent': True,\n",
       "                                                'transition': {'duration': 0,\n",
       "                                                'easing': 'linear'}}],\n",
       "                                       'label': '2020',\n",
       "                                       'method': 'animate'},\n",
       "                                      {'args': [['2021'], {'frame': {'duration':\n",
       "                                                0, 'redraw': True}, 'mode':\n",
       "                                                'immediate', 'fromcurrent': True,\n",
       "                                                'transition': {'duration': 0,\n",
       "                                                'easing': 'linear'}}],\n",
       "                                       'label': '2021',\n",
       "                                       'method': 'animate'},\n",
       "                                      {'args': [['2022'], {'frame': {'duration':\n",
       "                                                0, 'redraw': True}, 'mode':\n",
       "                                                'immediate', 'fromcurrent': True,\n",
       "                                                'transition': {'duration': 0,\n",
       "                                                'easing': 'linear'}}],\n",
       "                                       'label': '2022',\n",
       "                                       'method': 'animate'},\n",
       "                                      {'args': [['2023'], {'frame': {'duration':\n",
       "                                                0, 'redraw': True}, 'mode':\n",
       "                                                'immediate', 'fromcurrent': True,\n",
       "                                                'transition': {'duration': 0,\n",
       "                                                'easing': 'linear'}}],\n",
       "                                       'label': '2023',\n",
       "                                       'method': 'animate'},\n",
       "                                      {'args': [['2024'], {'frame': {'duration':\n",
       "                                                0, 'redraw': True}, 'mode':\n",
       "                                                'immediate', 'fromcurrent': True,\n",
       "                                                'transition': {'duration': 0,\n",
       "                                                'easing': 'linear'}}],\n",
       "                                       'label': '2024',\n",
       "                                       'method': 'animate'}],\n",
       "                            'x': 0.1,\n",
       "                            'xanchor': 'left',\n",
       "                            'y': 0,\n",
       "                            'yanchor': 'top'}],\n",
       "               'template': '...',\n",
       "               'updatemenus': [{'buttons': [{'args': [None, {'frame': {'duration':\n",
       "                                                      500, 'redraw': True}, 'mode':\n",
       "                                                      'immediate', 'fromcurrent':\n",
       "                                                      True, 'transition':\n",
       "                                                      {'duration': 500, 'easing':\n",
       "                                                      'linear'}}],\n",
       "                                             'label': '&#9654;',\n",
       "                                             'method': 'animate'},\n",
       "                                            {'args': [[None], {'frame':\n",
       "                                                      {'duration': 0, 'redraw':\n",
       "                                                      True}, 'mode': 'immediate',\n",
       "                                                      'fromcurrent': True,\n",
       "                                                      'transition': {'duration': 0,\n",
       "                                                      'easing': 'linear'}}],\n",
       "                                             'label': '&#9724;',\n",
       "                                             'method': 'animate'}],\n",
       "                                'direction': 'left',\n",
       "                                'pad': {'r': 10, 't': 70},\n",
       "                                'showactive': False,\n",
       "                                'type': 'buttons',\n",
       "                                'x': 0.1,\n",
       "                                'xanchor': 'right',\n",
       "                                'y': 0,\n",
       "                                'yanchor': 'top'}],\n",
       "               'xaxis': {'anchor': 'y',\n",
       "                         'categoryarray': [Vault, Uneven Bars, Balance Beam, Floor\n",
       "                                           Exercise],\n",
       "                         'categoryorder': 'array',\n",
       "                         'domain': [0.0, 1.0],\n",
       "                         'title': {'text': 'Apparatus'}},\n",
       "               'yaxis': {'anchor': 'x', 'domain': [0.0, 1.0], 'range': [0, 126], 'title': {'text': 'No. of Tens'}}}\n",
       "})"
      ]
     },
     "execution_count": 11,
     "metadata": {},
     "output_type": "execute_result"
    }
   ],
   "source": [
    "# Making an animated plot to show the number of 10s scored on each apparatus over the years\n",
    "\n",
    "tenniest_apparatus = px.bar(tenniest_apparatus_melted, \n",
    "                x=\"Apparatus\", \n",
    "                y=\"No. of Tens\", \n",
    "                animation_frame=\"Season\",       \n",
    "                color=\"Apparatus\", \n",
    "                hover_name=\"Apparatus\",\n",
    "                range_y=[0, tenniest_apparatus_melted[\"No. of Tens\"].max()]  # Set the y-axis range\n",
    "            )\n",
    "\n",
    "# Export the plot to html file\n",
    "tenniest_apparatus.write_html(\"../docs/figures/tenniest_apparatus_animation.html\")\n",
    "\n",
    "# Show the plot\n",
    "tenniest_apparatus"
   ]
  },
  {
   "cell_type": "markdown",
   "metadata": {},
   "source": [
    "# 2 The tenniest teams\n",
    "\n",
    "Ok, but this is a competition, isn't it? Which *teams* have been the most successful in achieving tens over the years? Has it changed over time?\n",
    "\n",
    "<!-- Intuitively, one would assume that vault would attract the fewest deductions; gymnasts are only performing one skill, so there are fewer opportunities to make mistakes.\n",
    "\n",
    "However, my anecdotal observation as a watcher of college gymnastics is that the judges in this competition are fairly lenient; hesitancy on beam or short handstands on bars might not incur the deduction they would in other leagues. However, they are quite strict on landings - that is, if a gymnast doesn't perfectly stick their landing, they will incur a deduction. Given vault's landing difficulty, does this even out the advantage of having to perform fewer skills? -->"
   ]
  },
  {
   "cell_type": "code",
   "execution_count": 24,
   "metadata": {
    "vscode": {
     "languageId": "sql"
    }
   },
   "outputs": [
    {
     "data": {
      "text/html": [
       "<span style=\"None\">Running query in &#x27;gymternet&#x27;</span>"
      ],
      "text/plain": [
       "Running query in 'gymternet'"
      ]
     },
     "metadata": {},
     "output_type": "display_data"
    },
    {
     "name": "stderr",
     "output_type": "stream",
     "text": [
      "RuntimeError: If using snippets, you may pass the --with argument explicitly.\n",
      "For more details please refer: https://jupysql.ploomber.io/en/latest/compose.html#with-argument\n",
      "\n",
      "\n",
      "Original error message from DB driver:\n",
      "(sqlite3.OperationalError) near \"(\": syntax error\n",
      "[SQL: SELECT\n",
      "    SUM(r.vt_score = 10.0) AS 'Vault',\n",
      "    SUM(r.ub_score = 10.0) AS 'Uneven Bars',\n",
      "    SUM(r.bb_score = 10.0) AS 'Balance Beam',\n",
      "    SUM(r.fx_score = 10.0) AS 'Floor Exercise',\n",
      "    SUM(r.vt_score = 10.0) + SUM(r.ub_score = 10.0) + SUM(r.bb_score = 10.0) SUM(r.fx_score = 10.0) AS 'Total 10s'\n",
      "    g.team_id AS 'team_id',\n",
      "    t.team_name AS 'Team',\n",
      "    m.year AS 'Season'\n",
      "FROM gymnast_results AS r\n",
      "LEFT JOIN gymnasts AS g\n",
      "ON g.gymnast_id = r.gymnast_id\n",
      "LEFT JOIN teams as t\n",
      "ON t.team_id = g.team_id\n",
      "LEFT JOIN meets as m\n",
      "ON m.meet_id = r.meet_id\n",
      "GROUP BY t.team_name, r.meet_id;]\n",
      "(Background on this error at: https://sqlalche.me/e/20/e3q8)\n",
      "\n",
      "If you need help solving this issue, send us a message: https://ploomber.io/community\n"
     ]
    }
   ],
   "source": [
    "%%sql --alias gymternet\n",
    "\n",
    "SELECT \n",
    "    SUM(r.vt_score = 10.0) AS 'Vault',\n",
    "    SUM(r.ub_score = 10.0) AS 'Uneven Bars',\n",
    "    SUM(r.bb_score = 10.0) AS 'Balance Beam',\n",
    "    SUM(r.fx_score = 10.0) AS 'Floor Exercise',\n",
    "    SUM(r.vt_score = 10.0) + SUM(r.ub_score = 10.0) + SUM(r.bb_score = 10.0) SUM(r.fx_score = 10.0) AS 'Total 10s'\n",
    "    g.team_id AS 'team_id',\n",
    "    t.team_name AS 'Team',\n",
    "    m.year AS 'Season'\n",
    "FROM gymnast_results AS r\n",
    "LEFT JOIN gymnasts AS g\n",
    "ON g.gymnast_id = r.gymnast_id\n",
    "LEFT JOIN teams as t\n",
    "ON t.team_id = g.team_id\n",
    "LEFT JOIN meets as m\n",
    "ON m.meet_id = r.meet_id\n",
    "GROUP BY t.team_name, r.meet_id;"
   ]
  },
  {
   "cell_type": "code",
   "execution_count": 29,
   "metadata": {},
   "outputs": [
    {
     "data": {
      "text/html": [
       "<div>\n",
       "<style scoped>\n",
       "    .dataframe tbody tr th:only-of-type {\n",
       "        vertical-align: middle;\n",
       "    }\n",
       "\n",
       "    .dataframe tbody tr th {\n",
       "        vertical-align: top;\n",
       "    }\n",
       "\n",
       "    .dataframe thead th {\n",
       "        text-align: right;\n",
       "    }\n",
       "</style>\n",
       "<table border=\"1\" class=\"dataframe\">\n",
       "  <thead>\n",
       "    <tr style=\"text-align: right;\">\n",
       "      <th></th>\n",
       "      <th>Vault</th>\n",
       "      <th>Uneven Bars</th>\n",
       "      <th>Balance Beam</th>\n",
       "      <th>Floor Exercise</th>\n",
       "      <th>team_id</th>\n",
       "      <th>Team</th>\n",
       "      <th>Season</th>\n",
       "    </tr>\n",
       "  </thead>\n",
       "  <tbody>\n",
       "    <tr>\n",
       "      <th>0</th>\n",
       "      <td>0.0</td>\n",
       "      <td>0.0</td>\n",
       "      <td>0.0</td>\n",
       "      <td>0.0</td>\n",
       "      <td>1</td>\n",
       "      <td>Air Force</td>\n",
       "      <td>2015</td>\n",
       "    </tr>\n",
       "    <tr>\n",
       "      <th>1</th>\n",
       "      <td>0.0</td>\n",
       "      <td>0.0</td>\n",
       "      <td>0.0</td>\n",
       "      <td>0.0</td>\n",
       "      <td>1</td>\n",
       "      <td>Air Force</td>\n",
       "      <td>2016</td>\n",
       "    </tr>\n",
       "    <tr>\n",
       "      <th>2</th>\n",
       "      <td>0.0</td>\n",
       "      <td>0.0</td>\n",
       "      <td>0.0</td>\n",
       "      <td>0.0</td>\n",
       "      <td>1</td>\n",
       "      <td>Air Force</td>\n",
       "      <td>2017</td>\n",
       "    </tr>\n",
       "    <tr>\n",
       "      <th>3</th>\n",
       "      <td>0.0</td>\n",
       "      <td>0.0</td>\n",
       "      <td>0.0</td>\n",
       "      <td>0.0</td>\n",
       "      <td>1</td>\n",
       "      <td>Air Force</td>\n",
       "      <td>2018</td>\n",
       "    </tr>\n",
       "    <tr>\n",
       "      <th>4</th>\n",
       "      <td>0.0</td>\n",
       "      <td>0.0</td>\n",
       "      <td>0.0</td>\n",
       "      <td>0.0</td>\n",
       "      <td>1</td>\n",
       "      <td>Air Force</td>\n",
       "      <td>2019</td>\n",
       "    </tr>\n",
       "    <tr>\n",
       "      <th>...</th>\n",
       "      <td>...</td>\n",
       "      <td>...</td>\n",
       "      <td>...</td>\n",
       "      <td>...</td>\n",
       "      <td>...</td>\n",
       "      <td>...</td>\n",
       "      <td>...</td>\n",
       "    </tr>\n",
       "    <tr>\n",
       "      <th>809</th>\n",
       "      <td>0.0</td>\n",
       "      <td>0.0</td>\n",
       "      <td>0.0</td>\n",
       "      <td>0.0</td>\n",
       "      <td>82</td>\n",
       "      <td>Yale</td>\n",
       "      <td>2019</td>\n",
       "    </tr>\n",
       "    <tr>\n",
       "      <th>810</th>\n",
       "      <td>0.0</td>\n",
       "      <td>0.0</td>\n",
       "      <td>0.0</td>\n",
       "      <td>0.0</td>\n",
       "      <td>82</td>\n",
       "      <td>Yale</td>\n",
       "      <td>2020</td>\n",
       "    </tr>\n",
       "    <tr>\n",
       "      <th>811</th>\n",
       "      <td>0.0</td>\n",
       "      <td>0.0</td>\n",
       "      <td>0.0</td>\n",
       "      <td>0.0</td>\n",
       "      <td>82</td>\n",
       "      <td>Yale</td>\n",
       "      <td>2022</td>\n",
       "    </tr>\n",
       "    <tr>\n",
       "      <th>812</th>\n",
       "      <td>0.0</td>\n",
       "      <td>0.0</td>\n",
       "      <td>0.0</td>\n",
       "      <td>0.0</td>\n",
       "      <td>82</td>\n",
       "      <td>Yale</td>\n",
       "      <td>2023</td>\n",
       "    </tr>\n",
       "    <tr>\n",
       "      <th>813</th>\n",
       "      <td>0.0</td>\n",
       "      <td>0.0</td>\n",
       "      <td>0.0</td>\n",
       "      <td>0.0</td>\n",
       "      <td>82</td>\n",
       "      <td>Yale</td>\n",
       "      <td>2024</td>\n",
       "    </tr>\n",
       "  </tbody>\n",
       "</table>\n",
       "<p>814 rows × 7 columns</p>\n",
       "</div>"
      ],
      "text/plain": [
       "     Vault  Uneven Bars  Balance Beam  Floor Exercise  team_id       Team  \\\n",
       "0      0.0          0.0           0.0             0.0        1  Air Force   \n",
       "1      0.0          0.0           0.0             0.0        1  Air Force   \n",
       "2      0.0          0.0           0.0             0.0        1  Air Force   \n",
       "3      0.0          0.0           0.0             0.0        1  Air Force   \n",
       "4      0.0          0.0           0.0             0.0        1  Air Force   \n",
       "..     ...          ...           ...             ...      ...        ...   \n",
       "809    0.0          0.0           0.0             0.0       82       Yale   \n",
       "810    0.0          0.0           0.0             0.0       82       Yale   \n",
       "811    0.0          0.0           0.0             0.0       82       Yale   \n",
       "812    0.0          0.0           0.0             0.0       82       Yale   \n",
       "813    0.0          0.0           0.0             0.0       82       Yale   \n",
       "\n",
       "     Season  \n",
       "0      2015  \n",
       "1      2016  \n",
       "2      2017  \n",
       "3      2018  \n",
       "4      2019  \n",
       "..      ...  \n",
       "809    2019  \n",
       "810    2020  \n",
       "811    2022  \n",
       "812    2023  \n",
       "813    2024  \n",
       "\n",
       "[814 rows x 7 columns]"
      ]
     },
     "execution_count": 29,
     "metadata": {},
     "output_type": "execute_result"
    }
   ],
   "source": [
    "# Export the above query to a new df\n",
    "tenniest_teams_query = \"\"\"\n",
    "SELECT \n",
    "    SUM(r.vt_score = 10.0) AS 'Vault',\n",
    "    SUM(r.ub_score = 10.0) AS 'Uneven Bars',\n",
    "    SUM(r.bb_score = 10.0) AS 'Balance Beam',\n",
    "    SUM(r.fx_score = 10.0) AS 'Floor Exercise',\n",
    "    g.team_id AS 'team_id',\n",
    "    t.team_name AS 'Team',\n",
    "    m.year AS 'Season'\n",
    "FROM gymnast_results AS r\n",
    "LEFT JOIN gymnasts AS g\n",
    "ON g.gymnast_id = r.gymnast_id\n",
    "LEFT JOIN teams as t\n",
    "ON t.team_id = g.team_id\n",
    "LEFT JOIN meets as m\n",
    "ON m.meet_id = r.meet_id\n",
    "GROUP BY t.team_name, m.year;\n",
    "\"\"\"\n",
    "\n",
    "# Execute the query and store the result in a DataFrame\n",
    "tenniest_teams_df = pd.read_sql_query(tenniest_teams_query, engine)\n",
    "\n",
    "# Preview the df\n",
    "tenniest_teams_df"
   ]
  },
  {
   "cell_type": "code",
   "execution_count": 66,
   "metadata": {},
   "outputs": [
    {
     "data": {
      "text/html": [
       "<div>\n",
       "<style scoped>\n",
       "    .dataframe tbody tr th:only-of-type {\n",
       "        vertical-align: middle;\n",
       "    }\n",
       "\n",
       "    .dataframe tbody tr th {\n",
       "        vertical-align: top;\n",
       "    }\n",
       "\n",
       "    .dataframe thead th {\n",
       "        text-align: right;\n",
       "    }\n",
       "</style>\n",
       "<table border=\"1\" class=\"dataframe\">\n",
       "  <thead>\n",
       "    <tr style=\"text-align: right;\">\n",
       "      <th></th>\n",
       "      <th>Team</th>\n",
       "      <th>Vault</th>\n",
       "      <th>Uneven Bars</th>\n",
       "      <th>Balance Beam</th>\n",
       "      <th>Floor Exercise</th>\n",
       "    </tr>\n",
       "  </thead>\n",
       "  <tbody>\n",
       "    <tr>\n",
       "      <th>0</th>\n",
       "      <td>Air Force</td>\n",
       "      <td>0.0</td>\n",
       "      <td>0.0</td>\n",
       "      <td>0.0</td>\n",
       "      <td>0.0</td>\n",
       "    </tr>\n",
       "    <tr>\n",
       "      <th>1</th>\n",
       "      <td>Alabama</td>\n",
       "      <td>8.0</td>\n",
       "      <td>12.0</td>\n",
       "      <td>18.0</td>\n",
       "      <td>6.0</td>\n",
       "    </tr>\n",
       "    <tr>\n",
       "      <th>2</th>\n",
       "      <td>Alaska</td>\n",
       "      <td>0.0</td>\n",
       "      <td>0.0</td>\n",
       "      <td>0.0</td>\n",
       "      <td>0.0</td>\n",
       "    </tr>\n",
       "    <tr>\n",
       "      <th>3</th>\n",
       "      <td>Arizona</td>\n",
       "      <td>0.0</td>\n",
       "      <td>0.0</td>\n",
       "      <td>0.0</td>\n",
       "      <td>0.0</td>\n",
       "    </tr>\n",
       "    <tr>\n",
       "      <th>4</th>\n",
       "      <td>Arizona State</td>\n",
       "      <td>0.0</td>\n",
       "      <td>0.0</td>\n",
       "      <td>0.0</td>\n",
       "      <td>0.0</td>\n",
       "    </tr>\n",
       "  </tbody>\n",
       "</table>\n",
       "</div>"
      ],
      "text/plain": [
       "            Team  Vault  Uneven Bars  Balance Beam  Floor Exercise\n",
       "0      Air Force    0.0          0.0           0.0             0.0\n",
       "1        Alabama    8.0         12.0          18.0             6.0\n",
       "2         Alaska    0.0          0.0           0.0             0.0\n",
       "3        Arizona    0.0          0.0           0.0             0.0\n",
       "4  Arizona State    0.0          0.0           0.0             0.0"
      ]
     },
     "execution_count": 66,
     "metadata": {},
     "output_type": "execute_result"
    }
   ],
   "source": [
    "# Let's remove the teams that have never gotten a 10\n",
    "grouped_teams_df = tenniest_teams_df.groupby(['Team']).sum().reset_index()\n",
    "\n",
    "# Any let's drop the irrelevant columns\n",
    "grouped_teams_df = grouped_teams_df.drop(columns = ['team_id', 'Season'])\n",
    "\n",
    "# Preview the new df\n",
    "grouped_teams_df.head()"
   ]
  },
  {
   "cell_type": "code",
   "execution_count": 67,
   "metadata": {},
   "outputs": [
    {
     "data": {
      "text/html": [
       "<div>\n",
       "<style scoped>\n",
       "    .dataframe tbody tr th:only-of-type {\n",
       "        vertical-align: middle;\n",
       "    }\n",
       "\n",
       "    .dataframe tbody tr th {\n",
       "        vertical-align: top;\n",
       "    }\n",
       "\n",
       "    .dataframe thead th {\n",
       "        text-align: right;\n",
       "    }\n",
       "</style>\n",
       "<table border=\"1\" class=\"dataframe\">\n",
       "  <thead>\n",
       "    <tr style=\"text-align: right;\">\n",
       "      <th></th>\n",
       "      <th>Team</th>\n",
       "      <th>Vault</th>\n",
       "      <th>Uneven Bars</th>\n",
       "      <th>Balance Beam</th>\n",
       "      <th>Floor Exercise</th>\n",
       "      <th>total 10s</th>\n",
       "    </tr>\n",
       "  </thead>\n",
       "  <tbody>\n",
       "    <tr>\n",
       "      <th>0</th>\n",
       "      <td>Air Force</td>\n",
       "      <td>0.0</td>\n",
       "      <td>0.0</td>\n",
       "      <td>0.0</td>\n",
       "      <td>0.0</td>\n",
       "      <td>0.0</td>\n",
       "    </tr>\n",
       "    <tr>\n",
       "      <th>1</th>\n",
       "      <td>Alabama</td>\n",
       "      <td>8.0</td>\n",
       "      <td>12.0</td>\n",
       "      <td>18.0</td>\n",
       "      <td>6.0</td>\n",
       "      <td>44.0</td>\n",
       "    </tr>\n",
       "    <tr>\n",
       "      <th>2</th>\n",
       "      <td>Alaska</td>\n",
       "      <td>0.0</td>\n",
       "      <td>0.0</td>\n",
       "      <td>0.0</td>\n",
       "      <td>0.0</td>\n",
       "      <td>0.0</td>\n",
       "    </tr>\n",
       "    <tr>\n",
       "      <th>3</th>\n",
       "      <td>Arizona</td>\n",
       "      <td>0.0</td>\n",
       "      <td>0.0</td>\n",
       "      <td>0.0</td>\n",
       "      <td>0.0</td>\n",
       "      <td>0.0</td>\n",
       "    </tr>\n",
       "    <tr>\n",
       "      <th>4</th>\n",
       "      <td>Arizona State</td>\n",
       "      <td>0.0</td>\n",
       "      <td>0.0</td>\n",
       "      <td>0.0</td>\n",
       "      <td>0.0</td>\n",
       "      <td>0.0</td>\n",
       "    </tr>\n",
       "  </tbody>\n",
       "</table>\n",
       "</div>"
      ],
      "text/plain": [
       "            Team  Vault  Uneven Bars  Balance Beam  Floor Exercise  total 10s\n",
       "0      Air Force    0.0          0.0           0.0             0.0        0.0\n",
       "1        Alabama    8.0         12.0          18.0             6.0       44.0\n",
       "2         Alaska    0.0          0.0           0.0             0.0        0.0\n",
       "3        Arizona    0.0          0.0           0.0             0.0        0.0\n",
       "4  Arizona State    0.0          0.0           0.0             0.0        0.0"
      ]
     },
     "execution_count": 67,
     "metadata": {},
     "output_type": "execute_result"
    }
   ],
   "source": [
    "# Create a column with total tens\n",
    "\n",
    "grouped_teams_df['total 10s'] = grouped_teams_df[['Vault', 'Uneven Bars', 'Balance Beam', 'Floor Exercise']].sum(axis=1)\n",
    "\n",
    "#Preview the df\n",
    "grouped_teams_df.head()"
   ]
  },
  {
   "cell_type": "code",
   "execution_count": 72,
   "metadata": {},
   "outputs": [
    {
     "data": {
      "text/plain": [
       "(29, 6)"
      ]
     },
     "execution_count": 72,
     "metadata": {},
     "output_type": "execute_result"
    }
   ],
   "source": [
    "# Drop rows where total 10s == 0\n",
    "\n",
    "grouped_teams_df = grouped_teams_df[grouped_teams_df['total 10s'] != 0]\n",
    "\n",
    "# Check how many we have\n",
    "grouped_teams_df.shape"
   ]
  },
  {
   "cell_type": "code",
   "execution_count": 73,
   "metadata": {},
   "outputs": [],
   "source": [
    "# Make some subset dfs for easier plotting\n",
    "\n",
    "total_tens_df = grouped_teams_df.drop(columns=['Vault', 'Uneven Bars', 'Balance Beam', 'Floor Exercise'])\n",
    "vault_queens_df = grouped_teams_df.drop(columns=['Uneven Bars', 'Balance Beam', 'Floor Exercise', 'total 10s'])\n",
    "bars_queens_df = grouped_teams_df.drop(columns=['Vault', 'Balance Beam', 'Floor Exercise', 'total 10s'])\n",
    "beam_queens_df = grouped_teams_df.drop(columns=['Vault', 'Uneven Bars', 'Floor Exercise', 'total 10s'])\n",
    "floor_queens_df = grouped_teams_df.drop(columns=['Vault', 'Uneven Bars', 'Balance Beam', 'total 10s'])"
   ]
  },
  {
   "cell_type": "code",
   "execution_count": null,
   "metadata": {},
   "outputs": [],
   "source": []
  },
  {
   "cell_type": "markdown",
   "metadata": {},
   "source": []
  }
 ],
 "metadata": {
  "kernelspec": {
   "display_name": "gymternet",
   "language": "python",
   "name": "python3"
  },
  "language_info": {
   "codemirror_mode": {
    "name": "ipython",
    "version": 3
   },
   "file_extension": ".py",
   "mimetype": "text/x-python",
   "name": "python",
   "nbconvert_exporter": "python",
   "pygments_lexer": "ipython3",
   "version": "3.12.4"
  }
 },
 "nbformat": 4,
 "nbformat_minor": 2
}
