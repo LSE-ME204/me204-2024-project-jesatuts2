{
 "cells": [
  {
   "cell_type": "markdown",
   "metadata": {},
   "source": [
    "# What do I want to end up with?\n",
    "## Tenniest apparatus (per year + aggregated)\n",
    "## Tenniest teams (per year + aggregrated)\n",
    "## Top 10 (20?) goats of all time (by average score) (by apparatus?)\n",
    "## Bubble maps x axis year, y axis team, size = no. 10s (colour/pie apparatus if poss?)\n",
    "## Avg score over time (colour by team)"
   ]
  },
  {
   "cell_type": "markdown",
   "metadata": {},
   "source": [
    "# 1 Set up the environment"
   ]
  },
  {
   "cell_type": "code",
   "execution_count": null,
   "metadata": {},
   "outputs": [],
   "source": [
    "!pip install -r ../requirements.txt"
   ]
  },
  {
   "cell_type": "code",
   "execution_count": 2,
   "metadata": {},
   "outputs": [
    {
     "data": {
      "text/html": [
       "\n",
       "            <div id=\"GSqXAP\"></div>\n",
       "            <script type=\"text/javascript\" data-lets-plot-script=\"library\">\n",
       "                if(!window.letsPlotCallQueue) {\n",
       "                    window.letsPlotCallQueue = [];\n",
       "                }; \n",
       "                window.letsPlotCall = function(f) {\n",
       "                    window.letsPlotCallQueue.push(f);\n",
       "                };\n",
       "                (function() {\n",
       "                    var script = document.createElement(\"script\");\n",
       "                    script.type = \"text/javascript\";\n",
       "                    script.src = \"https://cdn.jsdelivr.net/gh/JetBrains/lets-plot@v4.3.3/js-package/distr/lets-plot.min.js\";\n",
       "                    script.onload = function() {\n",
       "                        window.letsPlotCall = function(f) {f();};\n",
       "                        window.letsPlotCallQueue.forEach(function(f) {f();});\n",
       "                        window.letsPlotCallQueue = [];\n",
       "                        \n",
       "                    };\n",
       "                    script.onerror = function(event) {\n",
       "                        window.letsPlotCall = function(f) {};    // noop\n",
       "                        window.letsPlotCallQueue = [];\n",
       "                        var div = document.createElement(\"div\");\n",
       "                        div.style.color = 'darkred';\n",
       "                        div.textContent = 'Error loading Lets-Plot JS';\n",
       "                        document.getElementById(\"GSqXAP\").appendChild(div);\n",
       "                    };\n",
       "                    var e = document.getElementById(\"GSqXAP\");\n",
       "                    e.appendChild(script);\n",
       "                })()\n",
       "            </script>\n",
       "            "
      ]
     },
     "metadata": {},
     "output_type": "display_data"
    }
   ],
   "source": [
    "import os\n",
    "import json\n",
    "import requests\n",
    "import sqlite3\n",
    "from tqdm.notebook import tqdm, trange\n",
    "tqdm.pandas()\n",
    "import numpy as np\n",
    "import pandas as pd \n",
    "from sqlalchemy import create_engine\n",
    "from lets_plot import * # This imports all of ggplot2's functions\n",
    "LetsPlot.setup_html()\n",
    "import plotly.express as px\n",
    "\n",
    "%load_ext sql\n",
    "%config SqlMagic.autocommit=True\n",
    "\n",
    "from pprint import pprint"
   ]
  },
  {
   "cell_type": "code",
   "execution_count": null,
   "metadata": {},
   "outputs": [],
   "source": [
    "# Not sure I need this?\n",
    "# from lets_plot.mapping import as_discrete\n"
   ]
  },
  {
   "cell_type": "markdown",
   "metadata": {},
   "source": [
    "## 1.1 Connect to the gymternet database"
   ]
  },
  {
   "cell_type": "code",
   "execution_count": 3,
   "metadata": {
    "vscode": {
     "languageId": "sql"
    }
   },
   "outputs": [
    {
     "data": {
      "text/html": [
       "<span style=\"None\">Connecting to &#x27;gymternet&#x27;</span>"
      ],
      "text/plain": [
       "Connecting to 'gymternet'"
      ]
     },
     "metadata": {},
     "output_type": "display_data"
    }
   ],
   "source": [
    "%sql sqlite:///../data/clean/gymternet.db --alias gymternet \n",
    "engine = create_engine('sqlite:///../data/clean/gymternet.db')"
   ]
  },
  {
   "cell_type": "markdown",
   "metadata": {},
   "source": [
    "# 2 Exploratory data analysis\n",
    "\n",
    "## 2.1 The tenniest apparatus\n",
    "Which apparatus (vault, uneven bars, balance beam or floor exercise) attract the most 10s from the judges? Has it changed over time?\n",
    "\n",
    "Intuitively, one would assume that vault would attract the fewest deductions; gymnasts are only performing one skill, so there are fewer opportunities to make mistakes.\n",
    "\n",
    "However, my anecdotal observation as a watcher of college gymnastics is that the judges in this competition are fairly lenient; hesitancy on beam or short handstands on bars might not incur the deduction they would in other leagues. However, they are quite strict on landings - that is, if a gymnast doesn't perfectly stick their landing, they will incur a deduction. Given vault's landing difficulty, does this even out the advantage of having to perform fewer skills?\n",
    "\n",
    "### 2.1.1 Retrieve the data from the database"
   ]
  },
  {
   "cell_type": "code",
   "execution_count": 6,
   "metadata": {
    "vscode": {
     "languageId": "sql"
    }
   },
   "outputs": [
    {
     "data": {
      "text/html": [
       "<table>\n",
       "    <thead>\n",
       "        <tr>\n",
       "            <th>Vault</th>\n",
       "            <th>Uneven Bars</th>\n",
       "            <th>Balance Beam</th>\n",
       "            <th>Floor Exercise</th>\n",
       "            <th>Season</th>\n",
       "        </tr>\n",
       "    </thead>\n",
       "    <tbody>\n",
       "        <tr>\n",
       "            <td>34</td>\n",
       "            <td>32</td>\n",
       "            <td>2</td>\n",
       "            <td>7</td>\n",
       "            <td>2015</td>\n",
       "        </tr>\n",
       "        <tr>\n",
       "            <td>12</td>\n",
       "            <td>8</td>\n",
       "            <td>16</td>\n",
       "            <td>28</td>\n",
       "            <td>2016</td>\n",
       "        </tr>\n",
       "        <tr>\n",
       "            <td>22</td>\n",
       "            <td>26</td>\n",
       "            <td>35</td>\n",
       "            <td>16</td>\n",
       "            <td>2017</td>\n",
       "        </tr>\n",
       "        <tr>\n",
       "            <td>10</td>\n",
       "            <td>51</td>\n",
       "            <td>53</td>\n",
       "            <td>24</td>\n",
       "            <td>2018</td>\n",
       "        </tr>\n",
       "        <tr>\n",
       "            <td>31</td>\n",
       "            <td>38</td>\n",
       "            <td>8</td>\n",
       "            <td>56</td>\n",
       "            <td>2019</td>\n",
       "        </tr>\n",
       "        <tr>\n",
       "            <td>28</td>\n",
       "            <td>10</td>\n",
       "            <td>32</td>\n",
       "            <td>4</td>\n",
       "            <td>2020</td>\n",
       "        </tr>\n",
       "        <tr>\n",
       "            <td>50</td>\n",
       "            <td>44</td>\n",
       "            <td>20</td>\n",
       "            <td>21</td>\n",
       "            <td>2021</td>\n",
       "        </tr>\n",
       "        <tr>\n",
       "            <td>59</td>\n",
       "            <td>46</td>\n",
       "            <td>38</td>\n",
       "            <td>77</td>\n",
       "            <td>2022</td>\n",
       "        </tr>\n",
       "        <tr>\n",
       "            <td>88</td>\n",
       "            <td>81</td>\n",
       "            <td>126</td>\n",
       "            <td>64</td>\n",
       "            <td>2023</td>\n",
       "        </tr>\n",
       "        <tr>\n",
       "            <td>45</td>\n",
       "            <td>56</td>\n",
       "            <td>69</td>\n",
       "            <td>103</td>\n",
       "            <td>2024</td>\n",
       "        </tr>\n",
       "    </tbody>\n",
       "</table>\n",
       "<span style=\"font-style:italic;text-align:center;\">Truncated to <a href=\"https://jupysql.ploomber.io/en/latest/api/configuration.html#displaylimit\">displaylimit</a> of 10.</span>"
      ],
      "text/plain": [
       "+-------+-------------+--------------+----------------+--------+\n",
       "| Vault | Uneven Bars | Balance Beam | Floor Exercise | Season |\n",
       "+-------+-------------+--------------+----------------+--------+\n",
       "|   34  |      32     |      2       |       7        |  2015  |\n",
       "|   12  |      8      |      16      |       28       |  2016  |\n",
       "|   22  |      26     |      35      |       16       |  2017  |\n",
       "|   10  |      51     |      53      |       24       |  2018  |\n",
       "|   31  |      38     |      8       |       56       |  2019  |\n",
       "|   28  |      10     |      32      |       4        |  2020  |\n",
       "|   50  |      44     |      20      |       21       |  2021  |\n",
       "|   59  |      46     |      38      |       77       |  2022  |\n",
       "|   88  |      81     |     126      |       64       |  2023  |\n",
       "|   45  |      56     |      69      |      103       |  2024  |\n",
       "+-------+-------------+--------------+----------------+--------+\n",
       "Truncated to displaylimit of 10."
      ]
     },
     "execution_count": 6,
     "metadata": {},
     "output_type": "execute_result"
    }
   ],
   "source": [
    "%%sql gymternet\n",
    "\n",
    "-- LEFT JOIN with aggregated row at the bottom\n",
    "SELECT \n",
    "    SUM(r.vt_score = 10.0) AS 'Vault',\n",
    "    SUM(r.ub_score = 10.0) AS 'Uneven Bars',\n",
    "    SUM(r.bb_score = 10.0) AS 'Balance Beam',\n",
    "    SUM(r.fx_score = 10.0) AS 'Floor Exercise',\n",
    "    m.year AS 'Season'\n",
    "FROM gymnast_results AS r\n",
    "LEFT JOIN meets AS m\n",
    "ON m.meet_id = r.meet_id\n",
    "GROUP BY m.year"
   ]
  },
  {
   "cell_type": "markdown",
   "metadata": {},
   "source": [
    "### 2.1.2 Import the data into a dataframe"
   ]
  },
  {
   "cell_type": "code",
   "execution_count": 7,
   "metadata": {},
   "outputs": [
    {
     "data": {
      "text/html": [
       "<div>\n",
       "<style scoped>\n",
       "    .dataframe tbody tr th:only-of-type {\n",
       "        vertical-align: middle;\n",
       "    }\n",
       "\n",
       "    .dataframe tbody tr th {\n",
       "        vertical-align: top;\n",
       "    }\n",
       "\n",
       "    .dataframe thead th {\n",
       "        text-align: right;\n",
       "    }\n",
       "</style>\n",
       "<table border=\"1\" class=\"dataframe\">\n",
       "  <thead>\n",
       "    <tr style=\"text-align: right;\">\n",
       "      <th></th>\n",
       "      <th>Vault</th>\n",
       "      <th>Uneven Bars</th>\n",
       "      <th>Balance Beam</th>\n",
       "      <th>Floor Exercise</th>\n",
       "      <th>Season</th>\n",
       "    </tr>\n",
       "  </thead>\n",
       "  <tbody>\n",
       "    <tr>\n",
       "      <th>0</th>\n",
       "      <td>34</td>\n",
       "      <td>32</td>\n",
       "      <td>2</td>\n",
       "      <td>7</td>\n",
       "      <td>2015</td>\n",
       "    </tr>\n",
       "    <tr>\n",
       "      <th>1</th>\n",
       "      <td>12</td>\n",
       "      <td>8</td>\n",
       "      <td>16</td>\n",
       "      <td>28</td>\n",
       "      <td>2016</td>\n",
       "    </tr>\n",
       "    <tr>\n",
       "      <th>2</th>\n",
       "      <td>22</td>\n",
       "      <td>26</td>\n",
       "      <td>35</td>\n",
       "      <td>16</td>\n",
       "      <td>2017</td>\n",
       "    </tr>\n",
       "    <tr>\n",
       "      <th>3</th>\n",
       "      <td>10</td>\n",
       "      <td>51</td>\n",
       "      <td>53</td>\n",
       "      <td>24</td>\n",
       "      <td>2018</td>\n",
       "    </tr>\n",
       "    <tr>\n",
       "      <th>4</th>\n",
       "      <td>31</td>\n",
       "      <td>38</td>\n",
       "      <td>8</td>\n",
       "      <td>56</td>\n",
       "      <td>2019</td>\n",
       "    </tr>\n",
       "    <tr>\n",
       "      <th>5</th>\n",
       "      <td>28</td>\n",
       "      <td>10</td>\n",
       "      <td>32</td>\n",
       "      <td>4</td>\n",
       "      <td>2020</td>\n",
       "    </tr>\n",
       "    <tr>\n",
       "      <th>6</th>\n",
       "      <td>50</td>\n",
       "      <td>44</td>\n",
       "      <td>20</td>\n",
       "      <td>21</td>\n",
       "      <td>2021</td>\n",
       "    </tr>\n",
       "    <tr>\n",
       "      <th>7</th>\n",
       "      <td>59</td>\n",
       "      <td>46</td>\n",
       "      <td>38</td>\n",
       "      <td>77</td>\n",
       "      <td>2022</td>\n",
       "    </tr>\n",
       "    <tr>\n",
       "      <th>8</th>\n",
       "      <td>88</td>\n",
       "      <td>81</td>\n",
       "      <td>126</td>\n",
       "      <td>64</td>\n",
       "      <td>2023</td>\n",
       "    </tr>\n",
       "    <tr>\n",
       "      <th>9</th>\n",
       "      <td>45</td>\n",
       "      <td>56</td>\n",
       "      <td>69</td>\n",
       "      <td>103</td>\n",
       "      <td>2024</td>\n",
       "    </tr>\n",
       "  </tbody>\n",
       "</table>\n",
       "</div>"
      ],
      "text/plain": [
       "   Vault  Uneven Bars  Balance Beam  Floor Exercise  Season\n",
       "0     34           32             2               7    2015\n",
       "1     12            8            16              28    2016\n",
       "2     22           26            35              16    2017\n",
       "3     10           51            53              24    2018\n",
       "4     31           38             8              56    2019\n",
       "5     28           10            32               4    2020\n",
       "6     50           44            20              21    2021\n",
       "7     59           46            38              77    2022\n",
       "8     88           81           126              64    2023\n",
       "9     45           56            69             103    2024"
      ]
     },
     "execution_count": 7,
     "metadata": {},
     "output_type": "execute_result"
    }
   ],
   "source": [
    "# Export the above query to a new df\n",
    "tenniest_apparatus_query = \"\"\"\n",
    "SELECT \n",
    "    SUM(r.vt_score = 10.0) AS 'Vault',\n",
    "    SUM(r.ub_score = 10.0) AS 'Uneven Bars',\n",
    "    SUM(r.bb_score = 10.0) AS 'Balance Beam',\n",
    "    SUM(r.fx_score = 10.0) AS 'Floor Exercise',\n",
    "    m.year AS 'Season'\n",
    "FROM gymnast_results AS r\n",
    "LEFT JOIN meets AS m\n",
    "ON m.meet_id = r.meet_id\n",
    "GROUP BY m.year;\n",
    "\"\"\"\n",
    "\n",
    "# Execute the query and store the result in a DataFrame\n",
    "tenniest_apparatus_df = pd.read_sql_query(tenniest_apparatus_query, engine)\n",
    "\n",
    "# Preview the df\n",
    "tenniest_apparatus_df"
   ]
  },
  {
   "cell_type": "markdown",
   "metadata": {},
   "source": [
    "### 2.1.3 Prepare the data for plotting"
   ]
  },
  {
   "cell_type": "markdown",
   "metadata": {},
   "source": [
    "We want this table to look slightly different, so that it's easier to read by Plotly.\n",
    "\n",
    "New layout should look like:\n",
    "| **Apparatus**    | **Number of 10s** | **Season** |\n",
    "|------------------|-------------------|------------|\n",
    "| 'Vault'          | 34                | 2015       |\n",
    "| 'Uneven Bars'    | 32                | 2015       |\n",
    "| 'Balance Beam'   | 2                 | 2015       |\n",
    "| 'Floor Exercise' | 7                 | 2015       |\n",
    "| 'Total'          | 75                | 2015       |\n",
    "\n",
    "etc.\n"
   ]
  },
  {
   "cell_type": "code",
   "execution_count": 8,
   "metadata": {},
   "outputs": [
    {
     "data": {
      "text/html": [
       "<div>\n",
       "<style scoped>\n",
       "    .dataframe tbody tr th:only-of-type {\n",
       "        vertical-align: middle;\n",
       "    }\n",
       "\n",
       "    .dataframe tbody tr th {\n",
       "        vertical-align: top;\n",
       "    }\n",
       "\n",
       "    .dataframe thead th {\n",
       "        text-align: right;\n",
       "    }\n",
       "</style>\n",
       "<table border=\"1\" class=\"dataframe\">\n",
       "  <thead>\n",
       "    <tr style=\"text-align: right;\">\n",
       "      <th></th>\n",
       "      <th>Season</th>\n",
       "      <th>Apparatus</th>\n",
       "      <th>No. of Tens</th>\n",
       "    </tr>\n",
       "  </thead>\n",
       "  <tbody>\n",
       "    <tr>\n",
       "      <th>0</th>\n",
       "      <td>2015</td>\n",
       "      <td>Vault</td>\n",
       "      <td>34</td>\n",
       "    </tr>\n",
       "    <tr>\n",
       "      <th>1</th>\n",
       "      <td>2016</td>\n",
       "      <td>Vault</td>\n",
       "      <td>12</td>\n",
       "    </tr>\n",
       "    <tr>\n",
       "      <th>2</th>\n",
       "      <td>2017</td>\n",
       "      <td>Vault</td>\n",
       "      <td>22</td>\n",
       "    </tr>\n",
       "    <tr>\n",
       "      <th>3</th>\n",
       "      <td>2018</td>\n",
       "      <td>Vault</td>\n",
       "      <td>10</td>\n",
       "    </tr>\n",
       "    <tr>\n",
       "      <th>4</th>\n",
       "      <td>2019</td>\n",
       "      <td>Vault</td>\n",
       "      <td>31</td>\n",
       "    </tr>\n",
       "  </tbody>\n",
       "</table>\n",
       "</div>"
      ],
      "text/plain": [
       "   Season Apparatus  No. of Tens\n",
       "0    2015     Vault           34\n",
       "1    2016     Vault           12\n",
       "2    2017     Vault           22\n",
       "3    2018     Vault           10\n",
       "4    2019     Vault           31"
      ]
     },
     "execution_count": 8,
     "metadata": {},
     "output_type": "execute_result"
    }
   ],
   "source": [
    "# Melt the DataFrame\n",
    "tenniest_apparatus_per_year = pd.melt(tenniest_apparatus_df, id_vars=['Season'], var_name='Apparatus', value_name='No. of Tens')\n",
    "\n",
    "# Preview the melted DataFrame\n",
    "tenniest_apparatus_per_year.head()"
   ]
  },
  {
   "cell_type": "markdown",
   "metadata": {},
   "source": [
    "### 2.1.4 Tenniest ever - delete this section"
   ]
  },
  {
   "cell_type": "code",
   "execution_count": 12,
   "metadata": {},
   "outputs": [
    {
     "data": {
      "text/html": [
       "<div>\n",
       "<style scoped>\n",
       "    .dataframe tbody tr th:only-of-type {\n",
       "        vertical-align: middle;\n",
       "    }\n",
       "\n",
       "    .dataframe tbody tr th {\n",
       "        vertical-align: top;\n",
       "    }\n",
       "\n",
       "    .dataframe thead th {\n",
       "        text-align: right;\n",
       "    }\n",
       "</style>\n",
       "<table border=\"1\" class=\"dataframe\">\n",
       "  <thead>\n",
       "    <tr style=\"text-align: right;\">\n",
       "      <th></th>\n",
       "      <th>Apparatus</th>\n",
       "      <th>No. of Tens</th>\n",
       "    </tr>\n",
       "  </thead>\n",
       "  <tbody>\n",
       "    <tr>\n",
       "      <th>0</th>\n",
       "      <td>Balance Beam</td>\n",
       "      <td>399</td>\n",
       "    </tr>\n",
       "    <tr>\n",
       "      <th>1</th>\n",
       "      <td>Floor Exercise</td>\n",
       "      <td>400</td>\n",
       "    </tr>\n",
       "    <tr>\n",
       "      <th>2</th>\n",
       "      <td>Uneven Bars</td>\n",
       "      <td>392</td>\n",
       "    </tr>\n",
       "    <tr>\n",
       "      <th>3</th>\n",
       "      <td>Vault</td>\n",
       "      <td>379</td>\n",
       "    </tr>\n",
       "  </tbody>\n",
       "</table>\n",
       "</div>"
      ],
      "text/plain": [
       "        Apparatus  No. of Tens\n",
       "0    Balance Beam          399\n",
       "1  Floor Exercise          400\n",
       "2     Uneven Bars          392\n",
       "3           Vault          379"
      ]
     },
     "execution_count": 12,
     "metadata": {},
     "output_type": "execute_result"
    }
   ],
   "source": [
    "# Summarise the DataFrame with the sum of the 10s over the years per apparatus\n",
    "tenniest_apparatus_10y = tenniest_apparatus_per_year.groupby('Apparatus')['No. of Tens'].sum().reset_index()\n",
    "\n",
    "tenniest_apparatus_10y"
   ]
  },
  {
   "cell_type": "markdown",
   "metadata": {},
   "source": [
    "### 2.1.4 Prepare the plot(s)\n",
    "\n",
    "I want to explore how many 10s have been awarded across each of the apparatus in total across the last 10 years.\n",
    "\n",
    "To visualise this, I want a stacked bar chart, with apparatus across the x-axis, number of 10s on the y-axis and for each bar to be segmented by year.\n",
    "\n",
    "I also want to be fairly specific about my colour, field and font choices, as I'm preparing all the upcoming charts for publication on a website, and I want them to look as though they belong together."
   ]
  },
  {
   "cell_type": "code",
   "execution_count": 18,
   "metadata": {},
   "outputs": [
    {
     "data": {
      "text/html": [
       "   <div id=\"Y8uikR\"></div>\n",
       "   <script type=\"text/javascript\" data-lets-plot-script=\"plot\">\n",
       "       (function() {\n",
       "           var plotSpec={\n",
       "\"data\":{\n",
       "\"Season\":[2015.0,2016.0,2017.0,2018.0,2019.0,2020.0,2021.0,2022.0,2023.0,2024.0,2015.0,2016.0,2017.0,2018.0,2019.0,2020.0,2021.0,2022.0,2023.0,2024.0,2015.0,2016.0,2017.0,2018.0,2019.0,2020.0,2021.0,2022.0,2023.0,2024.0,2015.0,2016.0,2017.0,2018.0,2019.0,2020.0,2021.0,2022.0,2023.0,2024.0],\n",
       "\"Apparatus\":[\"Vault\",\"Vault\",\"Vault\",\"Vault\",\"Vault\",\"Vault\",\"Vault\",\"Vault\",\"Vault\",\"Vault\",\"Uneven Bars\",\"Uneven Bars\",\"Uneven Bars\",\"Uneven Bars\",\"Uneven Bars\",\"Uneven Bars\",\"Uneven Bars\",\"Uneven Bars\",\"Uneven Bars\",\"Uneven Bars\",\"Balance Beam\",\"Balance Beam\",\"Balance Beam\",\"Balance Beam\",\"Balance Beam\",\"Balance Beam\",\"Balance Beam\",\"Balance Beam\",\"Balance Beam\",\"Balance Beam\",\"Floor Exercise\",\"Floor Exercise\",\"Floor Exercise\",\"Floor Exercise\",\"Floor Exercise\",\"Floor Exercise\",\"Floor Exercise\",\"Floor Exercise\",\"Floor Exercise\",\"Floor Exercise\"],\n",
       "\"No. of Tens\":[34.0,12.0,22.0,10.0,31.0,28.0,50.0,59.0,88.0,45.0,32.0,8.0,26.0,51.0,38.0,10.0,44.0,46.0,81.0,56.0,2.0,16.0,35.0,53.0,8.0,32.0,20.0,38.0,126.0,69.0,7.0,28.0,16.0,24.0,56.0,4.0,21.0,77.0,64.0,103.0]\n",
       "},\n",
       "\"mapping\":{\n",
       "\"x\":\"Apparatus\",\n",
       "\"y\":\"No. of Tens\"\n",
       "},\n",
       "\"data_meta\":{\n",
       "},\n",
       "\"ggtitle\":{\n",
       "\"text\":\"Which apparatus attracts the most 10s in NCAA gymnastics?\"\n",
       "},\n",
       "\"theme\":{\n",
       "\"axis_title\":{\n",
       "\"family\":\"Helvetica\",\n",
       "\"size\":12.0,\n",
       "\"blank\":false\n",
       "},\n",
       "\"axis_text\":{\n",
       "\"family\":\"Helvetica\",\n",
       "\"size\":12.0,\n",
       "\"blank\":false\n",
       "},\n",
       "\"legend_text\":{\n",
       "\"family\":\"Helvetica\",\n",
       "\"size\":10.0,\n",
       "\"blank\":false\n",
       "},\n",
       "\"legend_title\":{\n",
       "\"family\":\"Helvetica\",\n",
       "\"size\":12.0,\n",
       "\"blank\":false\n",
       "},\n",
       "\"legend_position\":\"bottom\"\n",
       "},\n",
       "\"kind\":\"plot\",\n",
       "\"scales\":[{\n",
       "\"aesthetic\":\"fill\",\n",
       "\"scale_mapper_kind\":\"color_cmap\"\n",
       "},{\n",
       "\"aesthetic\":\"fill\",\n",
       "\"discrete\":true\n",
       "}],\n",
       "\"layers\":[{\n",
       "\"geom\":\"bar\",\n",
       "\"stat\":\"identity\",\n",
       "\"mapping\":{\n",
       "\"group\":\"Season\",\n",
       "\"fill\":\"Season\"\n",
       "},\n",
       "\"data_meta\":{\n",
       "},\n",
       "\"alpha\":0.8,\n",
       "\"size\":0.2,\n",
       "\"data\":{\n",
       "}\n",
       "}],\n",
       "\"metainfo_list\":[]\n",
       "};\n",
       "           var plotContainer = document.getElementById(\"Y8uikR\");\n",
       "           window.letsPlotCall(function() {{\n",
       "               LetsPlot.buildPlotFromProcessedSpecs(plotSpec, -1, -1, plotContainer);\n",
       "           }});\n",
       "       })();\n",
       "   </script>"
      ],
      "text/plain": [
       "<lets_plot.plot.core.PlotSpec at 0x11e5e2390>"
      ]
     },
     "execution_count": 18,
     "metadata": {},
     "output_type": "execute_result"
    }
   ],
   "source": [
    "# A bar chart showing the aggregated number of 10s per apparatus across the years\n",
    "\n",
    "tenniest_apparatus_ever = (\n",
    "        ggplot(tenniest_apparatus_per_year, aes(x='Apparatus', y='No. of Tens')) + \n",
    "            geom_bar(aes(group='Season', fill='Season'), \n",
    "                stat='identity', \n",
    "                alpha=.8,\n",
    "                size=0.2) +\n",
    "            ggtitle('Which apparatus attracts the most 10s in NCAA gymnastics?') +\n",
    "            scale_fill_viridis() +\n",
    "            scale_fill_discrete() +\n",
    "            theme(\n",
    "                axis_title = element_text(size = 12, family='Helvetica'),\n",
    "                axis_text = element_text(size = 12, family='Helvetica'),\n",
    "                legend_position='bottom',\n",
    "                legend_title = element_text(size = 12, family='Helvetica'),\n",
    "                legend_text = element_text(size = 10, family = 'Helvetica')\n",
    "            )      \n",
    ")\n",
    "\n",
    "# Export the plot to html file\n",
    "ggsave(tenniest_apparatus_ever, \"../docs/figures/tenniest_apparatus_ever.html\")\n",
    "\n",
    "# Show the plot\n",
    "tenniest_apparatus_ever"
   ]
  },
  {
   "cell_type": "markdown",
   "metadata": {},
   "source": [
    "By the looks of the above plot, it seems like there isn't that much difference in the likelihood of scoring a 10 on any particular apparatus, although there is a slight advantage on Floor Exercise. \n",
    "\n",
    "The sizes of the slices, however, tell a different story. It suggests there are trends; in some seasons it is easier to achieve perfection on one apparatus and in others another.\n",
    "\n",
    "It would be interesting to explore how these trends change from year to year in some sort of amusing animated plot."
   ]
  },
  {
   "cell_type": "code",
   "execution_count": 11,
   "metadata": {},
   "outputs": [
    {
     "data": {
      "application/vnd.plotly.v1+json": {
       "config": {
        "plotlyServerURL": "https://plot.ly"
       },
       "data": [
        {
         "alignmentgroup": "True",
         "hovertemplate": "<b>%{hovertext}</b><br><br>Apparatus=%{x}<br>Season=2015<br>No. of Tens=%{y}<extra></extra>",
         "hovertext": [
          "Vault"
         ],
         "legendgroup": "Vault",
         "marker": {
          "color": "rgb(68, 1, 84)",
          "opacity": 0.8,
          "pattern": {
           "shape": ""
          }
         },
         "name": "Vault",
         "offsetgroup": "Vault",
         "orientation": "v",
         "showlegend": true,
         "textposition": "auto",
         "type": "bar",
         "x": [
          "Vault"
         ],
         "xaxis": "x",
         "y": [
          34
         ],
         "yaxis": "y"
        },
        {
         "alignmentgroup": "True",
         "hovertemplate": "<b>%{hovertext}</b><br><br>Apparatus=%{x}<br>Season=2015<br>No. of Tens=%{y}<extra></extra>",
         "hovertext": [
          "Uneven Bars"
         ],
         "legendgroup": "Uneven Bars",
         "marker": {
          "color": "rgb(59, 81, 138)",
          "opacity": 0.8,
          "pattern": {
           "shape": ""
          }
         },
         "name": "Uneven Bars",
         "offsetgroup": "Uneven Bars",
         "orientation": "v",
         "showlegend": true,
         "textposition": "auto",
         "type": "bar",
         "x": [
          "Uneven Bars"
         ],
         "xaxis": "x",
         "y": [
          32
         ],
         "yaxis": "y"
        },
        {
         "alignmentgroup": "True",
         "hovertemplate": "<b>%{hovertext}</b><br><br>Apparatus=%{x}<br>Season=2015<br>No. of Tens=%{y}<extra></extra>",
         "hovertext": [
          "Balance Beam"
         ],
         "legendgroup": "Balance Beam",
         "marker": {
          "color": "rgb(34, 144, 140)",
          "opacity": 0.8,
          "pattern": {
           "shape": ""
          }
         },
         "name": "Balance Beam",
         "offsetgroup": "Balance Beam",
         "orientation": "v",
         "showlegend": true,
         "textposition": "auto",
         "type": "bar",
         "x": [
          "Balance Beam"
         ],
         "xaxis": "x",
         "y": [
          2
         ],
         "yaxis": "y"
        },
        {
         "alignmentgroup": "True",
         "hovertemplate": "<b>%{hovertext}</b><br><br>Apparatus=%{x}<br>Season=2015<br>No. of Tens=%{y}<extra></extra>",
         "hovertext": [
          "Floor Exercise"
         ],
         "legendgroup": "Floor Exercise",
         "marker": {
          "color": "rgb(96, 200, 96)",
          "opacity": 0.8,
          "pattern": {
           "shape": ""
          }
         },
         "name": "Floor Exercise",
         "offsetgroup": "Floor Exercise",
         "orientation": "v",
         "showlegend": true,
         "textposition": "auto",
         "type": "bar",
         "x": [
          "Floor Exercise"
         ],
         "xaxis": "x",
         "y": [
          7
         ],
         "yaxis": "y"
        }
       ],
       "frames": [
        {
         "data": [
          {
           "alignmentgroup": "True",
           "hovertemplate": "<b>%{hovertext}</b><br><br>Apparatus=%{x}<br>Season=2015<br>No. of Tens=%{y}<extra></extra>",
           "hovertext": [
            "Vault"
           ],
           "legendgroup": "Vault",
           "marker": {
            "color": "rgb(68, 1, 84)",
            "opacity": 0.8,
            "pattern": {
             "shape": ""
            }
           },
           "name": "Vault",
           "offsetgroup": "Vault",
           "orientation": "v",
           "showlegend": true,
           "textposition": "auto",
           "type": "bar",
           "x": [
            "Vault"
           ],
           "xaxis": "x",
           "y": [
            34
           ],
           "yaxis": "y"
          },
          {
           "alignmentgroup": "True",
           "hovertemplate": "<b>%{hovertext}</b><br><br>Apparatus=%{x}<br>Season=2015<br>No. of Tens=%{y}<extra></extra>",
           "hovertext": [
            "Uneven Bars"
           ],
           "legendgroup": "Uneven Bars",
           "marker": {
            "color": "rgb(59, 81, 138)",
            "opacity": 0.8,
            "pattern": {
             "shape": ""
            }
           },
           "name": "Uneven Bars",
           "offsetgroup": "Uneven Bars",
           "orientation": "v",
           "showlegend": true,
           "textposition": "auto",
           "type": "bar",
           "x": [
            "Uneven Bars"
           ],
           "xaxis": "x",
           "y": [
            32
           ],
           "yaxis": "y"
          },
          {
           "alignmentgroup": "True",
           "hovertemplate": "<b>%{hovertext}</b><br><br>Apparatus=%{x}<br>Season=2015<br>No. of Tens=%{y}<extra></extra>",
           "hovertext": [
            "Balance Beam"
           ],
           "legendgroup": "Balance Beam",
           "marker": {
            "color": "rgb(34, 144, 140)",
            "opacity": 0.8,
            "pattern": {
             "shape": ""
            }
           },
           "name": "Balance Beam",
           "offsetgroup": "Balance Beam",
           "orientation": "v",
           "showlegend": true,
           "textposition": "auto",
           "type": "bar",
           "x": [
            "Balance Beam"
           ],
           "xaxis": "x",
           "y": [
            2
           ],
           "yaxis": "y"
          },
          {
           "alignmentgroup": "True",
           "hovertemplate": "<b>%{hovertext}</b><br><br>Apparatus=%{x}<br>Season=2015<br>No. of Tens=%{y}<extra></extra>",
           "hovertext": [
            "Floor Exercise"
           ],
           "legendgroup": "Floor Exercise",
           "marker": {
            "color": "rgb(96, 200, 96)",
            "opacity": 0.8,
            "pattern": {
             "shape": ""
            }
           },
           "name": "Floor Exercise",
           "offsetgroup": "Floor Exercise",
           "orientation": "v",
           "showlegend": true,
           "textposition": "auto",
           "type": "bar",
           "x": [
            "Floor Exercise"
           ],
           "xaxis": "x",
           "y": [
            7
           ],
           "yaxis": "y"
          }
         ],
         "name": "2015"
        },
        {
         "data": [
          {
           "alignmentgroup": "True",
           "hovertemplate": "<b>%{hovertext}</b><br><br>Apparatus=%{x}<br>Season=2016<br>No. of Tens=%{y}<extra></extra>",
           "hovertext": [
            "Vault"
           ],
           "legendgroup": "Vault",
           "marker": {
            "color": "rgb(68, 1, 84)",
            "opacity": 0.8,
            "pattern": {
             "shape": ""
            }
           },
           "name": "Vault",
           "offsetgroup": "Vault",
           "orientation": "v",
           "showlegend": true,
           "textposition": "auto",
           "type": "bar",
           "x": [
            "Vault"
           ],
           "xaxis": "x",
           "y": [
            12
           ],
           "yaxis": "y"
          },
          {
           "alignmentgroup": "True",
           "hovertemplate": "<b>%{hovertext}</b><br><br>Apparatus=%{x}<br>Season=2016<br>No. of Tens=%{y}<extra></extra>",
           "hovertext": [
            "Uneven Bars"
           ],
           "legendgroup": "Uneven Bars",
           "marker": {
            "color": "rgb(59, 81, 138)",
            "opacity": 0.8,
            "pattern": {
             "shape": ""
            }
           },
           "name": "Uneven Bars",
           "offsetgroup": "Uneven Bars",
           "orientation": "v",
           "showlegend": true,
           "textposition": "auto",
           "type": "bar",
           "x": [
            "Uneven Bars"
           ],
           "xaxis": "x",
           "y": [
            8
           ],
           "yaxis": "y"
          },
          {
           "alignmentgroup": "True",
           "hovertemplate": "<b>%{hovertext}</b><br><br>Apparatus=%{x}<br>Season=2016<br>No. of Tens=%{y}<extra></extra>",
           "hovertext": [
            "Balance Beam"
           ],
           "legendgroup": "Balance Beam",
           "marker": {
            "color": "rgb(34, 144, 140)",
            "opacity": 0.8,
            "pattern": {
             "shape": ""
            }
           },
           "name": "Balance Beam",
           "offsetgroup": "Balance Beam",
           "orientation": "v",
           "showlegend": true,
           "textposition": "auto",
           "type": "bar",
           "x": [
            "Balance Beam"
           ],
           "xaxis": "x",
           "y": [
            16
           ],
           "yaxis": "y"
          },
          {
           "alignmentgroup": "True",
           "hovertemplate": "<b>%{hovertext}</b><br><br>Apparatus=%{x}<br>Season=2016<br>No. of Tens=%{y}<extra></extra>",
           "hovertext": [
            "Floor Exercise"
           ],
           "legendgroup": "Floor Exercise",
           "marker": {
            "color": "rgb(96, 200, 96)",
            "opacity": 0.8,
            "pattern": {
             "shape": ""
            }
           },
           "name": "Floor Exercise",
           "offsetgroup": "Floor Exercise",
           "orientation": "v",
           "showlegend": true,
           "textposition": "auto",
           "type": "bar",
           "x": [
            "Floor Exercise"
           ],
           "xaxis": "x",
           "y": [
            28
           ],
           "yaxis": "y"
          }
         ],
         "name": "2016"
        },
        {
         "data": [
          {
           "alignmentgroup": "True",
           "hovertemplate": "<b>%{hovertext}</b><br><br>Apparatus=%{x}<br>Season=2017<br>No. of Tens=%{y}<extra></extra>",
           "hovertext": [
            "Vault"
           ],
           "legendgroup": "Vault",
           "marker": {
            "color": "rgb(68, 1, 84)",
            "opacity": 0.8,
            "pattern": {
             "shape": ""
            }
           },
           "name": "Vault",
           "offsetgroup": "Vault",
           "orientation": "v",
           "showlegend": true,
           "textposition": "auto",
           "type": "bar",
           "x": [
            "Vault"
           ],
           "xaxis": "x",
           "y": [
            22
           ],
           "yaxis": "y"
          },
          {
           "alignmentgroup": "True",
           "hovertemplate": "<b>%{hovertext}</b><br><br>Apparatus=%{x}<br>Season=2017<br>No. of Tens=%{y}<extra></extra>",
           "hovertext": [
            "Uneven Bars"
           ],
           "legendgroup": "Uneven Bars",
           "marker": {
            "color": "rgb(59, 81, 138)",
            "opacity": 0.8,
            "pattern": {
             "shape": ""
            }
           },
           "name": "Uneven Bars",
           "offsetgroup": "Uneven Bars",
           "orientation": "v",
           "showlegend": true,
           "textposition": "auto",
           "type": "bar",
           "x": [
            "Uneven Bars"
           ],
           "xaxis": "x",
           "y": [
            26
           ],
           "yaxis": "y"
          },
          {
           "alignmentgroup": "True",
           "hovertemplate": "<b>%{hovertext}</b><br><br>Apparatus=%{x}<br>Season=2017<br>No. of Tens=%{y}<extra></extra>",
           "hovertext": [
            "Balance Beam"
           ],
           "legendgroup": "Balance Beam",
           "marker": {
            "color": "rgb(34, 144, 140)",
            "opacity": 0.8,
            "pattern": {
             "shape": ""
            }
           },
           "name": "Balance Beam",
           "offsetgroup": "Balance Beam",
           "orientation": "v",
           "showlegend": true,
           "textposition": "auto",
           "type": "bar",
           "x": [
            "Balance Beam"
           ],
           "xaxis": "x",
           "y": [
            35
           ],
           "yaxis": "y"
          },
          {
           "alignmentgroup": "True",
           "hovertemplate": "<b>%{hovertext}</b><br><br>Apparatus=%{x}<br>Season=2017<br>No. of Tens=%{y}<extra></extra>",
           "hovertext": [
            "Floor Exercise"
           ],
           "legendgroup": "Floor Exercise",
           "marker": {
            "color": "rgb(96, 200, 96)",
            "opacity": 0.8,
            "pattern": {
             "shape": ""
            }
           },
           "name": "Floor Exercise",
           "offsetgroup": "Floor Exercise",
           "orientation": "v",
           "showlegend": true,
           "textposition": "auto",
           "type": "bar",
           "x": [
            "Floor Exercise"
           ],
           "xaxis": "x",
           "y": [
            16
           ],
           "yaxis": "y"
          }
         ],
         "name": "2017"
        },
        {
         "data": [
          {
           "alignmentgroup": "True",
           "hovertemplate": "<b>%{hovertext}</b><br><br>Apparatus=%{x}<br>Season=2018<br>No. of Tens=%{y}<extra></extra>",
           "hovertext": [
            "Vault"
           ],
           "legendgroup": "Vault",
           "marker": {
            "color": "rgb(68, 1, 84)",
            "opacity": 0.8,
            "pattern": {
             "shape": ""
            }
           },
           "name": "Vault",
           "offsetgroup": "Vault",
           "orientation": "v",
           "showlegend": true,
           "textposition": "auto",
           "type": "bar",
           "x": [
            "Vault"
           ],
           "xaxis": "x",
           "y": [
            10
           ],
           "yaxis": "y"
          },
          {
           "alignmentgroup": "True",
           "hovertemplate": "<b>%{hovertext}</b><br><br>Apparatus=%{x}<br>Season=2018<br>No. of Tens=%{y}<extra></extra>",
           "hovertext": [
            "Uneven Bars"
           ],
           "legendgroup": "Uneven Bars",
           "marker": {
            "color": "rgb(59, 81, 138)",
            "opacity": 0.8,
            "pattern": {
             "shape": ""
            }
           },
           "name": "Uneven Bars",
           "offsetgroup": "Uneven Bars",
           "orientation": "v",
           "showlegend": true,
           "textposition": "auto",
           "type": "bar",
           "x": [
            "Uneven Bars"
           ],
           "xaxis": "x",
           "y": [
            51
           ],
           "yaxis": "y"
          },
          {
           "alignmentgroup": "True",
           "hovertemplate": "<b>%{hovertext}</b><br><br>Apparatus=%{x}<br>Season=2018<br>No. of Tens=%{y}<extra></extra>",
           "hovertext": [
            "Balance Beam"
           ],
           "legendgroup": "Balance Beam",
           "marker": {
            "color": "rgb(34, 144, 140)",
            "opacity": 0.8,
            "pattern": {
             "shape": ""
            }
           },
           "name": "Balance Beam",
           "offsetgroup": "Balance Beam",
           "orientation": "v",
           "showlegend": true,
           "textposition": "auto",
           "type": "bar",
           "x": [
            "Balance Beam"
           ],
           "xaxis": "x",
           "y": [
            53
           ],
           "yaxis": "y"
          },
          {
           "alignmentgroup": "True",
           "hovertemplate": "<b>%{hovertext}</b><br><br>Apparatus=%{x}<br>Season=2018<br>No. of Tens=%{y}<extra></extra>",
           "hovertext": [
            "Floor Exercise"
           ],
           "legendgroup": "Floor Exercise",
           "marker": {
            "color": "rgb(96, 200, 96)",
            "opacity": 0.8,
            "pattern": {
             "shape": ""
            }
           },
           "name": "Floor Exercise",
           "offsetgroup": "Floor Exercise",
           "orientation": "v",
           "showlegend": true,
           "textposition": "auto",
           "type": "bar",
           "x": [
            "Floor Exercise"
           ],
           "xaxis": "x",
           "y": [
            24
           ],
           "yaxis": "y"
          }
         ],
         "name": "2018"
        },
        {
         "data": [
          {
           "alignmentgroup": "True",
           "hovertemplate": "<b>%{hovertext}</b><br><br>Apparatus=%{x}<br>Season=2019<br>No. of Tens=%{y}<extra></extra>",
           "hovertext": [
            "Vault"
           ],
           "legendgroup": "Vault",
           "marker": {
            "color": "rgb(68, 1, 84)",
            "opacity": 0.8,
            "pattern": {
             "shape": ""
            }
           },
           "name": "Vault",
           "offsetgroup": "Vault",
           "orientation": "v",
           "showlegend": true,
           "textposition": "auto",
           "type": "bar",
           "x": [
            "Vault"
           ],
           "xaxis": "x",
           "y": [
            31
           ],
           "yaxis": "y"
          },
          {
           "alignmentgroup": "True",
           "hovertemplate": "<b>%{hovertext}</b><br><br>Apparatus=%{x}<br>Season=2019<br>No. of Tens=%{y}<extra></extra>",
           "hovertext": [
            "Uneven Bars"
           ],
           "legendgroup": "Uneven Bars",
           "marker": {
            "color": "rgb(59, 81, 138)",
            "opacity": 0.8,
            "pattern": {
             "shape": ""
            }
           },
           "name": "Uneven Bars",
           "offsetgroup": "Uneven Bars",
           "orientation": "v",
           "showlegend": true,
           "textposition": "auto",
           "type": "bar",
           "x": [
            "Uneven Bars"
           ],
           "xaxis": "x",
           "y": [
            38
           ],
           "yaxis": "y"
          },
          {
           "alignmentgroup": "True",
           "hovertemplate": "<b>%{hovertext}</b><br><br>Apparatus=%{x}<br>Season=2019<br>No. of Tens=%{y}<extra></extra>",
           "hovertext": [
            "Balance Beam"
           ],
           "legendgroup": "Balance Beam",
           "marker": {
            "color": "rgb(34, 144, 140)",
            "opacity": 0.8,
            "pattern": {
             "shape": ""
            }
           },
           "name": "Balance Beam",
           "offsetgroup": "Balance Beam",
           "orientation": "v",
           "showlegend": true,
           "textposition": "auto",
           "type": "bar",
           "x": [
            "Balance Beam"
           ],
           "xaxis": "x",
           "y": [
            8
           ],
           "yaxis": "y"
          },
          {
           "alignmentgroup": "True",
           "hovertemplate": "<b>%{hovertext}</b><br><br>Apparatus=%{x}<br>Season=2019<br>No. of Tens=%{y}<extra></extra>",
           "hovertext": [
            "Floor Exercise"
           ],
           "legendgroup": "Floor Exercise",
           "marker": {
            "color": "rgb(96, 200, 96)",
            "opacity": 0.8,
            "pattern": {
             "shape": ""
            }
           },
           "name": "Floor Exercise",
           "offsetgroup": "Floor Exercise",
           "orientation": "v",
           "showlegend": true,
           "textposition": "auto",
           "type": "bar",
           "x": [
            "Floor Exercise"
           ],
           "xaxis": "x",
           "y": [
            56
           ],
           "yaxis": "y"
          }
         ],
         "name": "2019"
        },
        {
         "data": [
          {
           "alignmentgroup": "True",
           "hovertemplate": "<b>%{hovertext}</b><br><br>Apparatus=%{x}<br>Season=2020<br>No. of Tens=%{y}<extra></extra>",
           "hovertext": [
            "Vault"
           ],
           "legendgroup": "Vault",
           "marker": {
            "color": "rgb(68, 1, 84)",
            "opacity": 0.8,
            "pattern": {
             "shape": ""
            }
           },
           "name": "Vault",
           "offsetgroup": "Vault",
           "orientation": "v",
           "showlegend": true,
           "textposition": "auto",
           "type": "bar",
           "x": [
            "Vault"
           ],
           "xaxis": "x",
           "y": [
            28
           ],
           "yaxis": "y"
          },
          {
           "alignmentgroup": "True",
           "hovertemplate": "<b>%{hovertext}</b><br><br>Apparatus=%{x}<br>Season=2020<br>No. of Tens=%{y}<extra></extra>",
           "hovertext": [
            "Uneven Bars"
           ],
           "legendgroup": "Uneven Bars",
           "marker": {
            "color": "rgb(59, 81, 138)",
            "opacity": 0.8,
            "pattern": {
             "shape": ""
            }
           },
           "name": "Uneven Bars",
           "offsetgroup": "Uneven Bars",
           "orientation": "v",
           "showlegend": true,
           "textposition": "auto",
           "type": "bar",
           "x": [
            "Uneven Bars"
           ],
           "xaxis": "x",
           "y": [
            10
           ],
           "yaxis": "y"
          },
          {
           "alignmentgroup": "True",
           "hovertemplate": "<b>%{hovertext}</b><br><br>Apparatus=%{x}<br>Season=2020<br>No. of Tens=%{y}<extra></extra>",
           "hovertext": [
            "Balance Beam"
           ],
           "legendgroup": "Balance Beam",
           "marker": {
            "color": "rgb(34, 144, 140)",
            "opacity": 0.8,
            "pattern": {
             "shape": ""
            }
           },
           "name": "Balance Beam",
           "offsetgroup": "Balance Beam",
           "orientation": "v",
           "showlegend": true,
           "textposition": "auto",
           "type": "bar",
           "x": [
            "Balance Beam"
           ],
           "xaxis": "x",
           "y": [
            32
           ],
           "yaxis": "y"
          },
          {
           "alignmentgroup": "True",
           "hovertemplate": "<b>%{hovertext}</b><br><br>Apparatus=%{x}<br>Season=2020<br>No. of Tens=%{y}<extra></extra>",
           "hovertext": [
            "Floor Exercise"
           ],
           "legendgroup": "Floor Exercise",
           "marker": {
            "color": "rgb(96, 200, 96)",
            "opacity": 0.8,
            "pattern": {
             "shape": ""
            }
           },
           "name": "Floor Exercise",
           "offsetgroup": "Floor Exercise",
           "orientation": "v",
           "showlegend": true,
           "textposition": "auto",
           "type": "bar",
           "x": [
            "Floor Exercise"
           ],
           "xaxis": "x",
           "y": [
            4
           ],
           "yaxis": "y"
          }
         ],
         "name": "2020"
        },
        {
         "data": [
          {
           "alignmentgroup": "True",
           "hovertemplate": "<b>%{hovertext}</b><br><br>Apparatus=%{x}<br>Season=2021<br>No. of Tens=%{y}<extra></extra>",
           "hovertext": [
            "Vault"
           ],
           "legendgroup": "Vault",
           "marker": {
            "color": "rgb(68, 1, 84)",
            "opacity": 0.8,
            "pattern": {
             "shape": ""
            }
           },
           "name": "Vault",
           "offsetgroup": "Vault",
           "orientation": "v",
           "showlegend": true,
           "textposition": "auto",
           "type": "bar",
           "x": [
            "Vault"
           ],
           "xaxis": "x",
           "y": [
            50
           ],
           "yaxis": "y"
          },
          {
           "alignmentgroup": "True",
           "hovertemplate": "<b>%{hovertext}</b><br><br>Apparatus=%{x}<br>Season=2021<br>No. of Tens=%{y}<extra></extra>",
           "hovertext": [
            "Uneven Bars"
           ],
           "legendgroup": "Uneven Bars",
           "marker": {
            "color": "rgb(59, 81, 138)",
            "opacity": 0.8,
            "pattern": {
             "shape": ""
            }
           },
           "name": "Uneven Bars",
           "offsetgroup": "Uneven Bars",
           "orientation": "v",
           "showlegend": true,
           "textposition": "auto",
           "type": "bar",
           "x": [
            "Uneven Bars"
           ],
           "xaxis": "x",
           "y": [
            44
           ],
           "yaxis": "y"
          },
          {
           "alignmentgroup": "True",
           "hovertemplate": "<b>%{hovertext}</b><br><br>Apparatus=%{x}<br>Season=2021<br>No. of Tens=%{y}<extra></extra>",
           "hovertext": [
            "Balance Beam"
           ],
           "legendgroup": "Balance Beam",
           "marker": {
            "color": "rgb(34, 144, 140)",
            "opacity": 0.8,
            "pattern": {
             "shape": ""
            }
           },
           "name": "Balance Beam",
           "offsetgroup": "Balance Beam",
           "orientation": "v",
           "showlegend": true,
           "textposition": "auto",
           "type": "bar",
           "x": [
            "Balance Beam"
           ],
           "xaxis": "x",
           "y": [
            20
           ],
           "yaxis": "y"
          },
          {
           "alignmentgroup": "True",
           "hovertemplate": "<b>%{hovertext}</b><br><br>Apparatus=%{x}<br>Season=2021<br>No. of Tens=%{y}<extra></extra>",
           "hovertext": [
            "Floor Exercise"
           ],
           "legendgroup": "Floor Exercise",
           "marker": {
            "color": "rgb(96, 200, 96)",
            "opacity": 0.8,
            "pattern": {
             "shape": ""
            }
           },
           "name": "Floor Exercise",
           "offsetgroup": "Floor Exercise",
           "orientation": "v",
           "showlegend": true,
           "textposition": "auto",
           "type": "bar",
           "x": [
            "Floor Exercise"
           ],
           "xaxis": "x",
           "y": [
            21
           ],
           "yaxis": "y"
          }
         ],
         "name": "2021"
        },
        {
         "data": [
          {
           "alignmentgroup": "True",
           "hovertemplate": "<b>%{hovertext}</b><br><br>Apparatus=%{x}<br>Season=2022<br>No. of Tens=%{y}<extra></extra>",
           "hovertext": [
            "Vault"
           ],
           "legendgroup": "Vault",
           "marker": {
            "color": "rgb(68, 1, 84)",
            "opacity": 0.8,
            "pattern": {
             "shape": ""
            }
           },
           "name": "Vault",
           "offsetgroup": "Vault",
           "orientation": "v",
           "showlegend": true,
           "textposition": "auto",
           "type": "bar",
           "x": [
            "Vault"
           ],
           "xaxis": "x",
           "y": [
            59
           ],
           "yaxis": "y"
          },
          {
           "alignmentgroup": "True",
           "hovertemplate": "<b>%{hovertext}</b><br><br>Apparatus=%{x}<br>Season=2022<br>No. of Tens=%{y}<extra></extra>",
           "hovertext": [
            "Uneven Bars"
           ],
           "legendgroup": "Uneven Bars",
           "marker": {
            "color": "rgb(59, 81, 138)",
            "opacity": 0.8,
            "pattern": {
             "shape": ""
            }
           },
           "name": "Uneven Bars",
           "offsetgroup": "Uneven Bars",
           "orientation": "v",
           "showlegend": true,
           "textposition": "auto",
           "type": "bar",
           "x": [
            "Uneven Bars"
           ],
           "xaxis": "x",
           "y": [
            46
           ],
           "yaxis": "y"
          },
          {
           "alignmentgroup": "True",
           "hovertemplate": "<b>%{hovertext}</b><br><br>Apparatus=%{x}<br>Season=2022<br>No. of Tens=%{y}<extra></extra>",
           "hovertext": [
            "Balance Beam"
           ],
           "legendgroup": "Balance Beam",
           "marker": {
            "color": "rgb(34, 144, 140)",
            "opacity": 0.8,
            "pattern": {
             "shape": ""
            }
           },
           "name": "Balance Beam",
           "offsetgroup": "Balance Beam",
           "orientation": "v",
           "showlegend": true,
           "textposition": "auto",
           "type": "bar",
           "x": [
            "Balance Beam"
           ],
           "xaxis": "x",
           "y": [
            38
           ],
           "yaxis": "y"
          },
          {
           "alignmentgroup": "True",
           "hovertemplate": "<b>%{hovertext}</b><br><br>Apparatus=%{x}<br>Season=2022<br>No. of Tens=%{y}<extra></extra>",
           "hovertext": [
            "Floor Exercise"
           ],
           "legendgroup": "Floor Exercise",
           "marker": {
            "color": "rgb(96, 200, 96)",
            "opacity": 0.8,
            "pattern": {
             "shape": ""
            }
           },
           "name": "Floor Exercise",
           "offsetgroup": "Floor Exercise",
           "orientation": "v",
           "showlegend": true,
           "textposition": "auto",
           "type": "bar",
           "x": [
            "Floor Exercise"
           ],
           "xaxis": "x",
           "y": [
            77
           ],
           "yaxis": "y"
          }
         ],
         "name": "2022"
        },
        {
         "data": [
          {
           "alignmentgroup": "True",
           "hovertemplate": "<b>%{hovertext}</b><br><br>Apparatus=%{x}<br>Season=2023<br>No. of Tens=%{y}<extra></extra>",
           "hovertext": [
            "Vault"
           ],
           "legendgroup": "Vault",
           "marker": {
            "color": "rgb(68, 1, 84)",
            "opacity": 0.8,
            "pattern": {
             "shape": ""
            }
           },
           "name": "Vault",
           "offsetgroup": "Vault",
           "orientation": "v",
           "showlegend": true,
           "textposition": "auto",
           "type": "bar",
           "x": [
            "Vault"
           ],
           "xaxis": "x",
           "y": [
            88
           ],
           "yaxis": "y"
          },
          {
           "alignmentgroup": "True",
           "hovertemplate": "<b>%{hovertext}</b><br><br>Apparatus=%{x}<br>Season=2023<br>No. of Tens=%{y}<extra></extra>",
           "hovertext": [
            "Uneven Bars"
           ],
           "legendgroup": "Uneven Bars",
           "marker": {
            "color": "rgb(59, 81, 138)",
            "opacity": 0.8,
            "pattern": {
             "shape": ""
            }
           },
           "name": "Uneven Bars",
           "offsetgroup": "Uneven Bars",
           "orientation": "v",
           "showlegend": true,
           "textposition": "auto",
           "type": "bar",
           "x": [
            "Uneven Bars"
           ],
           "xaxis": "x",
           "y": [
            81
           ],
           "yaxis": "y"
          },
          {
           "alignmentgroup": "True",
           "hovertemplate": "<b>%{hovertext}</b><br><br>Apparatus=%{x}<br>Season=2023<br>No. of Tens=%{y}<extra></extra>",
           "hovertext": [
            "Balance Beam"
           ],
           "legendgroup": "Balance Beam",
           "marker": {
            "color": "rgb(34, 144, 140)",
            "opacity": 0.8,
            "pattern": {
             "shape": ""
            }
           },
           "name": "Balance Beam",
           "offsetgroup": "Balance Beam",
           "orientation": "v",
           "showlegend": true,
           "textposition": "auto",
           "type": "bar",
           "x": [
            "Balance Beam"
           ],
           "xaxis": "x",
           "y": [
            126
           ],
           "yaxis": "y"
          },
          {
           "alignmentgroup": "True",
           "hovertemplate": "<b>%{hovertext}</b><br><br>Apparatus=%{x}<br>Season=2023<br>No. of Tens=%{y}<extra></extra>",
           "hovertext": [
            "Floor Exercise"
           ],
           "legendgroup": "Floor Exercise",
           "marker": {
            "color": "rgb(96, 200, 96)",
            "opacity": 0.8,
            "pattern": {
             "shape": ""
            }
           },
           "name": "Floor Exercise",
           "offsetgroup": "Floor Exercise",
           "orientation": "v",
           "showlegend": true,
           "textposition": "auto",
           "type": "bar",
           "x": [
            "Floor Exercise"
           ],
           "xaxis": "x",
           "y": [
            64
           ],
           "yaxis": "y"
          }
         ],
         "name": "2023"
        },
        {
         "data": [
          {
           "alignmentgroup": "True",
           "hovertemplate": "<b>%{hovertext}</b><br><br>Apparatus=%{x}<br>Season=2024<br>No. of Tens=%{y}<extra></extra>",
           "hovertext": [
            "Vault"
           ],
           "legendgroup": "Vault",
           "marker": {
            "color": "rgb(68, 1, 84)",
            "opacity": 0.8,
            "pattern": {
             "shape": ""
            }
           },
           "name": "Vault",
           "offsetgroup": "Vault",
           "orientation": "v",
           "showlegend": true,
           "textposition": "auto",
           "type": "bar",
           "x": [
            "Vault"
           ],
           "xaxis": "x",
           "y": [
            45
           ],
           "yaxis": "y"
          },
          {
           "alignmentgroup": "True",
           "hovertemplate": "<b>%{hovertext}</b><br><br>Apparatus=%{x}<br>Season=2024<br>No. of Tens=%{y}<extra></extra>",
           "hovertext": [
            "Uneven Bars"
           ],
           "legendgroup": "Uneven Bars",
           "marker": {
            "color": "rgb(59, 81, 138)",
            "opacity": 0.8,
            "pattern": {
             "shape": ""
            }
           },
           "name": "Uneven Bars",
           "offsetgroup": "Uneven Bars",
           "orientation": "v",
           "showlegend": true,
           "textposition": "auto",
           "type": "bar",
           "x": [
            "Uneven Bars"
           ],
           "xaxis": "x",
           "y": [
            56
           ],
           "yaxis": "y"
          },
          {
           "alignmentgroup": "True",
           "hovertemplate": "<b>%{hovertext}</b><br><br>Apparatus=%{x}<br>Season=2024<br>No. of Tens=%{y}<extra></extra>",
           "hovertext": [
            "Balance Beam"
           ],
           "legendgroup": "Balance Beam",
           "marker": {
            "color": "rgb(34, 144, 140)",
            "opacity": 0.8,
            "pattern": {
             "shape": ""
            }
           },
           "name": "Balance Beam",
           "offsetgroup": "Balance Beam",
           "orientation": "v",
           "showlegend": true,
           "textposition": "auto",
           "type": "bar",
           "x": [
            "Balance Beam"
           ],
           "xaxis": "x",
           "y": [
            69
           ],
           "yaxis": "y"
          },
          {
           "alignmentgroup": "True",
           "hovertemplate": "<b>%{hovertext}</b><br><br>Apparatus=%{x}<br>Season=2024<br>No. of Tens=%{y}<extra></extra>",
           "hovertext": [
            "Floor Exercise"
           ],
           "legendgroup": "Floor Exercise",
           "marker": {
            "color": "rgb(96, 200, 96)",
            "opacity": 0.8,
            "pattern": {
             "shape": ""
            }
           },
           "name": "Floor Exercise",
           "offsetgroup": "Floor Exercise",
           "orientation": "v",
           "showlegend": true,
           "textposition": "auto",
           "type": "bar",
           "x": [
            "Floor Exercise"
           ],
           "xaxis": "x",
           "y": [
            103
           ],
           "yaxis": "y"
          }
         ],
         "name": "2024"
        }
       ],
       "layout": {
        "barmode": "relative",
        "font": {
         "color": "black",
         "family": "Helvetica",
         "size": 10
        },
        "legend": {
         "orientation": "h",
         "title": {
          "font": {
           "color": "black",
           "family": "Helvetica",
           "size": 12
          },
          "text": "Apparatus"
         },
         "tracegroupgap": 0,
         "x": 0.5,
         "xanchor": "center",
         "y": -1,
         "yanchor": "bottom"
        },
        "margin": {
         "t": 60
        },
        "paper_bgcolor": "white",
        "plot_bgcolor": "white",
        "sliders": [
         {
          "active": 0,
          "currentvalue": {
           "prefix": "Season="
          },
          "len": 0.9,
          "pad": {
           "b": 10,
           "t": 60
          },
          "steps": [
           {
            "args": [
             [
              "2015"
             ],
             {
              "frame": {
               "duration": 0,
               "redraw": true
              },
              "fromcurrent": true,
              "mode": "immediate",
              "transition": {
               "duration": 0,
               "easing": "linear"
              }
             }
            ],
            "label": "2015",
            "method": "animate"
           },
           {
            "args": [
             [
              "2016"
             ],
             {
              "frame": {
               "duration": 0,
               "redraw": true
              },
              "fromcurrent": true,
              "mode": "immediate",
              "transition": {
               "duration": 0,
               "easing": "linear"
              }
             }
            ],
            "label": "2016",
            "method": "animate"
           },
           {
            "args": [
             [
              "2017"
             ],
             {
              "frame": {
               "duration": 0,
               "redraw": true
              },
              "fromcurrent": true,
              "mode": "immediate",
              "transition": {
               "duration": 0,
               "easing": "linear"
              }
             }
            ],
            "label": "2017",
            "method": "animate"
           },
           {
            "args": [
             [
              "2018"
             ],
             {
              "frame": {
               "duration": 0,
               "redraw": true
              },
              "fromcurrent": true,
              "mode": "immediate",
              "transition": {
               "duration": 0,
               "easing": "linear"
              }
             }
            ],
            "label": "2018",
            "method": "animate"
           },
           {
            "args": [
             [
              "2019"
             ],
             {
              "frame": {
               "duration": 0,
               "redraw": true
              },
              "fromcurrent": true,
              "mode": "immediate",
              "transition": {
               "duration": 0,
               "easing": "linear"
              }
             }
            ],
            "label": "2019",
            "method": "animate"
           },
           {
            "args": [
             [
              "2020"
             ],
             {
              "frame": {
               "duration": 0,
               "redraw": true
              },
              "fromcurrent": true,
              "mode": "immediate",
              "transition": {
               "duration": 0,
               "easing": "linear"
              }
             }
            ],
            "label": "2020",
            "method": "animate"
           },
           {
            "args": [
             [
              "2021"
             ],
             {
              "frame": {
               "duration": 0,
               "redraw": true
              },
              "fromcurrent": true,
              "mode": "immediate",
              "transition": {
               "duration": 0,
               "easing": "linear"
              }
             }
            ],
            "label": "2021",
            "method": "animate"
           },
           {
            "args": [
             [
              "2022"
             ],
             {
              "frame": {
               "duration": 0,
               "redraw": true
              },
              "fromcurrent": true,
              "mode": "immediate",
              "transition": {
               "duration": 0,
               "easing": "linear"
              }
             }
            ],
            "label": "2022",
            "method": "animate"
           },
           {
            "args": [
             [
              "2023"
             ],
             {
              "frame": {
               "duration": 0,
               "redraw": true
              },
              "fromcurrent": true,
              "mode": "immediate",
              "transition": {
               "duration": 0,
               "easing": "linear"
              }
             }
            ],
            "label": "2023",
            "method": "animate"
           },
           {
            "args": [
             [
              "2024"
             ],
             {
              "frame": {
               "duration": 0,
               "redraw": true
              },
              "fromcurrent": true,
              "mode": "immediate",
              "transition": {
               "duration": 0,
               "easing": "linear"
              }
             }
            ],
            "label": "2024",
            "method": "animate"
           }
          ],
          "x": 0.1,
          "xanchor": "left",
          "y": 0,
          "yanchor": "top"
         }
        ],
        "template": {
         "data": {
          "bar": [
           {
            "error_x": {
             "color": "#2a3f5f"
            },
            "error_y": {
             "color": "#2a3f5f"
            },
            "marker": {
             "line": {
              "color": "#E5ECF6",
              "width": 0.5
             },
             "pattern": {
              "fillmode": "overlay",
              "size": 10,
              "solidity": 0.2
             }
            },
            "type": "bar"
           }
          ],
          "barpolar": [
           {
            "marker": {
             "line": {
              "color": "#E5ECF6",
              "width": 0.5
             },
             "pattern": {
              "fillmode": "overlay",
              "size": 10,
              "solidity": 0.2
             }
            },
            "type": "barpolar"
           }
          ],
          "carpet": [
           {
            "aaxis": {
             "endlinecolor": "#2a3f5f",
             "gridcolor": "white",
             "linecolor": "white",
             "minorgridcolor": "white",
             "startlinecolor": "#2a3f5f"
            },
            "baxis": {
             "endlinecolor": "#2a3f5f",
             "gridcolor": "white",
             "linecolor": "white",
             "minorgridcolor": "white",
             "startlinecolor": "#2a3f5f"
            },
            "type": "carpet"
           }
          ],
          "choropleth": [
           {
            "colorbar": {
             "outlinewidth": 0,
             "ticks": ""
            },
            "type": "choropleth"
           }
          ],
          "contour": [
           {
            "colorbar": {
             "outlinewidth": 0,
             "ticks": ""
            },
            "colorscale": [
             [
              0,
              "#0d0887"
             ],
             [
              0.1111111111111111,
              "#46039f"
             ],
             [
              0.2222222222222222,
              "#7201a8"
             ],
             [
              0.3333333333333333,
              "#9c179e"
             ],
             [
              0.4444444444444444,
              "#bd3786"
             ],
             [
              0.5555555555555556,
              "#d8576b"
             ],
             [
              0.6666666666666666,
              "#ed7953"
             ],
             [
              0.7777777777777778,
              "#fb9f3a"
             ],
             [
              0.8888888888888888,
              "#fdca26"
             ],
             [
              1,
              "#f0f921"
             ]
            ],
            "type": "contour"
           }
          ],
          "contourcarpet": [
           {
            "colorbar": {
             "outlinewidth": 0,
             "ticks": ""
            },
            "type": "contourcarpet"
           }
          ],
          "heatmap": [
           {
            "colorbar": {
             "outlinewidth": 0,
             "ticks": ""
            },
            "colorscale": [
             [
              0,
              "#0d0887"
             ],
             [
              0.1111111111111111,
              "#46039f"
             ],
             [
              0.2222222222222222,
              "#7201a8"
             ],
             [
              0.3333333333333333,
              "#9c179e"
             ],
             [
              0.4444444444444444,
              "#bd3786"
             ],
             [
              0.5555555555555556,
              "#d8576b"
             ],
             [
              0.6666666666666666,
              "#ed7953"
             ],
             [
              0.7777777777777778,
              "#fb9f3a"
             ],
             [
              0.8888888888888888,
              "#fdca26"
             ],
             [
              1,
              "#f0f921"
             ]
            ],
            "type": "heatmap"
           }
          ],
          "heatmapgl": [
           {
            "colorbar": {
             "outlinewidth": 0,
             "ticks": ""
            },
            "colorscale": [
             [
              0,
              "#0d0887"
             ],
             [
              0.1111111111111111,
              "#46039f"
             ],
             [
              0.2222222222222222,
              "#7201a8"
             ],
             [
              0.3333333333333333,
              "#9c179e"
             ],
             [
              0.4444444444444444,
              "#bd3786"
             ],
             [
              0.5555555555555556,
              "#d8576b"
             ],
             [
              0.6666666666666666,
              "#ed7953"
             ],
             [
              0.7777777777777778,
              "#fb9f3a"
             ],
             [
              0.8888888888888888,
              "#fdca26"
             ],
             [
              1,
              "#f0f921"
             ]
            ],
            "type": "heatmapgl"
           }
          ],
          "histogram": [
           {
            "marker": {
             "pattern": {
              "fillmode": "overlay",
              "size": 10,
              "solidity": 0.2
             }
            },
            "type": "histogram"
           }
          ],
          "histogram2d": [
           {
            "colorbar": {
             "outlinewidth": 0,
             "ticks": ""
            },
            "colorscale": [
             [
              0,
              "#0d0887"
             ],
             [
              0.1111111111111111,
              "#46039f"
             ],
             [
              0.2222222222222222,
              "#7201a8"
             ],
             [
              0.3333333333333333,
              "#9c179e"
             ],
             [
              0.4444444444444444,
              "#bd3786"
             ],
             [
              0.5555555555555556,
              "#d8576b"
             ],
             [
              0.6666666666666666,
              "#ed7953"
             ],
             [
              0.7777777777777778,
              "#fb9f3a"
             ],
             [
              0.8888888888888888,
              "#fdca26"
             ],
             [
              1,
              "#f0f921"
             ]
            ],
            "type": "histogram2d"
           }
          ],
          "histogram2dcontour": [
           {
            "colorbar": {
             "outlinewidth": 0,
             "ticks": ""
            },
            "colorscale": [
             [
              0,
              "#0d0887"
             ],
             [
              0.1111111111111111,
              "#46039f"
             ],
             [
              0.2222222222222222,
              "#7201a8"
             ],
             [
              0.3333333333333333,
              "#9c179e"
             ],
             [
              0.4444444444444444,
              "#bd3786"
             ],
             [
              0.5555555555555556,
              "#d8576b"
             ],
             [
              0.6666666666666666,
              "#ed7953"
             ],
             [
              0.7777777777777778,
              "#fb9f3a"
             ],
             [
              0.8888888888888888,
              "#fdca26"
             ],
             [
              1,
              "#f0f921"
             ]
            ],
            "type": "histogram2dcontour"
           }
          ],
          "mesh3d": [
           {
            "colorbar": {
             "outlinewidth": 0,
             "ticks": ""
            },
            "type": "mesh3d"
           }
          ],
          "parcoords": [
           {
            "line": {
             "colorbar": {
              "outlinewidth": 0,
              "ticks": ""
             }
            },
            "type": "parcoords"
           }
          ],
          "pie": [
           {
            "automargin": true,
            "type": "pie"
           }
          ],
          "scatter": [
           {
            "fillpattern": {
             "fillmode": "overlay",
             "size": 10,
             "solidity": 0.2
            },
            "type": "scatter"
           }
          ],
          "scatter3d": [
           {
            "line": {
             "colorbar": {
              "outlinewidth": 0,
              "ticks": ""
             }
            },
            "marker": {
             "colorbar": {
              "outlinewidth": 0,
              "ticks": ""
             }
            },
            "type": "scatter3d"
           }
          ],
          "scattercarpet": [
           {
            "marker": {
             "colorbar": {
              "outlinewidth": 0,
              "ticks": ""
             }
            },
            "type": "scattercarpet"
           }
          ],
          "scattergeo": [
           {
            "marker": {
             "colorbar": {
              "outlinewidth": 0,
              "ticks": ""
             }
            },
            "type": "scattergeo"
           }
          ],
          "scattergl": [
           {
            "marker": {
             "colorbar": {
              "outlinewidth": 0,
              "ticks": ""
             }
            },
            "type": "scattergl"
           }
          ],
          "scattermapbox": [
           {
            "marker": {
             "colorbar": {
              "outlinewidth": 0,
              "ticks": ""
             }
            },
            "type": "scattermapbox"
           }
          ],
          "scatterpolar": [
           {
            "marker": {
             "colorbar": {
              "outlinewidth": 0,
              "ticks": ""
             }
            },
            "type": "scatterpolar"
           }
          ],
          "scatterpolargl": [
           {
            "marker": {
             "colorbar": {
              "outlinewidth": 0,
              "ticks": ""
             }
            },
            "type": "scatterpolargl"
           }
          ],
          "scatterternary": [
           {
            "marker": {
             "colorbar": {
              "outlinewidth": 0,
              "ticks": ""
             }
            },
            "type": "scatterternary"
           }
          ],
          "surface": [
           {
            "colorbar": {
             "outlinewidth": 0,
             "ticks": ""
            },
            "colorscale": [
             [
              0,
              "#0d0887"
             ],
             [
              0.1111111111111111,
              "#46039f"
             ],
             [
              0.2222222222222222,
              "#7201a8"
             ],
             [
              0.3333333333333333,
              "#9c179e"
             ],
             [
              0.4444444444444444,
              "#bd3786"
             ],
             [
              0.5555555555555556,
              "#d8576b"
             ],
             [
              0.6666666666666666,
              "#ed7953"
             ],
             [
              0.7777777777777778,
              "#fb9f3a"
             ],
             [
              0.8888888888888888,
              "#fdca26"
             ],
             [
              1,
              "#f0f921"
             ]
            ],
            "type": "surface"
           }
          ],
          "table": [
           {
            "cells": {
             "fill": {
              "color": "#EBF0F8"
             },
             "line": {
              "color": "white"
             }
            },
            "header": {
             "fill": {
              "color": "#C8D4E3"
             },
             "line": {
              "color": "white"
             }
            },
            "type": "table"
           }
          ]
         },
         "layout": {
          "annotationdefaults": {
           "arrowcolor": "#2a3f5f",
           "arrowhead": 0,
           "arrowwidth": 1
          },
          "autotypenumbers": "strict",
          "coloraxis": {
           "colorbar": {
            "outlinewidth": 0,
            "ticks": ""
           }
          },
          "colorscale": {
           "diverging": [
            [
             0,
             "#8e0152"
            ],
            [
             0.1,
             "#c51b7d"
            ],
            [
             0.2,
             "#de77ae"
            ],
            [
             0.3,
             "#f1b6da"
            ],
            [
             0.4,
             "#fde0ef"
            ],
            [
             0.5,
             "#f7f7f7"
            ],
            [
             0.6,
             "#e6f5d0"
            ],
            [
             0.7,
             "#b8e186"
            ],
            [
             0.8,
             "#7fbc41"
            ],
            [
             0.9,
             "#4d9221"
            ],
            [
             1,
             "#276419"
            ]
           ],
           "sequential": [
            [
             0,
             "#0d0887"
            ],
            [
             0.1111111111111111,
             "#46039f"
            ],
            [
             0.2222222222222222,
             "#7201a8"
            ],
            [
             0.3333333333333333,
             "#9c179e"
            ],
            [
             0.4444444444444444,
             "#bd3786"
            ],
            [
             0.5555555555555556,
             "#d8576b"
            ],
            [
             0.6666666666666666,
             "#ed7953"
            ],
            [
             0.7777777777777778,
             "#fb9f3a"
            ],
            [
             0.8888888888888888,
             "#fdca26"
            ],
            [
             1,
             "#f0f921"
            ]
           ],
           "sequentialminus": [
            [
             0,
             "#0d0887"
            ],
            [
             0.1111111111111111,
             "#46039f"
            ],
            [
             0.2222222222222222,
             "#7201a8"
            ],
            [
             0.3333333333333333,
             "#9c179e"
            ],
            [
             0.4444444444444444,
             "#bd3786"
            ],
            [
             0.5555555555555556,
             "#d8576b"
            ],
            [
             0.6666666666666666,
             "#ed7953"
            ],
            [
             0.7777777777777778,
             "#fb9f3a"
            ],
            [
             0.8888888888888888,
             "#fdca26"
            ],
            [
             1,
             "#f0f921"
            ]
           ]
          },
          "colorway": [
           "#636efa",
           "#EF553B",
           "#00cc96",
           "#ab63fa",
           "#FFA15A",
           "#19d3f3",
           "#FF6692",
           "#B6E880",
           "#FF97FF",
           "#FECB52"
          ],
          "font": {
           "color": "#2a3f5f"
          },
          "geo": {
           "bgcolor": "white",
           "lakecolor": "white",
           "landcolor": "#E5ECF6",
           "showlakes": true,
           "showland": true,
           "subunitcolor": "white"
          },
          "hoverlabel": {
           "align": "left"
          },
          "hovermode": "closest",
          "mapbox": {
           "style": "light"
          },
          "paper_bgcolor": "white",
          "plot_bgcolor": "#E5ECF6",
          "polar": {
           "angularaxis": {
            "gridcolor": "white",
            "linecolor": "white",
            "ticks": ""
           },
           "bgcolor": "#E5ECF6",
           "radialaxis": {
            "gridcolor": "white",
            "linecolor": "white",
            "ticks": ""
           }
          },
          "scene": {
           "xaxis": {
            "backgroundcolor": "#E5ECF6",
            "gridcolor": "white",
            "gridwidth": 2,
            "linecolor": "white",
            "showbackground": true,
            "ticks": "",
            "zerolinecolor": "white"
           },
           "yaxis": {
            "backgroundcolor": "#E5ECF6",
            "gridcolor": "white",
            "gridwidth": 2,
            "linecolor": "white",
            "showbackground": true,
            "ticks": "",
            "zerolinecolor": "white"
           },
           "zaxis": {
            "backgroundcolor": "#E5ECF6",
            "gridcolor": "white",
            "gridwidth": 2,
            "linecolor": "white",
            "showbackground": true,
            "ticks": "",
            "zerolinecolor": "white"
           }
          },
          "shapedefaults": {
           "line": {
            "color": "#2a3f5f"
           }
          },
          "ternary": {
           "aaxis": {
            "gridcolor": "white",
            "linecolor": "white",
            "ticks": ""
           },
           "baxis": {
            "gridcolor": "white",
            "linecolor": "white",
            "ticks": ""
           },
           "bgcolor": "#E5ECF6",
           "caxis": {
            "gridcolor": "white",
            "linecolor": "white",
            "ticks": ""
           }
          },
          "title": {
           "x": 0.05
          },
          "xaxis": {
           "automargin": true,
           "gridcolor": "white",
           "linecolor": "white",
           "ticks": "",
           "title": {
            "standoff": 15
           },
           "zerolinecolor": "white",
           "zerolinewidth": 2
          },
          "yaxis": {
           "automargin": true,
           "gridcolor": "white",
           "linecolor": "white",
           "ticks": "",
           "title": {
            "standoff": 15
           },
           "zerolinecolor": "white",
           "zerolinewidth": 2
          }
         }
        },
        "title": {
         "font": {
          "color": "black",
          "family": "Helvetica",
          "size": 12
         },
         "text": "Number of 10s Scored on Each Apparatus Over the Years"
        },
        "updatemenus": [
         {
          "buttons": [
           {
            "args": [
             null,
             {
              "frame": {
               "duration": 500,
               "redraw": true
              },
              "fromcurrent": true,
              "mode": "immediate",
              "transition": {
               "duration": 500,
               "easing": "linear"
              }
             }
            ],
            "label": "&#9654;",
            "method": "animate"
           },
           {
            "args": [
             [
              null
             ],
             {
              "frame": {
               "duration": 0,
               "redraw": true
              },
              "fromcurrent": true,
              "mode": "immediate",
              "transition": {
               "duration": 0,
               "easing": "linear"
              }
             }
            ],
            "label": "&#9724;",
            "method": "animate"
           }
          ],
          "direction": "left",
          "pad": {
           "r": 10,
           "t": 70
          },
          "showactive": false,
          "type": "buttons",
          "x": 0.1,
          "xanchor": "right",
          "y": 0,
          "yanchor": "top"
         }
        ],
        "xaxis": {
         "anchor": "y",
         "categoryarray": [
          "Vault",
          "Uneven Bars",
          "Balance Beam",
          "Floor Exercise"
         ],
         "categoryorder": "array",
         "domain": [
          0,
          1
         ],
         "gridcolor": "#EEEEEE",
         "title": {
          "font": {
           "color": "black",
           "family": "Helvetica",
           "size": 12
          },
          "text": "Apparatus"
         }
        },
        "yaxis": {
         "anchor": "x",
         "domain": [
          0,
          1
         ],
         "gridcolor": "#EEEEEE",
         "range": [
          0,
          126
         ],
         "title": {
          "font": {
           "color": "black",
           "family": "Helvetica",
           "size": 12
          },
          "text": "No. of Tens"
         }
        }
       }
      }
     },
     "metadata": {},
     "output_type": "display_data"
    }
   ],
   "source": [
    "# Making an animated plot to show the number of 10s scored on each apparatus over the years\n",
    "\n",
    "# Sample distinct colors from the Viridis color scale\n",
    "num_colors = len(tenniest_apparatus_per_year['Apparatus'].unique())\n",
    "viridis_colors = px.colors.sample_colorscale(px.colors.sequential.Viridis, [i/num_colors for i in range(num_colors)])\n",
    "\n",
    "tenniest_apparatus_py = px.bar(tenniest_apparatus_per_year, \n",
    "                x=\"Apparatus\", \n",
    "                y=\"No. of Tens\", \n",
    "                animation_frame=\"Season\",       \n",
    "                color=\"Apparatus\", \n",
    "                hover_name=\"Apparatus\",\n",
    "                range_y=[0, tenniest_apparatus_per_year[\"No. of Tens\"].max()], # Set the y-axis range\n",
    "                color_discrete_sequence=viridis_colors,\n",
    "                opacity=0.8\n",
    "            )\n",
    "\n",
    "# Customize the layout\n",
    "tenniest_apparatus_py.update_layout(\n",
    "    title=\"Number of 10s Scored on Each Apparatus Over the Years\",\n",
    "    title_font=dict(size=12, family='Helvetica', color='black'),\n",
    "    xaxis_title=\"Apparatus\",\n",
    "    xaxis_title_font=dict(size=12, family='Helvetica', color='black'),\n",
    "    yaxis_title=\"No. of Tens\",\n",
    "    yaxis_title_font=dict(size=12, family='Helvetica', color='black'),\n",
    "    legend_title=\"Apparatus\",\n",
    "    legend_title_font=dict(size=12, family='Helvetica', color='black'),\n",
    "    font=dict(size=10, family='Helvetica', color='black'),\n",
    "    plot_bgcolor='white',  # Set plot background to white\n",
    "    paper_bgcolor='white',  # Set paper background to white\n",
    "    xaxis=dict(\n",
    "        gridcolor='#EEEEEE'  # Set x-axis grid lines to light grey\n",
    "    ),\n",
    "    yaxis=dict(\n",
    "        gridcolor='#EEEEEE'  # Set y-axis grid lines to light grey\n",
    "    ),\n",
    "    legend=dict(\n",
    "        orientation=\"h\",  #horizontal legend\n",
    "        yanchor=\"bottom\",  \n",
    "        y=-1,  \n",
    "        xanchor=\"center\",  \n",
    "        x=0.5  \n",
    "    )\n",
    ")\n",
    "# Export the plot to html file\n",
    "tenniest_apparatus_py.write_html(\"../docs/figures/tenniest_apparatus_per_year.html\")\n",
    "\n",
    "# Show the plot\n",
    "tenniest_apparatus_py"
   ]
  },
  {
   "cell_type": "markdown",
   "metadata": {},
   "source": [
    "# 2 The tenniest teams\n",
    "\n",
    "Ok, but this is a competition, isn't it? Which *teams* have been the most successful in achieving tens over the years? Has it changed over time?\n",
    "\n",
    "<!-- Intuitively, one would assume that vault would attract the fewest deductions; gymnasts are only performing one skill, so there are fewer opportunities to make mistakes.\n",
    "\n",
    "However, my anecdotal observation as a watcher of college gymnastics is that the judges in this competition are fairly lenient; hesitancy on beam or short handstands on bars might not incur the deduction they would in other leagues. However, they are quite strict on landings - that is, if a gymnast doesn't perfectly stick their landing, they will incur a deduction. Given vault's landing difficulty, does this even out the advantage of having to perform fewer skills? -->"
   ]
  },
  {
   "cell_type": "code",
   "execution_count": null,
   "metadata": {
    "vscode": {
     "languageId": "sql"
    }
   },
   "outputs": [],
   "source": [
    "%%sql --alias gymternet\n",
    "\n",
    "SELECT \n",
    "    SUM(r.vt_score = 10.0) AS 'Vault',\n",
    "    SUM(r.ub_score = 10.0) AS 'Uneven Bars',\n",
    "    SUM(r.bb_score = 10.0) AS 'Balance Beam',\n",
    "    SUM(r.fx_score = 10.0) AS 'Floor Exercise',\n",
    "    SUM(r.vt_score = 10.0) + SUM(r.ub_score = 10.0) + SUM(r.bb_score = 10.0) SUM(r.fx_score = 10.0) AS 'Total 10s'\n",
    "    g.team_id AS 'team_id',\n",
    "    t.team_name AS 'Team',\n",
    "    m.year AS 'Season'\n",
    "FROM gymnast_results AS r\n",
    "LEFT JOIN gymnasts AS g\n",
    "ON g.gymnast_id = r.gymnast_id\n",
    "LEFT JOIN teams as t\n",
    "ON t.team_id = g.team_id\n",
    "LEFT JOIN meets as m\n",
    "ON m.meet_id = r.meet_id\n",
    "GROUP BY t.team_name, r.meet_id;"
   ]
  },
  {
   "cell_type": "code",
   "execution_count": null,
   "metadata": {},
   "outputs": [],
   "source": [
    "# Export the above query to a new df\n",
    "tenniest_teams_query = \"\"\"\n",
    "SELECT \n",
    "    SUM(r.vt_score = 10.0) AS 'Vault',\n",
    "    SUM(r.ub_score = 10.0) AS 'Uneven Bars',\n",
    "    SUM(r.bb_score = 10.0) AS 'Balance Beam',\n",
    "    SUM(r.fx_score = 10.0) AS 'Floor Exercise',\n",
    "    g.team_id AS 'team_id',\n",
    "    t.team_name AS 'Team',\n",
    "    m.year AS 'Season'\n",
    "FROM gymnast_results AS r\n",
    "LEFT JOIN gymnasts AS g\n",
    "ON g.gymnast_id = r.gymnast_id\n",
    "LEFT JOIN teams as t\n",
    "ON t.team_id = g.team_id\n",
    "LEFT JOIN meets as m\n",
    "ON m.meet_id = r.meet_id\n",
    "GROUP BY t.team_name, m.year;\n",
    "\"\"\"\n",
    "\n",
    "# Execute the query and store the result in a DataFrame\n",
    "tenniest_teams_df = pd.read_sql_query(tenniest_teams_query, engine)\n",
    "\n",
    "# Preview the df\n",
    "tenniest_teams_df"
   ]
  },
  {
   "cell_type": "code",
   "execution_count": null,
   "metadata": {},
   "outputs": [],
   "source": [
    "# Let's remove the teams that have never gotten a 10\n",
    "grouped_teams_df = tenniest_teams_df.groupby(['Team']).sum().reset_index()\n",
    "\n",
    "# Any let's drop the irrelevant columns\n",
    "grouped_teams_df = grouped_teams_df.drop(columns = ['team_id', 'Season'])\n",
    "\n",
    "# Preview the new df\n",
    "grouped_teams_df.head()"
   ]
  },
  {
   "cell_type": "code",
   "execution_count": null,
   "metadata": {},
   "outputs": [],
   "source": [
    "# Create a column with total tens\n",
    "\n",
    "grouped_teams_df['total 10s'] = grouped_teams_df[['Vault', 'Uneven Bars', 'Balance Beam', 'Floor Exercise']].sum(axis=1)\n",
    "\n",
    "#Preview the df\n",
    "grouped_teams_df.head()"
   ]
  },
  {
   "cell_type": "code",
   "execution_count": null,
   "metadata": {},
   "outputs": [],
   "source": [
    "# Drop rows where total 10s == 0\n",
    "\n",
    "grouped_teams_df = grouped_teams_df[grouped_teams_df['total 10s'] != 0]\n",
    "\n",
    "# Check how many we have\n",
    "grouped_teams_df.shape"
   ]
  },
  {
   "cell_type": "code",
   "execution_count": null,
   "metadata": {},
   "outputs": [],
   "source": [
    "# Make some subset dfs for easier plotting\n",
    "\n",
    "total_tens_df = grouped_teams_df.drop(columns=['Vault', 'Uneven Bars', 'Balance Beam', 'Floor Exercise'])\n",
    "vault_queens_df = grouped_teams_df.drop(columns=['Uneven Bars', 'Balance Beam', 'Floor Exercise', 'total 10s'])\n",
    "bars_queens_df = grouped_teams_df.drop(columns=['Vault', 'Balance Beam', 'Floor Exercise', 'total 10s'])\n",
    "beam_queens_df = grouped_teams_df.drop(columns=['Vault', 'Uneven Bars', 'Floor Exercise', 'total 10s'])\n",
    "floor_queens_df = grouped_teams_df.drop(columns=['Vault', 'Uneven Bars', 'Balance Beam', 'total 10s'])"
   ]
  },
  {
   "cell_type": "code",
   "execution_count": null,
   "metadata": {},
   "outputs": [],
   "source": [
    "# A plot that shows the tenniest teams of all time\n",
    "# a plot that shows the tenniest teams over time\n",
    "\n",
    "# A plot that shows the tenniest teams across the apparatus\n",
    "# A plot that shows the tenniest teams, across the apparatus, over time"
   ]
  },
  {
   "cell_type": "markdown",
   "metadata": {},
   "source": [
    "# Ten of the top 10 GOATs of all time\n",
    "\n",
    "Do you think I'm only interested in 10s? Children focus on 10s. I'm interested in the truth. I'm interested in what matters. 10s are shiny, certainly, but any good person-who-can-do-basic-mathematics can see that a gymnast who gets a 10 one week and then a 5 the next week is not as useful as a gymnast that gets a 9.9 week after week.\n",
    "\n",
    "With this in mind, let's find the gymnasts who have the highest average scores across the apparatus and across the seasons.\n",
    "\n",
    "It's easy to do well if you never compete. For the purposes of this analysis, I am only interested in gymnasts who compete a minimum of 6 times over the course of the season (per apparatus). This will necessarily impact the data from the 2020 and 2021 seasons, which were impacted heavily by COVID restrictions."
   ]
  },
  {
   "cell_type": "code",
   "execution_count": null,
   "metadata": {},
   "outputs": [],
   "source": [
    "# Who got the highest average/median of all time\n",
    "# Who got the highest average/median each year\n",
    "\n",
    "# Which teams own the most goats?"
   ]
  }
 ],
 "metadata": {
  "kernelspec": {
   "display_name": "gymternet",
   "language": "python",
   "name": "python3"
  },
  "language_info": {
   "codemirror_mode": {
    "name": "ipython",
    "version": 3
   },
   "file_extension": ".py",
   "mimetype": "text/x-python",
   "name": "python",
   "nbconvert_exporter": "python",
   "pygments_lexer": "ipython3",
   "version": "3.12.4"
  }
 },
 "nbformat": 4,
 "nbformat_minor": 2
}
