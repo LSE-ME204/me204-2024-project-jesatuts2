{
 "cells": [
  {
   "cell_type": "markdown",
   "metadata": {},
   "source": [
    "# 1 Setting up the environment\n",
    "\n",
    "## 1.1 Requirements & packages\n",
    "\n",
    "Make sure the environment is configured as per the README file, the requirements are installed, and the relevant libraries, packages and modules are imported."
   ]
  },
  {
   "cell_type": "code",
   "execution_count": 35,
   "metadata": {},
   "outputs": [
    {
     "name": "stdout",
     "output_type": "stream",
     "text": [
      "Requirement already satisfied: lets-plot==4.3.3 in /Users/jessicahyne/opt/miniconda3/envs/gymternet/lib/python3.12/site-packages (from -r ../requirements.txt (line 1)) (4.3.3)\n",
      "Requirement already satisfied: numerize==0.12 in /Users/jessicahyne/opt/miniconda3/envs/gymternet/lib/python3.12/site-packages (from -r ../requirements.txt (line 2)) (0.12)\n",
      "Requirement already satisfied: numpy<2 in /Users/jessicahyne/opt/miniconda3/envs/gymternet/lib/python3.12/site-packages (from -r ../requirements.txt (line 3)) (1.26.4)\n",
      "Requirement already satisfied: pandas==2.2.2 in /Users/jessicahyne/opt/miniconda3/envs/gymternet/lib/python3.12/site-packages (from -r ../requirements.txt (line 4)) (2.2.2)\n",
      "Requirement already satisfied: requests==2.32.3 in /Users/jessicahyne/opt/miniconda3/envs/gymternet/lib/python3.12/site-packages (from -r ../requirements.txt (line 5)) (2.32.3)\n",
      "Requirement already satisfied: Scrapy==2.11.2 in /Users/jessicahyne/opt/miniconda3/envs/gymternet/lib/python3.12/site-packages (from -r ../requirements.txt (line 6)) (2.11.2)\n",
      "Requirement already satisfied: selenium==4.22.0 in /Users/jessicahyne/opt/miniconda3/envs/gymternet/lib/python3.12/site-packages (from -r ../requirements.txt (line 7)) (4.22.0)\n",
      "Requirement already satisfied: tqdm==4.66.4 in /Users/jessicahyne/opt/miniconda3/envs/gymternet/lib/python3.12/site-packages (from -r ../requirements.txt (line 8)) (4.66.4)\n",
      "Requirement already satisfied: ipywidgets==8.1.3 in /Users/jessicahyne/opt/miniconda3/envs/gymternet/lib/python3.12/site-packages (from -r ../requirements.txt (line 9)) (8.1.3)\n",
      "Requirement already satisfied: jupysql in /Users/jessicahyne/opt/miniconda3/envs/gymternet/lib/python3.12/site-packages (from -r ../requirements.txt (line 10)) (0.10.12)\n",
      "Requirement already satisfied: sqlalchemy in /Users/jessicahyne/opt/miniconda3/envs/gymternet/lib/python3.12/site-packages (from -r ../requirements.txt (line 11)) (2.0.31)\n",
      "Requirement already satisfied: ipython-sql in /Users/jessicahyne/opt/miniconda3/envs/gymternet/lib/python3.12/site-packages (from -r ../requirements.txt (line 12)) (0.5.0)\n",
      "Requirement already satisfied: ipykernel==6.29.5 in /Users/jessicahyne/opt/miniconda3/envs/gymternet/lib/python3.12/site-packages (from -r ../requirements.txt (line 13)) (6.29.5)\n",
      "Requirement already satisfied: ipython==8.26.0 in /Users/jessicahyne/opt/miniconda3/envs/gymternet/lib/python3.12/site-packages (from -r ../requirements.txt (line 14)) (8.26.0)\n",
      "Requirement already satisfied: plotly in /Users/jessicahyne/opt/miniconda3/envs/gymternet/lib/python3.12/site-packages (from -r ../requirements.txt (line 15)) (5.23.0)\n",
      "Requirement already satisfied: nbformat>=4.2.0 in /Users/jessicahyne/opt/miniconda3/envs/gymternet/lib/python3.12/site-packages (from -r ../requirements.txt (line 16)) (5.10.4)\n",
      "Requirement already satisfied: dash==2.17.1 in /Users/jessicahyne/opt/miniconda3/envs/gymternet/lib/python3.12/site-packages (from -r ../requirements.txt (line 17)) (2.17.1)\n",
      "Requirement already satisfied: raceplotly in /Users/jessicahyne/opt/miniconda3/envs/gymternet/lib/python3.12/site-packages (from -r ../requirements.txt (line 18)) (0.1.7)\n",
      "Requirement already satisfied: pypng in /Users/jessicahyne/opt/miniconda3/envs/gymternet/lib/python3.12/site-packages (from lets-plot==4.3.3->-r ../requirements.txt (line 1)) (0.20220715.0)\n",
      "Requirement already satisfied: palettable in /Users/jessicahyne/opt/miniconda3/envs/gymternet/lib/python3.12/site-packages (from lets-plot==4.3.3->-r ../requirements.txt (line 1)) (3.3.3)\n",
      "Requirement already satisfied: python-dateutil>=2.8.2 in /Users/jessicahyne/opt/miniconda3/envs/gymternet/lib/python3.12/site-packages (from pandas==2.2.2->-r ../requirements.txt (line 4)) (2.9.0)\n",
      "Requirement already satisfied: pytz>=2020.1 in /Users/jessicahyne/opt/miniconda3/envs/gymternet/lib/python3.12/site-packages (from pandas==2.2.2->-r ../requirements.txt (line 4)) (2024.1)\n",
      "Requirement already satisfied: tzdata>=2022.7 in /Users/jessicahyne/opt/miniconda3/envs/gymternet/lib/python3.12/site-packages (from pandas==2.2.2->-r ../requirements.txt (line 4)) (2024.1)\n",
      "Requirement already satisfied: charset-normalizer<4,>=2 in /Users/jessicahyne/opt/miniconda3/envs/gymternet/lib/python3.12/site-packages (from requests==2.32.3->-r ../requirements.txt (line 5)) (3.3.2)\n",
      "Requirement already satisfied: idna<4,>=2.5 in /Users/jessicahyne/opt/miniconda3/envs/gymternet/lib/python3.12/site-packages (from requests==2.32.3->-r ../requirements.txt (line 5)) (3.7)\n",
      "Requirement already satisfied: urllib3<3,>=1.21.1 in /Users/jessicahyne/opt/miniconda3/envs/gymternet/lib/python3.12/site-packages (from requests==2.32.3->-r ../requirements.txt (line 5)) (2.2.2)\n",
      "Requirement already satisfied: certifi>=2017.4.17 in /Users/jessicahyne/opt/miniconda3/envs/gymternet/lib/python3.12/site-packages (from requests==2.32.3->-r ../requirements.txt (line 5)) (2024.7.4)\n",
      "Requirement already satisfied: Twisted>=18.9.0 in /Users/jessicahyne/opt/miniconda3/envs/gymternet/lib/python3.12/site-packages (from Scrapy==2.11.2->-r ../requirements.txt (line 6)) (24.3.0)\n",
      "Requirement already satisfied: cryptography>=36.0.0 in /Users/jessicahyne/opt/miniconda3/envs/gymternet/lib/python3.12/site-packages (from Scrapy==2.11.2->-r ../requirements.txt (line 6)) (43.0.0)\n",
      "Requirement already satisfied: cssselect>=0.9.1 in /Users/jessicahyne/opt/miniconda3/envs/gymternet/lib/python3.12/site-packages (from Scrapy==2.11.2->-r ../requirements.txt (line 6)) (1.2.0)\n",
      "Requirement already satisfied: itemloaders>=1.0.1 in /Users/jessicahyne/opt/miniconda3/envs/gymternet/lib/python3.12/site-packages (from Scrapy==2.11.2->-r ../requirements.txt (line 6)) (1.3.1)\n",
      "Requirement already satisfied: parsel>=1.5.0 in /Users/jessicahyne/opt/miniconda3/envs/gymternet/lib/python3.12/site-packages (from Scrapy==2.11.2->-r ../requirements.txt (line 6)) (1.9.1)\n",
      "Requirement already satisfied: pyOpenSSL>=21.0.0 in /Users/jessicahyne/opt/miniconda3/envs/gymternet/lib/python3.12/site-packages (from Scrapy==2.11.2->-r ../requirements.txt (line 6)) (24.2.1)\n",
      "Requirement already satisfied: queuelib>=1.4.2 in /Users/jessicahyne/opt/miniconda3/envs/gymternet/lib/python3.12/site-packages (from Scrapy==2.11.2->-r ../requirements.txt (line 6)) (1.7.0)\n",
      "Requirement already satisfied: service-identity>=18.1.0 in /Users/jessicahyne/opt/miniconda3/envs/gymternet/lib/python3.12/site-packages (from Scrapy==2.11.2->-r ../requirements.txt (line 6)) (24.1.0)\n",
      "Requirement already satisfied: w3lib>=1.17.0 in /Users/jessicahyne/opt/miniconda3/envs/gymternet/lib/python3.12/site-packages (from Scrapy==2.11.2->-r ../requirements.txt (line 6)) (2.2.1)\n",
      "Requirement already satisfied: zope.interface>=5.1.0 in /Users/jessicahyne/opt/miniconda3/envs/gymternet/lib/python3.12/site-packages (from Scrapy==2.11.2->-r ../requirements.txt (line 6)) (6.4.post2)\n",
      "Requirement already satisfied: protego>=0.1.15 in /Users/jessicahyne/opt/miniconda3/envs/gymternet/lib/python3.12/site-packages (from Scrapy==2.11.2->-r ../requirements.txt (line 6)) (0.3.1)\n",
      "Requirement already satisfied: itemadapter>=0.1.0 in /Users/jessicahyne/opt/miniconda3/envs/gymternet/lib/python3.12/site-packages (from Scrapy==2.11.2->-r ../requirements.txt (line 6)) (0.9.0)\n",
      "Requirement already satisfied: setuptools in /Users/jessicahyne/opt/miniconda3/envs/gymternet/lib/python3.12/site-packages (from Scrapy==2.11.2->-r ../requirements.txt (line 6)) (71.0.4)\n",
      "Requirement already satisfied: packaging in /Users/jessicahyne/opt/miniconda3/envs/gymternet/lib/python3.12/site-packages (from Scrapy==2.11.2->-r ../requirements.txt (line 6)) (24.1)\n",
      "Requirement already satisfied: tldextract in /Users/jessicahyne/opt/miniconda3/envs/gymternet/lib/python3.12/site-packages (from Scrapy==2.11.2->-r ../requirements.txt (line 6)) (5.1.2)\n",
      "Requirement already satisfied: lxml>=4.4.1 in /Users/jessicahyne/opt/miniconda3/envs/gymternet/lib/python3.12/site-packages (from Scrapy==2.11.2->-r ../requirements.txt (line 6)) (5.2.2)\n",
      "Requirement already satisfied: defusedxml>=0.7.1 in /Users/jessicahyne/opt/miniconda3/envs/gymternet/lib/python3.12/site-packages (from Scrapy==2.11.2->-r ../requirements.txt (line 6)) (0.7.1)\n",
      "Requirement already satisfied: PyDispatcher>=2.0.5 in /Users/jessicahyne/opt/miniconda3/envs/gymternet/lib/python3.12/site-packages (from Scrapy==2.11.2->-r ../requirements.txt (line 6)) (2.0.7)\n",
      "Requirement already satisfied: trio~=0.17 in /Users/jessicahyne/opt/miniconda3/envs/gymternet/lib/python3.12/site-packages (from selenium==4.22.0->-r ../requirements.txt (line 7)) (0.26.0)\n",
      "Requirement already satisfied: trio-websocket~=0.9 in /Users/jessicahyne/opt/miniconda3/envs/gymternet/lib/python3.12/site-packages (from selenium==4.22.0->-r ../requirements.txt (line 7)) (0.11.1)\n",
      "Requirement already satisfied: typing_extensions>=4.9.0 in /Users/jessicahyne/opt/miniconda3/envs/gymternet/lib/python3.12/site-packages (from selenium==4.22.0->-r ../requirements.txt (line 7)) (4.12.2)\n",
      "Requirement already satisfied: websocket-client>=1.8.0 in /Users/jessicahyne/opt/miniconda3/envs/gymternet/lib/python3.12/site-packages (from selenium==4.22.0->-r ../requirements.txt (line 7)) (1.8.0)\n",
      "Requirement already satisfied: comm>=0.1.3 in /Users/jessicahyne/opt/miniconda3/envs/gymternet/lib/python3.12/site-packages (from ipywidgets==8.1.3->-r ../requirements.txt (line 9)) (0.2.2)\n",
      "Requirement already satisfied: traitlets>=4.3.1 in /Users/jessicahyne/opt/miniconda3/envs/gymternet/lib/python3.12/site-packages (from ipywidgets==8.1.3->-r ../requirements.txt (line 9)) (5.14.3)\n",
      "Requirement already satisfied: widgetsnbextension~=4.0.11 in /Users/jessicahyne/opt/miniconda3/envs/gymternet/lib/python3.12/site-packages (from ipywidgets==8.1.3->-r ../requirements.txt (line 9)) (4.0.11)\n",
      "Requirement already satisfied: jupyterlab-widgets~=3.0.11 in /Users/jessicahyne/opt/miniconda3/envs/gymternet/lib/python3.12/site-packages (from ipywidgets==8.1.3->-r ../requirements.txt (line 9)) (3.0.11)\n",
      "Requirement already satisfied: appnope in /Users/jessicahyne/opt/miniconda3/envs/gymternet/lib/python3.12/site-packages (from ipykernel==6.29.5->-r ../requirements.txt (line 13)) (0.1.4)\n",
      "Requirement already satisfied: debugpy>=1.6.5 in /Users/jessicahyne/opt/miniconda3/envs/gymternet/lib/python3.12/site-packages (from ipykernel==6.29.5->-r ../requirements.txt (line 13)) (1.8.2)\n",
      "Requirement already satisfied: jupyter-client>=6.1.12 in /Users/jessicahyne/opt/miniconda3/envs/gymternet/lib/python3.12/site-packages (from ipykernel==6.29.5->-r ../requirements.txt (line 13)) (8.6.2)\n",
      "Requirement already satisfied: jupyter-core!=5.0.*,>=4.12 in /Users/jessicahyne/opt/miniconda3/envs/gymternet/lib/python3.12/site-packages (from ipykernel==6.29.5->-r ../requirements.txt (line 13)) (5.7.2)\n",
      "Requirement already satisfied: matplotlib-inline>=0.1 in /Users/jessicahyne/opt/miniconda3/envs/gymternet/lib/python3.12/site-packages (from ipykernel==6.29.5->-r ../requirements.txt (line 13)) (0.1.7)\n",
      "Requirement already satisfied: nest-asyncio in /Users/jessicahyne/opt/miniconda3/envs/gymternet/lib/python3.12/site-packages (from ipykernel==6.29.5->-r ../requirements.txt (line 13)) (1.6.0)\n",
      "Requirement already satisfied: psutil in /Users/jessicahyne/opt/miniconda3/envs/gymternet/lib/python3.12/site-packages (from ipykernel==6.29.5->-r ../requirements.txt (line 13)) (6.0.0)\n",
      "Requirement already satisfied: pyzmq>=24 in /Users/jessicahyne/opt/miniconda3/envs/gymternet/lib/python3.12/site-packages (from ipykernel==6.29.5->-r ../requirements.txt (line 13)) (26.0.3)\n",
      "Requirement already satisfied: tornado>=6.1 in /Users/jessicahyne/opt/miniconda3/envs/gymternet/lib/python3.12/site-packages (from ipykernel==6.29.5->-r ../requirements.txt (line 13)) (6.4.1)\n",
      "Requirement already satisfied: decorator in /Users/jessicahyne/opt/miniconda3/envs/gymternet/lib/python3.12/site-packages (from ipython==8.26.0->-r ../requirements.txt (line 14)) (5.1.1)\n",
      "Requirement already satisfied: jedi>=0.16 in /Users/jessicahyne/opt/miniconda3/envs/gymternet/lib/python3.12/site-packages (from ipython==8.26.0->-r ../requirements.txt (line 14)) (0.19.1)\n",
      "Requirement already satisfied: prompt-toolkit<3.1.0,>=3.0.41 in /Users/jessicahyne/opt/miniconda3/envs/gymternet/lib/python3.12/site-packages (from ipython==8.26.0->-r ../requirements.txt (line 14)) (3.0.47)\n",
      "Requirement already satisfied: pygments>=2.4.0 in /Users/jessicahyne/opt/miniconda3/envs/gymternet/lib/python3.12/site-packages (from ipython==8.26.0->-r ../requirements.txt (line 14)) (2.18.0)\n",
      "Requirement already satisfied: stack-data in /Users/jessicahyne/opt/miniconda3/envs/gymternet/lib/python3.12/site-packages (from ipython==8.26.0->-r ../requirements.txt (line 14)) (0.6.2)\n",
      "Requirement already satisfied: pexpect>4.3 in /Users/jessicahyne/opt/miniconda3/envs/gymternet/lib/python3.12/site-packages (from ipython==8.26.0->-r ../requirements.txt (line 14)) (4.9.0)\n",
      "Requirement already satisfied: Flask<3.1,>=1.0.4 in /Users/jessicahyne/opt/miniconda3/envs/gymternet/lib/python3.12/site-packages (from dash==2.17.1->-r ../requirements.txt (line 17)) (3.0.3)\n",
      "Requirement already satisfied: Werkzeug<3.1 in /Users/jessicahyne/opt/miniconda3/envs/gymternet/lib/python3.12/site-packages (from dash==2.17.1->-r ../requirements.txt (line 17)) (3.0.3)\n",
      "Requirement already satisfied: dash-html-components==2.0.0 in /Users/jessicahyne/opt/miniconda3/envs/gymternet/lib/python3.12/site-packages (from dash==2.17.1->-r ../requirements.txt (line 17)) (2.0.0)\n",
      "Requirement already satisfied: dash-core-components==2.0.0 in /Users/jessicahyne/opt/miniconda3/envs/gymternet/lib/python3.12/site-packages (from dash==2.17.1->-r ../requirements.txt (line 17)) (2.0.0)\n",
      "Requirement already satisfied: dash-table==5.0.0 in /Users/jessicahyne/opt/miniconda3/envs/gymternet/lib/python3.12/site-packages (from dash==2.17.1->-r ../requirements.txt (line 17)) (5.0.0)\n",
      "Requirement already satisfied: importlib-metadata in /Users/jessicahyne/opt/miniconda3/envs/gymternet/lib/python3.12/site-packages (from dash==2.17.1->-r ../requirements.txt (line 17)) (8.2.0)\n",
      "Requirement already satisfied: retrying in /Users/jessicahyne/opt/miniconda3/envs/gymternet/lib/python3.12/site-packages (from dash==2.17.1->-r ../requirements.txt (line 17)) (1.3.4)\n",
      "Requirement already satisfied: prettytable in /Users/jessicahyne/opt/miniconda3/envs/gymternet/lib/python3.12/site-packages (from jupysql->-r ../requirements.txt (line 10)) (3.10.2)\n",
      "Requirement already satisfied: sqlparse in /Users/jessicahyne/opt/miniconda3/envs/gymternet/lib/python3.12/site-packages (from jupysql->-r ../requirements.txt (line 10)) (0.5.1)\n",
      "Requirement already satisfied: ipython-genutils>=0.1.0 in /Users/jessicahyne/opt/miniconda3/envs/gymternet/lib/python3.12/site-packages (from jupysql->-r ../requirements.txt (line 10)) (0.2.0)\n",
      "Requirement already satisfied: jinja2 in /Users/jessicahyne/opt/miniconda3/envs/gymternet/lib/python3.12/site-packages (from jupysql->-r ../requirements.txt (line 10)) (3.1.4)\n",
      "Requirement already satisfied: sqlglot>=11.3.7 in /Users/jessicahyne/opt/miniconda3/envs/gymternet/lib/python3.12/site-packages (from jupysql->-r ../requirements.txt (line 10)) (25.7.1)\n",
      "Requirement already satisfied: jupysql-plugin>=0.4.2 in /Users/jessicahyne/opt/miniconda3/envs/gymternet/lib/python3.12/site-packages (from jupysql->-r ../requirements.txt (line 10)) (0.4.4)\n",
      "Requirement already satisfied: ploomber-core>=0.2.7 in /Users/jessicahyne/opt/miniconda3/envs/gymternet/lib/python3.12/site-packages (from jupysql->-r ../requirements.txt (line 10)) (0.2.25)\n",
      "Requirement already satisfied: ploomber-extension in /Users/jessicahyne/opt/miniconda3/envs/gymternet/lib/python3.12/site-packages (from jupysql->-r ../requirements.txt (line 10)) (0.1.1)\n",
      "Requirement already satisfied: greenlet!=0.4.17 in /Users/jessicahyne/opt/miniconda3/envs/gymternet/lib/python3.12/site-packages (from sqlalchemy->-r ../requirements.txt (line 11)) (3.0.3)\n",
      "Requirement already satisfied: six in /Users/jessicahyne/opt/miniconda3/envs/gymternet/lib/python3.12/site-packages (from ipython-sql->-r ../requirements.txt (line 12)) (1.16.0)\n",
      "Requirement already satisfied: tenacity>=6.2.0 in /Users/jessicahyne/opt/miniconda3/envs/gymternet/lib/python3.12/site-packages (from plotly->-r ../requirements.txt (line 15)) (8.5.0)\n",
      "Requirement already satisfied: fastjsonschema>=2.15 in /Users/jessicahyne/opt/miniconda3/envs/gymternet/lib/python3.12/site-packages (from nbformat>=4.2.0->-r ../requirements.txt (line 16)) (2.20.0)\n",
      "Requirement already satisfied: jsonschema>=2.6 in /Users/jessicahyne/opt/miniconda3/envs/gymternet/lib/python3.12/site-packages (from nbformat>=4.2.0->-r ../requirements.txt (line 16)) (4.23.0)\n",
      "Requirement already satisfied: cffi>=1.12 in /Users/jessicahyne/opt/miniconda3/envs/gymternet/lib/python3.12/site-packages (from cryptography>=36.0.0->Scrapy==2.11.2->-r ../requirements.txt (line 6)) (1.16.0)\n",
      "Requirement already satisfied: itsdangerous>=2.1.2 in /Users/jessicahyne/opt/miniconda3/envs/gymternet/lib/python3.12/site-packages (from Flask<3.1,>=1.0.4->dash==2.17.1->-r ../requirements.txt (line 17)) (2.2.0)\n",
      "Requirement already satisfied: click>=8.1.3 in /Users/jessicahyne/opt/miniconda3/envs/gymternet/lib/python3.12/site-packages (from Flask<3.1,>=1.0.4->dash==2.17.1->-r ../requirements.txt (line 17)) (8.1.7)\n",
      "Requirement already satisfied: blinker>=1.6.2 in /Users/jessicahyne/opt/miniconda3/envs/gymternet/lib/python3.12/site-packages (from Flask<3.1,>=1.0.4->dash==2.17.1->-r ../requirements.txt (line 17)) (1.8.2)\n",
      "Requirement already satisfied: jmespath>=0.9.5 in /Users/jessicahyne/opt/miniconda3/envs/gymternet/lib/python3.12/site-packages (from itemloaders>=1.0.1->Scrapy==2.11.2->-r ../requirements.txt (line 6)) (1.0.1)\n",
      "Requirement already satisfied: parso<0.9.0,>=0.8.3 in /Users/jessicahyne/opt/miniconda3/envs/gymternet/lib/python3.12/site-packages (from jedi>=0.16->ipython==8.26.0->-r ../requirements.txt (line 14)) (0.8.4)\n",
      "Requirement already satisfied: MarkupSafe>=2.0 in /Users/jessicahyne/opt/miniconda3/envs/gymternet/lib/python3.12/site-packages (from jinja2->jupysql->-r ../requirements.txt (line 10)) (2.1.5)\n",
      "Requirement already satisfied: attrs>=22.2.0 in /Users/jessicahyne/opt/miniconda3/envs/gymternet/lib/python3.12/site-packages (from jsonschema>=2.6->nbformat>=4.2.0->-r ../requirements.txt (line 16)) (23.2.0)\n",
      "Requirement already satisfied: jsonschema-specifications>=2023.03.6 in /Users/jessicahyne/opt/miniconda3/envs/gymternet/lib/python3.12/site-packages (from jsonschema>=2.6->nbformat>=4.2.0->-r ../requirements.txt (line 16)) (2023.12.1)\n",
      "Requirement already satisfied: referencing>=0.28.4 in /Users/jessicahyne/opt/miniconda3/envs/gymternet/lib/python3.12/site-packages (from jsonschema>=2.6->nbformat>=4.2.0->-r ../requirements.txt (line 16)) (0.35.1)\n",
      "Requirement already satisfied: rpds-py>=0.7.1 in /Users/jessicahyne/opt/miniconda3/envs/gymternet/lib/python3.12/site-packages (from jsonschema>=2.6->nbformat>=4.2.0->-r ../requirements.txt (line 16)) (0.19.1)\n",
      "Requirement already satisfied: platformdirs>=2.5 in /Users/jessicahyne/opt/miniconda3/envs/gymternet/lib/python3.12/site-packages (from jupyter-core!=5.0.*,>=4.12->ipykernel==6.29.5->-r ../requirements.txt (line 13)) (4.2.2)\n",
      "Requirement already satisfied: ptyprocess>=0.5 in /Users/jessicahyne/opt/miniconda3/envs/gymternet/lib/python3.12/site-packages (from pexpect>4.3->ipython==8.26.0->-r ../requirements.txt (line 14)) (0.7.0)\n",
      "Requirement already satisfied: pyyaml in /Users/jessicahyne/opt/miniconda3/envs/gymternet/lib/python3.12/site-packages (from ploomber-core>=0.2.7->jupysql->-r ../requirements.txt (line 10)) (6.0.1)\n",
      "Requirement already satisfied: posthog in /Users/jessicahyne/opt/miniconda3/envs/gymternet/lib/python3.12/site-packages (from ploomber-core>=0.2.7->jupysql->-r ../requirements.txt (line 10)) (3.5.0)\n",
      "Requirement already satisfied: wcwidth in /Users/jessicahyne/opt/miniconda3/envs/gymternet/lib/python3.12/site-packages (from prompt-toolkit<3.1.0,>=3.0.41->ipython==8.26.0->-r ../requirements.txt (line 14)) (0.2.13)\n",
      "Requirement already satisfied: pyasn1 in /Users/jessicahyne/opt/miniconda3/envs/gymternet/lib/python3.12/site-packages (from service-identity>=18.1.0->Scrapy==2.11.2->-r ../requirements.txt (line 6)) (0.6.0)\n",
      "Requirement already satisfied: pyasn1-modules in /Users/jessicahyne/opt/miniconda3/envs/gymternet/lib/python3.12/site-packages (from service-identity>=18.1.0->Scrapy==2.11.2->-r ../requirements.txt (line 6)) (0.4.0)\n",
      "Requirement already satisfied: sortedcontainers in /Users/jessicahyne/opt/miniconda3/envs/gymternet/lib/python3.12/site-packages (from trio~=0.17->selenium==4.22.0->-r ../requirements.txt (line 7)) (2.4.0)\n",
      "Requirement already satisfied: outcome in /Users/jessicahyne/opt/miniconda3/envs/gymternet/lib/python3.12/site-packages (from trio~=0.17->selenium==4.22.0->-r ../requirements.txt (line 7)) (1.3.0.post0)\n",
      "Requirement already satisfied: sniffio>=1.3.0 in /Users/jessicahyne/opt/miniconda3/envs/gymternet/lib/python3.12/site-packages (from trio~=0.17->selenium==4.22.0->-r ../requirements.txt (line 7)) (1.3.1)\n",
      "Requirement already satisfied: wsproto>=0.14 in /Users/jessicahyne/opt/miniconda3/envs/gymternet/lib/python3.12/site-packages (from trio-websocket~=0.9->selenium==4.22.0->-r ../requirements.txt (line 7)) (1.2.0)\n",
      "Requirement already satisfied: automat>=0.8.0 in /Users/jessicahyne/opt/miniconda3/envs/gymternet/lib/python3.12/site-packages (from Twisted>=18.9.0->Scrapy==2.11.2->-r ../requirements.txt (line 6)) (22.10.0)\n",
      "Requirement already satisfied: constantly>=15.1 in /Users/jessicahyne/opt/miniconda3/envs/gymternet/lib/python3.12/site-packages (from Twisted>=18.9.0->Scrapy==2.11.2->-r ../requirements.txt (line 6)) (23.10.4)\n",
      "Requirement already satisfied: hyperlink>=17.1.1 in /Users/jessicahyne/opt/miniconda3/envs/gymternet/lib/python3.12/site-packages (from Twisted>=18.9.0->Scrapy==2.11.2->-r ../requirements.txt (line 6)) (21.0.0)\n",
      "Requirement already satisfied: incremental>=22.10.0 in /Users/jessicahyne/opt/miniconda3/envs/gymternet/lib/python3.12/site-packages (from Twisted>=18.9.0->Scrapy==2.11.2->-r ../requirements.txt (line 6)) (24.7.0)\n",
      "Requirement already satisfied: pysocks!=1.5.7,<2.0,>=1.5.6 in /Users/jessicahyne/opt/miniconda3/envs/gymternet/lib/python3.12/site-packages (from urllib3[socks]<3,>=1.26->selenium==4.22.0->-r ../requirements.txt (line 7)) (1.7.1)\n",
      "Requirement already satisfied: zipp>=0.5 in /Users/jessicahyne/opt/miniconda3/envs/gymternet/lib/python3.12/site-packages (from importlib-metadata->dash==2.17.1->-r ../requirements.txt (line 17)) (3.19.2)\n",
      "Requirement already satisfied: executing>=1.2.0 in /Users/jessicahyne/opt/miniconda3/envs/gymternet/lib/python3.12/site-packages (from stack-data->ipython==8.26.0->-r ../requirements.txt (line 14)) (2.0.1)\n",
      "Requirement already satisfied: asttokens>=2.1.0 in /Users/jessicahyne/opt/miniconda3/envs/gymternet/lib/python3.12/site-packages (from stack-data->ipython==8.26.0->-r ../requirements.txt (line 14)) (2.4.1)\n",
      "Requirement already satisfied: pure-eval in /Users/jessicahyne/opt/miniconda3/envs/gymternet/lib/python3.12/site-packages (from stack-data->ipython==8.26.0->-r ../requirements.txt (line 14)) (0.2.3)\n",
      "Requirement already satisfied: requests-file>=1.4 in /Users/jessicahyne/opt/miniconda3/envs/gymternet/lib/python3.12/site-packages (from tldextract->Scrapy==2.11.2->-r ../requirements.txt (line 6)) (2.1.0)\n",
      "Requirement already satisfied: filelock>=3.0.8 in /Users/jessicahyne/opt/miniconda3/envs/gymternet/lib/python3.12/site-packages (from tldextract->Scrapy==2.11.2->-r ../requirements.txt (line 6)) (3.15.4)\n",
      "Requirement already satisfied: pycparser in /Users/jessicahyne/opt/miniconda3/envs/gymternet/lib/python3.12/site-packages (from cffi>=1.12->cryptography>=36.0.0->Scrapy==2.11.2->-r ../requirements.txt (line 6)) (2.22)\n",
      "Requirement already satisfied: h11<1,>=0.9.0 in /Users/jessicahyne/opt/miniconda3/envs/gymternet/lib/python3.12/site-packages (from wsproto>=0.14->trio-websocket~=0.9->selenium==4.22.0->-r ../requirements.txt (line 7)) (0.14.0)\n",
      "Requirement already satisfied: monotonic>=1.5 in /Users/jessicahyne/opt/miniconda3/envs/gymternet/lib/python3.12/site-packages (from posthog->ploomber-core>=0.2.7->jupysql->-r ../requirements.txt (line 10)) (1.6)\n",
      "Requirement already satisfied: backoff>=1.10.0 in /Users/jessicahyne/opt/miniconda3/envs/gymternet/lib/python3.12/site-packages (from posthog->ploomber-core>=0.2.7->jupysql->-r ../requirements.txt (line 10)) (2.2.1)\n"
     ]
    }
   ],
   "source": [
    "!pip install -r ../requirements.txt"
   ]
  },
  {
   "cell_type": "code",
   "execution_count": 36,
   "metadata": {},
   "outputs": [
    {
     "data": {
      "text/html": [
       "\n",
       "            <div id=\"hTjpxq\"></div>\n",
       "            <script type=\"text/javascript\" data-lets-plot-script=\"library\">\n",
       "                if(!window.letsPlotCallQueue) {\n",
       "                    window.letsPlotCallQueue = [];\n",
       "                }; \n",
       "                window.letsPlotCall = function(f) {\n",
       "                    window.letsPlotCallQueue.push(f);\n",
       "                };\n",
       "                (function() {\n",
       "                    var script = document.createElement(\"script\");\n",
       "                    script.type = \"text/javascript\";\n",
       "                    script.src = \"https://cdn.jsdelivr.net/gh/JetBrains/lets-plot@v4.3.3/js-package/distr/lets-plot.min.js\";\n",
       "                    script.onload = function() {\n",
       "                        window.letsPlotCall = function(f) {f();};\n",
       "                        window.letsPlotCallQueue.forEach(function(f) {f();});\n",
       "                        window.letsPlotCallQueue = [];\n",
       "                        \n",
       "                    };\n",
       "                    script.onerror = function(event) {\n",
       "                        window.letsPlotCall = function(f) {};    // noop\n",
       "                        window.letsPlotCallQueue = [];\n",
       "                        var div = document.createElement(\"div\");\n",
       "                        div.style.color = 'darkred';\n",
       "                        div.textContent = 'Error loading Lets-Plot JS';\n",
       "                        document.getElementById(\"hTjpxq\").appendChild(div);\n",
       "                    };\n",
       "                    var e = document.getElementById(\"hTjpxq\");\n",
       "                    e.appendChild(script);\n",
       "                })()\n",
       "            </script>\n",
       "            "
      ]
     },
     "metadata": {},
     "output_type": "display_data"
    }
   ],
   "source": [
    "import os\n",
    "import json\n",
    "import requests\n",
    "import sqlite3\n",
    "\n",
    "import numpy as np\n",
    "import pandas as pd \n",
    "from sqlalchemy import create_engine\n",
    "from lets_plot import * # This imports all of ggplot2's functions\n",
    "LetsPlot.setup_html()\n",
    "import plotly.express as px\n",
    "import dash\n",
    "from dash import dcc, html\n",
    "from dash.dependencies import Input, Output\n",
    "from raceplotly.plots import barplot\n",
    "\n",
    "from pprint import pprint"
   ]
  },
  {
   "cell_type": "markdown",
   "metadata": {},
   "source": [
    "## 1.2 Connect to the gymternet database"
   ]
  },
  {
   "cell_type": "code",
   "execution_count": 37,
   "metadata": {},
   "outputs": [
    {
     "name": "stdout",
     "output_type": "stream",
     "text": [
      "The sql extension is already loaded. To reload it, use:\n",
      "  %reload_ext sql\n"
     ]
    }
   ],
   "source": [
    "%load_ext sql\n",
    "%config SqlMagic.autocommit=True"
   ]
  },
  {
   "cell_type": "code",
   "execution_count": 38,
   "metadata": {
    "vscode": {
     "languageId": "sql"
    }
   },
   "outputs": [
    {
     "data": {
      "text/html": [
       "<span style=\"None\">Connecting to &#x27;gymternet&#x27;</span>"
      ],
      "text/plain": [
       "Connecting to 'gymternet'"
      ]
     },
     "metadata": {},
     "output_type": "display_data"
    }
   ],
   "source": [
    "%sql sqlite:///../data/clean/gymternet.db --alias gymternet \n",
    "engine = create_engine('sqlite:///../data/clean/gymternet.db')"
   ]
  },
  {
   "cell_type": "markdown",
   "metadata": {},
   "source": [
    "--------\n",
    "# 3 EXTRA CREDIT WORK\n",
    "## 3.1 Ten of the top 10 GOATs of all time\n",
    "\n",
    "Do you think I'm only interested in 10s? Children focus on 10s. I'm interested in the truth. I'm interested in what matters. 10s are shiny, certainly, but any good person-who-can-do-basic-mathematics can see that a gymnast who gets a 10 one week and then a 5 the next week is not as useful as a gymnast that gets a 9.9 week after week.\n",
    "\n",
    "With this in mind, let's find the gymnasts who have the highest average scores across the apparatus and across the seasons.\n",
    "\n",
    "It's easy to do well if you never compete. For the purposes of this analysis, I am only interested in gymnasts who compete a minimum of 6 times over the course of the season (per apparatus). This will necessarily impact the data from the 2020 and 2021 seasons, which were impacted heavily by COVID restrictions.\n",
    "\n",
    "### 3.1.1 Retrieve the data from the database\n",
    "\n",
    "Getting the averages is straightforward enough!"
   ]
  },
  {
   "cell_type": "code",
   "execution_count": 56,
   "metadata": {
    "vscode": {
     "languageId": "sql"
    }
   },
   "outputs": [
    {
     "data": {
      "text/html": [
       "<span style=\"None\">Running query in &#x27;gymternet&#x27;</span>"
      ],
      "text/plain": [
       "Running query in 'gymternet'"
      ]
     },
     "metadata": {},
     "output_type": "display_data"
    },
    {
     "data": {
      "text/html": [
       "<table>\n",
       "    <thead>\n",
       "        <tr>\n",
       "            <th>Gymnast ID</th>\n",
       "            <th>First Name</th>\n",
       "            <th>Last Name</th>\n",
       "            <th>Team</th>\n",
       "            <th>Vault</th>\n",
       "            <th>VT Count</th>\n",
       "            <th>Uneven Bars</th>\n",
       "            <th>UB Count</th>\n",
       "            <th>Balance Beam</th>\n",
       "            <th>BB Count</th>\n",
       "            <th>Floor Exercise</th>\n",
       "            <th>FX Count</th>\n",
       "            <th>All Around</th>\n",
       "            <th>AA Count</th>\n",
       "            <th>Season</th>\n",
       "        </tr>\n",
       "    </thead>\n",
       "    <tbody>\n",
       "        <tr>\n",
       "            <td>249</td>\n",
       "            <td>Kristina</td>\n",
       "            <td>Heymann</td>\n",
       "            <td>California</td>\n",
       "            <td>9.829166666666666</td>\n",
       "            <td>12</td>\n",
       "            <td>None</td>\n",
       "            <td>0</td>\n",
       "            <td>None</td>\n",
       "            <td>0</td>\n",
       "            <td>None</td>\n",
       "            <td>0</td>\n",
       "            <td>None</td>\n",
       "            <td>0</td>\n",
       "            <td>2015</td>\n",
       "        </tr>\n",
       "        <tr>\n",
       "            <td>251</td>\n",
       "            <td>Serena</td>\n",
       "            <td>Leong</td>\n",
       "            <td>California</td>\n",
       "            <td>9.839285714285714</td>\n",
       "            <td>7</td>\n",
       "            <td>None</td>\n",
       "            <td>0</td>\n",
       "            <td>9.62857142857143</td>\n",
       "            <td>7</td>\n",
       "            <td>9.65</td>\n",
       "            <td>7</td>\n",
       "            <td>None</td>\n",
       "            <td>0</td>\n",
       "            <td>2015</td>\n",
       "        </tr>\n",
       "        <tr>\n",
       "            <td>251</td>\n",
       "            <td>Serena</td>\n",
       "            <td>Leong</td>\n",
       "            <td>California</td>\n",
       "            <td>9.7625</td>\n",
       "            <td>8</td>\n",
       "            <td>None</td>\n",
       "            <td>0</td>\n",
       "            <td>None</td>\n",
       "            <td>0</td>\n",
       "            <td>9.771875</td>\n",
       "            <td>8</td>\n",
       "            <td>None</td>\n",
       "            <td>0</td>\n",
       "            <td>2016</td>\n",
       "        </tr>\n",
       "        <tr>\n",
       "            <td>258</td>\n",
       "            <td>Jordan</td>\n",
       "            <td>Widener</td>\n",
       "            <td>California</td>\n",
       "            <td>None</td>\n",
       "            <td>0</td>\n",
       "            <td>9.762162162162161</td>\n",
       "            <td>37</td>\n",
       "            <td>None</td>\n",
       "            <td>0</td>\n",
       "            <td>None</td>\n",
       "            <td>0</td>\n",
       "            <td>None</td>\n",
       "            <td>0</td>\n",
       "            <td>2015</td>\n",
       "        </tr>\n",
       "        <tr>\n",
       "            <td>1158</td>\n",
       "            <td>Breanna</td>\n",
       "            <td>Hughes</td>\n",
       "            <td>Utah</td>\n",
       "            <td>9.825</td>\n",
       "            <td>2</td>\n",
       "            <td>9.756976744186046</td>\n",
       "            <td>43</td>\n",
       "            <td>None</td>\n",
       "            <td>0</td>\n",
       "            <td>9.725000000000001</td>\n",
       "            <td>8</td>\n",
       "            <td>None</td>\n",
       "            <td>0</td>\n",
       "            <td>2015</td>\n",
       "        </tr>\n",
       "        <tr>\n",
       "            <td>1158</td>\n",
       "            <td>Breanna</td>\n",
       "            <td>Hughes</td>\n",
       "            <td>Utah</td>\n",
       "            <td>9.881818181818181</td>\n",
       "            <td>66</td>\n",
       "            <td>9.798484848484849</td>\n",
       "            <td>66</td>\n",
       "            <td>9.630833333333333</td>\n",
       "            <td>60</td>\n",
       "            <td>9.882575757575758</td>\n",
       "            <td>66</td>\n",
       "            <td>39.19166666666667</td>\n",
       "            <td>60</td>\n",
       "            <td>2016</td>\n",
       "        </tr>\n",
       "        <tr>\n",
       "            <td>1642</td>\n",
       "            <td>Crystal</td>\n",
       "            <td>Paz</td>\n",
       "            <td>California</td>\n",
       "            <td>9.55</td>\n",
       "            <td>5</td>\n",
       "            <td>None</td>\n",
       "            <td>0</td>\n",
       "            <td>9.275</td>\n",
       "            <td>8</td>\n",
       "            <td>9.7</td>\n",
       "            <td>10</td>\n",
       "            <td>None</td>\n",
       "            <td>0</td>\n",
       "            <td>2015</td>\n",
       "        </tr>\n",
       "        <tr>\n",
       "            <td>2505</td>\n",
       "            <td>Georgia</td>\n",
       "            <td>Dabritz</td>\n",
       "            <td>Utah</td>\n",
       "            <td>9.90566037735849</td>\n",
       "            <td>53</td>\n",
       "            <td>9.963068181818182</td>\n",
       "            <td>66</td>\n",
       "            <td>9.70904255319149</td>\n",
       "            <td>47</td>\n",
       "            <td>9.92253787878788</td>\n",
       "            <td>66</td>\n",
       "            <td>39.48048780487805</td>\n",
       "            <td>41</td>\n",
       "            <td>2015</td>\n",
       "        </tr>\n",
       "        <tr>\n",
       "            <td>2508</td>\n",
       "            <td>Kailah</td>\n",
       "            <td>Delaney</td>\n",
       "            <td>Utah</td>\n",
       "            <td>9.885377358490565</td>\n",
       "            <td>53</td>\n",
       "            <td>None</td>\n",
       "            <td>0</td>\n",
       "            <td>9.648484848484848</td>\n",
       "            <td>33</td>\n",
       "            <td>None</td>\n",
       "            <td>0</td>\n",
       "            <td>None</td>\n",
       "            <td>0</td>\n",
       "            <td>2015</td>\n",
       "        </tr>\n",
       "        <tr>\n",
       "            <td>2508</td>\n",
       "            <td>Kailah</td>\n",
       "            <td>Delaney</td>\n",
       "            <td>Utah</td>\n",
       "            <td>9.85483870967742</td>\n",
       "            <td>62</td>\n",
       "            <td>None</td>\n",
       "            <td>0</td>\n",
       "            <td>9.425833333333333</td>\n",
       "            <td>60</td>\n",
       "            <td>9.86875</td>\n",
       "            <td>8</td>\n",
       "            <td>None</td>\n",
       "            <td>0</td>\n",
       "            <td>2016</td>\n",
       "        </tr>\n",
       "    </tbody>\n",
       "</table>\n",
       "<span style=\"font-style:italic;text-align:center;\">Truncated to <a href=\"https://jupysql.ploomber.io/en/latest/api/configuration.html#displaylimit\">displaylimit</a> of 10.</span>"
      ],
      "text/plain": [
       "+------------+------------+-----------+------------+-------------------+----------+-------------------+----------+-------------------+----------+-------------------+----------+-------------------+----------+--------+\n",
       "| Gymnast ID | First Name | Last Name |    Team    |       Vault       | VT Count |    Uneven Bars    | UB Count |    Balance Beam   | BB Count |   Floor Exercise  | FX Count |     All Around    | AA Count | Season |\n",
       "+------------+------------+-----------+------------+-------------------+----------+-------------------+----------+-------------------+----------+-------------------+----------+-------------------+----------+--------+\n",
       "|    249     |  Kristina  |  Heymann  | California | 9.829166666666666 |    12    |        None       |    0     |        None       |    0     |        None       |    0     |        None       |    0     |  2015  |\n",
       "|    251     |   Serena   |   Leong   | California | 9.839285714285714 |    7     |        None       |    0     |  9.62857142857143 |    7     |        9.65       |    7     |        None       |    0     |  2015  |\n",
       "|    251     |   Serena   |   Leong   | California |       9.7625      |    8     |        None       |    0     |        None       |    0     |      9.771875     |    8     |        None       |    0     |  2016  |\n",
       "|    258     |   Jordan   |  Widener  | California |        None       |    0     | 9.762162162162161 |    37    |        None       |    0     |        None       |    0     |        None       |    0     |  2015  |\n",
       "|    1158    |  Breanna   |   Hughes  |    Utah    |       9.825       |    2     | 9.756976744186046 |    43    |        None       |    0     | 9.725000000000001 |    8     |        None       |    0     |  2015  |\n",
       "|    1158    |  Breanna   |   Hughes  |    Utah    | 9.881818181818181 |    66    | 9.798484848484849 |    66    | 9.630833333333333 |    60    | 9.882575757575758 |    66    | 39.19166666666667 |    60    |  2016  |\n",
       "|    1642    |  Crystal   |    Paz    | California |        9.55       |    5     |        None       |    0     |       9.275       |    8     |        9.7        |    10    |        None       |    0     |  2015  |\n",
       "|    2505    |  Georgia   |  Dabritz  |    Utah    |  9.90566037735849 |    53    | 9.963068181818182 |    66    |  9.70904255319149 |    47    |  9.92253787878788 |    66    | 39.48048780487805 |    41    |  2015  |\n",
       "|    2508    |   Kailah   |  Delaney  |    Utah    | 9.885377358490565 |    53    |        None       |    0     | 9.648484848484848 |    33    |        None       |    0     |        None       |    0     |  2015  |\n",
       "|    2508    |   Kailah   |  Delaney  |    Utah    |  9.85483870967742 |    62    |        None       |    0     | 9.425833333333333 |    60    |      9.86875      |    8     |        None       |    0     |  2016  |\n",
       "+------------+------------+-----------+------------+-------------------+----------+-------------------+----------+-------------------+----------+-------------------+----------+-------------------+----------+--------+\n",
       "Truncated to displaylimit of 10."
      ]
     },
     "execution_count": 56,
     "metadata": {},
     "output_type": "execute_result"
    }
   ],
   "source": [
    "%%sql --alias gymternet\n",
    "\n",
    "SELECT \n",
    "    g.gymnast_id AS 'Gymnast ID',\n",
    "    g.first_name AS 'First Name',\n",
    "    g.last_name AS 'Last Name',\n",
    "    t.team_name AS 'Team',\n",
    "    AVG(r.vt_score) AS 'Vault',\n",
    "    COUNT(r.vt_score) AS 'VT Count',\n",
    "    AVG(r.ub_score) AS 'Uneven Bars',\n",
    "    COUNT(r.ub_score) AS 'UB Count',\n",
    "    AVG(r.bb_score) AS 'Balance Beam',\n",
    "    COUNT(r.bb_score) AS 'BB Count',\n",
    "    AVG(r.fx_score) AS 'Floor Exercise',\n",
    "    COUNT(r.fx_score) AS 'FX Count',\n",
    "    AVG(r.aa_score) AS 'All Around',\n",
    "    COUNT(r.aa_score) AS 'AA Count',\n",
    "    m.year AS 'Season'\n",
    "FROM gymnast_results AS r\n",
    "LEFT JOIN gymnasts AS g\n",
    "ON g.gymnast_id = r.gymnast_id\n",
    "LEFT JOIN teams as t\n",
    "ON t.team_id = g.team_id\n",
    "LEFT JOIN meets as m\n",
    "ON m.meet_id = r.meet_id\n",
    "GROUP BY g.gymnast_id, m.year;"
   ]
  },
  {
   "cell_type": "markdown",
   "metadata": {
    "vscode": {
     "languageId": "sql"
    }
   },
   "source": [
    "But getting the means are a giant pain with SQLite. In this case, I'll got for a maximalist approach and whittle down the data in pandas."
   ]
  },
  {
   "cell_type": "code",
   "execution_count": 57,
   "metadata": {
    "vscode": {
     "languageId": "sql"
    }
   },
   "outputs": [
    {
     "data": {
      "text/html": [
       "<span style=\"None\">Running query in &#x27;gymternet&#x27;</span>"
      ],
      "text/plain": [
       "Running query in 'gymternet'"
      ]
     },
     "metadata": {},
     "output_type": "display_data"
    },
    {
     "data": {
      "text/html": [
       "<table>\n",
       "    <thead>\n",
       "        <tr>\n",
       "            <th>Gymnast ID</th>\n",
       "            <th>First Name</th>\n",
       "            <th>Last Name</th>\n",
       "            <th>Team</th>\n",
       "            <th>Vault</th>\n",
       "            <th>Uneven Bars</th>\n",
       "            <th>Balance Beam</th>\n",
       "            <th>Floor Exercise</th>\n",
       "            <th>Season</th>\n",
       "        </tr>\n",
       "    </thead>\n",
       "    <tbody>\n",
       "        <tr>\n",
       "            <td>30950</td>\n",
       "            <td>Sierra</td>\n",
       "            <td>Ballard</td>\n",
       "            <td>LSU</td>\n",
       "            <td>None</td>\n",
       "            <td>None</td>\n",
       "            <td>9.2</td>\n",
       "            <td>9.9</td>\n",
       "            <td>2024</td>\n",
       "        </tr>\n",
       "        <tr>\n",
       "            <td>30950</td>\n",
       "            <td>Sierra</td>\n",
       "            <td>Ballard</td>\n",
       "            <td>LSU</td>\n",
       "            <td>None</td>\n",
       "            <td>None</td>\n",
       "            <td>9.2</td>\n",
       "            <td>9.9</td>\n",
       "            <td>2024</td>\n",
       "        </tr>\n",
       "        <tr>\n",
       "            <td>30952</td>\n",
       "            <td>Haleigh</td>\n",
       "            <td>Bryant</td>\n",
       "            <td>LSU</td>\n",
       "            <td>9.95</td>\n",
       "            <td>9.875</td>\n",
       "            <td>9.925</td>\n",
       "            <td>9.925</td>\n",
       "            <td>2024</td>\n",
       "        </tr>\n",
       "        <tr>\n",
       "            <td>30952</td>\n",
       "            <td>Haleigh</td>\n",
       "            <td>Bryant</td>\n",
       "            <td>LSU</td>\n",
       "            <td>9.95</td>\n",
       "            <td>9.875</td>\n",
       "            <td>9.925</td>\n",
       "            <td>9.925</td>\n",
       "            <td>2024</td>\n",
       "        </tr>\n",
       "        <tr>\n",
       "            <td>31947</td>\n",
       "            <td>Ashley</td>\n",
       "            <td>Cowan</td>\n",
       "            <td>LSU</td>\n",
       "            <td>None</td>\n",
       "            <td>9.8</td>\n",
       "            <td>None</td>\n",
       "            <td>None</td>\n",
       "            <td>2024</td>\n",
       "        </tr>\n",
       "        <tr>\n",
       "            <td>31947</td>\n",
       "            <td>Ashley</td>\n",
       "            <td>Cowan</td>\n",
       "            <td>LSU</td>\n",
       "            <td>None</td>\n",
       "            <td>9.8</td>\n",
       "            <td>None</td>\n",
       "            <td>None</td>\n",
       "            <td>2024</td>\n",
       "        </tr>\n",
       "        <tr>\n",
       "            <td>32453</td>\n",
       "            <td>Amari</td>\n",
       "            <td>Drayton</td>\n",
       "            <td>LSU</td>\n",
       "            <td>9.925</td>\n",
       "            <td>None</td>\n",
       "            <td>None</td>\n",
       "            <td>9.925</td>\n",
       "            <td>2024</td>\n",
       "        </tr>\n",
       "        <tr>\n",
       "            <td>32453</td>\n",
       "            <td>Amari</td>\n",
       "            <td>Drayton</td>\n",
       "            <td>LSU</td>\n",
       "            <td>9.925</td>\n",
       "            <td>None</td>\n",
       "            <td>None</td>\n",
       "            <td>9.925</td>\n",
       "            <td>2024</td>\n",
       "        </tr>\n",
       "        <tr>\n",
       "            <td>30953</td>\n",
       "            <td>Olivia</td>\n",
       "            <td>Dunne</td>\n",
       "            <td>LSU</td>\n",
       "            <td>None</td>\n",
       "            <td>None</td>\n",
       "            <td>None</td>\n",
       "            <td>9.875</td>\n",
       "            <td>2024</td>\n",
       "        </tr>\n",
       "        <tr>\n",
       "            <td>30953</td>\n",
       "            <td>Olivia</td>\n",
       "            <td>Dunne</td>\n",
       "            <td>LSU</td>\n",
       "            <td>None</td>\n",
       "            <td>None</td>\n",
       "            <td>None</td>\n",
       "            <td>9.875</td>\n",
       "            <td>2024</td>\n",
       "        </tr>\n",
       "    </tbody>\n",
       "</table>\n",
       "<span style=\"font-style:italic;text-align:center;\">Truncated to <a href=\"https://jupysql.ploomber.io/en/latest/api/configuration.html#displaylimit\">displaylimit</a> of 10.</span>"
      ],
      "text/plain": [
       "+------------+------------+-----------+------+-------+-------------+--------------+----------------+--------+\n",
       "| Gymnast ID | First Name | Last Name | Team | Vault | Uneven Bars | Balance Beam | Floor Exercise | Season |\n",
       "+------------+------------+-----------+------+-------+-------------+--------------+----------------+--------+\n",
       "|   30950    |   Sierra   |  Ballard  | LSU  |  None |     None    |     9.2      |      9.9       |  2024  |\n",
       "|   30950    |   Sierra   |  Ballard  | LSU  |  None |     None    |     9.2      |      9.9       |  2024  |\n",
       "|   30952    |  Haleigh   |   Bryant  | LSU  |  9.95 |    9.875    |    9.925     |     9.925      |  2024  |\n",
       "|   30952    |  Haleigh   |   Bryant  | LSU  |  9.95 |    9.875    |    9.925     |     9.925      |  2024  |\n",
       "|   31947    |   Ashley   |   Cowan   | LSU  |  None |     9.8     |     None     |      None      |  2024  |\n",
       "|   31947    |   Ashley   |   Cowan   | LSU  |  None |     9.8     |     None     |      None      |  2024  |\n",
       "|   32453    |   Amari    |  Drayton  | LSU  | 9.925 |     None    |     None     |     9.925      |  2024  |\n",
       "|   32453    |   Amari    |  Drayton  | LSU  | 9.925 |     None    |     None     |     9.925      |  2024  |\n",
       "|   30953    |   Olivia   |   Dunne   | LSU  |  None |     None    |     None     |     9.875      |  2024  |\n",
       "|   30953    |   Olivia   |   Dunne   | LSU  |  None |     None    |     None     |     9.875      |  2024  |\n",
       "+------------+------------+-----------+------+-------+-------------+--------------+----------------+--------+\n",
       "Truncated to displaylimit of 10."
      ]
     },
     "execution_count": 57,
     "metadata": {},
     "output_type": "execute_result"
    }
   ],
   "source": [
    "%%sql --alias gymternet\n",
    "\n",
    "SELECT \n",
    "    g.gymnast_id AS 'Gymnast ID',\n",
    "    g.first_name AS 'First Name',\n",
    "    g.last_name AS 'Last Name',\n",
    "    t.team_name AS 'Team',\n",
    "    r.vt_score AS 'Vault',\n",
    "    r.ub_score AS 'Uneven Bars',\n",
    "    r.bb_score AS 'Balance Beam',\n",
    "    r.fx_score AS 'Floor Exercise',\n",
    "    m.year AS 'Season'\n",
    "FROM gymnast_results AS r\n",
    "LEFT JOIN gymnasts AS g\n",
    "ON g.gymnast_id = r.gymnast_id\n",
    "LEFT JOIN teams as t\n",
    "ON t.team_id = g.team_id\n",
    "LEFT JOIN meets as m\n",
    "ON m.meet_id = r.meet_id;"
   ]
  },
  {
   "cell_type": "markdown",
   "metadata": {},
   "source": [
    "### 2.3.2 Import the data into a dataframe"
   ]
  },
  {
   "cell_type": "code",
   "execution_count": 58,
   "metadata": {},
   "outputs": [
    {
     "data": {
      "text/html": [
       "<div>\n",
       "<style scoped>\n",
       "    .dataframe tbody tr th:only-of-type {\n",
       "        vertical-align: middle;\n",
       "    }\n",
       "\n",
       "    .dataframe tbody tr th {\n",
       "        vertical-align: top;\n",
       "    }\n",
       "\n",
       "    .dataframe thead th {\n",
       "        text-align: right;\n",
       "    }\n",
       "</style>\n",
       "<table border=\"1\" class=\"dataframe\">\n",
       "  <thead>\n",
       "    <tr style=\"text-align: right;\">\n",
       "      <th></th>\n",
       "      <th>Gymnast ID</th>\n",
       "      <th>First Name</th>\n",
       "      <th>Last Name</th>\n",
       "      <th>Team</th>\n",
       "      <th>Vault</th>\n",
       "      <th>VT Count</th>\n",
       "      <th>Uneven Bars</th>\n",
       "      <th>UB Count</th>\n",
       "      <th>Balance Beam</th>\n",
       "      <th>BB Count</th>\n",
       "      <th>Floor Exercise</th>\n",
       "      <th>FX Count</th>\n",
       "      <th>All Around</th>\n",
       "      <th>AA Count</th>\n",
       "      <th>Season</th>\n",
       "    </tr>\n",
       "  </thead>\n",
       "  <tbody>\n",
       "    <tr>\n",
       "      <th>0</th>\n",
       "      <td>249</td>\n",
       "      <td>Kristina</td>\n",
       "      <td>Heymann</td>\n",
       "      <td>California</td>\n",
       "      <td>9.829167</td>\n",
       "      <td>12</td>\n",
       "      <td>NaN</td>\n",
       "      <td>0</td>\n",
       "      <td>NaN</td>\n",
       "      <td>0</td>\n",
       "      <td>NaN</td>\n",
       "      <td>0</td>\n",
       "      <td>NaN</td>\n",
       "      <td>0</td>\n",
       "      <td>2015</td>\n",
       "    </tr>\n",
       "    <tr>\n",
       "      <th>1</th>\n",
       "      <td>251</td>\n",
       "      <td>Serena</td>\n",
       "      <td>Leong</td>\n",
       "      <td>California</td>\n",
       "      <td>9.839286</td>\n",
       "      <td>7</td>\n",
       "      <td>NaN</td>\n",
       "      <td>0</td>\n",
       "      <td>9.628571</td>\n",
       "      <td>7</td>\n",
       "      <td>9.650000</td>\n",
       "      <td>7</td>\n",
       "      <td>NaN</td>\n",
       "      <td>0</td>\n",
       "      <td>2015</td>\n",
       "    </tr>\n",
       "    <tr>\n",
       "      <th>2</th>\n",
       "      <td>251</td>\n",
       "      <td>Serena</td>\n",
       "      <td>Leong</td>\n",
       "      <td>California</td>\n",
       "      <td>9.762500</td>\n",
       "      <td>8</td>\n",
       "      <td>NaN</td>\n",
       "      <td>0</td>\n",
       "      <td>NaN</td>\n",
       "      <td>0</td>\n",
       "      <td>9.771875</td>\n",
       "      <td>8</td>\n",
       "      <td>NaN</td>\n",
       "      <td>0</td>\n",
       "      <td>2016</td>\n",
       "    </tr>\n",
       "    <tr>\n",
       "      <th>3</th>\n",
       "      <td>258</td>\n",
       "      <td>Jordan</td>\n",
       "      <td>Widener</td>\n",
       "      <td>California</td>\n",
       "      <td>NaN</td>\n",
       "      <td>0</td>\n",
       "      <td>9.762162</td>\n",
       "      <td>37</td>\n",
       "      <td>NaN</td>\n",
       "      <td>0</td>\n",
       "      <td>NaN</td>\n",
       "      <td>0</td>\n",
       "      <td>NaN</td>\n",
       "      <td>0</td>\n",
       "      <td>2015</td>\n",
       "    </tr>\n",
       "    <tr>\n",
       "      <th>4</th>\n",
       "      <td>1158</td>\n",
       "      <td>Breanna</td>\n",
       "      <td>Hughes</td>\n",
       "      <td>Utah</td>\n",
       "      <td>9.825000</td>\n",
       "      <td>2</td>\n",
       "      <td>9.756977</td>\n",
       "      <td>43</td>\n",
       "      <td>NaN</td>\n",
       "      <td>0</td>\n",
       "      <td>9.725000</td>\n",
       "      <td>8</td>\n",
       "      <td>NaN</td>\n",
       "      <td>0</td>\n",
       "      <td>2015</td>\n",
       "    </tr>\n",
       "  </tbody>\n",
       "</table>\n",
       "</div>"
      ],
      "text/plain": [
       "   Gymnast ID First Name Last Name        Team     Vault  VT Count  \\\n",
       "0         249   Kristina   Heymann  California  9.829167        12   \n",
       "1         251     Serena     Leong  California  9.839286         7   \n",
       "2         251     Serena     Leong  California  9.762500         8   \n",
       "3         258     Jordan   Widener  California       NaN         0   \n",
       "4        1158    Breanna    Hughes        Utah  9.825000         2   \n",
       "\n",
       "   Uneven Bars  UB Count  Balance Beam  BB Count  Floor Exercise  FX Count  \\\n",
       "0          NaN         0           NaN         0             NaN         0   \n",
       "1          NaN         0      9.628571         7        9.650000         7   \n",
       "2          NaN         0           NaN         0        9.771875         8   \n",
       "3     9.762162        37           NaN         0             NaN         0   \n",
       "4     9.756977        43           NaN         0        9.725000         8   \n",
       "\n",
       "   All Around  AA Count  Season  \n",
       "0         NaN         0    2015  \n",
       "1         NaN         0    2015  \n",
       "2         NaN         0    2016  \n",
       "3         NaN         0    2015  \n",
       "4         NaN         0    2015  "
      ]
     },
     "execution_count": 58,
     "metadata": {},
     "output_type": "execute_result"
    }
   ],
   "source": [
    "# Export the above query to a new df\n",
    "average_scores_query = \"\"\"\n",
    "SELECT \n",
    "    g.gymnast_id AS 'Gymnast ID',\n",
    "    g.first_name AS 'First Name',\n",
    "    g.last_name AS 'Last Name',\n",
    "    t.team_name AS 'Team',\n",
    "    AVG(r.vt_score) AS 'Vault',\n",
    "    COUNT(r.vt_score) AS 'VT Count',\n",
    "    AVG(r.ub_score) AS 'Uneven Bars',\n",
    "    COUNT(r.ub_score) AS 'UB Count',\n",
    "    AVG(r.bb_score) AS 'Balance Beam',\n",
    "    COUNT(r.bb_score) AS 'BB Count',\n",
    "    AVG(r.fx_score) AS 'Floor Exercise',\n",
    "    COUNT(r.fx_score) AS 'FX Count',\n",
    "    AVG(r.aa_score) AS 'All Around',\n",
    "    COUNT(r.aa_score) AS 'AA Count',\n",
    "    m.year AS 'Season'\n",
    "FROM gymnast_results AS r\n",
    "LEFT JOIN gymnasts AS g\n",
    "ON g.gymnast_id = r.gymnast_id\n",
    "LEFT JOIN teams as t\n",
    "ON t.team_id = g.team_id\n",
    "LEFT JOIN meets as m\n",
    "ON m.meet_id = r.meet_id\n",
    "GROUP BY g.gymnast_id, m.year;\n",
    "\"\"\"\n",
    "\n",
    "# Execute the query and store the result in a DataFrame\n",
    "average_scores_df = pd.read_sql_query(average_scores_query, engine)\n",
    "\n",
    "# Preview the df\n",
    "average_scores_df.head()"
   ]
  },
  {
   "cell_type": "code",
   "execution_count": 59,
   "metadata": {},
   "outputs": [
    {
     "data": {
      "text/html": [
       "<div>\n",
       "<style scoped>\n",
       "    .dataframe tbody tr th:only-of-type {\n",
       "        vertical-align: middle;\n",
       "    }\n",
       "\n",
       "    .dataframe tbody tr th {\n",
       "        vertical-align: top;\n",
       "    }\n",
       "\n",
       "    .dataframe thead th {\n",
       "        text-align: right;\n",
       "    }\n",
       "</style>\n",
       "<table border=\"1\" class=\"dataframe\">\n",
       "  <thead>\n",
       "    <tr style=\"text-align: right;\">\n",
       "      <th></th>\n",
       "      <th>Gymnast ID</th>\n",
       "      <th>First Name</th>\n",
       "      <th>Last Name</th>\n",
       "      <th>Team</th>\n",
       "      <th>Vault</th>\n",
       "      <th>Uneven Bars</th>\n",
       "      <th>Balance Beam</th>\n",
       "      <th>Floor Exercise</th>\n",
       "      <th>Season</th>\n",
       "    </tr>\n",
       "  </thead>\n",
       "  <tbody>\n",
       "    <tr>\n",
       "      <th>0</th>\n",
       "      <td>30950</td>\n",
       "      <td>Sierra</td>\n",
       "      <td>Ballard</td>\n",
       "      <td>LSU</td>\n",
       "      <td>NaN</td>\n",
       "      <td>NaN</td>\n",
       "      <td>9.200</td>\n",
       "      <td>9.900</td>\n",
       "      <td>2024</td>\n",
       "    </tr>\n",
       "    <tr>\n",
       "      <th>1</th>\n",
       "      <td>30950</td>\n",
       "      <td>Sierra</td>\n",
       "      <td>Ballard</td>\n",
       "      <td>LSU</td>\n",
       "      <td>NaN</td>\n",
       "      <td>NaN</td>\n",
       "      <td>9.200</td>\n",
       "      <td>9.900</td>\n",
       "      <td>2024</td>\n",
       "    </tr>\n",
       "    <tr>\n",
       "      <th>2</th>\n",
       "      <td>30952</td>\n",
       "      <td>Haleigh</td>\n",
       "      <td>Bryant</td>\n",
       "      <td>LSU</td>\n",
       "      <td>9.95</td>\n",
       "      <td>9.875</td>\n",
       "      <td>9.925</td>\n",
       "      <td>9.925</td>\n",
       "      <td>2024</td>\n",
       "    </tr>\n",
       "    <tr>\n",
       "      <th>3</th>\n",
       "      <td>30952</td>\n",
       "      <td>Haleigh</td>\n",
       "      <td>Bryant</td>\n",
       "      <td>LSU</td>\n",
       "      <td>9.95</td>\n",
       "      <td>9.875</td>\n",
       "      <td>9.925</td>\n",
       "      <td>9.925</td>\n",
       "      <td>2024</td>\n",
       "    </tr>\n",
       "    <tr>\n",
       "      <th>4</th>\n",
       "      <td>31947</td>\n",
       "      <td>Ashley</td>\n",
       "      <td>Cowan</td>\n",
       "      <td>LSU</td>\n",
       "      <td>NaN</td>\n",
       "      <td>9.800</td>\n",
       "      <td>NaN</td>\n",
       "      <td>NaN</td>\n",
       "      <td>2024</td>\n",
       "    </tr>\n",
       "  </tbody>\n",
       "</table>\n",
       "</div>"
      ],
      "text/plain": [
       "   Gymnast ID First Name Last Name Team  Vault  Uneven Bars  Balance Beam  \\\n",
       "0       30950     Sierra   Ballard  LSU    NaN          NaN         9.200   \n",
       "1       30950     Sierra   Ballard  LSU    NaN          NaN         9.200   \n",
       "2       30952    Haleigh    Bryant  LSU   9.95        9.875         9.925   \n",
       "3       30952    Haleigh    Bryant  LSU   9.95        9.875         9.925   \n",
       "4       31947     Ashley     Cowan  LSU    NaN        9.800           NaN   \n",
       "\n",
       "   Floor Exercise  Season  \n",
       "0           9.900    2024  \n",
       "1           9.900    2024  \n",
       "2           9.925    2024  \n",
       "3           9.925    2024  \n",
       "4             NaN    2024  "
      ]
     },
     "execution_count": 59,
     "metadata": {},
     "output_type": "execute_result"
    }
   ],
   "source": [
    "# Export the above query to a new df\n",
    "median_scores_query = \"\"\"\n",
    "SELECT \n",
    "    g.gymnast_id AS 'Gymnast ID',\n",
    "    g.first_name AS 'First Name',\n",
    "    g.last_name AS 'Last Name',\n",
    "    t.team_name AS 'Team',\n",
    "    r.vt_score AS 'Vault',\n",
    "    r.ub_score AS 'Uneven Bars',\n",
    "    r.bb_score AS 'Balance Beam',\n",
    "    r.fx_score AS 'Floor Exercise',\n",
    "    m.year AS 'Season'\n",
    "FROM gymnast_results AS r\n",
    "LEFT JOIN gymnasts AS g\n",
    "ON g.gymnast_id = r.gymnast_id\n",
    "LEFT JOIN teams as t\n",
    "ON t.team_id = g.team_id\n",
    "LEFT JOIN meets as m\n",
    "ON m.meet_id = r.meet_id;\n",
    "\"\"\"\n",
    "\n",
    "# Execute the query and store the result in a DataFrame\n",
    "median_scores_df = pd.read_sql_query(median_scores_query, engine)\n",
    "\n",
    "# Preview the df\n",
    "median_scores_df.head()"
   ]
  },
  {
   "cell_type": "markdown",
   "metadata": {},
   "source": [
    "### 2.3.3 Prepare the data for plotting"
   ]
  },
  {
   "cell_type": "markdown",
   "metadata": {},
   "source": [
    "In each season, a GOAT candidate must have competed at least 6 times per apparatus (or All Around) of candidacy.\n",
    "\n",
    "I could go ahead and exclude all rows where `VT Count`, `UB Count`, `BB Count`, `FX Count` AND `AA Count` ALL are less than 6, but I think it's probably going to be easier to work with dataframes specific to the apparatus. This gives me an opportunity to limit the DataFrames to the top-20 in each apparatus as well."
   ]
  },
  {
   "cell_type": "code",
   "execution_count": 60,
   "metadata": {},
   "outputs": [
    {
     "data": {
      "text/html": [
       "<div>\n",
       "<style scoped>\n",
       "    .dataframe tbody tr th:only-of-type {\n",
       "        vertical-align: middle;\n",
       "    }\n",
       "\n",
       "    .dataframe tbody tr th {\n",
       "        vertical-align: top;\n",
       "    }\n",
       "\n",
       "    .dataframe thead th {\n",
       "        text-align: right;\n",
       "    }\n",
       "</style>\n",
       "<table border=\"1\" class=\"dataframe\">\n",
       "  <thead>\n",
       "    <tr style=\"text-align: right;\">\n",
       "      <th></th>\n",
       "      <th>Gymnast ID</th>\n",
       "      <th>Team</th>\n",
       "      <th>Vault</th>\n",
       "      <th>VT Count</th>\n",
       "      <th>Uneven Bars</th>\n",
       "      <th>UB Count</th>\n",
       "      <th>Balance Beam</th>\n",
       "      <th>BB Count</th>\n",
       "      <th>Floor Exercise</th>\n",
       "      <th>FX Count</th>\n",
       "      <th>All Around</th>\n",
       "      <th>AA Count</th>\n",
       "      <th>Season</th>\n",
       "      <th>Name</th>\n",
       "    </tr>\n",
       "  </thead>\n",
       "  <tbody>\n",
       "    <tr>\n",
       "      <th>6941</th>\n",
       "      <td>30055</td>\n",
       "      <td>Oklahoma</td>\n",
       "      <td>9.956818</td>\n",
       "      <td>11</td>\n",
       "      <td>9.867857</td>\n",
       "      <td>21</td>\n",
       "      <td>9.853846</td>\n",
       "      <td>13</td>\n",
       "      <td>NaN</td>\n",
       "      <td>0</td>\n",
       "      <td>NaN</td>\n",
       "      <td>0</td>\n",
       "      <td>2020</td>\n",
       "      <td>Olivia Trautman</td>\n",
       "    </tr>\n",
       "    <tr>\n",
       "      <th>6944</th>\n",
       "      <td>30055</td>\n",
       "      <td>Oklahoma</td>\n",
       "      <td>9.954717</td>\n",
       "      <td>53</td>\n",
       "      <td>9.916509</td>\n",
       "      <td>53</td>\n",
       "      <td>9.851866</td>\n",
       "      <td>67</td>\n",
       "      <td>NaN</td>\n",
       "      <td>0</td>\n",
       "      <td>NaN</td>\n",
       "      <td>0</td>\n",
       "      <td>2023</td>\n",
       "      <td>Olivia Trautman</td>\n",
       "    </tr>\n",
       "    <tr>\n",
       "      <th>9166</th>\n",
       "      <td>30952</td>\n",
       "      <td>LSU</td>\n",
       "      <td>9.948529</td>\n",
       "      <td>51</td>\n",
       "      <td>9.857843</td>\n",
       "      <td>51</td>\n",
       "      <td>9.676163</td>\n",
       "      <td>43</td>\n",
       "      <td>9.712255</td>\n",
       "      <td>51</td>\n",
       "      <td>39.205233</td>\n",
       "      <td>43</td>\n",
       "      <td>2021</td>\n",
       "      <td>Haleigh Bryant</td>\n",
       "    </tr>\n",
       "    <tr>\n",
       "      <th>4640</th>\n",
       "      <td>24714</td>\n",
       "      <td>Oklahoma</td>\n",
       "      <td>9.948148</td>\n",
       "      <td>27</td>\n",
       "      <td>9.953448</td>\n",
       "      <td>29</td>\n",
       "      <td>9.858333</td>\n",
       "      <td>27</td>\n",
       "      <td>9.938889</td>\n",
       "      <td>18</td>\n",
       "      <td>39.738889</td>\n",
       "      <td>18</td>\n",
       "      <td>2020</td>\n",
       "      <td>Maggie Nichols</td>\n",
       "    </tr>\n",
       "    <tr>\n",
       "      <th>1215</th>\n",
       "      <td>23070</td>\n",
       "      <td>Stanford</td>\n",
       "      <td>9.938837</td>\n",
       "      <td>62</td>\n",
       "      <td>9.828302</td>\n",
       "      <td>53</td>\n",
       "      <td>9.900000</td>\n",
       "      <td>6</td>\n",
       "      <td>9.878947</td>\n",
       "      <td>19</td>\n",
       "      <td>NaN</td>\n",
       "      <td>0</td>\n",
       "      <td>2015</td>\n",
       "      <td>Elizabeth Price</td>\n",
       "    </tr>\n",
       "  </tbody>\n",
       "</table>\n",
       "</div>"
      ],
      "text/plain": [
       "      Gymnast ID      Team     Vault  VT Count  Uneven Bars  UB Count  \\\n",
       "6941       30055  Oklahoma  9.956818        11     9.867857        21   \n",
       "6944       30055  Oklahoma  9.954717        53     9.916509        53   \n",
       "9166       30952       LSU  9.948529        51     9.857843        51   \n",
       "4640       24714  Oklahoma  9.948148        27     9.953448        29   \n",
       "1215       23070  Stanford  9.938837        62     9.828302        53   \n",
       "\n",
       "      Balance Beam  BB Count  Floor Exercise  FX Count  All Around  AA Count  \\\n",
       "6941      9.853846        13             NaN         0         NaN         0   \n",
       "6944      9.851866        67             NaN         0         NaN         0   \n",
       "9166      9.676163        43        9.712255        51   39.205233        43   \n",
       "4640      9.858333        27        9.938889        18   39.738889        18   \n",
       "1215      9.900000         6        9.878947        19         NaN         0   \n",
       "\n",
       "      Season             Name  \n",
       "6941    2020  Olivia Trautman  \n",
       "6944    2023  Olivia Trautman  \n",
       "9166    2021   Haleigh Bryant  \n",
       "4640    2020   Maggie Nichols  \n",
       "1215    2015  Elizabeth Price  "
      ]
     },
     "execution_count": 60,
     "metadata": {},
     "output_type": "execute_result"
    }
   ],
   "source": [
    "# Before we start, join First Name and Last Name into new column, Name\n",
    "average_scores_df['Name'] = average_scores_df['First Name'] + ' ' + average_scores_df['Last Name']\n",
    "\n",
    "#Drop first name and last name columns\n",
    "average_scores_df = average_scores_df.drop(columns=['First Name', 'Last Name'])\n",
    "\n",
    "# First up, the VT DF\n",
    "\n",
    "# Drop any rows where a gymnast has performed fewer than 6 vaults\n",
    "vault_average_df = average_scores_df[(average_scores_df['VT Count'] >= 6)]\n",
    "\n",
    "# Sort by average vault score in descending order\n",
    "vault_average_df = vault_average_df.sort_values(by='Vault', ascending=False)\n",
    "\n",
    "# Get the first 20 unique values in the 'Gymnast ID' column\n",
    "top_20_ave_vaulters = vault_average_df['Gymnast ID'].drop_duplicates().head(20).tolist()\n",
    "\n",
    "# Filter the original DataFrame to include all rows with these unique values\n",
    "vault_average_df = vault_average_df[vault_average_df['Gymnast ID'].isin(top_20_ave_vaulters)]\n",
    "\n",
    "# Preview the df\n",
    "vault_average_df.head()"
   ]
  },
  {
   "cell_type": "code",
   "execution_count": 61,
   "metadata": {},
   "outputs": [
    {
     "data": {
      "text/html": [
       "<div>\n",
       "<style scoped>\n",
       "    .dataframe tbody tr th:only-of-type {\n",
       "        vertical-align: middle;\n",
       "    }\n",
       "\n",
       "    .dataframe tbody tr th {\n",
       "        vertical-align: top;\n",
       "    }\n",
       "\n",
       "    .dataframe thead th {\n",
       "        text-align: right;\n",
       "    }\n",
       "</style>\n",
       "<table border=\"1\" class=\"dataframe\">\n",
       "  <thead>\n",
       "    <tr style=\"text-align: right;\">\n",
       "      <th></th>\n",
       "      <th>Gymnast ID</th>\n",
       "      <th>Team</th>\n",
       "      <th>Vault</th>\n",
       "      <th>VT Count</th>\n",
       "      <th>Uneven Bars</th>\n",
       "      <th>UB Count</th>\n",
       "      <th>Balance Beam</th>\n",
       "      <th>BB Count</th>\n",
       "      <th>Floor Exercise</th>\n",
       "      <th>FX Count</th>\n",
       "      <th>All Around</th>\n",
       "      <th>AA Count</th>\n",
       "      <th>Season</th>\n",
       "      <th>Name</th>\n",
       "    </tr>\n",
       "  </thead>\n",
       "  <tbody>\n",
       "    <tr>\n",
       "      <th>10870</th>\n",
       "      <td>31789</td>\n",
       "      <td>UCLA</td>\n",
       "      <td>9.906818</td>\n",
       "      <td>77</td>\n",
       "      <td>9.977597</td>\n",
       "      <td>77</td>\n",
       "      <td>9.817532</td>\n",
       "      <td>77</td>\n",
       "      <td>9.957143</td>\n",
       "      <td>77</td>\n",
       "      <td>39.659091</td>\n",
       "      <td>77</td>\n",
       "      <td>2023</td>\n",
       "      <td>Jordan Chiles</td>\n",
       "    </tr>\n",
       "    <tr>\n",
       "      <th>7</th>\n",
       "      <td>2505</td>\n",
       "      <td>Utah</td>\n",
       "      <td>9.905660</td>\n",
       "      <td>53</td>\n",
       "      <td>9.963068</td>\n",
       "      <td>66</td>\n",
       "      <td>9.709043</td>\n",
       "      <td>47</td>\n",
       "      <td>9.922538</td>\n",
       "      <td>66</td>\n",
       "      <td>39.480488</td>\n",
       "      <td>41</td>\n",
       "      <td>2015</td>\n",
       "      <td>Georgia Dabritz</td>\n",
       "    </tr>\n",
       "    <tr>\n",
       "      <th>9904</th>\n",
       "      <td>31267</td>\n",
       "      <td>Auburn</td>\n",
       "      <td>9.900000</td>\n",
       "      <td>20</td>\n",
       "      <td>9.956818</td>\n",
       "      <td>22</td>\n",
       "      <td>9.897727</td>\n",
       "      <td>22</td>\n",
       "      <td>9.894444</td>\n",
       "      <td>18</td>\n",
       "      <td>39.705556</td>\n",
       "      <td>18</td>\n",
       "      <td>2023</td>\n",
       "      <td>Sunisa Lee</td>\n",
       "    </tr>\n",
       "    <tr>\n",
       "      <th>569</th>\n",
       "      <td>22717</td>\n",
       "      <td>Florida</td>\n",
       "      <td>9.937245</td>\n",
       "      <td>49</td>\n",
       "      <td>9.955455</td>\n",
       "      <td>55</td>\n",
       "      <td>9.893056</td>\n",
       "      <td>36</td>\n",
       "      <td>9.825833</td>\n",
       "      <td>30</td>\n",
       "      <td>39.612500</td>\n",
       "      <td>22</td>\n",
       "      <td>2015</td>\n",
       "      <td>Bridget Sloan</td>\n",
       "    </tr>\n",
       "    <tr>\n",
       "      <th>4639</th>\n",
       "      <td>24714</td>\n",
       "      <td>Oklahoma</td>\n",
       "      <td>9.936250</td>\n",
       "      <td>40</td>\n",
       "      <td>9.955000</td>\n",
       "      <td>60</td>\n",
       "      <td>9.916379</td>\n",
       "      <td>58</td>\n",
       "      <td>9.925000</td>\n",
       "      <td>16</td>\n",
       "      <td>39.721875</td>\n",
       "      <td>16</td>\n",
       "      <td>2019</td>\n",
       "      <td>Maggie Nichols</td>\n",
       "    </tr>\n",
       "  </tbody>\n",
       "</table>\n",
       "</div>"
      ],
      "text/plain": [
       "       Gymnast ID      Team     Vault  VT Count  Uneven Bars  UB Count  \\\n",
       "10870       31789      UCLA  9.906818        77     9.977597        77   \n",
       "7            2505      Utah  9.905660        53     9.963068        66   \n",
       "9904        31267    Auburn  9.900000        20     9.956818        22   \n",
       "569         22717   Florida  9.937245        49     9.955455        55   \n",
       "4639        24714  Oklahoma  9.936250        40     9.955000        60   \n",
       "\n",
       "       Balance Beam  BB Count  Floor Exercise  FX Count  All Around  AA Count  \\\n",
       "10870      9.817532        77        9.957143        77   39.659091        77   \n",
       "7          9.709043        47        9.922538        66   39.480488        41   \n",
       "9904       9.897727        22        9.894444        18   39.705556        18   \n",
       "569        9.893056        36        9.825833        30   39.612500        22   \n",
       "4639       9.916379        58        9.925000        16   39.721875        16   \n",
       "\n",
       "       Season             Name  \n",
       "10870    2023    Jordan Chiles  \n",
       "7        2015  Georgia Dabritz  \n",
       "9904     2023       Sunisa Lee  \n",
       "569      2015    Bridget Sloan  \n",
       "4639     2019   Maggie Nichols  "
      ]
     },
     "execution_count": 61,
     "metadata": {},
     "output_type": "execute_result"
    }
   ],
   "source": [
    "# Next, the UB DF\n",
    "\n",
    "# Drop any rows where a gymnast has performed fewer than 6 bars routines\n",
    "bars_average_df = average_scores_df[(average_scores_df['UB Count'] >= 6)]\n",
    "\n",
    "# Sort by average bars score in descending order\n",
    "bars_average_df = bars_average_df.sort_values(by='Uneven Bars', ascending=False)\n",
    "\n",
    "# Get the first 20 unique values in the 'Gymnast ID' column\n",
    "top_20_ave_barsers = bars_average_df['Gymnast ID'].drop_duplicates().head(20).tolist()\n",
    "\n",
    "# Filter the original DataFrame to include all rows with these unique values\n",
    "bars_average_df = bars_average_df[bars_average_df['Gymnast ID'].isin(top_20_ave_barsers)]\n",
    "\n",
    "# Preview the df\n",
    "bars_average_df.head()"
   ]
  },
  {
   "cell_type": "code",
   "execution_count": 62,
   "metadata": {},
   "outputs": [
    {
     "data": {
      "text/html": [
       "<div>\n",
       "<style scoped>\n",
       "    .dataframe tbody tr th:only-of-type {\n",
       "        vertical-align: middle;\n",
       "    }\n",
       "\n",
       "    .dataframe tbody tr th {\n",
       "        vertical-align: top;\n",
       "    }\n",
       "\n",
       "    .dataframe thead th {\n",
       "        text-align: right;\n",
       "    }\n",
       "</style>\n",
       "<table border=\"1\" class=\"dataframe\">\n",
       "  <thead>\n",
       "    <tr style=\"text-align: right;\">\n",
       "      <th></th>\n",
       "      <th>Gymnast ID</th>\n",
       "      <th>Team</th>\n",
       "      <th>Vault</th>\n",
       "      <th>VT Count</th>\n",
       "      <th>Uneven Bars</th>\n",
       "      <th>UB Count</th>\n",
       "      <th>Balance Beam</th>\n",
       "      <th>BB Count</th>\n",
       "      <th>Floor Exercise</th>\n",
       "      <th>FX Count</th>\n",
       "      <th>All Around</th>\n",
       "      <th>AA Count</th>\n",
       "      <th>Season</th>\n",
       "      <th>Name</th>\n",
       "    </tr>\n",
       "  </thead>\n",
       "  <tbody>\n",
       "    <tr>\n",
       "      <th>8151</th>\n",
       "      <td>30545</td>\n",
       "      <td>Utah</td>\n",
       "      <td>9.845000</td>\n",
       "      <td>55</td>\n",
       "      <td>9.900649</td>\n",
       "      <td>77</td>\n",
       "      <td>9.967532</td>\n",
       "      <td>77</td>\n",
       "      <td>9.917063</td>\n",
       "      <td>63</td>\n",
       "      <td>39.638182</td>\n",
       "      <td>55</td>\n",
       "      <td>2023</td>\n",
       "      <td>Maile O'Keefe</td>\n",
       "    </tr>\n",
       "    <tr>\n",
       "      <th>4638</th>\n",
       "      <td>24714</td>\n",
       "      <td>Oklahoma</td>\n",
       "      <td>9.920000</td>\n",
       "      <td>60</td>\n",
       "      <td>9.947177</td>\n",
       "      <td>62</td>\n",
       "      <td>9.954032</td>\n",
       "      <td>62</td>\n",
       "      <td>9.944960</td>\n",
       "      <td>62</td>\n",
       "      <td>39.770602</td>\n",
       "      <td>54</td>\n",
       "      <td>2018</td>\n",
       "      <td>Maggie Nichols</td>\n",
       "    </tr>\n",
       "    <tr>\n",
       "      <th>8741</th>\n",
       "      <td>30786</td>\n",
       "      <td>Alabama</td>\n",
       "      <td>9.866667</td>\n",
       "      <td>48</td>\n",
       "      <td>9.924185</td>\n",
       "      <td>46</td>\n",
       "      <td>9.950815</td>\n",
       "      <td>46</td>\n",
       "      <td>9.932143</td>\n",
       "      <td>42</td>\n",
       "      <td>39.704762</td>\n",
       "      <td>42</td>\n",
       "      <td>2021</td>\n",
       "      <td>Luisa Blanco</td>\n",
       "    </tr>\n",
       "    <tr>\n",
       "      <th>1359</th>\n",
       "      <td>23140</td>\n",
       "      <td>UCLA</td>\n",
       "      <td>NaN</td>\n",
       "      <td>0</td>\n",
       "      <td>9.843939</td>\n",
       "      <td>66</td>\n",
       "      <td>9.949414</td>\n",
       "      <td>64</td>\n",
       "      <td>NaN</td>\n",
       "      <td>0</td>\n",
       "      <td>NaN</td>\n",
       "      <td>0</td>\n",
       "      <td>2018</td>\n",
       "      <td>Peng-Peng  Lee</td>\n",
       "    </tr>\n",
       "    <tr>\n",
       "      <th>7949</th>\n",
       "      <td>30466</td>\n",
       "      <td>Missouri</td>\n",
       "      <td>9.837924</td>\n",
       "      <td>59</td>\n",
       "      <td>9.784322</td>\n",
       "      <td>59</td>\n",
       "      <td>9.945339</td>\n",
       "      <td>59</td>\n",
       "      <td>9.855720</td>\n",
       "      <td>59</td>\n",
       "      <td>39.423305</td>\n",
       "      <td>59</td>\n",
       "      <td>2022</td>\n",
       "      <td>Sienna Schreiber</td>\n",
       "    </tr>\n",
       "  </tbody>\n",
       "</table>\n",
       "</div>"
      ],
      "text/plain": [
       "      Gymnast ID      Team     Vault  VT Count  Uneven Bars  UB Count  \\\n",
       "8151       30545      Utah  9.845000        55     9.900649        77   \n",
       "4638       24714  Oklahoma  9.920000        60     9.947177        62   \n",
       "8741       30786   Alabama  9.866667        48     9.924185        46   \n",
       "1359       23140      UCLA       NaN         0     9.843939        66   \n",
       "7949       30466  Missouri  9.837924        59     9.784322        59   \n",
       "\n",
       "      Balance Beam  BB Count  Floor Exercise  FX Count  All Around  AA Count  \\\n",
       "8151      9.967532        77        9.917063        63   39.638182        55   \n",
       "4638      9.954032        62        9.944960        62   39.770602        54   \n",
       "8741      9.950815        46        9.932143        42   39.704762        42   \n",
       "1359      9.949414        64             NaN         0         NaN         0   \n",
       "7949      9.945339        59        9.855720        59   39.423305        59   \n",
       "\n",
       "      Season              Name  \n",
       "8151    2023     Maile O'Keefe  \n",
       "4638    2018    Maggie Nichols  \n",
       "8741    2021      Luisa Blanco  \n",
       "1359    2018    Peng-Peng  Lee  \n",
       "7949    2022  Sienna Schreiber  "
      ]
     },
     "execution_count": 62,
     "metadata": {},
     "output_type": "execute_result"
    }
   ],
   "source": [
    "# Next, the BB DF\n",
    "\n",
    "# Drop any rows where a gymnast has performed fewer than 6 beam routines\n",
    "beam_average_df = average_scores_df[(average_scores_df['BB Count'] >= 6)]\n",
    "\n",
    "# Sort by average beam score in descending order\n",
    "beam_average_df = beam_average_df.sort_values(by='Balance Beam', ascending=False)\n",
    "\n",
    "# Get the first 20 unique values in the 'Gymnast ID' column\n",
    "top_20_ave_beamers = beam_average_df['Gymnast ID'].drop_duplicates().head(20).tolist()\n",
    "\n",
    "# Filter the original DataFrame to include all rows with these unique values\n",
    "beam_average_df = beam_average_df[beam_average_df['Gymnast ID'].isin(top_20_ave_beamers)]\n",
    "\n",
    "# Preview the df\n",
    "beam_average_df.head()"
   ]
  },
  {
   "cell_type": "code",
   "execution_count": 63,
   "metadata": {},
   "outputs": [
    {
     "data": {
      "text/html": [
       "<div>\n",
       "<style scoped>\n",
       "    .dataframe tbody tr th:only-of-type {\n",
       "        vertical-align: middle;\n",
       "    }\n",
       "\n",
       "    .dataframe tbody tr th {\n",
       "        vertical-align: top;\n",
       "    }\n",
       "\n",
       "    .dataframe thead th {\n",
       "        text-align: right;\n",
       "    }\n",
       "</style>\n",
       "<table border=\"1\" class=\"dataframe\">\n",
       "  <thead>\n",
       "    <tr style=\"text-align: right;\">\n",
       "      <th></th>\n",
       "      <th>Gymnast ID</th>\n",
       "      <th>Team</th>\n",
       "      <th>Vault</th>\n",
       "      <th>VT Count</th>\n",
       "      <th>Uneven Bars</th>\n",
       "      <th>UB Count</th>\n",
       "      <th>Balance Beam</th>\n",
       "      <th>BB Count</th>\n",
       "      <th>Floor Exercise</th>\n",
       "      <th>FX Count</th>\n",
       "      <th>All Around</th>\n",
       "      <th>AA Count</th>\n",
       "      <th>Season</th>\n",
       "      <th>Name</th>\n",
       "    </tr>\n",
       "  </thead>\n",
       "  <tbody>\n",
       "    <tr>\n",
       "      <th>6643</th>\n",
       "      <td>29946</td>\n",
       "      <td>Florida</td>\n",
       "      <td>9.930952</td>\n",
       "      <td>63</td>\n",
       "      <td>9.949603</td>\n",
       "      <td>63</td>\n",
       "      <td>9.943160</td>\n",
       "      <td>53</td>\n",
       "      <td>9.992857</td>\n",
       "      <td>49</td>\n",
       "      <td>39.830053</td>\n",
       "      <td>47</td>\n",
       "      <td>2022</td>\n",
       "      <td>Trinity Thomas</td>\n",
       "    </tr>\n",
       "    <tr>\n",
       "      <th>3513</th>\n",
       "      <td>24237</td>\n",
       "      <td>UCLA</td>\n",
       "      <td>9.787500</td>\n",
       "      <td>4</td>\n",
       "      <td>NaN</td>\n",
       "      <td>0</td>\n",
       "      <td>9.927381</td>\n",
       "      <td>63</td>\n",
       "      <td>9.964796</td>\n",
       "      <td>49</td>\n",
       "      <td>NaN</td>\n",
       "      <td>0</td>\n",
       "      <td>2019</td>\n",
       "      <td>Katelyn  Ohashi</td>\n",
       "    </tr>\n",
       "    <tr>\n",
       "      <th>6641</th>\n",
       "      <td>29946</td>\n",
       "      <td>Florida</td>\n",
       "      <td>9.876316</td>\n",
       "      <td>19</td>\n",
       "      <td>9.847368</td>\n",
       "      <td>19</td>\n",
       "      <td>9.928947</td>\n",
       "      <td>19</td>\n",
       "      <td>9.959211</td>\n",
       "      <td>19</td>\n",
       "      <td>39.611842</td>\n",
       "      <td>19</td>\n",
       "      <td>2020</td>\n",
       "      <td>Trinity Thomas</td>\n",
       "    </tr>\n",
       "    <tr>\n",
       "      <th>9226</th>\n",
       "      <td>30973</td>\n",
       "      <td>Minnesota</td>\n",
       "      <td>9.894318</td>\n",
       "      <td>66</td>\n",
       "      <td>9.836742</td>\n",
       "      <td>66</td>\n",
       "      <td>NaN</td>\n",
       "      <td>0</td>\n",
       "      <td>9.957787</td>\n",
       "      <td>61</td>\n",
       "      <td>NaN</td>\n",
       "      <td>0</td>\n",
       "      <td>2022</td>\n",
       "      <td>Mya Hooten</td>\n",
       "    </tr>\n",
       "    <tr>\n",
       "      <th>6940</th>\n",
       "      <td>30055</td>\n",
       "      <td>Oklahoma</td>\n",
       "      <td>9.879508</td>\n",
       "      <td>61</td>\n",
       "      <td>9.875000</td>\n",
       "      <td>2</td>\n",
       "      <td>9.873305</td>\n",
       "      <td>59</td>\n",
       "      <td>9.957787</td>\n",
       "      <td>61</td>\n",
       "      <td>39.725000</td>\n",
       "      <td>2</td>\n",
       "      <td>2019</td>\n",
       "      <td>Olivia Trautman</td>\n",
       "    </tr>\n",
       "  </tbody>\n",
       "</table>\n",
       "</div>"
      ],
      "text/plain": [
       "      Gymnast ID       Team     Vault  VT Count  Uneven Bars  UB Count  \\\n",
       "6643       29946    Florida  9.930952        63     9.949603        63   \n",
       "3513       24237       UCLA  9.787500         4          NaN         0   \n",
       "6641       29946    Florida  9.876316        19     9.847368        19   \n",
       "9226       30973  Minnesota  9.894318        66     9.836742        66   \n",
       "6940       30055   Oklahoma  9.879508        61     9.875000         2   \n",
       "\n",
       "      Balance Beam  BB Count  Floor Exercise  FX Count  All Around  AA Count  \\\n",
       "6643      9.943160        53        9.992857        49   39.830053        47   \n",
       "3513      9.927381        63        9.964796        49         NaN         0   \n",
       "6641      9.928947        19        9.959211        19   39.611842        19   \n",
       "9226           NaN         0        9.957787        61         NaN         0   \n",
       "6940      9.873305        59        9.957787        61   39.725000         2   \n",
       "\n",
       "      Season             Name  \n",
       "6643    2022   Trinity Thomas  \n",
       "3513    2019  Katelyn  Ohashi  \n",
       "6641    2020   Trinity Thomas  \n",
       "9226    2022       Mya Hooten  \n",
       "6940    2019  Olivia Trautman  "
      ]
     },
     "execution_count": 63,
     "metadata": {},
     "output_type": "execute_result"
    }
   ],
   "source": [
    "# Next, the FX DF\n",
    "\n",
    "# Drop any rows where a gymnast has performed fewer than 6 floor routines\n",
    "floor_average_df = average_scores_df[(average_scores_df['FX Count'] >= 6)]\n",
    "\n",
    "# Sort by average beam score in descending order\n",
    "floor_average_df = floor_average_df.sort_values(by='Floor Exercise', ascending=False)\n",
    "\n",
    "# Get the first 20 unique values in the 'Gymnast ID' column\n",
    "top_20_ave_floorers = floor_average_df['Gymnast ID'].drop_duplicates().head(20).tolist()\n",
    "\n",
    "# Filter the original DataFrame to include all rows with these unique values\n",
    "floor_average_df = floor_average_df[floor_average_df['Gymnast ID'].isin(top_20_ave_floorers)]\n",
    "\n",
    "# Preview the df\n",
    "floor_average_df.head()"
   ]
  },
  {
   "cell_type": "code",
   "execution_count": 64,
   "metadata": {},
   "outputs": [
    {
     "data": {
      "text/html": [
       "<div>\n",
       "<style scoped>\n",
       "    .dataframe tbody tr th:only-of-type {\n",
       "        vertical-align: middle;\n",
       "    }\n",
       "\n",
       "    .dataframe tbody tr th {\n",
       "        vertical-align: top;\n",
       "    }\n",
       "\n",
       "    .dataframe thead th {\n",
       "        text-align: right;\n",
       "    }\n",
       "</style>\n",
       "<table border=\"1\" class=\"dataframe\">\n",
       "  <thead>\n",
       "    <tr style=\"text-align: right;\">\n",
       "      <th></th>\n",
       "      <th>Gymnast ID</th>\n",
       "      <th>Team</th>\n",
       "      <th>Vault</th>\n",
       "      <th>VT Count</th>\n",
       "      <th>Uneven Bars</th>\n",
       "      <th>UB Count</th>\n",
       "      <th>Balance Beam</th>\n",
       "      <th>BB Count</th>\n",
       "      <th>Floor Exercise</th>\n",
       "      <th>FX Count</th>\n",
       "      <th>All Around</th>\n",
       "      <th>AA Count</th>\n",
       "      <th>Season</th>\n",
       "      <th>Name</th>\n",
       "    </tr>\n",
       "  </thead>\n",
       "  <tbody>\n",
       "    <tr>\n",
       "      <th>3379</th>\n",
       "      <td>24174</td>\n",
       "      <td>LSU</td>\n",
       "      <td>9.838679</td>\n",
       "      <td>53</td>\n",
       "      <td>9.766393</td>\n",
       "      <td>61</td>\n",
       "      <td>9.820082</td>\n",
       "      <td>61</td>\n",
       "      <td>9.761111</td>\n",
       "      <td>9</td>\n",
       "      <td>38.875000</td>\n",
       "      <td>9</td>\n",
       "      <td>2016</td>\n",
       "      <td>Sarah Finnegan</td>\n",
       "    </tr>\n",
       "    <tr>\n",
       "      <th>9166</th>\n",
       "      <td>30952</td>\n",
       "      <td>LSU</td>\n",
       "      <td>9.948529</td>\n",
       "      <td>51</td>\n",
       "      <td>9.857843</td>\n",
       "      <td>51</td>\n",
       "      <td>9.676163</td>\n",
       "      <td>43</td>\n",
       "      <td>9.712255</td>\n",
       "      <td>51</td>\n",
       "      <td>39.205233</td>\n",
       "      <td>43</td>\n",
       "      <td>2021</td>\n",
       "      <td>Haleigh Bryant</td>\n",
       "    </tr>\n",
       "    <tr>\n",
       "      <th>7856</th>\n",
       "      <td>30433</td>\n",
       "      <td>Kentucky</td>\n",
       "      <td>9.725000</td>\n",
       "      <td>18</td>\n",
       "      <td>9.800000</td>\n",
       "      <td>18</td>\n",
       "      <td>9.815909</td>\n",
       "      <td>22</td>\n",
       "      <td>9.884091</td>\n",
       "      <td>22</td>\n",
       "      <td>39.231250</td>\n",
       "      <td>16</td>\n",
       "      <td>2020</td>\n",
       "      <td>Raena Worley</td>\n",
       "    </tr>\n",
       "    <tr>\n",
       "      <th>8148</th>\n",
       "      <td>30545</td>\n",
       "      <td>Utah</td>\n",
       "      <td>9.775000</td>\n",
       "      <td>12</td>\n",
       "      <td>9.760000</td>\n",
       "      <td>20</td>\n",
       "      <td>9.887500</td>\n",
       "      <td>20</td>\n",
       "      <td>9.853125</td>\n",
       "      <td>16</td>\n",
       "      <td>39.240000</td>\n",
       "      <td>10</td>\n",
       "      <td>2020</td>\n",
       "      <td>Maile O'Keefe</td>\n",
       "    </tr>\n",
       "    <tr>\n",
       "      <th>10869</th>\n",
       "      <td>31789</td>\n",
       "      <td>UCLA</td>\n",
       "      <td>9.853261</td>\n",
       "      <td>46</td>\n",
       "      <td>9.796136</td>\n",
       "      <td>55</td>\n",
       "      <td>9.607500</td>\n",
       "      <td>40</td>\n",
       "      <td>9.917857</td>\n",
       "      <td>49</td>\n",
       "      <td>39.306250</td>\n",
       "      <td>40</td>\n",
       "      <td>2022</td>\n",
       "      <td>Jordan Chiles</td>\n",
       "    </tr>\n",
       "    <tr>\n",
       "      <th>...</th>\n",
       "      <td>...</td>\n",
       "      <td>...</td>\n",
       "      <td>...</td>\n",
       "      <td>...</td>\n",
       "      <td>...</td>\n",
       "      <td>...</td>\n",
       "      <td>...</td>\n",
       "      <td>...</td>\n",
       "      <td>...</td>\n",
       "      <td>...</td>\n",
       "      <td>...</td>\n",
       "      <td>...</td>\n",
       "      <td>...</td>\n",
       "      <td>...</td>\n",
       "    </tr>\n",
       "    <tr>\n",
       "      <th>4640</th>\n",
       "      <td>24714</td>\n",
       "      <td>Oklahoma</td>\n",
       "      <td>9.948148</td>\n",
       "      <td>27</td>\n",
       "      <td>9.953448</td>\n",
       "      <td>29</td>\n",
       "      <td>9.858333</td>\n",
       "      <td>27</td>\n",
       "      <td>9.938889</td>\n",
       "      <td>18</td>\n",
       "      <td>39.738889</td>\n",
       "      <td>18</td>\n",
       "      <td>2020</td>\n",
       "      <td>Maggie Nichols</td>\n",
       "    </tr>\n",
       "    <tr>\n",
       "      <th>6644</th>\n",
       "      <td>29946</td>\n",
       "      <td>Florida</td>\n",
       "      <td>9.908036</td>\n",
       "      <td>56</td>\n",
       "      <td>9.951786</td>\n",
       "      <td>56</td>\n",
       "      <td>9.915556</td>\n",
       "      <td>45</td>\n",
       "      <td>8.136585</td>\n",
       "      <td>41</td>\n",
       "      <td>39.741667</td>\n",
       "      <td>24</td>\n",
       "      <td>2023</td>\n",
       "      <td>Trinity Thomas</td>\n",
       "    </tr>\n",
       "    <tr>\n",
       "      <th>9332</th>\n",
       "      <td>31018</td>\n",
       "      <td>Oregon State</td>\n",
       "      <td>9.928571</td>\n",
       "      <td>56</td>\n",
       "      <td>9.942857</td>\n",
       "      <td>56</td>\n",
       "      <td>9.934375</td>\n",
       "      <td>56</td>\n",
       "      <td>9.949554</td>\n",
       "      <td>56</td>\n",
       "      <td>39.755357</td>\n",
       "      <td>56</td>\n",
       "      <td>2022</td>\n",
       "      <td>Jade Carey</td>\n",
       "    </tr>\n",
       "    <tr>\n",
       "      <th>4638</th>\n",
       "      <td>24714</td>\n",
       "      <td>Oklahoma</td>\n",
       "      <td>9.920000</td>\n",
       "      <td>60</td>\n",
       "      <td>9.947177</td>\n",
       "      <td>62</td>\n",
       "      <td>9.954032</td>\n",
       "      <td>62</td>\n",
       "      <td>9.944960</td>\n",
       "      <td>62</td>\n",
       "      <td>39.770602</td>\n",
       "      <td>54</td>\n",
       "      <td>2018</td>\n",
       "      <td>Maggie Nichols</td>\n",
       "    </tr>\n",
       "    <tr>\n",
       "      <th>6643</th>\n",
       "      <td>29946</td>\n",
       "      <td>Florida</td>\n",
       "      <td>9.930952</td>\n",
       "      <td>63</td>\n",
       "      <td>9.949603</td>\n",
       "      <td>63</td>\n",
       "      <td>9.943160</td>\n",
       "      <td>53</td>\n",
       "      <td>9.992857</td>\n",
       "      <td>49</td>\n",
       "      <td>39.830053</td>\n",
       "      <td>47</td>\n",
       "      <td>2022</td>\n",
       "      <td>Trinity Thomas</td>\n",
       "    </tr>\n",
       "  </tbody>\n",
       "</table>\n",
       "<p>66 rows × 14 columns</p>\n",
       "</div>"
      ],
      "text/plain": [
       "       Gymnast ID          Team     Vault  VT Count  Uneven Bars  UB Count  \\\n",
       "3379        24174           LSU  9.838679        53     9.766393        61   \n",
       "9166        30952           LSU  9.948529        51     9.857843        51   \n",
       "7856        30433      Kentucky  9.725000        18     9.800000        18   \n",
       "8148        30545          Utah  9.775000        12     9.760000        20   \n",
       "10869       31789          UCLA  9.853261        46     9.796136        55   \n",
       "...           ...           ...       ...       ...          ...       ...   \n",
       "4640        24714      Oklahoma  9.948148        27     9.953448        29   \n",
       "6644        29946       Florida  9.908036        56     9.951786        56   \n",
       "9332        31018  Oregon State  9.928571        56     9.942857        56   \n",
       "4638        24714      Oklahoma  9.920000        60     9.947177        62   \n",
       "6643        29946       Florida  9.930952        63     9.949603        63   \n",
       "\n",
       "       Balance Beam  BB Count  Floor Exercise  FX Count  All Around  AA Count  \\\n",
       "3379       9.820082        61        9.761111         9   38.875000         9   \n",
       "9166       9.676163        43        9.712255        51   39.205233        43   \n",
       "7856       9.815909        22        9.884091        22   39.231250        16   \n",
       "8148       9.887500        20        9.853125        16   39.240000        10   \n",
       "10869      9.607500        40        9.917857        49   39.306250        40   \n",
       "...             ...       ...             ...       ...         ...       ...   \n",
       "4640       9.858333        27        9.938889        18   39.738889        18   \n",
       "6644       9.915556        45        8.136585        41   39.741667        24   \n",
       "9332       9.934375        56        9.949554        56   39.755357        56   \n",
       "4638       9.954032        62        9.944960        62   39.770602        54   \n",
       "6643       9.943160        53        9.992857        49   39.830053        47   \n",
       "\n",
       "       Season            Name  \n",
       "3379     2016  Sarah Finnegan  \n",
       "9166     2021  Haleigh Bryant  \n",
       "7856     2020    Raena Worley  \n",
       "8148     2020   Maile O'Keefe  \n",
       "10869    2022   Jordan Chiles  \n",
       "...       ...             ...  \n",
       "4640     2020  Maggie Nichols  \n",
       "6644     2023  Trinity Thomas  \n",
       "9332     2022      Jade Carey  \n",
       "4638     2018  Maggie Nichols  \n",
       "6643     2022  Trinity Thomas  \n",
       "\n",
       "[66 rows x 14 columns]"
      ]
     },
     "execution_count": 64,
     "metadata": {},
     "output_type": "execute_result"
    }
   ],
   "source": [
    "# Finally, the AA DF\n",
    "\n",
    "# Drop any rows where a gymnast has performed fewer than 6 floor routines\n",
    "aa_average_df = average_scores_df[(average_scores_df['AA Count'] >= 6)]\n",
    "\n",
    "# Sort by average beam score in descending order\n",
    "aa_average_df = aa_average_df.sort_values(by='All Around', ascending=False)\n",
    "\n",
    "# Get the first 20 unique values in the 'Gymnast ID' column\n",
    "top_20_ave_aaers = aa_average_df['Gymnast ID'].drop_duplicates().head(20).tolist()\n",
    "\n",
    "# Filter the original DataFrame to include all rows with these unique values\n",
    "aa_average_df = aa_average_df[aa_average_df['Gymnast ID'].isin(top_20_ave_aaers)]\n",
    "\n",
    " \n",
    "\n",
    "# Preview the df\n",
    "aa_average_df.head()\n",
    "\n",
    "aa_average_df.sort_values(by='All Around', ascending=True)"
   ]
  },
  {
   "cell_type": "code",
   "execution_count": 65,
   "metadata": {},
   "outputs": [
    {
     "data": {
      "text/html": [
       "<div>\n",
       "<style scoped>\n",
       "    .dataframe tbody tr th:only-of-type {\n",
       "        vertical-align: middle;\n",
       "    }\n",
       "\n",
       "    .dataframe tbody tr th {\n",
       "        vertical-align: top;\n",
       "    }\n",
       "\n",
       "    .dataframe thead th {\n",
       "        text-align: right;\n",
       "    }\n",
       "</style>\n",
       "<table border=\"1\" class=\"dataframe\">\n",
       "  <thead>\n",
       "    <tr style=\"text-align: right;\">\n",
       "      <th></th>\n",
       "      <th>Gymnast ID</th>\n",
       "      <th>Vault</th>\n",
       "      <th>Uneven Bars</th>\n",
       "      <th>Balance Beam</th>\n",
       "      <th>Floor Exercise</th>\n",
       "      <th>All Around</th>\n",
       "      <th>Season</th>\n",
       "    </tr>\n",
       "  </thead>\n",
       "  <tbody>\n",
       "    <tr>\n",
       "      <th>0</th>\n",
       "      <td>2505</td>\n",
       "      <td>9.905660</td>\n",
       "      <td>9.963068</td>\n",
       "      <td>9.709043</td>\n",
       "      <td>9.922538</td>\n",
       "      <td>39.480488</td>\n",
       "      <td>[2015]</td>\n",
       "    </tr>\n",
       "    <tr>\n",
       "      <th>1</th>\n",
       "      <td>2518</td>\n",
       "      <td>9.923077</td>\n",
       "      <td>9.855769</td>\n",
       "      <td>9.765385</td>\n",
       "      <td>8.459615</td>\n",
       "      <td>38.003846</td>\n",
       "      <td>[2015]</td>\n",
       "    </tr>\n",
       "    <tr>\n",
       "      <th>2</th>\n",
       "      <td>22713</td>\n",
       "      <td>9.892308</td>\n",
       "      <td>9.730288</td>\n",
       "      <td>9.870385</td>\n",
       "      <td>9.947885</td>\n",
       "      <td>39.411413</td>\n",
       "      <td>[2015]</td>\n",
       "    </tr>\n",
       "    <tr>\n",
       "      <th>3</th>\n",
       "      <td>22715</td>\n",
       "      <td>9.923480</td>\n",
       "      <td>9.898766</td>\n",
       "      <td>9.855629</td>\n",
       "      <td>9.837291</td>\n",
       "      <td>39.535795</td>\n",
       "      <td>[2017, 2018, 2015, 2016, 2018, 2017, 2015, 201...</td>\n",
       "    </tr>\n",
       "    <tr>\n",
       "      <th>4</th>\n",
       "      <td>22717</td>\n",
       "      <td>9.912853</td>\n",
       "      <td>9.933051</td>\n",
       "      <td>9.856250</td>\n",
       "      <td>9.846713</td>\n",
       "      <td>39.534783</td>\n",
       "      <td>[2015, 2016, 2015, 2016, 2015, 2016]</td>\n",
       "    </tr>\n",
       "  </tbody>\n",
       "</table>\n",
       "</div>"
      ],
      "text/plain": [
       "   Gymnast ID     Vault  Uneven Bars  Balance Beam  Floor Exercise  \\\n",
       "0        2505  9.905660     9.963068      9.709043        9.922538   \n",
       "1        2518  9.923077     9.855769      9.765385        8.459615   \n",
       "2       22713  9.892308     9.730288      9.870385        9.947885   \n",
       "3       22715  9.923480     9.898766      9.855629        9.837291   \n",
       "4       22717  9.912853     9.933051      9.856250        9.846713   \n",
       "\n",
       "   All Around                                             Season  \n",
       "0   39.480488                                             [2015]  \n",
       "1   38.003846                                             [2015]  \n",
       "2   39.411413                                             [2015]  \n",
       "3   39.535795  [2017, 2018, 2015, 2016, 2018, 2017, 2015, 201...  \n",
       "4   39.534783               [2015, 2016, 2015, 2016, 2015, 2016]  "
      ]
     },
     "execution_count": 65,
     "metadata": {},
     "output_type": "execute_result"
    }
   ],
   "source": [
    "merged_ave_df = pd.concat([vault_average_df, bars_average_df, beam_average_df, floor_average_df, aa_average_df])\n",
    "\n",
    "# Preview the df\n",
    "merged_ave_df.head()\n",
    "\n",
    "# Group on gymnast_id, create new column with list of seasons, and average the scores\n",
    "merged_ave_df = merged_ave_df.groupby('Gymnast ID').agg({'Vault': 'mean', 'Uneven Bars': 'mean', 'Balance Beam': 'mean', 'Floor Exercise': 'mean', 'All Around': 'mean', 'Season': lambda x: list(x)}).reset_index()\n",
    "# Preview the df\n",
    "merged_ave_df.head()"
   ]
  },
  {
   "cell_type": "code",
   "execution_count": 66,
   "metadata": {},
   "outputs": [
    {
     "data": {
      "application/vnd.plotly.v1+json": {
       "config": {
        "plotlyServerURL": "https://plot.ly"
       },
       "data": [
        {
         "cliponaxis": false,
         "hoverinfo": "all",
         "marker": {
          "color": [
           "rgb(211, 219, 57)"
          ]
         },
         "orientation": "h",
         "textangle": 0,
         "textposition": "outside",
         "texttemplate": "%{y}<br>%{x:.4s}",
         "type": "bar",
         "x": [
          39.6125
         ],
         "y": [
          "Bridget Sloan"
         ]
        }
       ],
       "frames": [
        {
         "data": [
          {
           "cliponaxis": false,
           "hoverinfo": "all",
           "hovertemplate": "<extra></extra>",
           "marker": {
            "color": [
             "rgb(211, 219, 57)"
            ]
           },
           "orientation": "h",
           "textangle": 0,
           "textposition": "outside",
           "texttemplate": "%{y}<br>%{x:.4s}",
           "type": "bar",
           "x": [
            39.6125
           ],
           "y": [
            "Bridget Sloan"
           ]
          }
         ],
         "layout": {
          "bargap": 0.15,
          "font": {
           "size": 14
          },
          "plot_bgcolor": "#FFFFFF",
          "title": {
           "text": "Top AA'ers over time"
          },
          "xaxis": {
           "range": [
            0,
            39.83005319148936
           ],
           "showline": true,
           "visible": true
          },
          "yaxis": {
           "showline": false,
           "visible": true
          }
         },
         "name": "2015"
        },
        {
         "data": [
          {
           "cliponaxis": false,
           "hoverinfo": "all",
           "hovertemplate": "<extra></extra>",
           "marker": {
            "color": [
             "rgb(41, 89, 160)",
             "rgb(211, 219, 57)",
             "rgb(134, 150, 202)",
             "rgb(154, 144, 37)"
            ]
           },
           "orientation": "h",
           "textangle": 0,
           "textposition": "outside",
           "texttemplate": "%{y}<br>%{x:.4s}",
           "type": "bar",
           "x": [
            38.875,
            39.4570652173913,
            39.48804347826087,
            39.537962962962965
           ],
           "y": [
            "Sarah Finnegan",
            "Bridget Sloan",
            "Alex McMurtry",
            "Elizabeth Price"
           ]
          }
         ],
         "layout": {
          "bargap": 0.15,
          "font": {
           "size": 14
          },
          "plot_bgcolor": "#FFFFFF",
          "title": {
           "text": "Top AA'ers over time"
          },
          "xaxis": {
           "range": [
            0,
            39.83005319148936
           ],
           "showline": true,
           "visible": true
          },
          "yaxis": {
           "showline": false,
           "visible": true
          }
         },
         "name": "2016"
        },
        {
         "data": [
          {
           "cliponaxis": false,
           "hoverinfo": "all",
           "hovertemplate": "<extra></extra>",
           "marker": {
            "color": [
             "rgb(148, 29, 195)",
             "rgb(41, 89, 160)",
             "rgb(31, 85, 174)",
             "rgb(84, 5, 43)",
             "rgb(134, 150, 202)"
            ]
           },
           "orientation": "h",
           "textangle": 0,
           "textposition": "outside",
           "texttemplate": "%{y}<br>%{x:.4s}",
           "type": "bar",
           "x": [
            39.37794117647059,
            39.49742647058823,
            39.589999999999996,
            39.60049019607843,
            39.63715277777778
           ],
           "y": [
            "Kyla Ross",
            "Sarah Finnegan",
            "Maggie Nichols",
            "MyKayla Skinner",
            "Alex McMurtry"
           ]
          }
         ],
         "layout": {
          "bargap": 0.15,
          "font": {
           "size": 14
          },
          "plot_bgcolor": "#FFFFFF",
          "title": {
           "text": "Top AA'ers over time"
          },
          "xaxis": {
           "range": [
            0,
            39.83005319148936
           ],
           "showline": true,
           "visible": true
          },
          "yaxis": {
           "showline": false,
           "visible": true
          }
         },
         "name": "2017"
        },
        {
         "data": [
          {
           "cliponaxis": false,
           "hoverinfo": "all",
           "hovertemplate": "<extra></extra>",
           "marker": {
            "color": [
             "rgb(142, 219, 70)",
             "rgb(134, 150, 202)",
             "rgb(41, 89, 160)",
             "rgb(148, 29, 195)",
             "rgb(154, 144, 37)",
             "rgb(84, 5, 43)",
             "rgb(31, 85, 174)"
            ]
           },
           "orientation": "h",
           "textangle": 0,
           "textposition": "outside",
           "texttemplate": "%{y}<br>%{x:.4s}",
           "type": "bar",
           "x": [
            39.387499999999996,
            39.482187499999995,
            39.57083333333333,
            39.62063953488372,
            39.6219298245614,
            39.66875,
            39.77060185185186
           ],
           "y": [
            "Lexy Ramler",
            "Alex McMurtry",
            "Sarah Finnegan",
            "Kyla Ross",
            "Elizabeth Price",
            "MyKayla Skinner",
            "Maggie Nichols"
           ]
          }
         ],
         "layout": {
          "bargap": 0.15,
          "font": {
           "size": 14
          },
          "plot_bgcolor": "#FFFFFF",
          "title": {
           "text": "Top AA'ers over time"
          },
          "xaxis": {
           "range": [
            0,
            39.83005319148936
           ],
           "showline": true,
           "visible": true
          },
          "yaxis": {
           "showline": false,
           "visible": true
          }
         },
         "name": "2018"
        },
        {
         "data": [
          {
           "cliponaxis": false,
           "hoverinfo": "all",
           "hovertemplate": "<extra></extra>",
           "marker": {
            "color": [
             "rgb(231, 38, 209)",
             "rgb(142, 219, 70)",
             "rgb(84, 5, 43)",
             "rgb(148, 29, 195)",
             "rgb(41, 89, 160)",
             "rgb(31, 85, 174)"
            ]
           },
           "orientation": "h",
           "textangle": 0,
           "textposition": "outside",
           "texttemplate": "%{y}<br>%{x:.4s}",
           "type": "bar",
           "x": [
            39.486111111111114,
            39.51285714285714,
            39.55580357142857,
            39.6220744680851,
            39.66509433962264,
            39.721875
           ],
           "y": [
            "Trinity Thomas",
            "Lexy Ramler",
            "MyKayla Skinner",
            "Kyla Ross",
            "Sarah Finnegan",
            "Maggie Nichols"
           ]
          }
         ],
         "layout": {
          "bargap": 0.15,
          "font": {
           "size": 14
          },
          "plot_bgcolor": "#FFFFFF",
          "title": {
           "text": "Top AA'ers over time"
          },
          "xaxis": {
           "range": [
            0,
            39.83005319148936
           ],
           "showline": true,
           "visible": true
          },
          "yaxis": {
           "showline": false,
           "visible": true
          }
         },
         "name": "2019"
        },
        {
         "data": [
          {
           "cliponaxis": false,
           "hoverinfo": "all",
           "hovertemplate": "<extra></extra>",
           "marker": {
            "color": [
             "rgb(26, 248, 176)",
             "rgb(6, 232, 33)",
             "rgb(142, 219, 70)",
             "rgb(231, 38, 209)",
             "rgb(148, 29, 195)",
             "rgb(31, 85, 174)"
            ]
           },
           "orientation": "h",
           "textangle": 0,
           "textposition": "outside",
           "texttemplate": "%{y}<br>%{x:.4s}",
           "type": "bar",
           "x": [
            39.23125,
            39.239999999999995,
            39.417,
            39.61184210526316,
            39.71739130434783,
            39.73888888888889
           ],
           "y": [
            "Raena Worley",
            "Maile O'Keefe",
            "Lexy Ramler",
            "Trinity Thomas",
            "Kyla Ross",
            "Maggie Nichols"
           ]
          }
         ],
         "layout": {
          "bargap": 0.15,
          "font": {
           "size": 14
          },
          "plot_bgcolor": "#FFFFFF",
          "title": {
           "text": "Top AA'ers over time"
          },
          "xaxis": {
           "range": [
            0,
            39.83005319148936
           ],
           "showline": true,
           "visible": true
          },
          "yaxis": {
           "showline": false,
           "visible": true
          }
         },
         "name": "2020"
        },
        {
         "data": [
          {
           "cliponaxis": false,
           "hoverinfo": "all",
           "hovertemplate": "<extra></extra>",
           "marker": {
            "color": [
             "rgb(172, 252, 236)",
             "rgb(226, 189, 139)",
             "rgb(26, 248, 176)",
             "rgb(231, 38, 209)",
             "rgb(6, 232, 33)",
             "rgb(142, 219, 70)",
             "rgb(188, 43, 31)"
            ]
           },
           "orientation": "h",
           "textangle": 0,
           "textposition": "outside",
           "texttemplate": "%{y}<br>%{x:.4s}",
           "type": "bar",
           "x": [
            39.205232558139535,
            39.39821428571429,
            39.450625,
            39.46826923076923,
            39.583258928571425,
            39.68508771929825,
            39.7047619047619
           ],
           "y": [
            "Haleigh Bryant",
            "Jessica Hutchinson",
            "Raena Worley",
            "Trinity Thomas",
            "Maile O'Keefe",
            "Lexy Ramler",
            "Luisa Blanco"
           ]
          }
         ],
         "layout": {
          "bargap": 0.15,
          "font": {
           "size": 14
          },
          "plot_bgcolor": "#FFFFFF",
          "title": {
           "text": "Top AA'ers over time"
          },
          "xaxis": {
           "range": [
            0,
            39.83005319148936
           ],
           "showline": true,
           "visible": true
          },
          "yaxis": {
           "showline": false,
           "visible": true
          }
         },
         "name": "2021"
        },
        {
         "data": [
          {
           "cliponaxis": false,
           "hoverinfo": "all",
           "hovertemplate": "<extra></extra>",
           "marker": {
            "color": [
             "rgb(172, 252, 236)",
             "rgb(188, 43, 31)",
             "rgb(6, 232, 33)",
             "rgb(226, 189, 139)",
             "rgb(2, 3, 96)",
             "rgb(26, 248, 176)",
             "rgb(128, 14, 164)",
             "rgb(142, 219, 70)",
             "rgb(43, 150, 238)",
             "rgb(231, 38, 209)"
            ]
           },
           "orientation": "h",
           "textangle": 0,
           "textposition": "outside",
           "texttemplate": "%{y}<br>%{x:.4s}",
           "type": "bar",
           "x": [
            39.310526315789474,
            39.324999999999996,
            39.455681818181816,
            39.5625,
            39.60043103448275,
            39.61795454545455,
            39.62783018867925,
            39.63825757575758,
            39.75535714285714,
            39.83005319148936
           ],
           "y": [
            "Haleigh Bryant",
            "Luisa Blanco",
            "Maile O'Keefe",
            "Jessica Hutchinson",
            "Sunisa Lee",
            "Raena Worley",
            "Leanne Wong",
            "Lexy Ramler",
            "Jade Carey",
            "Trinity Thomas"
           ]
          }
         ],
         "layout": {
          "bargap": 0.15,
          "font": {
           "size": 14
          },
          "plot_bgcolor": "#FFFFFF",
          "title": {
           "text": "Top AA'ers over time"
          },
          "xaxis": {
           "range": [
            0,
            39.83005319148936
           ],
           "showline": true,
           "visible": true
          },
          "yaxis": {
           "showline": false,
           "visible": true
          }
         },
         "name": "2022"
        },
        {
         "data": [
          {
           "cliponaxis": false,
           "hoverinfo": "all",
           "hovertemplate": "<extra></extra>",
           "marker": {
            "color": [
             "rgb(26, 248, 176)",
             "rgb(128, 14, 164)",
             "rgb(184, 233, 255)",
             "rgb(212, 174, 145)",
             "rgb(6, 232, 33)",
             "rgb(226, 156, 160)",
             "rgb(172, 252, 236)",
             "rgb(43, 150, 238)",
             "rgb(2, 3, 96)",
             "rgb(231, 38, 209)"
            ]
           },
           "orientation": "h",
           "textangle": 0,
           "textposition": "outside",
           "texttemplate": "%{y}<br>%{x:.4s}",
           "type": "bar",
           "x": [
            39.5786231884058,
            39.57934782608695,
            39.618115942028986,
            39.63333333333333,
            39.63818181818181,
            39.65909090909091,
            39.67777777777778,
            39.691964285714285,
            39.705555555555556,
            39.74166666666667
           ],
           "y": [
            "Raena Worley",
            "Leanne Wong",
            "Kayla Dicello",
            "Selena Harris",
            "Maile O'Keefe",
            "Jordan Chiles",
            "Haleigh Bryant",
            "Jade Carey",
            "Sunisa Lee",
            "Trinity Thomas"
           ]
          }
         ],
         "layout": {
          "bargap": 0.15,
          "font": {
           "size": 14
          },
          "plot_bgcolor": "#FFFFFF",
          "title": {
           "text": "Top AA'ers over time"
          },
          "xaxis": {
           "range": [
            0,
            39.83005319148936
           ],
           "showline": true,
           "visible": true
          },
          "yaxis": {
           "showline": false,
           "visible": true
          }
         },
         "name": "2023"
        },
        {
         "data": [
          {
           "cliponaxis": false,
           "hoverinfo": "all",
           "hovertemplate": "<extra></extra>",
           "marker": {
            "color": [
             "rgb(188, 43, 31)",
             "rgb(26, 248, 176)",
             "rgb(212, 174, 145)",
             "rgb(226, 189, 139)",
             "rgb(128, 14, 164)",
             "rgb(43, 150, 238)",
             "rgb(172, 252, 236)"
            ]
           },
           "orientation": "h",
           "textangle": 0,
           "textposition": "outside",
           "texttemplate": "%{y}<br>%{x:.4s}",
           "type": "bar",
           "x": [
            39.34915254237288,
            39.606818181818184,
            39.621511627906976,
            39.62708333333334,
            39.63508771929825,
            39.67666666666667,
            39.73403846153846
           ],
           "y": [
            "Luisa Blanco",
            "Raena Worley",
            "Selena Harris",
            "Jessica Hutchinson",
            "Leanne Wong",
            "Jade Carey",
            "Haleigh Bryant"
           ]
          }
         ],
         "layout": {
          "bargap": 0.15,
          "font": {
           "size": 14
          },
          "plot_bgcolor": "#FFFFFF",
          "title": {
           "text": "Top AA'ers over time"
          },
          "xaxis": {
           "range": [
            0,
            39.83005319148936
           ],
           "showline": true,
           "visible": true
          },
          "yaxis": {
           "showline": false,
           "visible": true
          }
         },
         "name": "2024"
        }
       ],
       "layout": {
        "bargap": 0.15,
        "font": {
         "size": 14
        },
        "plot_bgcolor": "#FFFFFF",
        "sliders": [
         {
          "active": 0,
          "currentvalue": {
           "font": {
            "size": 20
           },
           "prefix": "Date: ",
           "visible": true,
           "xanchor": "right"
          },
          "len": 0.9,
          "pad": {
           "b": 10,
           "t": 50
          },
          "steps": [
           {
            "args": [
             [
              "2015"
             ],
             {
              "frame": {
               "duration": 800,
               "redraw": false
              },
              "mode": "immediate",
              "transition": {
               "duration": 800
              }
             }
            ],
            "label": "2015",
            "method": "animate"
           },
           {
            "args": [
             [
              "2016"
             ],
             {
              "frame": {
               "duration": 800,
               "redraw": false
              },
              "mode": "immediate",
              "transition": {
               "duration": 800
              }
             }
            ],
            "label": "2016",
            "method": "animate"
           },
           {
            "args": [
             [
              "2017"
             ],
             {
              "frame": {
               "duration": 800,
               "redraw": false
              },
              "mode": "immediate",
              "transition": {
               "duration": 800
              }
             }
            ],
            "label": "2017",
            "method": "animate"
           },
           {
            "args": [
             [
              "2018"
             ],
             {
              "frame": {
               "duration": 800,
               "redraw": false
              },
              "mode": "immediate",
              "transition": {
               "duration": 800
              }
             }
            ],
            "label": "2018",
            "method": "animate"
           },
           {
            "args": [
             [
              "2019"
             ],
             {
              "frame": {
               "duration": 800,
               "redraw": false
              },
              "mode": "immediate",
              "transition": {
               "duration": 800
              }
             }
            ],
            "label": "2019",
            "method": "animate"
           },
           {
            "args": [
             [
              "2020"
             ],
             {
              "frame": {
               "duration": 800,
               "redraw": false
              },
              "mode": "immediate",
              "transition": {
               "duration": 800
              }
             }
            ],
            "label": "2020",
            "method": "animate"
           },
           {
            "args": [
             [
              "2021"
             ],
             {
              "frame": {
               "duration": 800,
               "redraw": false
              },
              "mode": "immediate",
              "transition": {
               "duration": 800
              }
             }
            ],
            "label": "2021",
            "method": "animate"
           },
           {
            "args": [
             [
              "2022"
             ],
             {
              "frame": {
               "duration": 800,
               "redraw": false
              },
              "mode": "immediate",
              "transition": {
               "duration": 800
              }
             }
            ],
            "label": "2022",
            "method": "animate"
           },
           {
            "args": [
             [
              "2023"
             ],
             {
              "frame": {
               "duration": 800,
               "redraw": false
              },
              "mode": "immediate",
              "transition": {
               "duration": 800
              }
             }
            ],
            "label": "2023",
            "method": "animate"
           },
           {
            "args": [
             [
              "2024"
             ],
             {
              "frame": {
               "duration": 800,
               "redraw": false
              },
              "mode": "immediate",
              "transition": {
               "duration": 800
              }
             }
            ],
            "label": "2024",
            "method": "animate"
           }
          ],
          "transition": {
           "duration": 300,
           "easing": "cubic-in-out"
          },
          "x": 0.1,
          "xanchor": "left",
          "y": 0,
          "yanchor": "top"
         }
        ],
        "template": {
         "data": {
          "bar": [
           {
            "error_x": {
             "color": "#2a3f5f"
            },
            "error_y": {
             "color": "#2a3f5f"
            },
            "marker": {
             "line": {
              "color": "#E5ECF6",
              "width": 0.5
             },
             "pattern": {
              "fillmode": "overlay",
              "size": 10,
              "solidity": 0.2
             }
            },
            "type": "bar"
           }
          ],
          "barpolar": [
           {
            "marker": {
             "line": {
              "color": "#E5ECF6",
              "width": 0.5
             },
             "pattern": {
              "fillmode": "overlay",
              "size": 10,
              "solidity": 0.2
             }
            },
            "type": "barpolar"
           }
          ],
          "carpet": [
           {
            "aaxis": {
             "endlinecolor": "#2a3f5f",
             "gridcolor": "white",
             "linecolor": "white",
             "minorgridcolor": "white",
             "startlinecolor": "#2a3f5f"
            },
            "baxis": {
             "endlinecolor": "#2a3f5f",
             "gridcolor": "white",
             "linecolor": "white",
             "minorgridcolor": "white",
             "startlinecolor": "#2a3f5f"
            },
            "type": "carpet"
           }
          ],
          "choropleth": [
           {
            "colorbar": {
             "outlinewidth": 0,
             "ticks": ""
            },
            "type": "choropleth"
           }
          ],
          "contour": [
           {
            "colorbar": {
             "outlinewidth": 0,
             "ticks": ""
            },
            "colorscale": [
             [
              0,
              "#0d0887"
             ],
             [
              0.1111111111111111,
              "#46039f"
             ],
             [
              0.2222222222222222,
              "#7201a8"
             ],
             [
              0.3333333333333333,
              "#9c179e"
             ],
             [
              0.4444444444444444,
              "#bd3786"
             ],
             [
              0.5555555555555556,
              "#d8576b"
             ],
             [
              0.6666666666666666,
              "#ed7953"
             ],
             [
              0.7777777777777778,
              "#fb9f3a"
             ],
             [
              0.8888888888888888,
              "#fdca26"
             ],
             [
              1,
              "#f0f921"
             ]
            ],
            "type": "contour"
           }
          ],
          "contourcarpet": [
           {
            "colorbar": {
             "outlinewidth": 0,
             "ticks": ""
            },
            "type": "contourcarpet"
           }
          ],
          "heatmap": [
           {
            "colorbar": {
             "outlinewidth": 0,
             "ticks": ""
            },
            "colorscale": [
             [
              0,
              "#0d0887"
             ],
             [
              0.1111111111111111,
              "#46039f"
             ],
             [
              0.2222222222222222,
              "#7201a8"
             ],
             [
              0.3333333333333333,
              "#9c179e"
             ],
             [
              0.4444444444444444,
              "#bd3786"
             ],
             [
              0.5555555555555556,
              "#d8576b"
             ],
             [
              0.6666666666666666,
              "#ed7953"
             ],
             [
              0.7777777777777778,
              "#fb9f3a"
             ],
             [
              0.8888888888888888,
              "#fdca26"
             ],
             [
              1,
              "#f0f921"
             ]
            ],
            "type": "heatmap"
           }
          ],
          "heatmapgl": [
           {
            "colorbar": {
             "outlinewidth": 0,
             "ticks": ""
            },
            "colorscale": [
             [
              0,
              "#0d0887"
             ],
             [
              0.1111111111111111,
              "#46039f"
             ],
             [
              0.2222222222222222,
              "#7201a8"
             ],
             [
              0.3333333333333333,
              "#9c179e"
             ],
             [
              0.4444444444444444,
              "#bd3786"
             ],
             [
              0.5555555555555556,
              "#d8576b"
             ],
             [
              0.6666666666666666,
              "#ed7953"
             ],
             [
              0.7777777777777778,
              "#fb9f3a"
             ],
             [
              0.8888888888888888,
              "#fdca26"
             ],
             [
              1,
              "#f0f921"
             ]
            ],
            "type": "heatmapgl"
           }
          ],
          "histogram": [
           {
            "marker": {
             "pattern": {
              "fillmode": "overlay",
              "size": 10,
              "solidity": 0.2
             }
            },
            "type": "histogram"
           }
          ],
          "histogram2d": [
           {
            "colorbar": {
             "outlinewidth": 0,
             "ticks": ""
            },
            "colorscale": [
             [
              0,
              "#0d0887"
             ],
             [
              0.1111111111111111,
              "#46039f"
             ],
             [
              0.2222222222222222,
              "#7201a8"
             ],
             [
              0.3333333333333333,
              "#9c179e"
             ],
             [
              0.4444444444444444,
              "#bd3786"
             ],
             [
              0.5555555555555556,
              "#d8576b"
             ],
             [
              0.6666666666666666,
              "#ed7953"
             ],
             [
              0.7777777777777778,
              "#fb9f3a"
             ],
             [
              0.8888888888888888,
              "#fdca26"
             ],
             [
              1,
              "#f0f921"
             ]
            ],
            "type": "histogram2d"
           }
          ],
          "histogram2dcontour": [
           {
            "colorbar": {
             "outlinewidth": 0,
             "ticks": ""
            },
            "colorscale": [
             [
              0,
              "#0d0887"
             ],
             [
              0.1111111111111111,
              "#46039f"
             ],
             [
              0.2222222222222222,
              "#7201a8"
             ],
             [
              0.3333333333333333,
              "#9c179e"
             ],
             [
              0.4444444444444444,
              "#bd3786"
             ],
             [
              0.5555555555555556,
              "#d8576b"
             ],
             [
              0.6666666666666666,
              "#ed7953"
             ],
             [
              0.7777777777777778,
              "#fb9f3a"
             ],
             [
              0.8888888888888888,
              "#fdca26"
             ],
             [
              1,
              "#f0f921"
             ]
            ],
            "type": "histogram2dcontour"
           }
          ],
          "mesh3d": [
           {
            "colorbar": {
             "outlinewidth": 0,
             "ticks": ""
            },
            "type": "mesh3d"
           }
          ],
          "parcoords": [
           {
            "line": {
             "colorbar": {
              "outlinewidth": 0,
              "ticks": ""
             }
            },
            "type": "parcoords"
           }
          ],
          "pie": [
           {
            "automargin": true,
            "type": "pie"
           }
          ],
          "scatter": [
           {
            "fillpattern": {
             "fillmode": "overlay",
             "size": 10,
             "solidity": 0.2
            },
            "type": "scatter"
           }
          ],
          "scatter3d": [
           {
            "line": {
             "colorbar": {
              "outlinewidth": 0,
              "ticks": ""
             }
            },
            "marker": {
             "colorbar": {
              "outlinewidth": 0,
              "ticks": ""
             }
            },
            "type": "scatter3d"
           }
          ],
          "scattercarpet": [
           {
            "marker": {
             "colorbar": {
              "outlinewidth": 0,
              "ticks": ""
             }
            },
            "type": "scattercarpet"
           }
          ],
          "scattergeo": [
           {
            "marker": {
             "colorbar": {
              "outlinewidth": 0,
              "ticks": ""
             }
            },
            "type": "scattergeo"
           }
          ],
          "scattergl": [
           {
            "marker": {
             "colorbar": {
              "outlinewidth": 0,
              "ticks": ""
             }
            },
            "type": "scattergl"
           }
          ],
          "scattermapbox": [
           {
            "marker": {
             "colorbar": {
              "outlinewidth": 0,
              "ticks": ""
             }
            },
            "type": "scattermapbox"
           }
          ],
          "scatterpolar": [
           {
            "marker": {
             "colorbar": {
              "outlinewidth": 0,
              "ticks": ""
             }
            },
            "type": "scatterpolar"
           }
          ],
          "scatterpolargl": [
           {
            "marker": {
             "colorbar": {
              "outlinewidth": 0,
              "ticks": ""
             }
            },
            "type": "scatterpolargl"
           }
          ],
          "scatterternary": [
           {
            "marker": {
             "colorbar": {
              "outlinewidth": 0,
              "ticks": ""
             }
            },
            "type": "scatterternary"
           }
          ],
          "surface": [
           {
            "colorbar": {
             "outlinewidth": 0,
             "ticks": ""
            },
            "colorscale": [
             [
              0,
              "#0d0887"
             ],
             [
              0.1111111111111111,
              "#46039f"
             ],
             [
              0.2222222222222222,
              "#7201a8"
             ],
             [
              0.3333333333333333,
              "#9c179e"
             ],
             [
              0.4444444444444444,
              "#bd3786"
             ],
             [
              0.5555555555555556,
              "#d8576b"
             ],
             [
              0.6666666666666666,
              "#ed7953"
             ],
             [
              0.7777777777777778,
              "#fb9f3a"
             ],
             [
              0.8888888888888888,
              "#fdca26"
             ],
             [
              1,
              "#f0f921"
             ]
            ],
            "type": "surface"
           }
          ],
          "table": [
           {
            "cells": {
             "fill": {
              "color": "#EBF0F8"
             },
             "line": {
              "color": "white"
             }
            },
            "header": {
             "fill": {
              "color": "#C8D4E3"
             },
             "line": {
              "color": "white"
             }
            },
            "type": "table"
           }
          ]
         },
         "layout": {
          "annotationdefaults": {
           "arrowcolor": "#2a3f5f",
           "arrowhead": 0,
           "arrowwidth": 1
          },
          "autotypenumbers": "strict",
          "coloraxis": {
           "colorbar": {
            "outlinewidth": 0,
            "ticks": ""
           }
          },
          "colorscale": {
           "diverging": [
            [
             0,
             "#8e0152"
            ],
            [
             0.1,
             "#c51b7d"
            ],
            [
             0.2,
             "#de77ae"
            ],
            [
             0.3,
             "#f1b6da"
            ],
            [
             0.4,
             "#fde0ef"
            ],
            [
             0.5,
             "#f7f7f7"
            ],
            [
             0.6,
             "#e6f5d0"
            ],
            [
             0.7,
             "#b8e186"
            ],
            [
             0.8,
             "#7fbc41"
            ],
            [
             0.9,
             "#4d9221"
            ],
            [
             1,
             "#276419"
            ]
           ],
           "sequential": [
            [
             0,
             "#0d0887"
            ],
            [
             0.1111111111111111,
             "#46039f"
            ],
            [
             0.2222222222222222,
             "#7201a8"
            ],
            [
             0.3333333333333333,
             "#9c179e"
            ],
            [
             0.4444444444444444,
             "#bd3786"
            ],
            [
             0.5555555555555556,
             "#d8576b"
            ],
            [
             0.6666666666666666,
             "#ed7953"
            ],
            [
             0.7777777777777778,
             "#fb9f3a"
            ],
            [
             0.8888888888888888,
             "#fdca26"
            ],
            [
             1,
             "#f0f921"
            ]
           ],
           "sequentialminus": [
            [
             0,
             "#0d0887"
            ],
            [
             0.1111111111111111,
             "#46039f"
            ],
            [
             0.2222222222222222,
             "#7201a8"
            ],
            [
             0.3333333333333333,
             "#9c179e"
            ],
            [
             0.4444444444444444,
             "#bd3786"
            ],
            [
             0.5555555555555556,
             "#d8576b"
            ],
            [
             0.6666666666666666,
             "#ed7953"
            ],
            [
             0.7777777777777778,
             "#fb9f3a"
            ],
            [
             0.8888888888888888,
             "#fdca26"
            ],
            [
             1,
             "#f0f921"
            ]
           ]
          },
          "colorway": [
           "#636efa",
           "#EF553B",
           "#00cc96",
           "#ab63fa",
           "#FFA15A",
           "#19d3f3",
           "#FF6692",
           "#B6E880",
           "#FF97FF",
           "#FECB52"
          ],
          "font": {
           "color": "#2a3f5f"
          },
          "geo": {
           "bgcolor": "white",
           "lakecolor": "white",
           "landcolor": "#E5ECF6",
           "showlakes": true,
           "showland": true,
           "subunitcolor": "white"
          },
          "hoverlabel": {
           "align": "left"
          },
          "hovermode": "closest",
          "mapbox": {
           "style": "light"
          },
          "paper_bgcolor": "white",
          "plot_bgcolor": "#E5ECF6",
          "polar": {
           "angularaxis": {
            "gridcolor": "white",
            "linecolor": "white",
            "ticks": ""
           },
           "bgcolor": "#E5ECF6",
           "radialaxis": {
            "gridcolor": "white",
            "linecolor": "white",
            "ticks": ""
           }
          },
          "scene": {
           "xaxis": {
            "backgroundcolor": "#E5ECF6",
            "gridcolor": "white",
            "gridwidth": 2,
            "linecolor": "white",
            "showbackground": true,
            "ticks": "",
            "zerolinecolor": "white"
           },
           "yaxis": {
            "backgroundcolor": "#E5ECF6",
            "gridcolor": "white",
            "gridwidth": 2,
            "linecolor": "white",
            "showbackground": true,
            "ticks": "",
            "zerolinecolor": "white"
           },
           "zaxis": {
            "backgroundcolor": "#E5ECF6",
            "gridcolor": "white",
            "gridwidth": 2,
            "linecolor": "white",
            "showbackground": true,
            "ticks": "",
            "zerolinecolor": "white"
           }
          },
          "shapedefaults": {
           "line": {
            "color": "#2a3f5f"
           }
          },
          "ternary": {
           "aaxis": {
            "gridcolor": "white",
            "linecolor": "white",
            "ticks": ""
           },
           "baxis": {
            "gridcolor": "white",
            "linecolor": "white",
            "ticks": ""
           },
           "bgcolor": "#E5ECF6",
           "caxis": {
            "gridcolor": "white",
            "linecolor": "white",
            "ticks": ""
           }
          },
          "title": {
           "x": 0.05
          },
          "xaxis": {
           "automargin": true,
           "gridcolor": "white",
           "linecolor": "white",
           "ticks": "",
           "title": {
            "standoff": 15
           },
           "zerolinecolor": "white",
           "zerolinewidth": 2
          },
          "yaxis": {
           "automargin": true,
           "gridcolor": "white",
           "linecolor": "white",
           "ticks": "",
           "title": {
            "standoff": 15
           },
           "zerolinecolor": "white",
           "zerolinewidth": 2
          }
         }
        },
        "title": {
         "text": "Top AA'ers over time"
        },
        "updatemenus": [
         {
          "buttons": [
           {
            "args": [
             null,
             {
              "frame": {
               "duration": 800,
               "redraw": false
              },
              "fromcurrent": true,
              "transition": {
               "duration": 800,
               "easing": "quadratic-in-out"
              }
             }
            ],
            "label": "Play",
            "method": "animate"
           },
           {
            "args": [
             [
              null
             ],
             {
              "frame": {
               "duration": 0,
               "redraw": false
              },
              "mode": "immediate",
              "transition": {
               "duration": 0
              }
             }
            ],
            "label": "Pause",
            "method": "animate"
           }
          ],
          "direction": "left",
          "pad": {
           "r": 10,
           "t": 87
          },
          "showactive": true,
          "type": "buttons",
          "x": 0.1,
          "xanchor": "right",
          "y": 0,
          "yanchor": "top"
         }
        ],
        "xaxis": {
         "range": [
          0,
          39.83005319148936
         ],
         "showline": true,
         "showticklabels": true,
         "title": {
          "text": "Ave. Score"
         },
         "visible": true
        },
        "yaxis": {
         "showline": false,
         "showticklabels": false,
         "title": {
          "text": "Gymnast"
         },
         "visible": true
        }
       }
      }
     },
     "metadata": {},
     "output_type": "display_data"
    }
   ],
   "source": [
    "my_raceplot = barplot(aa_average_df,\n",
    "                      item_column='Name',\n",
    "                      value_column='All Around',\n",
    "                      time_column='Season')\n",
    "\n",
    "my_raceplot.plot(title = \"Top AA'ers over time\",\n",
    "                 item_label = 'Gymnast',\n",
    "                 value_label = 'Ave. Score',\n",
    "                 frame_duration = 800)"
   ]
  },
  {
   "cell_type": "markdown",
   "metadata": {},
   "source": [
    "# Who got the highest average/median of all time\n",
    "# Who got the highest average/median each year\n",
    "\n",
    "# Which teams own the most goats?"
   ]
  },
  {
   "cell_type": "markdown",
   "metadata": {},
   "source": [
    "### 2.3.4 Prepare the plots"
   ]
  },
  {
   "cell_type": "code",
   "execution_count": 67,
   "metadata": {},
   "outputs": [
    {
     "data": {
      "text/plain": [
       "39.83005319148936"
      ]
     },
     "execution_count": 67,
     "metadata": {},
     "output_type": "execute_result"
    }
   ],
   "source": [
    "aa_average_df_sorted = aa_average_df.sort_values(by='All Around', ascending=False)\n",
    "\n",
    "aa_average_df_sorted['All Around'].max()"
   ]
  },
  {
   "cell_type": "code",
   "execution_count": 68,
   "metadata": {},
   "outputs": [
    {
     "name": "stderr",
     "output_type": "stream",
     "text": [
      "/var/folders/f6/yc2mppq57tq4fjfn7hmfsy0c0000gn/T/ipykernel_45256/234036276.py:4: FutureWarning:\n",
      "\n",
      "The previous implementation of stack is deprecated and will be removed in a future version of pandas. See the What's New notes for pandas 2.1.0 for details. Specify future_stack=True to adopt the new implementation and silence this warning.\n",
      "\n"
     ]
    },
    {
     "data": {
      "application/vnd.plotly.v1+json": {
       "config": {
        "plotlyServerURL": "https://plot.ly"
       },
       "data": [
        {
         "alignmentgroup": "True",
         "hovertemplate": "<b>%{hovertext}</b><br><br>Season=2015<br>All Around=%{marker.color}<br>Name=%{y}<extra></extra>",
         "hovertext": [
          0,
          39.6125,
          0,
          0,
          0,
          0,
          0,
          0,
          0,
          0,
          0,
          0,
          0,
          0,
          0,
          0,
          0,
          0,
          0,
          0
         ],
         "legendgroup": "",
         "marker": {
          "color": [
           0,
           39.6125,
           0,
           0,
           0,
           0,
           0,
           0,
           0,
           0,
           0,
           0,
           0,
           0,
           0,
           0,
           0,
           0,
           0,
           0
          ],
          "coloraxis": "coloraxis",
          "opacity": 0.8,
          "pattern": {
           "shape": ""
          }
         },
         "name": "",
         "offsetgroup": "",
         "orientation": "h",
         "showlegend": false,
         "textposition": "auto",
         "type": "bar",
         "x": [
          0,
          39.6125,
          0,
          0,
          0,
          0,
          0,
          0,
          0,
          0,
          0,
          0,
          0,
          0,
          0,
          0,
          0,
          0,
          0,
          0
         ],
         "xaxis": "x",
         "y": [
          "Alex McMurtry",
          "Bridget Sloan",
          "Elizabeth Price",
          "Haleigh Bryant",
          "Jade Carey",
          "Jessica Hutchinson",
          "Jordan Chiles",
          "Kayla Dicello",
          "Kyla Ross",
          "Leanne Wong",
          "Lexy Ramler",
          "Luisa Blanco",
          "Maggie Nichols",
          "Maile O'Keefe",
          "MyKayla Skinner",
          "Raena Worley",
          "Sarah Finnegan",
          "Selena Harris",
          "Sunisa Lee",
          "Trinity Thomas"
         ],
         "yaxis": "y"
        }
       ],
       "frames": [
        {
         "data": [
          {
           "alignmentgroup": "True",
           "hovertemplate": "<b>%{hovertext}</b><br><br>Season=2015<br>All Around=%{marker.color}<br>Name=%{y}<extra></extra>",
           "hovertext": [
            0,
            39.6125,
            0,
            0,
            0,
            0,
            0,
            0,
            0,
            0,
            0,
            0,
            0,
            0,
            0,
            0,
            0,
            0,
            0,
            0
           ],
           "legendgroup": "",
           "marker": {
            "color": [
             0,
             39.6125,
             0,
             0,
             0,
             0,
             0,
             0,
             0,
             0,
             0,
             0,
             0,
             0,
             0,
             0,
             0,
             0,
             0,
             0
            ],
            "coloraxis": "coloraxis",
            "opacity": 0.8,
            "pattern": {
             "shape": ""
            }
           },
           "name": "",
           "offsetgroup": "",
           "orientation": "h",
           "showlegend": false,
           "textposition": "auto",
           "type": "bar",
           "x": [
            0,
            39.6125,
            0,
            0,
            0,
            0,
            0,
            0,
            0,
            0,
            0,
            0,
            0,
            0,
            0,
            0,
            0,
            0,
            0,
            0
           ],
           "xaxis": "x",
           "y": [
            "Alex McMurtry",
            "Bridget Sloan",
            "Elizabeth Price",
            "Haleigh Bryant",
            "Jade Carey",
            "Jessica Hutchinson",
            "Jordan Chiles",
            "Kayla Dicello",
            "Kyla Ross",
            "Leanne Wong",
            "Lexy Ramler",
            "Luisa Blanco",
            "Maggie Nichols",
            "Maile O'Keefe",
            "MyKayla Skinner",
            "Raena Worley",
            "Sarah Finnegan",
            "Selena Harris",
            "Sunisa Lee",
            "Trinity Thomas"
           ],
           "yaxis": "y"
          }
         ],
         "name": "2015"
        },
        {
         "data": [
          {
           "alignmentgroup": "True",
           "hovertemplate": "<b>%{hovertext}</b><br><br>Season=2016<br>All Around=%{marker.color}<br>Name=%{y}<extra></extra>",
           "hovertext": [
            39.48804347826087,
            39.4570652173913,
            39.537962962962965,
            0,
            0,
            0,
            0,
            0,
            0,
            0,
            0,
            0,
            0,
            0,
            0,
            0,
            38.875,
            0,
            0,
            0
           ],
           "legendgroup": "",
           "marker": {
            "color": [
             39.48804347826087,
             39.4570652173913,
             39.537962962962965,
             0,
             0,
             0,
             0,
             0,
             0,
             0,
             0,
             0,
             0,
             0,
             0,
             0,
             38.875,
             0,
             0,
             0
            ],
            "coloraxis": "coloraxis",
            "opacity": 0.8,
            "pattern": {
             "shape": ""
            }
           },
           "name": "",
           "offsetgroup": "",
           "orientation": "h",
           "showlegend": false,
           "textposition": "auto",
           "type": "bar",
           "x": [
            39.48804347826087,
            39.4570652173913,
            39.537962962962965,
            0,
            0,
            0,
            0,
            0,
            0,
            0,
            0,
            0,
            0,
            0,
            0,
            0,
            38.875,
            0,
            0,
            0
           ],
           "xaxis": "x",
           "y": [
            "Alex McMurtry",
            "Bridget Sloan",
            "Elizabeth Price",
            "Haleigh Bryant",
            "Jade Carey",
            "Jessica Hutchinson",
            "Jordan Chiles",
            "Kayla Dicello",
            "Kyla Ross",
            "Leanne Wong",
            "Lexy Ramler",
            "Luisa Blanco",
            "Maggie Nichols",
            "Maile O'Keefe",
            "MyKayla Skinner",
            "Raena Worley",
            "Sarah Finnegan",
            "Selena Harris",
            "Sunisa Lee",
            "Trinity Thomas"
           ],
           "yaxis": "y"
          }
         ],
         "name": "2016"
        },
        {
         "data": [
          {
           "alignmentgroup": "True",
           "hovertemplate": "<b>%{hovertext}</b><br><br>Season=2017<br>All Around=%{marker.color}<br>Name=%{y}<extra></extra>",
           "hovertext": [
            39.63715277777778,
            0,
            0,
            0,
            0,
            0,
            0,
            0,
            39.37794117647059,
            0,
            0,
            0,
            39.589999999999996,
            0,
            39.60049019607843,
            0,
            39.49742647058823,
            0,
            0,
            0
           ],
           "legendgroup": "",
           "marker": {
            "color": [
             39.63715277777778,
             0,
             0,
             0,
             0,
             0,
             0,
             0,
             39.37794117647059,
             0,
             0,
             0,
             39.589999999999996,
             0,
             39.60049019607843,
             0,
             39.49742647058823,
             0,
             0,
             0
            ],
            "coloraxis": "coloraxis",
            "opacity": 0.8,
            "pattern": {
             "shape": ""
            }
           },
           "name": "",
           "offsetgroup": "",
           "orientation": "h",
           "showlegend": false,
           "textposition": "auto",
           "type": "bar",
           "x": [
            39.63715277777778,
            0,
            0,
            0,
            0,
            0,
            0,
            0,
            39.37794117647059,
            0,
            0,
            0,
            39.589999999999996,
            0,
            39.60049019607843,
            0,
            39.49742647058823,
            0,
            0,
            0
           ],
           "xaxis": "x",
           "y": [
            "Alex McMurtry",
            "Bridget Sloan",
            "Elizabeth Price",
            "Haleigh Bryant",
            "Jade Carey",
            "Jessica Hutchinson",
            "Jordan Chiles",
            "Kayla Dicello",
            "Kyla Ross",
            "Leanne Wong",
            "Lexy Ramler",
            "Luisa Blanco",
            "Maggie Nichols",
            "Maile O'Keefe",
            "MyKayla Skinner",
            "Raena Worley",
            "Sarah Finnegan",
            "Selena Harris",
            "Sunisa Lee",
            "Trinity Thomas"
           ],
           "yaxis": "y"
          }
         ],
         "name": "2017"
        },
        {
         "data": [
          {
           "alignmentgroup": "True",
           "hovertemplate": "<b>%{hovertext}</b><br><br>Season=2018<br>All Around=%{marker.color}<br>Name=%{y}<extra></extra>",
           "hovertext": [
            39.482187499999995,
            0,
            39.6219298245614,
            0,
            0,
            0,
            0,
            0,
            39.62063953488372,
            0,
            39.387499999999996,
            0,
            39.77060185185186,
            0,
            39.66875,
            0,
            39.57083333333333,
            0,
            0,
            0
           ],
           "legendgroup": "",
           "marker": {
            "color": [
             39.482187499999995,
             0,
             39.6219298245614,
             0,
             0,
             0,
             0,
             0,
             39.62063953488372,
             0,
             39.387499999999996,
             0,
             39.77060185185186,
             0,
             39.66875,
             0,
             39.57083333333333,
             0,
             0,
             0
            ],
            "coloraxis": "coloraxis",
            "opacity": 0.8,
            "pattern": {
             "shape": ""
            }
           },
           "name": "",
           "offsetgroup": "",
           "orientation": "h",
           "showlegend": false,
           "textposition": "auto",
           "type": "bar",
           "x": [
            39.482187499999995,
            0,
            39.6219298245614,
            0,
            0,
            0,
            0,
            0,
            39.62063953488372,
            0,
            39.387499999999996,
            0,
            39.77060185185186,
            0,
            39.66875,
            0,
            39.57083333333333,
            0,
            0,
            0
           ],
           "xaxis": "x",
           "y": [
            "Alex McMurtry",
            "Bridget Sloan",
            "Elizabeth Price",
            "Haleigh Bryant",
            "Jade Carey",
            "Jessica Hutchinson",
            "Jordan Chiles",
            "Kayla Dicello",
            "Kyla Ross",
            "Leanne Wong",
            "Lexy Ramler",
            "Luisa Blanco",
            "Maggie Nichols",
            "Maile O'Keefe",
            "MyKayla Skinner",
            "Raena Worley",
            "Sarah Finnegan",
            "Selena Harris",
            "Sunisa Lee",
            "Trinity Thomas"
           ],
           "yaxis": "y"
          }
         ],
         "name": "2018"
        },
        {
         "data": [
          {
           "alignmentgroup": "True",
           "hovertemplate": "<b>%{hovertext}</b><br><br>Season=2019<br>All Around=%{marker.color}<br>Name=%{y}<extra></extra>",
           "hovertext": [
            0,
            0,
            0,
            0,
            0,
            0,
            0,
            0,
            39.6220744680851,
            0,
            39.51285714285714,
            0,
            39.721875,
            0,
            39.55580357142857,
            0,
            39.66509433962264,
            0,
            0,
            39.486111111111114
           ],
           "legendgroup": "",
           "marker": {
            "color": [
             0,
             0,
             0,
             0,
             0,
             0,
             0,
             0,
             39.6220744680851,
             0,
             39.51285714285714,
             0,
             39.721875,
             0,
             39.55580357142857,
             0,
             39.66509433962264,
             0,
             0,
             39.486111111111114
            ],
            "coloraxis": "coloraxis",
            "opacity": 0.8,
            "pattern": {
             "shape": ""
            }
           },
           "name": "",
           "offsetgroup": "",
           "orientation": "h",
           "showlegend": false,
           "textposition": "auto",
           "type": "bar",
           "x": [
            0,
            0,
            0,
            0,
            0,
            0,
            0,
            0,
            39.6220744680851,
            0,
            39.51285714285714,
            0,
            39.721875,
            0,
            39.55580357142857,
            0,
            39.66509433962264,
            0,
            0,
            39.486111111111114
           ],
           "xaxis": "x",
           "y": [
            "Alex McMurtry",
            "Bridget Sloan",
            "Elizabeth Price",
            "Haleigh Bryant",
            "Jade Carey",
            "Jessica Hutchinson",
            "Jordan Chiles",
            "Kayla Dicello",
            "Kyla Ross",
            "Leanne Wong",
            "Lexy Ramler",
            "Luisa Blanco",
            "Maggie Nichols",
            "Maile O'Keefe",
            "MyKayla Skinner",
            "Raena Worley",
            "Sarah Finnegan",
            "Selena Harris",
            "Sunisa Lee",
            "Trinity Thomas"
           ],
           "yaxis": "y"
          }
         ],
         "name": "2019"
        },
        {
         "data": [
          {
           "alignmentgroup": "True",
           "hovertemplate": "<b>%{hovertext}</b><br><br>Season=2020<br>All Around=%{marker.color}<br>Name=%{y}<extra></extra>",
           "hovertext": [
            0,
            0,
            0,
            0,
            0,
            0,
            0,
            0,
            39.71739130434783,
            0,
            39.417,
            0,
            39.73888888888889,
            39.239999999999995,
            0,
            39.23125,
            0,
            0,
            0,
            39.61184210526316
           ],
           "legendgroup": "",
           "marker": {
            "color": [
             0,
             0,
             0,
             0,
             0,
             0,
             0,
             0,
             39.71739130434783,
             0,
             39.417,
             0,
             39.73888888888889,
             39.239999999999995,
             0,
             39.23125,
             0,
             0,
             0,
             39.61184210526316
            ],
            "coloraxis": "coloraxis",
            "opacity": 0.8,
            "pattern": {
             "shape": ""
            }
           },
           "name": "",
           "offsetgroup": "",
           "orientation": "h",
           "showlegend": false,
           "textposition": "auto",
           "type": "bar",
           "x": [
            0,
            0,
            0,
            0,
            0,
            0,
            0,
            0,
            39.71739130434783,
            0,
            39.417,
            0,
            39.73888888888889,
            39.239999999999995,
            0,
            39.23125,
            0,
            0,
            0,
            39.61184210526316
           ],
           "xaxis": "x",
           "y": [
            "Alex McMurtry",
            "Bridget Sloan",
            "Elizabeth Price",
            "Haleigh Bryant",
            "Jade Carey",
            "Jessica Hutchinson",
            "Jordan Chiles",
            "Kayla Dicello",
            "Kyla Ross",
            "Leanne Wong",
            "Lexy Ramler",
            "Luisa Blanco",
            "Maggie Nichols",
            "Maile O'Keefe",
            "MyKayla Skinner",
            "Raena Worley",
            "Sarah Finnegan",
            "Selena Harris",
            "Sunisa Lee",
            "Trinity Thomas"
           ],
           "yaxis": "y"
          }
         ],
         "name": "2020"
        },
        {
         "data": [
          {
           "alignmentgroup": "True",
           "hovertemplate": "<b>%{hovertext}</b><br><br>Season=2021<br>All Around=%{marker.color}<br>Name=%{y}<extra></extra>",
           "hovertext": [
            0,
            0,
            0,
            39.205232558139535,
            0,
            39.39821428571429,
            0,
            0,
            0,
            0,
            39.68508771929825,
            39.7047619047619,
            0,
            39.583258928571425,
            0,
            39.450625,
            0,
            0,
            0,
            39.46826923076923
           ],
           "legendgroup": "",
           "marker": {
            "color": [
             0,
             0,
             0,
             39.205232558139535,
             0,
             39.39821428571429,
             0,
             0,
             0,
             0,
             39.68508771929825,
             39.7047619047619,
             0,
             39.583258928571425,
             0,
             39.450625,
             0,
             0,
             0,
             39.46826923076923
            ],
            "coloraxis": "coloraxis",
            "opacity": 0.8,
            "pattern": {
             "shape": ""
            }
           },
           "name": "",
           "offsetgroup": "",
           "orientation": "h",
           "showlegend": false,
           "textposition": "auto",
           "type": "bar",
           "x": [
            0,
            0,
            0,
            39.205232558139535,
            0,
            39.39821428571429,
            0,
            0,
            0,
            0,
            39.68508771929825,
            39.7047619047619,
            0,
            39.583258928571425,
            0,
            39.450625,
            0,
            0,
            0,
            39.46826923076923
           ],
           "xaxis": "x",
           "y": [
            "Alex McMurtry",
            "Bridget Sloan",
            "Elizabeth Price",
            "Haleigh Bryant",
            "Jade Carey",
            "Jessica Hutchinson",
            "Jordan Chiles",
            "Kayla Dicello",
            "Kyla Ross",
            "Leanne Wong",
            "Lexy Ramler",
            "Luisa Blanco",
            "Maggie Nichols",
            "Maile O'Keefe",
            "MyKayla Skinner",
            "Raena Worley",
            "Sarah Finnegan",
            "Selena Harris",
            "Sunisa Lee",
            "Trinity Thomas"
           ],
           "yaxis": "y"
          }
         ],
         "name": "2021"
        },
        {
         "data": [
          {
           "alignmentgroup": "True",
           "hovertemplate": "<b>%{hovertext}</b><br><br>Season=2022<br>All Around=%{marker.color}<br>Name=%{y}<extra></extra>",
           "hovertext": [
            0,
            0,
            0,
            39.310526315789474,
            39.75535714285714,
            39.5625,
            39.30625,
            0,
            0,
            39.62783018867925,
            39.63825757575758,
            39.324999999999996,
            0,
            39.455681818181816,
            0,
            39.61795454545455,
            0,
            0,
            39.60043103448275,
            39.83005319148936
           ],
           "legendgroup": "",
           "marker": {
            "color": [
             0,
             0,
             0,
             39.310526315789474,
             39.75535714285714,
             39.5625,
             39.30625,
             0,
             0,
             39.62783018867925,
             39.63825757575758,
             39.324999999999996,
             0,
             39.455681818181816,
             0,
             39.61795454545455,
             0,
             0,
             39.60043103448275,
             39.83005319148936
            ],
            "coloraxis": "coloraxis",
            "opacity": 0.8,
            "pattern": {
             "shape": ""
            }
           },
           "name": "",
           "offsetgroup": "",
           "orientation": "h",
           "showlegend": false,
           "textposition": "auto",
           "type": "bar",
           "x": [
            0,
            0,
            0,
            39.310526315789474,
            39.75535714285714,
            39.5625,
            39.30625,
            0,
            0,
            39.62783018867925,
            39.63825757575758,
            39.324999999999996,
            0,
            39.455681818181816,
            0,
            39.61795454545455,
            0,
            0,
            39.60043103448275,
            39.83005319148936
           ],
           "xaxis": "x",
           "y": [
            "Alex McMurtry",
            "Bridget Sloan",
            "Elizabeth Price",
            "Haleigh Bryant",
            "Jade Carey",
            "Jessica Hutchinson",
            "Jordan Chiles",
            "Kayla Dicello",
            "Kyla Ross",
            "Leanne Wong",
            "Lexy Ramler",
            "Luisa Blanco",
            "Maggie Nichols",
            "Maile O'Keefe",
            "MyKayla Skinner",
            "Raena Worley",
            "Sarah Finnegan",
            "Selena Harris",
            "Sunisa Lee",
            "Trinity Thomas"
           ],
           "yaxis": "y"
          }
         ],
         "name": "2022"
        },
        {
         "data": [
          {
           "alignmentgroup": "True",
           "hovertemplate": "<b>%{hovertext}</b><br><br>Season=2023<br>All Around=%{marker.color}<br>Name=%{y}<extra></extra>",
           "hovertext": [
            0,
            0,
            0,
            39.67777777777778,
            39.691964285714285,
            39.51174242424243,
            39.65909090909091,
            39.618115942028986,
            0,
            39.57934782608695,
            0,
            39.407222222222224,
            0,
            39.63818181818181,
            0,
            39.5786231884058,
            0,
            39.63333333333333,
            39.705555555555556,
            39.74166666666667
           ],
           "legendgroup": "",
           "marker": {
            "color": [
             0,
             0,
             0,
             39.67777777777778,
             39.691964285714285,
             39.51174242424243,
             39.65909090909091,
             39.618115942028986,
             0,
             39.57934782608695,
             0,
             39.407222222222224,
             0,
             39.63818181818181,
             0,
             39.5786231884058,
             0,
             39.63333333333333,
             39.705555555555556,
             39.74166666666667
            ],
            "coloraxis": "coloraxis",
            "opacity": 0.8,
            "pattern": {
             "shape": ""
            }
           },
           "name": "",
           "offsetgroup": "",
           "orientation": "h",
           "showlegend": false,
           "textposition": "auto",
           "type": "bar",
           "x": [
            0,
            0,
            0,
            39.67777777777778,
            39.691964285714285,
            39.51174242424243,
            39.65909090909091,
            39.618115942028986,
            0,
            39.57934782608695,
            0,
            39.407222222222224,
            0,
            39.63818181818181,
            0,
            39.5786231884058,
            0,
            39.63333333333333,
            39.705555555555556,
            39.74166666666667
           ],
           "xaxis": "x",
           "y": [
            "Alex McMurtry",
            "Bridget Sloan",
            "Elizabeth Price",
            "Haleigh Bryant",
            "Jade Carey",
            "Jessica Hutchinson",
            "Jordan Chiles",
            "Kayla Dicello",
            "Kyla Ross",
            "Leanne Wong",
            "Lexy Ramler",
            "Luisa Blanco",
            "Maggie Nichols",
            "Maile O'Keefe",
            "MyKayla Skinner",
            "Raena Worley",
            "Sarah Finnegan",
            "Selena Harris",
            "Sunisa Lee",
            "Trinity Thomas"
           ],
           "yaxis": "y"
          }
         ],
         "name": "2023"
        },
        {
         "data": [
          {
           "alignmentgroup": "True",
           "hovertemplate": "<b>%{hovertext}</b><br><br>Season=2024<br>All Around=%{marker.color}<br>Name=%{y}<extra></extra>",
           "hovertext": [
            0,
            0,
            0,
            39.73403846153846,
            39.67666666666667,
            39.62708333333334,
            0,
            0,
            0,
            39.63508771929825,
            0,
            39.34915254237288,
            0,
            0,
            0,
            39.606818181818184,
            0,
            39.621511627906976,
            0,
            0
           ],
           "legendgroup": "",
           "marker": {
            "color": [
             0,
             0,
             0,
             39.73403846153846,
             39.67666666666667,
             39.62708333333334,
             0,
             0,
             0,
             39.63508771929825,
             0,
             39.34915254237288,
             0,
             0,
             0,
             39.606818181818184,
             0,
             39.621511627906976,
             0,
             0
            ],
            "coloraxis": "coloraxis",
            "opacity": 0.8,
            "pattern": {
             "shape": ""
            }
           },
           "name": "",
           "offsetgroup": "",
           "orientation": "h",
           "showlegend": false,
           "textposition": "auto",
           "type": "bar",
           "x": [
            0,
            0,
            0,
            39.73403846153846,
            39.67666666666667,
            39.62708333333334,
            0,
            0,
            0,
            39.63508771929825,
            0,
            39.34915254237288,
            0,
            0,
            0,
            39.606818181818184,
            0,
            39.621511627906976,
            0,
            0
           ],
           "xaxis": "x",
           "y": [
            "Alex McMurtry",
            "Bridget Sloan",
            "Elizabeth Price",
            "Haleigh Bryant",
            "Jade Carey",
            "Jessica Hutchinson",
            "Jordan Chiles",
            "Kayla Dicello",
            "Kyla Ross",
            "Leanne Wong",
            "Lexy Ramler",
            "Luisa Blanco",
            "Maggie Nichols",
            "Maile O'Keefe",
            "MyKayla Skinner",
            "Raena Worley",
            "Sarah Finnegan",
            "Selena Harris",
            "Sunisa Lee",
            "Trinity Thomas"
           ],
           "yaxis": "y"
          }
         ],
         "name": "2024"
        }
       ],
       "layout": {
        "barmode": "relative",
        "coloraxis": {
         "cmax": 39.85,
         "cmin": 38.75,
         "colorbar": {
          "tickvals": [],
          "title": {
           "text": "Score"
          }
         },
         "colorscale": [
          [
           0,
           "#440154"
          ],
          [
           0.1111111111111111,
           "#482878"
          ],
          [
           0.2222222222222222,
           "#3e4989"
          ],
          [
           0.3333333333333333,
           "#31688e"
          ],
          [
           0.4444444444444444,
           "#26828e"
          ],
          [
           0.5555555555555556,
           "#1f9e89"
          ],
          [
           0.6666666666666666,
           "#35b779"
          ],
          [
           0.7777777777777778,
           "#6ece58"
          ],
          [
           0.8888888888888888,
           "#b5de2b"
          ],
          [
           1,
           "#fde725"
          ]
         ]
        },
        "font": {
         "color": "black",
         "family": "Helvetica",
         "size": 10
        },
        "legend": {
         "orientation": "h",
         "tracegroupgap": 0,
         "x": 0.5,
         "xanchor": "center",
         "y": -1,
         "yanchor": "bottom"
        },
        "margin": {
         "t": 60
        },
        "paper_bgcolor": "white",
        "plot_bgcolor": "white",
        "sliders": [
         {
          "active": 0,
          "currentvalue": {
           "prefix": "Season="
          },
          "len": 0.9,
          "pad": {
           "b": 10,
           "t": 60
          },
          "steps": [
           {
            "args": [
             [
              "2015"
             ],
             {
              "frame": {
               "duration": 0,
               "redraw": true
              },
              "fromcurrent": true,
              "mode": "immediate",
              "transition": {
               "duration": 0,
               "easing": "linear"
              }
             }
            ],
            "label": "2015",
            "method": "animate"
           },
           {
            "args": [
             [
              "2016"
             ],
             {
              "frame": {
               "duration": 0,
               "redraw": true
              },
              "fromcurrent": true,
              "mode": "immediate",
              "transition": {
               "duration": 0,
               "easing": "linear"
              }
             }
            ],
            "label": "2016",
            "method": "animate"
           },
           {
            "args": [
             [
              "2017"
             ],
             {
              "frame": {
               "duration": 0,
               "redraw": true
              },
              "fromcurrent": true,
              "mode": "immediate",
              "transition": {
               "duration": 0,
               "easing": "linear"
              }
             }
            ],
            "label": "2017",
            "method": "animate"
           },
           {
            "args": [
             [
              "2018"
             ],
             {
              "frame": {
               "duration": 0,
               "redraw": true
              },
              "fromcurrent": true,
              "mode": "immediate",
              "transition": {
               "duration": 0,
               "easing": "linear"
              }
             }
            ],
            "label": "2018",
            "method": "animate"
           },
           {
            "args": [
             [
              "2019"
             ],
             {
              "frame": {
               "duration": 0,
               "redraw": true
              },
              "fromcurrent": true,
              "mode": "immediate",
              "transition": {
               "duration": 0,
               "easing": "linear"
              }
             }
            ],
            "label": "2019",
            "method": "animate"
           },
           {
            "args": [
             [
              "2020"
             ],
             {
              "frame": {
               "duration": 0,
               "redraw": true
              },
              "fromcurrent": true,
              "mode": "immediate",
              "transition": {
               "duration": 0,
               "easing": "linear"
              }
             }
            ],
            "label": "2020",
            "method": "animate"
           },
           {
            "args": [
             [
              "2021"
             ],
             {
              "frame": {
               "duration": 0,
               "redraw": true
              },
              "fromcurrent": true,
              "mode": "immediate",
              "transition": {
               "duration": 0,
               "easing": "linear"
              }
             }
            ],
            "label": "2021",
            "method": "animate"
           },
           {
            "args": [
             [
              "2022"
             ],
             {
              "frame": {
               "duration": 0,
               "redraw": true
              },
              "fromcurrent": true,
              "mode": "immediate",
              "transition": {
               "duration": 0,
               "easing": "linear"
              }
             }
            ],
            "label": "2022",
            "method": "animate"
           },
           {
            "args": [
             [
              "2023"
             ],
             {
              "frame": {
               "duration": 0,
               "redraw": true
              },
              "fromcurrent": true,
              "mode": "immediate",
              "transition": {
               "duration": 0,
               "easing": "linear"
              }
             }
            ],
            "label": "2023",
            "method": "animate"
           },
           {
            "args": [
             [
              "2024"
             ],
             {
              "frame": {
               "duration": 0,
               "redraw": true
              },
              "fromcurrent": true,
              "mode": "immediate",
              "transition": {
               "duration": 0,
               "easing": "linear"
              }
             }
            ],
            "label": "2024",
            "method": "animate"
           }
          ],
          "x": 0.1,
          "xanchor": "left",
          "y": 0,
          "yanchor": "top"
         }
        ],
        "template": {
         "data": {
          "bar": [
           {
            "error_x": {
             "color": "#2a3f5f"
            },
            "error_y": {
             "color": "#2a3f5f"
            },
            "marker": {
             "line": {
              "color": "#E5ECF6",
              "width": 0.5
             },
             "pattern": {
              "fillmode": "overlay",
              "size": 10,
              "solidity": 0.2
             }
            },
            "type": "bar"
           }
          ],
          "barpolar": [
           {
            "marker": {
             "line": {
              "color": "#E5ECF6",
              "width": 0.5
             },
             "pattern": {
              "fillmode": "overlay",
              "size": 10,
              "solidity": 0.2
             }
            },
            "type": "barpolar"
           }
          ],
          "carpet": [
           {
            "aaxis": {
             "endlinecolor": "#2a3f5f",
             "gridcolor": "white",
             "linecolor": "white",
             "minorgridcolor": "white",
             "startlinecolor": "#2a3f5f"
            },
            "baxis": {
             "endlinecolor": "#2a3f5f",
             "gridcolor": "white",
             "linecolor": "white",
             "minorgridcolor": "white",
             "startlinecolor": "#2a3f5f"
            },
            "type": "carpet"
           }
          ],
          "choropleth": [
           {
            "colorbar": {
             "outlinewidth": 0,
             "ticks": ""
            },
            "type": "choropleth"
           }
          ],
          "contour": [
           {
            "colorbar": {
             "outlinewidth": 0,
             "ticks": ""
            },
            "colorscale": [
             [
              0,
              "#0d0887"
             ],
             [
              0.1111111111111111,
              "#46039f"
             ],
             [
              0.2222222222222222,
              "#7201a8"
             ],
             [
              0.3333333333333333,
              "#9c179e"
             ],
             [
              0.4444444444444444,
              "#bd3786"
             ],
             [
              0.5555555555555556,
              "#d8576b"
             ],
             [
              0.6666666666666666,
              "#ed7953"
             ],
             [
              0.7777777777777778,
              "#fb9f3a"
             ],
             [
              0.8888888888888888,
              "#fdca26"
             ],
             [
              1,
              "#f0f921"
             ]
            ],
            "type": "contour"
           }
          ],
          "contourcarpet": [
           {
            "colorbar": {
             "outlinewidth": 0,
             "ticks": ""
            },
            "type": "contourcarpet"
           }
          ],
          "heatmap": [
           {
            "colorbar": {
             "outlinewidth": 0,
             "ticks": ""
            },
            "colorscale": [
             [
              0,
              "#0d0887"
             ],
             [
              0.1111111111111111,
              "#46039f"
             ],
             [
              0.2222222222222222,
              "#7201a8"
             ],
             [
              0.3333333333333333,
              "#9c179e"
             ],
             [
              0.4444444444444444,
              "#bd3786"
             ],
             [
              0.5555555555555556,
              "#d8576b"
             ],
             [
              0.6666666666666666,
              "#ed7953"
             ],
             [
              0.7777777777777778,
              "#fb9f3a"
             ],
             [
              0.8888888888888888,
              "#fdca26"
             ],
             [
              1,
              "#f0f921"
             ]
            ],
            "type": "heatmap"
           }
          ],
          "heatmapgl": [
           {
            "colorbar": {
             "outlinewidth": 0,
             "ticks": ""
            },
            "colorscale": [
             [
              0,
              "#0d0887"
             ],
             [
              0.1111111111111111,
              "#46039f"
             ],
             [
              0.2222222222222222,
              "#7201a8"
             ],
             [
              0.3333333333333333,
              "#9c179e"
             ],
             [
              0.4444444444444444,
              "#bd3786"
             ],
             [
              0.5555555555555556,
              "#d8576b"
             ],
             [
              0.6666666666666666,
              "#ed7953"
             ],
             [
              0.7777777777777778,
              "#fb9f3a"
             ],
             [
              0.8888888888888888,
              "#fdca26"
             ],
             [
              1,
              "#f0f921"
             ]
            ],
            "type": "heatmapgl"
           }
          ],
          "histogram": [
           {
            "marker": {
             "pattern": {
              "fillmode": "overlay",
              "size": 10,
              "solidity": 0.2
             }
            },
            "type": "histogram"
           }
          ],
          "histogram2d": [
           {
            "colorbar": {
             "outlinewidth": 0,
             "ticks": ""
            },
            "colorscale": [
             [
              0,
              "#0d0887"
             ],
             [
              0.1111111111111111,
              "#46039f"
             ],
             [
              0.2222222222222222,
              "#7201a8"
             ],
             [
              0.3333333333333333,
              "#9c179e"
             ],
             [
              0.4444444444444444,
              "#bd3786"
             ],
             [
              0.5555555555555556,
              "#d8576b"
             ],
             [
              0.6666666666666666,
              "#ed7953"
             ],
             [
              0.7777777777777778,
              "#fb9f3a"
             ],
             [
              0.8888888888888888,
              "#fdca26"
             ],
             [
              1,
              "#f0f921"
             ]
            ],
            "type": "histogram2d"
           }
          ],
          "histogram2dcontour": [
           {
            "colorbar": {
             "outlinewidth": 0,
             "ticks": ""
            },
            "colorscale": [
             [
              0,
              "#0d0887"
             ],
             [
              0.1111111111111111,
              "#46039f"
             ],
             [
              0.2222222222222222,
              "#7201a8"
             ],
             [
              0.3333333333333333,
              "#9c179e"
             ],
             [
              0.4444444444444444,
              "#bd3786"
             ],
             [
              0.5555555555555556,
              "#d8576b"
             ],
             [
              0.6666666666666666,
              "#ed7953"
             ],
             [
              0.7777777777777778,
              "#fb9f3a"
             ],
             [
              0.8888888888888888,
              "#fdca26"
             ],
             [
              1,
              "#f0f921"
             ]
            ],
            "type": "histogram2dcontour"
           }
          ],
          "mesh3d": [
           {
            "colorbar": {
             "outlinewidth": 0,
             "ticks": ""
            },
            "type": "mesh3d"
           }
          ],
          "parcoords": [
           {
            "line": {
             "colorbar": {
              "outlinewidth": 0,
              "ticks": ""
             }
            },
            "type": "parcoords"
           }
          ],
          "pie": [
           {
            "automargin": true,
            "type": "pie"
           }
          ],
          "scatter": [
           {
            "fillpattern": {
             "fillmode": "overlay",
             "size": 10,
             "solidity": 0.2
            },
            "type": "scatter"
           }
          ],
          "scatter3d": [
           {
            "line": {
             "colorbar": {
              "outlinewidth": 0,
              "ticks": ""
             }
            },
            "marker": {
             "colorbar": {
              "outlinewidth": 0,
              "ticks": ""
             }
            },
            "type": "scatter3d"
           }
          ],
          "scattercarpet": [
           {
            "marker": {
             "colorbar": {
              "outlinewidth": 0,
              "ticks": ""
             }
            },
            "type": "scattercarpet"
           }
          ],
          "scattergeo": [
           {
            "marker": {
             "colorbar": {
              "outlinewidth": 0,
              "ticks": ""
             }
            },
            "type": "scattergeo"
           }
          ],
          "scattergl": [
           {
            "marker": {
             "colorbar": {
              "outlinewidth": 0,
              "ticks": ""
             }
            },
            "type": "scattergl"
           }
          ],
          "scattermapbox": [
           {
            "marker": {
             "colorbar": {
              "outlinewidth": 0,
              "ticks": ""
             }
            },
            "type": "scattermapbox"
           }
          ],
          "scatterpolar": [
           {
            "marker": {
             "colorbar": {
              "outlinewidth": 0,
              "ticks": ""
             }
            },
            "type": "scatterpolar"
           }
          ],
          "scatterpolargl": [
           {
            "marker": {
             "colorbar": {
              "outlinewidth": 0,
              "ticks": ""
             }
            },
            "type": "scatterpolargl"
           }
          ],
          "scatterternary": [
           {
            "marker": {
             "colorbar": {
              "outlinewidth": 0,
              "ticks": ""
             }
            },
            "type": "scatterternary"
           }
          ],
          "surface": [
           {
            "colorbar": {
             "outlinewidth": 0,
             "ticks": ""
            },
            "colorscale": [
             [
              0,
              "#0d0887"
             ],
             [
              0.1111111111111111,
              "#46039f"
             ],
             [
              0.2222222222222222,
              "#7201a8"
             ],
             [
              0.3333333333333333,
              "#9c179e"
             ],
             [
              0.4444444444444444,
              "#bd3786"
             ],
             [
              0.5555555555555556,
              "#d8576b"
             ],
             [
              0.6666666666666666,
              "#ed7953"
             ],
             [
              0.7777777777777778,
              "#fb9f3a"
             ],
             [
              0.8888888888888888,
              "#fdca26"
             ],
             [
              1,
              "#f0f921"
             ]
            ],
            "type": "surface"
           }
          ],
          "table": [
           {
            "cells": {
             "fill": {
              "color": "#EBF0F8"
             },
             "line": {
              "color": "white"
             }
            },
            "header": {
             "fill": {
              "color": "#C8D4E3"
             },
             "line": {
              "color": "white"
             }
            },
            "type": "table"
           }
          ]
         },
         "layout": {
          "annotationdefaults": {
           "arrowcolor": "#2a3f5f",
           "arrowhead": 0,
           "arrowwidth": 1
          },
          "autotypenumbers": "strict",
          "coloraxis": {
           "colorbar": {
            "outlinewidth": 0,
            "ticks": ""
           }
          },
          "colorscale": {
           "diverging": [
            [
             0,
             "#8e0152"
            ],
            [
             0.1,
             "#c51b7d"
            ],
            [
             0.2,
             "#de77ae"
            ],
            [
             0.3,
             "#f1b6da"
            ],
            [
             0.4,
             "#fde0ef"
            ],
            [
             0.5,
             "#f7f7f7"
            ],
            [
             0.6,
             "#e6f5d0"
            ],
            [
             0.7,
             "#b8e186"
            ],
            [
             0.8,
             "#7fbc41"
            ],
            [
             0.9,
             "#4d9221"
            ],
            [
             1,
             "#276419"
            ]
           ],
           "sequential": [
            [
             0,
             "#0d0887"
            ],
            [
             0.1111111111111111,
             "#46039f"
            ],
            [
             0.2222222222222222,
             "#7201a8"
            ],
            [
             0.3333333333333333,
             "#9c179e"
            ],
            [
             0.4444444444444444,
             "#bd3786"
            ],
            [
             0.5555555555555556,
             "#d8576b"
            ],
            [
             0.6666666666666666,
             "#ed7953"
            ],
            [
             0.7777777777777778,
             "#fb9f3a"
            ],
            [
             0.8888888888888888,
             "#fdca26"
            ],
            [
             1,
             "#f0f921"
            ]
           ],
           "sequentialminus": [
            [
             0,
             "#0d0887"
            ],
            [
             0.1111111111111111,
             "#46039f"
            ],
            [
             0.2222222222222222,
             "#7201a8"
            ],
            [
             0.3333333333333333,
             "#9c179e"
            ],
            [
             0.4444444444444444,
             "#bd3786"
            ],
            [
             0.5555555555555556,
             "#d8576b"
            ],
            [
             0.6666666666666666,
             "#ed7953"
            ],
            [
             0.7777777777777778,
             "#fb9f3a"
            ],
            [
             0.8888888888888888,
             "#fdca26"
            ],
            [
             1,
             "#f0f921"
            ]
           ]
          },
          "colorway": [
           "#636efa",
           "#EF553B",
           "#00cc96",
           "#ab63fa",
           "#FFA15A",
           "#19d3f3",
           "#FF6692",
           "#B6E880",
           "#FF97FF",
           "#FECB52"
          ],
          "font": {
           "color": "#2a3f5f"
          },
          "geo": {
           "bgcolor": "white",
           "lakecolor": "white",
           "landcolor": "#E5ECF6",
           "showlakes": true,
           "showland": true,
           "subunitcolor": "white"
          },
          "hoverlabel": {
           "align": "left"
          },
          "hovermode": "closest",
          "mapbox": {
           "style": "light"
          },
          "paper_bgcolor": "white",
          "plot_bgcolor": "#E5ECF6",
          "polar": {
           "angularaxis": {
            "gridcolor": "white",
            "linecolor": "white",
            "ticks": ""
           },
           "bgcolor": "#E5ECF6",
           "radialaxis": {
            "gridcolor": "white",
            "linecolor": "white",
            "ticks": ""
           }
          },
          "scene": {
           "xaxis": {
            "backgroundcolor": "#E5ECF6",
            "gridcolor": "white",
            "gridwidth": 2,
            "linecolor": "white",
            "showbackground": true,
            "ticks": "",
            "zerolinecolor": "white"
           },
           "yaxis": {
            "backgroundcolor": "#E5ECF6",
            "gridcolor": "white",
            "gridwidth": 2,
            "linecolor": "white",
            "showbackground": true,
            "ticks": "",
            "zerolinecolor": "white"
           },
           "zaxis": {
            "backgroundcolor": "#E5ECF6",
            "gridcolor": "white",
            "gridwidth": 2,
            "linecolor": "white",
            "showbackground": true,
            "ticks": "",
            "zerolinecolor": "white"
           }
          },
          "shapedefaults": {
           "line": {
            "color": "#2a3f5f"
           }
          },
          "ternary": {
           "aaxis": {
            "gridcolor": "white",
            "linecolor": "white",
            "ticks": ""
           },
           "baxis": {
            "gridcolor": "white",
            "linecolor": "white",
            "ticks": ""
           },
           "bgcolor": "#E5ECF6",
           "caxis": {
            "gridcolor": "white",
            "linecolor": "white",
            "ticks": ""
           }
          },
          "title": {
           "x": 0.05
          },
          "xaxis": {
           "automargin": true,
           "gridcolor": "white",
           "linecolor": "white",
           "ticks": "",
           "title": {
            "standoff": 15
           },
           "zerolinecolor": "white",
           "zerolinewidth": 2
          },
          "yaxis": {
           "automargin": true,
           "gridcolor": "white",
           "linecolor": "white",
           "ticks": "",
           "title": {
            "standoff": 15
           },
           "zerolinecolor": "white",
           "zerolinewidth": 2
          }
         }
        },
        "title": {
         "font": {
          "color": "black",
          "family": "Helvetica",
          "size": 12
         },
         "text": "Best (on average) All Around Gymnasts"
        },
        "updatemenus": [
         {
          "buttons": [
           {
            "args": [
             null,
             {
              "frame": {
               "duration": 500,
               "redraw": true
              },
              "fromcurrent": true,
              "mode": "immediate",
              "transition": {
               "duration": 500,
               "easing": "linear"
              }
             }
            ],
            "label": "&#9654;",
            "method": "animate"
           },
           {
            "args": [
             [
              null
             ],
             {
              "frame": {
               "duration": 0,
               "redraw": true
              },
              "fromcurrent": true,
              "mode": "immediate",
              "transition": {
               "duration": 0,
               "easing": "linear"
              }
             }
            ],
            "label": "&#9724;",
            "method": "animate"
           }
          ],
          "direction": "left",
          "pad": {
           "r": 10,
           "t": 70
          },
          "showactive": false,
          "type": "buttons",
          "x": 0.1,
          "xanchor": "right",
          "y": 0,
          "yanchor": "top"
         }
        ],
        "xaxis": {
         "anchor": "y",
         "domain": [
          0,
          1
         ],
         "gridcolor": "#EEEEEE",
         "range": [
          38.75,
          39.85
         ],
         "title": {
          "font": {
           "color": "black",
           "family": "Helvetica",
           "size": 12
          },
          "text": "Score"
         }
        },
        "yaxis": {
         "anchor": "x",
         "domain": [
          0,
          1
         ],
         "gridcolor": "#EEEEEE",
         "title": {
          "font": {
           "color": "black",
           "family": "Helvetica",
           "size": 12
          },
          "text": "Gymnast"
         }
        }
       }
      }
     },
     "metadata": {},
     "output_type": "display_data"
    }
   ],
   "source": [
    "# Ensure all gymnasts are included in every season\n",
    "all_gymnasts = aa_average_df['Name'].unique()\n",
    "all_seasons = aa_average_df['Season'].unique()\n",
    "aa_average_df_full = aa_average_df.set_index(['Name', 'Season']).unstack(fill_value=0).stack().reset_index()\n",
    "\n",
    "# Define the range of the data\n",
    "min_score = 38.75\n",
    "max_score = 39.85\n",
    "\n",
    "# Plot with color scaling\n",
    "top_aaers_ave = px.bar(aa_average_df_full, \n",
    "                       y=\"Name\", \n",
    "                       x=\"All Around\", \n",
    "                       animation_frame=\"Season\", \n",
    "                       color=\"All Around\", \n",
    "                       hover_name=\"All Around\",\n",
    "                       range_x=[38.75, 39.85],  # Set the x-axis range\n",
    "                       range_color=[min_score, max_score],  # Set the color scale range to 9-10\n",
    "                       color_continuous_scale=px.colors.sequential.Viridis,\n",
    "                       opacity=0.8\n",
    "                      )\n",
    "\n",
    "# Customize the layout\n",
    "top_aaers_ave.update_layout(\n",
    "    title=\"Best (on average) All Around Gymnasts\",\n",
    "    title_font=dict(size=12, family='Helvetica', color='black'),\n",
    "    yaxis_title=\"Gymnast\",\n",
    "    yaxis_title_font=dict(size=12, family='Helvetica', color='black'),\n",
    "    xaxis_title=\"Score\",\n",
    "    xaxis_title_font=dict(size=12, family='Helvetica', color='black'),\n",
    "    font=dict(size=10, family='Helvetica', color='black'),\n",
    "    plot_bgcolor='white',  # Set plot background to white\n",
    "    paper_bgcolor='white',  # Set paper background to white\n",
    "    xaxis=dict(\n",
    "        gridcolor='#EEEEEE'  # Set x-axis grid lines to light grey\n",
    "    ),\n",
    "    yaxis=dict(\n",
    "        gridcolor='#EEEEEE'  # Set y-axis grid lines to light grey\n",
    "    ),\n",
    "    coloraxis_colorbar=dict(\n",
    "        title=\"Score\",\n",
    "        tickvals=[],  # Hide tick values\n",
    "    ),\n",
    "    legend=dict(\n",
    "        orientation=\"h\",  # horizontal legend\n",
    "        yanchor=\"bottom\",  \n",
    "        y=-1,  \n",
    "        xanchor=\"center\",  \n",
    "        x=0.5  \n",
    "    )\n",
    ")\n",
    "\n",
    "# Export the plot to html file\n",
    "top_aaers_ave.write_html(\"../docs/figures/06.top_aaers_per_year.html\")\n",
    "\n",
    "# Show the plot\n",
    "top_aaers_ave.show()\n"
   ]
  }
 ],
 "metadata": {
  "kernelspec": {
   "display_name": "gymternet",
   "language": "python",
   "name": "python3"
  },
  "language_info": {
   "codemirror_mode": {
    "name": "ipython",
    "version": 3
   },
   "file_extension": ".py",
   "mimetype": "text/x-python",
   "name": "python",
   "nbconvert_exporter": "python",
   "pygments_lexer": "ipython3",
   "version": "3.12.4"
  }
 },
 "nbformat": 4,
 "nbformat_minor": 2
}
