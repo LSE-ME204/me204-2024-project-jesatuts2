{
 "cells": [
  {
   "cell_type": "code",
   "execution_count": 10,
   "metadata": {},
   "outputs": [
    {
     "name": "stdout",
     "output_type": "stream",
     "text": [
      "Files removed: 1380\n"
     ]
    }
   ],
   "source": [
    "!pip cache purge"
   ]
  },
  {
   "cell_type": "code",
   "execution_count": 19,
   "metadata": {},
   "outputs": [
    {
     "name": "stdout",
     "output_type": "stream",
     "text": [
      "Channels:\n",
      " - defaults\n",
      "Platform: osx-64\n",
      "Collecting package metadata (repodata.json): done\n",
      "Solving environment: done\n",
      "\n",
      "# All requested packages already installed.\n",
      "\n",
      "Requirement already satisfied: attrs==23.2.0 in /Users/jessicahyne/opt/miniconda3/lib/python3.12/site-packages (from -r ../requirements.txt (line 1)) (23.2.0)\n",
      "Requirement already satisfied: Automat==22.10.0 in /Users/jessicahyne/opt/miniconda3/lib/python3.12/site-packages (from -r ../requirements.txt (line 2)) (22.10.0)\n",
      "Requirement already satisfied: certifi==2024.7.4 in /Users/jessicahyne/opt/miniconda3/lib/python3.12/site-packages (from -r ../requirements.txt (line 3)) (2024.7.4)\n",
      "Requirement already satisfied: cffi==1.16.0 in /Users/jessicahyne/opt/miniconda3/lib/python3.12/site-packages (from -r ../requirements.txt (line 4)) (1.16.0)\n",
      "Requirement already satisfied: charset-normalizer==3.3.2 in /Users/jessicahyne/opt/miniconda3/lib/python3.12/site-packages (from -r ../requirements.txt (line 5)) (3.3.2)\n",
      "Requirement already satisfied: colorama==0.4.6 in /Users/jessicahyne/opt/miniconda3/lib/python3.12/site-packages (from -r ../requirements.txt (line 6)) (0.4.6)\n",
      "Requirement already satisfied: constantly==23.10.4 in /Users/jessicahyne/opt/miniconda3/lib/python3.12/site-packages (from -r ../requirements.txt (line 7)) (23.10.4)\n",
      "Requirement already satisfied: cryptography==42.0.8 in /Users/jessicahyne/opt/miniconda3/lib/python3.12/site-packages (from -r ../requirements.txt (line 8)) (42.0.8)\n",
      "Requirement already satisfied: cssselect==1.2.0 in /Users/jessicahyne/opt/miniconda3/lib/python3.12/site-packages (from -r ../requirements.txt (line 9)) (1.2.0)\n",
      "Requirement already satisfied: defusedxml==0.7.1 in /Users/jessicahyne/opt/miniconda3/lib/python3.12/site-packages (from -r ../requirements.txt (line 10)) (0.7.1)\n",
      "Requirement already satisfied: filelock==3.15.4 in /Users/jessicahyne/opt/miniconda3/lib/python3.12/site-packages (from -r ../requirements.txt (line 11)) (3.15.4)\n",
      "Requirement already satisfied: h11==0.14.0 in /Users/jessicahyne/opt/miniconda3/lib/python3.12/site-packages (from -r ../requirements.txt (line 12)) (0.14.0)\n",
      "Requirement already satisfied: hyperlink==21.0.0 in /Users/jessicahyne/opt/miniconda3/lib/python3.12/site-packages (from -r ../requirements.txt (line 13)) (21.0.0)\n",
      "Requirement already satisfied: idna==3.7 in /Users/jessicahyne/opt/miniconda3/lib/python3.12/site-packages (from -r ../requirements.txt (line 14)) (3.7)\n",
      "Requirement already satisfied: incremental==22.10.0 in /Users/jessicahyne/opt/miniconda3/lib/python3.12/site-packages (from -r ../requirements.txt (line 15)) (22.10.0)\n",
      "Requirement already satisfied: itemadapter==0.9.0 in /Users/jessicahyne/opt/miniconda3/lib/python3.12/site-packages (from -r ../requirements.txt (line 16)) (0.9.0)\n",
      "Requirement already satisfied: itemloaders==1.3.1 in /Users/jessicahyne/opt/miniconda3/lib/python3.12/site-packages (from -r ../requirements.txt (line 17)) (1.3.1)\n",
      "Requirement already satisfied: jmespath==1.0.1 in /Users/jessicahyne/opt/miniconda3/lib/python3.12/site-packages (from -r ../requirements.txt (line 18)) (1.0.1)\n",
      "Requirement already satisfied: lets-plot==4.3.3 in /Users/jessicahyne/opt/miniconda3/lib/python3.12/site-packages (from -r ../requirements.txt (line 19)) (4.3.3)\n",
      "Requirement already satisfied: lxml==5.2.2 in /Users/jessicahyne/opt/miniconda3/lib/python3.12/site-packages (from -r ../requirements.txt (line 20)) (5.2.2)\n",
      "Requirement already satisfied: numerize==0.12 in /Users/jessicahyne/opt/miniconda3/lib/python3.12/site-packages (from -r ../requirements.txt (line 21)) (0.12)\n",
      "Collecting numpy==2.0.1 (from -r ../requirements.txt (line 22))\n",
      "  Downloading numpy-2.0.1-cp312-cp312-macosx_10_9_x86_64.whl.metadata (60 kB)\n",
      "\u001b[2K     \u001b[90m━━━━━━━━━━━━━━━━━━━━━━━━━━━━━━━━━━━━━━━\u001b[0m \u001b[32m60.9/60.9 kB\u001b[0m \u001b[31m854.6 kB/s\u001b[0m eta \u001b[36m0:00:00\u001b[0ma \u001b[36m0:00:01\u001b[0m\n",
      "\u001b[?25hRequirement already satisfied: outcome==1.3.0.post0 in /Users/jessicahyne/opt/miniconda3/lib/python3.12/site-packages (from -r ../requirements.txt (line 23)) (1.3.0.post0)\n",
      "Requirement already satisfied: packaging==24.1 in /Users/jessicahyne/opt/miniconda3/lib/python3.12/site-packages (from -r ../requirements.txt (line 24)) (24.1)\n",
      "Requirement already satisfied: palettable==3.3.3 in /Users/jessicahyne/opt/miniconda3/lib/python3.12/site-packages (from -r ../requirements.txt (line 25)) (3.3.3)\n",
      "Requirement already satisfied: pandas==2.2.2 in /Users/jessicahyne/opt/miniconda3/lib/python3.12/site-packages (from -r ../requirements.txt (line 26)) (2.2.2)\n",
      "Requirement already satisfied: parsel==1.9.1 in /Users/jessicahyne/opt/miniconda3/lib/python3.12/site-packages (from -r ../requirements.txt (line 27)) (1.9.1)\n",
      "Requirement already satisfied: Protego==0.3.1 in /Users/jessicahyne/opt/miniconda3/lib/python3.12/site-packages (from -r ../requirements.txt (line 28)) (0.3.1)\n",
      "Requirement already satisfied: pyasn1==0.6.0 in /Users/jessicahyne/opt/miniconda3/lib/python3.12/site-packages (from -r ../requirements.txt (line 29)) (0.6.0)\n",
      "Requirement already satisfied: pyasn1_modules==0.4.0 in /Users/jessicahyne/opt/miniconda3/lib/python3.12/site-packages (from -r ../requirements.txt (line 30)) (0.4.0)\n",
      "Requirement already satisfied: pycparser==2.22 in /Users/jessicahyne/opt/miniconda3/lib/python3.12/site-packages (from -r ../requirements.txt (line 31)) (2.22)\n",
      "Requirement already satisfied: PyDispatcher==2.0.7 in /Users/jessicahyne/opt/miniconda3/lib/python3.12/site-packages (from -r ../requirements.txt (line 32)) (2.0.7)\n",
      "Requirement already satisfied: pyOpenSSL==24.1.0 in /Users/jessicahyne/opt/miniconda3/lib/python3.12/site-packages (from -r ../requirements.txt (line 33)) (24.1.0)\n",
      "Requirement already satisfied: pypng==0.20220715.0 in /Users/jessicahyne/opt/miniconda3/lib/python3.12/site-packages (from -r ../requirements.txt (line 34)) (0.20220715.0)\n",
      "Requirement already satisfied: PySocks==1.7.1 in /Users/jessicahyne/opt/miniconda3/lib/python3.12/site-packages (from -r ../requirements.txt (line 35)) (1.7.1)\n",
      "Requirement already satisfied: python-dateutil==2.9.0.post0 in /Users/jessicahyne/opt/miniconda3/lib/python3.12/site-packages (from -r ../requirements.txt (line 36)) (2.9.0.post0)\n",
      "Requirement already satisfied: pytz==2024.1 in /Users/jessicahyne/opt/miniconda3/lib/python3.12/site-packages (from -r ../requirements.txt (line 37)) (2024.1)\n",
      "Requirement already satisfied: queuelib==1.7.0 in /Users/jessicahyne/opt/miniconda3/lib/python3.12/site-packages (from -r ../requirements.txt (line 38)) (1.7.0)\n",
      "Requirement already satisfied: requests==2.32.3 in /Users/jessicahyne/opt/miniconda3/lib/python3.12/site-packages (from -r ../requirements.txt (line 39)) (2.32.3)\n",
      "Requirement already satisfied: requests-file==2.1.0 in /Users/jessicahyne/opt/miniconda3/lib/python3.12/site-packages (from -r ../requirements.txt (line 40)) (2.1.0)\n",
      "Requirement already satisfied: Scrapy==2.11.2 in /Users/jessicahyne/opt/miniconda3/lib/python3.12/site-packages (from -r ../requirements.txt (line 41)) (2.11.2)\n",
      "Requirement already satisfied: selenium==4.22.0 in /Users/jessicahyne/opt/miniconda3/lib/python3.12/site-packages (from -r ../requirements.txt (line 42)) (4.22.0)\n",
      "Requirement already satisfied: service-identity==24.1.0 in /Users/jessicahyne/opt/miniconda3/lib/python3.12/site-packages (from -r ../requirements.txt (line 43)) (24.1.0)\n",
      "Requirement already satisfied: six==1.16.0 in /Users/jessicahyne/opt/miniconda3/lib/python3.12/site-packages (from -r ../requirements.txt (line 44)) (1.16.0)\n",
      "Requirement already satisfied: sniffio==1.3.1 in /Users/jessicahyne/opt/miniconda3/lib/python3.12/site-packages (from -r ../requirements.txt (line 45)) (1.3.1)\n",
      "Requirement already satisfied: sortedcontainers==2.4.0 in /Users/jessicahyne/opt/miniconda3/lib/python3.12/site-packages (from -r ../requirements.txt (line 46)) (2.4.0)\n",
      "Requirement already satisfied: tldextract==5.1.2 in /Users/jessicahyne/opt/miniconda3/lib/python3.12/site-packages (from -r ../requirements.txt (line 47)) (5.1.2)\n",
      "Requirement already satisfied: tqdm==4.66.4 in /Users/jessicahyne/opt/miniconda3/lib/python3.12/site-packages (from -r ../requirements.txt (line 48)) (4.66.4)\n",
      "Requirement already satisfied: trio==0.26.0 in /Users/jessicahyne/opt/miniconda3/lib/python3.12/site-packages (from -r ../requirements.txt (line 49)) (0.26.0)\n",
      "Requirement already satisfied: trio-websocket==0.11.1 in /Users/jessicahyne/opt/miniconda3/lib/python3.12/site-packages (from -r ../requirements.txt (line 50)) (0.11.1)\n",
      "Requirement already satisfied: Twisted==24.3.0 in /Users/jessicahyne/opt/miniconda3/lib/python3.12/site-packages (from -r ../requirements.txt (line 51)) (24.3.0)\n",
      "Requirement already satisfied: typing_extensions==4.12.2 in /Users/jessicahyne/opt/miniconda3/lib/python3.12/site-packages (from -r ../requirements.txt (line 53)) (4.12.2)\n",
      "Requirement already satisfied: tzdata==2024.1 in /Users/jessicahyne/opt/miniconda3/lib/python3.12/site-packages (from -r ../requirements.txt (line 54)) (2024.1)\n",
      "Requirement already satisfied: urllib3==2.2.2 in /Users/jessicahyne/opt/miniconda3/lib/python3.12/site-packages (from -r ../requirements.txt (line 55)) (2.2.2)\n",
      "Requirement already satisfied: w3lib==2.2.1 in /Users/jessicahyne/opt/miniconda3/lib/python3.12/site-packages (from -r ../requirements.txt (line 56)) (2.2.1)\n",
      "Requirement already satisfied: websocket-client==1.8.0 in /Users/jessicahyne/opt/miniconda3/lib/python3.12/site-packages (from -r ../requirements.txt (line 57)) (1.8.0)\n",
      "Requirement already satisfied: wsproto==1.2.0 in /Users/jessicahyne/opt/miniconda3/lib/python3.12/site-packages (from -r ../requirements.txt (line 58)) (1.2.0)\n",
      "Requirement already satisfied: zope.interface==6.4.post2 in /Users/jessicahyne/opt/miniconda3/lib/python3.12/site-packages (from -r ../requirements.txt (line 59)) (6.4.post2)\n",
      "Requirement already satisfied: setuptools in /Users/jessicahyne/opt/miniconda3/lib/python3.12/site-packages (from Scrapy==2.11.2->-r ../requirements.txt (line 41)) (69.5.1)\n",
      "Downloading numpy-2.0.1-cp312-cp312-macosx_10_9_x86_64.whl (21.0 MB)\n",
      "\u001b[2K   \u001b[90m━━━━━━━━━━━━━━━━━━━━━━━━━━━━━━━━━━━━━━━━\u001b[0m \u001b[32m21.0/21.0 MB\u001b[0m \u001b[31m5.4 MB/s\u001b[0m eta \u001b[36m0:00:00\u001b[0m00:01\u001b[0m00:01\u001b[0m\n",
      "\u001b[?25hInstalling collected packages: numpy\n",
      "Successfully installed numpy-2.0.1\n"
     ]
    }
   ],
   "source": [
    "!conda install pip -y\n",
    "!pip install -r ../requirements.txt"
   ]
  },
  {
   "cell_type": "code",
   "execution_count": 22,
   "metadata": {},
   "outputs": [
    {
     "name": "stdout",
     "output_type": "stream",
     "text": [
      "\u001b[33mWARNING: Package(s) not found: numpy\u001b[0m\u001b[33m\n",
      "\u001b[0mNote: you may need to restart the kernel to use updated packages.\n"
     ]
    }
   ],
   "source": [
    "%pip show numpy"
   ]
  },
  {
   "cell_type": "code",
   "execution_count": 23,
   "metadata": {},
   "outputs": [
    {
     "name": "stdout",
     "output_type": "stream",
     "text": [
      "\u001b[33mWARNING: Skipping numpy as it is not installed.\u001b[0m\u001b[33m\n",
      "\u001b[0mzsh:1: no such file or directory: 2\n",
      "Note: you may need to restart the kernel to use updated packages.\n"
     ]
    }
   ],
   "source": [
    "!pip uninstall numpy -y\n",
    "%pip install numpy<2"
   ]
  },
  {
   "cell_type": "code",
   "execution_count": 15,
   "metadata": {},
   "outputs": [
    {
     "name": "stderr",
     "output_type": "stream",
     "text": [
      "\n",
      "A module that was compiled using NumPy 1.x cannot be run in\n",
      "NumPy 2.0.1 as it may crash. To support both 1.x and 2.x\n",
      "versions of NumPy, modules must be compiled with NumPy 2.0.\n",
      "Some module may need to rebuild instead e.g. with 'pybind11>=2.12'.\n",
      "\n",
      "If you are a user of the module, the easiest solution will be to\n",
      "downgrade to 'numpy<2' or try to upgrade the affected module.\n",
      "We expect that some modules will need time to support NumPy 2.\n",
      "\n",
      "Traceback (most recent call last):  File \"<frozen runpy>\", line 198, in _run_module_as_main\n",
      "  File \"<frozen runpy>\", line 88, in _run_code\n",
      "  File \"/Users/jessicahyne/opt/miniconda3/lib/python3.12/site-packages/ipykernel_launcher.py\", line 18, in <module>\n",
      "    app.launch_new_instance()\n",
      "  File \"/Users/jessicahyne/opt/miniconda3/lib/python3.12/site-packages/traitlets/config/application.py\", line 1075, in launch_instance\n",
      "    app.start()\n",
      "  File \"/Users/jessicahyne/opt/miniconda3/lib/python3.12/site-packages/ipykernel/kernelapp.py\", line 739, in start\n",
      "    self.io_loop.start()\n",
      "  File \"/Users/jessicahyne/opt/miniconda3/lib/python3.12/site-packages/tornado/platform/asyncio.py\", line 205, in start\n",
      "    self.asyncio_loop.run_forever()\n",
      "  File \"/Users/jessicahyne/opt/miniconda3/lib/python3.12/asyncio/base_events.py\", line 641, in run_forever\n",
      "    self._run_once()\n",
      "  File \"/Users/jessicahyne/opt/miniconda3/lib/python3.12/asyncio/base_events.py\", line 1987, in _run_once\n",
      "    handle._run()\n",
      "  File \"/Users/jessicahyne/opt/miniconda3/lib/python3.12/asyncio/events.py\", line 88, in _run\n",
      "    self._context.run(self._callback, *self._args)\n",
      "  File \"/Users/jessicahyne/opt/miniconda3/lib/python3.12/site-packages/ipykernel/kernelbase.py\", line 545, in dispatch_queue\n",
      "    await self.process_one()\n",
      "  File \"/Users/jessicahyne/opt/miniconda3/lib/python3.12/site-packages/ipykernel/kernelbase.py\", line 534, in process_one\n",
      "    await dispatch(*args)\n",
      "  File \"/Users/jessicahyne/opt/miniconda3/lib/python3.12/site-packages/ipykernel/kernelbase.py\", line 437, in dispatch_shell\n",
      "    await result\n",
      "  File \"/Users/jessicahyne/opt/miniconda3/lib/python3.12/site-packages/ipykernel/ipkernel.py\", line 362, in execute_request\n",
      "    await super().execute_request(stream, ident, parent)\n",
      "  File \"/Users/jessicahyne/opt/miniconda3/lib/python3.12/site-packages/ipykernel/kernelbase.py\", line 778, in execute_request\n",
      "    reply_content = await reply_content\n",
      "  File \"/Users/jessicahyne/opt/miniconda3/lib/python3.12/site-packages/ipykernel/ipkernel.py\", line 449, in do_execute\n",
      "    res = shell.run_cell(\n",
      "  File \"/Users/jessicahyne/opt/miniconda3/lib/python3.12/site-packages/ipykernel/zmqshell.py\", line 549, in run_cell\n",
      "    return super().run_cell(*args, **kwargs)\n",
      "  File \"/Users/jessicahyne/opt/miniconda3/lib/python3.12/site-packages/IPython/core/interactiveshell.py\", line 3075, in run_cell\n",
      "    result = self._run_cell(\n",
      "  File \"/Users/jessicahyne/opt/miniconda3/lib/python3.12/site-packages/IPython/core/interactiveshell.py\", line 3130, in _run_cell\n",
      "    result = runner(coro)\n",
      "  File \"/Users/jessicahyne/opt/miniconda3/lib/python3.12/site-packages/IPython/core/async_helpers.py\", line 128, in _pseudo_sync_runner\n",
      "    coro.send(None)\n",
      "  File \"/Users/jessicahyne/opt/miniconda3/lib/python3.12/site-packages/IPython/core/interactiveshell.py\", line 3334, in run_cell_async\n",
      "    has_raised = await self.run_ast_nodes(code_ast.body, cell_name,\n",
      "  File \"/Users/jessicahyne/opt/miniconda3/lib/python3.12/site-packages/IPython/core/interactiveshell.py\", line 3517, in run_ast_nodes\n",
      "    if await self.run_code(code, result, async_=asy):\n",
      "  File \"/Users/jessicahyne/opt/miniconda3/lib/python3.12/site-packages/IPython/core/interactiveshell.py\", line 3577, in run_code\n",
      "    exec(code_obj, self.user_global_ns, self.user_ns)\n",
      "  File \"/var/folders/f6/yc2mppq57tq4fjfn7hmfsy0c0000gn/T/ipykernel_65692/3100151271.py\", line 7, in <module>\n",
      "    import pandas as pd\n",
      "  File \"/Users/jessicahyne/opt/miniconda3/lib/python3.12/site-packages/pandas/__init__.py\", line 49, in <module>\n",
      "    from pandas.core.api import (\n",
      "  File \"/Users/jessicahyne/opt/miniconda3/lib/python3.12/site-packages/pandas/core/api.py\", line 1, in <module>\n",
      "    from pandas._libs import (\n",
      "  File \"/Users/jessicahyne/opt/miniconda3/lib/python3.12/site-packages/pandas/_libs/__init__.py\", line 17, in <module>\n",
      "    import pandas._libs.pandas_datetime  # noqa: F401 # isort: skip # type: ignore[reportUnusedImport]\n"
     ]
    },
    {
     "ename": "ImportError",
     "evalue": "\nA module that was compiled using NumPy 1.x cannot be run in\nNumPy 2.0.1 as it may crash. To support both 1.x and 2.x\nversions of NumPy, modules must be compiled with NumPy 2.0.\nSome module may need to rebuild instead e.g. with 'pybind11>=2.12'.\n\nIf you are a user of the module, the easiest solution will be to\ndowngrade to 'numpy<2' or try to upgrade the affected module.\nWe expect that some modules will need time to support NumPy 2.\n\n",
     "output_type": "error",
     "traceback": [
      "\u001b[0;31m---------------------------------------------------------------------------\u001b[0m",
      "\u001b[0;31mImportError\u001b[0m                               Traceback (most recent call last)",
      "File \u001b[0;32m~/opt/miniconda3/lib/python3.12/site-packages/numpy/core/_multiarray_umath.py:44\u001b[0m, in \u001b[0;36m__getattr__\u001b[0;34m(attr_name)\u001b[0m\n\u001b[1;32m     39\u001b[0m     \u001b[38;5;66;03m# Also print the message (with traceback).  This is because old versions\u001b[39;00m\n\u001b[1;32m     40\u001b[0m     \u001b[38;5;66;03m# of NumPy unfortunately set up the import to replace (and hide) the\u001b[39;00m\n\u001b[1;32m     41\u001b[0m     \u001b[38;5;66;03m# error.  The traceback shouldn't be needed, but e.g. pytest plugins\u001b[39;00m\n\u001b[1;32m     42\u001b[0m     \u001b[38;5;66;03m# seem to swallow it and we should be failing anyway...\u001b[39;00m\n\u001b[1;32m     43\u001b[0m     sys\u001b[38;5;241m.\u001b[39mstderr\u001b[38;5;241m.\u001b[39mwrite(msg \u001b[38;5;241m+\u001b[39m tb_msg)\n\u001b[0;32m---> 44\u001b[0m     \u001b[38;5;28;01mraise\u001b[39;00m \u001b[38;5;167;01mImportError\u001b[39;00m(msg)\n\u001b[1;32m     46\u001b[0m ret \u001b[38;5;241m=\u001b[39m \u001b[38;5;28mgetattr\u001b[39m(_multiarray_umath, attr_name, \u001b[38;5;28;01mNone\u001b[39;00m)\n\u001b[1;32m     47\u001b[0m \u001b[38;5;28;01mif\u001b[39;00m ret \u001b[38;5;129;01mis\u001b[39;00m \u001b[38;5;28;01mNone\u001b[39;00m:\n",
      "\u001b[0;31mImportError\u001b[0m: \nA module that was compiled using NumPy 1.x cannot be run in\nNumPy 2.0.1 as it may crash. To support both 1.x and 2.x\nversions of NumPy, modules must be compiled with NumPy 2.0.\nSome module may need to rebuild instead e.g. with 'pybind11>=2.12'.\n\nIf you are a user of the module, the easiest solution will be to\ndowngrade to 'numpy<2' or try to upgrade the affected module.\nWe expect that some modules will need time to support NumPy 2.\n\n"
     ]
    },
    {
     "ename": "ImportError",
     "evalue": "numpy.core.multiarray failed to import",
     "output_type": "error",
     "traceback": [
      "\u001b[0;31m---------------------------------------------------------------------------\u001b[0m",
      "\u001b[0;31mImportError\u001b[0m                               Traceback (most recent call last)",
      "Cell \u001b[0;32mIn[15], line 7\u001b[0m\n\u001b[1;32m      4\u001b[0m \u001b[38;5;28;01mimport\u001b[39;00m \u001b[38;5;21;01mdatetime\u001b[39;00m\n\u001b[1;32m      6\u001b[0m \u001b[38;5;28;01mimport\u001b[39;00m \u001b[38;5;21;01mnumpy\u001b[39;00m \u001b[38;5;28;01mas\u001b[39;00m \u001b[38;5;21;01mnp\u001b[39;00m\n\u001b[0;32m----> 7\u001b[0m \u001b[38;5;28;01mimport\u001b[39;00m \u001b[38;5;21;01mpandas\u001b[39;00m \u001b[38;5;28;01mas\u001b[39;00m \u001b[38;5;21;01mpd\u001b[39;00m \n\u001b[1;32m      8\u001b[0m \u001b[38;5;28;01mimport\u001b[39;00m \u001b[38;5;21;01mmatplotlib\u001b[39;00m\u001b[38;5;21;01m.\u001b[39;00m\u001b[38;5;21;01mpyplot\u001b[39;00m \u001b[38;5;28;01mas\u001b[39;00m \u001b[38;5;21;01mplt\u001b[39;00m\n\u001b[1;32m     10\u001b[0m \u001b[38;5;28;01mfrom\u001b[39;00m \u001b[38;5;21;01mselenium\u001b[39;00m \u001b[38;5;28;01mimport\u001b[39;00m webdriver\n",
      "File \u001b[0;32m~/opt/miniconda3/lib/python3.12/site-packages/pandas/__init__.py:49\u001b[0m\n\u001b[1;32m     46\u001b[0m \u001b[38;5;66;03m# let init-time option registration happen\u001b[39;00m\n\u001b[1;32m     47\u001b[0m \u001b[38;5;28;01mimport\u001b[39;00m \u001b[38;5;21;01mpandas\u001b[39;00m\u001b[38;5;21;01m.\u001b[39;00m\u001b[38;5;21;01mcore\u001b[39;00m\u001b[38;5;21;01m.\u001b[39;00m\u001b[38;5;21;01mconfig_init\u001b[39;00m  \u001b[38;5;66;03m# pyright: ignore[reportUnusedImport] # noqa: F401\u001b[39;00m\n\u001b[0;32m---> 49\u001b[0m \u001b[38;5;28;01mfrom\u001b[39;00m \u001b[38;5;21;01mpandas\u001b[39;00m\u001b[38;5;21;01m.\u001b[39;00m\u001b[38;5;21;01mcore\u001b[39;00m\u001b[38;5;21;01m.\u001b[39;00m\u001b[38;5;21;01mapi\u001b[39;00m \u001b[38;5;28;01mimport\u001b[39;00m (\n\u001b[1;32m     50\u001b[0m     \u001b[38;5;66;03m# dtype\u001b[39;00m\n\u001b[1;32m     51\u001b[0m     ArrowDtype,\n\u001b[1;32m     52\u001b[0m     Int8Dtype,\n\u001b[1;32m     53\u001b[0m     Int16Dtype,\n\u001b[1;32m     54\u001b[0m     Int32Dtype,\n\u001b[1;32m     55\u001b[0m     Int64Dtype,\n\u001b[1;32m     56\u001b[0m     UInt8Dtype,\n\u001b[1;32m     57\u001b[0m     UInt16Dtype,\n\u001b[1;32m     58\u001b[0m     UInt32Dtype,\n\u001b[1;32m     59\u001b[0m     UInt64Dtype,\n\u001b[1;32m     60\u001b[0m     Float32Dtype,\n\u001b[1;32m     61\u001b[0m     Float64Dtype,\n\u001b[1;32m     62\u001b[0m     CategoricalDtype,\n\u001b[1;32m     63\u001b[0m     PeriodDtype,\n\u001b[1;32m     64\u001b[0m     IntervalDtype,\n\u001b[1;32m     65\u001b[0m     DatetimeTZDtype,\n\u001b[1;32m     66\u001b[0m     StringDtype,\n\u001b[1;32m     67\u001b[0m     BooleanDtype,\n\u001b[1;32m     68\u001b[0m     \u001b[38;5;66;03m# missing\u001b[39;00m\n\u001b[1;32m     69\u001b[0m     NA,\n\u001b[1;32m     70\u001b[0m     isna,\n\u001b[1;32m     71\u001b[0m     isnull,\n\u001b[1;32m     72\u001b[0m     notna,\n\u001b[1;32m     73\u001b[0m     notnull,\n\u001b[1;32m     74\u001b[0m     \u001b[38;5;66;03m# indexes\u001b[39;00m\n\u001b[1;32m     75\u001b[0m     Index,\n\u001b[1;32m     76\u001b[0m     CategoricalIndex,\n\u001b[1;32m     77\u001b[0m     RangeIndex,\n\u001b[1;32m     78\u001b[0m     MultiIndex,\n\u001b[1;32m     79\u001b[0m     IntervalIndex,\n\u001b[1;32m     80\u001b[0m     TimedeltaIndex,\n\u001b[1;32m     81\u001b[0m     DatetimeIndex,\n\u001b[1;32m     82\u001b[0m     PeriodIndex,\n\u001b[1;32m     83\u001b[0m     IndexSlice,\n\u001b[1;32m     84\u001b[0m     \u001b[38;5;66;03m# tseries\u001b[39;00m\n\u001b[1;32m     85\u001b[0m     NaT,\n\u001b[1;32m     86\u001b[0m     Period,\n\u001b[1;32m     87\u001b[0m     period_range,\n\u001b[1;32m     88\u001b[0m     Timedelta,\n\u001b[1;32m     89\u001b[0m     timedelta_range,\n\u001b[1;32m     90\u001b[0m     Timestamp,\n\u001b[1;32m     91\u001b[0m     date_range,\n\u001b[1;32m     92\u001b[0m     bdate_range,\n\u001b[1;32m     93\u001b[0m     Interval,\n\u001b[1;32m     94\u001b[0m     interval_range,\n\u001b[1;32m     95\u001b[0m     DateOffset,\n\u001b[1;32m     96\u001b[0m     \u001b[38;5;66;03m# conversion\u001b[39;00m\n\u001b[1;32m     97\u001b[0m     to_numeric,\n\u001b[1;32m     98\u001b[0m     to_datetime,\n\u001b[1;32m     99\u001b[0m     to_timedelta,\n\u001b[1;32m    100\u001b[0m     \u001b[38;5;66;03m# misc\u001b[39;00m\n\u001b[1;32m    101\u001b[0m     Flags,\n\u001b[1;32m    102\u001b[0m     Grouper,\n\u001b[1;32m    103\u001b[0m     factorize,\n\u001b[1;32m    104\u001b[0m     unique,\n\u001b[1;32m    105\u001b[0m     value_counts,\n\u001b[1;32m    106\u001b[0m     NamedAgg,\n\u001b[1;32m    107\u001b[0m     array,\n\u001b[1;32m    108\u001b[0m     Categorical,\n\u001b[1;32m    109\u001b[0m     set_eng_float_format,\n\u001b[1;32m    110\u001b[0m     Series,\n\u001b[1;32m    111\u001b[0m     DataFrame,\n\u001b[1;32m    112\u001b[0m )\n\u001b[1;32m    114\u001b[0m \u001b[38;5;28;01mfrom\u001b[39;00m \u001b[38;5;21;01mpandas\u001b[39;00m\u001b[38;5;21;01m.\u001b[39;00m\u001b[38;5;21;01mcore\u001b[39;00m\u001b[38;5;21;01m.\u001b[39;00m\u001b[38;5;21;01mdtypes\u001b[39;00m\u001b[38;5;21;01m.\u001b[39;00m\u001b[38;5;21;01mdtypes\u001b[39;00m \u001b[38;5;28;01mimport\u001b[39;00m SparseDtype\n\u001b[1;32m    116\u001b[0m \u001b[38;5;28;01mfrom\u001b[39;00m \u001b[38;5;21;01mpandas\u001b[39;00m\u001b[38;5;21;01m.\u001b[39;00m\u001b[38;5;21;01mtseries\u001b[39;00m\u001b[38;5;21;01m.\u001b[39;00m\u001b[38;5;21;01mapi\u001b[39;00m \u001b[38;5;28;01mimport\u001b[39;00m infer_freq\n",
      "File \u001b[0;32m~/opt/miniconda3/lib/python3.12/site-packages/pandas/core/api.py:1\u001b[0m\n\u001b[0;32m----> 1\u001b[0m \u001b[38;5;28;01mfrom\u001b[39;00m \u001b[38;5;21;01mpandas\u001b[39;00m\u001b[38;5;21;01m.\u001b[39;00m\u001b[38;5;21;01m_libs\u001b[39;00m \u001b[38;5;28;01mimport\u001b[39;00m (\n\u001b[1;32m      2\u001b[0m     NaT,\n\u001b[1;32m      3\u001b[0m     Period,\n\u001b[1;32m      4\u001b[0m     Timedelta,\n\u001b[1;32m      5\u001b[0m     Timestamp,\n\u001b[1;32m      6\u001b[0m )\n\u001b[1;32m      7\u001b[0m \u001b[38;5;28;01mfrom\u001b[39;00m \u001b[38;5;21;01mpandas\u001b[39;00m\u001b[38;5;21;01m.\u001b[39;00m\u001b[38;5;21;01m_libs\u001b[39;00m\u001b[38;5;21;01m.\u001b[39;00m\u001b[38;5;21;01mmissing\u001b[39;00m \u001b[38;5;28;01mimport\u001b[39;00m NA\n\u001b[1;32m      9\u001b[0m \u001b[38;5;28;01mfrom\u001b[39;00m \u001b[38;5;21;01mpandas\u001b[39;00m\u001b[38;5;21;01m.\u001b[39;00m\u001b[38;5;21;01mcore\u001b[39;00m\u001b[38;5;21;01m.\u001b[39;00m\u001b[38;5;21;01mdtypes\u001b[39;00m\u001b[38;5;21;01m.\u001b[39;00m\u001b[38;5;21;01mdtypes\u001b[39;00m \u001b[38;5;28;01mimport\u001b[39;00m (\n\u001b[1;32m     10\u001b[0m     ArrowDtype,\n\u001b[1;32m     11\u001b[0m     CategoricalDtype,\n\u001b[0;32m   (...)\u001b[0m\n\u001b[1;32m     14\u001b[0m     PeriodDtype,\n\u001b[1;32m     15\u001b[0m )\n",
      "File \u001b[0;32m~/opt/miniconda3/lib/python3.12/site-packages/pandas/_libs/__init__.py:17\u001b[0m\n\u001b[1;32m     13\u001b[0m \u001b[38;5;66;03m# Below imports needs to happen first to ensure pandas top level\u001b[39;00m\n\u001b[1;32m     14\u001b[0m \u001b[38;5;66;03m# module gets monkeypatched with the pandas_datetime_CAPI\u001b[39;00m\n\u001b[1;32m     15\u001b[0m \u001b[38;5;66;03m# see pandas_datetime_exec in pd_datetime.c\u001b[39;00m\n\u001b[1;32m     16\u001b[0m \u001b[38;5;28;01mimport\u001b[39;00m \u001b[38;5;21;01mpandas\u001b[39;00m\u001b[38;5;21;01m.\u001b[39;00m\u001b[38;5;21;01m_libs\u001b[39;00m\u001b[38;5;21;01m.\u001b[39;00m\u001b[38;5;21;01mpandas_parser\u001b[39;00m  \u001b[38;5;66;03m# isort: skip # type: ignore[reportUnusedImport]\u001b[39;00m\n\u001b[0;32m---> 17\u001b[0m \u001b[38;5;28;01mimport\u001b[39;00m \u001b[38;5;21;01mpandas\u001b[39;00m\u001b[38;5;21;01m.\u001b[39;00m\u001b[38;5;21;01m_libs\u001b[39;00m\u001b[38;5;21;01m.\u001b[39;00m\u001b[38;5;21;01mpandas_datetime\u001b[39;00m  \u001b[38;5;66;03m# noqa: F401 # isort: skip # type: ignore[reportUnusedImport]\u001b[39;00m\n\u001b[1;32m     18\u001b[0m \u001b[38;5;28;01mfrom\u001b[39;00m \u001b[38;5;21;01mpandas\u001b[39;00m\u001b[38;5;21;01m.\u001b[39;00m\u001b[38;5;21;01m_libs\u001b[39;00m\u001b[38;5;21;01m.\u001b[39;00m\u001b[38;5;21;01minterval\u001b[39;00m \u001b[38;5;28;01mimport\u001b[39;00m Interval\n\u001b[1;32m     19\u001b[0m \u001b[38;5;28;01mfrom\u001b[39;00m \u001b[38;5;21;01mpandas\u001b[39;00m\u001b[38;5;21;01m.\u001b[39;00m\u001b[38;5;21;01m_libs\u001b[39;00m\u001b[38;5;21;01m.\u001b[39;00m\u001b[38;5;21;01mtslibs\u001b[39;00m \u001b[38;5;28;01mimport\u001b[39;00m (\n\u001b[1;32m     20\u001b[0m     NaT,\n\u001b[1;32m     21\u001b[0m     NaTType,\n\u001b[0;32m   (...)\u001b[0m\n\u001b[1;32m     26\u001b[0m     iNaT,\n\u001b[1;32m     27\u001b[0m )\n",
      "\u001b[0;31mImportError\u001b[0m: numpy.core.multiarray failed to import"
     ]
    }
   ],
   "source": [
    "import os\n",
    "import json\n",
    "import requests\n",
    "import datetime\n",
    "\n",
    "import numpy as np\n",
    "import pandas as pd \n",
    "import matplotlib.pyplot as plt\n",
    "\n",
    "from selenium import webdriver\n",
    "from selenium.webdriver.common.by import By\n",
    "from selenium.webdriver.support.wait import WebDriverWait\n",
    "from selenium.webdriver.support import expected_conditions as EC\n",
    "from scrapy import Selector\n",
    "\n",
    "from tqdm.notebook import tqdm\n",
    "from pprint import pprint as print"
   ]
  },
  {
   "cell_type": "code",
   "execution_count": null,
   "metadata": {},
   "outputs": [],
   "source": [
    "# Read the teams data json files into a dataframe\n",
    "\n",
    "# Create an empty dataframe\n",
    "teams_data_df = pd.DataFrame()\n",
    "\n",
    "# For every year, load the data from the json file and append to the dataframe\n",
    "for year in years:\n",
    "    filename = f'../Data/Raw/teams/{year}_teams.json'\n",
    "\n",
    "    # Read the json file into a temporary df\n",
    "    temp_df = pd.read_json(filename)\n",
    "    temp_df['year'] = year\n",
    "\n",
    "    # Append the temporary df to the main df\n",
    "    teams_data_df = pd.concat([teams_data_df, temp_df])\n",
    "\n",
    "\n",
    "teams_data_df = teams_data_df.reset_index(drop=True)\n",
    "teams_df = pd.json_normalize(teams_data_df['data']).reset_index(drop=True)\n",
    "teams_df['year'] = teams_data_df['year']"
   ]
  },
  {
   "cell_type": "code",
   "execution_count": null,
   "metadata": {},
   "outputs": [],
   "source": [
    "teams_df"
   ]
  },
  {
   "cell_type": "code",
   "execution_count": null,
   "metadata": {},
   "outputs": [],
   "source": [
    "# Drop the columns that we are not interested in\n",
    "teams_df = teams_df.drop(columns=['rank', 'ncaa_final', 'nqs', 'regionals', 'rqs', 'division_id', 'average_score', 'high_score', 'ncaa'])"
   ]
  },
  {
   "cell_type": "code",
   "execution_count": null,
   "metadata": {},
   "outputs": [],
   "source": [
    "# Preview the df\n",
    "teams_df.head()"
   ]
  },
  {
   "cell_type": "code",
   "execution_count": null,
   "metadata": {},
   "outputs": [],
   "source": [
    "# Determine the link to access the team's dashboard\n",
    "base_team_url = 'https://www.roadtonationals.com/api/women/dashboard'\n",
    "\n",
    "# Add the team links to the team_url column\n",
    "teams_df['team_url'] = teams_df.apply(lambda x: f'{base_team_url}/{str(x[\"year\"])}/{str(x[\"team_id\"])}', axis=1)"
   ]
  },
  {
   "cell_type": "code",
   "execution_count": null,
   "metadata": {},
   "outputs": [],
   "source": [
    "# Preview the df - this looks good to work with now\n",
    "teams_df.head()"
   ]
  }
 ],
 "metadata": {
  "kernelspec": {
   "display_name": "base",
   "language": "python",
   "name": "python3"
  },
  "language_info": {
   "codemirror_mode": {
    "name": "ipython",
    "version": 3
   },
   "file_extension": ".py",
   "mimetype": "text/x-python",
   "name": "python",
   "nbconvert_exporter": "python",
   "pygments_lexer": "ipython3",
   "version": "3.12.4"
  }
 },
 "nbformat": 4,
 "nbformat_minor": 2
}
