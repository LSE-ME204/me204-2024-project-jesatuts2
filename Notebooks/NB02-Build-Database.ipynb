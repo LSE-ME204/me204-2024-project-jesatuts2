{
 "cells": [
  {
   "cell_type": "code",
   "execution_count": 10,
   "metadata": {},
   "outputs": [
    {
     "name": "stdout",
     "output_type": "stream",
     "text": [
      "Requirement already satisfied: lets-plot==4.3.3 in /Users/jessicahyne/opt/miniconda3/envs/gymternet/lib/python3.11/site-packages (from -r ../requirements.txt (line 1)) (4.3.3)\n",
      "Requirement already satisfied: numerize==0.12 in /Users/jessicahyne/opt/miniconda3/envs/gymternet/lib/python3.11/site-packages (from -r ../requirements.txt (line 2)) (0.12)\n",
      "Requirement already satisfied: numpy<2 in /Users/jessicahyne/opt/miniconda3/envs/gymternet/lib/python3.11/site-packages (from -r ../requirements.txt (line 3)) (1.26.4)\n",
      "Requirement already satisfied: pandas==2.2.2 in /Users/jessicahyne/opt/miniconda3/envs/gymternet/lib/python3.11/site-packages (from -r ../requirements.txt (line 4)) (2.2.2)\n",
      "Requirement already satisfied: requests==2.32.3 in /Users/jessicahyne/opt/miniconda3/envs/gymternet/lib/python3.11/site-packages (from -r ../requirements.txt (line 5)) (2.32.3)\n",
      "Requirement already satisfied: Scrapy==2.11.2 in /Users/jessicahyne/opt/miniconda3/envs/gymternet/lib/python3.11/site-packages (from -r ../requirements.txt (line 6)) (2.11.2)\n",
      "Requirement already satisfied: selenium==4.22.0 in /Users/jessicahyne/opt/miniconda3/envs/gymternet/lib/python3.11/site-packages (from -r ../requirements.txt (line 7)) (4.22.0)\n",
      "Requirement already satisfied: tqdm==4.66.4 in /Users/jessicahyne/opt/miniconda3/envs/gymternet/lib/python3.11/site-packages (from -r ../requirements.txt (line 8)) (4.66.4)\n",
      "Requirement already satisfied: ipywidgets==8.1.3 in /Users/jessicahyne/opt/miniconda3/envs/gymternet/lib/python3.11/site-packages (from -r ../requirements.txt (line 9)) (8.1.3)\n",
      "Requirement already satisfied: jupysql in /Users/jessicahyne/opt/miniconda3/envs/gymternet/lib/python3.11/site-packages (from -r ../requirements.txt (line 10)) (0.10.12)\n",
      "Requirement already satisfied: sqlalchemy in /Users/jessicahyne/opt/miniconda3/envs/gymternet/lib/python3.11/site-packages (from -r ../requirements.txt (line 11)) (2.0.31)\n",
      "Requirement already satisfied: ipython-sql in /Users/jessicahyne/opt/miniconda3/envs/gymternet/lib/python3.11/site-packages (from -r ../requirements.txt (line 12)) (0.5.0)\n",
      "Requirement already satisfied: pypng in /Users/jessicahyne/opt/miniconda3/envs/gymternet/lib/python3.11/site-packages (from lets-plot==4.3.3->-r ../requirements.txt (line 1)) (0.20220715.0)\n",
      "Requirement already satisfied: palettable in /Users/jessicahyne/opt/miniconda3/envs/gymternet/lib/python3.11/site-packages (from lets-plot==4.3.3->-r ../requirements.txt (line 1)) (3.3.3)\n",
      "Requirement already satisfied: python-dateutil>=2.8.2 in /Users/jessicahyne/opt/miniconda3/envs/gymternet/lib/python3.11/site-packages (from pandas==2.2.2->-r ../requirements.txt (line 4)) (2.9.0)\n",
      "Requirement already satisfied: pytz>=2020.1 in /Users/jessicahyne/opt/miniconda3/envs/gymternet/lib/python3.11/site-packages (from pandas==2.2.2->-r ../requirements.txt (line 4)) (2024.1)\n",
      "Requirement already satisfied: tzdata>=2022.7 in /Users/jessicahyne/opt/miniconda3/envs/gymternet/lib/python3.11/site-packages (from pandas==2.2.2->-r ../requirements.txt (line 4)) (2024.1)\n",
      "Requirement already satisfied: charset-normalizer<4,>=2 in /Users/jessicahyne/opt/miniconda3/envs/gymternet/lib/python3.11/site-packages (from requests==2.32.3->-r ../requirements.txt (line 5)) (3.3.2)\n",
      "Requirement already satisfied: idna<4,>=2.5 in /Users/jessicahyne/opt/miniconda3/envs/gymternet/lib/python3.11/site-packages (from requests==2.32.3->-r ../requirements.txt (line 5)) (3.7)\n",
      "Requirement already satisfied: urllib3<3,>=1.21.1 in /Users/jessicahyne/opt/miniconda3/envs/gymternet/lib/python3.11/site-packages (from requests==2.32.3->-r ../requirements.txt (line 5)) (2.2.2)\n",
      "Requirement already satisfied: certifi>=2017.4.17 in /Users/jessicahyne/opt/miniconda3/envs/gymternet/lib/python3.11/site-packages (from requests==2.32.3->-r ../requirements.txt (line 5)) (2024.7.4)\n",
      "Requirement already satisfied: Twisted>=18.9.0 in /Users/jessicahyne/opt/miniconda3/envs/gymternet/lib/python3.11/site-packages (from Scrapy==2.11.2->-r ../requirements.txt (line 6)) (24.3.0)\n",
      "Requirement already satisfied: cryptography>=36.0.0 in /Users/jessicahyne/opt/miniconda3/envs/gymternet/lib/python3.11/site-packages (from Scrapy==2.11.2->-r ../requirements.txt (line 6)) (43.0.0)\n",
      "Requirement already satisfied: cssselect>=0.9.1 in /Users/jessicahyne/opt/miniconda3/envs/gymternet/lib/python3.11/site-packages (from Scrapy==2.11.2->-r ../requirements.txt (line 6)) (1.2.0)\n",
      "Requirement already satisfied: itemloaders>=1.0.1 in /Users/jessicahyne/opt/miniconda3/envs/gymternet/lib/python3.11/site-packages (from Scrapy==2.11.2->-r ../requirements.txt (line 6)) (1.3.1)\n",
      "Requirement already satisfied: parsel>=1.5.0 in /Users/jessicahyne/opt/miniconda3/envs/gymternet/lib/python3.11/site-packages (from Scrapy==2.11.2->-r ../requirements.txt (line 6)) (1.9.1)\n",
      "Requirement already satisfied: pyOpenSSL>=21.0.0 in /Users/jessicahyne/opt/miniconda3/envs/gymternet/lib/python3.11/site-packages (from Scrapy==2.11.2->-r ../requirements.txt (line 6)) (24.2.1)\n",
      "Requirement already satisfied: queuelib>=1.4.2 in /Users/jessicahyne/opt/miniconda3/envs/gymternet/lib/python3.11/site-packages (from Scrapy==2.11.2->-r ../requirements.txt (line 6)) (1.7.0)\n",
      "Requirement already satisfied: service-identity>=18.1.0 in /Users/jessicahyne/opt/miniconda3/envs/gymternet/lib/python3.11/site-packages (from Scrapy==2.11.2->-r ../requirements.txt (line 6)) (24.1.0)\n",
      "Requirement already satisfied: w3lib>=1.17.0 in /Users/jessicahyne/opt/miniconda3/envs/gymternet/lib/python3.11/site-packages (from Scrapy==2.11.2->-r ../requirements.txt (line 6)) (2.2.1)\n",
      "Requirement already satisfied: zope.interface>=5.1.0 in /Users/jessicahyne/opt/miniconda3/envs/gymternet/lib/python3.11/site-packages (from Scrapy==2.11.2->-r ../requirements.txt (line 6)) (6.4.post2)\n",
      "Requirement already satisfied: protego>=0.1.15 in /Users/jessicahyne/opt/miniconda3/envs/gymternet/lib/python3.11/site-packages (from Scrapy==2.11.2->-r ../requirements.txt (line 6)) (0.3.1)\n",
      "Requirement already satisfied: itemadapter>=0.1.0 in /Users/jessicahyne/opt/miniconda3/envs/gymternet/lib/python3.11/site-packages (from Scrapy==2.11.2->-r ../requirements.txt (line 6)) (0.9.0)\n",
      "Requirement already satisfied: setuptools in /Users/jessicahyne/opt/miniconda3/envs/gymternet/lib/python3.11/site-packages (from Scrapy==2.11.2->-r ../requirements.txt (line 6)) (69.5.1)\n",
      "Requirement already satisfied: packaging in /Users/jessicahyne/opt/miniconda3/envs/gymternet/lib/python3.11/site-packages (from Scrapy==2.11.2->-r ../requirements.txt (line 6)) (24.1)\n",
      "Requirement already satisfied: tldextract in /Users/jessicahyne/opt/miniconda3/envs/gymternet/lib/python3.11/site-packages (from Scrapy==2.11.2->-r ../requirements.txt (line 6)) (5.1.2)\n",
      "Requirement already satisfied: lxml>=4.4.1 in /Users/jessicahyne/opt/miniconda3/envs/gymternet/lib/python3.11/site-packages (from Scrapy==2.11.2->-r ../requirements.txt (line 6)) (5.2.2)\n",
      "Requirement already satisfied: defusedxml>=0.7.1 in /Users/jessicahyne/opt/miniconda3/envs/gymternet/lib/python3.11/site-packages (from Scrapy==2.11.2->-r ../requirements.txt (line 6)) (0.7.1)\n",
      "Requirement already satisfied: PyDispatcher>=2.0.5 in /Users/jessicahyne/opt/miniconda3/envs/gymternet/lib/python3.11/site-packages (from Scrapy==2.11.2->-r ../requirements.txt (line 6)) (2.0.7)\n",
      "Requirement already satisfied: trio~=0.17 in /Users/jessicahyne/opt/miniconda3/envs/gymternet/lib/python3.11/site-packages (from selenium==4.22.0->-r ../requirements.txt (line 7)) (0.26.0)\n",
      "Requirement already satisfied: trio-websocket~=0.9 in /Users/jessicahyne/opt/miniconda3/envs/gymternet/lib/python3.11/site-packages (from selenium==4.22.0->-r ../requirements.txt (line 7)) (0.11.1)\n",
      "Requirement already satisfied: typing_extensions>=4.9.0 in /Users/jessicahyne/opt/miniconda3/envs/gymternet/lib/python3.11/site-packages (from selenium==4.22.0->-r ../requirements.txt (line 7)) (4.12.2)\n",
      "Requirement already satisfied: websocket-client>=1.8.0 in /Users/jessicahyne/opt/miniconda3/envs/gymternet/lib/python3.11/site-packages (from selenium==4.22.0->-r ../requirements.txt (line 7)) (1.8.0)\n",
      "Requirement already satisfied: comm>=0.1.3 in /Users/jessicahyne/opt/miniconda3/envs/gymternet/lib/python3.11/site-packages (from ipywidgets==8.1.3->-r ../requirements.txt (line 9)) (0.2.2)\n",
      "Requirement already satisfied: ipython>=6.1.0 in /Users/jessicahyne/opt/miniconda3/envs/gymternet/lib/python3.11/site-packages (from ipywidgets==8.1.3->-r ../requirements.txt (line 9)) (8.26.0)\n",
      "Requirement already satisfied: traitlets>=4.3.1 in /Users/jessicahyne/opt/miniconda3/envs/gymternet/lib/python3.11/site-packages (from ipywidgets==8.1.3->-r ../requirements.txt (line 9)) (5.14.3)\n",
      "Requirement already satisfied: widgetsnbextension~=4.0.11 in /Users/jessicahyne/opt/miniconda3/envs/gymternet/lib/python3.11/site-packages (from ipywidgets==8.1.3->-r ../requirements.txt (line 9)) (4.0.11)\n",
      "Requirement already satisfied: jupyterlab-widgets~=3.0.11 in /Users/jessicahyne/opt/miniconda3/envs/gymternet/lib/python3.11/site-packages (from ipywidgets==8.1.3->-r ../requirements.txt (line 9)) (3.0.11)\n",
      "Requirement already satisfied: prettytable in /Users/jessicahyne/opt/miniconda3/envs/gymternet/lib/python3.11/site-packages (from jupysql->-r ../requirements.txt (line 10)) (3.10.2)\n",
      "Requirement already satisfied: sqlparse in /Users/jessicahyne/opt/miniconda3/envs/gymternet/lib/python3.11/site-packages (from jupysql->-r ../requirements.txt (line 10)) (0.5.1)\n",
      "Requirement already satisfied: ipython-genutils>=0.1.0 in /Users/jessicahyne/opt/miniconda3/envs/gymternet/lib/python3.11/site-packages (from jupysql->-r ../requirements.txt (line 10)) (0.2.0)\n",
      "Requirement already satisfied: jinja2 in /Users/jessicahyne/opt/miniconda3/envs/gymternet/lib/python3.11/site-packages (from jupysql->-r ../requirements.txt (line 10)) (3.1.4)\n",
      "Requirement already satisfied: sqlglot>=11.3.7 in /Users/jessicahyne/opt/miniconda3/envs/gymternet/lib/python3.11/site-packages (from jupysql->-r ../requirements.txt (line 10)) (25.7.0)\n",
      "Requirement already satisfied: jupysql-plugin>=0.4.2 in /Users/jessicahyne/opt/miniconda3/envs/gymternet/lib/python3.11/site-packages (from jupysql->-r ../requirements.txt (line 10)) (0.4.4)\n",
      "Requirement already satisfied: ploomber-core>=0.2.7 in /Users/jessicahyne/opt/miniconda3/envs/gymternet/lib/python3.11/site-packages (from jupysql->-r ../requirements.txt (line 10)) (0.2.25)\n",
      "Requirement already satisfied: ploomber-extension in /Users/jessicahyne/opt/miniconda3/envs/gymternet/lib/python3.11/site-packages (from jupysql->-r ../requirements.txt (line 10)) (0.1.1)\n",
      "Requirement already satisfied: greenlet!=0.4.17 in /Users/jessicahyne/opt/miniconda3/envs/gymternet/lib/python3.11/site-packages (from sqlalchemy->-r ../requirements.txt (line 11)) (3.0.3)\n",
      "Requirement already satisfied: six in /Users/jessicahyne/opt/miniconda3/envs/gymternet/lib/python3.11/site-packages (from ipython-sql->-r ../requirements.txt (line 12)) (1.16.0)\n",
      "Requirement already satisfied: cffi>=1.12 in /Users/jessicahyne/opt/miniconda3/envs/gymternet/lib/python3.11/site-packages (from cryptography>=36.0.0->Scrapy==2.11.2->-r ../requirements.txt (line 6)) (1.16.0)\n",
      "Requirement already satisfied: decorator in /Users/jessicahyne/opt/miniconda3/envs/gymternet/lib/python3.11/site-packages (from ipython>=6.1.0->ipywidgets==8.1.3->-r ../requirements.txt (line 9)) (5.1.1)\n",
      "Requirement already satisfied: jedi>=0.16 in /Users/jessicahyne/opt/miniconda3/envs/gymternet/lib/python3.11/site-packages (from ipython>=6.1.0->ipywidgets==8.1.3->-r ../requirements.txt (line 9)) (0.19.1)\n",
      "Requirement already satisfied: matplotlib-inline in /Users/jessicahyne/opt/miniconda3/envs/gymternet/lib/python3.11/site-packages (from ipython>=6.1.0->ipywidgets==8.1.3->-r ../requirements.txt (line 9)) (0.1.7)\n",
      "Requirement already satisfied: prompt-toolkit<3.1.0,>=3.0.41 in /Users/jessicahyne/opt/miniconda3/envs/gymternet/lib/python3.11/site-packages (from ipython>=6.1.0->ipywidgets==8.1.3->-r ../requirements.txt (line 9)) (3.0.47)\n",
      "Requirement already satisfied: pygments>=2.4.0 in /Users/jessicahyne/opt/miniconda3/envs/gymternet/lib/python3.11/site-packages (from ipython>=6.1.0->ipywidgets==8.1.3->-r ../requirements.txt (line 9)) (2.18.0)\n",
      "Requirement already satisfied: stack-data in /Users/jessicahyne/opt/miniconda3/envs/gymternet/lib/python3.11/site-packages (from ipython>=6.1.0->ipywidgets==8.1.3->-r ../requirements.txt (line 9)) (0.6.2)\n",
      "Requirement already satisfied: pexpect>4.3 in /Users/jessicahyne/opt/miniconda3/envs/gymternet/lib/python3.11/site-packages (from ipython>=6.1.0->ipywidgets==8.1.3->-r ../requirements.txt (line 9)) (4.9.0)\n",
      "Requirement already satisfied: jmespath>=0.9.5 in /Users/jessicahyne/opt/miniconda3/envs/gymternet/lib/python3.11/site-packages (from itemloaders>=1.0.1->Scrapy==2.11.2->-r ../requirements.txt (line 6)) (1.0.1)\n",
      "Requirement already satisfied: pyyaml in /Users/jessicahyne/opt/miniconda3/envs/gymternet/lib/python3.11/site-packages (from ploomber-core>=0.2.7->jupysql->-r ../requirements.txt (line 10)) (6.0.1)\n",
      "Requirement already satisfied: posthog in /Users/jessicahyne/opt/miniconda3/envs/gymternet/lib/python3.11/site-packages (from ploomber-core>=0.2.7->jupysql->-r ../requirements.txt (line 10)) (3.5.0)\n",
      "Requirement already satisfied: attrs>=19.1.0 in /Users/jessicahyne/opt/miniconda3/envs/gymternet/lib/python3.11/site-packages (from service-identity>=18.1.0->Scrapy==2.11.2->-r ../requirements.txt (line 6)) (23.2.0)\n",
      "Requirement already satisfied: pyasn1 in /Users/jessicahyne/opt/miniconda3/envs/gymternet/lib/python3.11/site-packages (from service-identity>=18.1.0->Scrapy==2.11.2->-r ../requirements.txt (line 6)) (0.6.0)\n",
      "Requirement already satisfied: pyasn1-modules in /Users/jessicahyne/opt/miniconda3/envs/gymternet/lib/python3.11/site-packages (from service-identity>=18.1.0->Scrapy==2.11.2->-r ../requirements.txt (line 6)) (0.4.0)\n",
      "Requirement already satisfied: sortedcontainers in /Users/jessicahyne/opt/miniconda3/envs/gymternet/lib/python3.11/site-packages (from trio~=0.17->selenium==4.22.0->-r ../requirements.txt (line 7)) (2.4.0)\n",
      "Requirement already satisfied: outcome in /Users/jessicahyne/opt/miniconda3/envs/gymternet/lib/python3.11/site-packages (from trio~=0.17->selenium==4.22.0->-r ../requirements.txt (line 7)) (1.3.0.post0)\n",
      "Requirement already satisfied: sniffio>=1.3.0 in /Users/jessicahyne/opt/miniconda3/envs/gymternet/lib/python3.11/site-packages (from trio~=0.17->selenium==4.22.0->-r ../requirements.txt (line 7)) (1.3.1)\n",
      "Requirement already satisfied: wsproto>=0.14 in /Users/jessicahyne/opt/miniconda3/envs/gymternet/lib/python3.11/site-packages (from trio-websocket~=0.9->selenium==4.22.0->-r ../requirements.txt (line 7)) (1.2.0)\n",
      "Requirement already satisfied: automat>=0.8.0 in /Users/jessicahyne/opt/miniconda3/envs/gymternet/lib/python3.11/site-packages (from Twisted>=18.9.0->Scrapy==2.11.2->-r ../requirements.txt (line 6)) (22.10.0)\n",
      "Requirement already satisfied: constantly>=15.1 in /Users/jessicahyne/opt/miniconda3/envs/gymternet/lib/python3.11/site-packages (from Twisted>=18.9.0->Scrapy==2.11.2->-r ../requirements.txt (line 6)) (23.10.4)\n",
      "Requirement already satisfied: hyperlink>=17.1.1 in /Users/jessicahyne/opt/miniconda3/envs/gymternet/lib/python3.11/site-packages (from Twisted>=18.9.0->Scrapy==2.11.2->-r ../requirements.txt (line 6)) (21.0.0)\n",
      "Requirement already satisfied: incremental>=22.10.0 in /Users/jessicahyne/opt/miniconda3/envs/gymternet/lib/python3.11/site-packages (from Twisted>=18.9.0->Scrapy==2.11.2->-r ../requirements.txt (line 6)) (22.10.0)\n",
      "Requirement already satisfied: pysocks!=1.5.7,<2.0,>=1.5.6 in /Users/jessicahyne/opt/miniconda3/envs/gymternet/lib/python3.11/site-packages (from urllib3[socks]<3,>=1.26->selenium==4.22.0->-r ../requirements.txt (line 7)) (1.7.1)\n",
      "Requirement already satisfied: MarkupSafe>=2.0 in /Users/jessicahyne/opt/miniconda3/envs/gymternet/lib/python3.11/site-packages (from jinja2->jupysql->-r ../requirements.txt (line 10)) (2.1.5)\n",
      "Requirement already satisfied: wcwidth in /Users/jessicahyne/opt/miniconda3/envs/gymternet/lib/python3.11/site-packages (from prettytable->jupysql->-r ../requirements.txt (line 10)) (0.2.13)\n",
      "Requirement already satisfied: requests-file>=1.4 in /Users/jessicahyne/opt/miniconda3/envs/gymternet/lib/python3.11/site-packages (from tldextract->Scrapy==2.11.2->-r ../requirements.txt (line 6)) (2.1.0)\n",
      "Requirement already satisfied: filelock>=3.0.8 in /Users/jessicahyne/opt/miniconda3/envs/gymternet/lib/python3.11/site-packages (from tldextract->Scrapy==2.11.2->-r ../requirements.txt (line 6)) (3.15.4)\n",
      "Requirement already satisfied: pycparser in /Users/jessicahyne/opt/miniconda3/envs/gymternet/lib/python3.11/site-packages (from cffi>=1.12->cryptography>=36.0.0->Scrapy==2.11.2->-r ../requirements.txt (line 6)) (2.22)\n",
      "Requirement already satisfied: parso<0.9.0,>=0.8.3 in /Users/jessicahyne/opt/miniconda3/envs/gymternet/lib/python3.11/site-packages (from jedi>=0.16->ipython>=6.1.0->ipywidgets==8.1.3->-r ../requirements.txt (line 9)) (0.8.4)\n",
      "Requirement already satisfied: ptyprocess>=0.5 in /Users/jessicahyne/opt/miniconda3/envs/gymternet/lib/python3.11/site-packages (from pexpect>4.3->ipython>=6.1.0->ipywidgets==8.1.3->-r ../requirements.txt (line 9)) (0.7.0)\n",
      "Requirement already satisfied: h11<1,>=0.9.0 in /Users/jessicahyne/opt/miniconda3/envs/gymternet/lib/python3.11/site-packages (from wsproto>=0.14->trio-websocket~=0.9->selenium==4.22.0->-r ../requirements.txt (line 7)) (0.14.0)\n",
      "Requirement already satisfied: monotonic>=1.5 in /Users/jessicahyne/opt/miniconda3/envs/gymternet/lib/python3.11/site-packages (from posthog->ploomber-core>=0.2.7->jupysql->-r ../requirements.txt (line 10)) (1.6)\n",
      "Requirement already satisfied: backoff>=1.10.0 in /Users/jessicahyne/opt/miniconda3/envs/gymternet/lib/python3.11/site-packages (from posthog->ploomber-core>=0.2.7->jupysql->-r ../requirements.txt (line 10)) (2.2.1)\n",
      "Requirement already satisfied: executing>=1.2.0 in /Users/jessicahyne/opt/miniconda3/envs/gymternet/lib/python3.11/site-packages (from stack-data->ipython>=6.1.0->ipywidgets==8.1.3->-r ../requirements.txt (line 9)) (2.0.1)\n",
      "Requirement already satisfied: asttokens>=2.1.0 in /Users/jessicahyne/opt/miniconda3/envs/gymternet/lib/python3.11/site-packages (from stack-data->ipython>=6.1.0->ipywidgets==8.1.3->-r ../requirements.txt (line 9)) (2.4.1)\n",
      "Requirement already satisfied: pure-eval in /Users/jessicahyne/opt/miniconda3/envs/gymternet/lib/python3.11/site-packages (from stack-data->ipython>=6.1.0->ipywidgets==8.1.3->-r ../requirements.txt (line 9)) (0.2.3)\n"
     ]
    }
   ],
   "source": [
    "!pip install -r ../requirements.txt"
   ]
  },
  {
   "cell_type": "code",
   "execution_count": 12,
   "metadata": {},
   "outputs": [
    {
     "ename": "ImportError",
     "evalue": "cannot import name 'escape_string_literals_with_colon_prefix' from 'sql.parse' (/Users/jessicahyne/opt/miniconda3/envs/gymternet/lib/python3.11/site-packages/sql/parse.py)",
     "output_type": "error",
     "traceback": [
      "\u001b[0;31m---------------------------------------------------------------------------\u001b[0m",
      "\u001b[0;31mImportError\u001b[0m                               Traceback (most recent call last)",
      "Cell \u001b[0;32mIn[12], line 13\u001b[0m\n\u001b[1;32m     10\u001b[0m \u001b[38;5;28;01mimport\u001b[39;00m \u001b[38;5;21;01mpandas\u001b[39;00m \u001b[38;5;28;01mas\u001b[39;00m \u001b[38;5;21;01mpd\u001b[39;00m \n\u001b[1;32m     11\u001b[0m \u001b[38;5;28;01mfrom\u001b[39;00m \u001b[38;5;21;01msqlalchemy\u001b[39;00m \u001b[38;5;28;01mimport\u001b[39;00m create_engine\n\u001b[0;32m---> 13\u001b[0m \u001b[43mget_ipython\u001b[49m\u001b[43m(\u001b[49m\u001b[43m)\u001b[49m\u001b[38;5;241;43m.\u001b[39;49m\u001b[43mrun_line_magic\u001b[49m\u001b[43m(\u001b[49m\u001b[38;5;124;43m'\u001b[39;49m\u001b[38;5;124;43mload_ext\u001b[39;49m\u001b[38;5;124;43m'\u001b[39;49m\u001b[43m,\u001b[49m\u001b[43m \u001b[49m\u001b[38;5;124;43m'\u001b[39;49m\u001b[38;5;124;43msql\u001b[39;49m\u001b[38;5;124;43m'\u001b[39;49m\u001b[43m)\u001b[49m\n\u001b[1;32m     14\u001b[0m get_ipython()\u001b[38;5;241m.\u001b[39mrun_line_magic(\u001b[38;5;124m'\u001b[39m\u001b[38;5;124mconfig\u001b[39m\u001b[38;5;124m'\u001b[39m, \u001b[38;5;124m'\u001b[39m\u001b[38;5;124mSqlMagic.autocommit=True\u001b[39m\u001b[38;5;124m'\u001b[39m)\n\u001b[1;32m     16\u001b[0m \u001b[38;5;28;01mfrom\u001b[39;00m \u001b[38;5;21;01mtqdm\u001b[39;00m\u001b[38;5;21;01m.\u001b[39;00m\u001b[38;5;21;01mnotebook\u001b[39;00m \u001b[38;5;28;01mimport\u001b[39;00m tqdm\n",
      "File \u001b[0;32m~/opt/miniconda3/envs/gymternet/lib/python3.11/site-packages/IPython/core/interactiveshell.py:2480\u001b[0m, in \u001b[0;36mInteractiveShell.run_line_magic\u001b[0;34m(self, magic_name, line, _stack_depth)\u001b[0m\n\u001b[1;32m   2478\u001b[0m     kwargs[\u001b[38;5;124m'\u001b[39m\u001b[38;5;124mlocal_ns\u001b[39m\u001b[38;5;124m'\u001b[39m] \u001b[38;5;241m=\u001b[39m \u001b[38;5;28mself\u001b[39m\u001b[38;5;241m.\u001b[39mget_local_scope(stack_depth)\n\u001b[1;32m   2479\u001b[0m \u001b[38;5;28;01mwith\u001b[39;00m \u001b[38;5;28mself\u001b[39m\u001b[38;5;241m.\u001b[39mbuiltin_trap:\n\u001b[0;32m-> 2480\u001b[0m     result \u001b[38;5;241m=\u001b[39m \u001b[43mfn\u001b[49m\u001b[43m(\u001b[49m\u001b[38;5;241;43m*\u001b[39;49m\u001b[43margs\u001b[49m\u001b[43m,\u001b[49m\u001b[43m \u001b[49m\u001b[38;5;241;43m*\u001b[39;49m\u001b[38;5;241;43m*\u001b[39;49m\u001b[43mkwargs\u001b[49m\u001b[43m)\u001b[49m\n\u001b[1;32m   2482\u001b[0m \u001b[38;5;66;03m# The code below prevents the output from being displayed\u001b[39;00m\n\u001b[1;32m   2483\u001b[0m \u001b[38;5;66;03m# when using magics with decorator @output_can_be_silenced\u001b[39;00m\n\u001b[1;32m   2484\u001b[0m \u001b[38;5;66;03m# when the last Python token in the expression is a ';'.\u001b[39;00m\n\u001b[1;32m   2485\u001b[0m \u001b[38;5;28;01mif\u001b[39;00m \u001b[38;5;28mgetattr\u001b[39m(fn, magic\u001b[38;5;241m.\u001b[39mMAGIC_OUTPUT_CAN_BE_SILENCED, \u001b[38;5;28;01mFalse\u001b[39;00m):\n",
      "File \u001b[0;32m~/opt/miniconda3/envs/gymternet/lib/python3.11/site-packages/IPython/core/magics/extension.py:33\u001b[0m, in \u001b[0;36mExtensionMagics.load_ext\u001b[0;34m(self, module_str)\u001b[0m\n\u001b[1;32m     31\u001b[0m \u001b[38;5;28;01mif\u001b[39;00m \u001b[38;5;129;01mnot\u001b[39;00m module_str:\n\u001b[1;32m     32\u001b[0m     \u001b[38;5;28;01mraise\u001b[39;00m UsageError(\u001b[38;5;124m'\u001b[39m\u001b[38;5;124mMissing module name.\u001b[39m\u001b[38;5;124m'\u001b[39m)\n\u001b[0;32m---> 33\u001b[0m res \u001b[38;5;241m=\u001b[39m \u001b[38;5;28;43mself\u001b[39;49m\u001b[38;5;241;43m.\u001b[39;49m\u001b[43mshell\u001b[49m\u001b[38;5;241;43m.\u001b[39;49m\u001b[43mextension_manager\u001b[49m\u001b[38;5;241;43m.\u001b[39;49m\u001b[43mload_extension\u001b[49m\u001b[43m(\u001b[49m\u001b[43mmodule_str\u001b[49m\u001b[43m)\u001b[49m\n\u001b[1;32m     35\u001b[0m \u001b[38;5;28;01mif\u001b[39;00m res \u001b[38;5;241m==\u001b[39m \u001b[38;5;124m'\u001b[39m\u001b[38;5;124malready loaded\u001b[39m\u001b[38;5;124m'\u001b[39m:\n\u001b[1;32m     36\u001b[0m     \u001b[38;5;28mprint\u001b[39m(\u001b[38;5;124m\"\u001b[39m\u001b[38;5;124mThe \u001b[39m\u001b[38;5;132;01m%s\u001b[39;00m\u001b[38;5;124m extension is already loaded. To reload it, use:\u001b[39m\u001b[38;5;124m\"\u001b[39m \u001b[38;5;241m%\u001b[39m module_str)\n",
      "File \u001b[0;32m~/opt/miniconda3/envs/gymternet/lib/python3.11/site-packages/IPython/core/extensions.py:62\u001b[0m, in \u001b[0;36mExtensionManager.load_extension\u001b[0;34m(self, module_str)\u001b[0m\n\u001b[1;32m     55\u001b[0m \u001b[38;5;250m\u001b[39m\u001b[38;5;124;03m\"\"\"Load an IPython extension by its module name.\u001b[39;00m\n\u001b[1;32m     56\u001b[0m \n\u001b[1;32m     57\u001b[0m \u001b[38;5;124;03mReturns the string \"already loaded\" if the extension is already loaded,\u001b[39;00m\n\u001b[1;32m     58\u001b[0m \u001b[38;5;124;03m\"no load function\" if the module doesn't have a load_ipython_extension\u001b[39;00m\n\u001b[1;32m     59\u001b[0m \u001b[38;5;124;03mfunction, or None if it succeeded.\u001b[39;00m\n\u001b[1;32m     60\u001b[0m \u001b[38;5;124;03m\"\"\"\u001b[39;00m\n\u001b[1;32m     61\u001b[0m \u001b[38;5;28;01mtry\u001b[39;00m:\n\u001b[0;32m---> 62\u001b[0m     \u001b[38;5;28;01mreturn\u001b[39;00m \u001b[38;5;28;43mself\u001b[39;49m\u001b[38;5;241;43m.\u001b[39;49m\u001b[43m_load_extension\u001b[49m\u001b[43m(\u001b[49m\u001b[43mmodule_str\u001b[49m\u001b[43m)\u001b[49m\n\u001b[1;32m     63\u001b[0m \u001b[38;5;28;01mexcept\u001b[39;00m \u001b[38;5;167;01mModuleNotFoundError\u001b[39;00m:\n\u001b[1;32m     64\u001b[0m     \u001b[38;5;28;01mif\u001b[39;00m module_str \u001b[38;5;129;01min\u001b[39;00m BUILTINS_EXTS:\n",
      "File \u001b[0;32m~/opt/miniconda3/envs/gymternet/lib/python3.11/site-packages/IPython/core/extensions.py:77\u001b[0m, in \u001b[0;36mExtensionManager._load_extension\u001b[0;34m(self, module_str)\u001b[0m\n\u001b[1;32m     75\u001b[0m \u001b[38;5;28;01mwith\u001b[39;00m \u001b[38;5;28mself\u001b[39m\u001b[38;5;241m.\u001b[39mshell\u001b[38;5;241m.\u001b[39mbuiltin_trap:\n\u001b[1;32m     76\u001b[0m     \u001b[38;5;28;01mif\u001b[39;00m module_str \u001b[38;5;129;01mnot\u001b[39;00m \u001b[38;5;129;01min\u001b[39;00m sys\u001b[38;5;241m.\u001b[39mmodules:\n\u001b[0;32m---> 77\u001b[0m         mod \u001b[38;5;241m=\u001b[39m \u001b[43mimport_module\u001b[49m\u001b[43m(\u001b[49m\u001b[43mmodule_str\u001b[49m\u001b[43m)\u001b[49m\n\u001b[1;32m     78\u001b[0m     mod \u001b[38;5;241m=\u001b[39m sys\u001b[38;5;241m.\u001b[39mmodules[module_str]\n\u001b[1;32m     79\u001b[0m     \u001b[38;5;28;01mif\u001b[39;00m \u001b[38;5;28mself\u001b[39m\u001b[38;5;241m.\u001b[39m_call_load_ipython_extension(mod):\n",
      "File \u001b[0;32m~/opt/miniconda3/envs/gymternet/lib/python3.11/importlib/__init__.py:126\u001b[0m, in \u001b[0;36mimport_module\u001b[0;34m(name, package)\u001b[0m\n\u001b[1;32m    124\u001b[0m             \u001b[38;5;28;01mbreak\u001b[39;00m\n\u001b[1;32m    125\u001b[0m         level \u001b[38;5;241m+\u001b[39m\u001b[38;5;241m=\u001b[39m \u001b[38;5;241m1\u001b[39m\n\u001b[0;32m--> 126\u001b[0m \u001b[38;5;28;01mreturn\u001b[39;00m \u001b[43m_bootstrap\u001b[49m\u001b[38;5;241;43m.\u001b[39;49m\u001b[43m_gcd_import\u001b[49m\u001b[43m(\u001b[49m\u001b[43mname\u001b[49m\u001b[43m[\u001b[49m\u001b[43mlevel\u001b[49m\u001b[43m:\u001b[49m\u001b[43m]\u001b[49m\u001b[43m,\u001b[49m\u001b[43m \u001b[49m\u001b[43mpackage\u001b[49m\u001b[43m,\u001b[49m\u001b[43m \u001b[49m\u001b[43mlevel\u001b[49m\u001b[43m)\u001b[49m\n",
      "File \u001b[0;32m<frozen importlib._bootstrap>:1204\u001b[0m, in \u001b[0;36m_gcd_import\u001b[0;34m(name, package, level)\u001b[0m\n",
      "File \u001b[0;32m<frozen importlib._bootstrap>:1176\u001b[0m, in \u001b[0;36m_find_and_load\u001b[0;34m(name, import_)\u001b[0m\n",
      "File \u001b[0;32m<frozen importlib._bootstrap>:1147\u001b[0m, in \u001b[0;36m_find_and_load_unlocked\u001b[0;34m(name, import_)\u001b[0m\n",
      "File \u001b[0;32m<frozen importlib._bootstrap>:690\u001b[0m, in \u001b[0;36m_load_unlocked\u001b[0;34m(spec)\u001b[0m\n",
      "File \u001b[0;32m<frozen importlib._bootstrap_external>:940\u001b[0m, in \u001b[0;36mexec_module\u001b[0;34m(self, module)\u001b[0m\n",
      "File \u001b[0;32m<frozen importlib._bootstrap>:241\u001b[0m, in \u001b[0;36m_call_with_frames_removed\u001b[0;34m(f, *args, **kwds)\u001b[0m\n",
      "File \u001b[0;32m~/opt/miniconda3/envs/gymternet/lib/python3.11/site-packages/sql/__init__.py:1\u001b[0m\n\u001b[0;32m----> 1\u001b[0m \u001b[38;5;28;01mfrom\u001b[39;00m \u001b[38;5;21;01m.\u001b[39;00m\u001b[38;5;21;01mmagic\u001b[39;00m \u001b[38;5;28;01mimport\u001b[39;00m \u001b[38;5;241m*\u001b[39m\n",
      "File \u001b[0;32m~/opt/miniconda3/envs/gymternet/lib/python3.11/site-packages/sql/magic.py:15\u001b[0m\n\u001b[1;32m     12\u001b[0m \u001b[38;5;28;01mfrom\u001b[39;00m \u001b[38;5;21;01mIPython\u001b[39;00m\u001b[38;5;21;01m.\u001b[39;00m\u001b[38;5;21;01mcore\u001b[39;00m\u001b[38;5;21;01m.\u001b[39;00m\u001b[38;5;21;01mmagic_arguments\u001b[39;00m \u001b[38;5;28;01mimport\u001b[39;00m argument, magic_arguments, parse_argstring\n\u001b[1;32m     13\u001b[0m \u001b[38;5;28;01mfrom\u001b[39;00m \u001b[38;5;21;01msqlalchemy\u001b[39;00m\u001b[38;5;21;01m.\u001b[39;00m\u001b[38;5;21;01mexc\u001b[39;00m \u001b[38;5;28;01mimport\u001b[39;00m OperationalError, ProgrammingError, DatabaseError\n\u001b[0;32m---> 15\u001b[0m \u001b[38;5;28;01mimport\u001b[39;00m \u001b[38;5;21;01msql\u001b[39;00m\u001b[38;5;21;01m.\u001b[39;00m\u001b[38;5;21;01mconnection\u001b[39;00m\n\u001b[1;32m     16\u001b[0m \u001b[38;5;28;01mimport\u001b[39;00m \u001b[38;5;21;01msql\u001b[39;00m\u001b[38;5;21;01m.\u001b[39;00m\u001b[38;5;21;01mparse\u001b[39;00m\n\u001b[1;32m     17\u001b[0m \u001b[38;5;28;01mimport\u001b[39;00m \u001b[38;5;21;01msql\u001b[39;00m\u001b[38;5;21;01m.\u001b[39;00m\u001b[38;5;21;01mrun\u001b[39;00m\n",
      "File \u001b[0;32m~/opt/miniconda3/envs/gymternet/lib/python3.11/site-packages/sql/connection/__init__.py:1\u001b[0m\n\u001b[0;32m----> 1\u001b[0m \u001b[38;5;28;01mfrom\u001b[39;00m \u001b[38;5;21;01msql\u001b[39;00m\u001b[38;5;21;01m.\u001b[39;00m\u001b[38;5;21;01mconnection\u001b[39;00m\u001b[38;5;21;01m.\u001b[39;00m\u001b[38;5;21;01mconnection\u001b[39;00m \u001b[38;5;28;01mimport\u001b[39;00m (\n\u001b[1;32m      2\u001b[0m     ConnectionManager,\n\u001b[1;32m      3\u001b[0m     SQLAlchemyConnection,\n\u001b[1;32m      4\u001b[0m     DBAPIConnection,\n\u001b[1;32m      5\u001b[0m     SparkConnectConnection,\n\u001b[1;32m      6\u001b[0m     is_pep249_compliant,\n\u001b[1;32m      7\u001b[0m     is_spark,\n\u001b[1;32m      8\u001b[0m     PLOOMBER_DOCS_LINK_STR,\n\u001b[1;32m      9\u001b[0m     default_alias_for_engine,\n\u001b[1;32m     10\u001b[0m     ResultSetCollection,\n\u001b[1;32m     11\u001b[0m     detect_duckdb_summarize_or_select,\n\u001b[1;32m     12\u001b[0m )\n\u001b[1;32m     15\u001b[0m __all__ \u001b[38;5;241m=\u001b[39m [\n\u001b[1;32m     16\u001b[0m     \u001b[38;5;124m\"\u001b[39m\u001b[38;5;124mConnectionManager\u001b[39m\u001b[38;5;124m\"\u001b[39m,\n\u001b[1;32m     17\u001b[0m     \u001b[38;5;124m\"\u001b[39m\u001b[38;5;124mSQLAlchemyConnection\u001b[39m\u001b[38;5;124m\"\u001b[39m,\n\u001b[0;32m   (...)\u001b[0m\n\u001b[1;32m     25\u001b[0m     \u001b[38;5;124m\"\u001b[39m\u001b[38;5;124mdetect_duckdb_summarize_or_select\u001b[39m\u001b[38;5;124m\"\u001b[39m,\n\u001b[1;32m     26\u001b[0m ]\n",
      "File \u001b[0;32m~/opt/miniconda3/envs/gymternet/lib/python3.11/site-packages/sql/connection/connection.py:32\u001b[0m\n\u001b[1;32m     30\u001b[0m \u001b[38;5;28;01mfrom\u001b[39;00m \u001b[38;5;21;01msql\u001b[39;00m \u001b[38;5;28;01mimport\u001b[39;00m exceptions, display\n\u001b[1;32m     31\u001b[0m \u001b[38;5;28;01mfrom\u001b[39;00m \u001b[38;5;21;01msql\u001b[39;00m\u001b[38;5;21;01m.\u001b[39;00m\u001b[38;5;21;01merror_handler\u001b[39;00m \u001b[38;5;28;01mimport\u001b[39;00m handle_exception\n\u001b[0;32m---> 32\u001b[0m \u001b[38;5;28;01mfrom\u001b[39;00m \u001b[38;5;21;01msql\u001b[39;00m\u001b[38;5;21;01m.\u001b[39;00m\u001b[38;5;21;01mparse\u001b[39;00m \u001b[38;5;28;01mimport\u001b[39;00m (\n\u001b[1;32m     33\u001b[0m     escape_string_literals_with_colon_prefix,\n\u001b[1;32m     34\u001b[0m     find_named_parameters,\n\u001b[1;32m     35\u001b[0m     ConnectionsFile,\n\u001b[1;32m     36\u001b[0m )\n\u001b[1;32m     37\u001b[0m \u001b[38;5;28;01mfrom\u001b[39;00m \u001b[38;5;21;01msql\u001b[39;00m\u001b[38;5;21;01m.\u001b[39;00m\u001b[38;5;21;01mwarnings\u001b[39;00m \u001b[38;5;28;01mimport\u001b[39;00m JupySQLQuotedNamedParametersWarning, JupySQLRollbackPerformed\n\u001b[1;32m     38\u001b[0m \u001b[38;5;28;01mfrom\u001b[39;00m \u001b[38;5;21;01msql\u001b[39;00m \u001b[38;5;28;01mimport\u001b[39;00m _current\n",
      "\u001b[0;31mImportError\u001b[0m: cannot import name 'escape_string_literals_with_colon_prefix' from 'sql.parse' (/Users/jessicahyne/opt/miniconda3/envs/gymternet/lib/python3.11/site-packages/sql/parse.py)"
     ]
    }
   ],
   "source": [
    "import os\n",
    "import json\n",
    "import requests\n",
    "\n",
    "import sqlite3\n",
    "from tqdm.notebook import tqdm, trange\n",
    "tqdm.pandas()\n",
    "\n",
    "import numpy as np\n",
    "import pandas as pd \n",
    "from sqlalchemy import create_engine\n",
    "\n",
    "%load_ext sql\n",
    "%config SqlMagic.autocommit=True\n",
    "\n",
    "from tqdm.notebook import tqdm\n",
    "from pprint import pprint as print"
   ]
  },
  {
   "cell_type": "code",
   "execution_count": null,
   "metadata": {
    "vscode": {
     "languageId": "sql"
    }
   },
   "outputs": [
    {
     "ename": "ImportError",
     "evalue": "cannot import name 'escape_string_literals_with_colon_prefix' from 'sql.parse' (/Users/jessicahyne/opt/miniconda3/envs/gymternet/lib/python3.11/site-packages/sql/parse.py)",
     "output_type": "error",
     "traceback": [
      "\u001b[0;31m---------------------------------------------------------------------------\u001b[0m",
      "\u001b[0;31mImportError\u001b[0m                               Traceback (most recent call last)",
      "Cell \u001b[0;32mIn[9], line 1\u001b[0m\n\u001b[0;32m----> 1\u001b[0m \u001b[43mget_ipython\u001b[49m\u001b[43m(\u001b[49m\u001b[43m)\u001b[49m\u001b[38;5;241;43m.\u001b[39;49m\u001b[43mrun_line_magic\u001b[49m\u001b[43m(\u001b[49m\u001b[38;5;124;43m'\u001b[39;49m\u001b[38;5;124;43mload_ext\u001b[39;49m\u001b[38;5;124;43m'\u001b[39;49m\u001b[43m,\u001b[49m\u001b[43m \u001b[49m\u001b[38;5;124;43m'\u001b[39;49m\u001b[38;5;124;43msql\u001b[39;49m\u001b[38;5;124;43m'\u001b[39;49m\u001b[43m)\u001b[49m\n\u001b[1;32m      2\u001b[0m get_ipython()\u001b[38;5;241m.\u001b[39mrun_line_magic(\u001b[38;5;124m'\u001b[39m\u001b[38;5;124mconfig\u001b[39m\u001b[38;5;124m'\u001b[39m, \u001b[38;5;124m'\u001b[39m\u001b[38;5;124mSqlMagic.autocommit=True\u001b[39m\u001b[38;5;124m'\u001b[39m)\n",
      "File \u001b[0;32m~/opt/miniconda3/envs/gymternet/lib/python3.11/site-packages/IPython/core/interactiveshell.py:2480\u001b[0m, in \u001b[0;36mInteractiveShell.run_line_magic\u001b[0;34m(self, magic_name, line, _stack_depth)\u001b[0m\n\u001b[1;32m   2478\u001b[0m     kwargs[\u001b[38;5;124m'\u001b[39m\u001b[38;5;124mlocal_ns\u001b[39m\u001b[38;5;124m'\u001b[39m] \u001b[38;5;241m=\u001b[39m \u001b[38;5;28mself\u001b[39m\u001b[38;5;241m.\u001b[39mget_local_scope(stack_depth)\n\u001b[1;32m   2479\u001b[0m \u001b[38;5;28;01mwith\u001b[39;00m \u001b[38;5;28mself\u001b[39m\u001b[38;5;241m.\u001b[39mbuiltin_trap:\n\u001b[0;32m-> 2480\u001b[0m     result \u001b[38;5;241m=\u001b[39m \u001b[43mfn\u001b[49m\u001b[43m(\u001b[49m\u001b[38;5;241;43m*\u001b[39;49m\u001b[43margs\u001b[49m\u001b[43m,\u001b[49m\u001b[43m \u001b[49m\u001b[38;5;241;43m*\u001b[39;49m\u001b[38;5;241;43m*\u001b[39;49m\u001b[43mkwargs\u001b[49m\u001b[43m)\u001b[49m\n\u001b[1;32m   2482\u001b[0m \u001b[38;5;66;03m# The code below prevents the output from being displayed\u001b[39;00m\n\u001b[1;32m   2483\u001b[0m \u001b[38;5;66;03m# when using magics with decorator @output_can_be_silenced\u001b[39;00m\n\u001b[1;32m   2484\u001b[0m \u001b[38;5;66;03m# when the last Python token in the expression is a ';'.\u001b[39;00m\n\u001b[1;32m   2485\u001b[0m \u001b[38;5;28;01mif\u001b[39;00m \u001b[38;5;28mgetattr\u001b[39m(fn, magic\u001b[38;5;241m.\u001b[39mMAGIC_OUTPUT_CAN_BE_SILENCED, \u001b[38;5;28;01mFalse\u001b[39;00m):\n",
      "File \u001b[0;32m~/opt/miniconda3/envs/gymternet/lib/python3.11/site-packages/IPython/core/magics/extension.py:33\u001b[0m, in \u001b[0;36mExtensionMagics.load_ext\u001b[0;34m(self, module_str)\u001b[0m\n\u001b[1;32m     31\u001b[0m \u001b[38;5;28;01mif\u001b[39;00m \u001b[38;5;129;01mnot\u001b[39;00m module_str:\n\u001b[1;32m     32\u001b[0m     \u001b[38;5;28;01mraise\u001b[39;00m UsageError(\u001b[38;5;124m'\u001b[39m\u001b[38;5;124mMissing module name.\u001b[39m\u001b[38;5;124m'\u001b[39m)\n\u001b[0;32m---> 33\u001b[0m res \u001b[38;5;241m=\u001b[39m \u001b[38;5;28;43mself\u001b[39;49m\u001b[38;5;241;43m.\u001b[39;49m\u001b[43mshell\u001b[49m\u001b[38;5;241;43m.\u001b[39;49m\u001b[43mextension_manager\u001b[49m\u001b[38;5;241;43m.\u001b[39;49m\u001b[43mload_extension\u001b[49m\u001b[43m(\u001b[49m\u001b[43mmodule_str\u001b[49m\u001b[43m)\u001b[49m\n\u001b[1;32m     35\u001b[0m \u001b[38;5;28;01mif\u001b[39;00m res \u001b[38;5;241m==\u001b[39m \u001b[38;5;124m'\u001b[39m\u001b[38;5;124malready loaded\u001b[39m\u001b[38;5;124m'\u001b[39m:\n\u001b[1;32m     36\u001b[0m     \u001b[38;5;28mprint\u001b[39m(\u001b[38;5;124m\"\u001b[39m\u001b[38;5;124mThe \u001b[39m\u001b[38;5;132;01m%s\u001b[39;00m\u001b[38;5;124m extension is already loaded. To reload it, use:\u001b[39m\u001b[38;5;124m\"\u001b[39m \u001b[38;5;241m%\u001b[39m module_str)\n",
      "File \u001b[0;32m~/opt/miniconda3/envs/gymternet/lib/python3.11/site-packages/IPython/core/extensions.py:62\u001b[0m, in \u001b[0;36mExtensionManager.load_extension\u001b[0;34m(self, module_str)\u001b[0m\n\u001b[1;32m     55\u001b[0m \u001b[38;5;250m\u001b[39m\u001b[38;5;124;03m\"\"\"Load an IPython extension by its module name.\u001b[39;00m\n\u001b[1;32m     56\u001b[0m \n\u001b[1;32m     57\u001b[0m \u001b[38;5;124;03mReturns the string \"already loaded\" if the extension is already loaded,\u001b[39;00m\n\u001b[1;32m     58\u001b[0m \u001b[38;5;124;03m\"no load function\" if the module doesn't have a load_ipython_extension\u001b[39;00m\n\u001b[1;32m     59\u001b[0m \u001b[38;5;124;03mfunction, or None if it succeeded.\u001b[39;00m\n\u001b[1;32m     60\u001b[0m \u001b[38;5;124;03m\"\"\"\u001b[39;00m\n\u001b[1;32m     61\u001b[0m \u001b[38;5;28;01mtry\u001b[39;00m:\n\u001b[0;32m---> 62\u001b[0m     \u001b[38;5;28;01mreturn\u001b[39;00m \u001b[38;5;28;43mself\u001b[39;49m\u001b[38;5;241;43m.\u001b[39;49m\u001b[43m_load_extension\u001b[49m\u001b[43m(\u001b[49m\u001b[43mmodule_str\u001b[49m\u001b[43m)\u001b[49m\n\u001b[1;32m     63\u001b[0m \u001b[38;5;28;01mexcept\u001b[39;00m \u001b[38;5;167;01mModuleNotFoundError\u001b[39;00m:\n\u001b[1;32m     64\u001b[0m     \u001b[38;5;28;01mif\u001b[39;00m module_str \u001b[38;5;129;01min\u001b[39;00m BUILTINS_EXTS:\n",
      "File \u001b[0;32m~/opt/miniconda3/envs/gymternet/lib/python3.11/site-packages/IPython/core/extensions.py:77\u001b[0m, in \u001b[0;36mExtensionManager._load_extension\u001b[0;34m(self, module_str)\u001b[0m\n\u001b[1;32m     75\u001b[0m \u001b[38;5;28;01mwith\u001b[39;00m \u001b[38;5;28mself\u001b[39m\u001b[38;5;241m.\u001b[39mshell\u001b[38;5;241m.\u001b[39mbuiltin_trap:\n\u001b[1;32m     76\u001b[0m     \u001b[38;5;28;01mif\u001b[39;00m module_str \u001b[38;5;129;01mnot\u001b[39;00m \u001b[38;5;129;01min\u001b[39;00m sys\u001b[38;5;241m.\u001b[39mmodules:\n\u001b[0;32m---> 77\u001b[0m         mod \u001b[38;5;241m=\u001b[39m \u001b[43mimport_module\u001b[49m\u001b[43m(\u001b[49m\u001b[43mmodule_str\u001b[49m\u001b[43m)\u001b[49m\n\u001b[1;32m     78\u001b[0m     mod \u001b[38;5;241m=\u001b[39m sys\u001b[38;5;241m.\u001b[39mmodules[module_str]\n\u001b[1;32m     79\u001b[0m     \u001b[38;5;28;01mif\u001b[39;00m \u001b[38;5;28mself\u001b[39m\u001b[38;5;241m.\u001b[39m_call_load_ipython_extension(mod):\n",
      "File \u001b[0;32m~/opt/miniconda3/envs/gymternet/lib/python3.11/importlib/__init__.py:126\u001b[0m, in \u001b[0;36mimport_module\u001b[0;34m(name, package)\u001b[0m\n\u001b[1;32m    124\u001b[0m             \u001b[38;5;28;01mbreak\u001b[39;00m\n\u001b[1;32m    125\u001b[0m         level \u001b[38;5;241m+\u001b[39m\u001b[38;5;241m=\u001b[39m \u001b[38;5;241m1\u001b[39m\n\u001b[0;32m--> 126\u001b[0m \u001b[38;5;28;01mreturn\u001b[39;00m \u001b[43m_bootstrap\u001b[49m\u001b[38;5;241;43m.\u001b[39;49m\u001b[43m_gcd_import\u001b[49m\u001b[43m(\u001b[49m\u001b[43mname\u001b[49m\u001b[43m[\u001b[49m\u001b[43mlevel\u001b[49m\u001b[43m:\u001b[49m\u001b[43m]\u001b[49m\u001b[43m,\u001b[49m\u001b[43m \u001b[49m\u001b[43mpackage\u001b[49m\u001b[43m,\u001b[49m\u001b[43m \u001b[49m\u001b[43mlevel\u001b[49m\u001b[43m)\u001b[49m\n",
      "File \u001b[0;32m<frozen importlib._bootstrap>:1204\u001b[0m, in \u001b[0;36m_gcd_import\u001b[0;34m(name, package, level)\u001b[0m\n",
      "File \u001b[0;32m<frozen importlib._bootstrap>:1176\u001b[0m, in \u001b[0;36m_find_and_load\u001b[0;34m(name, import_)\u001b[0m\n",
      "File \u001b[0;32m<frozen importlib._bootstrap>:1147\u001b[0m, in \u001b[0;36m_find_and_load_unlocked\u001b[0;34m(name, import_)\u001b[0m\n",
      "File \u001b[0;32m<frozen importlib._bootstrap>:690\u001b[0m, in \u001b[0;36m_load_unlocked\u001b[0;34m(spec)\u001b[0m\n",
      "File \u001b[0;32m<frozen importlib._bootstrap_external>:940\u001b[0m, in \u001b[0;36mexec_module\u001b[0;34m(self, module)\u001b[0m\n",
      "File \u001b[0;32m<frozen importlib._bootstrap>:241\u001b[0m, in \u001b[0;36m_call_with_frames_removed\u001b[0;34m(f, *args, **kwds)\u001b[0m\n",
      "File \u001b[0;32m~/opt/miniconda3/envs/gymternet/lib/python3.11/site-packages/sql/__init__.py:1\u001b[0m\n\u001b[0;32m----> 1\u001b[0m \u001b[38;5;28;01mfrom\u001b[39;00m \u001b[38;5;21;01m.\u001b[39;00m\u001b[38;5;21;01mmagic\u001b[39;00m \u001b[38;5;28;01mimport\u001b[39;00m \u001b[38;5;241m*\u001b[39m\n",
      "File \u001b[0;32m~/opt/miniconda3/envs/gymternet/lib/python3.11/site-packages/sql/magic.py:15\u001b[0m\n\u001b[1;32m     12\u001b[0m \u001b[38;5;28;01mfrom\u001b[39;00m \u001b[38;5;21;01mIPython\u001b[39;00m\u001b[38;5;21;01m.\u001b[39;00m\u001b[38;5;21;01mcore\u001b[39;00m\u001b[38;5;21;01m.\u001b[39;00m\u001b[38;5;21;01mmagic_arguments\u001b[39;00m \u001b[38;5;28;01mimport\u001b[39;00m argument, magic_arguments, parse_argstring\n\u001b[1;32m     13\u001b[0m \u001b[38;5;28;01mfrom\u001b[39;00m \u001b[38;5;21;01msqlalchemy\u001b[39;00m\u001b[38;5;21;01m.\u001b[39;00m\u001b[38;5;21;01mexc\u001b[39;00m \u001b[38;5;28;01mimport\u001b[39;00m OperationalError, ProgrammingError, DatabaseError\n\u001b[0;32m---> 15\u001b[0m \u001b[38;5;28;01mimport\u001b[39;00m \u001b[38;5;21;01msql\u001b[39;00m\u001b[38;5;21;01m.\u001b[39;00m\u001b[38;5;21;01mconnection\u001b[39;00m\n\u001b[1;32m     16\u001b[0m \u001b[38;5;28;01mimport\u001b[39;00m \u001b[38;5;21;01msql\u001b[39;00m\u001b[38;5;21;01m.\u001b[39;00m\u001b[38;5;21;01mparse\u001b[39;00m\n\u001b[1;32m     17\u001b[0m \u001b[38;5;28;01mimport\u001b[39;00m \u001b[38;5;21;01msql\u001b[39;00m\u001b[38;5;21;01m.\u001b[39;00m\u001b[38;5;21;01mrun\u001b[39;00m\n",
      "File \u001b[0;32m~/opt/miniconda3/envs/gymternet/lib/python3.11/site-packages/sql/connection/__init__.py:1\u001b[0m\n\u001b[0;32m----> 1\u001b[0m \u001b[38;5;28;01mfrom\u001b[39;00m \u001b[38;5;21;01msql\u001b[39;00m\u001b[38;5;21;01m.\u001b[39;00m\u001b[38;5;21;01mconnection\u001b[39;00m\u001b[38;5;21;01m.\u001b[39;00m\u001b[38;5;21;01mconnection\u001b[39;00m \u001b[38;5;28;01mimport\u001b[39;00m (\n\u001b[1;32m      2\u001b[0m     ConnectionManager,\n\u001b[1;32m      3\u001b[0m     SQLAlchemyConnection,\n\u001b[1;32m      4\u001b[0m     DBAPIConnection,\n\u001b[1;32m      5\u001b[0m     SparkConnectConnection,\n\u001b[1;32m      6\u001b[0m     is_pep249_compliant,\n\u001b[1;32m      7\u001b[0m     is_spark,\n\u001b[1;32m      8\u001b[0m     PLOOMBER_DOCS_LINK_STR,\n\u001b[1;32m      9\u001b[0m     default_alias_for_engine,\n\u001b[1;32m     10\u001b[0m     ResultSetCollection,\n\u001b[1;32m     11\u001b[0m     detect_duckdb_summarize_or_select,\n\u001b[1;32m     12\u001b[0m )\n\u001b[1;32m     15\u001b[0m __all__ \u001b[38;5;241m=\u001b[39m [\n\u001b[1;32m     16\u001b[0m     \u001b[38;5;124m\"\u001b[39m\u001b[38;5;124mConnectionManager\u001b[39m\u001b[38;5;124m\"\u001b[39m,\n\u001b[1;32m     17\u001b[0m     \u001b[38;5;124m\"\u001b[39m\u001b[38;5;124mSQLAlchemyConnection\u001b[39m\u001b[38;5;124m\"\u001b[39m,\n\u001b[0;32m   (...)\u001b[0m\n\u001b[1;32m     25\u001b[0m     \u001b[38;5;124m\"\u001b[39m\u001b[38;5;124mdetect_duckdb_summarize_or_select\u001b[39m\u001b[38;5;124m\"\u001b[39m,\n\u001b[1;32m     26\u001b[0m ]\n",
      "File \u001b[0;32m~/opt/miniconda3/envs/gymternet/lib/python3.11/site-packages/sql/connection/connection.py:32\u001b[0m\n\u001b[1;32m     30\u001b[0m \u001b[38;5;28;01mfrom\u001b[39;00m \u001b[38;5;21;01msql\u001b[39;00m \u001b[38;5;28;01mimport\u001b[39;00m exceptions, display\n\u001b[1;32m     31\u001b[0m \u001b[38;5;28;01mfrom\u001b[39;00m \u001b[38;5;21;01msql\u001b[39;00m\u001b[38;5;21;01m.\u001b[39;00m\u001b[38;5;21;01merror_handler\u001b[39;00m \u001b[38;5;28;01mimport\u001b[39;00m handle_exception\n\u001b[0;32m---> 32\u001b[0m \u001b[38;5;28;01mfrom\u001b[39;00m \u001b[38;5;21;01msql\u001b[39;00m\u001b[38;5;21;01m.\u001b[39;00m\u001b[38;5;21;01mparse\u001b[39;00m \u001b[38;5;28;01mimport\u001b[39;00m (\n\u001b[1;32m     33\u001b[0m     escape_string_literals_with_colon_prefix,\n\u001b[1;32m     34\u001b[0m     find_named_parameters,\n\u001b[1;32m     35\u001b[0m     ConnectionsFile,\n\u001b[1;32m     36\u001b[0m )\n\u001b[1;32m     37\u001b[0m \u001b[38;5;28;01mfrom\u001b[39;00m \u001b[38;5;21;01msql\u001b[39;00m\u001b[38;5;21;01m.\u001b[39;00m\u001b[38;5;21;01mwarnings\u001b[39;00m \u001b[38;5;28;01mimport\u001b[39;00m JupySQLQuotedNamedParametersWarning, JupySQLRollbackPerformed\n\u001b[1;32m     38\u001b[0m \u001b[38;5;28;01mfrom\u001b[39;00m \u001b[38;5;21;01msql\u001b[39;00m \u001b[38;5;28;01mimport\u001b[39;00m _current\n",
      "\u001b[0;31mImportError\u001b[0m: cannot import name 'escape_string_literals_with_colon_prefix' from 'sql.parse' (/Users/jessicahyne/opt/miniconda3/envs/gymternet/lib/python3.11/site-packages/sql/parse.py)"
     ]
    }
   ],
   "source": [
    "-- %load_ext sql\n",
    "-- %config SqlMagic.autocommit=True"
   ]
  },
  {
   "cell_type": "markdown",
   "metadata": {},
   "source": [
    "# 1 Clean up `teams_df` and create `Teams.db`\n",
    "\n",
    "What I want in this table in my database is:\n",
    "\n",
    "| **team_id** | **team_name** | **team_url**                           |\n",
    "|-------------|---------------|----------------------------------------|\n",
    "| 1           | 'Auburn'      | \"https://www.roadtonationals/team/645\" | \n",
    "\n",
    "\n",
    "etc.\n",
    "\n",
    "The `team_id` column should act as the primary key.\n"
   ]
  },
  {
   "cell_type": "code",
   "execution_count": null,
   "metadata": {},
   "outputs": [],
   "source": [
    "# Make a database to keep all my lovely tables in\n",
    "%sql sqlite:///../Data/Clean/gymternet.db --alias gymternet\n",
    "engine = create_engine('sqlite:///../Data/Clean/gymternet.db')"
   ]
  },
  {
   "cell_type": "code",
   "execution_count": null,
   "metadata": {},
   "outputs": [],
   "source": [
    "teams_df = pd.read_pickle('../Data/Raw/dirty_dfs/teams_df.pkl')\n",
    "meets_df = pd.read_pickle('../Data/Raw/dirty_dfs/meets_df.pkl')\n",
    "gymnasts_data_df = pd.read_pickle('../Data/Raw/dirty_dfs/gymnasts_data_df.pkl')\n",
    "team_results_data_df = pd.read_pickle('../Data/Raw/dirty_dfs/team_results_data_df.pkl')"
   ]
  },
  {
   "cell_type": "markdown",
   "metadata": {},
   "source": [
    "# 1 Clean up `teams_df` and create `Teams.db`\n",
    "\n",
    "What I want in this table in my database is:\n",
    "\n",
    "| **team_id** | **team_name** | **team_url**                           |\n",
    "|-------------|---------------|----------------------------------------|\n",
    "| 1           | 'Auburn'      | \"https://www.roadtonationals/team/645\" | \n",
    "\n",
    "\n",
    "etc.\n",
    "\n",
    "The `team_id` column should act as the primary key.\n"
   ]
  },
  {
   "cell_type": "code",
   "execution_count": null,
   "metadata": {},
   "outputs": [],
   "source": [
    "# Preview the dataframe\n",
    "#teams_df.dtypes\n",
    "teams_df.head()"
   ]
  },
  {
   "cell_type": "markdown",
   "metadata": {},
   "source": [
    "This dataframe is already pretty tidy, but the links are pointing towards the API, which is not what we want, and we still have an irrelevant column (`year`)"
   ]
  },
  {
   "cell_type": "code",
   "execution_count": null,
   "metadata": {},
   "outputs": [],
   "source": [
    "base_team_url = 'https://roadtonationals.com/results/teams/dashboard'\n",
    "teams_df['team_url'] = teams_df.apply(lambda x: f'{str(base_team_url)}/{str(x[\"year\"])}/{str(x[\"team_id\"])}', axis=1)"
   ]
  },
  {
   "cell_type": "code",
   "execution_count": null,
   "metadata": {},
   "outputs": [],
   "source": [
    "# Preview the df\n",
    "teams_df.head()"
   ]
  },
  {
   "cell_type": "code",
   "execution_count": null,
   "metadata": {},
   "outputs": [],
   "source": [
    "# Drop the year column\n",
    "teams_df.drop(columns='year', inplace=True)\n",
    "teams_df.head()"
   ]
  },
  {
   "cell_type": "code",
   "execution_count": null,
   "metadata": {},
   "outputs": [],
   "source": [
    "teams_df.to_sql('teams', con=engine, if_exists = 'append', chunksize = 1000)"
   ]
  },
  {
   "cell_type": "code",
   "execution_count": null,
   "metadata": {},
   "outputs": [],
   "source": [
    "meets_df.head()"
   ]
  },
  {
   "cell_type": "markdown",
   "metadata": {},
   "source": [
    "# 1 Clean up `meets_df` and create `meets.db`\n",
    "\n",
    "What I want in this table in my database is:\n",
    "\n",
    "| **meet_id** | **year**      | **team_id** | **date**   |\n",
    "|-------------|---------------|-------------|------------|\n",
    "| 117897      | 2015          | 1           | 2015-01-09 |\n",
    "\n",
    "\n",
    "etc.\n",
    "\n",
    "The `meet_id` column should act as the primary key, the `team_id` column is a foreign key, connecting to the `teams` table.\n",
    "\n",
    "This DataFrame is a bit more of a mess, so will require a bit more cleaning before I send to the DB."
   ]
  },
  {
   "cell_type": "code",
   "execution_count": null,
   "metadata": {},
   "outputs": [],
   "source": [
    "meets_df = pd.read_pickle('../Data/Raw/dirty_dfs/meets_df.pkl')\n",
    "# Preview the meets_df\n",
    "meets_df.head()"
   ]
  },
  {
   "cell_type": "code",
   "execution_count": null,
   "metadata": {},
   "outputs": [],
   "source": [
    "# Drop the irrelevant columns: team_name, team_id, team_score, opponent, linked_id, jas)\n",
    "meets_df.drop(columns=['team_name', 'team_id', 'home', 'meet_desc', 'team_score', 'opponent', 'linked_id', 'jas'], inplace=True)\n",
    "\n",
    "# Preview the meets_df\n",
    "meets_df.head()"
   ]
  },
  {
   "cell_type": "code",
   "execution_count": null,
   "metadata": {},
   "outputs": [],
   "source": [
    "# Tidy up the data types\n",
    "meets_df['meet_id'] = meets_df['meet_id'].astype(int)\n",
    "\n",
    "# Change the format of the meet_date column to be compatible with datetime\n",
    "meets_df['meet_date'] = meets_df['meet_date'].apply(lambda x: x.split(' ')[1])\n",
    "\n",
    "# Change the \"Jan\", \"Feb\", etc. to numbers\n",
    "months = {'Jan': '01', 'Feb': '02', 'Mar': '03', 'Apr': '04', 'May': '05', 'Jun': '06', 'Jul': '07', 'Aug': '08', 'Sep': '09', 'Oct': '10', 'Nov': '11', 'Dec': '12'}\n",
    "meets_df['meet_date'] = meets_df['meet_date'].apply(lambda x: f'{x.split(\"-\")[2]}-{months[x.split(\"-\")[0]]}-{x.split(\"-\")[1]}')\n",
    "\n",
    "# Change the datatype of the meet_date column to datetime\n",
    "meets_df['meet_date'] = pd.to_datetime(meets_df['meet_date'])\n",
    "\n",
    "# Tidy up the meet_url column\n",
    "base_meet_url = 'https://roadtonationals.com/results/schedule/meet/'\n",
    "meets_df['meet_url'] = meets_df.apply(lambda x: f'{str(base_meet_url)}{str(x[\"meet_id\"])}', axis=1)\n",
    "\n",
    "# Preview the meets_df\n",
    "meets_df.dtypes\n"
   ]
  },
  {
   "cell_type": "code",
   "execution_count": null,
   "metadata": {},
   "outputs": [],
   "source": [
    "# Melt the all_teams column so that each of the teams in the list has its own row\n",
    "meets_df = meets_df.explode('all_teams').reset_index(drop=True)\n",
    "\n",
    "# Preview the meets_df\n",
    "meets_df.head()"
   ]
  },
  {
   "cell_type": "code",
   "execution_count": null,
   "metadata": {},
   "outputs": [],
   "source": [
    "# Merge the meets_df with the teams_df to get the team_id\n",
    "meets_df = meets_df.merge(teams_df[['team_id', 'team_name']], left_on='all_teams', right_on='team_name', how='left')\n",
    "\n",
    "# Drop the team_name column\n",
    "meets_df.drop(columns=['team_name', 'all_teams'], inplace=True)\n",
    "\n",
    "# Rename the team_id column\n",
    "meets_df.rename(columns={'team_id': 'team_id'}, inplace=True)\n",
    "\n",
    "# Preview the meets_df\n",
    "meets_df.head()\n"
   ]
  },
  {
   "cell_type": "code",
   "execution_count": null,
   "metadata": {},
   "outputs": [],
   "source": [
    "# Find the NA values in the team_id column\n",
    "meets_df[meets_df['team_id'].isna()]"
   ]
  },
  {
   "cell_type": "markdown",
   "metadata": {},
   "source": [
    "Looking at the dataframe, I noticed there are some NA values in the team_id column (indicating a meet with only one team participating). This seemed curious (as typically a competition requires at least two parties), and upon exploring the data, it seems there is a coding error on the website or perhaps there are meets listed that did not end up taking place due to cancellations, but were still listed as 'intended meets'. Furthermore, some teams are listed as participants for (semi) finals that did not actually make it through to that round of competition. \n",
    "\n",
    "As such, I can feel safe dropping dropping those meet_ids from the df.\n",
    "\n",
    "Incidentally, these are the same meet_ids that weren't able to be retrieved in the scraping process, so that solves a mystery there."
   ]
  },
  {
   "cell_type": "code",
   "execution_count": null,
   "metadata": {},
   "outputs": [],
   "source": [
    "meets_df[meets_df['meet_id'].isin([27977, 26843, 24822, 21326, 20001, 19660, 20016])]\n",
    "\n",
    "# Drop any row that has a meet_id that of a row with a missing team_id\n",
    "meets_df = meets_df[~meets_df['meet_id'].isin([27977, 26843, 24822, 21326, 20001, 19660, 20016])]\n",
    "\n",
    "# Make sure there's no more NAs in the team_id column\n",
    "meets_df[meets_df['team_id'].isna()]"
   ]
  },
  {
   "cell_type": "code",
   "execution_count": null,
   "metadata": {},
   "outputs": [],
   "source": [
    "# Change the team_id column to an integer\n",
    "meets_df['team_id'] = meets_df['team_id'].astype(int)\n",
    "\n",
    "# Preview the meets_df\n",
    "meets_df.head()"
   ]
  },
  {
   "cell_type": "code",
   "execution_count": null,
   "metadata": {
    "vscode": {
     "languageId": "sql"
    }
   },
   "outputs": [],
   "source": [
    "%sql DROP TABLE meets;"
   ]
  },
  {
   "cell_type": "code",
   "execution_count": null,
   "metadata": {
    "vscode": {
     "languageId": "sql"
    }
   },
   "outputs": [],
   "source": [
    "%%sql --alias gymternet\n",
    "\n",
    "CREATE TABLE meets (\n",
    "    meet_id INTEGER,\n",
    "    team_id INTEGER,\n",
    "    meet_year INTEGER\n",
    "    meet_date DATE,\n",
    "    meet_url TEXT,\n",
    "    PRIMARY KEY (meet_id, team_id),\n",
    "    FOREIGN KEY (team_id) REFERENCES teams (team_id)\n",
    ");\n"
   ]
  },
  {
   "cell_type": "code",
   "execution_count": null,
   "metadata": {},
   "outputs": [],
   "source": [
    "meets_df.to_sql('meets', con=engine, if_exists='append', index=False)"
   ]
  }
 ],
 "metadata": {
  "kernelspec": {
   "display_name": "base",
   "language": "python",
   "name": "python3"
  },
  "language_info": {
   "codemirror_mode": {
    "name": "ipython",
    "version": 3
   },
   "file_extension": ".py",
   "mimetype": "text/x-python",
   "name": "python",
   "nbconvert_exporter": "python",
   "pygments_lexer": "ipython3",
   "version": "3.11.9"
  }
 },
 "nbformat": 4,
 "nbformat_minor": 2
}
