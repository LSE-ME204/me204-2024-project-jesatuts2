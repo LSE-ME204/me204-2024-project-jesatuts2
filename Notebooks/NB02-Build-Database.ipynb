{
 "cells": [
  {
   "cell_type": "markdown",
   "metadata": {},
   "source": [
    "# 1 Setting up the environment\n",
    "\n",
    "## 1.1 Requirements & packages\n",
    "\n",
    "Make sure the environment is configured as per the README file, the requirements are installed, and the relevant libraries, packages and modules are imported.\n"
   ]
  },
  {
   "cell_type": "code",
   "execution_count": null,
   "metadata": {},
   "outputs": [],
   "source": [
    "!pip install -r ../requirements.txt"
   ]
  },
  {
   "cell_type": "code",
   "execution_count": 4,
   "metadata": {},
   "outputs": [],
   "source": [
    "import os\n",
    "import json\n",
    "import requests\n",
    "import sqlite3\n",
    "from tqdm.notebook import tqdm, trange\n",
    "tqdm.pandas()\n",
    "import numpy as np\n",
    "import pandas as pd \n",
    "from sqlalchemy import create_engine\n",
    "\n",
    "%load_ext sql\n",
    "%config SqlMagic.autocommit=True\n",
    "\n",
    "from pprint import pprint"
   ]
  },
  {
   "cell_type": "markdown",
   "metadata": {},
   "source": [
    "## 1.2 Import the data and set up the Database"
   ]
  },
  {
   "cell_type": "code",
   "execution_count": null,
   "metadata": {},
   "outputs": [
    {
     "data": {
      "text/html": [
       "<span style=\"None\">Connecting to &#x27;gymternet&#x27;</span>"
      ],
      "text/plain": [
       "Connecting to 'gymternet'"
      ]
     },
     "metadata": {},
     "output_type": "display_data"
    }
   ],
   "source": [
    "# Make a database to keep all my lovely tables in\n",
    "%sql sqlite:///../data/clean/gymternet.db --alias gymternet\n",
    "engine = create_engine('sqlite:///../data/clean/gymternet.db')"
   ]
  },
  {
   "cell_type": "code",
   "execution_count": 148,
   "metadata": {},
   "outputs": [],
   "source": [
    "# Read the dataframes created during the scraping sessions into this notebook\n",
    "teams_df = pd.read_pickle('../data/raw/dirty_dfs/teams_df.pkl')\n",
    "meets_df = pd.read_pickle('../data/raw/dirty_dfs/meets_df.pkl')\n",
    "gymnasts_data_df = pd.read_pickle('../data/raw/dirty_dfs/gymnasts_data_df.pkl')\n",
    "gymnast_results_data_df = pd.read_pickle('../data/raw/dirty_dfs/gymnasts_data_df.pkl')\n",
    "team_results_data_df = pd.read_pickle('../data/raw/dirty_dfs/team_results_data_df.pkl')"
   ]
  },
  {
   "cell_type": "markdown",
   "metadata": {},
   "source": [
    "# 1 Clean up `teams_df` and create `Teams.db`\n",
    "\n",
    "What I want in this table in my database is:\n",
    "\n",
    "| **team_id** | **team_name** | **team_url**                           |\n",
    "|-------------|---------------|----------------------------------------|\n",
    "| 1           | 'Auburn'      | \"https://www.roadtonationals/team/645\" | \n",
    "\n",
    "\n",
    "etc.\n",
    "\n",
    "The `team_id` column should act as the primary key.\n"
   ]
  },
  {
   "cell_type": "markdown",
   "metadata": {},
   "source": [
    "# 1 Clean up `teams_df` and create `Teams.db`\n",
    "\n",
    "What I want in this table in my database is:\n",
    "\n",
    "| **team_id** | **team_name** | **team_url**                           |\n",
    "|-------------|---------------|----------------------------------------|\n",
    "| 1           | 'Auburn'      | \"https://www.roadtonationals/team/645\" | \n",
    "\n",
    "\n",
    "etc.\n",
    "\n",
    "The `team_id` column should act as the primary key.\n"
   ]
  },
  {
   "cell_type": "code",
   "execution_count": 149,
   "metadata": {},
   "outputs": [
    {
     "data": {
      "text/html": [
       "<div>\n",
       "<style scoped>\n",
       "    .dataframe tbody tr th:only-of-type {\n",
       "        vertical-align: middle;\n",
       "    }\n",
       "\n",
       "    .dataframe tbody tr th {\n",
       "        vertical-align: top;\n",
       "    }\n",
       "\n",
       "    .dataframe thead th {\n",
       "        text-align: right;\n",
       "    }\n",
       "</style>\n",
       "<table border=\"1\" class=\"dataframe\">\n",
       "  <thead>\n",
       "    <tr style=\"text-align: right;\">\n",
       "      <th></th>\n",
       "      <th>team_name</th>\n",
       "      <th>team_id</th>\n",
       "      <th>year</th>\n",
       "      <th>team_url</th>\n",
       "    </tr>\n",
       "  </thead>\n",
       "  <tbody>\n",
       "    <tr>\n",
       "      <th>0</th>\n",
       "      <td>LSU</td>\n",
       "      <td>34</td>\n",
       "      <td>2024</td>\n",
       "      <td>https://www.roadtonationals.com/api/women/dash...</td>\n",
       "    </tr>\n",
       "    <tr>\n",
       "      <th>1</th>\n",
       "      <td>California</td>\n",
       "      <td>15</td>\n",
       "      <td>2024</td>\n",
       "      <td>https://www.roadtonationals.com/api/women/dash...</td>\n",
       "    </tr>\n",
       "    <tr>\n",
       "      <th>2</th>\n",
       "      <td>Utah</td>\n",
       "      <td>69</td>\n",
       "      <td>2024</td>\n",
       "      <td>https://www.roadtonationals.com/api/women/dash...</td>\n",
       "    </tr>\n",
       "    <tr>\n",
       "      <th>3</th>\n",
       "      <td>Florida</td>\n",
       "      <td>22</td>\n",
       "      <td>2024</td>\n",
       "      <td>https://www.roadtonationals.com/api/women/dash...</td>\n",
       "    </tr>\n",
       "    <tr>\n",
       "      <th>4</th>\n",
       "      <td>Stanford</td>\n",
       "      <td>61</td>\n",
       "      <td>2024</td>\n",
       "      <td>https://www.roadtonationals.com/api/women/dash...</td>\n",
       "    </tr>\n",
       "  </tbody>\n",
       "</table>\n",
       "</div>"
      ],
      "text/plain": [
       "    team_name  team_id  year  \\\n",
       "0         LSU       34  2024   \n",
       "1  California       15  2024   \n",
       "2        Utah       69  2024   \n",
       "3     Florida       22  2024   \n",
       "4    Stanford       61  2024   \n",
       "\n",
       "                                            team_url  \n",
       "0  https://www.roadtonationals.com/api/women/dash...  \n",
       "1  https://www.roadtonationals.com/api/women/dash...  \n",
       "2  https://www.roadtonationals.com/api/women/dash...  \n",
       "3  https://www.roadtonationals.com/api/women/dash...  \n",
       "4  https://www.roadtonationals.com/api/women/dash...  "
      ]
     },
     "execution_count": 149,
     "metadata": {},
     "output_type": "execute_result"
    }
   ],
   "source": [
    "# Preview the DataFrame\n",
    "#teams_df.dtypes\n",
    "teams_df.head()"
   ]
  },
  {
   "cell_type": "markdown",
   "metadata": {},
   "source": [
    "## 1.1 Cleaning `teams_df`\n",
    "\n",
    "This DataFrame is already pretty tidy, but the links are pointing towards the API, which is not what we want, and we still have an irrelevant column (`year`)"
   ]
  },
  {
   "cell_type": "code",
   "execution_count": 150,
   "metadata": {},
   "outputs": [],
   "source": [
    "base_team_url = 'https://roadtonationals.com/results/teams/dashboard'\n",
    "teams_df['team_url'] = teams_df.apply(lambda x: f'{str(base_team_url)}/{str(x[\"year\"])}/{str(x[\"team_id\"])}', axis=1)"
   ]
  },
  {
   "cell_type": "code",
   "execution_count": 151,
   "metadata": {},
   "outputs": [
    {
     "data": {
      "text/html": [
       "<div>\n",
       "<style scoped>\n",
       "    .dataframe tbody tr th:only-of-type {\n",
       "        vertical-align: middle;\n",
       "    }\n",
       "\n",
       "    .dataframe tbody tr th {\n",
       "        vertical-align: top;\n",
       "    }\n",
       "\n",
       "    .dataframe thead th {\n",
       "        text-align: right;\n",
       "    }\n",
       "</style>\n",
       "<table border=\"1\" class=\"dataframe\">\n",
       "  <thead>\n",
       "    <tr style=\"text-align: right;\">\n",
       "      <th></th>\n",
       "      <th>team_name</th>\n",
       "      <th>team_id</th>\n",
       "      <th>year</th>\n",
       "      <th>team_url</th>\n",
       "    </tr>\n",
       "  </thead>\n",
       "  <tbody>\n",
       "    <tr>\n",
       "      <th>0</th>\n",
       "      <td>LSU</td>\n",
       "      <td>34</td>\n",
       "      <td>2024</td>\n",
       "      <td>https://roadtonationals.com/results/teams/dash...</td>\n",
       "    </tr>\n",
       "    <tr>\n",
       "      <th>1</th>\n",
       "      <td>California</td>\n",
       "      <td>15</td>\n",
       "      <td>2024</td>\n",
       "      <td>https://roadtonationals.com/results/teams/dash...</td>\n",
       "    </tr>\n",
       "    <tr>\n",
       "      <th>2</th>\n",
       "      <td>Utah</td>\n",
       "      <td>69</td>\n",
       "      <td>2024</td>\n",
       "      <td>https://roadtonationals.com/results/teams/dash...</td>\n",
       "    </tr>\n",
       "    <tr>\n",
       "      <th>3</th>\n",
       "      <td>Florida</td>\n",
       "      <td>22</td>\n",
       "      <td>2024</td>\n",
       "      <td>https://roadtonationals.com/results/teams/dash...</td>\n",
       "    </tr>\n",
       "    <tr>\n",
       "      <th>4</th>\n",
       "      <td>Stanford</td>\n",
       "      <td>61</td>\n",
       "      <td>2024</td>\n",
       "      <td>https://roadtonationals.com/results/teams/dash...</td>\n",
       "    </tr>\n",
       "  </tbody>\n",
       "</table>\n",
       "</div>"
      ],
      "text/plain": [
       "    team_name  team_id  year  \\\n",
       "0         LSU       34  2024   \n",
       "1  California       15  2024   \n",
       "2        Utah       69  2024   \n",
       "3     Florida       22  2024   \n",
       "4    Stanford       61  2024   \n",
       "\n",
       "                                            team_url  \n",
       "0  https://roadtonationals.com/results/teams/dash...  \n",
       "1  https://roadtonationals.com/results/teams/dash...  \n",
       "2  https://roadtonationals.com/results/teams/dash...  \n",
       "3  https://roadtonationals.com/results/teams/dash...  \n",
       "4  https://roadtonationals.com/results/teams/dash...  "
      ]
     },
     "execution_count": 151,
     "metadata": {},
     "output_type": "execute_result"
    }
   ],
   "source": [
    "# Preview the df\n",
    "teams_df.head()"
   ]
  },
  {
   "cell_type": "code",
   "execution_count": 152,
   "metadata": {},
   "outputs": [
    {
     "data": {
      "text/html": [
       "<div>\n",
       "<style scoped>\n",
       "    .dataframe tbody tr th:only-of-type {\n",
       "        vertical-align: middle;\n",
       "    }\n",
       "\n",
       "    .dataframe tbody tr th {\n",
       "        vertical-align: top;\n",
       "    }\n",
       "\n",
       "    .dataframe thead th {\n",
       "        text-align: right;\n",
       "    }\n",
       "</style>\n",
       "<table border=\"1\" class=\"dataframe\">\n",
       "  <thead>\n",
       "    <tr style=\"text-align: right;\">\n",
       "      <th></th>\n",
       "      <th>team_name</th>\n",
       "      <th>team_id</th>\n",
       "      <th>team_url</th>\n",
       "    </tr>\n",
       "  </thead>\n",
       "  <tbody>\n",
       "    <tr>\n",
       "      <th>0</th>\n",
       "      <td>LSU</td>\n",
       "      <td>34</td>\n",
       "      <td>https://roadtonationals.com/results/teams/dash...</td>\n",
       "    </tr>\n",
       "    <tr>\n",
       "      <th>1</th>\n",
       "      <td>California</td>\n",
       "      <td>15</td>\n",
       "      <td>https://roadtonationals.com/results/teams/dash...</td>\n",
       "    </tr>\n",
       "    <tr>\n",
       "      <th>2</th>\n",
       "      <td>Utah</td>\n",
       "      <td>69</td>\n",
       "      <td>https://roadtonationals.com/results/teams/dash...</td>\n",
       "    </tr>\n",
       "    <tr>\n",
       "      <th>3</th>\n",
       "      <td>Florida</td>\n",
       "      <td>22</td>\n",
       "      <td>https://roadtonationals.com/results/teams/dash...</td>\n",
       "    </tr>\n",
       "    <tr>\n",
       "      <th>4</th>\n",
       "      <td>Stanford</td>\n",
       "      <td>61</td>\n",
       "      <td>https://roadtonationals.com/results/teams/dash...</td>\n",
       "    </tr>\n",
       "  </tbody>\n",
       "</table>\n",
       "</div>"
      ],
      "text/plain": [
       "    team_name  team_id                                           team_url\n",
       "0         LSU       34  https://roadtonationals.com/results/teams/dash...\n",
       "1  California       15  https://roadtonationals.com/results/teams/dash...\n",
       "2        Utah       69  https://roadtonationals.com/results/teams/dash...\n",
       "3     Florida       22  https://roadtonationals.com/results/teams/dash...\n",
       "4    Stanford       61  https://roadtonationals.com/results/teams/dash..."
      ]
     },
     "execution_count": 152,
     "metadata": {},
     "output_type": "execute_result"
    }
   ],
   "source": [
    "# Drop the year column\n",
    "teams_df.drop(columns='year', inplace=True)\n",
    "teams_df.head()"
   ]
  },
  {
   "cell_type": "markdown",
   "metadata": {},
   "source": [
    "## 1.2 Creating a `teams` table in `gymternet.db`\n",
    "\n",
    "I want to be fairly specific about the data types going into the database, so for me it's important to set up my table structure rather than letting it be determined by what's in the DataFrame."
   ]
  },
  {
   "cell_type": "code",
   "execution_count": 153,
   "metadata": {
    "vscode": {
     "languageId": "sql"
    }
   },
   "outputs": [
    {
     "data": {
      "text/html": [
       "<span style=\"None\">Running query in &#x27;gymternet&#x27;</span>"
      ],
      "text/plain": [
       "Running query in 'gymternet'"
      ]
     },
     "metadata": {},
     "output_type": "display_data"
    },
    {
     "data": {
      "text/html": [
       "<table>\n",
       "    <thead>\n",
       "        <tr>\n",
       "        </tr>\n",
       "    </thead>\n",
       "    <tbody>\n",
       "    </tbody>\n",
       "</table>"
      ],
      "text/plain": [
       "++\n",
       "||\n",
       "++\n",
       "++"
      ]
     },
     "execution_count": 153,
     "metadata": {},
     "output_type": "execute_result"
    }
   ],
   "source": [
    "%%sql --alias gymternet\n",
    "\n",
    "DROP TABLE IF EXISTS meets;\n",
    "\n",
    "CREATE TABLE meets (\n",
    "    team_id TINYINT PRIMARY KEY,\n",
    "    team_name TINYTEXT NOT NULL,\n",
    "    team_url VARCHAR(128)\n",
    ");"
   ]
  },
  {
   "cell_type": "code",
   "execution_count": 154,
   "metadata": {},
   "outputs": [
    {
     "data": {
      "text/plain": [
       "89"
      ]
     },
     "execution_count": 154,
     "metadata": {},
     "output_type": "execute_result"
    }
   ],
   "source": [
    "teams_df.to_sql('teams', con=engine, if_exists='append', index=False)"
   ]
  },
  {
   "cell_type": "markdown",
   "metadata": {},
   "source": [
    "# 2 Clean up `meets_df` and create `meets.db`\n",
    "\n",
    "What I want in this table in my database is:\n",
    "\n",
    "| **meet_id** | **year**      | **team_id** | **date**   |\n",
    "|-------------|---------------|-------------|------------|\n",
    "| 117897      | 2015          | 1           | 2015-01-09 |\n",
    "\n",
    "\n",
    "etc.\n",
    "\n",
    "The unique combination of `meet_id` and `team_id` columns should act as the primary key, the `team_id` column is a foreign key, connecting to the `teams` table.\n",
    "\n",
    "This DataFrame is a bit more of a mess, so will require a bit more cleaning before I send to the Gymternet Database.\n",
    "\n",
    "## 2.1 Cleaning `meets_df`"
   ]
  },
  {
   "cell_type": "code",
   "execution_count": 155,
   "metadata": {},
   "outputs": [
    {
     "data": {
      "text/html": [
       "<div>\n",
       "<style scoped>\n",
       "    .dataframe tbody tr th:only-of-type {\n",
       "        vertical-align: middle;\n",
       "    }\n",
       "\n",
       "    .dataframe tbody tr th {\n",
       "        vertical-align: top;\n",
       "    }\n",
       "\n",
       "    .dataframe thead th {\n",
       "        text-align: right;\n",
       "    }\n",
       "</style>\n",
       "<table border=\"1\" class=\"dataframe\">\n",
       "  <thead>\n",
       "    <tr style=\"text-align: right;\">\n",
       "      <th></th>\n",
       "      <th>team_id</th>\n",
       "      <th>team_name</th>\n",
       "      <th>meet_id</th>\n",
       "      <th>meet_date</th>\n",
       "      <th>team_score</th>\n",
       "      <th>home</th>\n",
       "      <th>opponent</th>\n",
       "      <th>meet_desc</th>\n",
       "      <th>linked_id</th>\n",
       "      <th>jas</th>\n",
       "      <th>year</th>\n",
       "      <th>meet_url</th>\n",
       "      <th>all_teams</th>\n",
       "    </tr>\n",
       "  </thead>\n",
       "  <tbody>\n",
       "    <tr>\n",
       "      <th>0</th>\n",
       "      <td>34</td>\n",
       "      <td>LSU</td>\n",
       "      <td>28977</td>\n",
       "      <td>Fri, Jan-05-2024</td>\n",
       "      <td>196.9750</td>\n",
       "      <td>H</td>\n",
       "      <td>Ohio State</td>\n",
       "      <td></td>\n",
       "      <td>5986</td>\n",
       "      <td></td>\n",
       "      <td>2024</td>\n",
       "      <td>https://www.roadtonationals.com/api/women/meet...</td>\n",
       "      <td>(LSU, Ohio State)</td>\n",
       "    </tr>\n",
       "    <tr>\n",
       "      <th>1</th>\n",
       "      <td>34</td>\n",
       "      <td>LSU</td>\n",
       "      <td>29040</td>\n",
       "      <td>Sat, Jan-13-2024</td>\n",
       "      <td>197.1500</td>\n",
       "      <td>A</td>\n",
       "      <td>Oklahoma, UCLA, Utah</td>\n",
       "      <td>Sprouts Farmers Market Collegiate Quad</td>\n",
       "      <td>6011</td>\n",
       "      <td></td>\n",
       "      <td>2024</td>\n",
       "      <td>https://www.roadtonationals.com/api/women/meet...</td>\n",
       "      <td>(LSU, Oklahoma, UCLA, Utah)</td>\n",
       "    </tr>\n",
       "    <tr>\n",
       "      <th>2</th>\n",
       "      <td>34</td>\n",
       "      <td>LSU</td>\n",
       "      <td>29098</td>\n",
       "      <td>Fri, Jan-19-2024</td>\n",
       "      <td>198.1250</td>\n",
       "      <td>H</td>\n",
       "      <td>Kentucky</td>\n",
       "      <td></td>\n",
       "      <td>6030</td>\n",
       "      <td></td>\n",
       "      <td>2024</td>\n",
       "      <td>https://www.roadtonationals.com/api/women/meet...</td>\n",
       "      <td>(Kentucky, LSU)</td>\n",
       "    </tr>\n",
       "    <tr>\n",
       "      <th>3</th>\n",
       "      <td>34</td>\n",
       "      <td>LSU</td>\n",
       "      <td>29215</td>\n",
       "      <td>Fri, Jan-26-2024</td>\n",
       "      <td>197.2250</td>\n",
       "      <td>A</td>\n",
       "      <td>Missouri</td>\n",
       "      <td></td>\n",
       "      <td>6078</td>\n",
       "      <td></td>\n",
       "      <td>2024</td>\n",
       "      <td>https://www.roadtonationals.com/api/women/meet...</td>\n",
       "      <td>(LSU, Missouri)</td>\n",
       "    </tr>\n",
       "    <tr>\n",
       "      <th>4</th>\n",
       "      <td>34</td>\n",
       "      <td>LSU</td>\n",
       "      <td>29303</td>\n",
       "      <td>Fri, Feb-02-2024</td>\n",
       "      <td>198.4750</td>\n",
       "      <td>H</td>\n",
       "      <td>Arkansas</td>\n",
       "      <td></td>\n",
       "      <td>6111</td>\n",
       "      <td></td>\n",
       "      <td>2024</td>\n",
       "      <td>https://www.roadtonationals.com/api/women/meet...</td>\n",
       "      <td>(Arkansas, LSU)</td>\n",
       "    </tr>\n",
       "  </tbody>\n",
       "</table>\n",
       "</div>"
      ],
      "text/plain": [
       "  team_id team_name meet_id         meet_date team_score home  \\\n",
       "0      34       LSU   28977  Fri, Jan-05-2024   196.9750    H   \n",
       "1      34       LSU   29040  Sat, Jan-13-2024   197.1500    A   \n",
       "2      34       LSU   29098  Fri, Jan-19-2024   198.1250    H   \n",
       "3      34       LSU   29215  Fri, Jan-26-2024   197.2250    A   \n",
       "4      34       LSU   29303  Fri, Feb-02-2024   198.4750    H   \n",
       "\n",
       "               opponent                               meet_desc linked_id jas  \\\n",
       "0            Ohio State                                              5986       \n",
       "1  Oklahoma, UCLA, Utah  Sprouts Farmers Market Collegiate Quad      6011       \n",
       "2              Kentucky                                              6030       \n",
       "3              Missouri                                              6078       \n",
       "4              Arkansas                                              6111       \n",
       "\n",
       "   year                                           meet_url  \\\n",
       "0  2024  https://www.roadtonationals.com/api/women/meet...   \n",
       "1  2024  https://www.roadtonationals.com/api/women/meet...   \n",
       "2  2024  https://www.roadtonationals.com/api/women/meet...   \n",
       "3  2024  https://www.roadtonationals.com/api/women/meet...   \n",
       "4  2024  https://www.roadtonationals.com/api/women/meet...   \n",
       "\n",
       "                     all_teams  \n",
       "0            (LSU, Ohio State)  \n",
       "1  (LSU, Oklahoma, UCLA, Utah)  \n",
       "2              (Kentucky, LSU)  \n",
       "3              (LSU, Missouri)  \n",
       "4              (Arkansas, LSU)  "
      ]
     },
     "execution_count": 155,
     "metadata": {},
     "output_type": "execute_result"
    }
   ],
   "source": [
    "# Preview the meets_df\n",
    "meets_df.head()"
   ]
  },
  {
   "cell_type": "code",
   "execution_count": 156,
   "metadata": {},
   "outputs": [
    {
     "data": {
      "text/html": [
       "<div>\n",
       "<style scoped>\n",
       "    .dataframe tbody tr th:only-of-type {\n",
       "        vertical-align: middle;\n",
       "    }\n",
       "\n",
       "    .dataframe tbody tr th {\n",
       "        vertical-align: top;\n",
       "    }\n",
       "\n",
       "    .dataframe thead th {\n",
       "        text-align: right;\n",
       "    }\n",
       "</style>\n",
       "<table border=\"1\" class=\"dataframe\">\n",
       "  <thead>\n",
       "    <tr style=\"text-align: right;\">\n",
       "      <th></th>\n",
       "      <th>meet_id</th>\n",
       "      <th>meet_date</th>\n",
       "      <th>year</th>\n",
       "      <th>meet_url</th>\n",
       "      <th>all_teams</th>\n",
       "    </tr>\n",
       "  </thead>\n",
       "  <tbody>\n",
       "    <tr>\n",
       "      <th>0</th>\n",
       "      <td>28977</td>\n",
       "      <td>Fri, Jan-05-2024</td>\n",
       "      <td>2024</td>\n",
       "      <td>https://www.roadtonationals.com/api/women/meet...</td>\n",
       "      <td>(LSU, Ohio State)</td>\n",
       "    </tr>\n",
       "    <tr>\n",
       "      <th>1</th>\n",
       "      <td>29040</td>\n",
       "      <td>Sat, Jan-13-2024</td>\n",
       "      <td>2024</td>\n",
       "      <td>https://www.roadtonationals.com/api/women/meet...</td>\n",
       "      <td>(LSU, Oklahoma, UCLA, Utah)</td>\n",
       "    </tr>\n",
       "    <tr>\n",
       "      <th>2</th>\n",
       "      <td>29098</td>\n",
       "      <td>Fri, Jan-19-2024</td>\n",
       "      <td>2024</td>\n",
       "      <td>https://www.roadtonationals.com/api/women/meet...</td>\n",
       "      <td>(Kentucky, LSU)</td>\n",
       "    </tr>\n",
       "    <tr>\n",
       "      <th>3</th>\n",
       "      <td>29215</td>\n",
       "      <td>Fri, Jan-26-2024</td>\n",
       "      <td>2024</td>\n",
       "      <td>https://www.roadtonationals.com/api/women/meet...</td>\n",
       "      <td>(LSU, Missouri)</td>\n",
       "    </tr>\n",
       "    <tr>\n",
       "      <th>4</th>\n",
       "      <td>29303</td>\n",
       "      <td>Fri, Feb-02-2024</td>\n",
       "      <td>2024</td>\n",
       "      <td>https://www.roadtonationals.com/api/women/meet...</td>\n",
       "      <td>(Arkansas, LSU)</td>\n",
       "    </tr>\n",
       "  </tbody>\n",
       "</table>\n",
       "</div>"
      ],
      "text/plain": [
       "  meet_id         meet_date  year  \\\n",
       "0   28977  Fri, Jan-05-2024  2024   \n",
       "1   29040  Sat, Jan-13-2024  2024   \n",
       "2   29098  Fri, Jan-19-2024  2024   \n",
       "3   29215  Fri, Jan-26-2024  2024   \n",
       "4   29303  Fri, Feb-02-2024  2024   \n",
       "\n",
       "                                            meet_url  \\\n",
       "0  https://www.roadtonationals.com/api/women/meet...   \n",
       "1  https://www.roadtonationals.com/api/women/meet...   \n",
       "2  https://www.roadtonationals.com/api/women/meet...   \n",
       "3  https://www.roadtonationals.com/api/women/meet...   \n",
       "4  https://www.roadtonationals.com/api/women/meet...   \n",
       "\n",
       "                     all_teams  \n",
       "0            (LSU, Ohio State)  \n",
       "1  (LSU, Oklahoma, UCLA, Utah)  \n",
       "2              (Kentucky, LSU)  \n",
       "3              (LSU, Missouri)  \n",
       "4              (Arkansas, LSU)  "
      ]
     },
     "execution_count": 156,
     "metadata": {},
     "output_type": "execute_result"
    }
   ],
   "source": [
    "# Drop the irrelevant columns: team_name, team_id, team_score, opponent, linked_id, jas)\n",
    "meets_df.drop(columns=['team_name', 'team_id', 'home', 'meet_desc', 'team_score', 'opponent', 'linked_id', 'jas'], inplace=True)\n",
    "\n",
    "# Preview the meets_df\n",
    "meets_df.head()"
   ]
  },
  {
   "cell_type": "markdown",
   "metadata": {},
   "source": [
    "Now that I have the relevant columns, I have some fairly messy datatypes in this DataFrame.\n",
    "\n",
    "To have clean data to import into my database, I want the following changes:\n",
    "- `meet_id` should be an integer type\n",
    "- `meet_date` should be compatible with SQL's DATE type\n",
    "- `meet_url` should be rewritten as the public urls (rather than the cURL)"
   ]
  },
  {
   "cell_type": "code",
   "execution_count": 157,
   "metadata": {},
   "outputs": [
    {
     "data": {
      "text/plain": [
       "meet_id       int64\n",
       "meet_date    object\n",
       "year          int64\n",
       "meet_url     object\n",
       "all_teams    object\n",
       "dtype: object"
      ]
     },
     "execution_count": 157,
     "metadata": {},
     "output_type": "execute_result"
    }
   ],
   "source": [
    "# Tidy up the data types\n",
    "meets_df['meet_id'] = meets_df['meet_id'].astype(int)\n",
    "\n",
    "# Change the format of the meet_date column to be compatible with datetime\n",
    "meets_df['meet_date'] = meets_df['meet_date'].apply(lambda x: x.split(' ')[1])\n",
    "\n",
    "# Change the \"Jan\", \"Feb\", etc. to numbers\n",
    "# I'm keeping this as a string to avoid time components of a datetime object confusing the issue when it comes to importing into SQL as DATE\n",
    "months = {'Jan': '01', 'Feb': '02', 'Mar': '03', 'Apr': '04', 'May': '05', 'Jun': '06', 'Jul': '07', 'Aug': '08', 'Sep': '09', 'Oct': '10', 'Nov': '11', 'Dec': '12'}\n",
    "meets_df['meet_date'] = meets_df['meet_date'].apply(lambda x: f'{x.split(\"-\")[2]}-{months[x.split(\"-\")[0]]}-{x.split(\"-\")[1]}')\n",
    "\n",
    "\n",
    "# Tidy up the meet_url column\n",
    "base_meet_url = 'https://roadtonationals.com/results/schedule/meet/'\n",
    "meets_df['meet_url'] = meets_df.apply(lambda x: f'{str(base_meet_url)}{str(x[\"meet_id\"])}', axis=1)\n",
    "\n",
    "# Preview the meets_df\n",
    "meets_df.dtypes\n"
   ]
  },
  {
   "cell_type": "markdown",
   "metadata": {},
   "source": [
    "Now that everything is fairly tidy, I am ready to unmerge the information in the `all_teams` column, so that each row only has one team name."
   ]
  },
  {
   "cell_type": "code",
   "execution_count": 158,
   "metadata": {},
   "outputs": [
    {
     "data": {
      "text/html": [
       "<div>\n",
       "<style scoped>\n",
       "    .dataframe tbody tr th:only-of-type {\n",
       "        vertical-align: middle;\n",
       "    }\n",
       "\n",
       "    .dataframe tbody tr th {\n",
       "        vertical-align: top;\n",
       "    }\n",
       "\n",
       "    .dataframe thead th {\n",
       "        text-align: right;\n",
       "    }\n",
       "</style>\n",
       "<table border=\"1\" class=\"dataframe\">\n",
       "  <thead>\n",
       "    <tr style=\"text-align: right;\">\n",
       "      <th></th>\n",
       "      <th>meet_id</th>\n",
       "      <th>meet_date</th>\n",
       "      <th>year</th>\n",
       "      <th>meet_url</th>\n",
       "      <th>all_teams</th>\n",
       "    </tr>\n",
       "  </thead>\n",
       "  <tbody>\n",
       "    <tr>\n",
       "      <th>0</th>\n",
       "      <td>28977</td>\n",
       "      <td>2024-01-05</td>\n",
       "      <td>2024</td>\n",
       "      <td>https://roadtonationals.com/results/schedule/m...</td>\n",
       "      <td>LSU</td>\n",
       "    </tr>\n",
       "    <tr>\n",
       "      <th>1</th>\n",
       "      <td>28977</td>\n",
       "      <td>2024-01-05</td>\n",
       "      <td>2024</td>\n",
       "      <td>https://roadtonationals.com/results/schedule/m...</td>\n",
       "      <td>Ohio State</td>\n",
       "    </tr>\n",
       "    <tr>\n",
       "      <th>2</th>\n",
       "      <td>29040</td>\n",
       "      <td>2024-01-13</td>\n",
       "      <td>2024</td>\n",
       "      <td>https://roadtonationals.com/results/schedule/m...</td>\n",
       "      <td>LSU</td>\n",
       "    </tr>\n",
       "    <tr>\n",
       "      <th>3</th>\n",
       "      <td>29040</td>\n",
       "      <td>2024-01-13</td>\n",
       "      <td>2024</td>\n",
       "      <td>https://roadtonationals.com/results/schedule/m...</td>\n",
       "      <td>Oklahoma</td>\n",
       "    </tr>\n",
       "    <tr>\n",
       "      <th>4</th>\n",
       "      <td>29040</td>\n",
       "      <td>2024-01-13</td>\n",
       "      <td>2024</td>\n",
       "      <td>https://roadtonationals.com/results/schedule/m...</td>\n",
       "      <td>UCLA</td>\n",
       "    </tr>\n",
       "  </tbody>\n",
       "</table>\n",
       "</div>"
      ],
      "text/plain": [
       "   meet_id   meet_date  year  \\\n",
       "0    28977  2024-01-05  2024   \n",
       "1    28977  2024-01-05  2024   \n",
       "2    29040  2024-01-13  2024   \n",
       "3    29040  2024-01-13  2024   \n",
       "4    29040  2024-01-13  2024   \n",
       "\n",
       "                                            meet_url   all_teams  \n",
       "0  https://roadtonationals.com/results/schedule/m...         LSU  \n",
       "1  https://roadtonationals.com/results/schedule/m...  Ohio State  \n",
       "2  https://roadtonationals.com/results/schedule/m...         LSU  \n",
       "3  https://roadtonationals.com/results/schedule/m...    Oklahoma  \n",
       "4  https://roadtonationals.com/results/schedule/m...        UCLA  "
      ]
     },
     "execution_count": 158,
     "metadata": {},
     "output_type": "execute_result"
    }
   ],
   "source": [
    "# Explode the all_teams column so that each of the teams in the list has its own row\n",
    "meets_df = meets_df.explode('all_teams').reset_index(drop=True)\n",
    "\n",
    "# Preview the meets_df\n",
    "meets_df.head()"
   ]
  },
  {
   "cell_type": "markdown",
   "metadata": {},
   "source": [
    "I have set the primary key in the `team` table in database to be the primary key, so it is more appropriate to include the `team_id` value in this table as a foreign key than `team_name` - I have to merge the two DataFrames on to get the `team_id` for the value that is currently in `all_teams` (which is currently not a particularly descriptive column name, but never fear, it will be deleted soon and no longer be a source of confusion!)"
   ]
  },
  {
   "cell_type": "code",
   "execution_count": 159,
   "metadata": {},
   "outputs": [
    {
     "data": {
      "text/html": [
       "<div>\n",
       "<style scoped>\n",
       "    .dataframe tbody tr th:only-of-type {\n",
       "        vertical-align: middle;\n",
       "    }\n",
       "\n",
       "    .dataframe tbody tr th {\n",
       "        vertical-align: top;\n",
       "    }\n",
       "\n",
       "    .dataframe thead th {\n",
       "        text-align: right;\n",
       "    }\n",
       "</style>\n",
       "<table border=\"1\" class=\"dataframe\">\n",
       "  <thead>\n",
       "    <tr style=\"text-align: right;\">\n",
       "      <th></th>\n",
       "      <th>meet_id</th>\n",
       "      <th>meet_date</th>\n",
       "      <th>year</th>\n",
       "      <th>meet_url</th>\n",
       "      <th>team_id</th>\n",
       "    </tr>\n",
       "  </thead>\n",
       "  <tbody>\n",
       "    <tr>\n",
       "      <th>0</th>\n",
       "      <td>28977</td>\n",
       "      <td>2024-01-05</td>\n",
       "      <td>2024</td>\n",
       "      <td>https://roadtonationals.com/results/schedule/m...</td>\n",
       "      <td>34.0</td>\n",
       "    </tr>\n",
       "    <tr>\n",
       "      <th>1</th>\n",
       "      <td>28977</td>\n",
       "      <td>2024-01-05</td>\n",
       "      <td>2024</td>\n",
       "      <td>https://roadtonationals.com/results/schedule/m...</td>\n",
       "      <td>46.0</td>\n",
       "    </tr>\n",
       "    <tr>\n",
       "      <th>2</th>\n",
       "      <td>29040</td>\n",
       "      <td>2024-01-13</td>\n",
       "      <td>2024</td>\n",
       "      <td>https://roadtonationals.com/results/schedule/m...</td>\n",
       "      <td>34.0</td>\n",
       "    </tr>\n",
       "    <tr>\n",
       "      <th>3</th>\n",
       "      <td>29040</td>\n",
       "      <td>2024-01-13</td>\n",
       "      <td>2024</td>\n",
       "      <td>https://roadtonationals.com/results/schedule/m...</td>\n",
       "      <td>47.0</td>\n",
       "    </tr>\n",
       "    <tr>\n",
       "      <th>4</th>\n",
       "      <td>29040</td>\n",
       "      <td>2024-01-13</td>\n",
       "      <td>2024</td>\n",
       "      <td>https://roadtonationals.com/results/schedule/m...</td>\n",
       "      <td>66.0</td>\n",
       "    </tr>\n",
       "  </tbody>\n",
       "</table>\n",
       "</div>"
      ],
      "text/plain": [
       "   meet_id   meet_date  year  \\\n",
       "0    28977  2024-01-05  2024   \n",
       "1    28977  2024-01-05  2024   \n",
       "2    29040  2024-01-13  2024   \n",
       "3    29040  2024-01-13  2024   \n",
       "4    29040  2024-01-13  2024   \n",
       "\n",
       "                                            meet_url  team_id  \n",
       "0  https://roadtonationals.com/results/schedule/m...     34.0  \n",
       "1  https://roadtonationals.com/results/schedule/m...     46.0  \n",
       "2  https://roadtonationals.com/results/schedule/m...     34.0  \n",
       "3  https://roadtonationals.com/results/schedule/m...     47.0  \n",
       "4  https://roadtonationals.com/results/schedule/m...     66.0  "
      ]
     },
     "execution_count": 159,
     "metadata": {},
     "output_type": "execute_result"
    }
   ],
   "source": [
    "# Merge the meets_df with the teams_df to get the team_id\n",
    "meets_df = meets_df.merge(teams_df[['team_id', 'team_name']], left_on='all_teams', right_on='team_name', how='left')\n",
    "\n",
    "# Drop the team_name column\n",
    "meets_df.drop(columns=['team_name', 'all_teams'], inplace=True)\n",
    "\n",
    "# Rename the team_id column\n",
    "meets_df.rename(columns={'team_id': 'team_id'}, inplace=True)\n",
    "\n",
    "# Preview the meets_df\n",
    "meets_df.head()\n"
   ]
  },
  {
   "cell_type": "markdown",
   "metadata": {},
   "source": [
    "At this stage, trying to convert the `team_id` column to integer threw an error, complaining about some NaN values in the column."
   ]
  },
  {
   "cell_type": "code",
   "execution_count": 160,
   "metadata": {},
   "outputs": [
    {
     "data": {
      "text/html": [
       "<div>\n",
       "<style scoped>\n",
       "    .dataframe tbody tr th:only-of-type {\n",
       "        vertical-align: middle;\n",
       "    }\n",
       "\n",
       "    .dataframe tbody tr th {\n",
       "        vertical-align: top;\n",
       "    }\n",
       "\n",
       "    .dataframe thead th {\n",
       "        text-align: right;\n",
       "    }\n",
       "</style>\n",
       "<table border=\"1\" class=\"dataframe\">\n",
       "  <thead>\n",
       "    <tr style=\"text-align: right;\">\n",
       "      <th></th>\n",
       "      <th>meet_id</th>\n",
       "      <th>meet_date</th>\n",
       "      <th>year</th>\n",
       "      <th>meet_url</th>\n",
       "      <th>team_id</th>\n",
       "    </tr>\n",
       "  </thead>\n",
       "  <tbody>\n",
       "    <tr>\n",
       "      <th>2073</th>\n",
       "      <td>27977</td>\n",
       "      <td>2023-01-20</td>\n",
       "      <td>2023</td>\n",
       "      <td>https://roadtonationals.com/results/schedule/m...</td>\n",
       "      <td>NaN</td>\n",
       "    </tr>\n",
       "    <tr>\n",
       "      <th>3131</th>\n",
       "      <td>26843</td>\n",
       "      <td>2022-01-21</td>\n",
       "      <td>2022</td>\n",
       "      <td>https://roadtonationals.com/results/schedule/m...</td>\n",
       "      <td>NaN</td>\n",
       "    </tr>\n",
       "    <tr>\n",
       "      <th>5813</th>\n",
       "      <td>24822</td>\n",
       "      <td>2019-04-12</td>\n",
       "      <td>2019</td>\n",
       "      <td>https://roadtonationals.com/results/schedule/m...</td>\n",
       "      <td>NaN</td>\n",
       "    </tr>\n",
       "    <tr>\n",
       "      <th>7426</th>\n",
       "      <td>21326</td>\n",
       "      <td>2017-04-14</td>\n",
       "      <td>2017</td>\n",
       "      <td>https://roadtonationals.com/results/schedule/m...</td>\n",
       "      <td>NaN</td>\n",
       "    </tr>\n",
       "    <tr>\n",
       "      <th>9073</th>\n",
       "      <td>20001</td>\n",
       "      <td>2016-02-12</td>\n",
       "      <td>2016</td>\n",
       "      <td>https://roadtonationals.com/results/schedule/m...</td>\n",
       "      <td>NaN</td>\n",
       "    </tr>\n",
       "    <tr>\n",
       "      <th>9256</th>\n",
       "      <td>19660</td>\n",
       "      <td>2016-03-19</td>\n",
       "      <td>2016</td>\n",
       "      <td>https://roadtonationals.com/results/schedule/m...</td>\n",
       "      <td>NaN</td>\n",
       "    </tr>\n",
       "    <tr>\n",
       "      <th>9266</th>\n",
       "      <td>20016</td>\n",
       "      <td>2016-03-19</td>\n",
       "      <td>2016</td>\n",
       "      <td>https://roadtonationals.com/results/schedule/m...</td>\n",
       "      <td>NaN</td>\n",
       "    </tr>\n",
       "  </tbody>\n",
       "</table>\n",
       "</div>"
      ],
      "text/plain": [
       "      meet_id   meet_date  year  \\\n",
       "2073    27977  2023-01-20  2023   \n",
       "3131    26843  2022-01-21  2022   \n",
       "5813    24822  2019-04-12  2019   \n",
       "7426    21326  2017-04-14  2017   \n",
       "9073    20001  2016-02-12  2016   \n",
       "9256    19660  2016-03-19  2016   \n",
       "9266    20016  2016-03-19  2016   \n",
       "\n",
       "                                               meet_url  team_id  \n",
       "2073  https://roadtonationals.com/results/schedule/m...      NaN  \n",
       "3131  https://roadtonationals.com/results/schedule/m...      NaN  \n",
       "5813  https://roadtonationals.com/results/schedule/m...      NaN  \n",
       "7426  https://roadtonationals.com/results/schedule/m...      NaN  \n",
       "9073  https://roadtonationals.com/results/schedule/m...      NaN  \n",
       "9256  https://roadtonationals.com/results/schedule/m...      NaN  \n",
       "9266  https://roadtonationals.com/results/schedule/m...      NaN  "
      ]
     },
     "execution_count": 160,
     "metadata": {},
     "output_type": "execute_result"
    }
   ],
   "source": [
    "# Find the NA values in the team_id column\n",
    "meets_df[meets_df['team_id'].isna()]"
   ]
  },
  {
   "cell_type": "markdown",
   "metadata": {},
   "source": [
    "This seemed curious, and upon exploring the data, it seems there is a coding error on the website or perhaps there are meets listed that did not end up taking place due to cancellations, but were still listed as 'intended meets'. Furthermore, some teams are listed as participants for (semi) finals that did not actually make it through to that round of competition. \n",
    "\n",
    "As such, I can feel safe dropping dropping those `meet_ids` from the `meets_df`.\n",
    "\n",
    "Incidentally, these are the same meet_ids that weren't able to be retrieved in the scraping process, so that solves a mystery there."
   ]
  },
  {
   "cell_type": "code",
   "execution_count": 161,
   "metadata": {},
   "outputs": [
    {
     "data": {
      "text/html": [
       "<div>\n",
       "<style scoped>\n",
       "    .dataframe tbody tr th:only-of-type {\n",
       "        vertical-align: middle;\n",
       "    }\n",
       "\n",
       "    .dataframe tbody tr th {\n",
       "        vertical-align: top;\n",
       "    }\n",
       "\n",
       "    .dataframe thead th {\n",
       "        text-align: right;\n",
       "    }\n",
       "</style>\n",
       "<table border=\"1\" class=\"dataframe\">\n",
       "  <thead>\n",
       "    <tr style=\"text-align: right;\">\n",
       "      <th></th>\n",
       "      <th>meet_id</th>\n",
       "      <th>meet_date</th>\n",
       "      <th>year</th>\n",
       "      <th>meet_url</th>\n",
       "      <th>team_id</th>\n",
       "    </tr>\n",
       "  </thead>\n",
       "  <tbody>\n",
       "  </tbody>\n",
       "</table>\n",
       "</div>"
      ],
      "text/plain": [
       "Empty DataFrame\n",
       "Columns: [meet_id, meet_date, year, meet_url, team_id]\n",
       "Index: []"
      ]
     },
     "execution_count": 161,
     "metadata": {},
     "output_type": "execute_result"
    }
   ],
   "source": [
    "meets_df[meets_df['meet_id'].isin([27977, 26843, 24822, 21326, 20001, 19660, 20016])]\n",
    "\n",
    "# Drop any row that has a meet_id that of a row with a missing team_id\n",
    "meets_df = meets_df[~meets_df['meet_id'].isin([27977, 26843, 24822, 21326, 20001, 19660, 20016])]\n",
    "\n",
    "# Make sure there's no more NAs in the team_id column\n",
    "meets_df[meets_df['team_id'].isna()]"
   ]
  },
  {
   "cell_type": "markdown",
   "metadata": {},
   "source": [
    "And I can now retype the `meet_id` column."
   ]
  },
  {
   "cell_type": "code",
   "execution_count": 162,
   "metadata": {},
   "outputs": [
    {
     "data": {
      "text/html": [
       "<div>\n",
       "<style scoped>\n",
       "    .dataframe tbody tr th:only-of-type {\n",
       "        vertical-align: middle;\n",
       "    }\n",
       "\n",
       "    .dataframe tbody tr th {\n",
       "        vertical-align: top;\n",
       "    }\n",
       "\n",
       "    .dataframe thead th {\n",
       "        text-align: right;\n",
       "    }\n",
       "</style>\n",
       "<table border=\"1\" class=\"dataframe\">\n",
       "  <thead>\n",
       "    <tr style=\"text-align: right;\">\n",
       "      <th></th>\n",
       "      <th>meet_id</th>\n",
       "      <th>meet_date</th>\n",
       "      <th>year</th>\n",
       "      <th>meet_url</th>\n",
       "      <th>team_id</th>\n",
       "    </tr>\n",
       "  </thead>\n",
       "  <tbody>\n",
       "    <tr>\n",
       "      <th>0</th>\n",
       "      <td>28977</td>\n",
       "      <td>2024-01-05</td>\n",
       "      <td>2024</td>\n",
       "      <td>https://roadtonationals.com/results/schedule/m...</td>\n",
       "      <td>34</td>\n",
       "    </tr>\n",
       "    <tr>\n",
       "      <th>1</th>\n",
       "      <td>28977</td>\n",
       "      <td>2024-01-05</td>\n",
       "      <td>2024</td>\n",
       "      <td>https://roadtonationals.com/results/schedule/m...</td>\n",
       "      <td>46</td>\n",
       "    </tr>\n",
       "    <tr>\n",
       "      <th>2</th>\n",
       "      <td>29040</td>\n",
       "      <td>2024-01-13</td>\n",
       "      <td>2024</td>\n",
       "      <td>https://roadtonationals.com/results/schedule/m...</td>\n",
       "      <td>34</td>\n",
       "    </tr>\n",
       "    <tr>\n",
       "      <th>3</th>\n",
       "      <td>29040</td>\n",
       "      <td>2024-01-13</td>\n",
       "      <td>2024</td>\n",
       "      <td>https://roadtonationals.com/results/schedule/m...</td>\n",
       "      <td>47</td>\n",
       "    </tr>\n",
       "    <tr>\n",
       "      <th>4</th>\n",
       "      <td>29040</td>\n",
       "      <td>2024-01-13</td>\n",
       "      <td>2024</td>\n",
       "      <td>https://roadtonationals.com/results/schedule/m...</td>\n",
       "      <td>66</td>\n",
       "    </tr>\n",
       "  </tbody>\n",
       "</table>\n",
       "</div>"
      ],
      "text/plain": [
       "   meet_id   meet_date  year  \\\n",
       "0    28977  2024-01-05  2024   \n",
       "1    28977  2024-01-05  2024   \n",
       "2    29040  2024-01-13  2024   \n",
       "3    29040  2024-01-13  2024   \n",
       "4    29040  2024-01-13  2024   \n",
       "\n",
       "                                            meet_url  team_id  \n",
       "0  https://roadtonationals.com/results/schedule/m...       34  \n",
       "1  https://roadtonationals.com/results/schedule/m...       46  \n",
       "2  https://roadtonationals.com/results/schedule/m...       34  \n",
       "3  https://roadtonationals.com/results/schedule/m...       47  \n",
       "4  https://roadtonationals.com/results/schedule/m...       66  "
      ]
     },
     "execution_count": 162,
     "metadata": {},
     "output_type": "execute_result"
    }
   ],
   "source": [
    "# Change the team_id column to an integer\n",
    "meets_df['team_id'] = meets_df['team_id'].astype(int)\n",
    "\n",
    "# Preview the meets_df\n",
    "meets_df.head()"
   ]
  },
  {
   "cell_type": "markdown",
   "metadata": {},
   "source": [
    "I also found that there were some duplicated combinations of `team_id` and `meet_id`, suggesting that some team competed in the same meets twice. \n",
    "\n",
    "As this is not how gymnastics meets are run (ie. teams only ever compete once per meet), I feel safe deleting these duplicates so that I have a nice clean primary key combination for my database."
   ]
  },
  {
   "cell_type": "code",
   "execution_count": 163,
   "metadata": {},
   "outputs": [
    {
     "data": {
      "text/html": [
       "<div>\n",
       "<style scoped>\n",
       "    .dataframe tbody tr th:only-of-type {\n",
       "        vertical-align: middle;\n",
       "    }\n",
       "\n",
       "    .dataframe tbody tr th {\n",
       "        vertical-align: top;\n",
       "    }\n",
       "\n",
       "    .dataframe thead th {\n",
       "        text-align: right;\n",
       "    }\n",
       "</style>\n",
       "<table border=\"1\" class=\"dataframe\">\n",
       "  <thead>\n",
       "    <tr style=\"text-align: right;\">\n",
       "      <th></th>\n",
       "      <th>meet_id</th>\n",
       "      <th>meet_date</th>\n",
       "      <th>year</th>\n",
       "      <th>meet_url</th>\n",
       "      <th>team_id</th>\n",
       "    </tr>\n",
       "  </thead>\n",
       "  <tbody>\n",
       "  </tbody>\n",
       "</table>\n",
       "</div>"
      ],
      "text/plain": [
       "Empty DataFrame\n",
       "Columns: [meet_id, meet_date, year, meet_url, team_id]\n",
       "Index: []"
      ]
     },
     "execution_count": 163,
     "metadata": {},
     "output_type": "execute_result"
    }
   ],
   "source": [
    "# Make sure the combination of meet_id and team_id is unique\n",
    "meets_df[meets_df.duplicated(subset=['meet_id', 'team_id'], keep=False)]\n",
    "\n",
    "# Drop the duplicate rows\n",
    "meets_df.drop_duplicates(subset=['meet_id', 'team_id'], inplace=True)\n",
    "\n",
    "# Make sure the combination of meet_id and team_id is unique\n",
    "meets_df[meets_df.duplicated(subset=['meet_id', 'team_id'], keep=False)]"
   ]
  },
  {
   "cell_type": "markdown",
   "metadata": {},
   "source": [
    "## 2.2 Creating a `meets` table for the `gymternet` database. \n",
    "\n",
    "As with the `teams` table, my preference is for setting the structure of the table before importing the data."
   ]
  },
  {
   "cell_type": "code",
   "execution_count": 164,
   "metadata": {
    "vscode": {
     "languageId": "sql"
    }
   },
   "outputs": [
    {
     "data": {
      "text/html": [
       "<span style=\"None\">Running query in &#x27;gymternet&#x27;</span>"
      ],
      "text/plain": [
       "Running query in 'gymternet'"
      ]
     },
     "metadata": {},
     "output_type": "display_data"
    },
    {
     "data": {
      "text/html": [
       "<table>\n",
       "    <thead>\n",
       "        <tr>\n",
       "        </tr>\n",
       "    </thead>\n",
       "    <tbody>\n",
       "    </tbody>\n",
       "</table>"
      ],
      "text/plain": [
       "++\n",
       "||\n",
       "++\n",
       "++"
      ]
     },
     "execution_count": 164,
     "metadata": {},
     "output_type": "execute_result"
    }
   ],
   "source": [
    "%%sql --alias gymternet\n",
    "\n",
    "DROP TABLE IF EXISTS meets;\n",
    "\n",
    "CREATE TABLE meets (\n",
    "    meet_id SMALLINT NOT NULL,\n",
    "    team_id TINYINT NOT NULL,\n",
    "    year SMALLINT NOT NULL,\n",
    "    meet_date DATE,\n",
    "    meet_url VARCHAR(128),\n",
    "    PRIMARY KEY (meet_id, team_id),\n",
    "    FOREIGN KEY (team_id) REFERENCES teams (team_id)\n",
    ");\n"
   ]
  },
  {
   "cell_type": "code",
   "execution_count": 165,
   "metadata": {},
   "outputs": [
    {
     "data": {
      "text/plain": [
       "10273"
      ]
     },
     "execution_count": 165,
     "metadata": {},
     "output_type": "execute_result"
    }
   ],
   "source": [
    "# Importing the data from the meets_df into the SQL database\n",
    "meets_df.to_sql('meets', con=engine, if_exists='append', index=False)"
   ]
  },
  {
   "cell_type": "markdown",
   "metadata": {},
   "source": [
    "# 3 Clean up `team_results_data_df` and create `team_results` table\n",
    "\n",
    "What I want in this table in my database is:\n",
    "\n",
    "| **meet_id** | **team_id** | **vt_score** | **ub_score** | **bb_score** | **fx_score** | **team_score** |\n",
    "|-------------|-------------|--------------|--------------|--------------|--------------|----------------|\n",
    "| 117897      | 68          | 48.89725     | 48.89725     | 48.89725     | 48.89725     | 195.589        |\n",
    "\n",
    "\n",
    "The unique combination of `meet_id` and `team_id` columns should act as the primary key, and both should also be foreign keys, connecting to the `meets` table and `teams` table respectively.\n",
    "\n",
    "## 3.1 Cleaning `team_results_data_df`"
   ]
  },
  {
   "cell_type": "code",
   "execution_count": 166,
   "metadata": {},
   "outputs": [
    {
     "data": {
      "text/html": [
       "<div>\n",
       "<style scoped>\n",
       "    .dataframe tbody tr th:only-of-type {\n",
       "        vertical-align: middle;\n",
       "    }\n",
       "\n",
       "    .dataframe tbody tr th {\n",
       "        vertical-align: top;\n",
       "    }\n",
       "\n",
       "    .dataframe thead th {\n",
       "        text-align: right;\n",
       "    }\n",
       "</style>\n",
       "<table border=\"1\" class=\"dataframe\">\n",
       "  <thead>\n",
       "    <tr style=\"text-align: right;\">\n",
       "      <th></th>\n",
       "      <th>mid</th>\n",
       "      <th>tid</th>\n",
       "      <th>tname</th>\n",
       "      <th>vault</th>\n",
       "      <th>bars</th>\n",
       "      <th>beam</th>\n",
       "      <th>floor</th>\n",
       "      <th>tscore</th>\n",
       "      <th>year</th>\n",
       "      <th>home</th>\n",
       "      <th>lead</th>\n",
       "    </tr>\n",
       "  </thead>\n",
       "  <tbody>\n",
       "    <tr>\n",
       "      <th>0</th>\n",
       "      <td>28977</td>\n",
       "      <td>34</td>\n",
       "      <td>LSU</td>\n",
       "      <td>49.3750</td>\n",
       "      <td>49.3750</td>\n",
       "      <td>48.7000</td>\n",
       "      <td>49.5250</td>\n",
       "      <td>196.9750</td>\n",
       "      <td>2024</td>\n",
       "      <td>H</td>\n",
       "      <td>0.00</td>\n",
       "    </tr>\n",
       "    <tr>\n",
       "      <th>1</th>\n",
       "      <td>28978</td>\n",
       "      <td>46</td>\n",
       "      <td>Ohio State</td>\n",
       "      <td>49.3000</td>\n",
       "      <td>49.1250</td>\n",
       "      <td>49.0500</td>\n",
       "      <td>49.3000</td>\n",
       "      <td>196.7750</td>\n",
       "      <td>2024</td>\n",
       "      <td>A</td>\n",
       "      <td>0.20</td>\n",
       "    </tr>\n",
       "    <tr>\n",
       "      <th>2</th>\n",
       "      <td>29039</td>\n",
       "      <td>47</td>\n",
       "      <td>Oklahoma</td>\n",
       "      <td>49.4500</td>\n",
       "      <td>49.4500</td>\n",
       "      <td>49.5250</td>\n",
       "      <td>49.4750</td>\n",
       "      <td>197.9000</td>\n",
       "      <td>2024</td>\n",
       "      <td>A</td>\n",
       "      <td>0.00</td>\n",
       "    </tr>\n",
       "    <tr>\n",
       "      <th>3</th>\n",
       "      <td>29040</td>\n",
       "      <td>34</td>\n",
       "      <td>LSU</td>\n",
       "      <td>49.2250</td>\n",
       "      <td>49.6500</td>\n",
       "      <td>48.7500</td>\n",
       "      <td>49.5250</td>\n",
       "      <td>197.1500</td>\n",
       "      <td>2024</td>\n",
       "      <td>A</td>\n",
       "      <td>0.75</td>\n",
       "    </tr>\n",
       "    <tr>\n",
       "      <th>4</th>\n",
       "      <td>29042</td>\n",
       "      <td>66</td>\n",
       "      <td>UCLA</td>\n",
       "      <td>49.4000</td>\n",
       "      <td>49.2500</td>\n",
       "      <td>49.2500</td>\n",
       "      <td>49.2000</td>\n",
       "      <td>197.1000</td>\n",
       "      <td>2024</td>\n",
       "      <td>A</td>\n",
       "      <td>0.80</td>\n",
       "    </tr>\n",
       "  </tbody>\n",
       "</table>\n",
       "</div>"
      ],
      "text/plain": [
       "     mid tid       tname    vault     bars     beam    floor    tscore  year  \\\n",
       "0  28977  34         LSU  49.3750  49.3750  48.7000  49.5250  196.9750  2024   \n",
       "1  28978  46  Ohio State  49.3000  49.1250  49.0500  49.3000  196.7750  2024   \n",
       "2  29039  47    Oklahoma  49.4500  49.4500  49.5250  49.4750  197.9000  2024   \n",
       "3  29040  34         LSU  49.2250  49.6500  48.7500  49.5250  197.1500  2024   \n",
       "4  29042  66        UCLA  49.4000  49.2500  49.2500  49.2000  197.1000  2024   \n",
       "\n",
       "  home  lead  \n",
       "0    H  0.00  \n",
       "1    A  0.20  \n",
       "2    A  0.00  \n",
       "3    A  0.75  \n",
       "4    A  0.80  "
      ]
     },
     "execution_count": 166,
     "metadata": {},
     "output_type": "execute_result"
    }
   ],
   "source": [
    "team_results_data_df = pd.read_pickle('../data/raw/dirty_dfs/team_results_data_df.pkl')\n",
    "\n",
    "# Preview the meets_df\n",
    "team_results_data_df.head()"
   ]
  },
  {
   "cell_type": "markdown",
   "metadata": {},
   "source": [
    "This DataFrame is in better shape than I remember, so it should be a fairly straightforward exercise of removing unwanted columns, making sure our types are correct, changing column names and ensuring we don't have any duplicated rows.\n",
    "\n",
    "### 3.1.1 Remove unwanted columns"
   ]
  },
  {
   "cell_type": "code",
   "execution_count": 167,
   "metadata": {},
   "outputs": [
    {
     "data": {
      "text/html": [
       "<div>\n",
       "<style scoped>\n",
       "    .dataframe tbody tr th:only-of-type {\n",
       "        vertical-align: middle;\n",
       "    }\n",
       "\n",
       "    .dataframe tbody tr th {\n",
       "        vertical-align: top;\n",
       "    }\n",
       "\n",
       "    .dataframe thead th {\n",
       "        text-align: right;\n",
       "    }\n",
       "</style>\n",
       "<table border=\"1\" class=\"dataframe\">\n",
       "  <thead>\n",
       "    <tr style=\"text-align: right;\">\n",
       "      <th></th>\n",
       "      <th>mid</th>\n",
       "      <th>tid</th>\n",
       "      <th>vault</th>\n",
       "      <th>bars</th>\n",
       "      <th>beam</th>\n",
       "      <th>floor</th>\n",
       "      <th>tscore</th>\n",
       "    </tr>\n",
       "  </thead>\n",
       "  <tbody>\n",
       "    <tr>\n",
       "      <th>0</th>\n",
       "      <td>28977</td>\n",
       "      <td>34</td>\n",
       "      <td>49.3750</td>\n",
       "      <td>49.3750</td>\n",
       "      <td>48.7000</td>\n",
       "      <td>49.5250</td>\n",
       "      <td>196.9750</td>\n",
       "    </tr>\n",
       "    <tr>\n",
       "      <th>1</th>\n",
       "      <td>28978</td>\n",
       "      <td>46</td>\n",
       "      <td>49.3000</td>\n",
       "      <td>49.1250</td>\n",
       "      <td>49.0500</td>\n",
       "      <td>49.3000</td>\n",
       "      <td>196.7750</td>\n",
       "    </tr>\n",
       "    <tr>\n",
       "      <th>2</th>\n",
       "      <td>29039</td>\n",
       "      <td>47</td>\n",
       "      <td>49.4500</td>\n",
       "      <td>49.4500</td>\n",
       "      <td>49.5250</td>\n",
       "      <td>49.4750</td>\n",
       "      <td>197.9000</td>\n",
       "    </tr>\n",
       "    <tr>\n",
       "      <th>3</th>\n",
       "      <td>29040</td>\n",
       "      <td>34</td>\n",
       "      <td>49.2250</td>\n",
       "      <td>49.6500</td>\n",
       "      <td>48.7500</td>\n",
       "      <td>49.5250</td>\n",
       "      <td>197.1500</td>\n",
       "    </tr>\n",
       "    <tr>\n",
       "      <th>4</th>\n",
       "      <td>29042</td>\n",
       "      <td>66</td>\n",
       "      <td>49.4000</td>\n",
       "      <td>49.2500</td>\n",
       "      <td>49.2500</td>\n",
       "      <td>49.2000</td>\n",
       "      <td>197.1000</td>\n",
       "    </tr>\n",
       "  </tbody>\n",
       "</table>\n",
       "</div>"
      ],
      "text/plain": [
       "     mid tid    vault     bars     beam    floor    tscore\n",
       "0  28977  34  49.3750  49.3750  48.7000  49.5250  196.9750\n",
       "1  28978  46  49.3000  49.1250  49.0500  49.3000  196.7750\n",
       "2  29039  47  49.4500  49.4500  49.5250  49.4750  197.9000\n",
       "3  29040  34  49.2250  49.6500  48.7500  49.5250  197.1500\n",
       "4  29042  66  49.4000  49.2500  49.2500  49.2000  197.1000"
      ]
     },
     "execution_count": 167,
     "metadata": {},
     "output_type": "execute_result"
    }
   ],
   "source": [
    "# Delete tname, year, home and lead columns from the team_results_data_df\n",
    "team_results_data_df.drop(columns=['tname', 'year', 'home', 'lead'], inplace=True)\n",
    "\n",
    "# Preview the team_results_data_df\n",
    "team_results_data_df.head()"
   ]
  },
  {
   "cell_type": "markdown",
   "metadata": {},
   "source": [
    "### 3.1.2 Retype incorrectly typed columns"
   ]
  },
  {
   "cell_type": "code",
   "execution_count": 168,
   "metadata": {},
   "outputs": [
    {
     "data": {
      "text/plain": [
       "mid       object\n",
       "tid       object\n",
       "vault     object\n",
       "bars      object\n",
       "beam      object\n",
       "floor     object\n",
       "tscore    object\n",
       "dtype: object"
      ]
     },
     "execution_count": 168,
     "metadata": {},
     "output_type": "execute_result"
    }
   ],
   "source": [
    "# Preview the df types\n",
    "team_results_data_df.dtypes"
   ]
  },
  {
   "cell_type": "code",
   "execution_count": 169,
   "metadata": {},
   "outputs": [
    {
     "data": {
      "text/plain": [
       "mid         int64\n",
       "tid         int64\n",
       "vault     float64\n",
       "bars      float64\n",
       "beam      float64\n",
       "floor     float64\n",
       "tscore    float64\n",
       "dtype: object"
      ]
     },
     "execution_count": 169,
     "metadata": {},
     "output_type": "execute_result"
    }
   ],
   "source": [
    "# Check for any NA values\n",
    "team_results_data_df[team_results_data_df.isna().any(axis=1)]\n",
    "\n",
    "# Drop the NA values\n",
    "team_results_data_df.dropna(inplace=True)\n",
    "\n",
    "# Retype mid and tid columns as int, and all other columns as float (with four decimal places)\n",
    "team_results_data_df['mid'] = team_results_data_df['mid'].astype(int)\n",
    "team_results_data_df['tid'] = team_results_data_df['tid'].astype(int)\n",
    "team_results_data_df['vault'] = team_results_data_df['vault'].astype(float)\n",
    "team_results_data_df['bars'] = team_results_data_df['bars'].astype(float)\n",
    "team_results_data_df['beam'] = team_results_data_df['beam'].astype(float)\n",
    "team_results_data_df['floor'] = team_results_data_df['floor'].astype(float)\n",
    "team_results_data_df['tscore'] = team_results_data_df['tscore'].astype(float)\n",
    "\n",
    "\n",
    "team_results_data_df['vault'] = team_results_data_df['vault'].round(4)\n",
    "team_results_data_df['bars'] = team_results_data_df['bars'].round(4)\n",
    "team_results_data_df['beam'] = team_results_data_df['beam'].round(4)\n",
    "team_results_data_df['floor'] = team_results_data_df['floor'].round(4)\n",
    "team_results_data_df['tscore'] = team_results_data_df['tscore'].round(4)\n",
    "\n",
    "# Preview the df types\n",
    "team_results_data_df.dtypes"
   ]
  },
  {
   "cell_type": "markdown",
   "metadata": {},
   "source": [
    "### 3.1.3 Renaming columns"
   ]
  },
  {
   "cell_type": "code",
   "execution_count": 170,
   "metadata": {},
   "outputs": [
    {
     "data": {
      "text/html": [
       "<div>\n",
       "<style scoped>\n",
       "    .dataframe tbody tr th:only-of-type {\n",
       "        vertical-align: middle;\n",
       "    }\n",
       "\n",
       "    .dataframe tbody tr th {\n",
       "        vertical-align: top;\n",
       "    }\n",
       "\n",
       "    .dataframe thead th {\n",
       "        text-align: right;\n",
       "    }\n",
       "</style>\n",
       "<table border=\"1\" class=\"dataframe\">\n",
       "  <thead>\n",
       "    <tr style=\"text-align: right;\">\n",
       "      <th></th>\n",
       "      <th>meet_id</th>\n",
       "      <th>team_id</th>\n",
       "      <th>vt_score</th>\n",
       "      <th>ub_score</th>\n",
       "      <th>bb_score</th>\n",
       "      <th>fx_score</th>\n",
       "      <th>team_score</th>\n",
       "    </tr>\n",
       "  </thead>\n",
       "  <tbody>\n",
       "    <tr>\n",
       "      <th>0</th>\n",
       "      <td>28977</td>\n",
       "      <td>34</td>\n",
       "      <td>49.375</td>\n",
       "      <td>49.375</td>\n",
       "      <td>48.700</td>\n",
       "      <td>49.525</td>\n",
       "      <td>196.975</td>\n",
       "    </tr>\n",
       "    <tr>\n",
       "      <th>1</th>\n",
       "      <td>28978</td>\n",
       "      <td>46</td>\n",
       "      <td>49.300</td>\n",
       "      <td>49.125</td>\n",
       "      <td>49.050</td>\n",
       "      <td>49.300</td>\n",
       "      <td>196.775</td>\n",
       "    </tr>\n",
       "    <tr>\n",
       "      <th>2</th>\n",
       "      <td>29039</td>\n",
       "      <td>47</td>\n",
       "      <td>49.450</td>\n",
       "      <td>49.450</td>\n",
       "      <td>49.525</td>\n",
       "      <td>49.475</td>\n",
       "      <td>197.900</td>\n",
       "    </tr>\n",
       "    <tr>\n",
       "      <th>3</th>\n",
       "      <td>29040</td>\n",
       "      <td>34</td>\n",
       "      <td>49.225</td>\n",
       "      <td>49.650</td>\n",
       "      <td>48.750</td>\n",
       "      <td>49.525</td>\n",
       "      <td>197.150</td>\n",
       "    </tr>\n",
       "    <tr>\n",
       "      <th>4</th>\n",
       "      <td>29042</td>\n",
       "      <td>66</td>\n",
       "      <td>49.400</td>\n",
       "      <td>49.250</td>\n",
       "      <td>49.250</td>\n",
       "      <td>49.200</td>\n",
       "      <td>197.100</td>\n",
       "    </tr>\n",
       "  </tbody>\n",
       "</table>\n",
       "</div>"
      ],
      "text/plain": [
       "   meet_id  team_id  vt_score  ub_score  bb_score  fx_score  team_score\n",
       "0    28977       34    49.375    49.375    48.700    49.525     196.975\n",
       "1    28978       46    49.300    49.125    49.050    49.300     196.775\n",
       "2    29039       47    49.450    49.450    49.525    49.475     197.900\n",
       "3    29040       34    49.225    49.650    48.750    49.525     197.150\n",
       "4    29042       66    49.400    49.250    49.250    49.200     197.100"
      ]
     },
     "execution_count": 170,
     "metadata": {},
     "output_type": "execute_result"
    }
   ],
   "source": [
    "# Rename the columns\n",
    "team_results_data_df.rename(columns={'mid': 'meet_id', 'tid': 'team_id', 'vault': 'vt_score', 'bars': 'ub_score', 'beam': 'bb_score', 'floor': 'fx_score', 'tscore': 'team_score'}, inplace=True)\n",
    "\n",
    "# Preview the team_results_data_df\n",
    "team_results_data_df.head()\n",
    "\n",
    "# Looks lovely :,)"
   ]
  },
  {
   "cell_type": "markdown",
   "metadata": {},
   "source": [
    "### 3.1.4 Checking for, and removing, duplicates"
   ]
  },
  {
   "cell_type": "code",
   "execution_count": 171,
   "metadata": {},
   "outputs": [
    {
     "data": {
      "text/html": [
       "<div>\n",
       "<style scoped>\n",
       "    .dataframe tbody tr th:only-of-type {\n",
       "        vertical-align: middle;\n",
       "    }\n",
       "\n",
       "    .dataframe tbody tr th {\n",
       "        vertical-align: top;\n",
       "    }\n",
       "\n",
       "    .dataframe thead th {\n",
       "        text-align: right;\n",
       "    }\n",
       "</style>\n",
       "<table border=\"1\" class=\"dataframe\">\n",
       "  <thead>\n",
       "    <tr style=\"text-align: right;\">\n",
       "      <th></th>\n",
       "      <th>meet_id</th>\n",
       "      <th>team_id</th>\n",
       "      <th>vt_score</th>\n",
       "      <th>ub_score</th>\n",
       "      <th>bb_score</th>\n",
       "      <th>fx_score</th>\n",
       "      <th>team_score</th>\n",
       "    </tr>\n",
       "  </thead>\n",
       "  <tbody>\n",
       "  </tbody>\n",
       "</table>\n",
       "</div>"
      ],
      "text/plain": [
       "Empty DataFrame\n",
       "Columns: [meet_id, team_id, vt_score, ub_score, bb_score, fx_score, team_score]\n",
       "Index: []"
      ]
     },
     "execution_count": 171,
     "metadata": {},
     "output_type": "execute_result"
    }
   ],
   "source": [
    "# Make sure the combination of meet_id and team_id is unique\n",
    "team_results_data_df[team_results_data_df.duplicated(subset=['meet_id', 'team_id'], keep=False)].sort_values(by=['meet_id'])\n",
    "\n",
    "# Drop the duplicate rows\n",
    "team_results_data_df.drop_duplicates(subset=['meet_id', 'team_id'], inplace=True)\n",
    "\n",
    "# Make sure the combination of meet_id and team_id is unique\n",
    "team_results_data_df[team_results_data_df.duplicated(subset=['meet_id', 'team_id'], keep=False)]"
   ]
  },
  {
   "cell_type": "markdown",
   "metadata": {},
   "source": [
    "## 3.2 Creating a `team_results` table for the `gymternet` database. \n",
    "\n",
    "You know the drill - I'll set up the table structure before importing the data from the DataFrame."
   ]
  },
  {
   "cell_type": "code",
   "execution_count": 172,
   "metadata": {
    "vscode": {
     "languageId": "sql"
    }
   },
   "outputs": [
    {
     "data": {
      "text/html": [
       "<span style=\"None\">Running query in &#x27;gymternet&#x27;</span>"
      ],
      "text/plain": [
       "Running query in 'gymternet'"
      ]
     },
     "metadata": {},
     "output_type": "display_data"
    },
    {
     "data": {
      "text/html": [
       "<table>\n",
       "    <thead>\n",
       "        <tr>\n",
       "        </tr>\n",
       "    </thead>\n",
       "    <tbody>\n",
       "    </tbody>\n",
       "</table>"
      ],
      "text/plain": [
       "++\n",
       "||\n",
       "++\n",
       "++"
      ]
     },
     "execution_count": 172,
     "metadata": {},
     "output_type": "execute_result"
    }
   ],
   "source": [
    "%%sql --alias gymternet\n",
    "\n",
    "DROP TABLE IF EXISTS team_results;\n",
    "\n",
    "CREATE TABLE team_results (\n",
    "    meet_id SMALLINT NOT NULL,\n",
    "    team_id TINYINT NOT NULL,\n",
    "    vt_score DECIMAL(6,4),\n",
    "    ub_score DECIMAL(6,4),\n",
    "    bb_score DECIMAL(6,4),\n",
    "    fx_score DECIMAL(6,4),\n",
    "    team_score DECIMAL(7,4) NOT NULL,\n",
    "    PRIMARY KEY (meet_id, team_id),\n",
    "    FOREIGN KEY (team_id) REFERENCES teams (team_id),\n",
    "    FOREIGN KEY (meet_id) REFERENCES meets (meet_id)\n",
    ");"
   ]
  },
  {
   "cell_type": "code",
   "execution_count": 173,
   "metadata": {},
   "outputs": [
    {
     "data": {
      "text/plain": [
       "10082"
      ]
     },
     "execution_count": 173,
     "metadata": {},
     "output_type": "execute_result"
    }
   ],
   "source": [
    "# Importing the data from the team_results_data_df into the SQL database\n",
    "team_results_data_df.to_sql('team_results', con=engine, if_exists='append', index=False)"
   ]
  },
  {
   "cell_type": "markdown",
   "metadata": {},
   "source": [
    "# 4 Clean up `gymnasts_data_df` and create `gymnasts`table\n",
    "\n",
    "What I want in this table in my database is:\n",
    "\n",
    "| **gymnast_id** | **first_name** | **last_name** | **team_id** |\n",
    "|----------------|----------------|---------------|-------------|\n",
    "| 22437          | \"Julia\"        | \"Sebben\"      | 1           | \n",
    "\n",
    "etc.\n",
    "\n",
    "The `gymnast_id` column should act as the primary key, and the `team_id` column should be a foreign key, connecting to the `teams` table.\n",
    "\n",
    "## 4.1 Cleaning `gymnasts_data_df`"
   ]
  },
  {
   "cell_type": "code",
   "execution_count": 188,
   "metadata": {},
   "outputs": [
    {
     "data": {
      "text/html": [
       "<div>\n",
       "<style scoped>\n",
       "    .dataframe tbody tr th:only-of-type {\n",
       "        vertical-align: middle;\n",
       "    }\n",
       "\n",
       "    .dataframe tbody tr th {\n",
       "        vertical-align: top;\n",
       "    }\n",
       "\n",
       "    .dataframe thead th {\n",
       "        text-align: right;\n",
       "    }\n",
       "</style>\n",
       "<table border=\"1\" class=\"dataframe\">\n",
       "  <thead>\n",
       "    <tr style=\"text-align: right;\">\n",
       "      <th></th>\n",
       "      <th>gid</th>\n",
       "      <th>first_name</th>\n",
       "      <th>last_name</th>\n",
       "      <th>vault</th>\n",
       "      <th>bars</th>\n",
       "      <th>beam</th>\n",
       "      <th>floor</th>\n",
       "      <th>all_around</th>\n",
       "      <th>team_name</th>\n",
       "      <th>team_id</th>\n",
       "      <th>yr</th>\n",
       "      <th>vt_url</th>\n",
       "      <th>ub_url</th>\n",
       "      <th>bb_url</th>\n",
       "      <th>fx_url</th>\n",
       "      <th>meet_id</th>\n",
       "    </tr>\n",
       "  </thead>\n",
       "  <tbody>\n",
       "    <tr>\n",
       "      <th>0</th>\n",
       "      <td>30950</td>\n",
       "      <td>Sierra</td>\n",
       "      <td>Ballard</td>\n",
       "      <td>None</td>\n",
       "      <td>None</td>\n",
       "      <td>9.2000</td>\n",
       "      <td>9.9000</td>\n",
       "      <td>None</td>\n",
       "      <td>LSU</td>\n",
       "      <td>34</td>\n",
       "      <td>2024</td>\n",
       "      <td>None</td>\n",
       "      <td>None</td>\n",
       "      <td>None</td>\n",
       "      <td>None</td>\n",
       "      <td>28977</td>\n",
       "    </tr>\n",
       "    <tr>\n",
       "      <th>1</th>\n",
       "      <td>30952</td>\n",
       "      <td>Haleigh</td>\n",
       "      <td>Bryant</td>\n",
       "      <td>9.9500</td>\n",
       "      <td>9.8750</td>\n",
       "      <td>9.9250</td>\n",
       "      <td>9.9250</td>\n",
       "      <td>39.6750</td>\n",
       "      <td>LSU</td>\n",
       "      <td>34</td>\n",
       "      <td>2024</td>\n",
       "      <td>None</td>\n",
       "      <td>None</td>\n",
       "      <td>None</td>\n",
       "      <td>None</td>\n",
       "      <td>28977</td>\n",
       "    </tr>\n",
       "    <tr>\n",
       "      <th>2</th>\n",
       "      <td>31947</td>\n",
       "      <td>Ashley</td>\n",
       "      <td>Cowan</td>\n",
       "      <td>None</td>\n",
       "      <td>9.8000</td>\n",
       "      <td>None</td>\n",
       "      <td>None</td>\n",
       "      <td>None</td>\n",
       "      <td>LSU</td>\n",
       "      <td>34</td>\n",
       "      <td>2024</td>\n",
       "      <td>None</td>\n",
       "      <td>None</td>\n",
       "      <td>None</td>\n",
       "      <td>None</td>\n",
       "      <td>28977</td>\n",
       "    </tr>\n",
       "    <tr>\n",
       "      <th>3</th>\n",
       "      <td>32453</td>\n",
       "      <td>Amari</td>\n",
       "      <td>Drayton</td>\n",
       "      <td>9.9250</td>\n",
       "      <td>None</td>\n",
       "      <td>None</td>\n",
       "      <td>9.9250</td>\n",
       "      <td>None</td>\n",
       "      <td>LSU</td>\n",
       "      <td>34</td>\n",
       "      <td>2024</td>\n",
       "      <td>None</td>\n",
       "      <td>None</td>\n",
       "      <td>None</td>\n",
       "      <td>None</td>\n",
       "      <td>28977</td>\n",
       "    </tr>\n",
       "    <tr>\n",
       "      <th>4</th>\n",
       "      <td>30953</td>\n",
       "      <td>Olivia</td>\n",
       "      <td>Dunne</td>\n",
       "      <td>None</td>\n",
       "      <td>None</td>\n",
       "      <td>None</td>\n",
       "      <td>9.8750</td>\n",
       "      <td>None</td>\n",
       "      <td>LSU</td>\n",
       "      <td>34</td>\n",
       "      <td>2024</td>\n",
       "      <td>None</td>\n",
       "      <td>None</td>\n",
       "      <td>None</td>\n",
       "      <td>None</td>\n",
       "      <td>28977</td>\n",
       "    </tr>\n",
       "  </tbody>\n",
       "</table>\n",
       "</div>"
      ],
      "text/plain": [
       "     gid first_name last_name   vault    bars    beam   floor all_around  \\\n",
       "0  30950     Sierra   Ballard    None    None  9.2000  9.9000       None   \n",
       "1  30952    Haleigh    Bryant  9.9500  9.8750  9.9250  9.9250    39.6750   \n",
       "2  31947     Ashley     Cowan    None  9.8000    None    None       None   \n",
       "3  32453      Amari   Drayton  9.9250    None    None  9.9250       None   \n",
       "4  30953     Olivia     Dunne    None    None    None  9.8750       None   \n",
       "\n",
       "  team_name team_id    yr vt_url ub_url bb_url fx_url meet_id  \n",
       "0       LSU      34  2024   None   None   None   None   28977  \n",
       "1       LSU      34  2024   None   None   None   None   28977  \n",
       "2       LSU      34  2024   None   None   None   None   28977  \n",
       "3       LSU      34  2024   None   None   None   None   28977  \n",
       "4       LSU      34  2024   None   None   None   None   28977  "
      ]
     },
     "execution_count": 188,
     "metadata": {},
     "output_type": "execute_result"
    }
   ],
   "source": [
    "# Preview the gymnast_data_df\n",
    "gymnasts_data_df = pd.read_pickle('../data/raw/dirty_dfs/gymnasts_data_df.pkl')\n",
    "# TODO: Remove the above line once we're finished cleaning the data\n",
    "gymnasts_data_df.head()"
   ]
  },
  {
   "cell_type": "markdown",
   "metadata": {},
   "source": [
    "Again, this should be fairly simple to clean:\n",
    "1. Remove unwanted columns\n",
    "2. Rename columns\n",
    "3. Remove duplicates\n",
    "4. Retype columns as necessary\n",
    "\n",
    "### 4.1.1 Remove unwanted columns"
   ]
  },
  {
   "cell_type": "code",
   "execution_count": 189,
   "metadata": {},
   "outputs": [
    {
     "data": {
      "text/html": [
       "<div>\n",
       "<style scoped>\n",
       "    .dataframe tbody tr th:only-of-type {\n",
       "        vertical-align: middle;\n",
       "    }\n",
       "\n",
       "    .dataframe tbody tr th {\n",
       "        vertical-align: top;\n",
       "    }\n",
       "\n",
       "    .dataframe thead th {\n",
       "        text-align: right;\n",
       "    }\n",
       "</style>\n",
       "<table border=\"1\" class=\"dataframe\">\n",
       "  <thead>\n",
       "    <tr style=\"text-align: right;\">\n",
       "      <th></th>\n",
       "      <th>gid</th>\n",
       "      <th>first_name</th>\n",
       "      <th>last_name</th>\n",
       "      <th>team_id</th>\n",
       "    </tr>\n",
       "  </thead>\n",
       "  <tbody>\n",
       "    <tr>\n",
       "      <th>0</th>\n",
       "      <td>30950</td>\n",
       "      <td>Sierra</td>\n",
       "      <td>Ballard</td>\n",
       "      <td>34</td>\n",
       "    </tr>\n",
       "    <tr>\n",
       "      <th>1</th>\n",
       "      <td>30952</td>\n",
       "      <td>Haleigh</td>\n",
       "      <td>Bryant</td>\n",
       "      <td>34</td>\n",
       "    </tr>\n",
       "    <tr>\n",
       "      <th>2</th>\n",
       "      <td>31947</td>\n",
       "      <td>Ashley</td>\n",
       "      <td>Cowan</td>\n",
       "      <td>34</td>\n",
       "    </tr>\n",
       "    <tr>\n",
       "      <th>3</th>\n",
       "      <td>32453</td>\n",
       "      <td>Amari</td>\n",
       "      <td>Drayton</td>\n",
       "      <td>34</td>\n",
       "    </tr>\n",
       "    <tr>\n",
       "      <th>4</th>\n",
       "      <td>30953</td>\n",
       "      <td>Olivia</td>\n",
       "      <td>Dunne</td>\n",
       "      <td>34</td>\n",
       "    </tr>\n",
       "  </tbody>\n",
       "</table>\n",
       "</div>"
      ],
      "text/plain": [
       "     gid first_name last_name team_id\n",
       "0  30950     Sierra   Ballard      34\n",
       "1  30952    Haleigh    Bryant      34\n",
       "2  31947     Ashley     Cowan      34\n",
       "3  32453      Amari   Drayton      34\n",
       "4  30953     Olivia     Dunne      34"
      ]
     },
     "execution_count": 189,
     "metadata": {},
     "output_type": "execute_result"
    }
   ],
   "source": [
    "# Remove unwanted columns from the gymnasts_data_df\n",
    "gymnasts_data_df.drop(columns=['vault', 'bars', 'beam', 'floor', 'all_around', 'team_name', 'yr', 'vt_url', 'ub_url', 'bb_url', 'fx_url', 'meet_id'], inplace=True)\n",
    "\n",
    "# Preview the gymnasts_data_df\n",
    "gymnasts_data_df.head()"
   ]
  },
  {
   "cell_type": "markdown",
   "metadata": {},
   "source": [
    "### 4.1.2 Rename columns"
   ]
  },
  {
   "cell_type": "code",
   "execution_count": 190,
   "metadata": {},
   "outputs": [
    {
     "data": {
      "text/html": [
       "<div>\n",
       "<style scoped>\n",
       "    .dataframe tbody tr th:only-of-type {\n",
       "        vertical-align: middle;\n",
       "    }\n",
       "\n",
       "    .dataframe tbody tr th {\n",
       "        vertical-align: top;\n",
       "    }\n",
       "\n",
       "    .dataframe thead th {\n",
       "        text-align: right;\n",
       "    }\n",
       "</style>\n",
       "<table border=\"1\" class=\"dataframe\">\n",
       "  <thead>\n",
       "    <tr style=\"text-align: right;\">\n",
       "      <th></th>\n",
       "      <th>gymnast_id</th>\n",
       "      <th>first_name</th>\n",
       "      <th>last_name</th>\n",
       "      <th>team_id</th>\n",
       "    </tr>\n",
       "  </thead>\n",
       "  <tbody>\n",
       "    <tr>\n",
       "      <th>0</th>\n",
       "      <td>30950</td>\n",
       "      <td>Sierra</td>\n",
       "      <td>Ballard</td>\n",
       "      <td>34</td>\n",
       "    </tr>\n",
       "    <tr>\n",
       "      <th>1</th>\n",
       "      <td>30952</td>\n",
       "      <td>Haleigh</td>\n",
       "      <td>Bryant</td>\n",
       "      <td>34</td>\n",
       "    </tr>\n",
       "    <tr>\n",
       "      <th>2</th>\n",
       "      <td>31947</td>\n",
       "      <td>Ashley</td>\n",
       "      <td>Cowan</td>\n",
       "      <td>34</td>\n",
       "    </tr>\n",
       "    <tr>\n",
       "      <th>3</th>\n",
       "      <td>32453</td>\n",
       "      <td>Amari</td>\n",
       "      <td>Drayton</td>\n",
       "      <td>34</td>\n",
       "    </tr>\n",
       "    <tr>\n",
       "      <th>4</th>\n",
       "      <td>30953</td>\n",
       "      <td>Olivia</td>\n",
       "      <td>Dunne</td>\n",
       "      <td>34</td>\n",
       "    </tr>\n",
       "  </tbody>\n",
       "</table>\n",
       "</div>"
      ],
      "text/plain": [
       "  gymnast_id first_name last_name team_id\n",
       "0      30950     Sierra   Ballard      34\n",
       "1      30952    Haleigh    Bryant      34\n",
       "2      31947     Ashley     Cowan      34\n",
       "3      32453      Amari   Drayton      34\n",
       "4      30953     Olivia     Dunne      34"
      ]
     },
     "execution_count": 190,
     "metadata": {},
     "output_type": "execute_result"
    }
   ],
   "source": [
    "# Rename the columns\n",
    "gymnasts_data_df.rename(columns={'gid': 'gymnast_id'}, inplace=True)\n",
    "\n",
    "# Preview the gymnasts_data_df\n",
    "gymnasts_data_df.head()"
   ]
  },
  {
   "cell_type": "markdown",
   "metadata": {},
   "source": [
    "### 4.1.3 Remove duplicates"
   ]
  },
  {
   "cell_type": "code",
   "execution_count": 191,
   "metadata": {},
   "outputs": [
    {
     "data": {
      "text/plain": [
       "(4825, 4)"
      ]
     },
     "execution_count": 191,
     "metadata": {},
     "output_type": "execute_result"
    }
   ],
   "source": [
    "# Remove duplicates (by gymnast_id)\n",
    "gymnasts_data_df.drop_duplicates(subset=['gymnast_id'], inplace=True)\n",
    "\n",
    "# Preview the gymnasts_data_df\n",
    "gymnasts_data_df.shape"
   ]
  },
  {
   "cell_type": "markdown",
   "metadata": {},
   "source": [
    "### 4.1.4 Retype columns"
   ]
  },
  {
   "cell_type": "code",
   "execution_count": 192,
   "metadata": {},
   "outputs": [
    {
     "data": {
      "text/plain": [
       "gymnast_id    object\n",
       "first_name    object\n",
       "last_name     object\n",
       "team_id       object\n",
       "dtype: object"
      ]
     },
     "execution_count": 192,
     "metadata": {},
     "output_type": "execute_result"
    }
   ],
   "source": [
    "# Check the data types\n",
    "gymnasts_data_df.dtypes"
   ]
  },
  {
   "cell_type": "code",
   "execution_count": 193,
   "metadata": {},
   "outputs": [
    {
     "data": {
      "text/html": [
       "<div>\n",
       "<style scoped>\n",
       "    .dataframe tbody tr th:only-of-type {\n",
       "        vertical-align: middle;\n",
       "    }\n",
       "\n",
       "    .dataframe tbody tr th {\n",
       "        vertical-align: top;\n",
       "    }\n",
       "\n",
       "    .dataframe thead th {\n",
       "        text-align: right;\n",
       "    }\n",
       "</style>\n",
       "<table border=\"1\" class=\"dataframe\">\n",
       "  <thead>\n",
       "    <tr style=\"text-align: right;\">\n",
       "      <th></th>\n",
       "      <th>gymnast_id</th>\n",
       "      <th>first_name</th>\n",
       "      <th>last_name</th>\n",
       "      <th>team_id</th>\n",
       "    </tr>\n",
       "  </thead>\n",
       "  <tbody>\n",
       "  </tbody>\n",
       "</table>\n",
       "</div>"
      ],
      "text/plain": [
       "Empty DataFrame\n",
       "Columns: [gymnast_id, first_name, last_name, team_id]\n",
       "Index: []"
      ]
     },
     "execution_count": 193,
     "metadata": {},
     "output_type": "execute_result"
    }
   ],
   "source": [
    "# Check for any NA values\n",
    "gymnasts_data_df[gymnasts_data_df.isna().any(axis=1)]\n",
    "\n",
    "# None, woohoo!"
   ]
  },
  {
   "cell_type": "code",
   "execution_count": 196,
   "metadata": {},
   "outputs": [
    {
     "data": {
      "text/plain": [
       "gymnast_id     int64\n",
       "first_name    object\n",
       "last_name     object\n",
       "team_id        int64\n",
       "dtype: object"
      ]
     },
     "execution_count": 196,
     "metadata": {},
     "output_type": "execute_result"
    }
   ],
   "source": [
    "# Retype gymnast_id and team_id columns\n",
    "gymnasts_data_df['gymnast_id'] = gymnasts_data_df['gymnast_id'].astype(int)\n",
    "gymnasts_data_df['team_id'] = gymnasts_data_df['team_id'].astype(int)\n",
    "\n",
    "# Verify the data types\n",
    "gymnasts_data_df.dtypes"
   ]
  },
  {
   "cell_type": "markdown",
   "metadata": {},
   "source": [
    "## 4.2 Creating a `gymnasts` table for the `gymternet` database. \n",
    "\n",
    "You know the drill - I'll set up the table structure before importing the data from the DataFrame."
   ]
  },
  {
   "cell_type": "code",
   "execution_count": 197,
   "metadata": {
    "vscode": {
     "languageId": "sql"
    }
   },
   "outputs": [
    {
     "data": {
      "text/html": [
       "<span style=\"None\">Running query in &#x27;gymternet&#x27;</span>"
      ],
      "text/plain": [
       "Running query in 'gymternet'"
      ]
     },
     "metadata": {},
     "output_type": "display_data"
    },
    {
     "data": {
      "text/html": [
       "<table>\n",
       "    <thead>\n",
       "        <tr>\n",
       "        </tr>\n",
       "    </thead>\n",
       "    <tbody>\n",
       "    </tbody>\n",
       "</table>"
      ],
      "text/plain": [
       "++\n",
       "||\n",
       "++\n",
       "++"
      ]
     },
     "execution_count": 197,
     "metadata": {},
     "output_type": "execute_result"
    }
   ],
   "source": [
    "%%sql --alias gymternet\n",
    "\n",
    "DROP TABLE IF EXISTS gymnasts;\n",
    "\n",
    "CREATE TABLE gymnasts (\n",
    "    gymnast_id INT NOT NULL PRIMARY KEY,\n",
    "    team_id TINYINT NOT NULL,\n",
    "    first_name TINYTEXT NOT NULL,\n",
    "    last_name TINYTEXT NOT NULL,\n",
    "    FOREIGN KEY (team_id) REFERENCES teams (team_id)\n",
    ");"
   ]
  },
  {
   "cell_type": "code",
   "execution_count": 198,
   "metadata": {},
   "outputs": [
    {
     "data": {
      "text/plain": [
       "4825"
      ]
     },
     "execution_count": 198,
     "metadata": {},
     "output_type": "execute_result"
    }
   ],
   "source": [
    "# Importing the data from the gynmnasts_data_df into the SQL database\n",
    "gymnasts_data_df.to_sql('gymnasts', con=engine, if_exists='append', index=False)"
   ]
  },
  {
   "cell_type": "markdown",
   "metadata": {},
   "source": [
    "# 5 Clean up `gymnast_results_data_df` and create `gymnast_results` table\n",
    "\n",
    "What I want in this table in my database is:\n",
    "\n",
    "| **meet_id** | **gymnast_id** | **vt_score** | **ub_score** | **bb_score** | **fx_score** | **aa_score** |\n",
    "|-------------|----------------|--------------|--------------|--------------|--------------|--------------|\n",
    "| 17903       | 22437          | 9.4750       | NULL         | 9.575        | NULL         | NULL         |\n",
    "| 17903       | 22435          | 9.6250       | 9.7000       | 9.675        | 9.7000       | 38.7000      |\n",
    "\n",
    "etc.\n",
    "\n",
    "The combination of the `gymnast_id` and `meet_id` columns should act as the primary key, and the `meet_id` column should be a foreign key, connecting to the `meets` table.\n",
    "\n",
    "## 5.1 Cleaning `gymnast_results_data_df`"
   ]
  }
 ],
 "metadata": {
  "kernelspec": {
   "display_name": "base",
   "language": "python",
   "name": "python3"
  },
  "language_info": {
   "codemirror_mode": {
    "name": "ipython",
    "version": 3
   },
   "file_extension": ".py",
   "mimetype": "text/x-python",
   "name": "python",
   "nbconvert_exporter": "python",
   "pygments_lexer": "ipython3",
   "version": "3.12.4"
  }
 },
 "nbformat": 4,
 "nbformat_minor": 2
}
